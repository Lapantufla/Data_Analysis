{
  "nbformat": 4,
  "nbformat_minor": 0,
  "metadata": {
    "colab": {
      "provenance": [],
      "collapsed_sections": [
        "HkTR113LQq-g",
        "RfOHBoVPdLPn",
        "2jfJVDXgZ4LT",
        "9e2C-rCP2gTP",
        "ZW3bZ_Od6u4s",
        "g1O_hQBY70ee",
        "UsTYsaiW14tW"
      ]
    },
    "kernelspec": {
      "name": "python3",
      "display_name": "Python 3"
    },
    "language_info": {
      "name": "python"
    }
  },
  "cells": [
    {
      "cell_type": "markdown",
      "source": [
        "<h3>Contenidos:<h3/>\n",
        "\n",
        "* [Imporatcion librerías y df](#librerias-df)\n",
        "* [Visualización](#visualizacion)\n",
        "  * [Primeras estadisticas](#visualizacion-primeras)\n",
        "  * [Histogramas](#visualizacion-hist)\n",
        "  * [Graficos de Barras](#visualizacion-barras)\n",
        "* [Feature Engineering & Feature Selection](#fe&fs)\n",
        "  * [Discretizacion](#fe&fs-disc)\n",
        "  * [Tratamiento variables categoricas](#fe&fs-catvars)\n",
        "    * [Tratamiento de nans](#fe&fs-catvars-nans)\n",
        "    * [Encoding](#fe&fs-catvars-encoding)\n",
        "    * [Encoding Performance](#fe&fs-catvars-encoding-performance)\n",
        "  * [Feature Selection](#fe&fs-fs)\n",
        "    * [Features constantes](#fe&fs-fs-fc)\n",
        "    * [Features correlacionados](#fe&fs-fs-fcorr)\n",
        "    * [Chi-cuadrado](#fe&fs-fs-chi)\n",
        "    * [Mutual Information](#fe&fs-fs-mi)\n",
        "    * [Feature Importance](#fe&fs-fs-importance)\n",
        "* [Model performance](#model-performance)"
      ],
      "metadata": {
        "id": "FrsyXAfOKovA"
      }
    },
    {
      "cell_type": "markdown",
      "source": [
        "<a name=\"librerias-df\"></a>\n",
        "# Importación de librerías y dataframe."
      ],
      "metadata": {
        "id": "HkTR113LQq-g"
      }
    },
    {
      "cell_type": "code",
      "execution_count": null,
      "metadata": {
        "id": "_98HMQdSGlpG"
      },
      "outputs": [],
      "source": [
        "import numpy as np\n",
        "import pandas as pd\n",
        "import seaborn as sns\n",
        "import matplotlib.pyplot as plt\n",
        "from sklearn.model_selection import train_test_split\n",
        "from sklearn.ensemble import GradientBoostingClassifier, RandomForestClassifier\n",
        "from sklearn.linear_model import LogisticRegression\n",
        "from sklearn.feature_selection import mutual_info_classif, SelectFromModel\n",
        "from sklearn.preprocessing import StandardScaler, OneHotEncoder\n",
        "from sklearn.metrics import confusion_matrix, classification_report, accuracy_score, roc_auc_score\n",
        "from scipy.stats import chi2_contingency"
      ]
    },
    {
      "cell_type": "code",
      "source": [
        "# cargo desde el disco el dataframe\n",
        "from google.colab import files\n",
        "uploaded = files.upload()"
      ],
      "metadata": {
        "colab": {
          "base_uri": "https://localhost:8080/",
          "height": 73
        },
        "id": "n8tfOjVFHbNm",
        "outputId": "8eaaf4fd-9d05-407f-a413-2a531445f6c0"
      },
      "execution_count": null,
      "outputs": [
        {
          "output_type": "display_data",
          "data": {
            "text/plain": [
              "<IPython.core.display.HTML object>"
            ],
            "text/html": [
              "\n",
              "     <input type=\"file\" id=\"files-cff9d85d-23fb-4325-ad62-a5bc14a06c83\" name=\"files[]\" multiple disabled\n",
              "        style=\"border:none\" />\n",
              "     <output id=\"result-cff9d85d-23fb-4325-ad62-a5bc14a06c83\">\n",
              "      Upload widget is only available when the cell has been executed in the\n",
              "      current browser session. Please rerun this cell to enable.\n",
              "      </output>\n",
              "      <script>// Copyright 2017 Google LLC\n",
              "//\n",
              "// Licensed under the Apache License, Version 2.0 (the \"License\");\n",
              "// you may not use this file except in compliance with the License.\n",
              "// You may obtain a copy of the License at\n",
              "//\n",
              "//      http://www.apache.org/licenses/LICENSE-2.0\n",
              "//\n",
              "// Unless required by applicable law or agreed to in writing, software\n",
              "// distributed under the License is distributed on an \"AS IS\" BASIS,\n",
              "// WITHOUT WARRANTIES OR CONDITIONS OF ANY KIND, either express or implied.\n",
              "// See the License for the specific language governing permissions and\n",
              "// limitations under the License.\n",
              "\n",
              "/**\n",
              " * @fileoverview Helpers for google.colab Python module.\n",
              " */\n",
              "(function(scope) {\n",
              "function span(text, styleAttributes = {}) {\n",
              "  const element = document.createElement('span');\n",
              "  element.textContent = text;\n",
              "  for (const key of Object.keys(styleAttributes)) {\n",
              "    element.style[key] = styleAttributes[key];\n",
              "  }\n",
              "  return element;\n",
              "}\n",
              "\n",
              "// Max number of bytes which will be uploaded at a time.\n",
              "const MAX_PAYLOAD_SIZE = 100 * 1024;\n",
              "\n",
              "function _uploadFiles(inputId, outputId) {\n",
              "  const steps = uploadFilesStep(inputId, outputId);\n",
              "  const outputElement = document.getElementById(outputId);\n",
              "  // Cache steps on the outputElement to make it available for the next call\n",
              "  // to uploadFilesContinue from Python.\n",
              "  outputElement.steps = steps;\n",
              "\n",
              "  return _uploadFilesContinue(outputId);\n",
              "}\n",
              "\n",
              "// This is roughly an async generator (not supported in the browser yet),\n",
              "// where there are multiple asynchronous steps and the Python side is going\n",
              "// to poll for completion of each step.\n",
              "// This uses a Promise to block the python side on completion of each step,\n",
              "// then passes the result of the previous step as the input to the next step.\n",
              "function _uploadFilesContinue(outputId) {\n",
              "  const outputElement = document.getElementById(outputId);\n",
              "  const steps = outputElement.steps;\n",
              "\n",
              "  const next = steps.next(outputElement.lastPromiseValue);\n",
              "  return Promise.resolve(next.value.promise).then((value) => {\n",
              "    // Cache the last promise value to make it available to the next\n",
              "    // step of the generator.\n",
              "    outputElement.lastPromiseValue = value;\n",
              "    return next.value.response;\n",
              "  });\n",
              "}\n",
              "\n",
              "/**\n",
              " * Generator function which is called between each async step of the upload\n",
              " * process.\n",
              " * @param {string} inputId Element ID of the input file picker element.\n",
              " * @param {string} outputId Element ID of the output display.\n",
              " * @return {!Iterable<!Object>} Iterable of next steps.\n",
              " */\n",
              "function* uploadFilesStep(inputId, outputId) {\n",
              "  const inputElement = document.getElementById(inputId);\n",
              "  inputElement.disabled = false;\n",
              "\n",
              "  const outputElement = document.getElementById(outputId);\n",
              "  outputElement.innerHTML = '';\n",
              "\n",
              "  const pickedPromise = new Promise((resolve) => {\n",
              "    inputElement.addEventListener('change', (e) => {\n",
              "      resolve(e.target.files);\n",
              "    });\n",
              "  });\n",
              "\n",
              "  const cancel = document.createElement('button');\n",
              "  inputElement.parentElement.appendChild(cancel);\n",
              "  cancel.textContent = 'Cancel upload';\n",
              "  const cancelPromise = new Promise((resolve) => {\n",
              "    cancel.onclick = () => {\n",
              "      resolve(null);\n",
              "    };\n",
              "  });\n",
              "\n",
              "  // Wait for the user to pick the files.\n",
              "  const files = yield {\n",
              "    promise: Promise.race([pickedPromise, cancelPromise]),\n",
              "    response: {\n",
              "      action: 'starting',\n",
              "    }\n",
              "  };\n",
              "\n",
              "  cancel.remove();\n",
              "\n",
              "  // Disable the input element since further picks are not allowed.\n",
              "  inputElement.disabled = true;\n",
              "\n",
              "  if (!files) {\n",
              "    return {\n",
              "      response: {\n",
              "        action: 'complete',\n",
              "      }\n",
              "    };\n",
              "  }\n",
              "\n",
              "  for (const file of files) {\n",
              "    const li = document.createElement('li');\n",
              "    li.append(span(file.name, {fontWeight: 'bold'}));\n",
              "    li.append(span(\n",
              "        `(${file.type || 'n/a'}) - ${file.size} bytes, ` +\n",
              "        `last modified: ${\n",
              "            file.lastModifiedDate ? file.lastModifiedDate.toLocaleDateString() :\n",
              "                                    'n/a'} - `));\n",
              "    const percent = span('0% done');\n",
              "    li.appendChild(percent);\n",
              "\n",
              "    outputElement.appendChild(li);\n",
              "\n",
              "    const fileDataPromise = new Promise((resolve) => {\n",
              "      const reader = new FileReader();\n",
              "      reader.onload = (e) => {\n",
              "        resolve(e.target.result);\n",
              "      };\n",
              "      reader.readAsArrayBuffer(file);\n",
              "    });\n",
              "    // Wait for the data to be ready.\n",
              "    let fileData = yield {\n",
              "      promise: fileDataPromise,\n",
              "      response: {\n",
              "        action: 'continue',\n",
              "      }\n",
              "    };\n",
              "\n",
              "    // Use a chunked sending to avoid message size limits. See b/62115660.\n",
              "    let position = 0;\n",
              "    do {\n",
              "      const length = Math.min(fileData.byteLength - position, MAX_PAYLOAD_SIZE);\n",
              "      const chunk = new Uint8Array(fileData, position, length);\n",
              "      position += length;\n",
              "\n",
              "      const base64 = btoa(String.fromCharCode.apply(null, chunk));\n",
              "      yield {\n",
              "        response: {\n",
              "          action: 'append',\n",
              "          file: file.name,\n",
              "          data: base64,\n",
              "        },\n",
              "      };\n",
              "\n",
              "      let percentDone = fileData.byteLength === 0 ?\n",
              "          100 :\n",
              "          Math.round((position / fileData.byteLength) * 100);\n",
              "      percent.textContent = `${percentDone}% done`;\n",
              "\n",
              "    } while (position < fileData.byteLength);\n",
              "  }\n",
              "\n",
              "  // All done.\n",
              "  yield {\n",
              "    response: {\n",
              "      action: 'complete',\n",
              "    }\n",
              "  };\n",
              "}\n",
              "\n",
              "scope.google = scope.google || {};\n",
              "scope.google.colab = scope.google.colab || {};\n",
              "scope.google.colab._files = {\n",
              "  _uploadFiles,\n",
              "  _uploadFilesContinue,\n",
              "};\n",
              "})(self);\n",
              "</script> "
            ]
          },
          "metadata": {}
        },
        {
          "output_type": "stream",
          "name": "stdout",
          "text": [
            "Saving bank-additional-full (1).csv to bank-additional-full (1).csv\n"
          ]
        }
      ]
    },
    {
      "cell_type": "code",
      "source": [
        "# creo el obj dataframe con pandas\n",
        "df = pd.read_csv(\"bank-additional-full (1).csv\", delimiter=';')\n",
        "\n",
        "# muestro las primas filas del df\n",
        "df.head()"
      ],
      "metadata": {
        "colab": {
          "base_uri": "https://localhost:8080/",
          "height": 300
        },
        "id": "dCijpjHoG8re",
        "outputId": "77b0a0e3-7732-403f-affd-5272c9cee7c6"
      },
      "execution_count": null,
      "outputs": [
        {
          "output_type": "execute_result",
          "data": {
            "text/plain": [
              "   age        job  marital    education  default housing loan    contact  \\\n",
              "0   56  housemaid  married     basic.4y       no      no   no  telephone   \n",
              "1   57   services  married  high.school  unknown      no   no  telephone   \n",
              "2   37   services  married  high.school       no     yes   no  telephone   \n",
              "3   40     admin.  married     basic.6y       no      no   no  telephone   \n",
              "4   56   services  married  high.school       no      no  yes  telephone   \n",
              "\n",
              "  month day_of_week  ...  campaign  pdays  previous     poutcome emp.var.rate  \\\n",
              "0   may         mon  ...         1    999         0  nonexistent          1.1   \n",
              "1   may         mon  ...         1    999         0  nonexistent          1.1   \n",
              "2   may         mon  ...         1    999         0  nonexistent          1.1   \n",
              "3   may         mon  ...         1    999         0  nonexistent          1.1   \n",
              "4   may         mon  ...         1    999         0  nonexistent          1.1   \n",
              "\n",
              "   cons.price.idx  cons.conf.idx  euribor3m  nr.employed   y  \n",
              "0          93.994          -36.4      4.857       5191.0  no  \n",
              "1          93.994          -36.4      4.857       5191.0  no  \n",
              "2          93.994          -36.4      4.857       5191.0  no  \n",
              "3          93.994          -36.4      4.857       5191.0  no  \n",
              "4          93.994          -36.4      4.857       5191.0  no  \n",
              "\n",
              "[5 rows x 21 columns]"
            ],
            "text/html": [
              "\n",
              "  <div id=\"df-9ef787e3-2a98-4c1a-8251-06732af7ac8f\">\n",
              "    <div class=\"colab-df-container\">\n",
              "      <div>\n",
              "<style scoped>\n",
              "    .dataframe tbody tr th:only-of-type {\n",
              "        vertical-align: middle;\n",
              "    }\n",
              "\n",
              "    .dataframe tbody tr th {\n",
              "        vertical-align: top;\n",
              "    }\n",
              "\n",
              "    .dataframe thead th {\n",
              "        text-align: right;\n",
              "    }\n",
              "</style>\n",
              "<table border=\"1\" class=\"dataframe\">\n",
              "  <thead>\n",
              "    <tr style=\"text-align: right;\">\n",
              "      <th></th>\n",
              "      <th>age</th>\n",
              "      <th>job</th>\n",
              "      <th>marital</th>\n",
              "      <th>education</th>\n",
              "      <th>default</th>\n",
              "      <th>housing</th>\n",
              "      <th>loan</th>\n",
              "      <th>contact</th>\n",
              "      <th>month</th>\n",
              "      <th>day_of_week</th>\n",
              "      <th>...</th>\n",
              "      <th>campaign</th>\n",
              "      <th>pdays</th>\n",
              "      <th>previous</th>\n",
              "      <th>poutcome</th>\n",
              "      <th>emp.var.rate</th>\n",
              "      <th>cons.price.idx</th>\n",
              "      <th>cons.conf.idx</th>\n",
              "      <th>euribor3m</th>\n",
              "      <th>nr.employed</th>\n",
              "      <th>y</th>\n",
              "    </tr>\n",
              "  </thead>\n",
              "  <tbody>\n",
              "    <tr>\n",
              "      <th>0</th>\n",
              "      <td>56</td>\n",
              "      <td>housemaid</td>\n",
              "      <td>married</td>\n",
              "      <td>basic.4y</td>\n",
              "      <td>no</td>\n",
              "      <td>no</td>\n",
              "      <td>no</td>\n",
              "      <td>telephone</td>\n",
              "      <td>may</td>\n",
              "      <td>mon</td>\n",
              "      <td>...</td>\n",
              "      <td>1</td>\n",
              "      <td>999</td>\n",
              "      <td>0</td>\n",
              "      <td>nonexistent</td>\n",
              "      <td>1.1</td>\n",
              "      <td>93.994</td>\n",
              "      <td>-36.4</td>\n",
              "      <td>4.857</td>\n",
              "      <td>5191.0</td>\n",
              "      <td>no</td>\n",
              "    </tr>\n",
              "    <tr>\n",
              "      <th>1</th>\n",
              "      <td>57</td>\n",
              "      <td>services</td>\n",
              "      <td>married</td>\n",
              "      <td>high.school</td>\n",
              "      <td>unknown</td>\n",
              "      <td>no</td>\n",
              "      <td>no</td>\n",
              "      <td>telephone</td>\n",
              "      <td>may</td>\n",
              "      <td>mon</td>\n",
              "      <td>...</td>\n",
              "      <td>1</td>\n",
              "      <td>999</td>\n",
              "      <td>0</td>\n",
              "      <td>nonexistent</td>\n",
              "      <td>1.1</td>\n",
              "      <td>93.994</td>\n",
              "      <td>-36.4</td>\n",
              "      <td>4.857</td>\n",
              "      <td>5191.0</td>\n",
              "      <td>no</td>\n",
              "    </tr>\n",
              "    <tr>\n",
              "      <th>2</th>\n",
              "      <td>37</td>\n",
              "      <td>services</td>\n",
              "      <td>married</td>\n",
              "      <td>high.school</td>\n",
              "      <td>no</td>\n",
              "      <td>yes</td>\n",
              "      <td>no</td>\n",
              "      <td>telephone</td>\n",
              "      <td>may</td>\n",
              "      <td>mon</td>\n",
              "      <td>...</td>\n",
              "      <td>1</td>\n",
              "      <td>999</td>\n",
              "      <td>0</td>\n",
              "      <td>nonexistent</td>\n",
              "      <td>1.1</td>\n",
              "      <td>93.994</td>\n",
              "      <td>-36.4</td>\n",
              "      <td>4.857</td>\n",
              "      <td>5191.0</td>\n",
              "      <td>no</td>\n",
              "    </tr>\n",
              "    <tr>\n",
              "      <th>3</th>\n",
              "      <td>40</td>\n",
              "      <td>admin.</td>\n",
              "      <td>married</td>\n",
              "      <td>basic.6y</td>\n",
              "      <td>no</td>\n",
              "      <td>no</td>\n",
              "      <td>no</td>\n",
              "      <td>telephone</td>\n",
              "      <td>may</td>\n",
              "      <td>mon</td>\n",
              "      <td>...</td>\n",
              "      <td>1</td>\n",
              "      <td>999</td>\n",
              "      <td>0</td>\n",
              "      <td>nonexistent</td>\n",
              "      <td>1.1</td>\n",
              "      <td>93.994</td>\n",
              "      <td>-36.4</td>\n",
              "      <td>4.857</td>\n",
              "      <td>5191.0</td>\n",
              "      <td>no</td>\n",
              "    </tr>\n",
              "    <tr>\n",
              "      <th>4</th>\n",
              "      <td>56</td>\n",
              "      <td>services</td>\n",
              "      <td>married</td>\n",
              "      <td>high.school</td>\n",
              "      <td>no</td>\n",
              "      <td>no</td>\n",
              "      <td>yes</td>\n",
              "      <td>telephone</td>\n",
              "      <td>may</td>\n",
              "      <td>mon</td>\n",
              "      <td>...</td>\n",
              "      <td>1</td>\n",
              "      <td>999</td>\n",
              "      <td>0</td>\n",
              "      <td>nonexistent</td>\n",
              "      <td>1.1</td>\n",
              "      <td>93.994</td>\n",
              "      <td>-36.4</td>\n",
              "      <td>4.857</td>\n",
              "      <td>5191.0</td>\n",
              "      <td>no</td>\n",
              "    </tr>\n",
              "  </tbody>\n",
              "</table>\n",
              "<p>5 rows × 21 columns</p>\n",
              "</div>\n",
              "      <button class=\"colab-df-convert\" onclick=\"convertToInteractive('df-9ef787e3-2a98-4c1a-8251-06732af7ac8f')\"\n",
              "              title=\"Convert this dataframe to an interactive table.\"\n",
              "              style=\"display:none;\">\n",
              "        \n",
              "  <svg xmlns=\"http://www.w3.org/2000/svg\" height=\"24px\"viewBox=\"0 0 24 24\"\n",
              "       width=\"24px\">\n",
              "    <path d=\"M0 0h24v24H0V0z\" fill=\"none\"/>\n",
              "    <path d=\"M18.56 5.44l.94 2.06.94-2.06 2.06-.94-2.06-.94-.94-2.06-.94 2.06-2.06.94zm-11 1L8.5 8.5l.94-2.06 2.06-.94-2.06-.94L8.5 2.5l-.94 2.06-2.06.94zm10 10l.94 2.06.94-2.06 2.06-.94-2.06-.94-.94-2.06-.94 2.06-2.06.94z\"/><path d=\"M17.41 7.96l-1.37-1.37c-.4-.4-.92-.59-1.43-.59-.52 0-1.04.2-1.43.59L10.3 9.45l-7.72 7.72c-.78.78-.78 2.05 0 2.83L4 21.41c.39.39.9.59 1.41.59.51 0 1.02-.2 1.41-.59l7.78-7.78 2.81-2.81c.8-.78.8-2.07 0-2.86zM5.41 20L4 18.59l7.72-7.72 1.47 1.35L5.41 20z\"/>\n",
              "  </svg>\n",
              "      </button>\n",
              "      \n",
              "  <style>\n",
              "    .colab-df-container {\n",
              "      display:flex;\n",
              "      flex-wrap:wrap;\n",
              "      gap: 12px;\n",
              "    }\n",
              "\n",
              "    .colab-df-convert {\n",
              "      background-color: #E8F0FE;\n",
              "      border: none;\n",
              "      border-radius: 50%;\n",
              "      cursor: pointer;\n",
              "      display: none;\n",
              "      fill: #1967D2;\n",
              "      height: 32px;\n",
              "      padding: 0 0 0 0;\n",
              "      width: 32px;\n",
              "    }\n",
              "\n",
              "    .colab-df-convert:hover {\n",
              "      background-color: #E2EBFA;\n",
              "      box-shadow: 0px 1px 2px rgba(60, 64, 67, 0.3), 0px 1px 3px 1px rgba(60, 64, 67, 0.15);\n",
              "      fill: #174EA6;\n",
              "    }\n",
              "\n",
              "    [theme=dark] .colab-df-convert {\n",
              "      background-color: #3B4455;\n",
              "      fill: #D2E3FC;\n",
              "    }\n",
              "\n",
              "    [theme=dark] .colab-df-convert:hover {\n",
              "      background-color: #434B5C;\n",
              "      box-shadow: 0px 1px 3px 1px rgba(0, 0, 0, 0.15);\n",
              "      filter: drop-shadow(0px 1px 2px rgba(0, 0, 0, 0.3));\n",
              "      fill: #FFFFFF;\n",
              "    }\n",
              "  </style>\n",
              "\n",
              "      <script>\n",
              "        const buttonEl =\n",
              "          document.querySelector('#df-9ef787e3-2a98-4c1a-8251-06732af7ac8f button.colab-df-convert');\n",
              "        buttonEl.style.display =\n",
              "          google.colab.kernel.accessAllowed ? 'block' : 'none';\n",
              "\n",
              "        async function convertToInteractive(key) {\n",
              "          const element = document.querySelector('#df-9ef787e3-2a98-4c1a-8251-06732af7ac8f');\n",
              "          const dataTable =\n",
              "            await google.colab.kernel.invokeFunction('convertToInteractive',\n",
              "                                                     [key], {});\n",
              "          if (!dataTable) return;\n",
              "\n",
              "          const docLinkHtml = 'Like what you see? Visit the ' +\n",
              "            '<a target=\"_blank\" href=https://colab.research.google.com/notebooks/data_table.ipynb>data table notebook</a>'\n",
              "            + ' to learn more about interactive tables.';\n",
              "          element.innerHTML = '';\n",
              "          dataTable['output_type'] = 'display_data';\n",
              "          await google.colab.output.renderOutput(dataTable, element);\n",
              "          const docLink = document.createElement('div');\n",
              "          docLink.innerHTML = docLinkHtml;\n",
              "          element.appendChild(docLink);\n",
              "        }\n",
              "      </script>\n",
              "    </div>\n",
              "  </div>\n",
              "  "
            ]
          },
          "metadata": {},
          "execution_count": 3
        }
      ]
    },
    {
      "cell_type": "markdown",
      "source": [
        "Separo los datos en train & test set para empezar con el análisis."
      ],
      "metadata": {
        "id": "sRlxYLCivOM6"
      }
    },
    {
      "cell_type": "code",
      "source": [
        "X_train, X_test, y_train, y_test = train_test_split(df,\n",
        "                                                    df[\"y\"],\n",
        "                                                    train_size = 0.7,\n",
        "                                                    random_state= 0)\n",
        "X_train.shape, X_test.shape"
      ],
      "metadata": {
        "colab": {
          "base_uri": "https://localhost:8080/"
        },
        "id": "p0nmfsBLvJ8z",
        "outputId": "8bca931c-0eb2-4517-9dbe-2cabcc7d8a67"
      },
      "execution_count": null,
      "outputs": [
        {
          "output_type": "execute_result",
          "data": {
            "text/plain": [
              "((28831, 21), (12357, 21))"
            ]
          },
          "metadata": {},
          "execution_count": 4
        }
      ]
    },
    {
      "cell_type": "markdown",
      "source": [
        "**OBS:** podemos ver que hay un label llamado `unknown`, dicho label es un indicador de datos faltantes. Voy a reemplazar en todos los features los labels `unknown` por nans y luego trataré las variables nulas."
      ],
      "metadata": {
        "id": "zr24FqmUABnq"
      }
    },
    {
      "cell_type": "code",
      "source": [
        "X_train[\"job\"].unique()"
      ],
      "metadata": {
        "colab": {
          "base_uri": "https://localhost:8080/"
        },
        "id": "0ErogkpwABTT",
        "outputId": "83707a23-5ab1-4186-a433-75bd5b7e86cc"
      },
      "execution_count": null,
      "outputs": [
        {
          "output_type": "execute_result",
          "data": {
            "text/plain": [
              "array(['management', 'blue-collar', 'services', 'entrepreneur', 'admin.',\n",
              "       'technician', 'retired', 'unemployed', 'self-employed',\n",
              "       'housemaid', 'student', 'unknown'], dtype=object)"
            ]
          },
          "metadata": {},
          "execution_count": 5
        }
      ]
    },
    {
      "cell_type": "code",
      "source": [
        "X_train[\"education\"].unique()"
      ],
      "metadata": {
        "colab": {
          "base_uri": "https://localhost:8080/"
        },
        "id": "NQVcj4e0AGDE",
        "outputId": "3633c990-d892-4e90-a885-ef93b57254c2"
      },
      "execution_count": null,
      "outputs": [
        {
          "output_type": "execute_result",
          "data": {
            "text/plain": [
              "array(['university.degree', 'basic.9y', 'professional.course',\n",
              "       'high.school', 'basic.4y', 'basic.6y', 'unknown', 'illiterate'],\n",
              "      dtype=object)"
            ]
          },
          "metadata": {},
          "execution_count": 6
        }
      ]
    },
    {
      "cell_type": "code",
      "source": [
        "X_train.replace(\"unknown\", np.nan, inplace=True)\n",
        "X_test.replace(\"unknown\", np.nan, inplace=True)"
      ],
      "metadata": {
        "id": "Pv9hmD-cAI2L"
      },
      "execution_count": null,
      "outputs": []
    },
    {
      "cell_type": "markdown",
      "source": [
        "**OBS:** Solo tenemos nans en algunas variables categóricas."
      ],
      "metadata": {
        "id": "DKie5NCda7X7"
      }
    },
    {
      "cell_type": "code",
      "source": [
        "X_train.isnull().sum()"
      ],
      "metadata": {
        "colab": {
          "base_uri": "https://localhost:8080/"
        },
        "id": "mPRHauama4Qe",
        "outputId": "44689fca-7e40-4c92-fce9-835539a9cf2c"
      },
      "execution_count": null,
      "outputs": [
        {
          "output_type": "execute_result",
          "data": {
            "text/plain": [
              "age                  0\n",
              "job                227\n",
              "marital             57\n",
              "education         1203\n",
              "default           5985\n",
              "housing            689\n",
              "loan               689\n",
              "contact              0\n",
              "month                0\n",
              "day_of_week          0\n",
              "duration             0\n",
              "campaign             0\n",
              "pdays                0\n",
              "previous             0\n",
              "poutcome             0\n",
              "emp.var.rate         0\n",
              "cons.price.idx       0\n",
              "cons.conf.idx        0\n",
              "euribor3m            0\n",
              "nr.employed          0\n",
              "y                    0\n",
              "dtype: int64"
            ]
          },
          "metadata": {},
          "execution_count": 8
        }
      ]
    },
    {
      "cell_type": "markdown",
      "source": [
        "<a name=\"visualizacion\"></a>\n",
        "# Visualización del dataframe."
      ],
      "metadata": {
        "id": "bMvLR0B0efz6"
      }
    },
    {
      "cell_type": "markdown",
      "source": [
        "<a name=\"visualizacion-primeras\"></a>\n",
        "## Primeras observaciones estadísticas."
      ],
      "metadata": {
        "id": "GUGTKytEw-H8"
      }
    },
    {
      "cell_type": "code",
      "source": [
        "X_train.describe()"
      ],
      "metadata": {
        "colab": {
          "base_uri": "https://localhost:8080/",
          "height": 364
        },
        "id": "v9uySj9lxBZO",
        "outputId": "22b327ed-18ba-4ec6-a849-8ba77dc63258"
      },
      "execution_count": null,
      "outputs": [
        {
          "output_type": "execute_result",
          "data": {
            "text/plain": [
              "                age      duration      campaign         pdays      previous  \\\n",
              "count  28831.000000  28831.000000  28831.000000  28831.000000  28831.000000   \n",
              "mean      39.975062    258.086643      2.562485    962.457424      0.171274   \n",
              "std       10.431281    258.564517      2.768506    186.956366      0.493814   \n",
              "min       17.000000      0.000000      1.000000      0.000000      0.000000   \n",
              "25%       32.000000    103.000000      1.000000    999.000000      0.000000   \n",
              "50%       38.000000    179.000000      2.000000    999.000000      0.000000   \n",
              "75%       47.000000    319.000000      3.000000    999.000000      0.000000   \n",
              "max       98.000000   4199.000000     56.000000    999.000000      7.000000   \n",
              "\n",
              "       emp.var.rate  cons.price.idx  cons.conf.idx     euribor3m   nr.employed  \n",
              "count  28831.000000    28831.000000   28831.000000  28831.000000  28831.000000  \n",
              "mean       0.082078       93.577267     -40.498391      3.622446   5166.966435  \n",
              "std        1.572808        0.579631       4.632613      1.734472     72.423468  \n",
              "min       -3.400000       92.201000     -50.800000      0.634000   4963.600000  \n",
              "25%       -1.800000       93.075000     -42.700000      1.344000   5099.100000  \n",
              "50%        1.100000       93.798000     -41.800000      4.857000   5191.000000  \n",
              "75%        1.400000       93.994000     -36.400000      4.961000   5228.100000  \n",
              "max        1.400000       94.767000     -26.900000      5.045000   5228.100000  "
            ],
            "text/html": [
              "\n",
              "  <div id=\"df-66250bc8-0c03-4ccb-8cbf-2b79747a9208\">\n",
              "    <div class=\"colab-df-container\">\n",
              "      <div>\n",
              "<style scoped>\n",
              "    .dataframe tbody tr th:only-of-type {\n",
              "        vertical-align: middle;\n",
              "    }\n",
              "\n",
              "    .dataframe tbody tr th {\n",
              "        vertical-align: top;\n",
              "    }\n",
              "\n",
              "    .dataframe thead th {\n",
              "        text-align: right;\n",
              "    }\n",
              "</style>\n",
              "<table border=\"1\" class=\"dataframe\">\n",
              "  <thead>\n",
              "    <tr style=\"text-align: right;\">\n",
              "      <th></th>\n",
              "      <th>age</th>\n",
              "      <th>duration</th>\n",
              "      <th>campaign</th>\n",
              "      <th>pdays</th>\n",
              "      <th>previous</th>\n",
              "      <th>emp.var.rate</th>\n",
              "      <th>cons.price.idx</th>\n",
              "      <th>cons.conf.idx</th>\n",
              "      <th>euribor3m</th>\n",
              "      <th>nr.employed</th>\n",
              "    </tr>\n",
              "  </thead>\n",
              "  <tbody>\n",
              "    <tr>\n",
              "      <th>count</th>\n",
              "      <td>28831.000000</td>\n",
              "      <td>28831.000000</td>\n",
              "      <td>28831.000000</td>\n",
              "      <td>28831.000000</td>\n",
              "      <td>28831.000000</td>\n",
              "      <td>28831.000000</td>\n",
              "      <td>28831.000000</td>\n",
              "      <td>28831.000000</td>\n",
              "      <td>28831.000000</td>\n",
              "      <td>28831.000000</td>\n",
              "    </tr>\n",
              "    <tr>\n",
              "      <th>mean</th>\n",
              "      <td>39.975062</td>\n",
              "      <td>258.086643</td>\n",
              "      <td>2.562485</td>\n",
              "      <td>962.457424</td>\n",
              "      <td>0.171274</td>\n",
              "      <td>0.082078</td>\n",
              "      <td>93.577267</td>\n",
              "      <td>-40.498391</td>\n",
              "      <td>3.622446</td>\n",
              "      <td>5166.966435</td>\n",
              "    </tr>\n",
              "    <tr>\n",
              "      <th>std</th>\n",
              "      <td>10.431281</td>\n",
              "      <td>258.564517</td>\n",
              "      <td>2.768506</td>\n",
              "      <td>186.956366</td>\n",
              "      <td>0.493814</td>\n",
              "      <td>1.572808</td>\n",
              "      <td>0.579631</td>\n",
              "      <td>4.632613</td>\n",
              "      <td>1.734472</td>\n",
              "      <td>72.423468</td>\n",
              "    </tr>\n",
              "    <tr>\n",
              "      <th>min</th>\n",
              "      <td>17.000000</td>\n",
              "      <td>0.000000</td>\n",
              "      <td>1.000000</td>\n",
              "      <td>0.000000</td>\n",
              "      <td>0.000000</td>\n",
              "      <td>-3.400000</td>\n",
              "      <td>92.201000</td>\n",
              "      <td>-50.800000</td>\n",
              "      <td>0.634000</td>\n",
              "      <td>4963.600000</td>\n",
              "    </tr>\n",
              "    <tr>\n",
              "      <th>25%</th>\n",
              "      <td>32.000000</td>\n",
              "      <td>103.000000</td>\n",
              "      <td>1.000000</td>\n",
              "      <td>999.000000</td>\n",
              "      <td>0.000000</td>\n",
              "      <td>-1.800000</td>\n",
              "      <td>93.075000</td>\n",
              "      <td>-42.700000</td>\n",
              "      <td>1.344000</td>\n",
              "      <td>5099.100000</td>\n",
              "    </tr>\n",
              "    <tr>\n",
              "      <th>50%</th>\n",
              "      <td>38.000000</td>\n",
              "      <td>179.000000</td>\n",
              "      <td>2.000000</td>\n",
              "      <td>999.000000</td>\n",
              "      <td>0.000000</td>\n",
              "      <td>1.100000</td>\n",
              "      <td>93.798000</td>\n",
              "      <td>-41.800000</td>\n",
              "      <td>4.857000</td>\n",
              "      <td>5191.000000</td>\n",
              "    </tr>\n",
              "    <tr>\n",
              "      <th>75%</th>\n",
              "      <td>47.000000</td>\n",
              "      <td>319.000000</td>\n",
              "      <td>3.000000</td>\n",
              "      <td>999.000000</td>\n",
              "      <td>0.000000</td>\n",
              "      <td>1.400000</td>\n",
              "      <td>93.994000</td>\n",
              "      <td>-36.400000</td>\n",
              "      <td>4.961000</td>\n",
              "      <td>5228.100000</td>\n",
              "    </tr>\n",
              "    <tr>\n",
              "      <th>max</th>\n",
              "      <td>98.000000</td>\n",
              "      <td>4199.000000</td>\n",
              "      <td>56.000000</td>\n",
              "      <td>999.000000</td>\n",
              "      <td>7.000000</td>\n",
              "      <td>1.400000</td>\n",
              "      <td>94.767000</td>\n",
              "      <td>-26.900000</td>\n",
              "      <td>5.045000</td>\n",
              "      <td>5228.100000</td>\n",
              "    </tr>\n",
              "  </tbody>\n",
              "</table>\n",
              "</div>\n",
              "      <button class=\"colab-df-convert\" onclick=\"convertToInteractive('df-66250bc8-0c03-4ccb-8cbf-2b79747a9208')\"\n",
              "              title=\"Convert this dataframe to an interactive table.\"\n",
              "              style=\"display:none;\">\n",
              "        \n",
              "  <svg xmlns=\"http://www.w3.org/2000/svg\" height=\"24px\"viewBox=\"0 0 24 24\"\n",
              "       width=\"24px\">\n",
              "    <path d=\"M0 0h24v24H0V0z\" fill=\"none\"/>\n",
              "    <path d=\"M18.56 5.44l.94 2.06.94-2.06 2.06-.94-2.06-.94-.94-2.06-.94 2.06-2.06.94zm-11 1L8.5 8.5l.94-2.06 2.06-.94-2.06-.94L8.5 2.5l-.94 2.06-2.06.94zm10 10l.94 2.06.94-2.06 2.06-.94-2.06-.94-.94-2.06-.94 2.06-2.06.94z\"/><path d=\"M17.41 7.96l-1.37-1.37c-.4-.4-.92-.59-1.43-.59-.52 0-1.04.2-1.43.59L10.3 9.45l-7.72 7.72c-.78.78-.78 2.05 0 2.83L4 21.41c.39.39.9.59 1.41.59.51 0 1.02-.2 1.41-.59l7.78-7.78 2.81-2.81c.8-.78.8-2.07 0-2.86zM5.41 20L4 18.59l7.72-7.72 1.47 1.35L5.41 20z\"/>\n",
              "  </svg>\n",
              "      </button>\n",
              "      \n",
              "  <style>\n",
              "    .colab-df-container {\n",
              "      display:flex;\n",
              "      flex-wrap:wrap;\n",
              "      gap: 12px;\n",
              "    }\n",
              "\n",
              "    .colab-df-convert {\n",
              "      background-color: #E8F0FE;\n",
              "      border: none;\n",
              "      border-radius: 50%;\n",
              "      cursor: pointer;\n",
              "      display: none;\n",
              "      fill: #1967D2;\n",
              "      height: 32px;\n",
              "      padding: 0 0 0 0;\n",
              "      width: 32px;\n",
              "    }\n",
              "\n",
              "    .colab-df-convert:hover {\n",
              "      background-color: #E2EBFA;\n",
              "      box-shadow: 0px 1px 2px rgba(60, 64, 67, 0.3), 0px 1px 3px 1px rgba(60, 64, 67, 0.15);\n",
              "      fill: #174EA6;\n",
              "    }\n",
              "\n",
              "    [theme=dark] .colab-df-convert {\n",
              "      background-color: #3B4455;\n",
              "      fill: #D2E3FC;\n",
              "    }\n",
              "\n",
              "    [theme=dark] .colab-df-convert:hover {\n",
              "      background-color: #434B5C;\n",
              "      box-shadow: 0px 1px 3px 1px rgba(0, 0, 0, 0.15);\n",
              "      filter: drop-shadow(0px 1px 2px rgba(0, 0, 0, 0.3));\n",
              "      fill: #FFFFFF;\n",
              "    }\n",
              "  </style>\n",
              "\n",
              "      <script>\n",
              "        const buttonEl =\n",
              "          document.querySelector('#df-66250bc8-0c03-4ccb-8cbf-2b79747a9208 button.colab-df-convert');\n",
              "        buttonEl.style.display =\n",
              "          google.colab.kernel.accessAllowed ? 'block' : 'none';\n",
              "\n",
              "        async function convertToInteractive(key) {\n",
              "          const element = document.querySelector('#df-66250bc8-0c03-4ccb-8cbf-2b79747a9208');\n",
              "          const dataTable =\n",
              "            await google.colab.kernel.invokeFunction('convertToInteractive',\n",
              "                                                     [key], {});\n",
              "          if (!dataTable) return;\n",
              "\n",
              "          const docLinkHtml = 'Like what you see? Visit the ' +\n",
              "            '<a target=\"_blank\" href=https://colab.research.google.com/notebooks/data_table.ipynb>data table notebook</a>'\n",
              "            + ' to learn more about interactive tables.';\n",
              "          element.innerHTML = '';\n",
              "          dataTable['output_type'] = 'display_data';\n",
              "          await google.colab.output.renderOutput(dataTable, element);\n",
              "          const docLink = document.createElement('div');\n",
              "          docLink.innerHTML = docLinkHtml;\n",
              "          element.appendChild(docLink);\n",
              "        }\n",
              "      </script>\n",
              "    </div>\n",
              "  </div>\n",
              "  "
            ]
          },
          "metadata": {},
          "execution_count": 9
        }
      ]
    },
    {
      "cell_type": "markdown",
      "source": [
        "Analizo las estadísticas separando los clientes que se subscribieron vs los que no se subscribieron a los depósitos."
      ],
      "metadata": {
        "id": "rpd1oTAIxKwx"
      }
    },
    {
      "cell_type": "code",
      "source": [
        "X_train.groupby(by=\"y\").mean()"
      ],
      "metadata": {
        "colab": {
          "base_uri": "https://localhost:8080/",
          "height": 207
        },
        "id": "QLUBm8SvxKTk",
        "outputId": "a81d2460-0c11-4f88-957a-d0b9c5452bd9"
      },
      "execution_count": null,
      "outputs": [
        {
          "output_type": "execute_result",
          "data": {
            "text/plain": [
              "           age    duration  campaign       pdays  previous  emp.var.rate  \\\n",
              "y                                                                          \n",
              "no   39.853434  221.300168   2.62868  984.558818  0.129872      0.250616   \n",
              "yes  40.931734  547.435117   2.04182  788.616236  0.496925     -1.243573   \n",
              "\n",
              "     cons.price.idx  cons.conf.idx  euribor3m  nr.employed  \n",
              "y                                                           \n",
              "no        93.605412     -40.583830   3.814656  5176.196051  \n",
              "yes       93.355895     -39.826353   2.110593  5094.369772  "
            ],
            "text/html": [
              "\n",
              "  <div id=\"df-8e5856d2-cbf3-4871-8480-c2a4187acf3e\">\n",
              "    <div class=\"colab-df-container\">\n",
              "      <div>\n",
              "<style scoped>\n",
              "    .dataframe tbody tr th:only-of-type {\n",
              "        vertical-align: middle;\n",
              "    }\n",
              "\n",
              "    .dataframe tbody tr th {\n",
              "        vertical-align: top;\n",
              "    }\n",
              "\n",
              "    .dataframe thead th {\n",
              "        text-align: right;\n",
              "    }\n",
              "</style>\n",
              "<table border=\"1\" class=\"dataframe\">\n",
              "  <thead>\n",
              "    <tr style=\"text-align: right;\">\n",
              "      <th></th>\n",
              "      <th>age</th>\n",
              "      <th>duration</th>\n",
              "      <th>campaign</th>\n",
              "      <th>pdays</th>\n",
              "      <th>previous</th>\n",
              "      <th>emp.var.rate</th>\n",
              "      <th>cons.price.idx</th>\n",
              "      <th>cons.conf.idx</th>\n",
              "      <th>euribor3m</th>\n",
              "      <th>nr.employed</th>\n",
              "    </tr>\n",
              "    <tr>\n",
              "      <th>y</th>\n",
              "      <th></th>\n",
              "      <th></th>\n",
              "      <th></th>\n",
              "      <th></th>\n",
              "      <th></th>\n",
              "      <th></th>\n",
              "      <th></th>\n",
              "      <th></th>\n",
              "      <th></th>\n",
              "      <th></th>\n",
              "    </tr>\n",
              "  </thead>\n",
              "  <tbody>\n",
              "    <tr>\n",
              "      <th>no</th>\n",
              "      <td>39.853434</td>\n",
              "      <td>221.300168</td>\n",
              "      <td>2.62868</td>\n",
              "      <td>984.558818</td>\n",
              "      <td>0.129872</td>\n",
              "      <td>0.250616</td>\n",
              "      <td>93.605412</td>\n",
              "      <td>-40.583830</td>\n",
              "      <td>3.814656</td>\n",
              "      <td>5176.196051</td>\n",
              "    </tr>\n",
              "    <tr>\n",
              "      <th>yes</th>\n",
              "      <td>40.931734</td>\n",
              "      <td>547.435117</td>\n",
              "      <td>2.04182</td>\n",
              "      <td>788.616236</td>\n",
              "      <td>0.496925</td>\n",
              "      <td>-1.243573</td>\n",
              "      <td>93.355895</td>\n",
              "      <td>-39.826353</td>\n",
              "      <td>2.110593</td>\n",
              "      <td>5094.369772</td>\n",
              "    </tr>\n",
              "  </tbody>\n",
              "</table>\n",
              "</div>\n",
              "      <button class=\"colab-df-convert\" onclick=\"convertToInteractive('df-8e5856d2-cbf3-4871-8480-c2a4187acf3e')\"\n",
              "              title=\"Convert this dataframe to an interactive table.\"\n",
              "              style=\"display:none;\">\n",
              "        \n",
              "  <svg xmlns=\"http://www.w3.org/2000/svg\" height=\"24px\"viewBox=\"0 0 24 24\"\n",
              "       width=\"24px\">\n",
              "    <path d=\"M0 0h24v24H0V0z\" fill=\"none\"/>\n",
              "    <path d=\"M18.56 5.44l.94 2.06.94-2.06 2.06-.94-2.06-.94-.94-2.06-.94 2.06-2.06.94zm-11 1L8.5 8.5l.94-2.06 2.06-.94-2.06-.94L8.5 2.5l-.94 2.06-2.06.94zm10 10l.94 2.06.94-2.06 2.06-.94-2.06-.94-.94-2.06-.94 2.06-2.06.94z\"/><path d=\"M17.41 7.96l-1.37-1.37c-.4-.4-.92-.59-1.43-.59-.52 0-1.04.2-1.43.59L10.3 9.45l-7.72 7.72c-.78.78-.78 2.05 0 2.83L4 21.41c.39.39.9.59 1.41.59.51 0 1.02-.2 1.41-.59l7.78-7.78 2.81-2.81c.8-.78.8-2.07 0-2.86zM5.41 20L4 18.59l7.72-7.72 1.47 1.35L5.41 20z\"/>\n",
              "  </svg>\n",
              "      </button>\n",
              "      \n",
              "  <style>\n",
              "    .colab-df-container {\n",
              "      display:flex;\n",
              "      flex-wrap:wrap;\n",
              "      gap: 12px;\n",
              "    }\n",
              "\n",
              "    .colab-df-convert {\n",
              "      background-color: #E8F0FE;\n",
              "      border: none;\n",
              "      border-radius: 50%;\n",
              "      cursor: pointer;\n",
              "      display: none;\n",
              "      fill: #1967D2;\n",
              "      height: 32px;\n",
              "      padding: 0 0 0 0;\n",
              "      width: 32px;\n",
              "    }\n",
              "\n",
              "    .colab-df-convert:hover {\n",
              "      background-color: #E2EBFA;\n",
              "      box-shadow: 0px 1px 2px rgba(60, 64, 67, 0.3), 0px 1px 3px 1px rgba(60, 64, 67, 0.15);\n",
              "      fill: #174EA6;\n",
              "    }\n",
              "\n",
              "    [theme=dark] .colab-df-convert {\n",
              "      background-color: #3B4455;\n",
              "      fill: #D2E3FC;\n",
              "    }\n",
              "\n",
              "    [theme=dark] .colab-df-convert:hover {\n",
              "      background-color: #434B5C;\n",
              "      box-shadow: 0px 1px 3px 1px rgba(0, 0, 0, 0.15);\n",
              "      filter: drop-shadow(0px 1px 2px rgba(0, 0, 0, 0.3));\n",
              "      fill: #FFFFFF;\n",
              "    }\n",
              "  </style>\n",
              "\n",
              "      <script>\n",
              "        const buttonEl =\n",
              "          document.querySelector('#df-8e5856d2-cbf3-4871-8480-c2a4187acf3e button.colab-df-convert');\n",
              "        buttonEl.style.display =\n",
              "          google.colab.kernel.accessAllowed ? 'block' : 'none';\n",
              "\n",
              "        async function convertToInteractive(key) {\n",
              "          const element = document.querySelector('#df-8e5856d2-cbf3-4871-8480-c2a4187acf3e');\n",
              "          const dataTable =\n",
              "            await google.colab.kernel.invokeFunction('convertToInteractive',\n",
              "                                                     [key], {});\n",
              "          if (!dataTable) return;\n",
              "\n",
              "          const docLinkHtml = 'Like what you see? Visit the ' +\n",
              "            '<a target=\"_blank\" href=https://colab.research.google.com/notebooks/data_table.ipynb>data table notebook</a>'\n",
              "            + ' to learn more about interactive tables.';\n",
              "          element.innerHTML = '';\n",
              "          dataTable['output_type'] = 'display_data';\n",
              "          await google.colab.output.renderOutput(dataTable, element);\n",
              "          const docLink = document.createElement('div');\n",
              "          docLink.innerHTML = docLinkHtml;\n",
              "          element.appendChild(docLink);\n",
              "        }\n",
              "      </script>\n",
              "    </div>\n",
              "  </div>\n",
              "  "
            ]
          },
          "metadata": {},
          "execution_count": 10
        }
      ]
    },
    {
      "cell_type": "markdown",
      "source": [
        "Agrupo por el campo `education` y calculo la media de las columnas numéricas."
      ],
      "metadata": {
        "id": "Vd5h2N67y502"
      }
    },
    {
      "cell_type": "code",
      "source": [
        "X_train.groupby(by=\"education\").mean()"
      ],
      "metadata": {
        "colab": {
          "base_uri": "https://localhost:8080/",
          "height": 364
        },
        "id": "qGcWg1Vvxdw6",
        "outputId": "45bb25b0-0721-47a3-9927-92adab096e79"
      },
      "execution_count": null,
      "outputs": [
        {
          "output_type": "execute_result",
          "data": {
            "text/plain": [
              "                           age    duration  campaign       pdays  previous  \\\n",
              "education                                                                    \n",
              "basic.4y             47.526990  265.956747  2.573702  967.046713  0.139446   \n",
              "basic.6y             40.433438  263.947003  2.564669  981.467508  0.127445   \n",
              "basic.9y             39.084926  261.438075  2.554376  978.864355  0.136353   \n",
              "high.school          37.923777  260.911247  2.546689  966.118586  0.178252   \n",
              "illiterate           49.533333  214.066667  2.466667  932.800000  0.133333   \n",
              "professional.course  40.012537  254.531753  2.564459  960.333878  0.166530   \n",
              "university.degree    38.849050  251.630776  2.565681  950.868168  0.195871   \n",
              "\n",
              "                     emp.var.rate  cons.price.idx  cons.conf.idx  euribor3m  \\\n",
              "education                                                                     \n",
              "basic.4y                 0.218616       93.655432     -40.231557   3.758961   \n",
              "basic.6y                 0.255016       93.663546     -41.024732   3.797650   \n",
              "basic.9y                 0.174829       93.631090     -41.293701   3.717548   \n",
              "high.school              0.039723       93.584565     -40.947315   3.564396   \n",
              "illiterate              -0.106667       93.296200     -39.573333   3.530133   \n",
              "professional.course      0.137231       93.561868     -40.163396   3.673970   \n",
              "university.degree       -0.033251       93.496315     -39.979439   3.523500   \n",
              "\n",
              "                     nr.employed  \n",
              "education                         \n",
              "basic.4y             5170.433287  \n",
              "basic.6y             5175.124732  \n",
              "basic.9y             5172.752394  \n",
              "high.school          5165.487246  \n",
              "illiterate           5173.740000  \n",
              "professional.course  5168.675279  \n",
              "university.degree    5162.771816  "
            ],
            "text/html": [
              "\n",
              "  <div id=\"df-9e404673-8fb2-489a-8199-5ce5f62165a6\">\n",
              "    <div class=\"colab-df-container\">\n",
              "      <div>\n",
              "<style scoped>\n",
              "    .dataframe tbody tr th:only-of-type {\n",
              "        vertical-align: middle;\n",
              "    }\n",
              "\n",
              "    .dataframe tbody tr th {\n",
              "        vertical-align: top;\n",
              "    }\n",
              "\n",
              "    .dataframe thead th {\n",
              "        text-align: right;\n",
              "    }\n",
              "</style>\n",
              "<table border=\"1\" class=\"dataframe\">\n",
              "  <thead>\n",
              "    <tr style=\"text-align: right;\">\n",
              "      <th></th>\n",
              "      <th>age</th>\n",
              "      <th>duration</th>\n",
              "      <th>campaign</th>\n",
              "      <th>pdays</th>\n",
              "      <th>previous</th>\n",
              "      <th>emp.var.rate</th>\n",
              "      <th>cons.price.idx</th>\n",
              "      <th>cons.conf.idx</th>\n",
              "      <th>euribor3m</th>\n",
              "      <th>nr.employed</th>\n",
              "    </tr>\n",
              "    <tr>\n",
              "      <th>education</th>\n",
              "      <th></th>\n",
              "      <th></th>\n",
              "      <th></th>\n",
              "      <th></th>\n",
              "      <th></th>\n",
              "      <th></th>\n",
              "      <th></th>\n",
              "      <th></th>\n",
              "      <th></th>\n",
              "      <th></th>\n",
              "    </tr>\n",
              "  </thead>\n",
              "  <tbody>\n",
              "    <tr>\n",
              "      <th>basic.4y</th>\n",
              "      <td>47.526990</td>\n",
              "      <td>265.956747</td>\n",
              "      <td>2.573702</td>\n",
              "      <td>967.046713</td>\n",
              "      <td>0.139446</td>\n",
              "      <td>0.218616</td>\n",
              "      <td>93.655432</td>\n",
              "      <td>-40.231557</td>\n",
              "      <td>3.758961</td>\n",
              "      <td>5170.433287</td>\n",
              "    </tr>\n",
              "    <tr>\n",
              "      <th>basic.6y</th>\n",
              "      <td>40.433438</td>\n",
              "      <td>263.947003</td>\n",
              "      <td>2.564669</td>\n",
              "      <td>981.467508</td>\n",
              "      <td>0.127445</td>\n",
              "      <td>0.255016</td>\n",
              "      <td>93.663546</td>\n",
              "      <td>-41.024732</td>\n",
              "      <td>3.797650</td>\n",
              "      <td>5175.124732</td>\n",
              "    </tr>\n",
              "    <tr>\n",
              "      <th>basic.9y</th>\n",
              "      <td>39.084926</td>\n",
              "      <td>261.438075</td>\n",
              "      <td>2.554376</td>\n",
              "      <td>978.864355</td>\n",
              "      <td>0.136353</td>\n",
              "      <td>0.174829</td>\n",
              "      <td>93.631090</td>\n",
              "      <td>-41.293701</td>\n",
              "      <td>3.717548</td>\n",
              "      <td>5172.752394</td>\n",
              "    </tr>\n",
              "    <tr>\n",
              "      <th>high.school</th>\n",
              "      <td>37.923777</td>\n",
              "      <td>260.911247</td>\n",
              "      <td>2.546689</td>\n",
              "      <td>966.118586</td>\n",
              "      <td>0.178252</td>\n",
              "      <td>0.039723</td>\n",
              "      <td>93.584565</td>\n",
              "      <td>-40.947315</td>\n",
              "      <td>3.564396</td>\n",
              "      <td>5165.487246</td>\n",
              "    </tr>\n",
              "    <tr>\n",
              "      <th>illiterate</th>\n",
              "      <td>49.533333</td>\n",
              "      <td>214.066667</td>\n",
              "      <td>2.466667</td>\n",
              "      <td>932.800000</td>\n",
              "      <td>0.133333</td>\n",
              "      <td>-0.106667</td>\n",
              "      <td>93.296200</td>\n",
              "      <td>-39.573333</td>\n",
              "      <td>3.530133</td>\n",
              "      <td>5173.740000</td>\n",
              "    </tr>\n",
              "    <tr>\n",
              "      <th>professional.course</th>\n",
              "      <td>40.012537</td>\n",
              "      <td>254.531753</td>\n",
              "      <td>2.564459</td>\n",
              "      <td>960.333878</td>\n",
              "      <td>0.166530</td>\n",
              "      <td>0.137231</td>\n",
              "      <td>93.561868</td>\n",
              "      <td>-40.163396</td>\n",
              "      <td>3.673970</td>\n",
              "      <td>5168.675279</td>\n",
              "    </tr>\n",
              "    <tr>\n",
              "      <th>university.degree</th>\n",
              "      <td>38.849050</td>\n",
              "      <td>251.630776</td>\n",
              "      <td>2.565681</td>\n",
              "      <td>950.868168</td>\n",
              "      <td>0.195871</td>\n",
              "      <td>-0.033251</td>\n",
              "      <td>93.496315</td>\n",
              "      <td>-39.979439</td>\n",
              "      <td>3.523500</td>\n",
              "      <td>5162.771816</td>\n",
              "    </tr>\n",
              "  </tbody>\n",
              "</table>\n",
              "</div>\n",
              "      <button class=\"colab-df-convert\" onclick=\"convertToInteractive('df-9e404673-8fb2-489a-8199-5ce5f62165a6')\"\n",
              "              title=\"Convert this dataframe to an interactive table.\"\n",
              "              style=\"display:none;\">\n",
              "        \n",
              "  <svg xmlns=\"http://www.w3.org/2000/svg\" height=\"24px\"viewBox=\"0 0 24 24\"\n",
              "       width=\"24px\">\n",
              "    <path d=\"M0 0h24v24H0V0z\" fill=\"none\"/>\n",
              "    <path d=\"M18.56 5.44l.94 2.06.94-2.06 2.06-.94-2.06-.94-.94-2.06-.94 2.06-2.06.94zm-11 1L8.5 8.5l.94-2.06 2.06-.94-2.06-.94L8.5 2.5l-.94 2.06-2.06.94zm10 10l.94 2.06.94-2.06 2.06-.94-2.06-.94-.94-2.06-.94 2.06-2.06.94z\"/><path d=\"M17.41 7.96l-1.37-1.37c-.4-.4-.92-.59-1.43-.59-.52 0-1.04.2-1.43.59L10.3 9.45l-7.72 7.72c-.78.78-.78 2.05 0 2.83L4 21.41c.39.39.9.59 1.41.59.51 0 1.02-.2 1.41-.59l7.78-7.78 2.81-2.81c.8-.78.8-2.07 0-2.86zM5.41 20L4 18.59l7.72-7.72 1.47 1.35L5.41 20z\"/>\n",
              "  </svg>\n",
              "      </button>\n",
              "      \n",
              "  <style>\n",
              "    .colab-df-container {\n",
              "      display:flex;\n",
              "      flex-wrap:wrap;\n",
              "      gap: 12px;\n",
              "    }\n",
              "\n",
              "    .colab-df-convert {\n",
              "      background-color: #E8F0FE;\n",
              "      border: none;\n",
              "      border-radius: 50%;\n",
              "      cursor: pointer;\n",
              "      display: none;\n",
              "      fill: #1967D2;\n",
              "      height: 32px;\n",
              "      padding: 0 0 0 0;\n",
              "      width: 32px;\n",
              "    }\n",
              "\n",
              "    .colab-df-convert:hover {\n",
              "      background-color: #E2EBFA;\n",
              "      box-shadow: 0px 1px 2px rgba(60, 64, 67, 0.3), 0px 1px 3px 1px rgba(60, 64, 67, 0.15);\n",
              "      fill: #174EA6;\n",
              "    }\n",
              "\n",
              "    [theme=dark] .colab-df-convert {\n",
              "      background-color: #3B4455;\n",
              "      fill: #D2E3FC;\n",
              "    }\n",
              "\n",
              "    [theme=dark] .colab-df-convert:hover {\n",
              "      background-color: #434B5C;\n",
              "      box-shadow: 0px 1px 3px 1px rgba(0, 0, 0, 0.15);\n",
              "      filter: drop-shadow(0px 1px 2px rgba(0, 0, 0, 0.3));\n",
              "      fill: #FFFFFF;\n",
              "    }\n",
              "  </style>\n",
              "\n",
              "      <script>\n",
              "        const buttonEl =\n",
              "          document.querySelector('#df-9e404673-8fb2-489a-8199-5ce5f62165a6 button.colab-df-convert');\n",
              "        buttonEl.style.display =\n",
              "          google.colab.kernel.accessAllowed ? 'block' : 'none';\n",
              "\n",
              "        async function convertToInteractive(key) {\n",
              "          const element = document.querySelector('#df-9e404673-8fb2-489a-8199-5ce5f62165a6');\n",
              "          const dataTable =\n",
              "            await google.colab.kernel.invokeFunction('convertToInteractive',\n",
              "                                                     [key], {});\n",
              "          if (!dataTable) return;\n",
              "\n",
              "          const docLinkHtml = 'Like what you see? Visit the ' +\n",
              "            '<a target=\"_blank\" href=https://colab.research.google.com/notebooks/data_table.ipynb>data table notebook</a>'\n",
              "            + ' to learn more about interactive tables.';\n",
              "          element.innerHTML = '';\n",
              "          dataTable['output_type'] = 'display_data';\n",
              "          await google.colab.output.renderOutput(dataTable, element);\n",
              "          const docLink = document.createElement('div');\n",
              "          docLink.innerHTML = docLinkHtml;\n",
              "          element.appendChild(docLink);\n",
              "        }\n",
              "      </script>\n",
              "    </div>\n",
              "  </div>\n",
              "  "
            ]
          },
          "metadata": {},
          "execution_count": 11
        }
      ]
    },
    {
      "cell_type": "markdown",
      "source": [
        "Podemos hacer un análisis similar agrupando por `job`."
      ],
      "metadata": {
        "id": "5O6Rm3Cyysdf"
      }
    },
    {
      "cell_type": "code",
      "source": [
        "X_train.groupby(by=\"job\").mean()"
      ],
      "metadata": {
        "colab": {
          "base_uri": "https://localhost:8080/",
          "height": 507
        },
        "id": "3FJzUKWVxQDi",
        "outputId": "95883981-c0bf-41d4-bd27-348f0d7b3fda"
      },
      "execution_count": null,
      "outputs": [
        {
          "output_type": "execute_result",
          "data": {
            "text/plain": [
              "                     age    duration  campaign       pdays  previous  \\\n",
              "job                                                                    \n",
              "admin.         38.154193  253.037558  2.612947  954.649959  0.189975   \n",
              "blue-collar    39.561409  265.921366  2.572378  985.810443  0.117256   \n",
              "entrepreneur   41.529179  262.259149  2.512364  982.302671  0.138477   \n",
              "housemaid      45.645333  252.501333  2.601333  963.246667  0.128000   \n",
              "management     42.296829  256.411298  2.476214  958.131318  0.191278   \n",
              "retired        62.106312  274.447674  2.457641  902.488372  0.306478   \n",
              "self-employed  39.776195  260.464903  2.703967  975.748728  0.142421   \n",
              "services       37.799427  257.164756  2.577722  978.709527  0.150788   \n",
              "student        25.979032  276.824194  2.133871  847.012903  0.496774   \n",
              "technician     38.489641  250.044397  2.560042  963.748837  0.159197   \n",
              "unemployed     39.542083  256.566334  2.522111  933.818830  0.195435   \n",
              "\n",
              "               emp.var.rate  cons.price.idx  cons.conf.idx  euribor3m  \\\n",
              "job                                                                     \n",
              "admin.             0.007293       93.533725     -40.229568   3.541010   \n",
              "blue-collar        0.268639       93.664810     -41.331284   3.792757   \n",
              "entrepreneur       0.160138       93.606739     -41.370722   3.790149   \n",
              "housemaid          0.438400       93.676820     -39.669333   4.011756   \n",
              "management        -0.015857       93.527771     -40.426462   3.609738   \n",
              "retired           -0.730316       93.410906     -38.507226   2.754461   \n",
              "self-employed      0.089827       93.560283     -40.566022   3.682649   \n",
              "services           0.189542       93.638757     -41.297314   3.717163   \n",
              "student           -1.366452       93.338034     -40.323871   1.930376   \n",
              "technician         0.256152       93.560260     -39.939915   3.802159   \n",
              "unemployed        -0.081027       93.566401     -40.024964   3.496919   \n",
              "\n",
              "               nr.employed  \n",
              "job                         \n",
              "admin.         5163.612155  \n",
              "blue-collar    5176.246686  \n",
              "entrepreneur   5176.436795  \n",
              "housemaid      5179.891467  \n",
              "management     5166.005451  \n",
              "retired        5121.794934  \n",
              "self-employed  5170.380671  \n",
              "services       5172.247994  \n",
              "student        5088.430968  \n",
              "technician     5174.732643  \n",
              "unemployed     5158.750785  "
            ],
            "text/html": [
              "\n",
              "  <div id=\"df-7f601e9a-1dbc-4f16-9a3d-6d9d5ed93be9\">\n",
              "    <div class=\"colab-df-container\">\n",
              "      <div>\n",
              "<style scoped>\n",
              "    .dataframe tbody tr th:only-of-type {\n",
              "        vertical-align: middle;\n",
              "    }\n",
              "\n",
              "    .dataframe tbody tr th {\n",
              "        vertical-align: top;\n",
              "    }\n",
              "\n",
              "    .dataframe thead th {\n",
              "        text-align: right;\n",
              "    }\n",
              "</style>\n",
              "<table border=\"1\" class=\"dataframe\">\n",
              "  <thead>\n",
              "    <tr style=\"text-align: right;\">\n",
              "      <th></th>\n",
              "      <th>age</th>\n",
              "      <th>duration</th>\n",
              "      <th>campaign</th>\n",
              "      <th>pdays</th>\n",
              "      <th>previous</th>\n",
              "      <th>emp.var.rate</th>\n",
              "      <th>cons.price.idx</th>\n",
              "      <th>cons.conf.idx</th>\n",
              "      <th>euribor3m</th>\n",
              "      <th>nr.employed</th>\n",
              "    </tr>\n",
              "    <tr>\n",
              "      <th>job</th>\n",
              "      <th></th>\n",
              "      <th></th>\n",
              "      <th></th>\n",
              "      <th></th>\n",
              "      <th></th>\n",
              "      <th></th>\n",
              "      <th></th>\n",
              "      <th></th>\n",
              "      <th></th>\n",
              "      <th></th>\n",
              "    </tr>\n",
              "  </thead>\n",
              "  <tbody>\n",
              "    <tr>\n",
              "      <th>admin.</th>\n",
              "      <td>38.154193</td>\n",
              "      <td>253.037558</td>\n",
              "      <td>2.612947</td>\n",
              "      <td>954.649959</td>\n",
              "      <td>0.189975</td>\n",
              "      <td>0.007293</td>\n",
              "      <td>93.533725</td>\n",
              "      <td>-40.229568</td>\n",
              "      <td>3.541010</td>\n",
              "      <td>5163.612155</td>\n",
              "    </tr>\n",
              "    <tr>\n",
              "      <th>blue-collar</th>\n",
              "      <td>39.561409</td>\n",
              "      <td>265.921366</td>\n",
              "      <td>2.572378</td>\n",
              "      <td>985.810443</td>\n",
              "      <td>0.117256</td>\n",
              "      <td>0.268639</td>\n",
              "      <td>93.664810</td>\n",
              "      <td>-41.331284</td>\n",
              "      <td>3.792757</td>\n",
              "      <td>5176.246686</td>\n",
              "    </tr>\n",
              "    <tr>\n",
              "      <th>entrepreneur</th>\n",
              "      <td>41.529179</td>\n",
              "      <td>262.259149</td>\n",
              "      <td>2.512364</td>\n",
              "      <td>982.302671</td>\n",
              "      <td>0.138477</td>\n",
              "      <td>0.160138</td>\n",
              "      <td>93.606739</td>\n",
              "      <td>-41.370722</td>\n",
              "      <td>3.790149</td>\n",
              "      <td>5176.436795</td>\n",
              "    </tr>\n",
              "    <tr>\n",
              "      <th>housemaid</th>\n",
              "      <td>45.645333</td>\n",
              "      <td>252.501333</td>\n",
              "      <td>2.601333</td>\n",
              "      <td>963.246667</td>\n",
              "      <td>0.128000</td>\n",
              "      <td>0.438400</td>\n",
              "      <td>93.676820</td>\n",
              "      <td>-39.669333</td>\n",
              "      <td>4.011756</td>\n",
              "      <td>5179.891467</td>\n",
              "    </tr>\n",
              "    <tr>\n",
              "      <th>management</th>\n",
              "      <td>42.296829</td>\n",
              "      <td>256.411298</td>\n",
              "      <td>2.476214</td>\n",
              "      <td>958.131318</td>\n",
              "      <td>0.191278</td>\n",
              "      <td>-0.015857</td>\n",
              "      <td>93.527771</td>\n",
              "      <td>-40.426462</td>\n",
              "      <td>3.609738</td>\n",
              "      <td>5166.005451</td>\n",
              "    </tr>\n",
              "    <tr>\n",
              "      <th>retired</th>\n",
              "      <td>62.106312</td>\n",
              "      <td>274.447674</td>\n",
              "      <td>2.457641</td>\n",
              "      <td>902.488372</td>\n",
              "      <td>0.306478</td>\n",
              "      <td>-0.730316</td>\n",
              "      <td>93.410906</td>\n",
              "      <td>-38.507226</td>\n",
              "      <td>2.754461</td>\n",
              "      <td>5121.794934</td>\n",
              "    </tr>\n",
              "    <tr>\n",
              "      <th>self-employed</th>\n",
              "      <td>39.776195</td>\n",
              "      <td>260.464903</td>\n",
              "      <td>2.703967</td>\n",
              "      <td>975.748728</td>\n",
              "      <td>0.142421</td>\n",
              "      <td>0.089827</td>\n",
              "      <td>93.560283</td>\n",
              "      <td>-40.566022</td>\n",
              "      <td>3.682649</td>\n",
              "      <td>5170.380671</td>\n",
              "    </tr>\n",
              "    <tr>\n",
              "      <th>services</th>\n",
              "      <td>37.799427</td>\n",
              "      <td>257.164756</td>\n",
              "      <td>2.577722</td>\n",
              "      <td>978.709527</td>\n",
              "      <td>0.150788</td>\n",
              "      <td>0.189542</td>\n",
              "      <td>93.638757</td>\n",
              "      <td>-41.297314</td>\n",
              "      <td>3.717163</td>\n",
              "      <td>5172.247994</td>\n",
              "    </tr>\n",
              "    <tr>\n",
              "      <th>student</th>\n",
              "      <td>25.979032</td>\n",
              "      <td>276.824194</td>\n",
              "      <td>2.133871</td>\n",
              "      <td>847.012903</td>\n",
              "      <td>0.496774</td>\n",
              "      <td>-1.366452</td>\n",
              "      <td>93.338034</td>\n",
              "      <td>-40.323871</td>\n",
              "      <td>1.930376</td>\n",
              "      <td>5088.430968</td>\n",
              "    </tr>\n",
              "    <tr>\n",
              "      <th>technician</th>\n",
              "      <td>38.489641</td>\n",
              "      <td>250.044397</td>\n",
              "      <td>2.560042</td>\n",
              "      <td>963.748837</td>\n",
              "      <td>0.159197</td>\n",
              "      <td>0.256152</td>\n",
              "      <td>93.560260</td>\n",
              "      <td>-39.939915</td>\n",
              "      <td>3.802159</td>\n",
              "      <td>5174.732643</td>\n",
              "    </tr>\n",
              "    <tr>\n",
              "      <th>unemployed</th>\n",
              "      <td>39.542083</td>\n",
              "      <td>256.566334</td>\n",
              "      <td>2.522111</td>\n",
              "      <td>933.818830</td>\n",
              "      <td>0.195435</td>\n",
              "      <td>-0.081027</td>\n",
              "      <td>93.566401</td>\n",
              "      <td>-40.024964</td>\n",
              "      <td>3.496919</td>\n",
              "      <td>5158.750785</td>\n",
              "    </tr>\n",
              "  </tbody>\n",
              "</table>\n",
              "</div>\n",
              "      <button class=\"colab-df-convert\" onclick=\"convertToInteractive('df-7f601e9a-1dbc-4f16-9a3d-6d9d5ed93be9')\"\n",
              "              title=\"Convert this dataframe to an interactive table.\"\n",
              "              style=\"display:none;\">\n",
              "        \n",
              "  <svg xmlns=\"http://www.w3.org/2000/svg\" height=\"24px\"viewBox=\"0 0 24 24\"\n",
              "       width=\"24px\">\n",
              "    <path d=\"M0 0h24v24H0V0z\" fill=\"none\"/>\n",
              "    <path d=\"M18.56 5.44l.94 2.06.94-2.06 2.06-.94-2.06-.94-.94-2.06-.94 2.06-2.06.94zm-11 1L8.5 8.5l.94-2.06 2.06-.94-2.06-.94L8.5 2.5l-.94 2.06-2.06.94zm10 10l.94 2.06.94-2.06 2.06-.94-2.06-.94-.94-2.06-.94 2.06-2.06.94z\"/><path d=\"M17.41 7.96l-1.37-1.37c-.4-.4-.92-.59-1.43-.59-.52 0-1.04.2-1.43.59L10.3 9.45l-7.72 7.72c-.78.78-.78 2.05 0 2.83L4 21.41c.39.39.9.59 1.41.59.51 0 1.02-.2 1.41-.59l7.78-7.78 2.81-2.81c.8-.78.8-2.07 0-2.86zM5.41 20L4 18.59l7.72-7.72 1.47 1.35L5.41 20z\"/>\n",
              "  </svg>\n",
              "      </button>\n",
              "      \n",
              "  <style>\n",
              "    .colab-df-container {\n",
              "      display:flex;\n",
              "      flex-wrap:wrap;\n",
              "      gap: 12px;\n",
              "    }\n",
              "\n",
              "    .colab-df-convert {\n",
              "      background-color: #E8F0FE;\n",
              "      border: none;\n",
              "      border-radius: 50%;\n",
              "      cursor: pointer;\n",
              "      display: none;\n",
              "      fill: #1967D2;\n",
              "      height: 32px;\n",
              "      padding: 0 0 0 0;\n",
              "      width: 32px;\n",
              "    }\n",
              "\n",
              "    .colab-df-convert:hover {\n",
              "      background-color: #E2EBFA;\n",
              "      box-shadow: 0px 1px 2px rgba(60, 64, 67, 0.3), 0px 1px 3px 1px rgba(60, 64, 67, 0.15);\n",
              "      fill: #174EA6;\n",
              "    }\n",
              "\n",
              "    [theme=dark] .colab-df-convert {\n",
              "      background-color: #3B4455;\n",
              "      fill: #D2E3FC;\n",
              "    }\n",
              "\n",
              "    [theme=dark] .colab-df-convert:hover {\n",
              "      background-color: #434B5C;\n",
              "      box-shadow: 0px 1px 3px 1px rgba(0, 0, 0, 0.15);\n",
              "      filter: drop-shadow(0px 1px 2px rgba(0, 0, 0, 0.3));\n",
              "      fill: #FFFFFF;\n",
              "    }\n",
              "  </style>\n",
              "\n",
              "      <script>\n",
              "        const buttonEl =\n",
              "          document.querySelector('#df-7f601e9a-1dbc-4f16-9a3d-6d9d5ed93be9 button.colab-df-convert');\n",
              "        buttonEl.style.display =\n",
              "          google.colab.kernel.accessAllowed ? 'block' : 'none';\n",
              "\n",
              "        async function convertToInteractive(key) {\n",
              "          const element = document.querySelector('#df-7f601e9a-1dbc-4f16-9a3d-6d9d5ed93be9');\n",
              "          const dataTable =\n",
              "            await google.colab.kernel.invokeFunction('convertToInteractive',\n",
              "                                                     [key], {});\n",
              "          if (!dataTable) return;\n",
              "\n",
              "          const docLinkHtml = 'Like what you see? Visit the ' +\n",
              "            '<a target=\"_blank\" href=https://colab.research.google.com/notebooks/data_table.ipynb>data table notebook</a>'\n",
              "            + ' to learn more about interactive tables.';\n",
              "          element.innerHTML = '';\n",
              "          dataTable['output_type'] = 'display_data';\n",
              "          await google.colab.output.renderOutput(dataTable, element);\n",
              "          const docLink = document.createElement('div');\n",
              "          docLink.innerHTML = docLinkHtml;\n",
              "          element.appendChild(docLink);\n",
              "        }\n",
              "      </script>\n",
              "    </div>\n",
              "  </div>\n",
              "  "
            ]
          },
          "metadata": {},
          "execution_count": 12
        }
      ]
    },
    {
      "cell_type": "code",
      "source": [
        "X_train.groupby(by=\"marital\").mean()"
      ],
      "metadata": {
        "colab": {
          "base_uri": "https://localhost:8080/",
          "height": 239
        },
        "id": "NLhgGdSuxVfr",
        "outputId": "41add4ab-3326-40bd-ed91-38b7d74330ce"
      },
      "execution_count": null,
      "outputs": [
        {
          "output_type": "execute_result",
          "data": {
            "text/plain": [
              "                age    duration  campaign       pdays  previous  emp.var.rate  \\\n",
              "marital                                                                         \n",
              "divorced  44.768613  253.733086  2.622799  965.556688  0.167130      0.162651   \n",
              "married   42.301842  258.341451  2.562291  967.094473  0.153022      0.187893   \n",
              "single    33.132240  258.845721  2.533366  951.596425  0.210726     -0.172622   \n",
              "\n",
              "          cons.price.idx  cons.conf.idx  euribor3m  nr.employed  \n",
              "marital                                                          \n",
              "divorced       93.609145     -40.679673   3.715331  5170.504109  \n",
              "married        93.600527     -40.261854   3.752611  5172.010864  \n",
              "single         93.515709     -40.924293   3.311491  5154.917730  "
            ],
            "text/html": [
              "\n",
              "  <div id=\"df-df16b4eb-efee-4cbd-a2bd-8f35ecd88ca8\">\n",
              "    <div class=\"colab-df-container\">\n",
              "      <div>\n",
              "<style scoped>\n",
              "    .dataframe tbody tr th:only-of-type {\n",
              "        vertical-align: middle;\n",
              "    }\n",
              "\n",
              "    .dataframe tbody tr th {\n",
              "        vertical-align: top;\n",
              "    }\n",
              "\n",
              "    .dataframe thead th {\n",
              "        text-align: right;\n",
              "    }\n",
              "</style>\n",
              "<table border=\"1\" class=\"dataframe\">\n",
              "  <thead>\n",
              "    <tr style=\"text-align: right;\">\n",
              "      <th></th>\n",
              "      <th>age</th>\n",
              "      <th>duration</th>\n",
              "      <th>campaign</th>\n",
              "      <th>pdays</th>\n",
              "      <th>previous</th>\n",
              "      <th>emp.var.rate</th>\n",
              "      <th>cons.price.idx</th>\n",
              "      <th>cons.conf.idx</th>\n",
              "      <th>euribor3m</th>\n",
              "      <th>nr.employed</th>\n",
              "    </tr>\n",
              "    <tr>\n",
              "      <th>marital</th>\n",
              "      <th></th>\n",
              "      <th></th>\n",
              "      <th></th>\n",
              "      <th></th>\n",
              "      <th></th>\n",
              "      <th></th>\n",
              "      <th></th>\n",
              "      <th></th>\n",
              "      <th></th>\n",
              "      <th></th>\n",
              "    </tr>\n",
              "  </thead>\n",
              "  <tbody>\n",
              "    <tr>\n",
              "      <th>divorced</th>\n",
              "      <td>44.768613</td>\n",
              "      <td>253.733086</td>\n",
              "      <td>2.622799</td>\n",
              "      <td>965.556688</td>\n",
              "      <td>0.167130</td>\n",
              "      <td>0.162651</td>\n",
              "      <td>93.609145</td>\n",
              "      <td>-40.679673</td>\n",
              "      <td>3.715331</td>\n",
              "      <td>5170.504109</td>\n",
              "    </tr>\n",
              "    <tr>\n",
              "      <th>married</th>\n",
              "      <td>42.301842</td>\n",
              "      <td>258.341451</td>\n",
              "      <td>2.562291</td>\n",
              "      <td>967.094473</td>\n",
              "      <td>0.153022</td>\n",
              "      <td>0.187893</td>\n",
              "      <td>93.600527</td>\n",
              "      <td>-40.261854</td>\n",
              "      <td>3.752611</td>\n",
              "      <td>5172.010864</td>\n",
              "    </tr>\n",
              "    <tr>\n",
              "      <th>single</th>\n",
              "      <td>33.132240</td>\n",
              "      <td>258.845721</td>\n",
              "      <td>2.533366</td>\n",
              "      <td>951.596425</td>\n",
              "      <td>0.210726</td>\n",
              "      <td>-0.172622</td>\n",
              "      <td>93.515709</td>\n",
              "      <td>-40.924293</td>\n",
              "      <td>3.311491</td>\n",
              "      <td>5154.917730</td>\n",
              "    </tr>\n",
              "  </tbody>\n",
              "</table>\n",
              "</div>\n",
              "      <button class=\"colab-df-convert\" onclick=\"convertToInteractive('df-df16b4eb-efee-4cbd-a2bd-8f35ecd88ca8')\"\n",
              "              title=\"Convert this dataframe to an interactive table.\"\n",
              "              style=\"display:none;\">\n",
              "        \n",
              "  <svg xmlns=\"http://www.w3.org/2000/svg\" height=\"24px\"viewBox=\"0 0 24 24\"\n",
              "       width=\"24px\">\n",
              "    <path d=\"M0 0h24v24H0V0z\" fill=\"none\"/>\n",
              "    <path d=\"M18.56 5.44l.94 2.06.94-2.06 2.06-.94-2.06-.94-.94-2.06-.94 2.06-2.06.94zm-11 1L8.5 8.5l.94-2.06 2.06-.94-2.06-.94L8.5 2.5l-.94 2.06-2.06.94zm10 10l.94 2.06.94-2.06 2.06-.94-2.06-.94-.94-2.06-.94 2.06-2.06.94z\"/><path d=\"M17.41 7.96l-1.37-1.37c-.4-.4-.92-.59-1.43-.59-.52 0-1.04.2-1.43.59L10.3 9.45l-7.72 7.72c-.78.78-.78 2.05 0 2.83L4 21.41c.39.39.9.59 1.41.59.51 0 1.02-.2 1.41-.59l7.78-7.78 2.81-2.81c.8-.78.8-2.07 0-2.86zM5.41 20L4 18.59l7.72-7.72 1.47 1.35L5.41 20z\"/>\n",
              "  </svg>\n",
              "      </button>\n",
              "      \n",
              "  <style>\n",
              "    .colab-df-container {\n",
              "      display:flex;\n",
              "      flex-wrap:wrap;\n",
              "      gap: 12px;\n",
              "    }\n",
              "\n",
              "    .colab-df-convert {\n",
              "      background-color: #E8F0FE;\n",
              "      border: none;\n",
              "      border-radius: 50%;\n",
              "      cursor: pointer;\n",
              "      display: none;\n",
              "      fill: #1967D2;\n",
              "      height: 32px;\n",
              "      padding: 0 0 0 0;\n",
              "      width: 32px;\n",
              "    }\n",
              "\n",
              "    .colab-df-convert:hover {\n",
              "      background-color: #E2EBFA;\n",
              "      box-shadow: 0px 1px 2px rgba(60, 64, 67, 0.3), 0px 1px 3px 1px rgba(60, 64, 67, 0.15);\n",
              "      fill: #174EA6;\n",
              "    }\n",
              "\n",
              "    [theme=dark] .colab-df-convert {\n",
              "      background-color: #3B4455;\n",
              "      fill: #D2E3FC;\n",
              "    }\n",
              "\n",
              "    [theme=dark] .colab-df-convert:hover {\n",
              "      background-color: #434B5C;\n",
              "      box-shadow: 0px 1px 3px 1px rgba(0, 0, 0, 0.15);\n",
              "      filter: drop-shadow(0px 1px 2px rgba(0, 0, 0, 0.3));\n",
              "      fill: #FFFFFF;\n",
              "    }\n",
              "  </style>\n",
              "\n",
              "      <script>\n",
              "        const buttonEl =\n",
              "          document.querySelector('#df-df16b4eb-efee-4cbd-a2bd-8f35ecd88ca8 button.colab-df-convert');\n",
              "        buttonEl.style.display =\n",
              "          google.colab.kernel.accessAllowed ? 'block' : 'none';\n",
              "\n",
              "        async function convertToInteractive(key) {\n",
              "          const element = document.querySelector('#df-df16b4eb-efee-4cbd-a2bd-8f35ecd88ca8');\n",
              "          const dataTable =\n",
              "            await google.colab.kernel.invokeFunction('convertToInteractive',\n",
              "                                                     [key], {});\n",
              "          if (!dataTable) return;\n",
              "\n",
              "          const docLinkHtml = 'Like what you see? Visit the ' +\n",
              "            '<a target=\"_blank\" href=https://colab.research.google.com/notebooks/data_table.ipynb>data table notebook</a>'\n",
              "            + ' to learn more about interactive tables.';\n",
              "          element.innerHTML = '';\n",
              "          dataTable['output_type'] = 'display_data';\n",
              "          await google.colab.output.renderOutput(dataTable, element);\n",
              "          const docLink = document.createElement('div');\n",
              "          docLink.innerHTML = docLinkHtml;\n",
              "          element.appendChild(docLink);\n",
              "        }\n",
              "      </script>\n",
              "    </div>\n",
              "  </div>\n",
              "  "
            ]
          },
          "metadata": {},
          "execution_count": 13
        }
      ]
    },
    {
      "cell_type": "markdown",
      "source": [
        "<a name=\"visualizacion-hist\"></a>\n",
        "## Histogramas."
      ],
      "metadata": {
        "id": "om-lleg1sS7S"
      }
    },
    {
      "cell_type": "markdown",
      "source": [
        "Podemos ver que tanto en el feature `duration` como en `camapign` tenemos una distribución long tail con muchas obs en 0.\n",
        "\n",
        "Mientras que el feature `age` presenta una distribución un poco semejante a una normal."
      ],
      "metadata": {
        "id": "EYhrKb6ft8MT"
      }
    },
    {
      "cell_type": "code",
      "source": [
        "X_train.hist(bins=30, figsize=(15,15), color=\"b\")"
      ],
      "metadata": {
        "colab": {
          "base_uri": "https://localhost:8080/",
          "height": 1000
        },
        "id": "vF-RTJvPsVCj",
        "outputId": "27326c78-2127-45bf-b118-73c94402de96"
      },
      "execution_count": null,
      "outputs": [
        {
          "output_type": "execute_result",
          "data": {
            "text/plain": [
              "array([[<matplotlib.axes._subplots.AxesSubplot object at 0x7f65dccbc810>,\n",
              "        <matplotlib.axes._subplots.AxesSubplot object at 0x7f65dcc0f8d0>,\n",
              "        <matplotlib.axes._subplots.AxesSubplot object at 0x7f65dcbdf350>],\n",
              "       [<matplotlib.axes._subplots.AxesSubplot object at 0x7f65dcb95950>,\n",
              "        <matplotlib.axes._subplots.AxesSubplot object at 0x7f65dcb4af50>,\n",
              "        <matplotlib.axes._subplots.AxesSubplot object at 0x7f65dcb0d590>],\n",
              "       [<matplotlib.axes._subplots.AxesSubplot object at 0x7f65dcb43c10>,\n",
              "        <matplotlib.axes._subplots.AxesSubplot object at 0x7f65dca8a190>,\n",
              "        <matplotlib.axes._subplots.AxesSubplot object at 0x7f65dca8a1d0>],\n",
              "       [<matplotlib.axes._subplots.AxesSubplot object at 0x7f65dcabf8d0>,\n",
              "        <matplotlib.axes._subplots.AxesSubplot object at 0x7f65dca39410>,\n",
              "        <matplotlib.axes._subplots.AxesSubplot object at 0x7f65dc9eea10>]],\n",
              "      dtype=object)"
            ]
          },
          "metadata": {},
          "execution_count": 14
        },
        {
          "output_type": "display_data",
          "data": {
            "text/plain": [
              "<Figure size 1080x1080 with 12 Axes>"
            ],
            "image/png": "[encoded data removed]"
          },
          "metadata": {
            "needs_background": "light"
          }
        }
      ]
    },
    {
      "cell_type": "markdown",
      "source": [
        "Separo los clientes que se suscribieron vs los que NO se suscribieron al depósito."
      ],
      "metadata": {
        "id": "fgNPwxRs95Ei"
      }
    },
    {
      "cell_type": "code",
      "source": [
        "X_train.groupby(by=\"y\").mean()"
      ],
      "metadata": {
        "colab": {
          "base_uri": "https://localhost:8080/",
          "height": 207
        },
        "id": "2KUU569KwfoY",
        "outputId": "085193d8-7647-4cbf-f40a-4db8f65368fc"
      },
      "execution_count": null,
      "outputs": [
        {
          "output_type": "execute_result",
          "data": {
            "text/plain": [
              "           age    duration  campaign       pdays  previous  emp.var.rate  \\\n",
              "y                                                                          \n",
              "no   39.853434  221.300168   2.62868  984.558818  0.129872      0.250616   \n",
              "yes  40.931734  547.435117   2.04182  788.616236  0.496925     -1.243573   \n",
              "\n",
              "     cons.price.idx  cons.conf.idx  euribor3m  nr.employed  \n",
              "y                                                           \n",
              "no        93.605412     -40.583830   3.814656  5176.196051  \n",
              "yes       93.355895     -39.826353   2.110593  5094.369772  "
            ],
            "text/html": [
              "\n",
              "  <div id=\"df-2c4bd3da-dab1-4bf4-a585-b1039fe1375c\">\n",
              "    <div class=\"colab-df-container\">\n",
              "      <div>\n",
              "<style scoped>\n",
              "    .dataframe tbody tr th:only-of-type {\n",
              "        vertical-align: middle;\n",
              "    }\n",
              "\n",
              "    .dataframe tbody tr th {\n",
              "        vertical-align: top;\n",
              "    }\n",
              "\n",
              "    .dataframe thead th {\n",
              "        text-align: right;\n",
              "    }\n",
              "</style>\n",
              "<table border=\"1\" class=\"dataframe\">\n",
              "  <thead>\n",
              "    <tr style=\"text-align: right;\">\n",
              "      <th></th>\n",
              "      <th>age</th>\n",
              "      <th>duration</th>\n",
              "      <th>campaign</th>\n",
              "      <th>pdays</th>\n",
              "      <th>previous</th>\n",
              "      <th>emp.var.rate</th>\n",
              "      <th>cons.price.idx</th>\n",
              "      <th>cons.conf.idx</th>\n",
              "      <th>euribor3m</th>\n",
              "      <th>nr.employed</th>\n",
              "    </tr>\n",
              "    <tr>\n",
              "      <th>y</th>\n",
              "      <th></th>\n",
              "      <th></th>\n",
              "      <th></th>\n",
              "      <th></th>\n",
              "      <th></th>\n",
              "      <th></th>\n",
              "      <th></th>\n",
              "      <th></th>\n",
              "      <th></th>\n",
              "      <th></th>\n",
              "    </tr>\n",
              "  </thead>\n",
              "  <tbody>\n",
              "    <tr>\n",
              "      <th>no</th>\n",
              "      <td>39.853434</td>\n",
              "      <td>221.300168</td>\n",
              "      <td>2.62868</td>\n",
              "      <td>984.558818</td>\n",
              "      <td>0.129872</td>\n",
              "      <td>0.250616</td>\n",
              "      <td>93.605412</td>\n",
              "      <td>-40.583830</td>\n",
              "      <td>3.814656</td>\n",
              "      <td>5176.196051</td>\n",
              "    </tr>\n",
              "    <tr>\n",
              "      <th>yes</th>\n",
              "      <td>40.931734</td>\n",
              "      <td>547.435117</td>\n",
              "      <td>2.04182</td>\n",
              "      <td>788.616236</td>\n",
              "      <td>0.496925</td>\n",
              "      <td>-1.243573</td>\n",
              "      <td>93.355895</td>\n",
              "      <td>-39.826353</td>\n",
              "      <td>2.110593</td>\n",
              "      <td>5094.369772</td>\n",
              "    </tr>\n",
              "  </tbody>\n",
              "</table>\n",
              "</div>\n",
              "      <button class=\"colab-df-convert\" onclick=\"convertToInteractive('df-2c4bd3da-dab1-4bf4-a585-b1039fe1375c')\"\n",
              "              title=\"Convert this dataframe to an interactive table.\"\n",
              "              style=\"display:none;\">\n",
              "        \n",
              "  <svg xmlns=\"http://www.w3.org/2000/svg\" height=\"24px\"viewBox=\"0 0 24 24\"\n",
              "       width=\"24px\">\n",
              "    <path d=\"M0 0h24v24H0V0z\" fill=\"none\"/>\n",
              "    <path d=\"M18.56 5.44l.94 2.06.94-2.06 2.06-.94-2.06-.94-.94-2.06-.94 2.06-2.06.94zm-11 1L8.5 8.5l.94-2.06 2.06-.94-2.06-.94L8.5 2.5l-.94 2.06-2.06.94zm10 10l.94 2.06.94-2.06 2.06-.94-2.06-.94-.94-2.06-.94 2.06-2.06.94z\"/><path d=\"M17.41 7.96l-1.37-1.37c-.4-.4-.92-.59-1.43-.59-.52 0-1.04.2-1.43.59L10.3 9.45l-7.72 7.72c-.78.78-.78 2.05 0 2.83L4 21.41c.39.39.9.59 1.41.59.51 0 1.02-.2 1.41-.59l7.78-7.78 2.81-2.81c.8-.78.8-2.07 0-2.86zM5.41 20L4 18.59l7.72-7.72 1.47 1.35L5.41 20z\"/>\n",
              "  </svg>\n",
              "      </button>\n",
              "      \n",
              "  <style>\n",
              "    .colab-df-container {\n",
              "      display:flex;\n",
              "      flex-wrap:wrap;\n",
              "      gap: 12px;\n",
              "    }\n",
              "\n",
              "    .colab-df-convert {\n",
              "      background-color: #E8F0FE;\n",
              "      border: none;\n",
              "      border-radius: 50%;\n",
              "      cursor: pointer;\n",
              "      display: none;\n",
              "      fill: #1967D2;\n",
              "      height: 32px;\n",
              "      padding: 0 0 0 0;\n",
              "      width: 32px;\n",
              "    }\n",
              "\n",
              "    .colab-df-convert:hover {\n",
              "      background-color: #E2EBFA;\n",
              "      box-shadow: 0px 1px 2px rgba(60, 64, 67, 0.3), 0px 1px 3px 1px rgba(60, 64, 67, 0.15);\n",
              "      fill: #174EA6;\n",
              "    }\n",
              "\n",
              "    [theme=dark] .colab-df-convert {\n",
              "      background-color: #3B4455;\n",
              "      fill: #D2E3FC;\n",
              "    }\n",
              "\n",
              "    [theme=dark] .colab-df-convert:hover {\n",
              "      background-color: #434B5C;\n",
              "      box-shadow: 0px 1px 3px 1px rgba(0, 0, 0, 0.15);\n",
              "      filter: drop-shadow(0px 1px 2px rgba(0, 0, 0, 0.3));\n",
              "      fill: #FFFFFF;\n",
              "    }\n",
              "  </style>\n",
              "\n",
              "      <script>\n",
              "        const buttonEl =\n",
              "          document.querySelector('#df-2c4bd3da-dab1-4bf4-a585-b1039fe1375c button.colab-df-convert');\n",
              "        buttonEl.style.display =\n",
              "          google.colab.kernel.accessAllowed ? 'block' : 'none';\n",
              "\n",
              "        async function convertToInteractive(key) {\n",
              "          const element = document.querySelector('#df-2c4bd3da-dab1-4bf4-a585-b1039fe1375c');\n",
              "          const dataTable =\n",
              "            await google.colab.kernel.invokeFunction('convertToInteractive',\n",
              "                                                     [key], {});\n",
              "          if (!dataTable) return;\n",
              "\n",
              "          const docLinkHtml = 'Like what you see? Visit the ' +\n",
              "            '<a target=\"_blank\" href=https://colab.research.google.com/notebooks/data_table.ipynb>data table notebook</a>'\n",
              "            + ' to learn more about interactive tables.';\n",
              "          element.innerHTML = '';\n",
              "          dataTable['output_type'] = 'display_data';\n",
              "          await google.colab.output.renderOutput(dataTable, element);\n",
              "          const docLink = document.createElement('div');\n",
              "          docLink.innerHTML = docLinkHtml;\n",
              "          element.appendChild(docLink);\n",
              "        }\n",
              "      </script>\n",
              "    </div>\n",
              "  </div>\n",
              "  "
            ]
          },
          "metadata": {},
          "execution_count": 15
        }
      ]
    },
    {
      "cell_type": "code",
      "source": [
        "sub_clients = X_train[X_train[\"y\"] == \"yes\"]\n",
        "no_sub_clients = X_train[X_train[\"y\"] == \"no\"]"
      ],
      "metadata": {
        "id": "LxotSUq28AkZ"
      },
      "execution_count": null,
      "outputs": []
    },
    {
      "cell_type": "markdown",
      "source": [
        "Podemos notar que hay muchas diferencias en los histogramas en los sig features:\n",
        "\n",
        "* `euribor3m`.\n",
        "* `cons.conf.idx`.\n",
        "* `cons.price.idx`.\n",
        "* `campaign`. \n",
        "* `duration`.\n"
      ],
      "metadata": {
        "id": "GLRjv8oWAMTr"
      }
    },
    {
      "cell_type": "code",
      "source": [
        "# obtengo features numericos\n",
        "num_feats = [feat for feat in X_train.columns if X_train[feat].dtype != np.object_]\n",
        "\n",
        "f, axs = plt.subplots(10, 2, figsize=(15,50))\n",
        "\n",
        "# ploteo los histogramas en los features numericos haciendo una comparativa\n",
        "# entre los clientes suscriptos vs no-suscriptos\n",
        "for i in range(10):\n",
        "  for j in range(2):\n",
        "    if j==0:\n",
        "      sns.histplot(no_sub_clients[num_feats[i]], ax=axs[i, j]).set(title=\"No subs Clients\")\n",
        "    else:\n",
        "      sns.histplot(sub_clients[num_feats[i]], ax=axs[i, j]).set(title=\"Subs Clients\")"
      ],
      "metadata": {
        "colab": {
          "base_uri": "https://localhost:8080/",
          "height": 1000
        },
        "id": "XQbb-cOL91ZX",
        "outputId": "0b3179f2-34e6-42a3-eb1c-d65f9fa682b8"
      },
      "execution_count": null,
      "outputs": [
        {
          "output_type": "display_data",
          "data": {
            "text/plain": [
              "<Figure size 1080x3600 with 20 Axes>"
            ],
            "image/png": "[encoded data removed]"
          },
          "metadata": {
            "needs_background": "light"
          }
        }
      ]
    },
    {
      "cell_type": "markdown",
      "source": [
        "<a name=\"visualizacion-barras\"></a>\n",
        "## Graficos de Barras"
      ],
      "metadata": {
        "id": "Rehdmvf4uWBo"
      }
    },
    {
      "cell_type": "code",
      "source": [
        "# obtengo features categoricos\n",
        "cat_feats = [feat for feat in X_train.columns if X_train[feat].dtype == np.object_]"
      ],
      "metadata": {
        "id": "qTX4x41RuXbx"
      },
      "execution_count": null,
      "outputs": []
    },
    {
      "cell_type": "markdown",
      "source": [
        "Podemos ver que tenemos un 88% observaciones de clientes que NO se suscriben al depósito."
      ],
      "metadata": {
        "id": "zgPvFvVTChyi"
      }
    },
    {
      "cell_type": "code",
      "source": [
        "X_train[\"y\"].value_counts(normalize=True)"
      ],
      "metadata": {
        "colab": {
          "base_uri": "https://localhost:8080/"
        },
        "id": "IqVIKZuYCf_w",
        "outputId": "6e3f890d-0b1b-4e8e-8db3-06cc0b797ff2"
      },
      "execution_count": null,
      "outputs": [
        {
          "output_type": "execute_result",
          "data": {
            "text/plain": [
              "no     0.887205\n",
              "yes    0.112795\n",
              "Name: y, dtype: float64"
            ]
          },
          "metadata": {},
          "execution_count": 19
        }
      ]
    },
    {
      "cell_type": "code",
      "source": [
        "plt.figure(figsize=(5,5))\n",
        "sns.countplot(x=\"y\", data=X_train)"
      ],
      "metadata": {
        "colab": {
          "base_uri": "https://localhost:8080/",
          "height": 351
        },
        "id": "coOEWx9OCU0W",
        "outputId": "e59a0fff-6309-4eac-e3ff-23ac280dfdee"
      },
      "execution_count": null,
      "outputs": [
        {
          "output_type": "execute_result",
          "data": {
            "text/plain": [
              "<matplotlib.axes._subplots.AxesSubplot at 0x7f65dc760750>"
            ]
          },
          "metadata": {},
          "execution_count": 20
        },
        {
          "output_type": "display_data",
          "data": {
            "text/plain": [
              "<Figure size 360x360 with 1 Axes>"
            ],
            "image/png": "[encoded data removed]"
          },
          "metadata": {
            "needs_background": "light"
          }
        }
      ]
    },
    {
      "cell_type": "markdown",
      "source": [
        "**ALGUNAS OBS:** \n",
        "Pareciera haber cierta relación entre el target y los sig features categóricos:\n",
        "\n",
        "* `job` esto podría ser debido a que el servicio ofrecido podría favorecer más a los clientes que tengan cierto tipo de trabajo.\n",
        "* `month` podemos ver que hay meses en donde la cantidad de clientes suscriptos son iguales a los que decidieron no suscribirse al depósito.\n",
        "* `poutcome` podemos ver que los resultados de campañas de marketing anteriores tienen mucha influencia.\n"
      ],
      "metadata": {
        "id": "yHaw-1gPDq53"
      }
    },
    {
      "cell_type": "code",
      "source": [
        "f, axs = plt.subplots(len(cat_feats) -1 , 1, figsize=(15,50))\n",
        "\n",
        "for i in range(len(cat_feats)-1):\n",
        "  sns.countplot(x=cat_feats[i], hue = \"y\", data = X_train, ax=axs[i])"
      ],
      "metadata": {
        "colab": {
          "base_uri": "https://localhost:8080/",
          "height": 1000
        },
        "id": "a96N9wAUC_rt",
        "outputId": "151f7c38-750a-4d55-82e8-59cfc7ee6ced"
      },
      "execution_count": null,
      "outputs": [
        {
          "output_type": "display_data",
          "data": {
            "text/plain": [
              "<Figure size 1080x3600 with 10 Axes>"
            ],
            "image/png": "[encoded data removed]"
          },
          "metadata": {
            "needs_background": "light"
          }
        }
      ]
    },
    {
      "cell_type": "markdown",
      "source": [
        "Agrupo por trabajo y por target para analizar los contactos previos que se hicieron a los clientes con determinados trabajos."
      ],
      "metadata": {
        "id": "Kvx5I4pfVU8j"
      }
    },
    {
      "cell_type": "code",
      "source": [
        "X_train.groupby([\"job\",\"y\"])[\"previous\"].mean()"
      ],
      "metadata": {
        "colab": {
          "base_uri": "https://localhost:8080/"
        },
        "id": "Om9q2J0AJcPm",
        "outputId": "db7b8a52-dc5d-42d5-c617-2d33b41eeb49"
      },
      "execution_count": null,
      "outputs": [
        {
          "output_type": "execute_result",
          "data": {
            "text/plain": [
              "job            y  \n",
              "admin.         no     0.142165\n",
              "               yes    0.519397\n",
              "blue-collar    no     0.105220\n",
              "               yes    0.283105\n",
              "entrepreneur   no     0.122404\n",
              "               yes    0.291667\n",
              "housemaid      no     0.076233\n",
              "               yes    0.555556\n",
              "management     no     0.139140\n",
              "               yes    0.560000\n",
              "retired        no     0.203765\n",
              "               yes    0.614618\n",
              "self-employed  no     0.124717\n",
              "               yes    0.297030\n",
              "services       no     0.133229\n",
              "               yes    0.351111\n",
              "student        no     0.361949\n",
              "               yes    0.804233\n",
              "technician     no     0.111850\n",
              "               yes    0.543353\n",
              "unemployed     no     0.135000\n",
              "               yes    0.554455\n",
              "Name: previous, dtype: float64"
            ]
          },
          "metadata": {},
          "execution_count": 22
        }
      ]
    },
    {
      "cell_type": "code",
      "source": [
        "sns.catplot(data=X_train, x=\"job\", y=\"previous\", kind=\"bar\")\n",
        "plt.xticks(rotation=90)"
      ],
      "metadata": {
        "colab": {
          "base_uri": "https://localhost:8080/",
          "height": 465
        },
        "id": "8TxDaNtPJAzy",
        "outputId": "4c92f450-8012-4769-ef8f-64e81c8a449d"
      },
      "execution_count": null,
      "outputs": [
        {
          "output_type": "execute_result",
          "data": {
            "text/plain": [
              "(array([ 0,  1,  2,  3,  4,  5,  6,  7,  8,  9, 10]),\n",
              " <a list of 11 Text major ticklabel objects>)"
            ]
          },
          "metadata": {},
          "execution_count": 23
        },
        {
          "output_type": "display_data",
          "data": {
            "text/plain": [
              "<Figure size 360x360 with 1 Axes>"
            ],
            "image/png": "[encoded data removed]"
          },
          "metadata": {
            "needs_background": "light"
          }
        }
      ]
    },
    {
      "cell_type": "code",
      "source": [
        "sns.catplot(data=X_train, x=\"job\", y=\"previous\", kind=\"bar\", hue=\"y\")\n",
        "plt.xticks(rotation=90)"
      ],
      "metadata": {
        "colab": {
          "base_uri": "https://localhost:8080/",
          "height": 465
        },
        "id": "oBuUATtiVkZ5",
        "outputId": "014a76b3-16ba-40a8-a945-61ac9cc596a6"
      },
      "execution_count": null,
      "outputs": [
        {
          "output_type": "execute_result",
          "data": {
            "text/plain": [
              "(array([ 0,  1,  2,  3,  4,  5,  6,  7,  8,  9, 10]),\n",
              " <a list of 11 Text major ticklabel objects>)"
            ]
          },
          "metadata": {},
          "execution_count": 24
        },
        {
          "output_type": "display_data",
          "data": {
            "text/plain": [
              "<Figure size 413.25x360 with 1 Axes>"
            ],
            "image/png": "[encoded data removed]"
          },
          "metadata": {
            "needs_background": "light"
          }
        }
      ]
    },
    {
      "cell_type": "markdown",
      "source": [
        "Creo una nueva columna que indicara el trimestre al cual pertenece dicho mes en la observación, esto lo hago para poder analizar los atributos de los contextos económicos y sociales."
      ],
      "metadata": {
        "id": "2lfgjBtGTkmo"
      }
    },
    {
      "cell_type": "code",
      "source": [
        "# creo los trimestres\n",
        "Q1 = [\"mar\"]\n",
        "Q2 = [\"apr\", \"may\", \"jun\"]\n",
        "Q3 = [\"jul\", \"aug\", \"sep\"]\n",
        "Q4 = [\"oct\", \"nov\", \"dec\"]\n",
        "\n",
        "# funcion que codifica cada mes en su determinado trimestre\n",
        "def month_encode(month):\n",
        "  if (month in Q1):\n",
        "    return \"Q1\"\n",
        "  elif (month in Q2):\n",
        "    return \"Q2\"\n",
        "  elif (month in Q3):\n",
        "    return \"Q3\"\n",
        "  else:\n",
        "    return \"Q4\"\n",
        "\n",
        "# creo la nueva columna\n",
        "X_train[\"month_quarterly\"] = X_train[\"month\"].map(lambda x: month_encode(x))\n",
        "X_test[\"month_quarterly\"] = X_test[\"month\"].map(lambda x: month_encode(x))"
      ],
      "metadata": {
        "id": "4XNbqBhdMKaL"
      },
      "execution_count": null,
      "outputs": []
    },
    {
      "cell_type": "code",
      "source": [
        "# agrupo por trimestre y calculo la media\n",
        "X_train.groupby(\"month_quarterly\")[[\"emp.var.rate\", \"cons.price.idx\", \"cons.conf.idx\", \n",
        "                                    \"euribor3m\", \"nr.employed\"]].mean()"
      ],
      "metadata": {
        "colab": {
          "base_uri": "https://localhost:8080/",
          "height": 206
        },
        "id": "m287SiBwL6F8",
        "outputId": "45578065-7a5e-465e-e6e1-715436a72285"
      },
      "execution_count": null,
      "outputs": [
        {
          "output_type": "execute_result",
          "data": {
            "text/plain": [
              "                 emp.var.rate  cons.price.idx  cons.conf.idx  euribor3m  \\\n",
              "month_quarterly                                                           \n",
              "Q1                  -1.800000       93.082468     -43.080000   1.189966   \n",
              "Q2                  -0.149383       93.656674     -41.486864   3.302681   \n",
              "Q3                   0.834989       93.614511     -39.035163   4.352027   \n",
              "Q4                  -0.806449       93.185247     -40.020739   3.238495   \n",
              "\n",
              "                 nr.employed  \n",
              "month_quarterly               \n",
              "Q1               5057.944211  \n",
              "Q2               5154.638503  \n",
              "Q3               5198.445024  \n",
              "Q4               5144.512358  "
            ],
            "text/html": [
              "\n",
              "  <div id=\"df-8dec034e-c1c4-4fba-96d8-eef408bbdd0c\">\n",
              "    <div class=\"colab-df-container\">\n",
              "      <div>\n",
              "<style scoped>\n",
              "    .dataframe tbody tr th:only-of-type {\n",
              "        vertical-align: middle;\n",
              "    }\n",
              "\n",
              "    .dataframe tbody tr th {\n",
              "        vertical-align: top;\n",
              "    }\n",
              "\n",
              "    .dataframe thead th {\n",
              "        text-align: right;\n",
              "    }\n",
              "</style>\n",
              "<table border=\"1\" class=\"dataframe\">\n",
              "  <thead>\n",
              "    <tr style=\"text-align: right;\">\n",
              "      <th></th>\n",
              "      <th>emp.var.rate</th>\n",
              "      <th>cons.price.idx</th>\n",
              "      <th>cons.conf.idx</th>\n",
              "      <th>euribor3m</th>\n",
              "      <th>nr.employed</th>\n",
              "    </tr>\n",
              "    <tr>\n",
              "      <th>month_quarterly</th>\n",
              "      <th></th>\n",
              "      <th></th>\n",
              "      <th></th>\n",
              "      <th></th>\n",
              "      <th></th>\n",
              "    </tr>\n",
              "  </thead>\n",
              "  <tbody>\n",
              "    <tr>\n",
              "      <th>Q1</th>\n",
              "      <td>-1.800000</td>\n",
              "      <td>93.082468</td>\n",
              "      <td>-43.080000</td>\n",
              "      <td>1.189966</td>\n",
              "      <td>5057.944211</td>\n",
              "    </tr>\n",
              "    <tr>\n",
              "      <th>Q2</th>\n",
              "      <td>-0.149383</td>\n",
              "      <td>93.656674</td>\n",
              "      <td>-41.486864</td>\n",
              "      <td>3.302681</td>\n",
              "      <td>5154.638503</td>\n",
              "    </tr>\n",
              "    <tr>\n",
              "      <th>Q3</th>\n",
              "      <td>0.834989</td>\n",
              "      <td>93.614511</td>\n",
              "      <td>-39.035163</td>\n",
              "      <td>4.352027</td>\n",
              "      <td>5198.445024</td>\n",
              "    </tr>\n",
              "    <tr>\n",
              "      <th>Q4</th>\n",
              "      <td>-0.806449</td>\n",
              "      <td>93.185247</td>\n",
              "      <td>-40.020739</td>\n",
              "      <td>3.238495</td>\n",
              "      <td>5144.512358</td>\n",
              "    </tr>\n",
              "  </tbody>\n",
              "</table>\n",
              "</div>\n",
              "      <button class=\"colab-df-convert\" onclick=\"convertToInteractive('df-8dec034e-c1c4-4fba-96d8-eef408bbdd0c')\"\n",
              "              title=\"Convert this dataframe to an interactive table.\"\n",
              "              style=\"display:none;\">\n",
              "        \n",
              "  <svg xmlns=\"http://www.w3.org/2000/svg\" height=\"24px\"viewBox=\"0 0 24 24\"\n",
              "       width=\"24px\">\n",
              "    <path d=\"M0 0h24v24H0V0z\" fill=\"none\"/>\n",
              "    <path d=\"M18.56 5.44l.94 2.06.94-2.06 2.06-.94-2.06-.94-.94-2.06-.94 2.06-2.06.94zm-11 1L8.5 8.5l.94-2.06 2.06-.94-2.06-.94L8.5 2.5l-.94 2.06-2.06.94zm10 10l.94 2.06.94-2.06 2.06-.94-2.06-.94-.94-2.06-.94 2.06-2.06.94z\"/><path d=\"M17.41 7.96l-1.37-1.37c-.4-.4-.92-.59-1.43-.59-.52 0-1.04.2-1.43.59L10.3 9.45l-7.72 7.72c-.78.78-.78 2.05 0 2.83L4 21.41c.39.39.9.59 1.41.59.51 0 1.02-.2 1.41-.59l7.78-7.78 2.81-2.81c.8-.78.8-2.07 0-2.86zM5.41 20L4 18.59l7.72-7.72 1.47 1.35L5.41 20z\"/>\n",
              "  </svg>\n",
              "      </button>\n",
              "      \n",
              "  <style>\n",
              "    .colab-df-container {\n",
              "      display:flex;\n",
              "      flex-wrap:wrap;\n",
              "      gap: 12px;\n",
              "    }\n",
              "\n",
              "    .colab-df-convert {\n",
              "      background-color: #E8F0FE;\n",
              "      border: none;\n",
              "      border-radius: 50%;\n",
              "      cursor: pointer;\n",
              "      display: none;\n",
              "      fill: #1967D2;\n",
              "      height: 32px;\n",
              "      padding: 0 0 0 0;\n",
              "      width: 32px;\n",
              "    }\n",
              "\n",
              "    .colab-df-convert:hover {\n",
              "      background-color: #E2EBFA;\n",
              "      box-shadow: 0px 1px 2px rgba(60, 64, 67, 0.3), 0px 1px 3px 1px rgba(60, 64, 67, 0.15);\n",
              "      fill: #174EA6;\n",
              "    }\n",
              "\n",
              "    [theme=dark] .colab-df-convert {\n",
              "      background-color: #3B4455;\n",
              "      fill: #D2E3FC;\n",
              "    }\n",
              "\n",
              "    [theme=dark] .colab-df-convert:hover {\n",
              "      background-color: #434B5C;\n",
              "      box-shadow: 0px 1px 3px 1px rgba(0, 0, 0, 0.15);\n",
              "      filter: drop-shadow(0px 1px 2px rgba(0, 0, 0, 0.3));\n",
              "      fill: #FFFFFF;\n",
              "    }\n",
              "  </style>\n",
              "\n",
              "      <script>\n",
              "        const buttonEl =\n",
              "          document.querySelector('#df-8dec034e-c1c4-4fba-96d8-eef408bbdd0c button.colab-df-convert');\n",
              "        buttonEl.style.display =\n",
              "          google.colab.kernel.accessAllowed ? 'block' : 'none';\n",
              "\n",
              "        async function convertToInteractive(key) {\n",
              "          const element = document.querySelector('#df-8dec034e-c1c4-4fba-96d8-eef408bbdd0c');\n",
              "          const dataTable =\n",
              "            await google.colab.kernel.invokeFunction('convertToInteractive',\n",
              "                                                     [key], {});\n",
              "          if (!dataTable) return;\n",
              "\n",
              "          const docLinkHtml = 'Like what you see? Visit the ' +\n",
              "            '<a target=\"_blank\" href=https://colab.research.google.com/notebooks/data_table.ipynb>data table notebook</a>'\n",
              "            + ' to learn more about interactive tables.';\n",
              "          element.innerHTML = '';\n",
              "          dataTable['output_type'] = 'display_data';\n",
              "          await google.colab.output.renderOutput(dataTable, element);\n",
              "          const docLink = document.createElement('div');\n",
              "          docLink.innerHTML = docLinkHtml;\n",
              "          element.appendChild(docLink);\n",
              "        }\n",
              "      </script>\n",
              "    </div>\n",
              "  </div>\n",
              "  "
            ]
          },
          "metadata": {},
          "execution_count": 26
        }
      ]
    },
    {
      "cell_type": "markdown",
      "source": [
        "Podemos ver que cada trimestre presenta un valor bastante diferente en lo que refiere al feature `euribor3m`.\n",
        "\n",
        "Este feature es un índice de referencia publicado diariamente que **indica el tipo de interés promedio** .\n",
        "\n",
        "Dicho esto, tiene sentido pensar que si dicho interés es bajo, los clientes estarán más interesados en suscribirse al depósito."
      ],
      "metadata": {
        "id": "q37Dxcf2UAyi"
      }
    },
    {
      "cell_type": "code",
      "source": [
        "sns.catplot(data=X_train, x=\"month_quarterly\", \n",
        "            y=\"euribor3m\", kind=\"bar\")"
      ],
      "metadata": {
        "colab": {
          "base_uri": "https://localhost:8080/",
          "height": 386
        },
        "id": "xqF1e560Umxv",
        "outputId": "b1746793-e322-4f2a-8df7-0fb0acc9bc82"
      },
      "execution_count": null,
      "outputs": [
        {
          "output_type": "execute_result",
          "data": {
            "text/plain": [
              "<seaborn.axisgrid.FacetGrid at 0x7f65dc462650>"
            ]
          },
          "metadata": {},
          "execution_count": 27
        },
        {
          "output_type": "display_data",
          "data": {
            "text/plain": [
              "<Figure size 360x360 with 1 Axes>"
            ],
            "image/png": "[encoded data removed]"
          },
          "metadata": {
            "needs_background": "light"
          }
        }
      ]
    },
    {
      "cell_type": "code",
      "source": [
        "sns.catplot(data=X_train, x=\"month_quarterly\", \n",
        "            y=\"euribor3m\", kind=\"bar\", hue=\"y\")"
      ],
      "metadata": {
        "colab": {
          "base_uri": "https://localhost:8080/",
          "height": 386
        },
        "id": "_Bv4Hn8IK72a",
        "outputId": "a6fdb5dc-5695-491a-9256-43e698d49400"
      },
      "execution_count": null,
      "outputs": [
        {
          "output_type": "execute_result",
          "data": {
            "text/plain": [
              "<seaborn.axisgrid.FacetGrid at 0x7f65d60cda50>"
            ]
          },
          "metadata": {},
          "execution_count": 28
        },
        {
          "output_type": "display_data",
          "data": {
            "text/plain": [
              "<Figure size 413.25x360 with 1 Axes>"
            ],
            "image/png": "[encoded data removed]"
          },
          "metadata": {
            "needs_background": "light"
          }
        }
      ]
    },
    {
      "cell_type": "markdown",
      "source": [
        "Ahora analicemos por mes."
      ],
      "metadata": {
        "id": "JfTyI5lXWK26"
      }
    },
    {
      "cell_type": "code",
      "source": [
        "sns.catplot(data=X_train, x=\"month\", \n",
        "            y=\"euribor3m\", kind=\"bar\")"
      ],
      "metadata": {
        "colab": {
          "base_uri": "https://localhost:8080/",
          "height": 386
        },
        "id": "SLX0UGjeVydl",
        "outputId": "26f65bdd-6b63-4846-c07c-b1b82464ff61"
      },
      "execution_count": null,
      "outputs": [
        {
          "output_type": "execute_result",
          "data": {
            "text/plain": [
              "<seaborn.axisgrid.FacetGrid at 0x7f65dcc62190>"
            ]
          },
          "metadata": {},
          "execution_count": 29
        },
        {
          "output_type": "display_data",
          "data": {
            "text/plain": [
              "<Figure size 360x360 with 1 Axes>"
            ],
            "image/png": "[encoded data removed]"
          },
          "metadata": {
            "needs_background": "light"
          }
        }
      ]
    },
    {
      "cell_type": "code",
      "source": [
        "sns.catplot(data=X_train, x=\"month\", \n",
        "            y=\"euribor3m\", kind=\"bar\", hue=\"y\")"
      ],
      "metadata": {
        "colab": {
          "base_uri": "https://localhost:8080/",
          "height": 386
        },
        "id": "Z4KzciesV2Wo",
        "outputId": "23f90b9a-7e32-4d10-e525-9900d3800e3a"
      },
      "execution_count": null,
      "outputs": [
        {
          "output_type": "execute_result",
          "data": {
            "text/plain": [
              "<seaborn.axisgrid.FacetGrid at 0x7f65d60925d0>"
            ]
          },
          "metadata": {},
          "execution_count": 30
        },
        {
          "output_type": "display_data",
          "data": {
            "text/plain": [
              "<Figure size 413.25x360 with 1 Axes>"
            ],
            "image/png": "[encoded data removed]"
          },
          "metadata": {
            "needs_background": "light"
          }
        }
      ]
    },
    {
      "cell_type": "markdown",
      "source": [
        "Podemos ver el promedio de campañas por mes."
      ],
      "metadata": {
        "id": "pSTW_0aiVBXp"
      }
    },
    {
      "cell_type": "code",
      "source": [
        "sns.catplot(data=X_train, x=\"month\", y=\"campaign\", kind=\"bar\")"
      ],
      "metadata": {
        "colab": {
          "base_uri": "https://localhost:8080/",
          "height": 386
        },
        "id": "GS2OrKDtS7wM",
        "outputId": "00249c5c-9fb2-46ff-f70b-00065f57383e"
      },
      "execution_count": null,
      "outputs": [
        {
          "output_type": "execute_result",
          "data": {
            "text/plain": [
              "<seaborn.axisgrid.FacetGrid at 0x7f65d6023a90>"
            ]
          },
          "metadata": {},
          "execution_count": 31
        },
        {
          "output_type": "display_data",
          "data": {
            "text/plain": [
              "<Figure size 360x360 with 1 Axes>"
            ],
            "image/png": "[encoded data removed]"
          },
          "metadata": {
            "needs_background": "light"
          }
        }
      ]
    },
    {
      "cell_type": "markdown",
      "source": [
        "<a name=\"fe&fs\"></a>\n",
        "# Feature Engineering & Feature Selection."
      ],
      "metadata": {
        "id": "ax2DJFF6OtWV"
      }
    },
    {
      "cell_type": "markdown",
      "source": [
        "<a name=\"fe&fs-disc\"></a>\n",
        "## Discretizacion de variables.\n",
        "\n",
        "La discretización es el proceso de transformar variables continuas en variables discretas mediante la creación de un conjunto de intervalos contiguos que abarcan el rango de valores de la variable.\n",
        "\n",
        "**OBS:**\n",
        "\n",
        "La discretización ayuda a manejar outliars y puede mejorar la distribución en variables con distribuciones tipo long tail."
      ],
      "metadata": {
        "id": "daKMEjxLY-hy"
      }
    },
    {
      "cell_type": "markdown",
      "source": [
        "### Discretizar feature `campaign`.\n"
      ],
      "metadata": {
        "id": "RfOHBoVPdLPn"
      }
    },
    {
      "cell_type": "code",
      "source": [
        "# creo el nombre de los intervalos\n",
        "labels = ['Q'+str(i) for i in range(1,5)]\n",
        "labels"
      ],
      "metadata": {
        "colab": {
          "base_uri": "https://localhost:8080/"
        },
        "id": "KINgHPbkf3Yg",
        "outputId": "b68b693c-0e35-4327-8ed3-063a8f5fe82d"
      },
      "execution_count": null,
      "outputs": [
        {
          "output_type": "execute_result",
          "data": {
            "text/plain": [
              "['Q1', 'Q2', 'Q3', 'Q4']"
            ]
          },
          "metadata": {},
          "execution_count": 32
        }
      ]
    },
    {
      "cell_type": "code",
      "source": [
        "X_train[\"campaign_bin\"], intervals = pd.qcut(X_train['campaign'], 10, labels=labels,\n",
        "                                      retbins=True,\n",
        "                                      precision=3, duplicates='drop')\n",
        "\n",
        "# extiendo los limites para que no haya obs que caigan fuera de los limites\n",
        "intervals[0] = float(\"-inf\")\n",
        "intervals[len(intervals) - 1] = float(\"inf\")\n",
        "\n",
        "X_train[\"campaign_interval\"] = pd.cut(x = X_train['campaign'], bins=intervals)\n",
        "\n",
        "X_train[[\"campaign_bin\", \"campaign_interval\"]].head()"
      ],
      "metadata": {
        "colab": {
          "base_uri": "https://localhost:8080/"
        },
        "id": "MdXCBF1rdcIt",
        "outputId": "102bd7ad-4444-499b-b28e-8fd23815dc11"
      },
      "execution_count": null,
      "outputs": [
        {
          "output_type": "execute_result",
          "data": {
            "text/plain": [
              "      campaign_bin campaign_interval\n",
              "31880           Q1       (-inf, 2.0]\n",
              "38177           Q1       (-inf, 2.0]\n",
              "2459            Q1       (-inf, 2.0]\n",
              "756             Q2        (2.0, 3.0]\n",
              "11275           Q1       (-inf, 2.0]"
            ],
            "text/html": [
              "\n",
              "  <div id=\"df-aaa335a3-9f7b-4fd2-a0df-7cd27635b550\">\n",
              "    <div class=\"colab-df-container\">\n",
              "      <div>\n",
              "<style scoped>\n",
              "    .dataframe tbody tr th:only-of-type {\n",
              "        vertical-align: middle;\n",
              "    }\n",
              "\n",
              "    .dataframe tbody tr th {\n",
              "        vertical-align: top;\n",
              "    }\n",
              "\n",
              "    .dataframe thead th {\n",
              "        text-align: right;\n",
              "    }\n",
              "</style>\n",
              "<table border=\"1\" class=\"dataframe\">\n",
              "  <thead>\n",
              "    <tr style=\"text-align: right;\">\n",
              "      <th></th>\n",
              "      <th>campaign_bin</th>\n",
              "      <th>campaign_interval</th>\n",
              "    </tr>\n",
              "  </thead>\n",
              "  <tbody>\n",
              "    <tr>\n",
              "      <th>31880</th>\n",
              "      <td>Q1</td>\n",
              "      <td>(-inf, 2.0]</td>\n",
              "    </tr>\n",
              "    <tr>\n",
              "      <th>38177</th>\n",
              "      <td>Q1</td>\n",
              "      <td>(-inf, 2.0]</td>\n",
              "    </tr>\n",
              "    <tr>\n",
              "      <th>2459</th>\n",
              "      <td>Q1</td>\n",
              "      <td>(-inf, 2.0]</td>\n",
              "    </tr>\n",
              "    <tr>\n",
              "      <th>756</th>\n",
              "      <td>Q2</td>\n",
              "      <td>(2.0, 3.0]</td>\n",
              "    </tr>\n",
              "    <tr>\n",
              "      <th>11275</th>\n",
              "      <td>Q1</td>\n",
              "      <td>(-inf, 2.0]</td>\n",
              "    </tr>\n",
              "  </tbody>\n",
              "</table>\n",
              "</div>\n",
              "      <button class=\"colab-df-convert\" onclick=\"convertToInteractive('df-aaa335a3-9f7b-4fd2-a0df-7cd27635b550')\"\n",
              "              title=\"Convert this dataframe to an interactive table.\"\n",
              "              style=\"display:none;\">\n",
              "        \n",
              "  <svg xmlns=\"http://www.w3.org/2000/svg\" height=\"24px\"viewBox=\"0 0 24 24\"\n",
              "       width=\"24px\">\n",
              "    <path d=\"M0 0h24v24H0V0z\" fill=\"none\"/>\n",
              "    <path d=\"M18.56 5.44l.94 2.06.94-2.06 2.06-.94-2.06-.94-.94-2.06-.94 2.06-2.06.94zm-11 1L8.5 8.5l.94-2.06 2.06-.94-2.06-.94L8.5 2.5l-.94 2.06-2.06.94zm10 10l.94 2.06.94-2.06 2.06-.94-2.06-.94-.94-2.06-.94 2.06-2.06.94z\"/><path d=\"M17.41 7.96l-1.37-1.37c-.4-.4-.92-.59-1.43-.59-.52 0-1.04.2-1.43.59L10.3 9.45l-7.72 7.72c-.78.78-.78 2.05 0 2.83L4 21.41c.39.39.9.59 1.41.59.51 0 1.02-.2 1.41-.59l7.78-7.78 2.81-2.81c.8-.78.8-2.07 0-2.86zM5.41 20L4 18.59l7.72-7.72 1.47 1.35L5.41 20z\"/>\n",
              "  </svg>\n",
              "      </button>\n",
              "      \n",
              "  <style>\n",
              "    .colab-df-container {\n",
              "      display:flex;\n",
              "      flex-wrap:wrap;\n",
              "      gap: 12px;\n",
              "    }\n",
              "\n",
              "    .colab-df-convert {\n",
              "      background-color: #E8F0FE;\n",
              "      border: none;\n",
              "      border-radius: 50%;\n",
              "      cursor: pointer;\n",
              "      display: none;\n",
              "      fill: #1967D2;\n",
              "      height: 32px;\n",
              "      padding: 0 0 0 0;\n",
              "      width: 32px;\n",
              "    }\n",
              "\n",
              "    .colab-df-convert:hover {\n",
              "      background-color: #E2EBFA;\n",
              "      box-shadow: 0px 1px 2px rgba(60, 64, 67, 0.3), 0px 1px 3px 1px rgba(60, 64, 67, 0.15);\n",
              "      fill: #174EA6;\n",
              "    }\n",
              "\n",
              "    [theme=dark] .colab-df-convert {\n",
              "      background-color: #3B4455;\n",
              "      fill: #D2E3FC;\n",
              "    }\n",
              "\n",
              "    [theme=dark] .colab-df-convert:hover {\n",
              "      background-color: #434B5C;\n",
              "      box-shadow: 0px 1px 3px 1px rgba(0, 0, 0, 0.15);\n",
              "      filter: drop-shadow(0px 1px 2px rgba(0, 0, 0, 0.3));\n",
              "      fill: #FFFFFF;\n",
              "    }\n",
              "  </style>\n",
              "\n",
              "      <script>\n",
              "        const buttonEl =\n",
              "          document.querySelector('#df-aaa335a3-9f7b-4fd2-a0df-7cd27635b550 button.colab-df-convert');\n",
              "        buttonEl.style.display =\n",
              "          google.colab.kernel.accessAllowed ? 'block' : 'none';\n",
              "\n",
              "        async function convertToInteractive(key) {\n",
              "          const element = document.querySelector('#df-aaa335a3-9f7b-4fd2-a0df-7cd27635b550');\n",
              "          const dataTable =\n",
              "            await google.colab.kernel.invokeFunction('convertToInteractive',\n",
              "                                                     [key], {});\n",
              "          if (!dataTable) return;\n",
              "\n",
              "          const docLinkHtml = 'Like what you see? Visit the ' +\n",
              "            '<a target=\"_blank\" href=https://colab.research.google.com/notebooks/data_table.ipynb>data table notebook</a>'\n",
              "            + ' to learn more about interactive tables.';\n",
              "          element.innerHTML = '';\n",
              "          dataTable['output_type'] = 'display_data';\n",
              "          await google.colab.output.renderOutput(dataTable, element);\n",
              "          const docLink = document.createElement('div');\n",
              "          docLink.innerHTML = docLinkHtml;\n",
              "          element.appendChild(docLink);\n",
              "        }\n",
              "      </script>\n",
              "    </div>\n",
              "  </div>\n",
              "  "
            ]
          },
          "metadata": {},
          "execution_count": 33
        }
      ]
    },
    {
      "cell_type": "code",
      "source": [
        "# for check\n",
        "display(X_train[\"campaign_bin\"].value_counts(),\n",
        "        X_train[\"campaign_interval\"].value_counts())"
      ],
      "metadata": {
        "colab": {
          "base_uri": "https://localhost:8080/"
        },
        "id": "Y5FfcC0lqpHo",
        "outputId": "6dbb55f7-9d0f-4112-dc34-abe8bf7709e9"
      },
      "execution_count": null,
      "outputs": [
        {
          "output_type": "display_data",
          "data": {
            "text/plain": [
              "Q1    19757\n",
              "Q2     3801\n",
              "Q3     2946\n",
              "Q4     2327\n",
              "Name: campaign_bin, dtype: int64"
            ]
          },
          "metadata": {}
        },
        {
          "output_type": "display_data",
          "data": {
            "text/plain": [
              "(-inf, 2.0]    19757\n",
              "(2.0, 3.0]      3801\n",
              "(3.0, 5.0]      2946\n",
              "(5.0, inf]      2327\n",
              "Name: campaign_interval, dtype: int64"
            ]
          },
          "metadata": {}
        }
      ]
    },
    {
      "cell_type": "code",
      "source": [
        "# aplico la discretizacion en el test-set\n",
        "X_test['campaign_bin'] = pd.cut(x = X_test['campaign'], bins=intervals, labels=labels)\n",
        "X_test['campaign_interval'] = pd.cut(x = X_test['campaign'], bins=intervals)\n",
        "\n",
        "X_test[[\"campaign\", \"campaign_bin\", \"campaign_interval\"]].head()"
      ],
      "metadata": {
        "colab": {
          "base_uri": "https://localhost:8080/"
        },
        "id": "pCDBimhplkS_",
        "outputId": "537f80fd-9925-4af7-ba3f-a7d7693296e5"
      },
      "execution_count": null,
      "outputs": [
        {
          "output_type": "execute_result",
          "data": {
            "text/plain": [
              "       campaign campaign_bin campaign_interval\n",
              "15500         3           Q2        (2.0, 3.0]\n",
              "29034         2           Q1       (-inf, 2.0]\n",
              "11199         1           Q1       (-inf, 2.0]\n",
              "22247         7           Q4        (5.0, inf]\n",
              "27180         1           Q1       (-inf, 2.0]"
            ],
            "text/html": [
              "\n",
              "  <div id=\"df-74eab86b-03b1-494b-96fc-004304fc0e87\">\n",
              "    <div class=\"colab-df-container\">\n",
              "      <div>\n",
              "<style scoped>\n",
              "    .dataframe tbody tr th:only-of-type {\n",
              "        vertical-align: middle;\n",
              "    }\n",
              "\n",
              "    .dataframe tbody tr th {\n",
              "        vertical-align: top;\n",
              "    }\n",
              "\n",
              "    .dataframe thead th {\n",
              "        text-align: right;\n",
              "    }\n",
              "</style>\n",
              "<table border=\"1\" class=\"dataframe\">\n",
              "  <thead>\n",
              "    <tr style=\"text-align: right;\">\n",
              "      <th></th>\n",
              "      <th>campaign</th>\n",
              "      <th>campaign_bin</th>\n",
              "      <th>campaign_interval</th>\n",
              "    </tr>\n",
              "  </thead>\n",
              "  <tbody>\n",
              "    <tr>\n",
              "      <th>15500</th>\n",
              "      <td>3</td>\n",
              "      <td>Q2</td>\n",
              "      <td>(2.0, 3.0]</td>\n",
              "    </tr>\n",
              "    <tr>\n",
              "      <th>29034</th>\n",
              "      <td>2</td>\n",
              "      <td>Q1</td>\n",
              "      <td>(-inf, 2.0]</td>\n",
              "    </tr>\n",
              "    <tr>\n",
              "      <th>11199</th>\n",
              "      <td>1</td>\n",
              "      <td>Q1</td>\n",
              "      <td>(-inf, 2.0]</td>\n",
              "    </tr>\n",
              "    <tr>\n",
              "      <th>22247</th>\n",
              "      <td>7</td>\n",
              "      <td>Q4</td>\n",
              "      <td>(5.0, inf]</td>\n",
              "    </tr>\n",
              "    <tr>\n",
              "      <th>27180</th>\n",
              "      <td>1</td>\n",
              "      <td>Q1</td>\n",
              "      <td>(-inf, 2.0]</td>\n",
              "    </tr>\n",
              "  </tbody>\n",
              "</table>\n",
              "</div>\n",
              "      <button class=\"colab-df-convert\" onclick=\"convertToInteractive('df-74eab86b-03b1-494b-96fc-004304fc0e87')\"\n",
              "              title=\"Convert this dataframe to an interactive table.\"\n",
              "              style=\"display:none;\">\n",
              "        \n",
              "  <svg xmlns=\"http://www.w3.org/2000/svg\" height=\"24px\"viewBox=\"0 0 24 24\"\n",
              "       width=\"24px\">\n",
              "    <path d=\"M0 0h24v24H0V0z\" fill=\"none\"/>\n",
              "    <path d=\"M18.56 5.44l.94 2.06.94-2.06 2.06-.94-2.06-.94-.94-2.06-.94 2.06-2.06.94zm-11 1L8.5 8.5l.94-2.06 2.06-.94-2.06-.94L8.5 2.5l-.94 2.06-2.06.94zm10 10l.94 2.06.94-2.06 2.06-.94-2.06-.94-.94-2.06-.94 2.06-2.06.94z\"/><path d=\"M17.41 7.96l-1.37-1.37c-.4-.4-.92-.59-1.43-.59-.52 0-1.04.2-1.43.59L10.3 9.45l-7.72 7.72c-.78.78-.78 2.05 0 2.83L4 21.41c.39.39.9.59 1.41.59.51 0 1.02-.2 1.41-.59l7.78-7.78 2.81-2.81c.8-.78.8-2.07 0-2.86zM5.41 20L4 18.59l7.72-7.72 1.47 1.35L5.41 20z\"/>\n",
              "  </svg>\n",
              "      </button>\n",
              "      \n",
              "  <style>\n",
              "    .colab-df-container {\n",
              "      display:flex;\n",
              "      flex-wrap:wrap;\n",
              "      gap: 12px;\n",
              "    }\n",
              "\n",
              "    .colab-df-convert {\n",
              "      background-color: #E8F0FE;\n",
              "      border: none;\n",
              "      border-radius: 50%;\n",
              "      cursor: pointer;\n",
              "      display: none;\n",
              "      fill: #1967D2;\n",
              "      height: 32px;\n",
              "      padding: 0 0 0 0;\n",
              "      width: 32px;\n",
              "    }\n",
              "\n",
              "    .colab-df-convert:hover {\n",
              "      background-color: #E2EBFA;\n",
              "      box-shadow: 0px 1px 2px rgba(60, 64, 67, 0.3), 0px 1px 3px 1px rgba(60, 64, 67, 0.15);\n",
              "      fill: #174EA6;\n",
              "    }\n",
              "\n",
              "    [theme=dark] .colab-df-convert {\n",
              "      background-color: #3B4455;\n",
              "      fill: #D2E3FC;\n",
              "    }\n",
              "\n",
              "    [theme=dark] .colab-df-convert:hover {\n",
              "      background-color: #434B5C;\n",
              "      box-shadow: 0px 1px 3px 1px rgba(0, 0, 0, 0.15);\n",
              "      filter: drop-shadow(0px 1px 2px rgba(0, 0, 0, 0.3));\n",
              "      fill: #FFFFFF;\n",
              "    }\n",
              "  </style>\n",
              "\n",
              "      <script>\n",
              "        const buttonEl =\n",
              "          document.querySelector('#df-74eab86b-03b1-494b-96fc-004304fc0e87 button.colab-df-convert');\n",
              "        buttonEl.style.display =\n",
              "          google.colab.kernel.accessAllowed ? 'block' : 'none';\n",
              "\n",
              "        async function convertToInteractive(key) {\n",
              "          const element = document.querySelector('#df-74eab86b-03b1-494b-96fc-004304fc0e87');\n",
              "          const dataTable =\n",
              "            await google.colab.kernel.invokeFunction('convertToInteractive',\n",
              "                                                     [key], {});\n",
              "          if (!dataTable) return;\n",
              "\n",
              "          const docLinkHtml = 'Like what you see? Visit the ' +\n",
              "            '<a target=\"_blank\" href=https://colab.research.google.com/notebooks/data_table.ipynb>data table notebook</a>'\n",
              "            + ' to learn more about interactive tables.';\n",
              "          element.innerHTML = '';\n",
              "          dataTable['output_type'] = 'display_data';\n",
              "          await google.colab.output.renderOutput(dataTable, element);\n",
              "          const docLink = document.createElement('div');\n",
              "          docLink.innerHTML = docLinkHtml;\n",
              "          element.appendChild(docLink);\n",
              "        }\n",
              "      </script>\n",
              "    </div>\n",
              "  </div>\n",
              "  "
            ]
          },
          "metadata": {},
          "execution_count": 35
        }
      ]
    },
    {
      "cell_type": "code",
      "source": [
        "# checkeo nans\n",
        "X_test[['campaign_bin', \"campaign_interval\"]].isnull().sum()"
      ],
      "metadata": {
        "colab": {
          "base_uri": "https://localhost:8080/"
        },
        "id": "heSpmWR_rXUq",
        "outputId": "bed9d8de-7643-4c2f-f8e9-d3d1c76f0343"
      },
      "execution_count": null,
      "outputs": [
        {
          "output_type": "execute_result",
          "data": {
            "text/plain": [
              "campaign_bin         0\n",
              "campaign_interval    0\n",
              "dtype: int64"
            ]
          },
          "metadata": {},
          "execution_count": 36
        }
      ]
    },
    {
      "cell_type": "code",
      "source": [
        "# checkeo nans\n",
        "X_train[['campaign_bin', \"campaign_interval\"]].isnull().sum()"
      ],
      "metadata": {
        "colab": {
          "base_uri": "https://localhost:8080/"
        },
        "id": "dZh4cdgYmo7w",
        "outputId": "9325c674-f8f7-4e6c-dfc4-95c33492ae5b"
      },
      "execution_count": null,
      "outputs": [
        {
          "output_type": "execute_result",
          "data": {
            "text/plain": [
              "campaign_bin         0\n",
              "campaign_interval    0\n",
              "dtype: int64"
            ]
          },
          "metadata": {},
          "execution_count": 37
        }
      ]
    },
    {
      "cell_type": "markdown",
      "source": [
        "**OBS:** si las distribuciones en el conjunto de entrenamiento y el conjunto de prueba son similares $\\Rightarrow$ deberíamos esperar una proporción similar de observaciones en los diferentes intervalos."
      ],
      "metadata": {
        "id": "ZXse00BZtyQf"
      }
    },
    {
      "cell_type": "code",
      "source": [
        "train = X_train.groupby(['campaign_interval'])['campaign'].count() / len(X_train)\n",
        "test = X_test.groupby(['campaign_interval'])['campaign'].count() / len(X_test)\n",
        "\n",
        "tmp = pd.concat([train, test], axis=1)\n",
        "tmp.columns = ['train', 'test']\n",
        "tmp.plot.bar()\n",
        "plt.xticks(rotation=45)\n",
        "plt.ylabel('Number of observations per bin')"
      ],
      "metadata": {
        "colab": {
          "base_uri": "https://localhost:8080/"
        },
        "id": "Y5decWlPteb_",
        "outputId": "22581f85-56bd-4c97-a2cb-3c856f2875d1"
      },
      "execution_count": null,
      "outputs": [
        {
          "output_type": "execute_result",
          "data": {
            "text/plain": [
              "Text(0, 0.5, 'Number of observations per bin')"
            ]
          },
          "metadata": {},
          "execution_count": 38
        },
        {
          "output_type": "display_data",
          "data": {
            "text/plain": [
              "<Figure size 432x288 with 1 Axes>"
            ],
            "image/png": "[encoded data removed]"
          },
          "metadata": {
            "needs_background": "light"
          }
        }
      ]
    },
    {
      "cell_type": "code",
      "source": [
        "# casteo los columnas nuevas a str\n",
        "X_train[[\"campaign_bin\"]]= X_train[[\"campaign_bin\"]].astype(str)\n",
        "X_test[[\"campaign_bin\"]]= X_test[[\"campaign_bin\"]].astype(str)"
      ],
      "metadata": {
        "id": "QbpR13XPR8HL"
      },
      "execution_count": null,
      "outputs": []
    },
    {
      "cell_type": "code",
      "source": [
        "# borro las columnas campaign_interval puesto que se crearon solo para visualizar los intervalos\n",
        "X_train.drop([\"campaign_interval\"],axis=1, inplace=True)\n",
        "X_test.drop([\"campaign_interval\"],axis=1, inplace=True)"
      ],
      "metadata": {
        "id": "mKLXm7w-kCw8"
      },
      "execution_count": null,
      "outputs": []
    },
    {
      "cell_type": "markdown",
      "source": [
        "### Discretizar feature `age`."
      ],
      "metadata": {
        "id": "2jfJVDXgZ4LT"
      }
    },
    {
      "cell_type": "code",
      "source": [
        "# capturo el rango de age\n",
        "age_range = X_train['age'].max() - X_train['age'].min()\n",
        "\n",
        "# obtengo los limites\n",
        "min_value = int(np.floor( X_train['age'].min()))\n",
        "max_value = int(np.ceil( X_train['age'].max()))\n",
        "\n",
        "# redondeo el ancho del intervalo\n",
        "inter_value = int(np.round(age_range / 8))\n",
        "\n",
        "min_value, max_value, inter_value"
      ],
      "metadata": {
        "colab": {
          "base_uri": "https://localhost:8080/"
        },
        "id": "-gQEDYUEZDIJ",
        "outputId": "0a12fa83-ab54-4553-b106-f250658a3f50"
      },
      "execution_count": null,
      "outputs": [
        {
          "output_type": "execute_result",
          "data": {
            "text/plain": [
              "(17, 98, 10)"
            ]
          },
          "metadata": {},
          "execution_count": 41
        }
      ]
    },
    {
      "cell_type": "code",
      "source": [
        "# obtengo los limites para cada sub-intervalo\n",
        "intervals_limits = [i for i in range(min_value, max_value+inter_value, inter_value)]\n",
        "\n",
        "intervals_limits"
      ],
      "metadata": {
        "colab": {
          "base_uri": "https://localhost:8080/"
        },
        "id": "B5e0Je2ramLh",
        "outputId": "7abcbf74-4a66-475e-d498-0d3b0b95316e"
      },
      "execution_count": null,
      "outputs": [
        {
          "output_type": "execute_result",
          "data": {
            "text/plain": [
              "[17, 27, 37, 47, 57, 67, 77, 87, 97, 107]"
            ]
          },
          "metadata": {},
          "execution_count": 42
        }
      ]
    },
    {
      "cell_type": "code",
      "source": [
        "# obtengo los bins\n",
        "bins = ['Bin_' + str(i) for i in range(1, len(intervals_limits))]\n",
        "bins"
      ],
      "metadata": {
        "colab": {
          "base_uri": "https://localhost:8080/"
        },
        "id": "WZGzCivEbK8B",
        "outputId": "fba30b0e-7056-427c-a524-7975ab170b41"
      },
      "execution_count": null,
      "outputs": [
        {
          "output_type": "execute_result",
          "data": {
            "text/plain": [
              "['Bin_1',\n",
              " 'Bin_2',\n",
              " 'Bin_3',\n",
              " 'Bin_4',\n",
              " 'Bin_5',\n",
              " 'Bin_6',\n",
              " 'Bin_7',\n",
              " 'Bin_8',\n",
              " 'Bin_9']"
            ]
          },
          "metadata": {},
          "execution_count": 43
        }
      ]
    },
    {
      "cell_type": "code",
      "source": [
        "X_train[\"age_bin\"] = pd.cut(x=X_train[\"age\"],\n",
        "                                    bins=intervals_limits,\n",
        "                                    labels=bins,\n",
        "                                    include_lowest=True)\n",
        "\n",
        "\n",
        "X_train[\"age_interval\"] = pd.cut(x=X_train[\"age\"],\n",
        "                             bins=intervals_limits,\n",
        "                             include_lowest=True)\n",
        "\n",
        "X_train[[\"age\", \"age_bin\", \"age_interval\"]].head()"
      ],
      "metadata": {
        "colab": {
          "base_uri": "https://localhost:8080/"
        },
        "id": "EyFiMFBdbOt4",
        "outputId": "3cff3489-e11a-424c-c33e-e2473a064160"
      },
      "execution_count": null,
      "outputs": [
        {
          "output_type": "execute_result",
          "data": {
            "text/plain": [
              "       age age_bin    age_interval\n",
              "31880   37   Bin_2    (27.0, 37.0]\n",
              "38177   54   Bin_4    (47.0, 57.0]\n",
              "2459    49   Bin_4    (47.0, 57.0]\n",
              "756     30   Bin_2    (27.0, 37.0]\n",
              "11275   23   Bin_1  (16.999, 27.0]"
            ],
            "text/html": [
              "\n",
              "  <div id=\"df-87e8f11d-c081-4f76-90b7-ad10abfa28b1\">\n",
              "    <div class=\"colab-df-container\">\n",
              "      <div>\n",
              "<style scoped>\n",
              "    .dataframe tbody tr th:only-of-type {\n",
              "        vertical-align: middle;\n",
              "    }\n",
              "\n",
              "    .dataframe tbody tr th {\n",
              "        vertical-align: top;\n",
              "    }\n",
              "\n",
              "    .dataframe thead th {\n",
              "        text-align: right;\n",
              "    }\n",
              "</style>\n",
              "<table border=\"1\" class=\"dataframe\">\n",
              "  <thead>\n",
              "    <tr style=\"text-align: right;\">\n",
              "      <th></th>\n",
              "      <th>age</th>\n",
              "      <th>age_bin</th>\n",
              "      <th>age_interval</th>\n",
              "    </tr>\n",
              "  </thead>\n",
              "  <tbody>\n",
              "    <tr>\n",
              "      <th>31880</th>\n",
              "      <td>37</td>\n",
              "      <td>Bin_2</td>\n",
              "      <td>(27.0, 37.0]</td>\n",
              "    </tr>\n",
              "    <tr>\n",
              "      <th>38177</th>\n",
              "      <td>54</td>\n",
              "      <td>Bin_4</td>\n",
              "      <td>(47.0, 57.0]</td>\n",
              "    </tr>\n",
              "    <tr>\n",
              "      <th>2459</th>\n",
              "      <td>49</td>\n",
              "      <td>Bin_4</td>\n",
              "      <td>(47.0, 57.0]</td>\n",
              "    </tr>\n",
              "    <tr>\n",
              "      <th>756</th>\n",
              "      <td>30</td>\n",
              "      <td>Bin_2</td>\n",
              "      <td>(27.0, 37.0]</td>\n",
              "    </tr>\n",
              "    <tr>\n",
              "      <th>11275</th>\n",
              "      <td>23</td>\n",
              "      <td>Bin_1</td>\n",
              "      <td>(16.999, 27.0]</td>\n",
              "    </tr>\n",
              "  </tbody>\n",
              "</table>\n",
              "</div>\n",
              "      <button class=\"colab-df-convert\" onclick=\"convertToInteractive('df-87e8f11d-c081-4f76-90b7-ad10abfa28b1')\"\n",
              "              title=\"Convert this dataframe to an interactive table.\"\n",
              "              style=\"display:none;\">\n",
              "        \n",
              "  <svg xmlns=\"http://www.w3.org/2000/svg\" height=\"24px\"viewBox=\"0 0 24 24\"\n",
              "       width=\"24px\">\n",
              "    <path d=\"M0 0h24v24H0V0z\" fill=\"none\"/>\n",
              "    <path d=\"M18.56 5.44l.94 2.06.94-2.06 2.06-.94-2.06-.94-.94-2.06-.94 2.06-2.06.94zm-11 1L8.5 8.5l.94-2.06 2.06-.94-2.06-.94L8.5 2.5l-.94 2.06-2.06.94zm10 10l.94 2.06.94-2.06 2.06-.94-2.06-.94-.94-2.06-.94 2.06-2.06.94z\"/><path d=\"M17.41 7.96l-1.37-1.37c-.4-.4-.92-.59-1.43-.59-.52 0-1.04.2-1.43.59L10.3 9.45l-7.72 7.72c-.78.78-.78 2.05 0 2.83L4 21.41c.39.39.9.59 1.41.59.51 0 1.02-.2 1.41-.59l7.78-7.78 2.81-2.81c.8-.78.8-2.07 0-2.86zM5.41 20L4 18.59l7.72-7.72 1.47 1.35L5.41 20z\"/>\n",
              "  </svg>\n",
              "      </button>\n",
              "      \n",
              "  <style>\n",
              "    .colab-df-container {\n",
              "      display:flex;\n",
              "      flex-wrap:wrap;\n",
              "      gap: 12px;\n",
              "    }\n",
              "\n",
              "    .colab-df-convert {\n",
              "      background-color: #E8F0FE;\n",
              "      border: none;\n",
              "      border-radius: 50%;\n",
              "      cursor: pointer;\n",
              "      display: none;\n",
              "      fill: #1967D2;\n",
              "      height: 32px;\n",
              "      padding: 0 0 0 0;\n",
              "      width: 32px;\n",
              "    }\n",
              "\n",
              "    .colab-df-convert:hover {\n",
              "      background-color: #E2EBFA;\n",
              "      box-shadow: 0px 1px 2px rgba(60, 64, 67, 0.3), 0px 1px 3px 1px rgba(60, 64, 67, 0.15);\n",
              "      fill: #174EA6;\n",
              "    }\n",
              "\n",
              "    [theme=dark] .colab-df-convert {\n",
              "      background-color: #3B4455;\n",
              "      fill: #D2E3FC;\n",
              "    }\n",
              "\n",
              "    [theme=dark] .colab-df-convert:hover {\n",
              "      background-color: #434B5C;\n",
              "      box-shadow: 0px 1px 3px 1px rgba(0, 0, 0, 0.15);\n",
              "      filter: drop-shadow(0px 1px 2px rgba(0, 0, 0, 0.3));\n",
              "      fill: #FFFFFF;\n",
              "    }\n",
              "  </style>\n",
              "\n",
              "      <script>\n",
              "        const buttonEl =\n",
              "          document.querySelector('#df-87e8f11d-c081-4f76-90b7-ad10abfa28b1 button.colab-df-convert');\n",
              "        buttonEl.style.display =\n",
              "          google.colab.kernel.accessAllowed ? 'block' : 'none';\n",
              "\n",
              "        async function convertToInteractive(key) {\n",
              "          const element = document.querySelector('#df-87e8f11d-c081-4f76-90b7-ad10abfa28b1');\n",
              "          const dataTable =\n",
              "            await google.colab.kernel.invokeFunction('convertToInteractive',\n",
              "                                                     [key], {});\n",
              "          if (!dataTable) return;\n",
              "\n",
              "          const docLinkHtml = 'Like what you see? Visit the ' +\n",
              "            '<a target=\"_blank\" href=https://colab.research.google.com/notebooks/data_table.ipynb>data table notebook</a>'\n",
              "            + ' to learn more about interactive tables.';\n",
              "          element.innerHTML = '';\n",
              "          dataTable['output_type'] = 'display_data';\n",
              "          await google.colab.output.renderOutput(dataTable, element);\n",
              "          const docLink = document.createElement('div');\n",
              "          docLink.innerHTML = docLinkHtml;\n",
              "          element.appendChild(docLink);\n",
              "        }\n",
              "      </script>\n",
              "    </div>\n",
              "  </div>\n",
              "  "
            ]
          },
          "metadata": {},
          "execution_count": 44
        }
      ]
    },
    {
      "cell_type": "code",
      "source": [
        "# aplico la discretizacion en el test-set\n",
        "X_test['age_bin'] = pd.cut(x=X_test['age'],\n",
        "                                   bins=intervals_limits,\n",
        "                                   labels=bins,\n",
        "                                   include_lowest=True)\n",
        "\n",
        "X_test['age_interval'] = pd.cut(x=X_test['age'],\n",
        "                            bins=intervals_limits,\n",
        "                            include_lowest=True)\n",
        "\n",
        "X_test[['age_bin','age_interval']].head()"
      ],
      "metadata": {
        "colab": {
          "base_uri": "https://localhost:8080/"
        },
        "id": "MXd6ePD4h2Zp",
        "outputId": "592bc2c7-6618-4485-90fe-313520d2af89"
      },
      "execution_count": null,
      "outputs": [
        {
          "output_type": "execute_result",
          "data": {
            "text/plain": [
              "      age_bin  age_interval\n",
              "15500   Bin_3  (37.0, 47.0]\n",
              "29034   Bin_4  (47.0, 57.0]\n",
              "11199   Bin_3  (37.0, 47.0]\n",
              "22247   Bin_4  (47.0, 57.0]\n",
              "27180   Bin_4  (47.0, 57.0]"
            ],
            "text/html": [
              "\n",
              "  <div id=\"df-10d27a8b-520b-4e8c-81ea-ad6fe26d5af3\">\n",
              "    <div class=\"colab-df-container\">\n",
              "      <div>\n",
              "<style scoped>\n",
              "    .dataframe tbody tr th:only-of-type {\n",
              "        vertical-align: middle;\n",
              "    }\n",
              "\n",
              "    .dataframe tbody tr th {\n",
              "        vertical-align: top;\n",
              "    }\n",
              "\n",
              "    .dataframe thead th {\n",
              "        text-align: right;\n",
              "    }\n",
              "</style>\n",
              "<table border=\"1\" class=\"dataframe\">\n",
              "  <thead>\n",
              "    <tr style=\"text-align: right;\">\n",
              "      <th></th>\n",
              "      <th>age_bin</th>\n",
              "      <th>age_interval</th>\n",
              "    </tr>\n",
              "  </thead>\n",
              "  <tbody>\n",
              "    <tr>\n",
              "      <th>15500</th>\n",
              "      <td>Bin_3</td>\n",
              "      <td>(37.0, 47.0]</td>\n",
              "    </tr>\n",
              "    <tr>\n",
              "      <th>29034</th>\n",
              "      <td>Bin_4</td>\n",
              "      <td>(47.0, 57.0]</td>\n",
              "    </tr>\n",
              "    <tr>\n",
              "      <th>11199</th>\n",
              "      <td>Bin_3</td>\n",
              "      <td>(37.0, 47.0]</td>\n",
              "    </tr>\n",
              "    <tr>\n",
              "      <th>22247</th>\n",
              "      <td>Bin_4</td>\n",
              "      <td>(47.0, 57.0]</td>\n",
              "    </tr>\n",
              "    <tr>\n",
              "      <th>27180</th>\n",
              "      <td>Bin_4</td>\n",
              "      <td>(47.0, 57.0]</td>\n",
              "    </tr>\n",
              "  </tbody>\n",
              "</table>\n",
              "</div>\n",
              "      <button class=\"colab-df-convert\" onclick=\"convertToInteractive('df-10d27a8b-520b-4e8c-81ea-ad6fe26d5af3')\"\n",
              "              title=\"Convert this dataframe to an interactive table.\"\n",
              "              style=\"display:none;\">\n",
              "        \n",
              "  <svg xmlns=\"http://www.w3.org/2000/svg\" height=\"24px\"viewBox=\"0 0 24 24\"\n",
              "       width=\"24px\">\n",
              "    <path d=\"M0 0h24v24H0V0z\" fill=\"none\"/>\n",
              "    <path d=\"M18.56 5.44l.94 2.06.94-2.06 2.06-.94-2.06-.94-.94-2.06-.94 2.06-2.06.94zm-11 1L8.5 8.5l.94-2.06 2.06-.94-2.06-.94L8.5 2.5l-.94 2.06-2.06.94zm10 10l.94 2.06.94-2.06 2.06-.94-2.06-.94-.94-2.06-.94 2.06-2.06.94z\"/><path d=\"M17.41 7.96l-1.37-1.37c-.4-.4-.92-.59-1.43-.59-.52 0-1.04.2-1.43.59L10.3 9.45l-7.72 7.72c-.78.78-.78 2.05 0 2.83L4 21.41c.39.39.9.59 1.41.59.51 0 1.02-.2 1.41-.59l7.78-7.78 2.81-2.81c.8-.78.8-2.07 0-2.86zM5.41 20L4 18.59l7.72-7.72 1.47 1.35L5.41 20z\"/>\n",
              "  </svg>\n",
              "      </button>\n",
              "      \n",
              "  <style>\n",
              "    .colab-df-container {\n",
              "      display:flex;\n",
              "      flex-wrap:wrap;\n",
              "      gap: 12px;\n",
              "    }\n",
              "\n",
              "    .colab-df-convert {\n",
              "      background-color: #E8F0FE;\n",
              "      border: none;\n",
              "      border-radius: 50%;\n",
              "      cursor: pointer;\n",
              "      display: none;\n",
              "      fill: #1967D2;\n",
              "      height: 32px;\n",
              "      padding: 0 0 0 0;\n",
              "      width: 32px;\n",
              "    }\n",
              "\n",
              "    .colab-df-convert:hover {\n",
              "      background-color: #E2EBFA;\n",
              "      box-shadow: 0px 1px 2px rgba(60, 64, 67, 0.3), 0px 1px 3px 1px rgba(60, 64, 67, 0.15);\n",
              "      fill: #174EA6;\n",
              "    }\n",
              "\n",
              "    [theme=dark] .colab-df-convert {\n",
              "      background-color: #3B4455;\n",
              "      fill: #D2E3FC;\n",
              "    }\n",
              "\n",
              "    [theme=dark] .colab-df-convert:hover {\n",
              "      background-color: #434B5C;\n",
              "      box-shadow: 0px 1px 3px 1px rgba(0, 0, 0, 0.15);\n",
              "      filter: drop-shadow(0px 1px 2px rgba(0, 0, 0, 0.3));\n",
              "      fill: #FFFFFF;\n",
              "    }\n",
              "  </style>\n",
              "\n",
              "      <script>\n",
              "        const buttonEl =\n",
              "          document.querySelector('#df-10d27a8b-520b-4e8c-81ea-ad6fe26d5af3 button.colab-df-convert');\n",
              "        buttonEl.style.display =\n",
              "          google.colab.kernel.accessAllowed ? 'block' : 'none';\n",
              "\n",
              "        async function convertToInteractive(key) {\n",
              "          const element = document.querySelector('#df-10d27a8b-520b-4e8c-81ea-ad6fe26d5af3');\n",
              "          const dataTable =\n",
              "            await google.colab.kernel.invokeFunction('convertToInteractive',\n",
              "                                                     [key], {});\n",
              "          if (!dataTable) return;\n",
              "\n",
              "          const docLinkHtml = 'Like what you see? Visit the ' +\n",
              "            '<a target=\"_blank\" href=https://colab.research.google.com/notebooks/data_table.ipynb>data table notebook</a>'\n",
              "            + ' to learn more about interactive tables.';\n",
              "          element.innerHTML = '';\n",
              "          dataTable['output_type'] = 'display_data';\n",
              "          await google.colab.output.renderOutput(dataTable, element);\n",
              "          const docLink = document.createElement('div');\n",
              "          docLink.innerHTML = docLinkHtml;\n",
              "          element.appendChild(docLink);\n",
              "        }\n",
              "      </script>\n",
              "    </div>\n",
              "  </div>\n",
              "  "
            ]
          },
          "metadata": {},
          "execution_count": 45
        }
      ]
    },
    {
      "cell_type": "code",
      "source": [
        "# checkeo nans\n",
        "X_train[\"age_bin\"].isnull().sum()"
      ],
      "metadata": {
        "colab": {
          "base_uri": "https://localhost:8080/"
        },
        "id": "Hy1AQAOuagDe",
        "outputId": "4b96c927-bfce-44a6-b966-51fa17f1318c"
      },
      "execution_count": null,
      "outputs": [
        {
          "output_type": "execute_result",
          "data": {
            "text/plain": [
              "0"
            ]
          },
          "metadata": {},
          "execution_count": 46
        }
      ]
    },
    {
      "cell_type": "code",
      "source": [
        "# checkeo nans\n",
        "X_test[\"age_bin\"].isnull().sum()"
      ],
      "metadata": {
        "colab": {
          "base_uri": "https://localhost:8080/"
        },
        "id": "fasZE94kalQv",
        "outputId": "d1c0ef4c-f421-4535-a4bc-9890a37bdb9b"
      },
      "execution_count": null,
      "outputs": [
        {
          "output_type": "execute_result",
          "data": {
            "text/plain": [
              "0"
            ]
          },
          "metadata": {},
          "execution_count": 47
        }
      ]
    },
    {
      "cell_type": "code",
      "source": [
        "train = X_train.groupby(['age_interval'])['age'].count() / len(X_train)\n",
        "test = X_test.groupby(['age_interval'])['age'].count() / len(X_test)\n",
        "\n",
        "tmp = pd.concat([train, test], axis=1)\n",
        "tmp.columns = ['train', 'test']\n",
        "tmp.plot.bar()\n",
        "plt.xticks(rotation=45)\n",
        "plt.ylabel('Number of observations per bin')"
      ],
      "metadata": {
        "colab": {
          "base_uri": "https://localhost:8080/"
        },
        "id": "T_DNITQruCAY",
        "outputId": "4ae787bf-2476-4079-9234-5d425793a051"
      },
      "execution_count": null,
      "outputs": [
        {
          "output_type": "execute_result",
          "data": {
            "text/plain": [
              "Text(0, 0.5, 'Number of observations per bin')"
            ]
          },
          "metadata": {},
          "execution_count": 48
        },
        {
          "output_type": "display_data",
          "data": {
            "text/plain": [
              "<Figure size 432x288 with 1 Axes>"
            ],
            "image/png": "[encoded data removed]"
          },
          "metadata": {
            "needs_background": "light"
          }
        }
      ]
    },
    {
      "cell_type": "code",
      "source": [
        "# casteo las columnas nuevas a str\n",
        "X_train[[\"age_bin\"]]= X_train[[\"age_bin\"]].astype(str)\n",
        "X_test[[\"age_bin\"]]= X_test[[\"age_bin\"]].astype(str)"
      ],
      "metadata": {
        "id": "gyfFOs4CSCo3"
      },
      "execution_count": null,
      "outputs": []
    },
    {
      "cell_type": "code",
      "source": [
        "# borro las columnas age_interval puesto que se crearon solo para visualizar los intervalos\n",
        "X_train.drop([\"age_interval\"],axis=1, inplace=True)\n",
        "X_test.drop([\"age_interval\"],axis=1, inplace=True)"
      ],
      "metadata": {
        "id": "9dTPdvQejmyE"
      },
      "execution_count": null,
      "outputs": []
    },
    {
      "cell_type": "markdown",
      "source": [
        "<a name=\"fe&fs-catvars\"></a>\n",
        "## Tratamiento de variables categóricas."
      ],
      "metadata": {
        "id": "rh8YBeU4O_uo"
      }
    },
    {
      "cell_type": "markdown",
      "source": [
        "<a name=\"fe&fs-catvars-nans\"></a>\n",
        "### Tratamiento valores nulos."
      ],
      "metadata": {
        "id": "YE4VPpW8D1uq"
      }
    },
    {
      "cell_type": "markdown",
      "source": [
        "Podemos ver que tenemos muy pocos valores nulos.\n",
        "\n",
        "Elegiré el aprouch de: \n",
        "* **Frequent category imputation** ie reemplazaré los valores nulos por los valores más frecuentes en dichos features."
      ],
      "metadata": {
        "id": "PaQwyjX-EhS6"
      }
    },
    {
      "cell_type": "code",
      "source": [
        "# obtengo los features con nans\n",
        "features_w_nans = [feat for feat in X_train.columns if X_train[feat].isnull().any()]\n",
        "\n",
        "# calculo la media de nans de cada feature\n",
        "X_train[features_w_nans].isnull().mean().sort_values(ascending=False)"
      ],
      "metadata": {
        "colab": {
          "base_uri": "https://localhost:8080/"
        },
        "id": "vxgt7CYtD7e7",
        "outputId": "3cca478c-27f2-434d-c488-cbc2dee1e931"
      },
      "execution_count": null,
      "outputs": [
        {
          "output_type": "execute_result",
          "data": {
            "text/plain": [
              "default      0.207589\n",
              "education    0.041726\n",
              "housing      0.023898\n",
              "loan         0.023898\n",
              "job          0.007873\n",
              "marital      0.001977\n",
              "dtype: float64"
            ]
          },
          "metadata": {},
          "execution_count": 51
        }
      ]
    },
    {
      "cell_type": "code",
      "source": [
        "X_train_imputed = X_train.copy()\n",
        "X_test_imputed = X_test.copy()\n",
        "\n",
        "for feature in features_w_nans:\n",
        "  # calculo las cantidades de obs de cada label para cada feature\n",
        "  count_labels = X_train[feature].value_counts(ascending=False)\n",
        "\n",
        "  # obtengo el label mas frecuente\n",
        "  most_freq_label = count_labels.index[0]\n",
        "\n",
        "  # reemplazo los nans por el label mas frecuente\n",
        "  X_train_imputed[feature] = X_train[feature].fillna(most_freq_label)\n",
        "  X_test_imputed[feature] = X_test[feature].fillna(most_freq_label)"
      ],
      "metadata": {
        "id": "J9siu9oSFwCk"
      },
      "execution_count": null,
      "outputs": []
    },
    {
      "cell_type": "code",
      "source": [
        "X_train_imputed[features_w_nans].isnull().sum()"
      ],
      "metadata": {
        "colab": {
          "base_uri": "https://localhost:8080/"
        },
        "id": "WuYbX3RrHP_D",
        "outputId": "f3be5c2c-b675-4cc3-c6e8-2032c4037301"
      },
      "execution_count": null,
      "outputs": [
        {
          "output_type": "execute_result",
          "data": {
            "text/plain": [
              "job          0\n",
              "marital      0\n",
              "education    0\n",
              "default      0\n",
              "housing      0\n",
              "loan         0\n",
              "dtype: int64"
            ]
          },
          "metadata": {},
          "execution_count": 53
        }
      ]
    },
    {
      "cell_type": "markdown",
      "source": [
        "#### Imputed análisis."
      ],
      "metadata": {
        "id": "xRTzpSl0HguV"
      }
    },
    {
      "cell_type": "code",
      "source": [
        "f, axs = plt.subplots(len(features_w_nans), 1, figsize=(10,80))\n",
        "\n",
        "for i in range(len(features_w_nans)):\n",
        "  df_tmp = pd.concat([X_train[features_w_nans[i]].value_counts(ascending=False).rename('feature before imputation'), \n",
        "                      X_train_imputed[features_w_nans[i]].value_counts(ascending=False).rename('feature after imputation')], axis=1)\n",
        "  \n",
        "  df_tmp.plot.bar(ax=axs[i], title=features_w_nans[i])"
      ],
      "metadata": {
        "colab": {
          "base_uri": "https://localhost:8080/",
          "height": 1000
        },
        "id": "mqjJFFoSMexj",
        "outputId": "95deaedb-015f-4e07-964e-216cabba4f0c"
      },
      "execution_count": null,
      "outputs": [
        {
          "output_type": "display_data",
          "data": {
            "text/plain": [
              "<Figure size 720x5760 with 6 Axes>"
            ],
            "image/png": "[encoded data removed]"
          },
          "metadata": {
            "needs_background": "light"
          }
        }
      ]
    },
    {
      "cell_type": "code",
      "source": [
        "X_train = X_train_imputed\n",
        "X_test = X_test_imputed"
      ],
      "metadata": {
        "id": "MhcvG6MgQFMq"
      },
      "execution_count": null,
      "outputs": []
    },
    {
      "cell_type": "markdown",
      "source": [
        "Podemos ver que no hay mucha diferencia en la distribución de los datos entre el antes y el después de la imputacion."
      ],
      "metadata": {
        "id": "x536M20GKOrc"
      }
    },
    {
      "cell_type": "markdown",
      "source": [
        "<a name=\"fe&fs-catvars\"></a>\n",
        "### Categorical encoding.\n",
        "\n",
        "Codificaré las variables categóricas con distintos aprouchs para luego evaluar la performance de c/u y saber que aprouch es el más óptimo."
      ],
      "metadata": {
        "id": "bj52saRhQQTv"
      }
    },
    {
      "cell_type": "markdown",
      "source": [
        "#### Funciones para el encoding de variables categoricas."
      ],
      "metadata": {
        "id": "gprVFy5tQCuN"
      }
    },
    {
      "cell_type": "code",
      "source": [
        "# crea variables binarias por cada label en dicho feature\n",
        "# indicando con un 1 el valor de cada label en su debida columna\n",
        "def one_hot_encoding(X_train, X_test, features):\n",
        "  X_train_r = X_train.copy()\n",
        "  X_test_r = X_test.copy()\n",
        "\n",
        "  for feat in features:\n",
        "    # declaro la clase ohe\n",
        "    encoder = OneHotEncoder(categories='auto',\n",
        "                        drop='first',\n",
        "                        sparse=False,\n",
        "                        handle_unknown='error')\n",
        "    \n",
        "    encoder.fit(X_train[[feat]])\n",
        "\n",
        "    # obtengo los valores codificados\n",
        "    ohe_feature_train = encoder.transform(X_train[[feat]])\n",
        "    ohe_feature_test = encoder.transform(X_test[[feat]])\n",
        "\n",
        "    # obtengo el nombre de las nuevas columnas\n",
        "    new_columns_names = encoder.get_feature_names_out()\n",
        "\n",
        "    # creo el dataframe con las nuevas columnas y dichos valores codificados\n",
        "    ohe_feature_train = pd.DataFrame(ohe_feature_train,columns=new_columns_names)\n",
        "    ohe_feature_test = pd.DataFrame(ohe_feature_test,columns=new_columns_names)\n",
        "\n",
        "    X_train_r= pd.concat([ohe_feature_train.reset_index(drop=True), X_train_r.reset_index(drop=True)], axis=1)\n",
        "    X_test_r = pd.concat([ohe_feature_test.reset_index(drop=True), X_test_r.reset_index(drop=True)], axis=1)\n",
        "\n",
        "  return X_train_r, X_test_r\n",
        "\n",
        "# agrupa por feature y calcula la media del target y luego\n",
        "# codifica los valores unicos por la media calculada\n",
        "def target_mean_encoding(X_train, X_test, features, target):\n",
        "  X_train_r = X_train.copy()\n",
        "  X_test_r = X_test.copy()\n",
        "\n",
        "  for feature in features:\n",
        "    # calculo la media del target per feature\n",
        "    target_mean = X_train.groupby(by=feature)[target].mean().to_dict()\n",
        "\n",
        "    # reemplazo el feature categorico por la media del target\n",
        "    X_train_r[feature] = X_train[feature].map(target_mean)\n",
        "    X_test_r[feature] = X_test[feature].map(target_mean)\n",
        "\n",
        "  return X_train_r, X_test_r"
      ],
      "metadata": {
        "id": "hMDKLYgMQGqA"
      },
      "execution_count": null,
      "outputs": []
    },
    {
      "cell_type": "markdown",
      "source": [
        "<a name=\"fe&fs-catvars-encoding\"></a>\n",
        "#### Encoding."
      ],
      "metadata": {
        "id": "dwqPKrPqQN2_"
      }
    },
    {
      "cell_type": "markdown",
      "source": [
        "Codificaré el target como una variable binaria, puesto que algunos métodos de codificación necesitan hacer cuentas con el target y este tiene que ser discreto."
      ],
      "metadata": {
        "id": "Z76uguyC1z0S"
      }
    },
    {
      "cell_type": "code",
      "source": [
        "X_train[\"y\"] = np.where(X_train[\"y\"]==\"yes\", 1,0) \n",
        "X_test[\"y\"] = np.where(X_test[\"y\"]==\"yes\", 1,0)\n",
        "\n",
        "y_train = X_train[\"y\"].copy()\n",
        "y_test = X_test[\"y\"].copy()"
      ],
      "metadata": {
        "id": "czQ6nUZC1yyb"
      },
      "execution_count": null,
      "outputs": []
    },
    {
      "cell_type": "code",
      "source": [
        "# obtengo los features numericos\n",
        "num_feats = [feat for feat in X_train.columns if X_train[feat].dtype != np.object_]\n",
        "\n",
        "# obtengo los features categoricos\n",
        "cat_feats = [feat for feat in X_train.columns if X_train[feat].dtype == np.object_]\n",
        "cat_feats"
      ],
      "metadata": {
        "colab": {
          "base_uri": "https://localhost:8080/"
        },
        "id": "qUecgQTP0kTQ",
        "outputId": "758e5ea1-1ae5-4cf5-da73-70575b495e7a"
      },
      "execution_count": null,
      "outputs": [
        {
          "output_type": "execute_result",
          "data": {
            "text/plain": [
              "['job',\n",
              " 'marital',\n",
              " 'education',\n",
              " 'default',\n",
              " 'housing',\n",
              " 'loan',\n",
              " 'contact',\n",
              " 'month',\n",
              " 'day_of_week',\n",
              " 'poutcome',\n",
              " 'month_quarterly',\n",
              " 'campaign_bin',\n",
              " 'age_bin']"
            ]
          },
          "metadata": {},
          "execution_count": 58
        }
      ]
    },
    {
      "cell_type": "markdown",
      "source": [
        "**One Hot Encoding**"
      ],
      "metadata": {
        "id": "p2ChC6GsyCVM"
      }
    },
    {
      "cell_type": "code",
      "source": [
        "X_train_OHE, X_test_OHE = one_hot_encoding(X_train, X_test, cat_feats)\n",
        "\n",
        "# dropeo las columnas categoricas ya que se encuentran codificadas\n",
        "X_train_OHE.drop(cat_feats, axis=1, inplace=True)\n",
        "X_test_OHE.drop(cat_feats, axis=1, inplace=True)\n",
        "\n",
        "# guardo el nombre de las columnas codificadas con ohe\n",
        "ohe_columns = [col for col in X_train_OHE.columns if col not in num_feats]\n",
        "\n",
        "X_train_OHE.head()"
      ],
      "metadata": {
        "colab": {
          "base_uri": "https://localhost:8080/",
          "height": 300
        },
        "id": "mICG54nt0Wrz",
        "outputId": "a17151bf-47bd-44a4-d103-2984edd074aa"
      },
      "execution_count": null,
      "outputs": [
        {
          "output_type": "execute_result",
          "data": {
            "text/plain": [
              "   age_bin_Bin_2  age_bin_Bin_3  age_bin_Bin_4  age_bin_Bin_5  age_bin_Bin_6  \\\n",
              "0            1.0            0.0            0.0            0.0            0.0   \n",
              "1            0.0            0.0            1.0            0.0            0.0   \n",
              "2            0.0            0.0            1.0            0.0            0.0   \n",
              "3            1.0            0.0            0.0            0.0            0.0   \n",
              "4            0.0            0.0            0.0            0.0            0.0   \n",
              "\n",
              "   age_bin_Bin_7  age_bin_Bin_8  age_bin_Bin_9  campaign_bin_Q2  \\\n",
              "0            0.0            0.0            0.0              0.0   \n",
              "1            0.0            0.0            0.0              0.0   \n",
              "2            0.0            0.0            0.0              0.0   \n",
              "3            0.0            0.0            0.0              1.0   \n",
              "4            0.0            0.0            0.0              0.0   \n",
              "\n",
              "   campaign_bin_Q3  ...  duration  campaign  pdays  previous  emp.var.rate  \\\n",
              "0              0.0  ...       195         1    999         0          -1.8   \n",
              "1              0.0  ...       214         1    999         0          -3.4   \n",
              "2              0.0  ...       813         2    999         0           1.1   \n",
              "3              0.0  ...        51         3    999         0           1.1   \n",
              "4              0.0  ...       359         1    999         0           1.4   \n",
              "\n",
              "   cons.price.idx  cons.conf.idx  euribor3m  nr.employed  y  \n",
              "0          92.893          -46.2      1.327       5099.1  0  \n",
              "1          92.431          -26.9      0.754       5017.5  0  \n",
              "2          93.994          -36.4      4.856       5191.0  0  \n",
              "3          93.994          -36.4      4.856       5191.0  0  \n",
              "4          94.465          -41.8      4.961       5228.1  0  \n",
              "\n",
              "[5 rows x 62 columns]"
            ],
            "text/html": [
              "\n",
              "  <div id=\"df-e967b5e5-af98-4111-990d-07b76bee1244\">\n",
              "    <div class=\"colab-df-container\">\n",
              "      <div>\n",
              "<style scoped>\n",
              "    .dataframe tbody tr th:only-of-type {\n",
              "        vertical-align: middle;\n",
              "    }\n",
              "\n",
              "    .dataframe tbody tr th {\n",
              "        vertical-align: top;\n",
              "    }\n",
              "\n",
              "    .dataframe thead th {\n",
              "        text-align: right;\n",
              "    }\n",
              "</style>\n",
              "<table border=\"1\" class=\"dataframe\">\n",
              "  <thead>\n",
              "    <tr style=\"text-align: right;\">\n",
              "      <th></th>\n",
              "      <th>age_bin_Bin_2</th>\n",
              "      <th>age_bin_Bin_3</th>\n",
              "      <th>age_bin_Bin_4</th>\n",
              "      <th>age_bin_Bin_5</th>\n",
              "      <th>age_bin_Bin_6</th>\n",
              "      <th>age_bin_Bin_7</th>\n",
              "      <th>age_bin_Bin_8</th>\n",
              "      <th>age_bin_Bin_9</th>\n",
              "      <th>campaign_bin_Q2</th>\n",
              "      <th>campaign_bin_Q3</th>\n",
              "      <th>...</th>\n",
              "      <th>duration</th>\n",
              "      <th>campaign</th>\n",
              "      <th>pdays</th>\n",
              "      <th>previous</th>\n",
              "      <th>emp.var.rate</th>\n",
              "      <th>cons.price.idx</th>\n",
              "      <th>cons.conf.idx</th>\n",
              "      <th>euribor3m</th>\n",
              "      <th>nr.employed</th>\n",
              "      <th>y</th>\n",
              "    </tr>\n",
              "  </thead>\n",
              "  <tbody>\n",
              "    <tr>\n",
              "      <th>0</th>\n",
              "      <td>1.0</td>\n",
              "      <td>0.0</td>\n",
              "      <td>0.0</td>\n",
              "      <td>0.0</td>\n",
              "      <td>0.0</td>\n",
              "      <td>0.0</td>\n",
              "      <td>0.0</td>\n",
              "      <td>0.0</td>\n",
              "      <td>0.0</td>\n",
              "      <td>0.0</td>\n",
              "      <td>...</td>\n",
              "      <td>195</td>\n",
              "      <td>1</td>\n",
              "      <td>999</td>\n",
              "      <td>0</td>\n",
              "      <td>-1.8</td>\n",
              "      <td>92.893</td>\n",
              "      <td>-46.2</td>\n",
              "      <td>1.327</td>\n",
              "      <td>5099.1</td>\n",
              "      <td>0</td>\n",
              "    </tr>\n",
              "    <tr>\n",
              "      <th>1</th>\n",
              "      <td>0.0</td>\n",
              "      <td>0.0</td>\n",
              "      <td>1.0</td>\n",
              "      <td>0.0</td>\n",
              "      <td>0.0</td>\n",
              "      <td>0.0</td>\n",
              "      <td>0.0</td>\n",
              "      <td>0.0</td>\n",
              "      <td>0.0</td>\n",
              "      <td>0.0</td>\n",
              "      <td>...</td>\n",
              "      <td>214</td>\n",
              "      <td>1</td>\n",
              "      <td>999</td>\n",
              "      <td>0</td>\n",
              "      <td>-3.4</td>\n",
              "      <td>92.431</td>\n",
              "      <td>-26.9</td>\n",
              "      <td>0.754</td>\n",
              "      <td>5017.5</td>\n",
              "      <td>0</td>\n",
              "    </tr>\n",
              "    <tr>\n",
              "      <th>2</th>\n",
              "      <td>0.0</td>\n",
              "      <td>0.0</td>\n",
              "      <td>1.0</td>\n",
              "      <td>0.0</td>\n",
              "      <td>0.0</td>\n",
              "      <td>0.0</td>\n",
              "      <td>0.0</td>\n",
              "      <td>0.0</td>\n",
              "      <td>0.0</td>\n",
              "      <td>0.0</td>\n",
              "      <td>...</td>\n",
              "      <td>813</td>\n",
              "      <td>2</td>\n",
              "      <td>999</td>\n",
              "      <td>0</td>\n",
              "      <td>1.1</td>\n",
              "      <td>93.994</td>\n",
              "      <td>-36.4</td>\n",
              "      <td>4.856</td>\n",
              "      <td>5191.0</td>\n",
              "      <td>0</td>\n",
              "    </tr>\n",
              "    <tr>\n",
              "      <th>3</th>\n",
              "      <td>1.0</td>\n",
              "      <td>0.0</td>\n",
              "      <td>0.0</td>\n",
              "      <td>0.0</td>\n",
              "      <td>0.0</td>\n",
              "      <td>0.0</td>\n",
              "      <td>0.0</td>\n",
              "      <td>0.0</td>\n",
              "      <td>1.0</td>\n",
              "      <td>0.0</td>\n",
              "      <td>...</td>\n",
              "      <td>51</td>\n",
              "      <td>3</td>\n",
              "      <td>999</td>\n",
              "      <td>0</td>\n",
              "      <td>1.1</td>\n",
              "      <td>93.994</td>\n",
              "      <td>-36.4</td>\n",
              "      <td>4.856</td>\n",
              "      <td>5191.0</td>\n",
              "      <td>0</td>\n",
              "    </tr>\n",
              "    <tr>\n",
              "      <th>4</th>\n",
              "      <td>0.0</td>\n",
              "      <td>0.0</td>\n",
              "      <td>0.0</td>\n",
              "      <td>0.0</td>\n",
              "      <td>0.0</td>\n",
              "      <td>0.0</td>\n",
              "      <td>0.0</td>\n",
              "      <td>0.0</td>\n",
              "      <td>0.0</td>\n",
              "      <td>0.0</td>\n",
              "      <td>...</td>\n",
              "      <td>359</td>\n",
              "      <td>1</td>\n",
              "      <td>999</td>\n",
              "      <td>0</td>\n",
              "      <td>1.4</td>\n",
              "      <td>94.465</td>\n",
              "      <td>-41.8</td>\n",
              "      <td>4.961</td>\n",
              "      <td>5228.1</td>\n",
              "      <td>0</td>\n",
              "    </tr>\n",
              "  </tbody>\n",
              "</table>\n",
              "<p>5 rows × 62 columns</p>\n",
              "</div>\n",
              "      <button class=\"colab-df-convert\" onclick=\"convertToInteractive('df-e967b5e5-af98-4111-990d-07b76bee1244')\"\n",
              "              title=\"Convert this dataframe to an interactive table.\"\n",
              "              style=\"display:none;\">\n",
              "        \n",
              "  <svg xmlns=\"http://www.w3.org/2000/svg\" height=\"24px\"viewBox=\"0 0 24 24\"\n",
              "       width=\"24px\">\n",
              "    <path d=\"M0 0h24v24H0V0z\" fill=\"none\"/>\n",
              "    <path d=\"M18.56 5.44l.94 2.06.94-2.06 2.06-.94-2.06-.94-.94-2.06-.94 2.06-2.06.94zm-11 1L8.5 8.5l.94-2.06 2.06-.94-2.06-.94L8.5 2.5l-.94 2.06-2.06.94zm10 10l.94 2.06.94-2.06 2.06-.94-2.06-.94-.94-2.06-.94 2.06-2.06.94z\"/><path d=\"M17.41 7.96l-1.37-1.37c-.4-.4-.92-.59-1.43-.59-.52 0-1.04.2-1.43.59L10.3 9.45l-7.72 7.72c-.78.78-.78 2.05 0 2.83L4 21.41c.39.39.9.59 1.41.59.51 0 1.02-.2 1.41-.59l7.78-7.78 2.81-2.81c.8-.78.8-2.07 0-2.86zM5.41 20L4 18.59l7.72-7.72 1.47 1.35L5.41 20z\"/>\n",
              "  </svg>\n",
              "      </button>\n",
              "      \n",
              "  <style>\n",
              "    .colab-df-container {\n",
              "      display:flex;\n",
              "      flex-wrap:wrap;\n",
              "      gap: 12px;\n",
              "    }\n",
              "\n",
              "    .colab-df-convert {\n",
              "      background-color: #E8F0FE;\n",
              "      border: none;\n",
              "      border-radius: 50%;\n",
              "      cursor: pointer;\n",
              "      display: none;\n",
              "      fill: #1967D2;\n",
              "      height: 32px;\n",
              "      padding: 0 0 0 0;\n",
              "      width: 32px;\n",
              "    }\n",
              "\n",
              "    .colab-df-convert:hover {\n",
              "      background-color: #E2EBFA;\n",
              "      box-shadow: 0px 1px 2px rgba(60, 64, 67, 0.3), 0px 1px 3px 1px rgba(60, 64, 67, 0.15);\n",
              "      fill: #174EA6;\n",
              "    }\n",
              "\n",
              "    [theme=dark] .colab-df-convert {\n",
              "      background-color: #3B4455;\n",
              "      fill: #D2E3FC;\n",
              "    }\n",
              "\n",
              "    [theme=dark] .colab-df-convert:hover {\n",
              "      background-color: #434B5C;\n",
              "      box-shadow: 0px 1px 3px 1px rgba(0, 0, 0, 0.15);\n",
              "      filter: drop-shadow(0px 1px 2px rgba(0, 0, 0, 0.3));\n",
              "      fill: #FFFFFF;\n",
              "    }\n",
              "  </style>\n",
              "\n",
              "      <script>\n",
              "        const buttonEl =\n",
              "          document.querySelector('#df-e967b5e5-af98-4111-990d-07b76bee1244 button.colab-df-convert');\n",
              "        buttonEl.style.display =\n",
              "          google.colab.kernel.accessAllowed ? 'block' : 'none';\n",
              "\n",
              "        async function convertToInteractive(key) {\n",
              "          const element = document.querySelector('#df-e967b5e5-af98-4111-990d-07b76bee1244');\n",
              "          const dataTable =\n",
              "            await google.colab.kernel.invokeFunction('convertToInteractive',\n",
              "                                                     [key], {});\n",
              "          if (!dataTable) return;\n",
              "\n",
              "          const docLinkHtml = 'Like what you see? Visit the ' +\n",
              "            '<a target=\"_blank\" href=https://colab.research.google.com/notebooks/data_table.ipynb>data table notebook</a>'\n",
              "            + ' to learn more about interactive tables.';\n",
              "          element.innerHTML = '';\n",
              "          dataTable['output_type'] = 'display_data';\n",
              "          await google.colab.output.renderOutput(dataTable, element);\n",
              "          const docLink = document.createElement('div');\n",
              "          docLink.innerHTML = docLinkHtml;\n",
              "          element.appendChild(docLink);\n",
              "        }\n",
              "      </script>\n",
              "    </div>\n",
              "  </div>\n",
              "  "
            ]
          },
          "metadata": {},
          "execution_count": 59
        }
      ]
    },
    {
      "cell_type": "markdown",
      "source": [
        "**Target Mean Encoding**"
      ],
      "metadata": {
        "id": "Ufd-Wu9CyK_g"
      }
    },
    {
      "cell_type": "code",
      "source": [
        "X_train_TME, X_test_TME = target_mean_encoding(X_train, X_test, cat_feats, \"y\")\n",
        "X_train_TME.head()"
      ],
      "metadata": {
        "colab": {
          "base_uri": "https://localhost:8080/",
          "height": 300
        },
        "id": "9JhrV74N1M6n",
        "outputId": "2fb7cbed-6baf-46d0-9da1-b6dd41bed0df"
      },
      "execution_count": null,
      "outputs": [
        {
          "output_type": "execute_result",
          "data": {
            "text/plain": [
              "       age       job   marital  education   default   housing      loan  \\\n",
              "31880   37  0.123885  0.102886   0.138349  0.112799  0.108964  0.108706   \n",
              "38177   54  0.123885  0.103800   0.138349  0.112799  0.115959  0.113520   \n",
              "2459    49  0.067666  0.102886   0.080208  0.112799  0.108964  0.113520   \n",
              "756     30  0.080587  0.102886   0.138349  0.112799  0.115959  0.113520   \n",
              "11275   23  0.067666  0.137505   0.080208  0.112799  0.108964  0.113520   \n",
              "\n",
              "        contact     month  day_of_week  ...  poutcome  emp.var.rate  \\\n",
              "31880  0.147549  0.065688     0.124525  ...  0.087712          -1.8   \n",
              "38177  0.147549  0.435203     0.124525  ...  0.087712          -3.4   \n",
              "2459   0.052412  0.065688     0.121624  ...  0.087712           1.1   \n",
              "756    0.052412  0.065688     0.113132  ...  0.087712           1.1   \n",
              "11275  0.052412  0.104614     0.124525  ...  0.087712           1.4   \n",
              "\n",
              "       cons.price.idx  cons.conf.idx  euribor3m  nr.employed  y  \\\n",
              "31880          92.893          -46.2      1.327       5099.1  0   \n",
              "38177          92.431          -26.9      0.754       5017.5  0   \n",
              "2459           93.994          -36.4      4.856       5191.0  0   \n",
              "756            93.994          -36.4      4.856       5191.0  0   \n",
              "11275          94.465          -41.8      4.961       5228.1  0   \n",
              "\n",
              "       month_quarterly  campaign_bin   age_bin  \n",
              "31880         0.092120      0.124766  0.108793  \n",
              "38177         0.164489      0.124766  0.097984  \n",
              "2459          0.092120      0.124766  0.097984  \n",
              "756           0.092120      0.108656  0.108793  \n",
              "11275         0.092120      0.124766  0.172185  \n",
              "\n",
              "[5 rows x 24 columns]"
            ],
            "text/html": [
              "\n",
              "  <div id=\"df-966d18c1-bb26-4d5b-8359-939b559bb9cb\">\n",
              "    <div class=\"colab-df-container\">\n",
              "      <div>\n",
              "<style scoped>\n",
              "    .dataframe tbody tr th:only-of-type {\n",
              "        vertical-align: middle;\n",
              "    }\n",
              "\n",
              "    .dataframe tbody tr th {\n",
              "        vertical-align: top;\n",
              "    }\n",
              "\n",
              "    .dataframe thead th {\n",
              "        text-align: right;\n",
              "    }\n",
              "</style>\n",
              "<table border=\"1\" class=\"dataframe\">\n",
              "  <thead>\n",
              "    <tr style=\"text-align: right;\">\n",
              "      <th></th>\n",
              "      <th>age</th>\n",
              "      <th>job</th>\n",
              "      <th>marital</th>\n",
              "      <th>education</th>\n",
              "      <th>default</th>\n",
              "      <th>housing</th>\n",
              "      <th>loan</th>\n",
              "      <th>contact</th>\n",
              "      <th>month</th>\n",
              "      <th>day_of_week</th>\n",
              "      <th>...</th>\n",
              "      <th>poutcome</th>\n",
              "      <th>emp.var.rate</th>\n",
              "      <th>cons.price.idx</th>\n",
              "      <th>cons.conf.idx</th>\n",
              "      <th>euribor3m</th>\n",
              "      <th>nr.employed</th>\n",
              "      <th>y</th>\n",
              "      <th>month_quarterly</th>\n",
              "      <th>campaign_bin</th>\n",
              "      <th>age_bin</th>\n",
              "    </tr>\n",
              "  </thead>\n",
              "  <tbody>\n",
              "    <tr>\n",
              "      <th>31880</th>\n",
              "      <td>37</td>\n",
              "      <td>0.123885</td>\n",
              "      <td>0.102886</td>\n",
              "      <td>0.138349</td>\n",
              "      <td>0.112799</td>\n",
              "      <td>0.108964</td>\n",
              "      <td>0.108706</td>\n",
              "      <td>0.147549</td>\n",
              "      <td>0.065688</td>\n",
              "      <td>0.124525</td>\n",
              "      <td>...</td>\n",
              "      <td>0.087712</td>\n",
              "      <td>-1.8</td>\n",
              "      <td>92.893</td>\n",
              "      <td>-46.2</td>\n",
              "      <td>1.327</td>\n",
              "      <td>5099.1</td>\n",
              "      <td>0</td>\n",
              "      <td>0.092120</td>\n",
              "      <td>0.124766</td>\n",
              "      <td>0.108793</td>\n",
              "    </tr>\n",
              "    <tr>\n",
              "      <th>38177</th>\n",
              "      <td>54</td>\n",
              "      <td>0.123885</td>\n",
              "      <td>0.103800</td>\n",
              "      <td>0.138349</td>\n",
              "      <td>0.112799</td>\n",
              "      <td>0.115959</td>\n",
              "      <td>0.113520</td>\n",
              "      <td>0.147549</td>\n",
              "      <td>0.435203</td>\n",
              "      <td>0.124525</td>\n",
              "      <td>...</td>\n",
              "      <td>0.087712</td>\n",
              "      <td>-3.4</td>\n",
              "      <td>92.431</td>\n",
              "      <td>-26.9</td>\n",
              "      <td>0.754</td>\n",
              "      <td>5017.5</td>\n",
              "      <td>0</td>\n",
              "      <td>0.164489</td>\n",
              "      <td>0.124766</td>\n",
              "      <td>0.097984</td>\n",
              "    </tr>\n",
              "    <tr>\n",
              "      <th>2459</th>\n",
              "      <td>49</td>\n",
              "      <td>0.067666</td>\n",
              "      <td>0.102886</td>\n",
              "      <td>0.080208</td>\n",
              "      <td>0.112799</td>\n",
              "      <td>0.108964</td>\n",
              "      <td>0.113520</td>\n",
              "      <td>0.052412</td>\n",
              "      <td>0.065688</td>\n",
              "      <td>0.121624</td>\n",
              "      <td>...</td>\n",
              "      <td>0.087712</td>\n",
              "      <td>1.1</td>\n",
              "      <td>93.994</td>\n",
              "      <td>-36.4</td>\n",
              "      <td>4.856</td>\n",
              "      <td>5191.0</td>\n",
              "      <td>0</td>\n",
              "      <td>0.092120</td>\n",
              "      <td>0.124766</td>\n",
              "      <td>0.097984</td>\n",
              "    </tr>\n",
              "    <tr>\n",
              "      <th>756</th>\n",
              "      <td>30</td>\n",
              "      <td>0.080587</td>\n",
              "      <td>0.102886</td>\n",
              "      <td>0.138349</td>\n",
              "      <td>0.112799</td>\n",
              "      <td>0.115959</td>\n",
              "      <td>0.113520</td>\n",
              "      <td>0.052412</td>\n",
              "      <td>0.065688</td>\n",
              "      <td>0.113132</td>\n",
              "      <td>...</td>\n",
              "      <td>0.087712</td>\n",
              "      <td>1.1</td>\n",
              "      <td>93.994</td>\n",
              "      <td>-36.4</td>\n",
              "      <td>4.856</td>\n",
              "      <td>5191.0</td>\n",
              "      <td>0</td>\n",
              "      <td>0.092120</td>\n",
              "      <td>0.108656</td>\n",
              "      <td>0.108793</td>\n",
              "    </tr>\n",
              "    <tr>\n",
              "      <th>11275</th>\n",
              "      <td>23</td>\n",
              "      <td>0.067666</td>\n",
              "      <td>0.137505</td>\n",
              "      <td>0.080208</td>\n",
              "      <td>0.112799</td>\n",
              "      <td>0.108964</td>\n",
              "      <td>0.113520</td>\n",
              "      <td>0.052412</td>\n",
              "      <td>0.104614</td>\n",
              "      <td>0.124525</td>\n",
              "      <td>...</td>\n",
              "      <td>0.087712</td>\n",
              "      <td>1.4</td>\n",
              "      <td>94.465</td>\n",
              "      <td>-41.8</td>\n",
              "      <td>4.961</td>\n",
              "      <td>5228.1</td>\n",
              "      <td>0</td>\n",
              "      <td>0.092120</td>\n",
              "      <td>0.124766</td>\n",
              "      <td>0.172185</td>\n",
              "    </tr>\n",
              "  </tbody>\n",
              "</table>\n",
              "<p>5 rows × 24 columns</p>\n",
              "</div>\n",
              "      <button class=\"colab-df-convert\" onclick=\"convertToInteractive('df-966d18c1-bb26-4d5b-8359-939b559bb9cb')\"\n",
              "              title=\"Convert this dataframe to an interactive table.\"\n",
              "              style=\"display:none;\">\n",
              "        \n",
              "  <svg xmlns=\"http://www.w3.org/2000/svg\" height=\"24px\"viewBox=\"0 0 24 24\"\n",
              "       width=\"24px\">\n",
              "    <path d=\"M0 0h24v24H0V0z\" fill=\"none\"/>\n",
              "    <path d=\"M18.56 5.44l.94 2.06.94-2.06 2.06-.94-2.06-.94-.94-2.06-.94 2.06-2.06.94zm-11 1L8.5 8.5l.94-2.06 2.06-.94-2.06-.94L8.5 2.5l-.94 2.06-2.06.94zm10 10l.94 2.06.94-2.06 2.06-.94-2.06-.94-.94-2.06-.94 2.06-2.06.94z\"/><path d=\"M17.41 7.96l-1.37-1.37c-.4-.4-.92-.59-1.43-.59-.52 0-1.04.2-1.43.59L10.3 9.45l-7.72 7.72c-.78.78-.78 2.05 0 2.83L4 21.41c.39.39.9.59 1.41.59.51 0 1.02-.2 1.41-.59l7.78-7.78 2.81-2.81c.8-.78.8-2.07 0-2.86zM5.41 20L4 18.59l7.72-7.72 1.47 1.35L5.41 20z\"/>\n",
              "  </svg>\n",
              "      </button>\n",
              "      \n",
              "  <style>\n",
              "    .colab-df-container {\n",
              "      display:flex;\n",
              "      flex-wrap:wrap;\n",
              "      gap: 12px;\n",
              "    }\n",
              "\n",
              "    .colab-df-convert {\n",
              "      background-color: #E8F0FE;\n",
              "      border: none;\n",
              "      border-radius: 50%;\n",
              "      cursor: pointer;\n",
              "      display: none;\n",
              "      fill: #1967D2;\n",
              "      height: 32px;\n",
              "      padding: 0 0 0 0;\n",
              "      width: 32px;\n",
              "    }\n",
              "\n",
              "    .colab-df-convert:hover {\n",
              "      background-color: #E2EBFA;\n",
              "      box-shadow: 0px 1px 2px rgba(60, 64, 67, 0.3), 0px 1px 3px 1px rgba(60, 64, 67, 0.15);\n",
              "      fill: #174EA6;\n",
              "    }\n",
              "\n",
              "    [theme=dark] .colab-df-convert {\n",
              "      background-color: #3B4455;\n",
              "      fill: #D2E3FC;\n",
              "    }\n",
              "\n",
              "    [theme=dark] .colab-df-convert:hover {\n",
              "      background-color: #434B5C;\n",
              "      box-shadow: 0px 1px 3px 1px rgba(0, 0, 0, 0.15);\n",
              "      filter: drop-shadow(0px 1px 2px rgba(0, 0, 0, 0.3));\n",
              "      fill: #FFFFFF;\n",
              "    }\n",
              "  </style>\n",
              "\n",
              "      <script>\n",
              "        const buttonEl =\n",
              "          document.querySelector('#df-966d18c1-bb26-4d5b-8359-939b559bb9cb button.colab-df-convert');\n",
              "        buttonEl.style.display =\n",
              "          google.colab.kernel.accessAllowed ? 'block' : 'none';\n",
              "\n",
              "        async function convertToInteractive(key) {\n",
              "          const element = document.querySelector('#df-966d18c1-bb26-4d5b-8359-939b559bb9cb');\n",
              "          const dataTable =\n",
              "            await google.colab.kernel.invokeFunction('convertToInteractive',\n",
              "                                                     [key], {});\n",
              "          if (!dataTable) return;\n",
              "\n",
              "          const docLinkHtml = 'Like what you see? Visit the ' +\n",
              "            '<a target=\"_blank\" href=https://colab.research.google.com/notebooks/data_table.ipynb>data table notebook</a>'\n",
              "            + ' to learn more about interactive tables.';\n",
              "          element.innerHTML = '';\n",
              "          dataTable['output_type'] = 'display_data';\n",
              "          await google.colab.output.renderOutput(dataTable, element);\n",
              "          const docLink = document.createElement('div');\n",
              "          docLink.innerHTML = docLinkHtml;\n",
              "          element.appendChild(docLink);\n",
              "        }\n",
              "      </script>\n",
              "    </div>\n",
              "  </div>\n",
              "  "
            ]
          },
          "metadata": {},
          "execution_count": 60
        }
      ]
    },
    {
      "cell_type": "markdown",
      "source": [
        "<a name=\"fe&fs-catvars-encoding-performance\"></a>\n",
        "#### Encoding performance."
      ],
      "metadata": {
        "id": "9e2C-rCP2gTP"
      }
    },
    {
      "cell_type": "code",
      "source": [
        "def obtain_performance(X_train, X_test, y_train, y_test, model):\n",
        "\n",
        "    model.fit(X_train, y_train)\n",
        "    \n",
        "    print(f\"\\nEl modelo {model}\")\n",
        "    print(\"Train set\")\n",
        "    pred = model.predict(X_train)\n",
        "  \n",
        "    print(\"roc-auc: {}\".format(roc_auc_score(y_train, pred)))\n",
        "\n",
        "    print(\"Test set\")\n",
        "    pred = model.predict(X_test)\n",
        "    print(\"roc-auc: {}\".format(roc_auc_score(y_test, pred)))"
      ],
      "metadata": {
        "id": "fnP-mJ8n2iAT"
      },
      "execution_count": null,
      "outputs": []
    },
    {
      "cell_type": "markdown",
      "source": [
        "##### Logistic Regression performance.\n",
        "\n",
        "La performance resulta similar en los 2 enforques con un roc-auc del 58%.\n"
      ],
      "metadata": {
        "id": "ZW3bZ_Od6u4s"
      }
    },
    {
      "cell_type": "code",
      "source": [
        "lr = LogisticRegression(C=1000, penalty='l2', random_state=44, max_iter=1000)\n",
        "\n",
        "obtain_performance(X_train_OHE[ohe_columns], X_test_OHE[ohe_columns], y_train, y_test, lr)"
      ],
      "metadata": {
        "colab": {
          "base_uri": "https://localhost:8080/"
        },
        "id": "AIi4MsDk6yM-",
        "outputId": "25f92929-e433-4803-fd4e-d4fc2a22c5a8"
      },
      "execution_count": null,
      "outputs": [
        {
          "output_type": "stream",
          "name": "stdout",
          "text": [
            "\n",
            "El modelo LogisticRegression(C=1000, max_iter=1000, random_state=44)\n",
            "Train set\n",
            "roc-auc: 0.58929488254967\n",
            "Test set\n",
            "roc-auc: 0.5810087860916919\n"
          ]
        }
      ]
    },
    {
      "cell_type": "code",
      "source": [
        "lr = LogisticRegression(C=1000, penalty='l2', random_state=44, max_iter=1000)\n",
        "\n",
        "obtain_performance(X_train_TME[cat_feats], X_test_TME[cat_feats], y_train, y_test, lr)"
      ],
      "metadata": {
        "colab": {
          "base_uri": "https://localhost:8080/"
        },
        "id": "M2F6ht4b7arp",
        "outputId": "7158abb0-0c6a-4902-ac11-68a963f452d5"
      },
      "execution_count": null,
      "outputs": [
        {
          "output_type": "stream",
          "name": "stdout",
          "text": [
            "\n",
            "El modelo LogisticRegression(C=1000, max_iter=1000, random_state=44)\n",
            "Train set\n",
            "roc-auc: 0.5902512328614432\n",
            "Test set\n",
            "roc-auc: 0.5870415393867392\n"
          ]
        }
      ]
    },
    {
      "cell_type": "markdown",
      "source": [
        "##### Gradient Boosting Classifier performance.\n",
        "\n",
        "La performance resulta similar en los 2 enforques con un roc-auc del 60%."
      ],
      "metadata": {
        "id": "g1O_hQBY70ee"
      }
    },
    {
      "cell_type": "code",
      "source": [
        "gbc = GradientBoostingClassifier(random_state=0)\n",
        "\n",
        "obtain_performance(X_train_OHE[ohe_columns], X_test_OHE[ohe_columns], y_train, y_test, gbc)"
      ],
      "metadata": {
        "colab": {
          "base_uri": "https://localhost:8080/"
        },
        "id": "1ohQU_qg8Ad5",
        "outputId": "8b1d64a7-df2a-4ee0-ee86-6569dfb66f7f"
      },
      "execution_count": null,
      "outputs": [
        {
          "output_type": "stream",
          "name": "stdout",
          "text": [
            "\n",
            "El modelo GradientBoostingClassifier(random_state=0)\n",
            "Train set\n",
            "roc-auc: 0.6002296289040533\n",
            "Test set\n",
            "roc-auc: 0.587994349020806\n"
          ]
        }
      ]
    },
    {
      "cell_type": "code",
      "source": [
        "gbc = GradientBoostingClassifier(random_state=0)\n",
        "\n",
        "obtain_performance(X_train_TME[cat_feats], X_test_TME[cat_feats], y_train, y_test, gbc)"
      ],
      "metadata": {
        "colab": {
          "base_uri": "https://localhost:8080/"
        },
        "id": "IOu0h12s8P0A",
        "outputId": "7d0740cb-0ce1-4ecd-ffe4-a50331a5b205"
      },
      "execution_count": null,
      "outputs": [
        {
          "output_type": "stream",
          "name": "stdout",
          "text": [
            "\n",
            "El modelo GradientBoostingClassifier(random_state=0)\n",
            "Train set\n",
            "roc-auc: 0.6057072024940509\n",
            "Test set\n",
            "roc-auc: 0.5962207680907394\n"
          ]
        }
      ]
    },
    {
      "cell_type": "markdown",
      "source": [
        "##### Random Forest Classifier performance.\n",
        "\n",
        "El mejor aprouch para resulta ser **Target Mean Encoding** con un roc-auc del 54%."
      ],
      "metadata": {
        "id": "UsTYsaiW14tW"
      }
    },
    {
      "cell_type": "code",
      "source": [
        "rfc = RandomForestClassifier(random_state=0, max_depth=4)\n",
        "\n",
        "obtain_performance(X_train_OHE[ohe_columns], X_test_OHE[ohe_columns], y_train, y_test, rfc)"
      ],
      "metadata": {
        "colab": {
          "base_uri": "https://localhost:8080/"
        },
        "id": "-5JBkLBL8eRG",
        "outputId": "4a79e328-3165-4705-80f3-4dd6d58e7979"
      },
      "execution_count": null,
      "outputs": [
        {
          "output_type": "stream",
          "name": "stdout",
          "text": [
            "\n",
            "El modelo RandomForestClassifier(max_depth=4, random_state=0)\n",
            "Train set\n",
            "roc-auc: 0.5110479366746832\n",
            "Test set\n",
            "roc-auc: 0.512963866206125\n"
          ]
        }
      ]
    },
    {
      "cell_type": "code",
      "source": [
        "rfc = RandomForestClassifier(random_state=0, max_depth=4)\n",
        "\n",
        "obtain_performance(X_train_TME[cat_feats], X_test_TME[cat_feats], y_train, y_test, rfc)"
      ],
      "metadata": {
        "colab": {
          "base_uri": "https://localhost:8080/"
        },
        "id": "AsyW1JaW15iF",
        "outputId": "57f4e817-f2c6-4da0-b53d-dbbf924f533a"
      },
      "execution_count": null,
      "outputs": [
        {
          "output_type": "stream",
          "name": "stdout",
          "text": [
            "\n",
            "El modelo RandomForestClassifier(max_depth=4, random_state=0)\n",
            "Train set\n",
            "roc-auc: 0.5403882129247033\n",
            "Test set\n",
            "roc-auc: 0.5373094939025175\n"
          ]
        }
      ]
    },
    {
      "cell_type": "markdown",
      "source": [
        "<a name=\"fe&fs-fs\"></a>\n",
        "## Feature Selection."
      ],
      "metadata": {
        "id": "l6K3BnbZRmIM"
      }
    },
    {
      "cell_type": "markdown",
      "source": [
        "<a name=\"fe&fs-fs-fc\"></a>\n",
        "### Features constantes y casi constantes.\n",
        "\n",
        "Busco si hay features constantes o casi-constantes.\n",
        "Esto lo hago, ya que si tenemos una columna donde todas las filas tienen el mismo valor no aportara ningún poder predictivo al modelo, además hará al modelo más propenso al over-fitting.\n",
        "\n",
        "Al dropear dichas columnas estaremos **reduciendo el feature-space** lo que hará que el modelo sea más óptimo."
      ],
      "metadata": {
        "id": "IrmHDgSiRrGJ"
      }
    },
    {
      "cell_type": "code",
      "source": [
        "# calcula dado un feature, si este posee un valor constante de acuerdo a un limite dado\n",
        "def is_qsiconstant_feature(X_train, features, treshold):\n",
        "  feats_const = []\n",
        "\n",
        "  for feat in features:\n",
        "    # calculo la frecuencia de los distintos valores en el feature\n",
        "    diff_values_in_feature = X_train[feat].value_counts(normalize=True)\n",
        "\n",
        "    # obtengo el valor que aparezca un porcentaje mayor al limite dado\n",
        "    max_frecuent = diff_values_in_feature.values[0]\n",
        "\n",
        "    # checkeo su freq con el limite\n",
        "    if max_frecuent > treshold:\n",
        "      feats_const.append(feat)\n",
        "\n",
        "  return feats_const"
      ],
      "metadata": {
        "id": "3eVN8FrVRzSR"
      },
      "execution_count": null,
      "outputs": []
    },
    {
      "cell_type": "markdown",
      "source": [
        "<a name=\"fe&fs-fs-fcorr\"></a>\n",
        "### Features correlacionados.\n",
        "\n",
        "Busco features correlacionados, ya que pasa algo similar a los features constantes, tener features correlacionados entre sí aumente el over-fitting.\n",
        "\n",
        "Al dropear dichas columnas nuevamente estaremos reduciendo el feature-space lo que hará que el modelo sea más óptimo."
      ],
      "metadata": {
        "id": "ROZZYVxBR8FB"
      }
    },
    {
      "cell_type": "code",
      "source": [
        "# calcula features que tengan un nivel de correlacion mayor al limite dado\n",
        "def method_1(X_train, limit):\n",
        "\n",
        "  # guardo los nombres de las columnas correlacionadas\n",
        "  col_corr = []\n",
        "  corr = X_train.corr(method='pearson')\n",
        "\n",
        "  for i in range(len(corr.index)):\n",
        "    \n",
        "    col_1 = corr[corr.columns[i]].index[i]\n",
        "\n",
        "    # este limite nos asegura recorrer solo la matriz triangular inferior\n",
        "    # ya que si consideramos toda la matriz estariamos considerando valores ya comparados.\n",
        "    for j in range(i):\n",
        "\n",
        "      col_2 = corr[corr.columns[j]].index[j]\n",
        "      corr_value = abs(corr[col_1].loc[[col_2]][0])\n",
        "\n",
        "      if corr_value > limit:\n",
        "\n",
        "        # no considero la correlacion de un feature consigo mismo\n",
        "        if col_2 != col_1:\n",
        "\n",
        "          # guardo en nuestra variable de columnas de correlaciones una 3-upla\n",
        "          # el valor de la correlacion y las columnas involucradas\n",
        "          col_corr.append((corr_value, col_1, col_2))\n",
        "\n",
        "  return col_corr"
      ],
      "metadata": {
        "id": "kLCdbVU-SE29"
      },
      "execution_count": null,
      "outputs": []
    },
    {
      "cell_type": "markdown",
      "source": [
        "<a name=\"fe&fs-fs-chi\"></a>\n",
        "### Chi-Square Test.\n",
        "\n",
        "Para determinar si existe una dependencia entre el target y los otros features categóricos en el conjunto de datos, utilizaremos la prueba de independencia de chi-cuadrado.\n",
        "\n",
        "<h2>$\\chi^2 = \\sum_{i=1}^{n} \\frac{(observed_{i} - expected_{i})^2}{expected_{i}}$<h2/>\n",
        "\n",
        "Una vez calculada dicha sumatoria, podremos calcular el $p$-valor.\n",
        "\n",
        "Nuestras hipotesis:\n",
        "\n",
        "$H_0$ = Las variables son independientes. NO existe dependencia entre el target y la variable que se esta probando.\n",
        "\n",
        "$H_1$ = Las variables NO SON independientes. SI existe dependencia entre el target y la variable que se esta probando.\n",
        "\n",
        "Si el $p$-valor obtenido es **menor** que 0.05 $\\Rightarrow $ hay evidencia para aceptar $H_1$.\n",
        "\n",
        "CC si el $p$-valor obtenido es **mayor** que 0.05 $\\Rightarrow $ no hay evidencia suficiente para descartar $H_0$."
      ],
      "metadata": {
        "id": "kNIvxFwwc-Pr"
      }
    },
    {
      "cell_type": "code",
      "source": [
        "def chi_square_test(X_train, features, target):\n",
        "  chi_statistic=[]\n",
        "  p_val=[]\n",
        "  feats_rm = []\n",
        "\n",
        "  for feat in features:\n",
        "    # valores observados\n",
        "    observed = pd.crosstab(index=target, columns=X_train[feat])\n",
        "    \n",
        "    # obtengo los estadisticos a partir de la tabla de contingencia\n",
        "    stat, p, dof, expected = chi2_contingency(observed)\n",
        "    chi_statistic.append(stat)\n",
        "    p_val.append(p)\n",
        "\n",
        "    # obtengo los features independientes\n",
        "    if p >= 0.05:\n",
        "        feats_rm.append(feat)\n",
        "    \n",
        "  # creo el dataframe con los resultados\n",
        "  chi_df = pd.DataFrame()\n",
        "  chi_df[\"Feature\"] = features\n",
        "  chi_df[\"Chi_Statistic\"] = chi_statistic\n",
        "  chi_df[\"P_value\"] = p_val\n",
        "\n",
        "  # remuevo los features independientes\n",
        "  chi_df = chi_df[chi_df[\"P_value\"] < 0.05]\n",
        "\n",
        "  # guardo el nombre de los features resultantes\n",
        "  feat_w_high_dependency = chi_df[\"Feature\"].values\n",
        "\n",
        "  # ordeno segun el p-valor\n",
        "  chi_df.sort_values(by=\"P_value\", ascending=True, inplace=True)\n",
        "  display(chi_df)\n",
        "\n",
        "  return feat_w_high_dependency"
      ],
      "metadata": {
        "id": "5cB9Qx9aB2_B"
      },
      "execution_count": null,
      "outputs": []
    },
    {
      "cell_type": "markdown",
      "source": [
        "<a name=\"fe&fs-fs-mi\"></a>\n",
        "### Mutual Information.\n",
        "\n",
        "La información mutua mide la reducción de la incertidumbre en la variable A cuando se conoce la variable B.\n",
        "\n",
        "Para seleccionar features, nos interesa la información mutua entre los features y el target. Los valores de información mutua más altos indican poca incertidumbre sobre el target dado el feature X."
      ],
      "metadata": {
        "id": "qo5iGF0WLCry"
      }
    },
    {
      "cell_type": "code",
      "source": [
        "def mutual_info(X_train, features, target):\n",
        "  # obtengo el valor de mi\n",
        "  mi = mutual_info_classif(X_train[features], target)\n",
        "\n",
        "  # creo la serie con los valores de mi y ploteo el resultado\n",
        "  mi = pd.Series(mi)\n",
        "  mi.index = features\n",
        "  mi.sort_values(ascending=False).plot.bar(figsize=(20, 6))\n",
        "  plt.ylabel('Mutual Information')\n",
        "\n",
        "  return mi"
      ],
      "metadata": {
        "id": "PdhkXr6j_MEM"
      },
      "execution_count": null,
      "outputs": []
    },
    {
      "cell_type": "markdown",
      "source": [
        "<a name=\"fe&fs-fs-importance\"></a>\n",
        "### Feature importance."
      ],
      "metadata": {
        "id": "xGQBOj5rdKC5"
      }
    },
    {
      "cell_type": "markdown",
      "source": [
        "#### Random Forest importance\n",
        "\n",
        "A la hora de seleccionar los features más importantes se enfoca en el método feature_importance (Gini importance) de la clase Random Forest.\n"
      ],
      "metadata": {
        "id": "YdLoqHvB9yC6"
      }
    },
    {
      "cell_type": "code",
      "source": [
        "def random_forest_importance(X_train, features, target):\n",
        "  # declaro el selector con rfc\n",
        "  sel_ = SelectFromModel(RandomForestClassifier(n_estimators=10, random_state=0))\n",
        "\n",
        "  sel_.fit(X_train[features], target)\n",
        "\n",
        "  # selecciono los features con mayor importancia\n",
        "  selected_feat = X_train[features].columns[(sel_.get_support())]\n",
        "\n",
        "  return selected_feat"
      ],
      "metadata": {
        "id": "oZMrmA4h96vl"
      },
      "execution_count": null,
      "outputs": []
    },
    {
      "cell_type": "markdown",
      "source": [
        "#### Logistic Regression Coefficients\n",
        "\n",
        "Metodo similar al Random Forest importance."
      ],
      "metadata": {
        "id": "LsZq_FrU97X3"
      }
    },
    {
      "cell_type": "code",
      "source": [
        "def logistic_coeff(X_train, X_test, features, target):\n",
        "  # escalo los datos\n",
        "  scaler = StandardScaler()\n",
        "  scaler.fit(X_train[features])\n",
        "\n",
        "  # C a 1000, para evitar la regularización\n",
        "  sel_ = SelectFromModel(\n",
        "    LogisticRegression(C=1000, penalty='l2', max_iter=300, random_state=0))\n",
        "\n",
        "  sel_.fit(scaler.transform(X_train[features]), target)\n",
        "\n",
        "  # obtengo los features con mayor coeff\n",
        "  selected_feat = X_train[features].columns[(sel_.get_support())]\n",
        "\n",
        "  return selected_feat\n"
      ],
      "metadata": {
        "id": "m5p7yy8O-RRu"
      },
      "execution_count": null,
      "outputs": []
    },
    {
      "cell_type": "markdown",
      "source": [
        "#### Feature selection performance.\n",
        "\n",
        "Procedo a evaluar los distintos métodos de feature selection."
      ],
      "metadata": {
        "id": "0E3kqmbRfXEv"
      }
    },
    {
      "cell_type": "markdown",
      "source": [
        "Elimino features constantes/casi-constantes."
      ],
      "metadata": {
        "id": "qBqjzEokN3fe"
      }
    },
    {
      "cell_type": "code",
      "source": [
        "# borro features constantes en x_train_ohe\n",
        "const_feats_OHE = is_qsiconstant_feature(X_train_OHE, X_train_OHE.columns, 0.95)\n",
        "X_train_OHE.drop(const_feats_OHE, axis=1, inplace=True)\n",
        "X_test_OHE.drop(const_feats_OHE, axis=1, inplace=True)\n",
        "\n",
        "# borro features constantes en x_train_tme\n",
        "const_feats_TME = is_qsiconstant_feature(X_train_TME, X_train_TME.columns , 0.95)\n",
        "X_train_TME.drop(const_feats_TME, axis=1, inplace=True)\n",
        "X_test_TME.drop(const_feats_TME, axis=1, inplace=True)"
      ],
      "metadata": {
        "id": "sBUGHlO_cngg"
      },
      "execution_count": null,
      "outputs": []
    },
    {
      "cell_type": "markdown",
      "source": [
        "Analizo features altamente correlacionados.\n",
        "\n",
        "Podemos ver que en los distintos DataFrames siempre son los mismos features con una alta correlación.\n",
        "\n",
        "* `euribor3m` y`emp.var.rate` con una corr = 0.97\n",
        "* `nr.employed` y `emp.var.rate` con una corr = 0.9\n",
        "*  `nr.employed` y `euribor3m` con una corr = 0.94."
      ],
      "metadata": {
        "id": "YnUZy7qamq1d"
      }
    },
    {
      "cell_type": "code",
      "source": [
        "# obtengo features correlacionados\n",
        "feat_w_high_corr_ohe = method_1(X_train_OHE, 0.9)\n",
        "feat_w_high_corr_tme = method_1(X_train_TME, 0.9)\n",
        "\n",
        "display(feat_w_high_corr_ohe, feat_w_high_corr_tme)"
      ],
      "metadata": {
        "colab": {
          "base_uri": "https://localhost:8080/",
          "height": 121
        },
        "id": "MUwf-bqNmtQJ",
        "outputId": "32d618a8-ba35-443d-bac3-ceab5f6372d8"
      },
      "execution_count": null,
      "outputs": [
        {
          "output_type": "display_data",
          "data": {
            "text/plain": [
              "[(0.9719785862337516, 'euribor3m', 'emp.var.rate'),\n",
              " (0.905892212860843, 'nr.employed', 'emp.var.rate'),\n",
              " (0.9448246850355756, 'nr.employed', 'euribor3m')]"
            ]
          },
          "metadata": {}
        },
        {
          "output_type": "display_data",
          "data": {
            "text/plain": [
              "[(0.9719785862337516, 'euribor3m', 'emp.var.rate'),\n",
              " (0.905892212860843, 'nr.employed', 'emp.var.rate'),\n",
              " (0.9448246850355756, 'nr.employed', 'euribor3m')]"
            ]
          },
          "metadata": {}
        }
      ]
    },
    {
      "cell_type": "markdown",
      "source": [
        "Recordamos los distintos aprouchs de encoding que realizamos:\n",
        "\n",
        "* **One Hot Encoding**. (X_train_OHE)\n",
        "* **Target Mean Encoding**. (X_train_TME)"
      ],
      "metadata": {
        "id": "Ar52E2rGNtnA"
      }
    },
    {
      "cell_type": "code",
      "source": [
        "# analizare las columnas que NO sean constantes al igual que no analizare \"y\" ni \"duration\" ni los correlacionados\n",
        "new_cols_ohe = [col for col in X_train_OHE.columns if col not in const_feats_OHE + [\"y\",\"duration\", \"emp.var.rate\", \"nr.employed\"]]\n",
        "\n",
        "new_cols_tme = [col for col in X_train_TME.columns if col not in const_feats_TME + [\"y\",\"duration\", \"emp.var.rate\", \"nr.employed\"]]"
      ],
      "metadata": {
        "id": "IbJjhZqEzYX9"
      },
      "execution_count": null,
      "outputs": []
    },
    {
      "cell_type": "markdown",
      "source": [
        "<h2>Random Forest importance<h2/>"
      ],
      "metadata": {
        "id": "jUdksTsANe3X"
      }
    },
    {
      "cell_type": "markdown",
      "source": [
        "**Random forest imporance** para las variables codificadas con **One Hot Encoding.**"
      ],
      "metadata": {
        "id": "BC6ILQXybYBr"
      }
    },
    {
      "cell_type": "code",
      "source": [
        "rf_importance_ohe = random_forest_importance(X_train_OHE, new_cols_ohe, y_train)\n",
        "rf_importance_ohe"
      ],
      "metadata": {
        "colab": {
          "base_uri": "https://localhost:8080/"
        },
        "id": "U1qTD5rgNhQ9",
        "outputId": "5fe13078-b48b-4144-9b5f-46a9ae853126"
      },
      "execution_count": null,
      "outputs": [
        {
          "output_type": "execute_result",
          "data": {
            "text/plain": [
              "Index(['loan_yes', 'housing_yes', 'age', 'campaign', 'previous',\n",
              "       'cons.price.idx', 'cons.conf.idx', 'euribor3m'],\n",
              "      dtype='object')"
            ]
          },
          "metadata": {},
          "execution_count": 77
        }
      ]
    },
    {
      "cell_type": "markdown",
      "source": [
        "**Random forest imporance** para las variables codificadas con **Target Mean Encoding.**"
      ],
      "metadata": {
        "id": "CaTX75P9bjQQ"
      }
    },
    {
      "cell_type": "code",
      "source": [
        "rf_importance_tme = random_forest_importance(X_train_TME, new_cols_tme, y_train)\n",
        "rf_importance_tme"
      ],
      "metadata": {
        "colab": {
          "base_uri": "https://localhost:8080/"
        },
        "id": "X3OHnCnOblhZ",
        "outputId": "bb3cd5ae-2ccf-42bb-9402-534e2c52b2f4"
      },
      "execution_count": null,
      "outputs": [
        {
          "output_type": "execute_result",
          "data": {
            "text/plain": [
              "Index(['age', 'job', 'education', 'day_of_week', 'campaign', 'euribor3m'], dtype='object')"
            ]
          },
          "metadata": {},
          "execution_count": 78
        }
      ]
    },
    {
      "cell_type": "markdown",
      "source": [
        "<h2>Logistic Regression Coefficients<h2/>"
      ],
      "metadata": {
        "id": "TMSL6JmzNhtf"
      }
    },
    {
      "cell_type": "markdown",
      "source": [
        "**Calculamos los mejores coeficientes en la regresión logística** para las variables codificadas con **One Hot Encoding.**"
      ],
      "metadata": {
        "id": "-n2ZCk21byuH"
      }
    },
    {
      "cell_type": "code",
      "source": [
        "best_coeff_ohe = logistic_coeff(X_train_OHE, X_test_OHE, new_cols_ohe, y_train)\n",
        "best_coeff_ohe"
      ],
      "metadata": {
        "colab": {
          "base_uri": "https://localhost:8080/"
        },
        "id": "b8msk3ByNit3",
        "outputId": "fbda59d4-2346-4af7-b217-37703f86a567"
      },
      "execution_count": null,
      "outputs": [
        {
          "output_type": "execute_result",
          "data": {
            "text/plain": [
              "Index(['month_quarterly_Q2', 'month_quarterly_Q3', 'month_quarterly_Q4',\n",
              "       'month_may', 'contact_telephone', 'campaign', 'cons.price.idx',\n",
              "       'cons.conf.idx', 'euribor3m'],\n",
              "      dtype='object')"
            ]
          },
          "metadata": {},
          "execution_count": 79
        }
      ]
    },
    {
      "cell_type": "markdown",
      "source": [
        "**Calculamos los mejores coeficientes en la regresión logística** para las variables codificadas con **Target Mean Encoding.**"
      ],
      "metadata": {
        "id": "VsJEPp-XcLts"
      }
    },
    {
      "cell_type": "code",
      "source": [
        "best_coeff_tme = logistic_coeff(X_train_TME, X_test_TME, new_cols_tme, y_train)\n",
        "best_coeff_tme"
      ],
      "metadata": {
        "colab": {
          "base_uri": "https://localhost:8080/"
        },
        "id": "7FELWFwZcQKz",
        "outputId": "4987c664-cdef-4fd3-9ea9-1fd2d28f47ab"
      },
      "execution_count": null,
      "outputs": [
        {
          "output_type": "execute_result",
          "data": {
            "text/plain": [
              "Index(['contact', 'poutcome', 'cons.price.idx', 'cons.conf.idx', 'euribor3m'], dtype='object')"
            ]
          },
          "metadata": {},
          "execution_count": 80
        }
      ]
    },
    {
      "cell_type": "markdown",
      "source": [
        "<h2>Chi-cuadrado test<h2/>"
      ],
      "metadata": {
        "id": "gNtc8sptmYWt"
      }
    },
    {
      "cell_type": "markdown",
      "source": [
        "**Calculamos los features con mayor dependencia hacia el target** para las variables codificadas con **One Ho Encoding.**"
      ],
      "metadata": {
        "id": "i3-zIPdBHqt4"
      }
    },
    {
      "cell_type": "code",
      "source": [
        "# obtenemos las variables discretas\n",
        "disc_feats_ohe = [feat for feat in new_cols_ohe if X_train_OHE[feat].nunique() <= 10]\n",
        "\n",
        "feats_w_high_dep_ohe = chi_square_test(X_train_OHE, disc_feats_ohe, y_train)"
      ],
      "metadata": {
        "colab": {
          "base_uri": "https://localhost:8080/",
          "height": 112
        },
        "id": "H6ZLxGD2mazv",
        "outputId": "1efae330-0c2f-4cd5-8b1e-7d835beca2db"
      },
      "execution_count": null,
      "outputs": [
        {
          "output_type": "display_data",
          "data": {
            "text/plain": [
              "            Feature  Chi_Statistic   P_value\n",
              "29  job_blue-collar       4.853575  0.027589\n",
              "10  day_of_week_mon       4.751197  0.029278"
            ],
            "text/html": [
              "\n",
              "  <div id=\"df-86723555-29f5-4da5-8d31-94317f92570d\">\n",
              "    <div class=\"colab-df-container\">\n",
              "      <div>\n",
              "<style scoped>\n",
              "    .dataframe tbody tr th:only-of-type {\n",
              "        vertical-align: middle;\n",
              "    }\n",
              "\n",
              "    .dataframe tbody tr th {\n",
              "        vertical-align: top;\n",
              "    }\n",
              "\n",
              "    .dataframe thead th {\n",
              "        text-align: right;\n",
              "    }\n",
              "</style>\n",
              "<table border=\"1\" class=\"dataframe\">\n",
              "  <thead>\n",
              "    <tr style=\"text-align: right;\">\n",
              "      <th></th>\n",
              "      <th>Feature</th>\n",
              "      <th>Chi_Statistic</th>\n",
              "      <th>P_value</th>\n",
              "    </tr>\n",
              "  </thead>\n",
              "  <tbody>\n",
              "    <tr>\n",
              "      <th>29</th>\n",
              "      <td>job_blue-collar</td>\n",
              "      <td>4.853575</td>\n",
              "      <td>0.027589</td>\n",
              "    </tr>\n",
              "    <tr>\n",
              "      <th>10</th>\n",
              "      <td>day_of_week_mon</td>\n",
              "      <td>4.751197</td>\n",
              "      <td>0.029278</td>\n",
              "    </tr>\n",
              "  </tbody>\n",
              "</table>\n",
              "</div>\n",
              "      <button class=\"colab-df-convert\" onclick=\"convertToInteractive('df-86723555-29f5-4da5-8d31-94317f92570d')\"\n",
              "              title=\"Convert this dataframe to an interactive table.\"\n",
              "              style=\"display:none;\">\n",
              "        \n",
              "  <svg xmlns=\"http://www.w3.org/2000/svg\" height=\"24px\"viewBox=\"0 0 24 24\"\n",
              "       width=\"24px\">\n",
              "    <path d=\"M0 0h24v24H0V0z\" fill=\"none\"/>\n",
              "    <path d=\"M18.56 5.44l.94 2.06.94-2.06 2.06-.94-2.06-.94-.94-2.06-.94 2.06-2.06.94zm-11 1L8.5 8.5l.94-2.06 2.06-.94-2.06-.94L8.5 2.5l-.94 2.06-2.06.94zm10 10l.94 2.06.94-2.06 2.06-.94-2.06-.94-.94-2.06-.94 2.06-2.06.94z\"/><path d=\"M17.41 7.96l-1.37-1.37c-.4-.4-.92-.59-1.43-.59-.52 0-1.04.2-1.43.59L10.3 9.45l-7.72 7.72c-.78.78-.78 2.05 0 2.83L4 21.41c.39.39.9.59 1.41.59.51 0 1.02-.2 1.41-.59l7.78-7.78 2.81-2.81c.8-.78.8-2.07 0-2.86zM5.41 20L4 18.59l7.72-7.72 1.47 1.35L5.41 20z\"/>\n",
              "  </svg>\n",
              "      </button>\n",
              "      \n",
              "  <style>\n",
              "    .colab-df-container {\n",
              "      display:flex;\n",
              "      flex-wrap:wrap;\n",
              "      gap: 12px;\n",
              "    }\n",
              "\n",
              "    .colab-df-convert {\n",
              "      background-color: #E8F0FE;\n",
              "      border: none;\n",
              "      border-radius: 50%;\n",
              "      cursor: pointer;\n",
              "      display: none;\n",
              "      fill: #1967D2;\n",
              "      height: 32px;\n",
              "      padding: 0 0 0 0;\n",
              "      width: 32px;\n",
              "    }\n",
              "\n",
              "    .colab-df-convert:hover {\n",
              "      background-color: #E2EBFA;\n",
              "      box-shadow: 0px 1px 2px rgba(60, 64, 67, 0.3), 0px 1px 3px 1px rgba(60, 64, 67, 0.15);\n",
              "      fill: #174EA6;\n",
              "    }\n",
              "\n",
              "    [theme=dark] .colab-df-convert {\n",
              "      background-color: #3B4455;\n",
              "      fill: #D2E3FC;\n",
              "    }\n",
              "\n",
              "    [theme=dark] .colab-df-convert:hover {\n",
              "      background-color: #434B5C;\n",
              "      box-shadow: 0px 1px 3px 1px rgba(0, 0, 0, 0.15);\n",
              "      filter: drop-shadow(0px 1px 2px rgba(0, 0, 0, 0.3));\n",
              "      fill: #FFFFFF;\n",
              "    }\n",
              "  </style>\n",
              "\n",
              "      <script>\n",
              "        const buttonEl =\n",
              "          document.querySelector('#df-86723555-29f5-4da5-8d31-94317f92570d button.colab-df-convert');\n",
              "        buttonEl.style.display =\n",
              "          google.colab.kernel.accessAllowed ? 'block' : 'none';\n",
              "\n",
              "        async function convertToInteractive(key) {\n",
              "          const element = document.querySelector('#df-86723555-29f5-4da5-8d31-94317f92570d');\n",
              "          const dataTable =\n",
              "            await google.colab.kernel.invokeFunction('convertToInteractive',\n",
              "                                                     [key], {});\n",
              "          if (!dataTable) return;\n",
              "\n",
              "          const docLinkHtml = 'Like what you see? Visit the ' +\n",
              "            '<a target=\"_blank\" href=https://colab.research.google.com/notebooks/data_table.ipynb>data table notebook</a>'\n",
              "            + ' to learn more about interactive tables.';\n",
              "          element.innerHTML = '';\n",
              "          dataTable['output_type'] = 'display_data';\n",
              "          await google.colab.output.renderOutput(dataTable, element);\n",
              "          const docLink = document.createElement('div');\n",
              "          docLink.innerHTML = docLinkHtml;\n",
              "          element.appendChild(docLink);\n",
              "        }\n",
              "      </script>\n",
              "    </div>\n",
              "  </div>\n",
              "  "
            ]
          },
          "metadata": {}
        }
      ]
    },
    {
      "cell_type": "markdown",
      "source": [
        "**Calculamos los features con mayor dependencia hacia el target** para las variables codificadas con **Target Mean Encoding.**"
      ],
      "metadata": {
        "id": "o9W44dRfH8S1"
      }
    },
    {
      "cell_type": "code",
      "source": [
        "# obtenemos las variables discretas\n",
        "disc_feats_tme = [feat for feat in new_cols_tme if X_train_TME[feat].nunique() <= 10]\n",
        "\n",
        "feats_w_high_dep_tme = chi_square_test(X_train_TME, disc_feats_tme, y_train)"
      ],
      "metadata": {
        "colab": {
          "base_uri": "https://localhost:8080/",
          "height": 363
        },
        "id": "xMGob2yDsQ-5",
        "outputId": "9e7ad01b-e715-41c0-ce50-b454536cb67c"
      },
      "execution_count": null,
      "outputs": [
        {
          "output_type": "display_data",
          "data": {
            "text/plain": [
              "            Feature  Chi_Statistic        P_value\n",
              "5             month    2197.488071   0.000000e+00\n",
              "7          previous    1689.674336   0.000000e+00\n",
              "8          poutcome    3061.175676   0.000000e+00\n",
              "9   month_quarterly     759.849707  2.206007e-164\n",
              "11          age_bin     705.305509  5.157567e-147\n",
              "4           contact     603.646572  2.695533e-133\n",
              "10     campaign_bin     133.025552   1.205049e-28\n",
              "1         education     132.151910   4.526657e-26\n",
              "0           marital      69.543658   7.921119e-16\n",
              "6       day_of_week      25.877327   3.349894e-05"
            ],
            "text/html": [
              "\n",
              "  <div id=\"df-e6879aed-7b75-4ddd-8022-d03bc05201ef\">\n",
              "    <div class=\"colab-df-container\">\n",
              "      <div>\n",
              "<style scoped>\n",
              "    .dataframe tbody tr th:only-of-type {\n",
              "        vertical-align: middle;\n",
              "    }\n",
              "\n",
              "    .dataframe tbody tr th {\n",
              "        vertical-align: top;\n",
              "    }\n",
              "\n",
              "    .dataframe thead th {\n",
              "        text-align: right;\n",
              "    }\n",
              "</style>\n",
              "<table border=\"1\" class=\"dataframe\">\n",
              "  <thead>\n",
              "    <tr style=\"text-align: right;\">\n",
              "      <th></th>\n",
              "      <th>Feature</th>\n",
              "      <th>Chi_Statistic</th>\n",
              "      <th>P_value</th>\n",
              "    </tr>\n",
              "  </thead>\n",
              "  <tbody>\n",
              "    <tr>\n",
              "      <th>5</th>\n",
              "      <td>month</td>\n",
              "      <td>2197.488071</td>\n",
              "      <td>0.000000e+00</td>\n",
              "    </tr>\n",
              "    <tr>\n",
              "      <th>7</th>\n",
              "      <td>previous</td>\n",
              "      <td>1689.674336</td>\n",
              "      <td>0.000000e+00</td>\n",
              "    </tr>\n",
              "    <tr>\n",
              "      <th>8</th>\n",
              "      <td>poutcome</td>\n",
              "      <td>3061.175676</td>\n",
              "      <td>0.000000e+00</td>\n",
              "    </tr>\n",
              "    <tr>\n",
              "      <th>9</th>\n",
              "      <td>month_quarterly</td>\n",
              "      <td>759.849707</td>\n",
              "      <td>2.206007e-164</td>\n",
              "    </tr>\n",
              "    <tr>\n",
              "      <th>11</th>\n",
              "      <td>age_bin</td>\n",
              "      <td>705.305509</td>\n",
              "      <td>5.157567e-147</td>\n",
              "    </tr>\n",
              "    <tr>\n",
              "      <th>4</th>\n",
              "      <td>contact</td>\n",
              "      <td>603.646572</td>\n",
              "      <td>2.695533e-133</td>\n",
              "    </tr>\n",
              "    <tr>\n",
              "      <th>10</th>\n",
              "      <td>campaign_bin</td>\n",
              "      <td>133.025552</td>\n",
              "      <td>1.205049e-28</td>\n",
              "    </tr>\n",
              "    <tr>\n",
              "      <th>1</th>\n",
              "      <td>education</td>\n",
              "      <td>132.151910</td>\n",
              "      <td>4.526657e-26</td>\n",
              "    </tr>\n",
              "    <tr>\n",
              "      <th>0</th>\n",
              "      <td>marital</td>\n",
              "      <td>69.543658</td>\n",
              "      <td>7.921119e-16</td>\n",
              "    </tr>\n",
              "    <tr>\n",
              "      <th>6</th>\n",
              "      <td>day_of_week</td>\n",
              "      <td>25.877327</td>\n",
              "      <td>3.349894e-05</td>\n",
              "    </tr>\n",
              "  </tbody>\n",
              "</table>\n",
              "</div>\n",
              "      <button class=\"colab-df-convert\" onclick=\"convertToInteractive('df-e6879aed-7b75-4ddd-8022-d03bc05201ef')\"\n",
              "              title=\"Convert this dataframe to an interactive table.\"\n",
              "              style=\"display:none;\">\n",
              "        \n",
              "  <svg xmlns=\"http://www.w3.org/2000/svg\" height=\"24px\"viewBox=\"0 0 24 24\"\n",
              "       width=\"24px\">\n",
              "    <path d=\"M0 0h24v24H0V0z\" fill=\"none\"/>\n",
              "    <path d=\"M18.56 5.44l.94 2.06.94-2.06 2.06-.94-2.06-.94-.94-2.06-.94 2.06-2.06.94zm-11 1L8.5 8.5l.94-2.06 2.06-.94-2.06-.94L8.5 2.5l-.94 2.06-2.06.94zm10 10l.94 2.06.94-2.06 2.06-.94-2.06-.94-.94-2.06-.94 2.06-2.06.94z\"/><path d=\"M17.41 7.96l-1.37-1.37c-.4-.4-.92-.59-1.43-.59-.52 0-1.04.2-1.43.59L10.3 9.45l-7.72 7.72c-.78.78-.78 2.05 0 2.83L4 21.41c.39.39.9.59 1.41.59.51 0 1.02-.2 1.41-.59l7.78-7.78 2.81-2.81c.8-.78.8-2.07 0-2.86zM5.41 20L4 18.59l7.72-7.72 1.47 1.35L5.41 20z\"/>\n",
              "  </svg>\n",
              "      </button>\n",
              "      \n",
              "  <style>\n",
              "    .colab-df-container {\n",
              "      display:flex;\n",
              "      flex-wrap:wrap;\n",
              "      gap: 12px;\n",
              "    }\n",
              "\n",
              "    .colab-df-convert {\n",
              "      background-color: #E8F0FE;\n",
              "      border: none;\n",
              "      border-radius: 50%;\n",
              "      cursor: pointer;\n",
              "      display: none;\n",
              "      fill: #1967D2;\n",
              "      height: 32px;\n",
              "      padding: 0 0 0 0;\n",
              "      width: 32px;\n",
              "    }\n",
              "\n",
              "    .colab-df-convert:hover {\n",
              "      background-color: #E2EBFA;\n",
              "      box-shadow: 0px 1px 2px rgba(60, 64, 67, 0.3), 0px 1px 3px 1px rgba(60, 64, 67, 0.15);\n",
              "      fill: #174EA6;\n",
              "    }\n",
              "\n",
              "    [theme=dark] .colab-df-convert {\n",
              "      background-color: #3B4455;\n",
              "      fill: #D2E3FC;\n",
              "    }\n",
              "\n",
              "    [theme=dark] .colab-df-convert:hover {\n",
              "      background-color: #434B5C;\n",
              "      box-shadow: 0px 1px 3px 1px rgba(0, 0, 0, 0.15);\n",
              "      filter: drop-shadow(0px 1px 2px rgba(0, 0, 0, 0.3));\n",
              "      fill: #FFFFFF;\n",
              "    }\n",
              "  </style>\n",
              "\n",
              "      <script>\n",
              "        const buttonEl =\n",
              "          document.querySelector('#df-e6879aed-7b75-4ddd-8022-d03bc05201ef button.colab-df-convert');\n",
              "        buttonEl.style.display =\n",
              "          google.colab.kernel.accessAllowed ? 'block' : 'none';\n",
              "\n",
              "        async function convertToInteractive(key) {\n",
              "          const element = document.querySelector('#df-e6879aed-7b75-4ddd-8022-d03bc05201ef');\n",
              "          const dataTable =\n",
              "            await google.colab.kernel.invokeFunction('convertToInteractive',\n",
              "                                                     [key], {});\n",
              "          if (!dataTable) return;\n",
              "\n",
              "          const docLinkHtml = 'Like what you see? Visit the ' +\n",
              "            '<a target=\"_blank\" href=https://colab.research.google.com/notebooks/data_table.ipynb>data table notebook</a>'\n",
              "            + ' to learn more about interactive tables.';\n",
              "          element.innerHTML = '';\n",
              "          dataTable['output_type'] = 'display_data';\n",
              "          await google.colab.output.renderOutput(dataTable, element);\n",
              "          const docLink = document.createElement('div');\n",
              "          docLink.innerHTML = docLinkHtml;\n",
              "          element.appendChild(docLink);\n",
              "        }\n",
              "      </script>\n",
              "    </div>\n",
              "  </div>\n",
              "  "
            ]
          },
          "metadata": {}
        }
      ]
    },
    {
      "cell_type": "markdown",
      "source": [
        "<h2>Mutual information<h2/>"
      ],
      "metadata": {
        "id": "llMQDyL3me0L"
      }
    },
    {
      "cell_type": "markdown",
      "source": [
        "**Calculamos los features con mayor mutual information score** para las variables codificadas con **One Hot Encoding.**"
      ],
      "metadata": {
        "id": "GToKlRWtKsFp"
      }
    },
    {
      "cell_type": "code",
      "source": [
        "score_mi_ohe = mutual_info(X_train_OHE, new_cols_ohe, y_train)"
      ],
      "metadata": {
        "colab": {
          "base_uri": "https://localhost:8080/",
          "height": 425
        },
        "id": "iTBUzdPPmiWz",
        "outputId": "a2fb395a-f212-4e67-beee-c464ee003715"
      },
      "execution_count": null,
      "outputs": [
        {
          "output_type": "display_data",
          "data": {
            "text/plain": [
              "<Figure size 1440x432 with 1 Axes>"
            ],
            "image/png": "[encoded data removed]"
          },
          "metadata": {
            "needs_background": "light"
          }
        }
      ]
    },
    {
      "cell_type": "code",
      "source": [
        "score_mi_ohe = score_mi_ohe.sort_values(ascending=False)[:10].index"
      ],
      "metadata": {
        "id": "3p9bDNnDTcKP"
      },
      "execution_count": null,
      "outputs": []
    },
    {
      "cell_type": "markdown",
      "source": [
        "**Calculamos los features con mayor mutual information score** para las variables codificadas con **Target Mean Encoding.**"
      ],
      "metadata": {
        "id": "97HCPVvPKxts"
      }
    },
    {
      "cell_type": "code",
      "source": [
        "score_mi_tme = mutual_info(X_train_TME, new_cols_tme, y_train)"
      ],
      "metadata": {
        "colab": {
          "base_uri": "https://localhost:8080/",
          "height": 368
        },
        "id": "YiyZs-O5KygP",
        "outputId": "1c675b35-958d-4889-9c30-807b3ef995df"
      },
      "execution_count": null,
      "outputs": [
        {
          "output_type": "display_data",
          "data": {
            "text/plain": [
              "<Figure size 1440x432 with 1 Axes>"
            ],
            "image/png": "[encoded data removed]"
          },
          "metadata": {
            "needs_background": "light"
          }
        }
      ]
    },
    {
      "cell_type": "code",
      "source": [
        "score_mi_tme = score_mi_tme.sort_values(ascending=False)[:11].index"
      ],
      "metadata": {
        "id": "sHuxCMbIT8G9"
      },
      "execution_count": null,
      "outputs": []
    },
    {
      "cell_type": "markdown",
      "source": [
        "# ENTRENAMIENTO Y EVALUACION DE MODELOS."
      ],
      "metadata": {
        "id": "6pjv6x43T0-S"
      }
    },
    {
      "cell_type": "markdown",
      "source": [
        "## Model performance functions."
      ],
      "metadata": {
        "id": "d7NOZLx9IDng"
      }
    },
    {
      "cell_type": "code",
      "source": [
        "def model_performance(classifier, X_train, X_test, y_train, y_test, threshold):\n",
        "  \n",
        "  # entreno el modelo\n",
        "  classifier.fit(X_train, y_train)\n",
        "\n",
        "  # obtengo la prediccion del conjunto train\n",
        "  pred = classifier.predict_proba(X_train)\n",
        "\n",
        "  print(\"Train set\")\n",
        "  print(f\"{classifier} roc-auc: {roc_auc_score(y_train, pred[:,1])}\")\n",
        "\n",
        "  # obtengo la prediccion del conjunto de test\n",
        "  pred = classifier.predict_proba(X_test)\n",
        "\n",
        "  # comparo la prediccion obtenida con el limite dado\n",
        "  pred = (pred[:,1] >= threshold).astype(bool)\n",
        "\n",
        "  print(\"Test set\")\n",
        "  print(f\"{classifier} roc-auc: {roc_auc_score(y_test, pred)}\")\n",
        "\n",
        "  print(f\"Acurracy {100*accuracy_score(y_test, pred)}\")\n",
        "\n",
        "  print(\"-------------------------\")\n",
        "  print((classification_report(y_test, pred)))\n",
        "\n",
        "  # creo y muestro la matriz de confusion\n",
        "  cm = confusion_matrix(y_test, pred)\n",
        "  sns.heatmap(cm, annot=True)\n",
        "\n",
        "def model_performance2(classifier, X_train, X_test, y_train, y_test):\n",
        "  \n",
        "  classifier.fit(X_train, y_train)\n",
        "\n",
        "  pred = classifier.predict(X_train)\n",
        "\n",
        "  print(\"Train set\")\n",
        "\n",
        "  print(f\"{classifier} Train set roc-auc: {roc_auc_score(y_train, pred)}\")\n",
        "\n",
        "  pred = classifier.predict(X_test)\n",
        "\n",
        "  print(f\"{classifier} Test set roc-auc: {roc_auc_score(y_test, pred)}\\n\")\n",
        "\n",
        "  print((classification_report(y_test, pred)))\n"
      ],
      "metadata": {
        "id": "pn1ln9EvT2IZ"
      },
      "execution_count": null,
      "outputs": []
    },
    {
      "cell_type": "markdown",
      "source": [
        "<a name=\"model-performance\"></a>\n",
        "## Model performance.\n"
      ],
      "metadata": {
        "id": "jOAGr86RLVKu"
      }
    },
    {
      "cell_type": "markdown",
      "source": [
        "Vamos a analizar por separado los distintos aprouchs de feature selection combinándolos con los distintos aprouchs de encoding.\n",
        "\n",
        "Los modelos que iremos a utilizar y analizar son: \n",
        "* GradientBoostingClassifier.\n",
        "* RandomForestClassifier.\n",
        "* LogisticRegression.\n",
        "\n",
        "---\n",
        "\n",
        "Los grupos de features a analizar son:\n",
        "* `rf_importance_x` (features seleccionados con el método random forest importance)\n",
        "* `best_coeff_x` (features seleccionados con el método logistic regression coeff)\n",
        "* `feats_w_high_dep_x` (features seleccionados con el método chi-cuadrado)\n",
        "* `score_mi_x` (features seleccionados con el metodo mutual information)\n",
        "\n",
        "Donde los valores que puede tomar x son:\n",
        "\n",
        "* `tme`\n",
        "\n",
        "* `ohe`"
      ],
      "metadata": {
        "id": "OgKr18AVAYh1"
      }
    },
    {
      "cell_type": "markdown",
      "source": [
        "### One Hot Encoding.\n",
        "\n",
        "Probemos primero **los distintos aprouchs de selección** con los features codificados con **One Hot Encoding.**\n",
        "\n",
        "**Conclusión:**\n",
        "\n",
        "Podemos ver que son bastante similares todos los resultados obtenidos.\n",
        "\n",
        "Sin embargo la mejor performance se da combinando el modelo de **GradientBoostingClassifier** con el conjunto de features seleccionados por el método **Logistic Regression Coeff**"
      ],
      "metadata": {
        "id": "MUScypcYJxiY"
      }
    },
    {
      "cell_type": "code",
      "source": [
        "gbc = GradientBoostingClassifier(random_state=0)\n",
        "model_performance2(gbc, X_train_OHE[best_coeff_ohe], X_test_OHE[best_coeff_ohe], y_train, y_test)"
      ],
      "metadata": {
        "colab": {
          "base_uri": "https://localhost:8080/"
        },
        "id": "1wAIOHxJATnS",
        "outputId": "4e278f6d-1e9f-4d5c-f414-a43296b1d305"
      },
      "execution_count": null,
      "outputs": [
        {
          "output_type": "stream",
          "name": "stdout",
          "text": [
            "Train set\n",
            "GradientBoostingClassifier(random_state=0) Train set roc-auc: 0.6159560206767477\n",
            "GradientBoostingClassifier(random_state=0) Test set roc-auc: 0.6084920221856566\n",
            "\n",
            "              precision    recall  f1-score   support\n",
            "\n",
            "           0       0.91      0.98      0.94     10969\n",
            "           1       0.61      0.24      0.34      1388\n",
            "\n",
            "    accuracy                           0.90     12357\n",
            "   macro avg       0.76      0.61      0.64     12357\n",
            "weighted avg       0.88      0.90      0.88     12357\n",
            "\n"
          ]
        }
      ]
    },
    {
      "cell_type": "code",
      "source": [
        "# para lr escalo los datos primero\n",
        "scaler = StandardScaler()\n",
        "X_train_scaled = scaler.fit_transform(X_train_OHE[score_mi_ohe])\n",
        "X_test_scaled = scaler.transform(X_test_OHE[score_mi_ohe])\n",
        "\n",
        "lr = LogisticRegression(random_state=0)\n",
        "model_performance2(lr, X_train_scaled, X_test_scaled, y_train, y_test)"
      ],
      "metadata": {
        "colab": {
          "base_uri": "https://localhost:8080/"
        },
        "id": "6-kEufxsGiwd",
        "outputId": "5c3bf43a-c9c2-45dd-c497-73fe8d3cba9b"
      },
      "execution_count": null,
      "outputs": [
        {
          "output_type": "stream",
          "name": "stdout",
          "text": [
            "Train set\n",
            "LogisticRegression(random_state=0) Train set roc-auc: 0.57994578645892\n",
            "LogisticRegression(random_state=0) Test set roc-auc: 0.5842875770149198\n",
            "\n",
            "              precision    recall  f1-score   support\n",
            "\n",
            "           0       0.91      0.98      0.94     10969\n",
            "           1       0.60      0.18      0.28      1388\n",
            "\n",
            "    accuracy                           0.89     12357\n",
            "   macro avg       0.75      0.58      0.61     12357\n",
            "weighted avg       0.87      0.89      0.87     12357\n",
            "\n"
          ]
        }
      ]
    },
    {
      "cell_type": "code",
      "source": [
        "rfc = RandomForestClassifier(random_state=0, max_depth=4)\n",
        "model_performance2(rfc, X_train_OHE[best_coeff_ohe], X_test_OHE[best_coeff_ohe], y_train, y_test)"
      ],
      "metadata": {
        "colab": {
          "base_uri": "https://localhost:8080/"
        },
        "id": "MHPDLXTgGy6m",
        "outputId": "59431557-5bb3-4aed-ac94-dcd280ac200d"
      },
      "execution_count": null,
      "outputs": [
        {
          "output_type": "stream",
          "name": "stdout",
          "text": [
            "Train set\n",
            "RandomForestClassifier(max_depth=4, random_state=0) Train set roc-auc: 0.5768214607260425\n",
            "RandomForestClassifier(max_depth=4, random_state=0) Test set roc-auc: 0.5675067908170867\n",
            "\n",
            "              precision    recall  f1-score   support\n",
            "\n",
            "           0       0.90      0.99      0.94     10969\n",
            "           1       0.58      0.15      0.24      1388\n",
            "\n",
            "    accuracy                           0.89     12357\n",
            "   macro avg       0.74      0.57      0.59     12357\n",
            "weighted avg       0.87      0.89      0.86     12357\n",
            "\n"
          ]
        }
      ]
    },
    {
      "cell_type": "markdown",
      "source": [
        "### Target Mean encoding.\n",
        "\n",
        "Probaremos **los distintos aprouchs de selección** con los features codificados con **Target Mean Encoding.**\n",
        "\n",
        "**Conclusión:**\n",
        "\n",
        "Nuevamente, podemos ver que son bastante similares todos los resultados obtenidos. Salvo por rfc que obtiene un recall demasiado bajo.\n",
        "\n",
        "Sin embargo la mejor performance se da combinando el modelo de **GradientBoostingClassifier** con el conjunto de features seleccionados por el método **Chi-cuadrado**"
      ],
      "metadata": {
        "id": "TbLmGMrhJvZU"
      }
    },
    {
      "cell_type": "code",
      "source": [
        "gbc = GradientBoostingClassifier(random_state=0)\n",
        "model_performance2(gbc, X_train_TME[feats_w_high_dep_tme], X_test_TME[feats_w_high_dep_tme], y_train, y_test)"
      ],
      "metadata": {
        "colab": {
          "base_uri": "https://localhost:8080/"
        },
        "id": "9_mJPc_gATcV",
        "outputId": "6e70051a-b468-4f17-b30c-1297216fcd55"
      },
      "execution_count": null,
      "outputs": [
        {
          "output_type": "stream",
          "name": "stdout",
          "text": [
            "Train set\n",
            "GradientBoostingClassifier(random_state=0) Train set roc-auc: 0.6060173323106233\n",
            "GradientBoostingClassifier(random_state=0) Test set roc-auc: 0.5955547570136747\n",
            "\n",
            "              precision    recall  f1-score   support\n",
            "\n",
            "           0       0.91      0.99      0.94     10969\n",
            "           1       0.65      0.21      0.31      1388\n",
            "\n",
            "    accuracy                           0.90     12357\n",
            "   macro avg       0.78      0.60      0.63     12357\n",
            "weighted avg       0.88      0.90      0.87     12357\n",
            "\n"
          ]
        }
      ]
    },
    {
      "cell_type": "code",
      "source": [
        "scaler = StandardScaler()\n",
        "X_train_scaled = scaler.fit_transform(X_train_TME[best_coeff_tme])\n",
        "X_test_scaled = scaler.transform(X_test_TME[best_coeff_tme])\n",
        "\n",
        "lr = LogisticRegression(random_state=0)\n",
        "model_performance2(lr, X_train_scaled, X_test_scaled, y_train, y_test)"
      ],
      "metadata": {
        "colab": {
          "base_uri": "https://localhost:8080/"
        },
        "id": "Bf3hUWnwHmo2",
        "outputId": "e68b2195-daaa-4bcd-9803-4893469df2a3"
      },
      "execution_count": null,
      "outputs": [
        {
          "output_type": "stream",
          "name": "stdout",
          "text": [
            "Train set\n",
            "LogisticRegression(random_state=0) Train set roc-auc: 0.5845717728454504\n",
            "LogisticRegression(random_state=0) Test set roc-auc: 0.5838216319872378\n",
            "\n",
            "              precision    recall  f1-score   support\n",
            "\n",
            "           0       0.90      0.99      0.95     10969\n",
            "           1       0.67      0.18      0.28      1388\n",
            "\n",
            "    accuracy                           0.90     12357\n",
            "   macro avg       0.79      0.58      0.61     12357\n",
            "weighted avg       0.88      0.90      0.87     12357\n",
            "\n"
          ]
        }
      ]
    },
    {
      "cell_type": "code",
      "source": [
        "rfc = RandomForestClassifier(random_state=0, max_depth=4)\n",
        "model_performance2(rfc, X_train_TME[rf_importance_tme], X_test_TME[rf_importance_tme], y_train, y_test)"
      ],
      "metadata": {
        "colab": {
          "base_uri": "https://localhost:8080/"
        },
        "id": "GMO-BWcgATXr",
        "outputId": "e2b109cb-4492-4b05-c6b5-612431829810"
      },
      "execution_count": null,
      "outputs": [
        {
          "output_type": "stream",
          "name": "stdout",
          "text": [
            "Train set\n",
            "RandomForestClassifier(max_depth=4, random_state=0) Train set roc-auc: 0.5083533446558517\n",
            "RandomForestClassifier(max_depth=4, random_state=0) Test set roc-auc: 0.5079206385404189\n",
            "\n",
            "              precision    recall  f1-score   support\n",
            "\n",
            "           0       0.89      1.00      0.94     10969\n",
            "           1       0.74      0.02      0.03      1388\n",
            "\n",
            "    accuracy                           0.89     12357\n",
            "   macro avg       0.82      0.51      0.49     12357\n",
            "weighted avg       0.87      0.89      0.84     12357\n",
            "\n"
          ]
        }
      ]
    },
    {
      "cell_type": "markdown",
      "source": [
        "### Interpretación de resultados.\n",
        "\n",
        "A partir de los resultados obtenidos, vemos que la **precisión** que estamos obteniendo es **bastante alta sobre todo para predecir los clientes que NO se suscriben** al depósito, PERO **si tomamos en cuenta la métrica recall** podemos observar que **estamos pudiendo capturar SOLO entre el 15-25% de los clientes que SI se suscriben** ie que hay 75-80% de clientes que se suscriben que **NO estamos pudiendo capturar con ningún modelo.**\n",
        "\n",
        "<br/>\n",
        "\n",
        "Esto es debido a que **tenemos MUY pocos datos de clientes que se suscribieron** al depósito comparado a los que NO se suscriben, ie **nuestra data está desbalanceada** y el modelo NO esta pudiendo encontrar patrones en los clientes que se suscriben al depósito.\n",
        "\n",
        "<br/>\n",
        "\n",
        "Ahora esto NO quiere decir que el modelo sea malo, ya que **dependerá de la preferencia de lo que desee predecir la empresa** ie **si la empresa quiere predecir los clientes que NO se suscriben** (ya sea para elaborar una campaña de marketing para ese sector o por otro motivo) **entonces el modelo podrá predecir con un 90% de precisión** y además **capturara el 99% de este tipo de clientes.**\n",
        "\n",
        "<br/>\n",
        "\n",
        "Ahora si el objetivo es predecir los empleados que SI se suscriben (ya sea para elaborar una campana para retenerlos) entonces habrá que ver que **riesgo es capaz de tomar la empresa** para poder llegar a más clientes que se suscriben (analizaremos esto ahora)."
      ],
      "metadata": {
        "id": "CaKnH7zNLe7c"
      }
    },
    {
      "cell_type": "markdown",
      "source": [
        "### Aumentar recall.\n",
        "\n",
        "Podremos aumentar el recall **bajando el límite** para el cual **predecimos los clientes suscriptos**, esto **dependerá del riesgo que decida correr la empresa**, ya que **si decrementamos dicho límite entonces la precisión (al predecir los suscriptos) bajara**, **por lo que tendremos más falsos positivos a costa de capturar más clientes suscriptos.** Veamos esto."
      ],
      "metadata": {
        "id": "4DGBsBCXKei-"
      }
    },
    {
      "cell_type": "markdown",
      "source": [
        "Por ejemplo, si establecemos el límite en un 15% ie que **cdo nuestro modelo prediga que un cliente se va a suscribir, con una probabilidad del 15% o mas** entonces **seremos capaces de capturar un 60% de los suscriptos** a costa de **bajar la precisión a un 42%** ie que estaremos prediciendo mal un 60% a costa de capturar un 60% de clientes suscriptos. \n",
        "\n",
        "\n",
        "**Dependerá del trade-off que la empresa decida tener.**\n"
      ],
      "metadata": {
        "id": "Dj6ORyzFg7yW"
      }
    },
    {
      "cell_type": "code",
      "source": [
        "gbc = GradientBoostingClassifier(random_state=0)\n",
        "\n",
        "model_performance(gbc, X_train_TME[score_mi_tme], X_test_TME[score_mi_tme], y_train, y_test, threshold=0.15)"
      ],
      "metadata": {
        "colab": {
          "base_uri": "https://localhost:8080/"
        },
        "id": "-vz1SOSzj_Wn",
        "outputId": "cf98d193-e69a-46cf-ddf8-95413798800c"
      },
      "execution_count": null,
      "outputs": [
        {
          "output_type": "stream",
          "name": "stdout",
          "text": [
            "Train set\n",
            "GradientBoostingClassifier(random_state=0) roc-auc: 0.8034387064227184\n",
            "Test set\n",
            "GradientBoostingClassifier(random_state=0) roc-auc: 0.7444772640632771\n",
            "Acurracy 86.42065226187586\n",
            "-------------------------\n",
            "              precision    recall  f1-score   support\n",
            "\n",
            "           0       0.95      0.90      0.92     10969\n",
            "           1       0.42      0.59      0.49      1388\n",
            "\n",
            "    accuracy                           0.86     12357\n",
            "   macro avg       0.69      0.74      0.71     12357\n",
            "weighted avg       0.89      0.86      0.87     12357\n",
            "\n"
          ]
        },
        {
          "output_type": "display_data",
          "data": {
            "text/plain": [
              "<Figure size 432x288 with 2 Axes>"
            ],
            "image/png": "[encoded data removed]"
          },
          "metadata": {
            "needs_background": "light"
          }
        }
      ]
    },
    {
      "cell_type": "code",
      "source": [
        "rfc = RandomForestClassifier(random_state=0, max_depth=4)\n",
        "\n",
        "model_performance(rfc, X_train_TME[rf_importance_tme], X_test_TME[rf_importance_tme], y_train, y_test, threshold=0.1)"
      ],
      "metadata": {
        "colab": {
          "base_uri": "https://localhost:8080/"
        },
        "id": "YHOhUvl_uTX6",
        "outputId": "dd1c4618-7664-4a8e-deed-3747505bdc57"
      },
      "execution_count": null,
      "outputs": [
        {
          "output_type": "stream",
          "name": "stdout",
          "text": [
            "Train set\n",
            "RandomForestClassifier(max_depth=4, random_state=0) roc-auc: 0.7743894995832558\n",
            "Test set\n",
            "RandomForestClassifier(max_depth=4, random_state=0) roc-auc: 0.7245617922975491\n",
            "Acurracy 78.91883143157725\n",
            "-------------------------\n",
            "              precision    recall  f1-score   support\n",
            "\n",
            "           0       0.95      0.81      0.87     10969\n",
            "           1       0.30      0.64      0.41      1388\n",
            "\n",
            "    accuracy                           0.79     12357\n",
            "   macro avg       0.62      0.72      0.64     12357\n",
            "weighted avg       0.87      0.79      0.82     12357\n",
            "\n"
          ]
        },
        {
          "output_type": "display_data",
          "data": {
            "text/plain": [
              "<Figure size 432x288 with 2 Axes>"
            ],
            "image/png": "[encoded data removed]"
          },
          "metadata": {
            "needs_background": "light"
          }
        }
      ]
    }
  ]
}