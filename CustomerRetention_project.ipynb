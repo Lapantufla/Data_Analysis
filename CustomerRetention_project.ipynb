{
  "nbformat": 4,
  "nbformat_minor": 0,
  "metadata": {
    "colab": {
      "provenance": [],
      "collapsed_sections": [
        "4dsMJDKjDzpN",
        "9JxjBjcysCde",
        "tLqUKtiSKboi",
        "u9dhj93C9nqU",
        "EqnPmE-jsYOV",
        "8EZ_BN1ixlSK",
        "1lzCEi406Lhb",
        "YMkythIc6Z30",
        "CjORistYByMI",
        "tEmT48_IB3E1",
        "65FjzcrpIwtS",
        "of_WP_HEJdA5",
        "xhrMNszDJ9Fq",
        "EKgiDTMnSEnt",
        "V5xZdASvQQKt",
        "aHac6B_g0Vgb",
        "rx6xcjmtfTZ2",
        "8A1AyPbSke3o",
        "R6Ro7ilTV6c_",
        "E_ifmAfRWFoT"
      ]
    },
    "kernelspec": {
      "name": "python3",
      "display_name": "Python 3"
    },
    "language_info": {
      "name": "python"
    }
  },
  "cells": [
    {
      "cell_type": "markdown",
      "source": [
        "# LIBRERÍAS Y DATASET"
      ],
      "metadata": {
        "id": "4dsMJDKjDzpN"
      }
    },
    {
      "cell_type": "code",
      "execution_count": 1,
      "metadata": {
        "id": "NwP9UBL7jJms"
      },
      "outputs": [],
      "source": [
        "import numpy as np\n",
        "import pandas as pd\n",
        "import seaborn as sns\n",
        "import matplotlib.pyplot as plt\n",
        "from sklearn.model_selection import train_test_split\n",
        "from sklearn.linear_model import LogisticRegression\n",
        "from sklearn.ensemble import RandomForestClassifier\n",
        "from xgboost import XGBClassifier\n",
        "from sklearn.preprocessing import MinMaxScaler\n",
        "from sklearn.metrics import accuracy_score,confusion_matrix, classification_report, roc_auc_score\n",
        "from scipy.stats import chi2_contingency, ttest_ind"
      ]
    },
    {
      "cell_type": "code",
      "source": [
        "from google.colab import files\n",
        " # cargamos el dataset\n",
        "uploaded = files.upload()"
      ],
      "metadata": {
        "id": "V7F-iofmjTog",
        "colab": {
          "base_uri": "https://localhost:8080/",
          "height": 0
        },
        "outputId": "6fd40dee-8421-4512-8b86-bcd08663ae9e"
      },
      "execution_count": 2,
      "outputs": [
        {
          "output_type": "display_data",
          "data": {
            "text/plain": [
              "<IPython.core.display.HTML object>"
            ],
            "text/html": [
              "\n",
              "     <input type=\"file\" id=\"files-df171c9c-fe40-4539-a6d3-53edfa821ed5\" name=\"files[]\" multiple disabled\n",
              "        style=\"border:none\" />\n",
              "     <output id=\"result-df171c9c-fe40-4539-a6d3-53edfa821ed5\">\n",
              "      Upload widget is only available when the cell has been executed in the\n",
              "      current browser session. Please rerun this cell to enable.\n",
              "      </output>\n",
              "      <script>// Copyright 2017 Google LLC\n",
              "//\n",
              "// Licensed under the Apache License, Version 2.0 (the \"License\");\n",
              "// you may not use this file except in compliance with the License.\n",
              "// You may obtain a copy of the License at\n",
              "//\n",
              "//      http://www.apache.org/licenses/LICENSE-2.0\n",
              "//\n",
              "// Unless required by applicable law or agreed to in writing, software\n",
              "// distributed under the License is distributed on an \"AS IS\" BASIS,\n",
              "// WITHOUT WARRANTIES OR CONDITIONS OF ANY KIND, either express or implied.\n",
              "// See the License for the specific language governing permissions and\n",
              "// limitations under the License.\n",
              "\n",
              "/**\n",
              " * @fileoverview Helpers for google.colab Python module.\n",
              " */\n",
              "(function(scope) {\n",
              "function span(text, styleAttributes = {}) {\n",
              "  const element = document.createElement('span');\n",
              "  element.textContent = text;\n",
              "  for (const key of Object.keys(styleAttributes)) {\n",
              "    element.style[key] = styleAttributes[key];\n",
              "  }\n",
              "  return element;\n",
              "}\n",
              "\n",
              "// Max number of bytes which will be uploaded at a time.\n",
              "const MAX_PAYLOAD_SIZE = 100 * 1024;\n",
              "\n",
              "function _uploadFiles(inputId, outputId) {\n",
              "  const steps = uploadFilesStep(inputId, outputId);\n",
              "  const outputElement = document.getElementById(outputId);\n",
              "  // Cache steps on the outputElement to make it available for the next call\n",
              "  // to uploadFilesContinue from Python.\n",
              "  outputElement.steps = steps;\n",
              "\n",
              "  return _uploadFilesContinue(outputId);\n",
              "}\n",
              "\n",
              "// This is roughly an async generator (not supported in the browser yet),\n",
              "// where there are multiple asynchronous steps and the Python side is going\n",
              "// to poll for completion of each step.\n",
              "// This uses a Promise to block the python side on completion of each step,\n",
              "// then passes the result of the previous step as the input to the next step.\n",
              "function _uploadFilesContinue(outputId) {\n",
              "  const outputElement = document.getElementById(outputId);\n",
              "  const steps = outputElement.steps;\n",
              "\n",
              "  const next = steps.next(outputElement.lastPromiseValue);\n",
              "  return Promise.resolve(next.value.promise).then((value) => {\n",
              "    // Cache the last promise value to make it available to the next\n",
              "    // step of the generator.\n",
              "    outputElement.lastPromiseValue = value;\n",
              "    return next.value.response;\n",
              "  });\n",
              "}\n",
              "\n",
              "/**\n",
              " * Generator function which is called between each async step of the upload\n",
              " * process.\n",
              " * @param {string} inputId Element ID of the input file picker element.\n",
              " * @param {string} outputId Element ID of the output display.\n",
              " * @return {!Iterable<!Object>} Iterable of next steps.\n",
              " */\n",
              "function* uploadFilesStep(inputId, outputId) {\n",
              "  const inputElement = document.getElementById(inputId);\n",
              "  inputElement.disabled = false;\n",
              "\n",
              "  const outputElement = document.getElementById(outputId);\n",
              "  outputElement.innerHTML = '';\n",
              "\n",
              "  const pickedPromise = new Promise((resolve) => {\n",
              "    inputElement.addEventListener('change', (e) => {\n",
              "      resolve(e.target.files);\n",
              "    });\n",
              "  });\n",
              "\n",
              "  const cancel = document.createElement('button');\n",
              "  inputElement.parentElement.appendChild(cancel);\n",
              "  cancel.textContent = 'Cancel upload';\n",
              "  const cancelPromise = new Promise((resolve) => {\n",
              "    cancel.onclick = () => {\n",
              "      resolve(null);\n",
              "    };\n",
              "  });\n",
              "\n",
              "  // Wait for the user to pick the files.\n",
              "  const files = yield {\n",
              "    promise: Promise.race([pickedPromise, cancelPromise]),\n",
              "    response: {\n",
              "      action: 'starting',\n",
              "    }\n",
              "  };\n",
              "\n",
              "  cancel.remove();\n",
              "\n",
              "  // Disable the input element since further picks are not allowed.\n",
              "  inputElement.disabled = true;\n",
              "\n",
              "  if (!files) {\n",
              "    return {\n",
              "      response: {\n",
              "        action: 'complete',\n",
              "      }\n",
              "    };\n",
              "  }\n",
              "\n",
              "  for (const file of files) {\n",
              "    const li = document.createElement('li');\n",
              "    li.append(span(file.name, {fontWeight: 'bold'}));\n",
              "    li.append(span(\n",
              "        `(${file.type || 'n/a'}) - ${file.size} bytes, ` +\n",
              "        `last modified: ${\n",
              "            file.lastModifiedDate ? file.lastModifiedDate.toLocaleDateString() :\n",
              "                                    'n/a'} - `));\n",
              "    const percent = span('0% done');\n",
              "    li.appendChild(percent);\n",
              "\n",
              "    outputElement.appendChild(li);\n",
              "\n",
              "    const fileDataPromise = new Promise((resolve) => {\n",
              "      const reader = new FileReader();\n",
              "      reader.onload = (e) => {\n",
              "        resolve(e.target.result);\n",
              "      };\n",
              "      reader.readAsArrayBuffer(file);\n",
              "    });\n",
              "    // Wait for the data to be ready.\n",
              "    let fileData = yield {\n",
              "      promise: fileDataPromise,\n",
              "      response: {\n",
              "        action: 'continue',\n",
              "      }\n",
              "    };\n",
              "\n",
              "    // Use a chunked sending to avoid message size limits. See b/62115660.\n",
              "    let position = 0;\n",
              "    do {\n",
              "      const length = Math.min(fileData.byteLength - position, MAX_PAYLOAD_SIZE);\n",
              "      const chunk = new Uint8Array(fileData, position, length);\n",
              "      position += length;\n",
              "\n",
              "      const base64 = btoa(String.fromCharCode.apply(null, chunk));\n",
              "      yield {\n",
              "        response: {\n",
              "          action: 'append',\n",
              "          file: file.name,\n",
              "          data: base64,\n",
              "        },\n",
              "      };\n",
              "\n",
              "      let percentDone = fileData.byteLength === 0 ?\n",
              "          100 :\n",
              "          Math.round((position / fileData.byteLength) * 100);\n",
              "      percent.textContent = `${percentDone}% done`;\n",
              "\n",
              "    } while (position < fileData.byteLength);\n",
              "  }\n",
              "\n",
              "  // All done.\n",
              "  yield {\n",
              "    response: {\n",
              "      action: 'complete',\n",
              "    }\n",
              "  };\n",
              "}\n",
              "\n",
              "scope.google = scope.google || {};\n",
              "scope.google.colab = scope.google.colab || {};\n",
              "scope.google.colab._files = {\n",
              "  _uploadFiles,\n",
              "  _uploadFilesContinue,\n",
              "};\n",
              "})(self);\n",
              "</script> "
            ]
          },
          "metadata": {}
        },
        {
          "output_type": "stream",
          "name": "stdout",
          "text": [
            "Saving Telco-Customer-Churn.csv to Telco-Customer-Churn.csv\n"
          ]
        }
      ]
    },
    {
      "cell_type": "code",
      "source": [
        "df = pd.read_csv(\"Telco-Customer-Churn.csv\")\n",
        "df.info()"
      ],
      "metadata": {
        "id": "dhPfG8n1q1U1",
        "colab": {
          "base_uri": "https://localhost:8080/"
        },
        "outputId": "da523764-a9eb-4aa8-ce95-94488c18f7de"
      },
      "execution_count": 3,
      "outputs": [
        {
          "output_type": "stream",
          "name": "stdout",
          "text": [
            "<class 'pandas.core.frame.DataFrame'>\n",
            "RangeIndex: 7043 entries, 0 to 7042\n",
            "Data columns (total 21 columns):\n",
            " #   Column            Non-Null Count  Dtype  \n",
            "---  ------            --------------  -----  \n",
            " 0   customerID        7043 non-null   object \n",
            " 1   gender            7043 non-null   object \n",
            " 2   SeniorCitizen     7043 non-null   int64  \n",
            " 3   Partner           7043 non-null   object \n",
            " 4   Dependents        7043 non-null   object \n",
            " 5   tenure            7043 non-null   int64  \n",
            " 6   PhoneService      7043 non-null   object \n",
            " 7   MultipleLines     7043 non-null   object \n",
            " 8   InternetService   7043 non-null   object \n",
            " 9   OnlineSecurity    7043 non-null   object \n",
            " 10  OnlineBackup      7043 non-null   object \n",
            " 11  DeviceProtection  7043 non-null   object \n",
            " 12  TechSupport       7043 non-null   object \n",
            " 13  StreamingTV       7043 non-null   object \n",
            " 14  StreamingMovies   7043 non-null   object \n",
            " 15  Contract          7043 non-null   object \n",
            " 16  PaperlessBilling  7043 non-null   object \n",
            " 17  PaymentMethod     7043 non-null   object \n",
            " 18  MonthlyCharges    7043 non-null   float64\n",
            " 19  TotalCharges      7043 non-null   object \n",
            " 20  Churn             7043 non-null   object \n",
            "dtypes: float64(1), int64(2), object(18)\n",
            "memory usage: 1.1+ MB\n"
          ]
        }
      ]
    },
    {
      "cell_type": "code",
      "source": [
        "# dropeamos el id puesto que no es necesario para el analisis que hare\n",
        "df.drop(\"customerID\",axis=1, inplace=True)\n",
        "\n",
        "# reemplazamos valores vacios por nans\n",
        "df[\"TotalCharges\"].replace(\" \", np.nan, inplace=True)\n",
        "\n",
        "# cambiamos el tipo de totalcharges\n",
        "df[\"TotalCharges\"] = pd.to_numeric(df[\"TotalCharges\"], downcast='float')"
      ],
      "metadata": {
        "id": "bjp1AjAJixf8"
      },
      "execution_count": 4,
      "outputs": []
    },
    {
      "cell_type": "code",
      "source": [
        "X_train, X_test, y_train, y_test = train_test_split( df,\n",
        "                                                     df['Churn'],\n",
        "                                                     test_size=0.3,\n",
        "                                                     random_state=0)\n",
        "\n",
        "X_train.shape, X_test.shape"
      ],
      "metadata": {
        "id": "mLfeBScCrD78",
        "colab": {
          "base_uri": "https://localhost:8080/"
        },
        "outputId": "f6fda838-1db3-4c23-fce4-640781c5380d"
      },
      "execution_count": 5,
      "outputs": [
        {
          "output_type": "execute_result",
          "data": {
            "text/plain": [
              "((4930, 20), (2113, 20))"
            ]
          },
          "metadata": {},
          "execution_count": 5
        }
      ]
    },
    {
      "cell_type": "markdown",
      "source": [
        "# Funciones Auxiliares"
      ],
      "metadata": {
        "id": "9JxjBjcysCde"
      }
    },
    {
      "cell_type": "markdown",
      "source": [
        "## Funciones para codificar features categoricos.\n",
        "\n",
        "```python\n",
        "def ordinal_encoding(X_train, X_test, features):\n",
        "def counting_encoding(X_train, X_test, features):\n",
        "def ordered_integer_encoding(X_train, X_test, features, target):\n",
        "def target_mean_encoding(X_train, X_test, features, target):\n",
        "def weight_of_evidence_encoding(X_train, X_test, features, target):\n",
        "```"
      ],
      "metadata": {
        "id": "tLqUKtiSKboi"
      }
    },
    {
      "cell_type": "code",
      "source": [
        "# codifica cada valor unico en un feature con un entero unico\n",
        "def ordinal_encoding(X_train, X_test, features):\n",
        "  X_train_r = X_train.copy()\n",
        "  X_test_r = X_test.copy()\n",
        "\n",
        "  for feature in features:\n",
        "\n",
        "    ordinal_mapping = {k:i for i,k in enumerate(X_train[feature].unique(),0)}\n",
        "\n",
        "    X_train_r[feature] = X_train_r[feature].map(ordinal_mapping)\n",
        "    X_test_r[feature] = X_test_r[feature].map(ordinal_mapping)\n",
        "\n",
        "  return X_train_r, X_test_r\n",
        "\n",
        "# codifica cada valor unico en un feature con su debido numero de ocurrencias\n",
        "def counting_encoding(X_train, X_test, features):\n",
        "  X_train_r = X_train.copy()\n",
        "  X_test_r = X_test.copy()\n",
        "\n",
        "  for feature in features:\n",
        "    # creo diccionario con la suma de las ocurrencias de cada valor\n",
        "    ordinal_mapping = X_train[feature].value_counts().to_dict()\n",
        "\n",
        "    # reemplazo los valores categoricos por su ctidad de ocurrencias\n",
        "    X_train_r[feature] = X_train_r[feature].map(ordinal_mapping)\n",
        "    X_test_r[feature] = X_test_r[feature].map(ordinal_mapping)\n",
        "  \n",
        "  return X_train_r, X_test_r\n",
        "\n",
        "\n",
        "# codifica cada valor unico en un feature con un entero\n",
        "# si el target de acuerdo a un label en particular presenta\n",
        "# una media mas elevada => dicho label obtendra un valor de entero mayor\n",
        "# que otro label que tenga dicha media mas reducida.\n",
        "def ordered_integer_encoding(X_train, X_test, features, target):\n",
        "  X_train_r = X_train.copy()\n",
        "  X_test_r = X_test.copy()\n",
        "\n",
        "  for feature in features:\n",
        "\n",
        "    # agrupo por feature y calculo la media del target y ordeno de forma ascendente\n",
        "    ordered_labels = X_train_r.groupby(by=feature)[target].mean().sort_values().index\n",
        "\n",
        "    # creamos el diccionario indicando la la media de los distintos labels per feature\n",
        "    ordinal_mapping = {k:i for i,k in enumerate(ordered_labels, 0)}\n",
        "\n",
        "    X_train_r[feature] = X_train_r[feature].map(ordinal_mapping)\n",
        "    X_test_r[feature] = X_test_r[feature].map(ordinal_mapping)\n",
        "\n",
        "  return X_train_r, X_test_r\n",
        "\n",
        "# codifica cada valor categorico en la media del target agrupando por feature\n",
        "def target_mean_encoding(X_train, X_test, features, target):\n",
        "  X_train_r = X_train.copy()\n",
        "  X_test_r = X_test.copy()\n",
        "\n",
        "  for feature in features:\n",
        "\n",
        "    # calculamos la media del target por feature y convertimos en diccionario\n",
        "    ordinal_mapping = X_train_r.groupby(by=feature)[target].mean().to_dict()\n",
        "\n",
        "    # reemplazamos los valores categoricos por la media ya calculada\n",
        "    X_train_r[feature] = X_train_r[feature].map(ordinal_mapping)\n",
        "    X_test_r[feature] = X_test_r[feature].map(ordinal_mapping)\n",
        "\n",
        "  return X_train_r, X_test_r\n",
        "\n",
        "def weight_of_evidence_encoding(X_train, X_test, features, target):\n",
        "  X_train_r = X_train.copy()\n",
        "  X_test_r = X_test.copy()\n",
        "\n",
        "  tmp = X_train_r.copy()\n",
        "\n",
        "  total_pos = X_train_r[target].sum()\n",
        "  total_neg = len(X_train_r) - total_pos\n",
        "\n",
        "  # non target\n",
        "  tmp['non-target'] = 1 - tmp[target]\n",
        "\n",
        "  for feature in features:\n",
        "    # calculamos el % de pos-target por feature\n",
        "    pos_perc = tmp.groupby([feature])[target].sum() / total_pos\n",
        "\n",
        "    # calculamos el % de non-target por feature\n",
        "    neg_perc = tmp.groupby([feature])['non-target'].sum() / total_neg\n",
        "\n",
        "    prob_tmp = pd.concat([pos_perc, neg_perc], axis=1)\n",
        "\n",
        "    # calculamos el Weight of Evidence\n",
        "    prob_tmp['woe'] = np.log(prob_tmp[target]/prob_tmp['non-target'])\n",
        "\n",
        "    ordinal_mapping = prob_tmp['woe'].to_dict()\n",
        "\n",
        "    X_train_r[feature] = X_train_r[feature].map(ordinal_mapping) \n",
        "    X_test_r[feature] = X_test_r[feature].map(ordinal_mapping) \n",
        "\n",
        "  return X_train_r, X_test_r"
      ],
      "metadata": {
        "id": "kOvUQp0_Kinj"
      },
      "execution_count": 6,
      "outputs": []
    },
    {
      "cell_type": "markdown",
      "source": [
        "## Otras funciones.\n",
        "\n",
        "```python\n",
        "def dict_of_cardinalities(df, features):\n",
        "```"
      ],
      "metadata": {
        "id": "u9dhj93C9nqU"
      }
    },
    {
      "cell_type": "code",
      "source": [
        "# Calcula la caridnalidad para los features dados\n",
        "# Devuelve un diccionario de 2-uplas\n",
        "# la primer upla indica la cardinalidad\n",
        "# la segunda upla indica el porcentaje de c/valor de dicho feature\n",
        "def dict_of_cardinalities(df, features):\n",
        "  dict_card = {}\n",
        "\n",
        "  for feature in features:\n",
        "\n",
        "    cardinality = df[feature].nunique()\n",
        "    dict_card[feature] = cardinality , df[feature].value_counts(normalize=True)\n",
        "\n",
        "  return dict_card"
      ],
      "metadata": {
        "id": "npwwnMvB9oyq"
      },
      "execution_count": 7,
      "outputs": []
    },
    {
      "cell_type": "markdown",
      "source": [
        "# VISUALIZACIÓN DEL DATASET"
      ],
      "metadata": {
        "id": "EqnPmE-jsYOV"
      }
    },
    {
      "cell_type": "markdown",
      "source": [
        "## Histogramas."
      ],
      "metadata": {
        "id": "8EZ_BN1ixlSK"
      }
    },
    {
      "cell_type": "markdown",
      "source": [
        "**OBS:**\n",
        "\n",
        "* La mayoría de clientes NO son jubilados.\n",
        "* El número de meses de tenencia de los empleados es mayor los primeros meses y tmb a partir del mes 65 aprox.\n",
        "* Hay muchos clientes con un `MonthlyCharges` menor a 30. Esto podría ser, ya que al principio los clientes entran a la compañía con promociones y luego estas promociones se retiran."
      ],
      "metadata": {
        "id": "nWdZpmTsylKq"
      }
    },
    {
      "cell_type": "code",
      "source": [
        "X_train.hist(figsize=(10,10),bins=10)"
      ],
      "metadata": {
        "colab": {
          "base_uri": "https://localhost:8080/",
          "height": 0
        },
        "id": "qCFPy_8oxiip",
        "outputId": "d90fc54d-1adb-4c8a-d234-55a9aff9e7b9"
      },
      "execution_count": 8,
      "outputs": [
        {
          "output_type": "execute_result",
          "data": {
            "text/plain": [
              "array([[<matplotlib.axes._subplots.AxesSubplot object at 0x7fb9adecedd0>,\n",
              "        <matplotlib.axes._subplots.AxesSubplot object at 0x7fb9addd9710>],\n",
              "       [<matplotlib.axes._subplots.AxesSubplot object at 0x7fb9ade0cd10>,\n",
              "        <matplotlib.axes._subplots.AxesSubplot object at 0x7fb9addc9350>]],\n",
              "      dtype=object)"
            ]
          },
          "metadata": {},
          "execution_count": 8
        },
        {
          "output_type": "display_data",
          "data": {
            "text/plain": [
              "<Figure size 720x720 with 4 Axes>"
            ],
            "image/png": "[encoded data removed]"
          },
          "metadata": {
            "needs_background": "light"
          }
        }
      ]
    },
    {
      "cell_type": "markdown",
      "source": [
        "## Graficos de densidad."
      ],
      "metadata": {
        "id": "1lzCEi406Lhb"
      }
    },
    {
      "cell_type": "code",
      "source": [
        "# obtenemos los empleados \"viejos\" de la empresa\n",
        "old_customers = X_train[X_train[\"tenure\"] > 60]\n",
        "old_customers.describe()"
      ],
      "metadata": {
        "colab": {
          "base_uri": "https://localhost:8080/",
          "height": 0
        },
        "id": "NLOlZu1M0wVJ",
        "outputId": "1a8aba8f-0518-4714-9d3c-baad15b01131"
      },
      "execution_count": 9,
      "outputs": [
        {
          "output_type": "execute_result",
          "data": {
            "text/plain": [
              "       SeniorCitizen      tenure  MonthlyCharges  TotalCharges\n",
              "count     974.000000  974.000000      974.000000    974.000000\n",
              "mean        0.161191   68.095483       76.107649   5190.251465\n",
              "std         0.367896    3.585130       31.638318   2194.493408\n",
              "min         0.000000   61.000000       19.100000   1123.650024\n",
              "25%         0.000000   65.000000       55.000000   3742.637512\n",
              "50%         0.000000   69.000000       84.700000   5751.625000\n",
              "75%         0.000000   72.000000      104.050000   6891.437622\n",
              "max         1.000000   72.000000      118.650000   8684.799805"
            ],
            "text/html": [
              "\n",
              "  <div id=\"df-2267f73b-9b88-440c-9478-a96003382e40\">\n",
              "    <div class=\"colab-df-container\">\n",
              "      <div>\n",
              "<style scoped>\n",
              "    .dataframe tbody tr th:only-of-type {\n",
              "        vertical-align: middle;\n",
              "    }\n",
              "\n",
              "    .dataframe tbody tr th {\n",
              "        vertical-align: top;\n",
              "    }\n",
              "\n",
              "    .dataframe thead th {\n",
              "        text-align: right;\n",
              "    }\n",
              "</style>\n",
              "<table border=\"1\" class=\"dataframe\">\n",
              "  <thead>\n",
              "    <tr style=\"text-align: right;\">\n",
              "      <th></th>\n",
              "      <th>SeniorCitizen</th>\n",
              "      <th>tenure</th>\n",
              "      <th>MonthlyCharges</th>\n",
              "      <th>TotalCharges</th>\n",
              "    </tr>\n",
              "  </thead>\n",
              "  <tbody>\n",
              "    <tr>\n",
              "      <th>count</th>\n",
              "      <td>974.000000</td>\n",
              "      <td>974.000000</td>\n",
              "      <td>974.000000</td>\n",
              "      <td>974.000000</td>\n",
              "    </tr>\n",
              "    <tr>\n",
              "      <th>mean</th>\n",
              "      <td>0.161191</td>\n",
              "      <td>68.095483</td>\n",
              "      <td>76.107649</td>\n",
              "      <td>5190.251465</td>\n",
              "    </tr>\n",
              "    <tr>\n",
              "      <th>std</th>\n",
              "      <td>0.367896</td>\n",
              "      <td>3.585130</td>\n",
              "      <td>31.638318</td>\n",
              "      <td>2194.493408</td>\n",
              "    </tr>\n",
              "    <tr>\n",
              "      <th>min</th>\n",
              "      <td>0.000000</td>\n",
              "      <td>61.000000</td>\n",
              "      <td>19.100000</td>\n",
              "      <td>1123.650024</td>\n",
              "    </tr>\n",
              "    <tr>\n",
              "      <th>25%</th>\n",
              "      <td>0.000000</td>\n",
              "      <td>65.000000</td>\n",
              "      <td>55.000000</td>\n",
              "      <td>3742.637512</td>\n",
              "    </tr>\n",
              "    <tr>\n",
              "      <th>50%</th>\n",
              "      <td>0.000000</td>\n",
              "      <td>69.000000</td>\n",
              "      <td>84.700000</td>\n",
              "      <td>5751.625000</td>\n",
              "    </tr>\n",
              "    <tr>\n",
              "      <th>75%</th>\n",
              "      <td>0.000000</td>\n",
              "      <td>72.000000</td>\n",
              "      <td>104.050000</td>\n",
              "      <td>6891.437622</td>\n",
              "    </tr>\n",
              "    <tr>\n",
              "      <th>max</th>\n",
              "      <td>1.000000</td>\n",
              "      <td>72.000000</td>\n",
              "      <td>118.650000</td>\n",
              "      <td>8684.799805</td>\n",
              "    </tr>\n",
              "  </tbody>\n",
              "</table>\n",
              "</div>\n",
              "      <button class=\"colab-df-convert\" onclick=\"convertToInteractive('df-2267f73b-9b88-440c-9478-a96003382e40')\"\n",
              "              title=\"Convert this dataframe to an interactive table.\"\n",
              "              style=\"display:none;\">\n",
              "        \n",
              "  <svg xmlns=\"http://www.w3.org/2000/svg\" height=\"24px\"viewBox=\"0 0 24 24\"\n",
              "       width=\"24px\">\n",
              "    <path d=\"M0 0h24v24H0V0z\" fill=\"none\"/>\n",
              "    <path d=\"M18.56 5.44l.94 2.06.94-2.06 2.06-.94-2.06-.94-.94-2.06-.94 2.06-2.06.94zm-11 1L8.5 8.5l.94-2.06 2.06-.94-2.06-.94L8.5 2.5l-.94 2.06-2.06.94zm10 10l.94 2.06.94-2.06 2.06-.94-2.06-.94-.94-2.06-.94 2.06-2.06.94z\"/><path d=\"M17.41 7.96l-1.37-1.37c-.4-.4-.92-.59-1.43-.59-.52 0-1.04.2-1.43.59L10.3 9.45l-7.72 7.72c-.78.78-.78 2.05 0 2.83L4 21.41c.39.39.9.59 1.41.59.51 0 1.02-.2 1.41-.59l7.78-7.78 2.81-2.81c.8-.78.8-2.07 0-2.86zM5.41 20L4 18.59l7.72-7.72 1.47 1.35L5.41 20z\"/>\n",
              "  </svg>\n",
              "      </button>\n",
              "      \n",
              "  <style>\n",
              "    .colab-df-container {\n",
              "      display:flex;\n",
              "      flex-wrap:wrap;\n",
              "      gap: 12px;\n",
              "    }\n",
              "\n",
              "    .colab-df-convert {\n",
              "      background-color: #E8F0FE;\n",
              "      border: none;\n",
              "      border-radius: 50%;\n",
              "      cursor: pointer;\n",
              "      display: none;\n",
              "      fill: #1967D2;\n",
              "      height: 32px;\n",
              "      padding: 0 0 0 0;\n",
              "      width: 32px;\n",
              "    }\n",
              "\n",
              "    .colab-df-convert:hover {\n",
              "      background-color: #E2EBFA;\n",
              "      box-shadow: 0px 1px 2px rgba(60, 64, 67, 0.3), 0px 1px 3px 1px rgba(60, 64, 67, 0.15);\n",
              "      fill: #174EA6;\n",
              "    }\n",
              "\n",
              "    [theme=dark] .colab-df-convert {\n",
              "      background-color: #3B4455;\n",
              "      fill: #D2E3FC;\n",
              "    }\n",
              "\n",
              "    [theme=dark] .colab-df-convert:hover {\n",
              "      background-color: #434B5C;\n",
              "      box-shadow: 0px 1px 3px 1px rgba(0, 0, 0, 0.15);\n",
              "      filter: drop-shadow(0px 1px 2px rgba(0, 0, 0, 0.3));\n",
              "      fill: #FFFFFF;\n",
              "    }\n",
              "  </style>\n",
              "\n",
              "      <script>\n",
              "        const buttonEl =\n",
              "          document.querySelector('#df-2267f73b-9b88-440c-9478-a96003382e40 button.colab-df-convert');\n",
              "        buttonEl.style.display =\n",
              "          google.colab.kernel.accessAllowed ? 'block' : 'none';\n",
              "\n",
              "        async function convertToInteractive(key) {\n",
              "          const element = document.querySelector('#df-2267f73b-9b88-440c-9478-a96003382e40');\n",
              "          const dataTable =\n",
              "            await google.colab.kernel.invokeFunction('convertToInteractive',\n",
              "                                                     [key], {});\n",
              "          if (!dataTable) return;\n",
              "\n",
              "          const docLinkHtml = 'Like what you see? Visit the ' +\n",
              "            '<a target=\"_blank\" href=https://colab.research.google.com/notebooks/data_table.ipynb>data table notebook</a>'\n",
              "            + ' to learn more about interactive tables.';\n",
              "          element.innerHTML = '';\n",
              "          dataTable['output_type'] = 'display_data';\n",
              "          await google.colab.output.renderOutput(dataTable, element);\n",
              "          const docLink = document.createElement('div');\n",
              "          docLink.innerHTML = docLinkHtml;\n",
              "          element.appendChild(docLink);\n",
              "        }\n",
              "      </script>\n",
              "    </div>\n",
              "  </div>\n",
              "  "
            ]
          },
          "metadata": {},
          "execution_count": 9
        }
      ]
    },
    {
      "cell_type": "code",
      "source": [
        "# obtenemos empleados \"nuevos\" de la empresa\n",
        "new_customers = X_train[X_train[\"tenure\"] < 10]\n",
        "new_customers.describe()"
      ],
      "metadata": {
        "colab": {
          "base_uri": "https://localhost:8080/",
          "height": 0
        },
        "id": "LVabiJNi0C-z",
        "outputId": "8b5e1918-8712-4cb5-f347-cb7186f2b576"
      },
      "execution_count": 10,
      "outputs": [
        {
          "output_type": "execute_result",
          "data": {
            "text/plain": [
              "       SeniorCitizen       tenure  MonthlyCharges  TotalCharges\n",
              "count    1308.000000  1308.000000     1308.000000   1300.000000\n",
              "mean        0.150612     3.703364       56.595872    221.070526\n",
              "std         0.357807     2.748708       26.338351    213.089691\n",
              "min         0.000000     0.000000       18.800000     18.850000\n",
              "25%         0.000000     1.000000       25.387500     69.099998\n",
              "50%         0.000000     3.000000       59.175000    139.149994\n",
              "75%         0.000000     6.000000       78.575000    324.212524\n",
              "max         1.000000     9.000000      109.900000    970.450012"
            ],
            "text/html": [
              "\n",
              "  <div id=\"df-21fe600e-46ff-4ff4-9d53-9442abad5480\">\n",
              "    <div class=\"colab-df-container\">\n",
              "      <div>\n",
              "<style scoped>\n",
              "    .dataframe tbody tr th:only-of-type {\n",
              "        vertical-align: middle;\n",
              "    }\n",
              "\n",
              "    .dataframe tbody tr th {\n",
              "        vertical-align: top;\n",
              "    }\n",
              "\n",
              "    .dataframe thead th {\n",
              "        text-align: right;\n",
              "    }\n",
              "</style>\n",
              "<table border=\"1\" class=\"dataframe\">\n",
              "  <thead>\n",
              "    <tr style=\"text-align: right;\">\n",
              "      <th></th>\n",
              "      <th>SeniorCitizen</th>\n",
              "      <th>tenure</th>\n",
              "      <th>MonthlyCharges</th>\n",
              "      <th>TotalCharges</th>\n",
              "    </tr>\n",
              "  </thead>\n",
              "  <tbody>\n",
              "    <tr>\n",
              "      <th>count</th>\n",
              "      <td>1308.000000</td>\n",
              "      <td>1308.000000</td>\n",
              "      <td>1308.000000</td>\n",
              "      <td>1300.000000</td>\n",
              "    </tr>\n",
              "    <tr>\n",
              "      <th>mean</th>\n",
              "      <td>0.150612</td>\n",
              "      <td>3.703364</td>\n",
              "      <td>56.595872</td>\n",
              "      <td>221.070526</td>\n",
              "    </tr>\n",
              "    <tr>\n",
              "      <th>std</th>\n",
              "      <td>0.357807</td>\n",
              "      <td>2.748708</td>\n",
              "      <td>26.338351</td>\n",
              "      <td>213.089691</td>\n",
              "    </tr>\n",
              "    <tr>\n",
              "      <th>min</th>\n",
              "      <td>0.000000</td>\n",
              "      <td>0.000000</td>\n",
              "      <td>18.800000</td>\n",
              "      <td>18.850000</td>\n",
              "    </tr>\n",
              "    <tr>\n",
              "      <th>25%</th>\n",
              "      <td>0.000000</td>\n",
              "      <td>1.000000</td>\n",
              "      <td>25.387500</td>\n",
              "      <td>69.099998</td>\n",
              "    </tr>\n",
              "    <tr>\n",
              "      <th>50%</th>\n",
              "      <td>0.000000</td>\n",
              "      <td>3.000000</td>\n",
              "      <td>59.175000</td>\n",
              "      <td>139.149994</td>\n",
              "    </tr>\n",
              "    <tr>\n",
              "      <th>75%</th>\n",
              "      <td>0.000000</td>\n",
              "      <td>6.000000</td>\n",
              "      <td>78.575000</td>\n",
              "      <td>324.212524</td>\n",
              "    </tr>\n",
              "    <tr>\n",
              "      <th>max</th>\n",
              "      <td>1.000000</td>\n",
              "      <td>9.000000</td>\n",
              "      <td>109.900000</td>\n",
              "      <td>970.450012</td>\n",
              "    </tr>\n",
              "  </tbody>\n",
              "</table>\n",
              "</div>\n",
              "      <button class=\"colab-df-convert\" onclick=\"convertToInteractive('df-21fe600e-46ff-4ff4-9d53-9442abad5480')\"\n",
              "              title=\"Convert this dataframe to an interactive table.\"\n",
              "              style=\"display:none;\">\n",
              "        \n",
              "  <svg xmlns=\"http://www.w3.org/2000/svg\" height=\"24px\"viewBox=\"0 0 24 24\"\n",
              "       width=\"24px\">\n",
              "    <path d=\"M0 0h24v24H0V0z\" fill=\"none\"/>\n",
              "    <path d=\"M18.56 5.44l.94 2.06.94-2.06 2.06-.94-2.06-.94-.94-2.06-.94 2.06-2.06.94zm-11 1L8.5 8.5l.94-2.06 2.06-.94-2.06-.94L8.5 2.5l-.94 2.06-2.06.94zm10 10l.94 2.06.94-2.06 2.06-.94-2.06-.94-.94-2.06-.94 2.06-2.06.94z\"/><path d=\"M17.41 7.96l-1.37-1.37c-.4-.4-.92-.59-1.43-.59-.52 0-1.04.2-1.43.59L10.3 9.45l-7.72 7.72c-.78.78-.78 2.05 0 2.83L4 21.41c.39.39.9.59 1.41.59.51 0 1.02-.2 1.41-.59l7.78-7.78 2.81-2.81c.8-.78.8-2.07 0-2.86zM5.41 20L4 18.59l7.72-7.72 1.47 1.35L5.41 20z\"/>\n",
              "  </svg>\n",
              "      </button>\n",
              "      \n",
              "  <style>\n",
              "    .colab-df-container {\n",
              "      display:flex;\n",
              "      flex-wrap:wrap;\n",
              "      gap: 12px;\n",
              "    }\n",
              "\n",
              "    .colab-df-convert {\n",
              "      background-color: #E8F0FE;\n",
              "      border: none;\n",
              "      border-radius: 50%;\n",
              "      cursor: pointer;\n",
              "      display: none;\n",
              "      fill: #1967D2;\n",
              "      height: 32px;\n",
              "      padding: 0 0 0 0;\n",
              "      width: 32px;\n",
              "    }\n",
              "\n",
              "    .colab-df-convert:hover {\n",
              "      background-color: #E2EBFA;\n",
              "      box-shadow: 0px 1px 2px rgba(60, 64, 67, 0.3), 0px 1px 3px 1px rgba(60, 64, 67, 0.15);\n",
              "      fill: #174EA6;\n",
              "    }\n",
              "\n",
              "    [theme=dark] .colab-df-convert {\n",
              "      background-color: #3B4455;\n",
              "      fill: #D2E3FC;\n",
              "    }\n",
              "\n",
              "    [theme=dark] .colab-df-convert:hover {\n",
              "      background-color: #434B5C;\n",
              "      box-shadow: 0px 1px 3px 1px rgba(0, 0, 0, 0.15);\n",
              "      filter: drop-shadow(0px 1px 2px rgba(0, 0, 0, 0.3));\n",
              "      fill: #FFFFFF;\n",
              "    }\n",
              "  </style>\n",
              "\n",
              "      <script>\n",
              "        const buttonEl =\n",
              "          document.querySelector('#df-21fe600e-46ff-4ff4-9d53-9442abad5480 button.colab-df-convert');\n",
              "        buttonEl.style.display =\n",
              "          google.colab.kernel.accessAllowed ? 'block' : 'none';\n",
              "\n",
              "        async function convertToInteractive(key) {\n",
              "          const element = document.querySelector('#df-21fe600e-46ff-4ff4-9d53-9442abad5480');\n",
              "          const dataTable =\n",
              "            await google.colab.kernel.invokeFunction('convertToInteractive',\n",
              "                                                     [key], {});\n",
              "          if (!dataTable) return;\n",
              "\n",
              "          const docLinkHtml = 'Like what you see? Visit the ' +\n",
              "            '<a target=\"_blank\" href=https://colab.research.google.com/notebooks/data_table.ipynb>data table notebook</a>'\n",
              "            + ' to learn more about interactive tables.';\n",
              "          element.innerHTML = '';\n",
              "          dataTable['output_type'] = 'display_data';\n",
              "          await google.colab.output.renderOutput(dataTable, element);\n",
              "          const docLink = document.createElement('div');\n",
              "          docLink.innerHTML = docLinkHtml;\n",
              "          element.appendChild(docLink);\n",
              "        }\n",
              "      </script>\n",
              "    </div>\n",
              "  </div>\n",
              "  "
            ]
          },
          "metadata": {},
          "execution_count": 10
        }
      ]
    },
    {
      "cell_type": "code",
      "source": [
        "new_customers.shape, old_customers.shape"
      ],
      "metadata": {
        "colab": {
          "base_uri": "https://localhost:8080/"
        },
        "id": "owc3IF7n7KhX",
        "outputId": "80b5ca70-d50e-43ca-eca7-747d0865778e"
      },
      "execution_count": 11,
      "outputs": [
        {
          "output_type": "execute_result",
          "data": {
            "text/plain": [
              "((1308, 20), (974, 20))"
            ]
          },
          "metadata": {},
          "execution_count": 11
        }
      ]
    },
    {
      "cell_type": "markdown",
      "source": [
        "**OBS:**\n",
        "\n",
        "Efectivamente podemos ver que clientes nuevos pagan menos que clientes viejos."
      ],
      "metadata": {
        "id": "j8Dito-e2dIX"
      }
    },
    {
      "cell_type": "code",
      "source": [
        "f, axs = plt.subplots(1,1,figsize=(8, 8))\n",
        "sns.kdeplot( x=\"MonthlyCharges\", data=old_customers, shade=True, ax=axs, color=\"#5f0f40\", label= \"Old Customers\")\n",
        "sns.kdeplot( x=\"MonthlyCharges\", data=new_customers, shade=True, ax=axs, color=\"#0f4c5c\", label= \"New Customers\")\n",
        "axs.legend()"
      ],
      "metadata": {
        "colab": {
          "base_uri": "https://localhost:8080/",
          "height": 0
        },
        "id": "pmkc8TnK05X9",
        "outputId": "0fed8e11-1c22-4f4d-de9e-ff6a133d11e6"
      },
      "execution_count": 12,
      "outputs": [
        {
          "output_type": "execute_result",
          "data": {
            "text/plain": [
              "<matplotlib.legend.Legend at 0x7fb9ad731290>"
            ]
          },
          "metadata": {},
          "execution_count": 12
        },
        {
          "output_type": "display_data",
          "data": {
            "text/plain": [
              "<Figure size 576x576 with 1 Axes>"
            ],
            "image/png": "[encoded data removed]"
          },
          "metadata": {
            "needs_background": "light"
          }
        }
      ]
    },
    {
      "cell_type": "markdown",
      "source": [
        "**OBS:** \n",
        "\n",
        "Pareciera haber cierta relación con los clientes jubilados y el `MonthlyCharges`, puesto que los jubilados tienden a pagar más."
      ],
      "metadata": {
        "id": "Qkhbj7PC4mXV"
      }
    },
    {
      "cell_type": "code",
      "source": [
        "senior_citizen_customers = X_train[X_train[\"SeniorCitizen\"] == 1]\n",
        "no_senior_citizen_customers = X_train[X_train[\"SeniorCitizen\"] == 0]\n",
        "\n",
        "f, axs = plt.subplots(1,1,figsize=(8, 8))\n",
        "sns.kdeplot( x=\"MonthlyCharges\", data = senior_citizen_customers, shade = True, ax = axs, color=\"#5f0f40\", label= \"Senior Citizen\")\n",
        "sns.kdeplot( x=\"MonthlyCharges\", data = no_senior_citizen_customers, shade = True, ax = axs, color=\"#0f4c5c\", label= \"No Senior Citizen\")\n",
        "axs.legend()"
      ],
      "metadata": {
        "colab": {
          "base_uri": "https://localhost:8080/",
          "height": 0
        },
        "id": "2s5E8Mbz2tQC",
        "outputId": "67462252-fb9a-4cc6-fa2c-4089b0a123b9"
      },
      "execution_count": 13,
      "outputs": [
        {
          "output_type": "execute_result",
          "data": {
            "text/plain": [
              "<matplotlib.legend.Legend at 0x7fb9ad6ab810>"
            ]
          },
          "metadata": {},
          "execution_count": 13
        },
        {
          "output_type": "display_data",
          "data": {
            "text/plain": [
              "<Figure size 576x576 with 1 Axes>"
            ],
            "image/png": "[encoded data removed]"
          },
          "metadata": {
            "needs_background": "light"
          }
        }
      ]
    },
    {
      "cell_type": "markdown",
      "source": [
        "## Graficos de barras."
      ],
      "metadata": {
        "id": "YMkythIc6Z30"
      }
    },
    {
      "cell_type": "code",
      "source": [
        "cat_feats = [feat for feat in X_train.columns if X_train[feat].dtype == np.object_]\n",
        "cat_feats"
      ],
      "metadata": {
        "id": "_IzRqRFd9PdE",
        "colab": {
          "base_uri": "https://localhost:8080/"
        },
        "outputId": "33f4dbc1-2ac9-48ea-8cf2-382d12df9403"
      },
      "execution_count": 14,
      "outputs": [
        {
          "output_type": "execute_result",
          "data": {
            "text/plain": [
              "['gender',\n",
              " 'Partner',\n",
              " 'Dependents',\n",
              " 'PhoneService',\n",
              " 'MultipleLines',\n",
              " 'InternetService',\n",
              " 'OnlineSecurity',\n",
              " 'OnlineBackup',\n",
              " 'DeviceProtection',\n",
              " 'TechSupport',\n",
              " 'StreamingTV',\n",
              " 'StreamingMovies',\n",
              " 'Contract',\n",
              " 'PaperlessBilling',\n",
              " 'PaymentMethod',\n",
              " 'Churn']"
            ]
          },
          "metadata": {},
          "execution_count": 14
        }
      ]
    },
    {
      "cell_type": "markdown",
      "source": [
        "Ploteamos gráficos de barras para cada feature categórico, contando de acuerdo al feature `Churn`."
      ],
      "metadata": {
        "id": "onDrAd6YQQ3k"
      }
    },
    {
      "cell_type": "code",
      "source": [
        "f, axs = plt.subplots(len(cat_feats), 1, figsize=(10, 100), sharey=True)\n",
        "\n",
        "for i in range(len(cat_feats)):\n",
        "  sns.countplot(x=cat_feats[i], hue=\"Churn\", data = X_train, ax=axs[i], palette=\"dark:#cdb4db\")"
      ],
      "metadata": {
        "colab": {
          "base_uri": "https://localhost:8080/",
          "height": 0
        },
        "id": "-Olieqvv6bSa",
        "outputId": "a6dfceb9-7993-42df-c8ed-f181f5c85a0f"
      },
      "execution_count": 15,
      "outputs": [
        {
          "output_type": "display_data",
          "data": {
            "text/plain": [
              "<Figure size 720x7200 with 16 Axes>"
            ],
            "image/png": "[encoded data removed]"
          },
          "metadata": {
            "needs_background": "light"
          }
        }
      ]
    },
    {
      "cell_type": "markdown",
      "source": [
        "**Algunas OBS** Pareciera haber cierta relación de los sig. features con el target.\n",
        "\n",
        "* `TechSupport`\n",
        "* `Contract`\n",
        "* `PaperlessBilling`\n",
        "* `PaymentMethod`\n",
        "\n",
        "Esta relación se puede visibilizar en los gráficos de arriba."
      ],
      "metadata": {
        "id": "cWsnsGEUQx0r"
      }
    },
    {
      "cell_type": "markdown",
      "source": [
        "# SELECCION Y TRATAMIENTO DE FEATURES"
      ],
      "metadata": {
        "id": "CjORistYByMI"
      }
    },
    {
      "cell_type": "markdown",
      "source": [
        "## Tratamiento de variables categóricas."
      ],
      "metadata": {
        "id": "tEmT48_IB3E1"
      }
    },
    {
      "cell_type": "markdown",
      "source": [
        "Podemos ver que solo hay algunos valores nulos en el feature `TotalCharges`.\n",
        "Los reemplazamos por la media de dicho feature."
      ],
      "metadata": {
        "id": "btUwudqlCZXo"
      }
    },
    {
      "cell_type": "code",
      "source": [
        "X_train.isnull().mean()"
      ],
      "metadata": {
        "colab": {
          "base_uri": "https://localhost:8080/"
        },
        "id": "M7o1YzKPCTDX",
        "outputId": "d0eba782-e4e9-40f3-a8e5-3255a50b85f9"
      },
      "execution_count": 16,
      "outputs": [
        {
          "output_type": "execute_result",
          "data": {
            "text/plain": [
              "gender              0.000000\n",
              "SeniorCitizen       0.000000\n",
              "Partner             0.000000\n",
              "Dependents          0.000000\n",
              "tenure              0.000000\n",
              "PhoneService        0.000000\n",
              "MultipleLines       0.000000\n",
              "InternetService     0.000000\n",
              "OnlineSecurity      0.000000\n",
              "OnlineBackup        0.000000\n",
              "DeviceProtection    0.000000\n",
              "TechSupport         0.000000\n",
              "StreamingTV         0.000000\n",
              "StreamingMovies     0.000000\n",
              "Contract            0.000000\n",
              "PaperlessBilling    0.000000\n",
              "PaymentMethod       0.000000\n",
              "MonthlyCharges      0.000000\n",
              "TotalCharges        0.001623\n",
              "Churn               0.000000\n",
              "dtype: float64"
            ]
          },
          "metadata": {},
          "execution_count": 16
        }
      ]
    },
    {
      "cell_type": "markdown",
      "source": [
        "Reemplazamos los valores nulos en `TotalCharges` por la media de dicho feature."
      ],
      "metadata": {
        "id": "AxcWrh5QUNlk"
      }
    },
    {
      "cell_type": "code",
      "source": [
        "mean_total_charges = X_train[\"TotalCharges\"].mean()\n",
        "\n",
        "X_train[\"TotalCharges\"] = X_train[\"TotalCharges\"].fillna(mean_total_charges) \n",
        "X_test[\"TotalCharges\"] = X_test[\"TotalCharges\"].fillna(mean_total_charges) "
      ],
      "metadata": {
        "id": "JUFMI5brFXnn"
      },
      "execution_count": 17,
      "outputs": []
    },
    {
      "cell_type": "code",
      "source": [
        "cat_feats = [feat for feat in X_train.columns if X_train[feat].dtype == np.object_]\n",
        "cat_feats.remove(\"Churn\")\n",
        "cat_feats"
      ],
      "metadata": {
        "colab": {
          "base_uri": "https://localhost:8080/"
        },
        "id": "SghV9C3LCioP",
        "outputId": "7bfc5e3c-9a5e-4319-b193-fa4ce25fbd2f"
      },
      "execution_count": 18,
      "outputs": [
        {
          "output_type": "execute_result",
          "data": {
            "text/plain": [
              "['gender',\n",
              " 'Partner',\n",
              " 'Dependents',\n",
              " 'PhoneService',\n",
              " 'MultipleLines',\n",
              " 'InternetService',\n",
              " 'OnlineSecurity',\n",
              " 'OnlineBackup',\n",
              " 'DeviceProtection',\n",
              " 'TechSupport',\n",
              " 'StreamingTV',\n",
              " 'StreamingMovies',\n",
              " 'Contract',\n",
              " 'PaperlessBilling',\n",
              " 'PaymentMethod']"
            ]
          },
          "metadata": {},
          "execution_count": 18
        }
      ]
    },
    {
      "cell_type": "markdown",
      "source": [
        "### Cardinalidades y valores raros."
      ],
      "metadata": {
        "id": "65FjzcrpIwtS"
      }
    },
    {
      "cell_type": "markdown",
      "source": [
        "**OBS:**\n",
        "* En el feature `PhoneService` tenemos 2 valores y uno presenta una frecuencia del 90%.\n",
        "\n",
        "No poseemos features categoricos con muchas cardinalidades, ni tmpoco features con valores que aparezcan con una frecuencia muy baja."
      ],
      "metadata": {
        "id": "1kn1APcvI8GN"
      }
    },
    {
      "cell_type": "code",
      "source": [
        "dict_of_cardin_r = dict_of_cardinalities(X_train, cat_feats)\n",
        "for k in dict_of_cardin_r:\n",
        "  print(f\"Feature: {k} With cardinality: {dict_of_cardin_r[k][0]} \\n{dict_of_cardin_r[k][1:]}\\n\")\n",
        "  print(\"========================================\")"
      ],
      "metadata": {
        "colab": {
          "base_uri": "https://localhost:8080/"
        },
        "id": "aXQKfV7jCx3_",
        "outputId": "cc847bb5-e40d-4f84-8998-979428273bfa"
      },
      "execution_count": 19,
      "outputs": [
        {
          "output_type": "stream",
          "name": "stdout",
          "text": [
            "Feature: gender With cardinality: 2 \n",
            "(Male      0.500203\n",
            "Female    0.499797\n",
            "Name: gender, dtype: float64,)\n",
            "\n",
            "========================================\n",
            "Feature: Partner With cardinality: 2 \n",
            "(No     0.512576\n",
            "Yes    0.487424\n",
            "Name: Partner, dtype: float64,)\n",
            "\n",
            "========================================\n",
            "Feature: Dependents With cardinality: 2 \n",
            "(No     0.698986\n",
            "Yes    0.301014\n",
            "Name: Dependents, dtype: float64,)\n",
            "\n",
            "========================================\n",
            "Feature: PhoneService With cardinality: 2 \n",
            "(Yes    0.903245\n",
            "No     0.096755\n",
            "Name: PhoneService, dtype: float64,)\n",
            "\n",
            "========================================\n",
            "Feature: MultipleLines With cardinality: 3 \n",
            "(No                  0.481542\n",
            "Yes                 0.421704\n",
            "No phone service    0.096755\n",
            "Name: MultipleLines, dtype: float64,)\n",
            "\n",
            "========================================\n",
            "Feature: InternetService With cardinality: 3 \n",
            "(Fiber optic    0.440568\n",
            "DSL            0.346045\n",
            "No             0.213387\n",
            "Name: InternetService, dtype: float64,)\n",
            "\n",
            "========================================\n",
            "Feature: OnlineSecurity With cardinality: 3 \n",
            "(No                     0.495943\n",
            "Yes                    0.290669\n",
            "No internet service    0.213387\n",
            "Name: OnlineSecurity, dtype: float64,)\n",
            "\n",
            "========================================\n",
            "Feature: OnlineBackup With cardinality: 3 \n",
            "(No                     0.440568\n",
            "Yes                    0.346045\n",
            "No internet service    0.213387\n",
            "Name: OnlineBackup, dtype: float64,)\n",
            "\n",
            "========================================\n",
            "Feature: DeviceProtection With cardinality: 3 \n",
            "(No                     0.443408\n",
            "Yes                    0.343205\n",
            "No internet service    0.213387\n",
            "Name: DeviceProtection, dtype: float64,)\n",
            "\n",
            "========================================\n",
            "Feature: TechSupport With cardinality: 3 \n",
            "(No                     0.500406\n",
            "Yes                    0.286207\n",
            "No internet service    0.213387\n",
            "Name: TechSupport, dtype: float64,)\n",
            "\n",
            "========================================\n",
            "Feature: StreamingTV With cardinality: 3 \n",
            "(No                     0.402028\n",
            "Yes                    0.384584\n",
            "No internet service    0.213387\n",
            "Name: StreamingTV, dtype: float64,)\n",
            "\n",
            "========================================\n",
            "Feature: StreamingMovies With cardinality: 3 \n",
            "(No                     0.397972\n",
            "Yes                    0.388641\n",
            "No internet service    0.213387\n",
            "Name: StreamingMovies, dtype: float64,)\n",
            "\n",
            "========================================\n",
            "Feature: Contract With cardinality: 3 \n",
            "(Month-to-month    0.551927\n",
            "Two year          0.234686\n",
            "One year          0.213387\n",
            "Name: Contract, dtype: float64,)\n",
            "\n",
            "========================================\n",
            "Feature: PaperlessBilling With cardinality: 2 \n",
            "(Yes    0.599797\n",
            "No     0.400203\n",
            "Name: PaperlessBilling, dtype: float64,)\n",
            "\n",
            "========================================\n",
            "Feature: PaymentMethod With cardinality: 4 \n",
            "(Electronic check             0.338134\n",
            "Mailed check                 0.229006\n",
            "Bank transfer (automatic)    0.217850\n",
            "Credit card (automatic)      0.215010\n",
            "Name: PaymentMethod, dtype: float64,)\n",
            "\n",
            "========================================\n"
          ]
        }
      ]
    },
    {
      "cell_type": "markdown",
      "source": [
        "### Categorical encoding.\n",
        "\n",
        "Los aprouchs que aplicaremos para el encoding de features categóricos serán:\n",
        "* Ordinal encoding.\n",
        "* Ordered integer encoding.\n",
        "* Count encoding.\n",
        "* Mean encoding.\n",
        "* Weight of evidence."
      ],
      "metadata": {
        "id": "of_WP_HEJdA5"
      }
    },
    {
      "cell_type": "markdown",
      "source": [
        "**Ordinal Encoding**"
      ],
      "metadata": {
        "id": "QT1BVKFiKUpB"
      }
    },
    {
      "cell_type": "code",
      "source": [
        "# codificamos la variable a predecir\n",
        "X_train[\"Churn\"] = np.where(X_train[\"Churn\"] == \"Yes\", 1, 0)\n",
        "X_test[\"Churn\"] = np.where(X_test[\"Churn\"] == \"Yes\", 1, 0)\n",
        "\n",
        "y_train = X_train[\"Churn\"]\n",
        "y_test = X_test[\"Churn\"]"
      ],
      "metadata": {
        "id": "jSVqSzGAP2RW"
      },
      "execution_count": 20,
      "outputs": []
    },
    {
      "cell_type": "code",
      "source": [
        "X_train_OE, X_test_OE = ordinal_encoding(X_train, X_test, cat_feats)"
      ],
      "metadata": {
        "id": "69shGPT4KW7V"
      },
      "execution_count": 21,
      "outputs": []
    },
    {
      "cell_type": "markdown",
      "source": [
        "**Ordered Integer Encoding**"
      ],
      "metadata": {
        "id": "W9civlfkKA6O"
      }
    },
    {
      "cell_type": "code",
      "source": [
        "X_train_OIE, X_test_OIE = ordered_integer_encoding(X_train, X_test, cat_feats, \"Churn\")"
      ],
      "metadata": {
        "id": "UpapTIdSKMtB"
      },
      "execution_count": 22,
      "outputs": []
    },
    {
      "cell_type": "markdown",
      "source": [
        "**Count Encoding**"
      ],
      "metadata": {
        "id": "o1I9h2r9KD1p"
      }
    },
    {
      "cell_type": "code",
      "source": [
        "X_train_CE, X_test_CE = counting_encoding(X_train, X_test, cat_feats)"
      ],
      "metadata": {
        "id": "vaiJZZCsJako"
      },
      "execution_count": 23,
      "outputs": []
    },
    {
      "cell_type": "markdown",
      "source": [
        "**Mean Encoding**"
      ],
      "metadata": {
        "id": "-w3XlobDKGbB"
      }
    },
    {
      "cell_type": "code",
      "source": [
        "X_train_TME, X_test_TME = target_mean_encoding(X_train, X_test, cat_feats, \"Churn\")"
      ],
      "metadata": {
        "id": "XY6_l2XEKMQC"
      },
      "execution_count": 24,
      "outputs": []
    },
    {
      "cell_type": "markdown",
      "source": [
        "**Weight of Evidence Encoding**"
      ],
      "metadata": {
        "id": "nAqTpA9ZKIc9"
      }
    },
    {
      "cell_type": "code",
      "source": [
        "X_train_WOEE, X_test_WOEE = weight_of_evidence_encoding(X_train, X_test, cat_feats, \"Churn\")"
      ],
      "metadata": {
        "id": "k6efV0iFKL1z"
      },
      "execution_count": 25,
      "outputs": []
    },
    {
      "cell_type": "markdown",
      "source": [
        "### Categorical encoding performance\n",
        "\n",
        "Analizamos los diferentes aprouchs de codificación utilizando RandomForest y LogisticRegression."
      ],
      "metadata": {
        "id": "xhrMNszDJ9Fq"
      }
    },
    {
      "cell_type": "code",
      "source": [
        "def run_randomForests(X_train, X_test, y_train, y_test):\n",
        "\n",
        "    rf = RandomForestClassifier(n_estimators=50, random_state=0, max_depth=3)\n",
        "    rf.fit(X_train, y_train)\n",
        "\n",
        "    print('Train set')\n",
        "    pred = rf.predict_proba(X_train)\n",
        "  \n",
        "    print(\n",
        "        'Random Forests roc-auc: {}'.format(roc_auc_score(y_train, pred[:, 1])))\n",
        "\n",
        "    print('Test set')\n",
        "    pred = rf.predict_proba(X_test)\n",
        "    print(\n",
        "        'Random Forests roc-auc: {}'.format(roc_auc_score(y_test, pred[:, 1])))\n",
        "  \n",
        "\n",
        "def run_logistic(X_train, X_test, y_train, y_test):\n",
        "\n",
        "    lr = LogisticRegression(max_iter=100,random_state=0)\n",
        "    lr.fit(X_train, y_train)\n",
        "\n",
        "    print('Train set')\n",
        "    pred = lr.predict_proba(X_train)\n",
        "    print(\n",
        "        'Logistic Regression roc-auc: {}'.format(roc_auc_score(y_train, pred[:, 1])))\n",
        "\n",
        "    print('Test set')\n",
        "    pred = lr.predict_proba(X_test)\n",
        "    print(\n",
        "        'Logistic Regression roc-auc: {}'.format(roc_auc_score(y_test, pred[:, 1])))"
      ],
      "metadata": {
        "id": "hFOfkBIEJ_Y9"
      },
      "execution_count": 26,
      "outputs": []
    },
    {
      "cell_type": "markdown",
      "source": [
        "**RANDOM FOREST**"
      ],
      "metadata": {
        "id": "MOI4-13oQyqX"
      }
    },
    {
      "cell_type": "code",
      "source": [
        "# ONE HOT ENCODING\n",
        "run_randomForests(X_train_OE[cat_feats], X_test_OE[cat_feats], y_train, y_test)"
      ],
      "metadata": {
        "colab": {
          "base_uri": "https://localhost:8080/"
        },
        "id": "QIZrX9-lQvVD",
        "outputId": "87b334f0-f41f-4b87-b125-bfd442281b1f"
      },
      "execution_count": 27,
      "outputs": [
        {
          "output_type": "stream",
          "name": "stdout",
          "text": [
            "Train set\n",
            "Random Forests roc-auc: 0.8225601889309221\n",
            "Test set\n",
            "Random Forests roc-auc: 0.8086665971159641\n"
          ]
        }
      ]
    },
    {
      "cell_type": "code",
      "source": [
        "# COUNTING ENCODING\n",
        "run_randomForests(X_train_CE[cat_feats], X_test_CE[cat_feats], y_train, y_test)"
      ],
      "metadata": {
        "colab": {
          "base_uri": "https://localhost:8080/"
        },
        "id": "R8EjKa2gQyCw",
        "outputId": "5447c72c-0bca-498f-9616-e1d14505e359"
      },
      "execution_count": 28,
      "outputs": [
        {
          "output_type": "stream",
          "name": "stdout",
          "text": [
            "Train set\n",
            "Random Forests roc-auc: 0.8277137583830528\n",
            "Test set\n",
            "Random Forests roc-auc: 0.8153591134603793\n"
          ]
        }
      ]
    },
    {
      "cell_type": "code",
      "source": [
        "# ORDERED INTEGER ENCODING\n",
        "run_randomForests(X_train_OIE[cat_feats], X_test_OIE[cat_feats], y_train, y_test)"
      ],
      "metadata": {
        "colab": {
          "base_uri": "https://localhost:8080/"
        },
        "id": "Et82ALStQ7k_",
        "outputId": "6a8a7c06-16df-4af5-bc0e-1694ab68f50e"
      },
      "execution_count": 29,
      "outputs": [
        {
          "output_type": "stream",
          "name": "stdout",
          "text": [
            "Train set\n",
            "Random Forests roc-auc: 0.8281149338186686\n",
            "Test set\n",
            "Random Forests roc-auc: 0.8154251866277183\n"
          ]
        }
      ]
    },
    {
      "cell_type": "code",
      "source": [
        "# TARGET MEAN ENCODING\n",
        "run_randomForests(X_train_TME[cat_feats], X_test_TME[cat_feats], y_train, y_test)"
      ],
      "metadata": {
        "colab": {
          "base_uri": "https://localhost:8080/"
        },
        "id": "i_FDvaH_RJkX",
        "outputId": "a13a8952-8288-45c8-b4a9-f7efbba9db73"
      },
      "execution_count": 30,
      "outputs": [
        {
          "output_type": "stream",
          "name": "stdout",
          "text": [
            "Train set\n",
            "Random Forests roc-auc: 0.8281149338186686\n",
            "Test set\n",
            "Random Forests roc-auc: 0.8154251866277183\n"
          ]
        }
      ]
    },
    {
      "cell_type": "code",
      "source": [
        "# WEIGHT OF EVIDENCE ENCODING\n",
        "run_randomForests(X_train_WOEE[cat_feats], X_test_WOEE[cat_feats], y_train, y_test)"
      ],
      "metadata": {
        "colab": {
          "base_uri": "https://localhost:8080/"
        },
        "id": "E1nuoILSRNwH",
        "outputId": "da6bc399-2046-4f8a-a513-5f5ed84090ce"
      },
      "execution_count": 31,
      "outputs": [
        {
          "output_type": "stream",
          "name": "stdout",
          "text": [
            "Train set\n",
            "Random Forests roc-auc: 0.8281149338186686\n",
            "Test set\n",
            "Random Forests roc-auc: 0.8154251866277183\n"
          ]
        }
      ]
    },
    {
      "cell_type": "markdown",
      "source": [
        "**LOGISTIC REGRESSION**"
      ],
      "metadata": {
        "id": "uGO0p17MRcai"
      }
    },
    {
      "cell_type": "code",
      "source": [
        "# ONE HOT ENCODING\n",
        "run_logistic(X_train_OE[cat_feats], X_test_OE[cat_feats], y_train, y_test)"
      ],
      "metadata": {
        "colab": {
          "base_uri": "https://localhost:8080/"
        },
        "id": "w0q2NfqCRbvY",
        "outputId": "f4918a48-d9d3-4f09-c3d1-121258225c58"
      },
      "execution_count": 32,
      "outputs": [
        {
          "output_type": "stream",
          "name": "stdout",
          "text": [
            "Train set\n",
            "Logistic Regression roc-auc: 0.8241128514069735\n",
            "Test set\n",
            "Logistic Regression roc-auc: 0.8045874484165623\n"
          ]
        }
      ]
    },
    {
      "cell_type": "code",
      "source": [
        "# COUNTING ENCODING\n",
        "run_logistic(X_train_CE[cat_feats], X_test_CE[cat_feats], y_train, y_test)"
      ],
      "metadata": {
        "colab": {
          "base_uri": "https://localhost:8080/"
        },
        "id": "mU3N1ETURjev",
        "outputId": "99abc975-2fef-40d3-bc58-2dab4b2f1219"
      },
      "execution_count": 33,
      "outputs": [
        {
          "output_type": "stream",
          "name": "stdout",
          "text": [
            "Train set\n",
            "Logistic Regression roc-auc: 0.8326015596220708\n",
            "Test set\n",
            "Logistic Regression roc-auc: 0.8156657161403996\n"
          ]
        },
        {
          "output_type": "stream",
          "name": "stderr",
          "text": [
            "/usr/local/lib/python3.7/dist-packages/sklearn/linear_model/_logistic.py:818: ConvergenceWarning: lbfgs failed to converge (status=1):\n",
            "STOP: TOTAL NO. of ITERATIONS REACHED LIMIT.\n",
            "\n",
            "Increase the number of iterations (max_iter) or scale the data as shown in:\n",
            "    https://scikit-learn.org/stable/modules/preprocessing.html\n",
            "Please also refer to the documentation for alternative solver options:\n",
            "    https://scikit-learn.org/stable/modules/linear_model.html#logistic-regression\n",
            "  extra_warning_msg=_LOGISTIC_SOLVER_CONVERGENCE_MSG,\n"
          ]
        }
      ]
    },
    {
      "cell_type": "code",
      "source": [
        "# ORDERED INTEGER ENCODING\n",
        "run_logistic(X_train_OIE[cat_feats], X_test_OIE[cat_feats], y_train, y_test)"
      ],
      "metadata": {
        "colab": {
          "base_uri": "https://localhost:8080/"
        },
        "id": "e96cwly8Rj_H",
        "outputId": "bf9cbff9-f64f-4acf-c9ee-92be86c0be19"
      },
      "execution_count": 34,
      "outputs": [
        {
          "output_type": "stream",
          "name": "stdout",
          "text": [
            "Train set\n",
            "Logistic Regression roc-auc: 0.831562351241289\n",
            "Test set\n",
            "Logistic Regression roc-auc: 0.8166150832290073\n"
          ]
        }
      ]
    },
    {
      "cell_type": "code",
      "source": [
        "# TARGET MEAN ENCODING\n",
        "run_logistic(X_train_TME[cat_feats], X_test_TME[cat_feats], y_train, y_test)"
      ],
      "metadata": {
        "colab": {
          "base_uri": "https://localhost:8080/"
        },
        "id": "FnS8lViuRlQf",
        "outputId": "ec42db4d-d227-4b25-c423-e4e87d0d9b70"
      },
      "execution_count": 35,
      "outputs": [
        {
          "output_type": "stream",
          "name": "stdout",
          "text": [
            "Train set\n",
            "Logistic Regression roc-auc: 0.8337054228490016\n",
            "Test set\n",
            "Logistic Regression roc-auc: 0.8186175638707285\n"
          ]
        }
      ]
    },
    {
      "cell_type": "code",
      "source": [
        "# WEIGHT OF EVIDENCE ENCODING\n",
        "run_logistic(X_train_WOEE[cat_feats], X_test_WOEE[cat_feats], y_train, y_test)"
      ],
      "metadata": {
        "colab": {
          "base_uri": "https://localhost:8080/"
        },
        "id": "P69BDe1hRmSe",
        "outputId": "648ac4dd-5368-4515-aef1-1ff3a49b7609"
      },
      "execution_count": 36,
      "outputs": [
        {
          "output_type": "stream",
          "name": "stdout",
          "text": [
            "Train set\n",
            "Logistic Regression roc-auc: 0.8348315736001333\n",
            "Test set\n",
            "Logistic Regression roc-auc: 0.8202409931840312\n"
          ]
        }
      ]
    },
    {
      "cell_type": "markdown",
      "source": [
        "**OBS:** Podemos ver que el mejor aprouch para codificar los valores categóricos es el de Weight of evidence conjunto a un modelo de regresión logística."
      ],
      "metadata": {
        "id": "ObTyxHBLR0ox"
      }
    },
    {
      "cell_type": "markdown",
      "source": [
        "## Feature selection.\n",
        "\n",
        "Aplicaremos las mediciones estadísticas de: \n",
        "\n",
        "* Ji-square test (features categoricos).\n",
        "* T-student test.\n",
        "* Univariate roc-auc (features numericos)."
      ],
      "metadata": {
        "id": "EKgiDTMnSEnt"
      }
    },
    {
      "cell_type": "markdown",
      "source": [
        "### Ji-square test.\n",
        "\n",
        "Determinamos la dependencia de los features categoricons con el target.\n",
        "\n",
        "<h2>$ χ^2 = \\sum_{i=1}^{n} \\frac{(observed_{i} - expected_{i})^2}{expected_{i}}$<h2/>\n",
        "\n",
        "Una vez calculado dicha sumatoria, podremos calcular el $p$-valor.\n",
        "\n",
        "Nuestras hipotesis:\n",
        "\n",
        "$H_0$ = Las variables son independientes. NO existe dependencia entre Attrition y la variable que se está probando.\n",
        "\n",
        "$H_1$ = Las variables NO SON independientes. SI existe dependencia entre Attrition y la variable que se está probando."
      ],
      "metadata": {
        "id": "V5xZdASvQQKt"
      }
    },
    {
      "cell_type": "code",
      "source": [
        "# calculamos los features categoricos y discretos\n",
        "feat_for_test = [feat for feat in X_train.columns if X_train[feat].dtype == np.object_ or X_train[feat].nunique() < 10]\n",
        "feat_for_test.remove(\"Churn\")\n",
        "feat_for_test"
      ],
      "metadata": {
        "colab": {
          "base_uri": "https://localhost:8080/"
        },
        "id": "6g79-rrZWf5D",
        "outputId": "26a686aa-79a2-47df-a6cf-67c9a54c9a9c"
      },
      "execution_count": 37,
      "outputs": [
        {
          "output_type": "execute_result",
          "data": {
            "text/plain": [
              "['gender',\n",
              " 'SeniorCitizen',\n",
              " 'Partner',\n",
              " 'Dependents',\n",
              " 'PhoneService',\n",
              " 'MultipleLines',\n",
              " 'InternetService',\n",
              " 'OnlineSecurity',\n",
              " 'OnlineBackup',\n",
              " 'DeviceProtection',\n",
              " 'TechSupport',\n",
              " 'StreamingTV',\n",
              " 'StreamingMovies',\n",
              " 'Contract',\n",
              " 'PaperlessBilling',\n",
              " 'PaymentMethod']"
            ]
          },
          "metadata": {},
          "execution_count": 37
        }
      ]
    },
    {
      "cell_type": "code",
      "source": [
        "chi_statistic=[]\n",
        "p_val=[]\n",
        "feats_rm = []\n",
        "\n",
        "for feat in feat_for_test:\n",
        "  # calculamos la tabla de contingencia\n",
        "  observed = pd.crosstab(index=X_train[\"Churn\"], columns=X_train[feat])\n",
        "  \n",
        "  # obtenemos los estadisticos a partir de la tabla de contingencia\n",
        "  stat, p, dof, expected=chi2_contingency(observed)\n",
        "  chi_statistic.append(stat)\n",
        "  p_val.append(p)\n",
        "\n",
        "  # obtenemos los features independientes\n",
        "  if p >= 0.05:\n",
        "      print(\"Attrition y {} son independientes (p-value = {:.2f}).\\n\".format(feat,p))\n",
        "      feats_rm.append(feat)\n",
        "\n",
        "# creamos el dataframe con los resultados\n",
        "chi_df = pd.DataFrame()\n",
        "chi_df[\"Feature\"] = feat_for_test\n",
        "chi_df[\"Chi_Statistic\"] = chi_statistic\n",
        "chi_df[\"P_value\"] = p_val\n",
        "\n",
        "# removemos los features independientes\n",
        "chi_df = chi_df[chi_df[\"P_value\"] < 0.05]\n",
        "\n",
        "# guardamos el nombre de los features resultantes\n",
        "feat_w_high_depAttrition = chi_df[\"Feature\"].values\n",
        "\n",
        "# oredenamos segun el p-valor\n",
        "chi_df.sort_values(by=\"P_value\", ascending=True, inplace=True)\n",
        "chi_df"
      ],
      "metadata": {
        "colab": {
          "base_uri": "https://localhost:8080/",
          "height": 0
        },
        "id": "x2B576wdZCHc",
        "outputId": "ea0e6bd7-d393-41a9-9ba5-6435941d1b5f"
      },
      "execution_count": 38,
      "outputs": [
        {
          "output_type": "stream",
          "name": "stdout",
          "text": [
            "Attrition y gender son independientes (p-value = 0.45).\n",
            "\n",
            "Attrition y PhoneService son independientes (p-value = 0.16).\n",
            "\n"
          ]
        },
        {
          "output_type": "execute_result",
          "data": {
            "text/plain": [
              "             Feature  Chi_Statistic        P_value\n",
              "13          Contract     870.121511  1.136356e-189\n",
              "7     OnlineSecurity     580.829899  7.488416e-127\n",
              "10       TechSupport     558.486545  5.323383e-122\n",
              "6    InternetService     514.527398  1.869800e-112\n",
              "15     PaymentMethod     487.920338  1.979004e-105\n",
              "8       OnlineBackup     445.104879   2.221793e-97\n",
              "9   DeviceProtection     373.507074   7.833745e-82\n",
              "12   StreamingMovies     252.833809   1.252668e-55\n",
              "11       StreamingTV     249.616926   6.257101e-55\n",
              "14  PaperlessBilling     174.755767   6.769257e-40\n",
              "3         Dependents     143.443931   4.700764e-33\n",
              "1      SeniorCitizen     113.917644   1.358346e-26\n",
              "2            Partner     107.477888   3.497864e-25\n",
              "5      MultipleLines      13.548773   1.142672e-03"
            ],
            "text/html": [
              "\n",
              "  <div id=\"df-2170bec8-2e2a-40a2-a210-52a043f2a107\">\n",
              "    <div class=\"colab-df-container\">\n",
              "      <div>\n",
              "<style scoped>\n",
              "    .dataframe tbody tr th:only-of-type {\n",
              "        vertical-align: middle;\n",
              "    }\n",
              "\n",
              "    .dataframe tbody tr th {\n",
              "        vertical-align: top;\n",
              "    }\n",
              "\n",
              "    .dataframe thead th {\n",
              "        text-align: right;\n",
              "    }\n",
              "</style>\n",
              "<table border=\"1\" class=\"dataframe\">\n",
              "  <thead>\n",
              "    <tr style=\"text-align: right;\">\n",
              "      <th></th>\n",
              "      <th>Feature</th>\n",
              "      <th>Chi_Statistic</th>\n",
              "      <th>P_value</th>\n",
              "    </tr>\n",
              "  </thead>\n",
              "  <tbody>\n",
              "    <tr>\n",
              "      <th>13</th>\n",
              "      <td>Contract</td>\n",
              "      <td>870.121511</td>\n",
              "      <td>1.136356e-189</td>\n",
              "    </tr>\n",
              "    <tr>\n",
              "      <th>7</th>\n",
              "      <td>OnlineSecurity</td>\n",
              "      <td>580.829899</td>\n",
              "      <td>7.488416e-127</td>\n",
              "    </tr>\n",
              "    <tr>\n",
              "      <th>10</th>\n",
              "      <td>TechSupport</td>\n",
              "      <td>558.486545</td>\n",
              "      <td>5.323383e-122</td>\n",
              "    </tr>\n",
              "    <tr>\n",
              "      <th>6</th>\n",
              "      <td>InternetService</td>\n",
              "      <td>514.527398</td>\n",
              "      <td>1.869800e-112</td>\n",
              "    </tr>\n",
              "    <tr>\n",
              "      <th>15</th>\n",
              "      <td>PaymentMethod</td>\n",
              "      <td>487.920338</td>\n",
              "      <td>1.979004e-105</td>\n",
              "    </tr>\n",
              "    <tr>\n",
              "      <th>8</th>\n",
              "      <td>OnlineBackup</td>\n",
              "      <td>445.104879</td>\n",
              "      <td>2.221793e-97</td>\n",
              "    </tr>\n",
              "    <tr>\n",
              "      <th>9</th>\n",
              "      <td>DeviceProtection</td>\n",
              "      <td>373.507074</td>\n",
              "      <td>7.833745e-82</td>\n",
              "    </tr>\n",
              "    <tr>\n",
              "      <th>12</th>\n",
              "      <td>StreamingMovies</td>\n",
              "      <td>252.833809</td>\n",
              "      <td>1.252668e-55</td>\n",
              "    </tr>\n",
              "    <tr>\n",
              "      <th>11</th>\n",
              "      <td>StreamingTV</td>\n",
              "      <td>249.616926</td>\n",
              "      <td>6.257101e-55</td>\n",
              "    </tr>\n",
              "    <tr>\n",
              "      <th>14</th>\n",
              "      <td>PaperlessBilling</td>\n",
              "      <td>174.755767</td>\n",
              "      <td>6.769257e-40</td>\n",
              "    </tr>\n",
              "    <tr>\n",
              "      <th>3</th>\n",
              "      <td>Dependents</td>\n",
              "      <td>143.443931</td>\n",
              "      <td>4.700764e-33</td>\n",
              "    </tr>\n",
              "    <tr>\n",
              "      <th>1</th>\n",
              "      <td>SeniorCitizen</td>\n",
              "      <td>113.917644</td>\n",
              "      <td>1.358346e-26</td>\n",
              "    </tr>\n",
              "    <tr>\n",
              "      <th>2</th>\n",
              "      <td>Partner</td>\n",
              "      <td>107.477888</td>\n",
              "      <td>3.497864e-25</td>\n",
              "    </tr>\n",
              "    <tr>\n",
              "      <th>5</th>\n",
              "      <td>MultipleLines</td>\n",
              "      <td>13.548773</td>\n",
              "      <td>1.142672e-03</td>\n",
              "    </tr>\n",
              "  </tbody>\n",
              "</table>\n",
              "</div>\n",
              "      <button class=\"colab-df-convert\" onclick=\"convertToInteractive('df-2170bec8-2e2a-40a2-a210-52a043f2a107')\"\n",
              "              title=\"Convert this dataframe to an interactive table.\"\n",
              "              style=\"display:none;\">\n",
              "        \n",
              "  <svg xmlns=\"http://www.w3.org/2000/svg\" height=\"24px\"viewBox=\"0 0 24 24\"\n",
              "       width=\"24px\">\n",
              "    <path d=\"M0 0h24v24H0V0z\" fill=\"none\"/>\n",
              "    <path d=\"M18.56 5.44l.94 2.06.94-2.06 2.06-.94-2.06-.94-.94-2.06-.94 2.06-2.06.94zm-11 1L8.5 8.5l.94-2.06 2.06-.94-2.06-.94L8.5 2.5l-.94 2.06-2.06.94zm10 10l.94 2.06.94-2.06 2.06-.94-2.06-.94-.94-2.06-.94 2.06-2.06.94z\"/><path d=\"M17.41 7.96l-1.37-1.37c-.4-.4-.92-.59-1.43-.59-.52 0-1.04.2-1.43.59L10.3 9.45l-7.72 7.72c-.78.78-.78 2.05 0 2.83L4 21.41c.39.39.9.59 1.41.59.51 0 1.02-.2 1.41-.59l7.78-7.78 2.81-2.81c.8-.78.8-2.07 0-2.86zM5.41 20L4 18.59l7.72-7.72 1.47 1.35L5.41 20z\"/>\n",
              "  </svg>\n",
              "      </button>\n",
              "      \n",
              "  <style>\n",
              "    .colab-df-container {\n",
              "      display:flex;\n",
              "      flex-wrap:wrap;\n",
              "      gap: 12px;\n",
              "    }\n",
              "\n",
              "    .colab-df-convert {\n",
              "      background-color: #E8F0FE;\n",
              "      border: none;\n",
              "      border-radius: 50%;\n",
              "      cursor: pointer;\n",
              "      display: none;\n",
              "      fill: #1967D2;\n",
              "      height: 32px;\n",
              "      padding: 0 0 0 0;\n",
              "      width: 32px;\n",
              "    }\n",
              "\n",
              "    .colab-df-convert:hover {\n",
              "      background-color: #E2EBFA;\n",
              "      box-shadow: 0px 1px 2px rgba(60, 64, 67, 0.3), 0px 1px 3px 1px rgba(60, 64, 67, 0.15);\n",
              "      fill: #174EA6;\n",
              "    }\n",
              "\n",
              "    [theme=dark] .colab-df-convert {\n",
              "      background-color: #3B4455;\n",
              "      fill: #D2E3FC;\n",
              "    }\n",
              "\n",
              "    [theme=dark] .colab-df-convert:hover {\n",
              "      background-color: #434B5C;\n",
              "      box-shadow: 0px 1px 3px 1px rgba(0, 0, 0, 0.15);\n",
              "      filter: drop-shadow(0px 1px 2px rgba(0, 0, 0, 0.3));\n",
              "      fill: #FFFFFF;\n",
              "    }\n",
              "  </style>\n",
              "\n",
              "      <script>\n",
              "        const buttonEl =\n",
              "          document.querySelector('#df-2170bec8-2e2a-40a2-a210-52a043f2a107 button.colab-df-convert');\n",
              "        buttonEl.style.display =\n",
              "          google.colab.kernel.accessAllowed ? 'block' : 'none';\n",
              "\n",
              "        async function convertToInteractive(key) {\n",
              "          const element = document.querySelector('#df-2170bec8-2e2a-40a2-a210-52a043f2a107');\n",
              "          const dataTable =\n",
              "            await google.colab.kernel.invokeFunction('convertToInteractive',\n",
              "                                                     [key], {});\n",
              "          if (!dataTable) return;\n",
              "\n",
              "          const docLinkHtml = 'Like what you see? Visit the ' +\n",
              "            '<a target=\"_blank\" href=https://colab.research.google.com/notebooks/data_table.ipynb>data table notebook</a>'\n",
              "            + ' to learn more about interactive tables.';\n",
              "          element.innerHTML = '';\n",
              "          dataTable['output_type'] = 'display_data';\n",
              "          await google.colab.output.renderOutput(dataTable, element);\n",
              "          const docLink = document.createElement('div');\n",
              "          docLink.innerHTML = docLinkHtml;\n",
              "          element.appendChild(docLink);\n",
              "        }\n",
              "      </script>\n",
              "    </div>\n",
              "  </div>\n",
              "  "
            ]
          },
          "metadata": {},
          "execution_count": 38
        }
      ]
    },
    {
      "cell_type": "markdown",
      "source": [
        "### T-Student test.\n",
        "\n",
        "Para comparar promedios entre features y si existe promedios similares o distintos entre los features, utilizaremos la prueba de la T-Student.\n",
        "\n",
        "<h2>$t = \\frac{ |\\overline{X_{1}} - \\overline{X_{2}}| }{ \\sqrt[]{ \\frac{σ_{1}^2}{n_{1}} - \\frac{σ_{2}^2}{n_{2}}  }}$<h2/>\n",
        "\n",
        "Donde $\\ n_{1}$ y $\\ n_{2}$ son el numero de obs. Una vez calculado dicha sumatoria, podremos calcular el $p$-valor.\n",
        "\n",
        "Nuestras hipótesis:\n",
        "\n",
        "$H_0$ = No hay una diferencia estadística significante entre las variables* (con respecto a la media) $\\therefore$ las variables tienen medias similares.\n",
        "\n",
        "$H_1$ = Si hay una diferencia estadística significante entre las variables*\n",
        "$\\therefore$ las variables NO tienen medias similares.\n"
      ],
      "metadata": {
        "id": "aHac6B_g0Vgb"
      }
    },
    {
      "cell_type": "markdown",
      "source": [
        "$\\therefore$ si el $p$-valor obtenido es **menor** que 0.05 $⇒$ hay evidencia suficiente para aceptar $H_1$.\n",
        "\n",
        "ie que hay una diferencia en la media de `TotalCharges` entre los clientes que abandonan el servicio y los que no."
      ],
      "metadata": {
        "id": "yPZGT3FrKl6Z"
      }
    },
    {
      "cell_type": "code",
      "source": [
        "p_values = []\n",
        "t_stats = []\n",
        "features_to_test = [\"TotalCharges\"]\n",
        "\n",
        "for feat in features_to_test:\n",
        "  feat_1 = X_train[X_train[\"Churn\"] == 1][feat]\n",
        "  feat_2 = X_train[X_train[\"Churn\"] == 0][feat]\n",
        "\n",
        "  t_stat, p_value = ttest_ind(feat_1, feat_2)\n",
        "\n",
        "  p_values.append(p_value)\n",
        "  t_stats.append(t_stat)\n",
        "\n",
        "# creamos el dataframe con los resultados\n",
        "t_st_df = pd.DataFrame()\n",
        "t_st_df[\"Feature\"] = features_to_test\n",
        "t_st_df[\"T_StudentStat\"] = t_stats\n",
        "t_st_df[\"P_value\"] = p_values\n",
        "\n",
        "# oredenamos segun el p-valor\n",
        "t_st_df.sort_values(by=\"P_value\", ascending=True, inplace=True)\n",
        "t_st_df"
      ],
      "metadata": {
        "colab": {
          "base_uri": "https://localhost:8080/",
          "height": 0
        },
        "id": "RLKW57rA5iPj",
        "outputId": "69815df2-880f-4d12-d650-6c060798df62"
      },
      "execution_count": 39,
      "outputs": [
        {
          "output_type": "execute_result",
          "data": {
            "text/plain": [
              "        Feature  T_StudentStat       P_value\n",
              "0  TotalCharges     -15.084382  2.683292e-50"
            ],
            "text/html": [
              "\n",
              "  <div id=\"df-ee707dee-1e50-4847-b108-afe1636b64b3\">\n",
              "    <div class=\"colab-df-container\">\n",
              "      <div>\n",
              "<style scoped>\n",
              "    .dataframe tbody tr th:only-of-type {\n",
              "        vertical-align: middle;\n",
              "    }\n",
              "\n",
              "    .dataframe tbody tr th {\n",
              "        vertical-align: top;\n",
              "    }\n",
              "\n",
              "    .dataframe thead th {\n",
              "        text-align: right;\n",
              "    }\n",
              "</style>\n",
              "<table border=\"1\" class=\"dataframe\">\n",
              "  <thead>\n",
              "    <tr style=\"text-align: right;\">\n",
              "      <th></th>\n",
              "      <th>Feature</th>\n",
              "      <th>T_StudentStat</th>\n",
              "      <th>P_value</th>\n",
              "    </tr>\n",
              "  </thead>\n",
              "  <tbody>\n",
              "    <tr>\n",
              "      <th>0</th>\n",
              "      <td>TotalCharges</td>\n",
              "      <td>-15.084382</td>\n",
              "      <td>2.683292e-50</td>\n",
              "    </tr>\n",
              "  </tbody>\n",
              "</table>\n",
              "</div>\n",
              "      <button class=\"colab-df-convert\" onclick=\"convertToInteractive('df-ee707dee-1e50-4847-b108-afe1636b64b3')\"\n",
              "              title=\"Convert this dataframe to an interactive table.\"\n",
              "              style=\"display:none;\">\n",
              "        \n",
              "  <svg xmlns=\"http://www.w3.org/2000/svg\" height=\"24px\"viewBox=\"0 0 24 24\"\n",
              "       width=\"24px\">\n",
              "    <path d=\"M0 0h24v24H0V0z\" fill=\"none\"/>\n",
              "    <path d=\"M18.56 5.44l.94 2.06.94-2.06 2.06-.94-2.06-.94-.94-2.06-.94 2.06-2.06.94zm-11 1L8.5 8.5l.94-2.06 2.06-.94-2.06-.94L8.5 2.5l-.94 2.06-2.06.94zm10 10l.94 2.06.94-2.06 2.06-.94-2.06-.94-.94-2.06-.94 2.06-2.06.94z\"/><path d=\"M17.41 7.96l-1.37-1.37c-.4-.4-.92-.59-1.43-.59-.52 0-1.04.2-1.43.59L10.3 9.45l-7.72 7.72c-.78.78-.78 2.05 0 2.83L4 21.41c.39.39.9.59 1.41.59.51 0 1.02-.2 1.41-.59l7.78-7.78 2.81-2.81c.8-.78.8-2.07 0-2.86zM5.41 20L4 18.59l7.72-7.72 1.47 1.35L5.41 20z\"/>\n",
              "  </svg>\n",
              "      </button>\n",
              "      \n",
              "  <style>\n",
              "    .colab-df-container {\n",
              "      display:flex;\n",
              "      flex-wrap:wrap;\n",
              "      gap: 12px;\n",
              "    }\n",
              "\n",
              "    .colab-df-convert {\n",
              "      background-color: #E8F0FE;\n",
              "      border: none;\n",
              "      border-radius: 50%;\n",
              "      cursor: pointer;\n",
              "      display: none;\n",
              "      fill: #1967D2;\n",
              "      height: 32px;\n",
              "      padding: 0 0 0 0;\n",
              "      width: 32px;\n",
              "    }\n",
              "\n",
              "    .colab-df-convert:hover {\n",
              "      background-color: #E2EBFA;\n",
              "      box-shadow: 0px 1px 2px rgba(60, 64, 67, 0.3), 0px 1px 3px 1px rgba(60, 64, 67, 0.15);\n",
              "      fill: #174EA6;\n",
              "    }\n",
              "\n",
              "    [theme=dark] .colab-df-convert {\n",
              "      background-color: #3B4455;\n",
              "      fill: #D2E3FC;\n",
              "    }\n",
              "\n",
              "    [theme=dark] .colab-df-convert:hover {\n",
              "      background-color: #434B5C;\n",
              "      box-shadow: 0px 1px 3px 1px rgba(0, 0, 0, 0.15);\n",
              "      filter: drop-shadow(0px 1px 2px rgba(0, 0, 0, 0.3));\n",
              "      fill: #FFFFFF;\n",
              "    }\n",
              "  </style>\n",
              "\n",
              "      <script>\n",
              "        const buttonEl =\n",
              "          document.querySelector('#df-ee707dee-1e50-4847-b108-afe1636b64b3 button.colab-df-convert');\n",
              "        buttonEl.style.display =\n",
              "          google.colab.kernel.accessAllowed ? 'block' : 'none';\n",
              "\n",
              "        async function convertToInteractive(key) {\n",
              "          const element = document.querySelector('#df-ee707dee-1e50-4847-b108-afe1636b64b3');\n",
              "          const dataTable =\n",
              "            await google.colab.kernel.invokeFunction('convertToInteractive',\n",
              "                                                     [key], {});\n",
              "          if (!dataTable) return;\n",
              "\n",
              "          const docLinkHtml = 'Like what you see? Visit the ' +\n",
              "            '<a target=\"_blank\" href=https://colab.research.google.com/notebooks/data_table.ipynb>data table notebook</a>'\n",
              "            + ' to learn more about interactive tables.';\n",
              "          element.innerHTML = '';\n",
              "          dataTable['output_type'] = 'display_data';\n",
              "          await google.colab.output.renderOutput(dataTable, element);\n",
              "          const docLink = document.createElement('div');\n",
              "          docLink.innerHTML = docLinkHtml;\n",
              "          element.appendChild(docLink);\n",
              "        }\n",
              "      </script>\n",
              "    </div>\n",
              "  </div>\n",
              "  "
            ]
          },
          "metadata": {},
          "execution_count": 39
        }
      ]
    },
    {
      "cell_type": "markdown",
      "source": [
        "### Univariate roc-auc.\n",
        "\n",
        "Determinaremos la importancia de los features numercios CONTINUOS mediante el score roc-auc.\n",
        "\n",
        "* 1) Construimos un rfc por feature, para predecir el objetivo.\n",
        "* 2) Hacemos predicciones utilizando el árbol de decisiones y el feature mencionada.\n",
        "* 3) Medimos el rendimiento de esa predicción, ya sea el roc-auc, el mse o cualquier otra métrica.\n",
        "* 4) Clasificamos las funciones según la métrica de aprendizaje automático (roc-auc o mse)\n",
        "* 5) Seleccionamos los features de mayor rango."
      ],
      "metadata": {
        "id": "rx6xcjmtfTZ2"
      }
    },
    {
      "cell_type": "code",
      "source": [
        "num_feats = [feat for feat in X_train.columns if (X_train[feat].dtype != np.object_ and X_train[feat].nunique() >= 10)]\n",
        "num_feats"
      ],
      "metadata": {
        "colab": {
          "base_uri": "https://localhost:8080/"
        },
        "id": "Me6KYUzAQ4IZ",
        "outputId": "2ed05d28-069d-4f1b-8f84-598570161bef"
      },
      "execution_count": 40,
      "outputs": [
        {
          "output_type": "execute_result",
          "data": {
            "text/plain": [
              "['tenure', 'MonthlyCharges', 'TotalCharges']"
            ]
          },
          "metadata": {},
          "execution_count": 40
        }
      ]
    },
    {
      "cell_type": "code",
      "source": [
        "roc_values = []\n",
        "\n",
        "for feature in num_feats:\n",
        "\n",
        "    clf = RandomForestClassifier(random_state=0)\n",
        "    clf.fit(X_train[[feature]], y_train)\n",
        "\n",
        "    y_scored = clf.predict_proba(X_test[[feature]])\n",
        "\n",
        "    roc_values.append(roc_auc_score(y_test, y_scored[:, 1]))\n",
        "    \n",
        "roc_values"
      ],
      "metadata": {
        "colab": {
          "base_uri": "https://localhost:8080/"
        },
        "id": "3exU4coaQxvX",
        "outputId": "eafe1bcd-191b-4b21-a64e-c2d25f654364"
      },
      "execution_count": 41,
      "outputs": [
        {
          "output_type": "execute_result",
          "data": {
            "text/plain": [
              "[0.7247165808874669, 0.6068895766680577, 0.5650942412018363]"
            ]
          },
          "metadata": {},
          "execution_count": 41
        }
      ]
    },
    {
      "cell_type": "code",
      "source": [
        "roc_values = pd.Series(roc_values)\n",
        "roc_values.index = num_feats\n",
        "roc_values.sort_values(ascending=False).plot.bar(figsize=(5, 5))\n",
        "plt.ylabel('roc-auc')"
      ],
      "metadata": {
        "colab": {
          "base_uri": "https://localhost:8080/",
          "height": 0
        },
        "id": "ml-ZDsmrRMQ7",
        "outputId": "ff8b251d-a4b0-45ac-da17-93d50640d88a"
      },
      "execution_count": 42,
      "outputs": [
        {
          "output_type": "execute_result",
          "data": {
            "text/plain": [
              "Text(0, 0.5, 'roc-auc')"
            ]
          },
          "metadata": {},
          "execution_count": 42
        },
        {
          "output_type": "display_data",
          "data": {
            "text/plain": [
              "<Figure size 360x360 with 1 Axes>"
            ],
            "image/png": "[encoded data removed]"
          },
          "metadata": {
            "needs_background": "light"
          }
        }
      ]
    },
    {
      "cell_type": "code",
      "source": [
        "feat_w_high_roc_auc = roc_values[roc_values > 0.5].index\n",
        "feat_w_high_roc_auc"
      ],
      "metadata": {
        "colab": {
          "base_uri": "https://localhost:8080/"
        },
        "id": "6zJcYQhaRUa1",
        "outputId": "1a9f15d7-3988-4386-da41-84e227925353"
      },
      "execution_count": 43,
      "outputs": [
        {
          "output_type": "execute_result",
          "data": {
            "text/plain": [
              "Index(['tenure', 'MonthlyCharges', 'TotalCharges'], dtype='object')"
            ]
          },
          "metadata": {},
          "execution_count": 43
        }
      ]
    },
    {
      "cell_type": "markdown",
      "source": [
        "# ENTRENAMIENTO Y EVALUACIÓN DE MODELOS DE ML."
      ],
      "metadata": {
        "id": "NUdiCZMCV14t"
      }
    },
    {
      "cell_type": "markdown",
      "source": [
        "## Data Balancing"
      ],
      "metadata": {
        "id": "8A1AyPbSke3o"
      }
    },
    {
      "cell_type": "code",
      "source": [
        "selected_features = feat_w_high_roc_auc.tolist() + feat_w_high_depAttrition.tolist()"
      ],
      "metadata": {
        "id": "89HD7S3CRYjC"
      },
      "execution_count": 44,
      "outputs": []
    },
    {
      "cell_type": "code",
      "source": [
        "from imblearn.over_sampling import SMOTE \n",
        "\n",
        "over = SMOTE(sampling_strategy = 1)\n",
        "X_train_tmp, y_train_tmp = over.fit_resample(X_train_WOEE[selected_features], y_train)"
      ],
      "metadata": {
        "id": "9TtRtO4LkgfO"
      },
      "execution_count": 45,
      "outputs": []
    },
    {
      "cell_type": "markdown",
      "source": [
        "## Escalar datos."
      ],
      "metadata": {
        "id": "R6Ro7ilTV6c_"
      }
    },
    {
      "cell_type": "code",
      "source": [
        "scaler = MinMaxScaler()\n",
        "\n",
        "X_train_WOEE_scaled = scaler.fit_transform(X_train_tmp)\n",
        "X_test_WOEE_scaled = scaler.transform(X_test_WOEE[selected_features])"
      ],
      "metadata": {
        "id": "zODj2u12V53I"
      },
      "execution_count": 46,
      "outputs": []
    },
    {
      "cell_type": "markdown",
      "source": [
        "## Modelado.\n",
        "\n",
        "Declararemos 3 modelos de regresión logística distintos y analizaremos su performance.\n",
        "\n",
        "Entrenaremos los sig. modelos:\n",
        "* Regresión logística.\n",
        "* Random forest.\n",
        "* XGBClassifier."
      ],
      "metadata": {
        "id": "E_ifmAfRWFoT"
      }
    },
    {
      "cell_type": "code",
      "source": [
        "def model_(classifier, X_train, X_test, y_train, y_test):\n",
        "  classifier.fit(X_train, y_train)\n",
        "\n",
        "  pred = classifier.predict(X_train)\n",
        "\n",
        "  print(\"Train set\")\n",
        "\n",
        "  print(f\"{classifier} roc-auc: {roc_auc_score(y_train, pred)}\")\n",
        "\n",
        "  print(\"Test set\")\n",
        "\n",
        "  pred = classifier.predict(X_test)\n",
        "\n",
        "  print(f\"{classifier} roc-auc: {roc_auc_score(y_test, pred)}\")\n",
        "\n",
        "  print(f\"Acurracy {100*accuracy_score(y_test, pred)}\")\n",
        "\n",
        "  print(\"-------------------------\")\n",
        "  print((classification_report(y_test, pred)))\n",
        "\n",
        "  cm = confusion_matrix(y_test, pred)\n",
        "  sns.heatmap(cm, annot=True)\n",
        "\n"
      ],
      "metadata": {
        "id": "hi7ryteBpmyV"
      },
      "execution_count": 47,
      "outputs": []
    },
    {
      "cell_type": "markdown",
      "source": [
        "**LOGISTIC REGRESSION**"
      ],
      "metadata": {
        "id": "g4wsWAPGsMPO"
      }
    },
    {
      "cell_type": "code",
      "source": [
        "lr = LogisticRegression(C=1000, class_weight='balanced', random_state=0,\n",
        "                        solver='liblinear')\n",
        "\n",
        "model_(lr, X_train_WOEE_scaled, X_test_WOEE_scaled, y_train_tmp, y_test)"
      ],
      "metadata": {
        "id": "7GEK793XWIJ7",
        "colab": {
          "base_uri": "https://localhost:8080/",
          "height": 560
        },
        "outputId": "5fa066fb-4af2-4162-d4d9-db6c176cee53"
      },
      "execution_count": 55,
      "outputs": [
        {
          "output_type": "stream",
          "name": "stdout",
          "text": [
            "Train set\n",
            "LogisticRegression(C=1000, class_weight='balanced', random_state=0,\n",
            "                   solver='liblinear') roc-auc: 0.7823741007194245\n",
            "Test set\n",
            "LogisticRegression(C=1000, class_weight='balanced', random_state=0,\n",
            "                   solver='liblinear') roc-auc: 0.7531205081837993\n",
            "Acurracy 74.49124467581638\n",
            "-------------------------\n",
            "              precision    recall  f1-score   support\n",
            "\n",
            "           0       0.90      0.74      0.81      1560\n",
            "           1       0.51      0.77      0.61       553\n",
            "\n",
            "    accuracy                           0.74      2113\n",
            "   macro avg       0.70      0.75      0.71      2113\n",
            "weighted avg       0.80      0.74      0.76      2113\n",
            "\n"
          ]
        },
        {
          "output_type": "display_data",
          "data": {
            "text/plain": [
              "<Figure size 432x288 with 2 Axes>"
            ],
            "image/png": "[encoded data removed]"
          },
          "metadata": {
            "needs_background": "light"
          }
        }
      ]
    },
    {
      "cell_type": "markdown",
      "source": [
        "**RANDOM FOREST**"
      ],
      "metadata": {
        "id": "MMBLHDx7sJ97"
      }
    },
    {
      "cell_type": "code",
      "source": [
        "rfc = RandomForestClassifier(max_depth = 4,random_state = 0)\n",
        "\n",
        "model_(rfc, X_train_WOEE_scaled, X_test_WOEE_scaled, y_train_tmp, y_test)"
      ],
      "metadata": {
        "colab": {
          "base_uri": "https://localhost:8080/",
          "height": 525
        },
        "id": "N_eGh7CXdMsD",
        "outputId": "6ae20bba-57e6-47a0-903c-e351424048d8"
      },
      "execution_count": 49,
      "outputs": [
        {
          "output_type": "stream",
          "name": "stdout",
          "text": [
            "Train set\n",
            "RandomForestClassifier(max_depth=4, random_state=0) roc-auc: 0.8240177089097952\n",
            "Test set\n",
            "RandomForestClassifier(max_depth=4, random_state=0) roc-auc: 0.7397105531599203\n",
            "Acurracy 75.95835305253195\n",
            "-------------------------\n",
            "              precision    recall  f1-score   support\n",
            "\n",
            "           0       0.88      0.78      0.83      1560\n",
            "           1       0.53      0.70      0.60       553\n",
            "\n",
            "    accuracy                           0.76      2113\n",
            "   macro avg       0.71      0.74      0.72      2113\n",
            "weighted avg       0.79      0.76      0.77      2113\n",
            "\n"
          ]
        },
        {
          "output_type": "display_data",
          "data": {
            "text/plain": [
              "<Figure size 432x288 with 2 Axes>"
            ],
            "image/png": "[encoded data removed]"
          },
          "metadata": {
            "needs_background": "light"
          }
        }
      ]
    },
    {
      "cell_type": "markdown",
      "source": [
        "**XGBClassifier**"
      ],
      "metadata": {
        "id": "PTTbFL3vsO1r"
      }
    },
    {
      "cell_type": "code",
      "source": [
        "xgb = XGBClassifier(random_state=0,learning_rate= 0.01,max_depth = 3,n_estimators = 1000)\n",
        "model_(xgb, X_train_WOEE_scaled, X_test_WOEE_scaled, y_train_tmp, y_test)"
      ],
      "metadata": {
        "colab": {
          "base_uri": "https://localhost:8080/",
          "height": 525
        },
        "id": "TnthH1zQsdjm",
        "outputId": "a88b3575-12e6-4e83-8dcc-a953f633b81b"
      },
      "execution_count": 50,
      "outputs": [
        {
          "output_type": "stream",
          "name": "stdout",
          "text": [
            "Train set\n",
            "XGBClassifier(learning_rate=0.01, n_estimators=1000) roc-auc: 0.8705035971223021\n",
            "Test set\n",
            "XGBClassifier(learning_rate=0.01, n_estimators=1000) roc-auc: 0.7253529698149952\n",
            "Acurracy 78.75059157595835\n",
            "-------------------------\n",
            "              precision    recall  f1-score   support\n",
            "\n",
            "           0       0.86      0.86      0.86      1560\n",
            "           1       0.59      0.59      0.59       553\n",
            "\n",
            "    accuracy                           0.79      2113\n",
            "   macro avg       0.73      0.73      0.73      2113\n",
            "weighted avg       0.79      0.79      0.79      2113\n",
            "\n"
          ]
        },
        {
          "output_type": "display_data",
          "data": {
            "text/plain": [
              "<Figure size 432x288 with 2 Axes>"
            ],
            "image/png": "[encoded data removed]"
          },
          "metadata": {
            "needs_background": "light"
          }
        }
      ]
    },
    {
      "cell_type": "markdown",
      "source": [
        "**Modeling Resume**\n",
        "\n",
        "|PREDICT|ML Algorithm|ROC AUC TRAIN SET|ROC AUC TEST SET|PRECISION|RECALL|\n",
        "|-------|------------|-----------------|----------------|---------|------|\n",
        "|0      |Log Regres  |0.78             |0.75            |0.90     |0.73  | \n",
        "|1      |Log Regres  |0.78             |0.75            |0.51     |0.78  | \n",
        "|0      |RandomForest|0.82             |0.73            |0.88     |0.78  | \n",
        "|1      |RandomForest|0.82             |0.73            |0.52     |0.69  | \n",
        "|0      |XGBClassif  |0.87             |0.73            |0.86     |0.86  | \n",
        "|1      |XGBClassif  |0.87             |0.73            |0.60     |0.59  | \n"
      ],
      "metadata": {
        "id": "ahzj3NiYtDl0"
      }
    },
    {
      "cell_type": "markdown",
      "source": [
        "**CONCLUSIÓN**\n",
        "\n",
        "A partir de los dos modelos entrenados podemos concluir que:\n",
        "\n",
        "* **LogisticRegression** NO posee over-fitting. El modelo presenta una precisión del 74% (menor a los otros dos modelos), el modelo a la hora de predecir los clientes que se marchan predice correctamente el 51% de ellos, **PERO** podemos ver que **la métrica de recall es bastante alta comparada a los otros dos modelos, llegando casi a un 80%**, ie que el modelo **es capaz de capturar el 80% de los clientes que se marchan**, por ende a pesar de la precisión parece ser mucho mejor modelo que el rfc para este particular problema.\n",
        "\n",
        "* **RandomForest** tiende a tener over-fitting (se puede apreciar gracias a la metrica roc-auc). El modelo presenta una precisión del 75%, además **posee un valor de recall del 70%**, ie que es capaz de capturar el 70% de los clientes que se  marchan.\n",
        "\n",
        "* **XGB** es el modelo que **mas over-fitting presenta**. Dicho modelo **tiene la mejor precision de los 3 llegando casi al 80%** **PERO** la performance del modelo se ve drasticamente deteriorada si se tiene en cuenta **la metrica de recall, llegando al 60%**, la mas baja de los 3, ie que **el 40% de los empleados que se marchan el modelo no es capaz de capturarlos.**\n",
        "\n",
        "\n",
        "Dicho esto la regresión logística pareciera ser el mejor modelo para responder el problema de deserción de clientes.\n",
        "\n",
        "A su vez podemos ver que los features más importantes a la hora de determinar si un cliente se queda o se marcha son:\n",
        "\n",
        "* Tenuere\n",
        "* TotalCharges\n",
        "* Contract\n",
        "* InternetService\n",
        "* StreamingMovies\n",
        "\n"
      ],
      "metadata": {
        "id": "j3_9pTLEy7f9"
      }
    },
    {
      "cell_type": "code",
      "source": [
        "feature_importance = pd.DataFrame()\n",
        "feature_importance[\"Feature\"] = selected_features\n",
        "feature_importance[\"Coef\"] = np.abs(lr.coef_.flatten())\n",
        "feature_importance.sort_values(by=\"Coef\", ascending=False).head()"
      ],
      "metadata": {
        "colab": {
          "base_uri": "https://localhost:8080/",
          "height": 206
        },
        "id": "XiLLxryfyI__",
        "outputId": "d1a1f9a7-920a-443c-d5cb-5bd54cad68e3"
      },
      "execution_count": 51,
      "outputs": [
        {
          "output_type": "execute_result",
          "data": {
            "text/plain": [
              "            Feature      Coef\n",
              "0            tenure  4.261063\n",
              "2      TotalCharges  3.279972\n",
              "14         Contract  1.478731\n",
              "7   InternetService  1.360416\n",
              "12      StreamingTV  1.281861"
            ],
            "text/html": [
              "\n",
              "  <div id=\"df-c04a7ee7-721f-42a2-b2a5-6ba1fb9bb839\">\n",
              "    <div class=\"colab-df-container\">\n",
              "      <div>\n",
              "<style scoped>\n",
              "    .dataframe tbody tr th:only-of-type {\n",
              "        vertical-align: middle;\n",
              "    }\n",
              "\n",
              "    .dataframe tbody tr th {\n",
              "        vertical-align: top;\n",
              "    }\n",
              "\n",
              "    .dataframe thead th {\n",
              "        text-align: right;\n",
              "    }\n",
              "</style>\n",
              "<table border=\"1\" class=\"dataframe\">\n",
              "  <thead>\n",
              "    <tr style=\"text-align: right;\">\n",
              "      <th></th>\n",
              "      <th>Feature</th>\n",
              "      <th>Coef</th>\n",
              "    </tr>\n",
              "  </thead>\n",
              "  <tbody>\n",
              "    <tr>\n",
              "      <th>0</th>\n",
              "      <td>tenure</td>\n",
              "      <td>4.261063</td>\n",
              "    </tr>\n",
              "    <tr>\n",
              "      <th>2</th>\n",
              "      <td>TotalCharges</td>\n",
              "      <td>3.279972</td>\n",
              "    </tr>\n",
              "    <tr>\n",
              "      <th>14</th>\n",
              "      <td>Contract</td>\n",
              "      <td>1.478731</td>\n",
              "    </tr>\n",
              "    <tr>\n",
              "      <th>7</th>\n",
              "      <td>InternetService</td>\n",
              "      <td>1.360416</td>\n",
              "    </tr>\n",
              "    <tr>\n",
              "      <th>12</th>\n",
              "      <td>StreamingTV</td>\n",
              "      <td>1.281861</td>\n",
              "    </tr>\n",
              "  </tbody>\n",
              "</table>\n",
              "</div>\n",
              "      <button class=\"colab-df-convert\" onclick=\"convertToInteractive('df-c04a7ee7-721f-42a2-b2a5-6ba1fb9bb839')\"\n",
              "              title=\"Convert this dataframe to an interactive table.\"\n",
              "              style=\"display:none;\">\n",
              "        \n",
              "  <svg xmlns=\"http://www.w3.org/2000/svg\" height=\"24px\"viewBox=\"0 0 24 24\"\n",
              "       width=\"24px\">\n",
              "    <path d=\"M0 0h24v24H0V0z\" fill=\"none\"/>\n",
              "    <path d=\"M18.56 5.44l.94 2.06.94-2.06 2.06-.94-2.06-.94-.94-2.06-.94 2.06-2.06.94zm-11 1L8.5 8.5l.94-2.06 2.06-.94-2.06-.94L8.5 2.5l-.94 2.06-2.06.94zm10 10l.94 2.06.94-2.06 2.06-.94-2.06-.94-.94-2.06-.94 2.06-2.06.94z\"/><path d=\"M17.41 7.96l-1.37-1.37c-.4-.4-.92-.59-1.43-.59-.52 0-1.04.2-1.43.59L10.3 9.45l-7.72 7.72c-.78.78-.78 2.05 0 2.83L4 21.41c.39.39.9.59 1.41.59.51 0 1.02-.2 1.41-.59l7.78-7.78 2.81-2.81c.8-.78.8-2.07 0-2.86zM5.41 20L4 18.59l7.72-7.72 1.47 1.35L5.41 20z\"/>\n",
              "  </svg>\n",
              "      </button>\n",
              "      \n",
              "  <style>\n",
              "    .colab-df-container {\n",
              "      display:flex;\n",
              "      flex-wrap:wrap;\n",
              "      gap: 12px;\n",
              "    }\n",
              "\n",
              "    .colab-df-convert {\n",
              "      background-color: #E8F0FE;\n",
              "      border: none;\n",
              "      border-radius: 50%;\n",
              "      cursor: pointer;\n",
              "      display: none;\n",
              "      fill: #1967D2;\n",
              "      height: 32px;\n",
              "      padding: 0 0 0 0;\n",
              "      width: 32px;\n",
              "    }\n",
              "\n",
              "    .colab-df-convert:hover {\n",
              "      background-color: #E2EBFA;\n",
              "      box-shadow: 0px 1px 2px rgba(60, 64, 67, 0.3), 0px 1px 3px 1px rgba(60, 64, 67, 0.15);\n",
              "      fill: #174EA6;\n",
              "    }\n",
              "\n",
              "    [theme=dark] .colab-df-convert {\n",
              "      background-color: #3B4455;\n",
              "      fill: #D2E3FC;\n",
              "    }\n",
              "\n",
              "    [theme=dark] .colab-df-convert:hover {\n",
              "      background-color: #434B5C;\n",
              "      box-shadow: 0px 1px 3px 1px rgba(0, 0, 0, 0.15);\n",
              "      filter: drop-shadow(0px 1px 2px rgba(0, 0, 0, 0.3));\n",
              "      fill: #FFFFFF;\n",
              "    }\n",
              "  </style>\n",
              "\n",
              "      <script>\n",
              "        const buttonEl =\n",
              "          document.querySelector('#df-c04a7ee7-721f-42a2-b2a5-6ba1fb9bb839 button.colab-df-convert');\n",
              "        buttonEl.style.display =\n",
              "          google.colab.kernel.accessAllowed ? 'block' : 'none';\n",
              "\n",
              "        async function convertToInteractive(key) {\n",
              "          const element = document.querySelector('#df-c04a7ee7-721f-42a2-b2a5-6ba1fb9bb839');\n",
              "          const dataTable =\n",
              "            await google.colab.kernel.invokeFunction('convertToInteractive',\n",
              "                                                     [key], {});\n",
              "          if (!dataTable) return;\n",
              "\n",
              "          const docLinkHtml = 'Like what you see? Visit the ' +\n",
              "            '<a target=\"_blank\" href=https://colab.research.google.com/notebooks/data_table.ipynb>data table notebook</a>'\n",
              "            + ' to learn more about interactive tables.';\n",
              "          element.innerHTML = '';\n",
              "          dataTable['output_type'] = 'display_data';\n",
              "          await google.colab.output.renderOutput(dataTable, element);\n",
              "          const docLink = document.createElement('div');\n",
              "          docLink.innerHTML = docLinkHtml;\n",
              "          element.appendChild(docLink);\n",
              "        }\n",
              "      </script>\n",
              "    </div>\n",
              "  </div>\n",
              "  "
            ]
          },
          "metadata": {},
          "execution_count": 51
        }
      ]
    }
  ]
}