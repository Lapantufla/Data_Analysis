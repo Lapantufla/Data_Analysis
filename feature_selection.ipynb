{
  "cells": [
    {
      "cell_type": "code",
      "execution_count": 1,
      "metadata": {
        "id": "H62g34JpNYkq"
      },
      "outputs": [],
      "source": [
        "import numpy as np\n",
        "import pandas as pd\n",
        "import seaborn as sns\n",
        "import matplotlib.pyplot as plt"
      ]
    },
    {
      "cell_type": "code",
      "execution_count": 2,
      "metadata": {
        "colab": {
          "base_uri": "https://localhost:8080/",
          "height": 107
        },
        "id": "WS624ll5Nb7L",
        "outputId": "67898971-50f5-4100-9ffa-3f2c5f9e35db"
      },
      "outputs": [
        {
          "output_type": "display_data",
          "data": {
            "text/plain": [
              "<IPython.core.display.HTML object>"
            ],
            "text/html": [
              "\n",
              "     <input type=\"file\" id=\"files-3e37ad0c-eaba-437e-bcf5-659ed06976d9\" name=\"files[]\" multiple disabled\n",
              "        style=\"border:none\" />\n",
              "     <output id=\"result-3e37ad0c-eaba-437e-bcf5-659ed06976d9\">\n",
              "      Upload widget is only available when the cell has been executed in the\n",
              "      current browser session. Please rerun this cell to enable.\n",
              "      </output>\n",
              "      <script>// Copyright 2017 Google LLC\n",
              "//\n",
              "// Licensed under the Apache License, Version 2.0 (the \"License\");\n",
              "// you may not use this file except in compliance with the License.\n",
              "// You may obtain a copy of the License at\n",
              "//\n",
              "//      http://www.apache.org/licenses/LICENSE-2.0\n",
              "//\n",
              "// Unless required by applicable law or agreed to in writing, software\n",
              "// distributed under the License is distributed on an \"AS IS\" BASIS,\n",
              "// WITHOUT WARRANTIES OR CONDITIONS OF ANY KIND, either express or implied.\n",
              "// See the License for the specific language governing permissions and\n",
              "// limitations under the License.\n",
              "\n",
              "/**\n",
              " * @fileoverview Helpers for google.colab Python module.\n",
              " */\n",
              "(function(scope) {\n",
              "function span(text, styleAttributes = {}) {\n",
              "  const element = document.createElement('span');\n",
              "  element.textContent = text;\n",
              "  for (const key of Object.keys(styleAttributes)) {\n",
              "    element.style[key] = styleAttributes[key];\n",
              "  }\n",
              "  return element;\n",
              "}\n",
              "\n",
              "// Max number of bytes which will be uploaded at a time.\n",
              "const MAX_PAYLOAD_SIZE = 100 * 1024;\n",
              "\n",
              "function _uploadFiles(inputId, outputId) {\n",
              "  const steps = uploadFilesStep(inputId, outputId);\n",
              "  const outputElement = document.getElementById(outputId);\n",
              "  // Cache steps on the outputElement to make it available for the next call\n",
              "  // to uploadFilesContinue from Python.\n",
              "  outputElement.steps = steps;\n",
              "\n",
              "  return _uploadFilesContinue(outputId);\n",
              "}\n",
              "\n",
              "// This is roughly an async generator (not supported in the browser yet),\n",
              "// where there are multiple asynchronous steps and the Python side is going\n",
              "// to poll for completion of each step.\n",
              "// This uses a Promise to block the python side on completion of each step,\n",
              "// then passes the result of the previous step as the input to the next step.\n",
              "function _uploadFilesContinue(outputId) {\n",
              "  const outputElement = document.getElementById(outputId);\n",
              "  const steps = outputElement.steps;\n",
              "\n",
              "  const next = steps.next(outputElement.lastPromiseValue);\n",
              "  return Promise.resolve(next.value.promise).then((value) => {\n",
              "    // Cache the last promise value to make it available to the next\n",
              "    // step of the generator.\n",
              "    outputElement.lastPromiseValue = value;\n",
              "    return next.value.response;\n",
              "  });\n",
              "}\n",
              "\n",
              "/**\n",
              " * Generator function which is called between each async step of the upload\n",
              " * process.\n",
              " * @param {string} inputId Element ID of the input file picker element.\n",
              " * @param {string} outputId Element ID of the output display.\n",
              " * @return {!Iterable<!Object>} Iterable of next steps.\n",
              " */\n",
              "function* uploadFilesStep(inputId, outputId) {\n",
              "  const inputElement = document.getElementById(inputId);\n",
              "  inputElement.disabled = false;\n",
              "\n",
              "  const outputElement = document.getElementById(outputId);\n",
              "  outputElement.innerHTML = '';\n",
              "\n",
              "  const pickedPromise = new Promise((resolve) => {\n",
              "    inputElement.addEventListener('change', (e) => {\n",
              "      resolve(e.target.files);\n",
              "    });\n",
              "  });\n",
              "\n",
              "  const cancel = document.createElement('button');\n",
              "  inputElement.parentElement.appendChild(cancel);\n",
              "  cancel.textContent = 'Cancel upload';\n",
              "  const cancelPromise = new Promise((resolve) => {\n",
              "    cancel.onclick = () => {\n",
              "      resolve(null);\n",
              "    };\n",
              "  });\n",
              "\n",
              "  // Wait for the user to pick the files.\n",
              "  const files = yield {\n",
              "    promise: Promise.race([pickedPromise, cancelPromise]),\n",
              "    response: {\n",
              "      action: 'starting',\n",
              "    }\n",
              "  };\n",
              "\n",
              "  cancel.remove();\n",
              "\n",
              "  // Disable the input element since further picks are not allowed.\n",
              "  inputElement.disabled = true;\n",
              "\n",
              "  if (!files) {\n",
              "    return {\n",
              "      response: {\n",
              "        action: 'complete',\n",
              "      }\n",
              "    };\n",
              "  }\n",
              "\n",
              "  for (const file of files) {\n",
              "    const li = document.createElement('li');\n",
              "    li.append(span(file.name, {fontWeight: 'bold'}));\n",
              "    li.append(span(\n",
              "        `(${file.type || 'n/a'}) - ${file.size} bytes, ` +\n",
              "        `last modified: ${\n",
              "            file.lastModifiedDate ? file.lastModifiedDate.toLocaleDateString() :\n",
              "                                    'n/a'} - `));\n",
              "    const percent = span('0% done');\n",
              "    li.appendChild(percent);\n",
              "\n",
              "    outputElement.appendChild(li);\n",
              "\n",
              "    const fileDataPromise = new Promise((resolve) => {\n",
              "      const reader = new FileReader();\n",
              "      reader.onload = (e) => {\n",
              "        resolve(e.target.result);\n",
              "      };\n",
              "      reader.readAsArrayBuffer(file);\n",
              "    });\n",
              "    // Wait for the data to be ready.\n",
              "    let fileData = yield {\n",
              "      promise: fileDataPromise,\n",
              "      response: {\n",
              "        action: 'continue',\n",
              "      }\n",
              "    };\n",
              "\n",
              "    // Use a chunked sending to avoid message size limits. See b/62115660.\n",
              "    let position = 0;\n",
              "    do {\n",
              "      const length = Math.min(fileData.byteLength - position, MAX_PAYLOAD_SIZE);\n",
              "      const chunk = new Uint8Array(fileData, position, length);\n",
              "      position += length;\n",
              "\n",
              "      const base64 = btoa(String.fromCharCode.apply(null, chunk));\n",
              "      yield {\n",
              "        response: {\n",
              "          action: 'append',\n",
              "          file: file.name,\n",
              "          data: base64,\n",
              "        },\n",
              "      };\n",
              "\n",
              "      let percentDone = fileData.byteLength === 0 ?\n",
              "          100 :\n",
              "          Math.round((position / fileData.byteLength) * 100);\n",
              "      percent.textContent = `${percentDone}% done`;\n",
              "\n",
              "    } while (position < fileData.byteLength);\n",
              "  }\n",
              "\n",
              "  // All done.\n",
              "  yield {\n",
              "    response: {\n",
              "      action: 'complete',\n",
              "    }\n",
              "  };\n",
              "}\n",
              "\n",
              "scope.google = scope.google || {};\n",
              "scope.google.colab = scope.google.colab || {};\n",
              "scope.google.colab._files = {\n",
              "  _uploadFiles,\n",
              "  _uploadFilesContinue,\n",
              "};\n",
              "})(self);\n",
              "</script> "
            ]
          },
          "metadata": {}
        },
        {
          "output_type": "stream",
          "name": "stdout",
          "text": [
            "Saving dataset_1.csv to dataset_1.csv\n",
            "Saving dataset_2.csv to dataset_2.csv\n"
          ]
        }
      ],
      "source": [
        "from google.colab import files\n",
        " \n",
        "# select the dataframe of interest\n",
        "uploaded = files.upload()"
      ]
    },
    {
      "cell_type": "markdown",
      "metadata": {
        "id": "d06-kDgKl-T6"
      },
      "source": [
        "# Filter methods"
      ]
    },
    {
      "cell_type": "markdown",
      "metadata": {
        "id": "nS-3k5UrmJmk"
      },
      "source": [
        "Los métodos de filtros son procedimientos para seleccionar features basados en la información del feature, estos métodos son los que principalmente aplicaremos al principio en todos los proyectos de ML.\n",
        "Nos ayudarán a reducir el feature-space y obtener nuevos features."
      ]
    },
    {
      "cell_type": "markdown",
      "metadata": {
        "id": "H_bDTZ3LmBcF"
      },
      "source": [
        "## Basic methods\n",
        "\n",
        "Los métodos básicos consisten en remover los features que presenten las sig. propiedades:\n",
        "\n",
        "* features constantes.\n",
        "* features casi-constantes.\n",
        "* features duplicados."
      ]
    },
    {
      "cell_type": "markdown",
      "metadata": {
        "id": "8gMp1l-Kmsbm"
      },
      "source": [
        "### Constant features\n",
        "\n",
        "Los features constantes son los que muestran un mismo valor en todas las observaciones. Por lo que dicha información resulta irrelevante."
      ]
    },
    {
      "cell_type": "markdown",
      "metadata": {
        "id": "zOJYgCgaqbss"
      },
      "source": [
        "Podemos buscar estos constant features de dos formas:\n",
        "* Analíticamente: viendo cuál es la media, los cuartiles y la desviación estándar de cada columna y con esta información podremos determinar que columnas poseen valores constantes.\n",
        "\n",
        "* Gráficamente: Podemos plotear los distintos valores para cada columna y ver cuáles son sus gráficos, si se tratan de constantes estaremos al frente de una columna constante..."
      ]
    },
    {
      "cell_type": "markdown",
      "metadata": {
        "id": "oUiRruHzrJn1"
      },
      "source": [
        "**Analíticamente:**"
      ]
    },
    {
      "cell_type": "code",
      "source": [
        "from sklearn.model_selection import train_test_split"
      ],
      "metadata": {
        "id": "N0Y5SjeMm_OJ"
      },
      "execution_count": null,
      "outputs": []
    },
    {
      "cell_type": "code",
      "source": [
        "df = pd.read_csv(\"dataset_1.csv\")"
      ],
      "metadata": {
        "id": "9GGvyycDx15U"
      },
      "execution_count": null,
      "outputs": []
    },
    {
      "cell_type": "code",
      "execution_count": null,
      "metadata": {
        "id": "hkyAynSSqTo2",
        "colab": {
          "base_uri": "https://localhost:8080/",
          "height": 394
        },
        "outputId": "5d69a8f9-82f8-4d9b-ec49-78a9e67e5257"
      },
      "outputs": [
        {
          "output_type": "execute_result",
          "data": {
            "text/plain": [
              "              var_1         var_2          var_3         var_4          var_5  \\\n",
              "count  50000.000000  50000.000000   50000.000000  50000.000000   50000.000000   \n",
              "mean       0.002220      0.000060      15.593002      3.149633     608.681764   \n",
              "std        0.108145      0.007746    1280.571855      2.740114   10951.361737   \n",
              "min        0.000000      0.000000       0.000000      0.000000       0.000000   \n",
              "25%        0.000000      0.000000       0.000000      0.000000       0.000000   \n",
              "50%        0.000000      0.000000       0.000000      2.850000       0.000000   \n",
              "75%        0.000000      0.000000       0.000000      3.000000       0.000000   \n",
              "max        9.000000      1.000000  207901.336500     35.280000  445500.000000   \n",
              "\n",
              "              var_6         var_7         var_8         var_9       var_10  \\\n",
              "count  5.000000e+04  50000.000000  50000.000000  50000.000000  50000.00000   \n",
              "mean   4.000000e+03      0.000300      0.035040      0.000240      0.00018   \n",
              "std    6.324492e+05      0.029999      0.322884      0.026832      0.03000   \n",
              "min    0.000000e+00      0.000000      0.000000      0.000000      0.00000   \n",
              "25%    0.000000e+00      0.000000      0.000000      0.000000      0.00000   \n",
              "50%    0.000000e+00      0.000000      0.000000      0.000000      0.00000   \n",
              "75%    0.000000e+00      0.000000      0.000000      0.000000      0.00000   \n",
              "max    1.000000e+08      3.000000      6.000000      3.000000      6.00000   \n",
              "\n",
              "       ...       var_292       var_293  var_294       var_295       var_296  \\\n",
              "count  ...  50000.000000  50000.000000  50000.0  50000.000000  50000.000000   \n",
              "mean   ...      0.085164      0.009900      0.0      0.127260      0.086880   \n",
              "std    ...      1.148319      0.214016      0.0      0.607019      0.622398   \n",
              "min    ...      0.000000      0.000000      0.0      0.000000      0.000000   \n",
              "25%    ...      0.000000      0.000000      0.0      0.000000      0.000000   \n",
              "50%    ...      0.000000      0.000000      0.0      0.000000      0.000000   \n",
              "75%    ...      0.000000      0.000000      0.0      0.000000      0.000000   \n",
              "max    ...     74.520000     12.000000      0.0      6.000000     33.000000   \n",
              "\n",
              "       var_297       var_298        var_299       var_300        target  \n",
              "count  50000.0  50000.000000   50000.000000  5.000000e+04  50000.000000  \n",
              "mean       0.0      0.003060      12.462960  5.683960e+03      0.039820  \n",
              "std        0.0      0.078808     832.417622  4.736482e+04      0.195538  \n",
              "min        0.0      0.000000       0.000000  0.000000e+00      0.000000  \n",
              "25%        0.0      0.000000       0.000000  0.000000e+00      0.000000  \n",
              "50%        0.0      0.000000       0.000000  0.000000e+00      0.000000  \n",
              "75%        0.0      0.000000       0.000000  0.000000e+00      0.000000  \n",
              "max        0.0      3.000000  134666.681100  2.857673e+06      1.000000  \n",
              "\n",
              "[8 rows x 301 columns]"
            ],
            "text/html": [
              "\n",
              "  <div id=\"df-3546bf60-e11b-41b5-882f-e7c0e6c39cb8\">\n",
              "    <div class=\"colab-df-container\">\n",
              "      <div>\n",
              "<style scoped>\n",
              "    .dataframe tbody tr th:only-of-type {\n",
              "        vertical-align: middle;\n",
              "    }\n",
              "\n",
              "    .dataframe tbody tr th {\n",
              "        vertical-align: top;\n",
              "    }\n",
              "\n",
              "    .dataframe thead th {\n",
              "        text-align: right;\n",
              "    }\n",
              "</style>\n",
              "<table border=\"1\" class=\"dataframe\">\n",
              "  <thead>\n",
              "    <tr style=\"text-align: right;\">\n",
              "      <th></th>\n",
              "      <th>var_1</th>\n",
              "      <th>var_2</th>\n",
              "      <th>var_3</th>\n",
              "      <th>var_4</th>\n",
              "      <th>var_5</th>\n",
              "      <th>var_6</th>\n",
              "      <th>var_7</th>\n",
              "      <th>var_8</th>\n",
              "      <th>var_9</th>\n",
              "      <th>var_10</th>\n",
              "      <th>...</th>\n",
              "      <th>var_292</th>\n",
              "      <th>var_293</th>\n",
              "      <th>var_294</th>\n",
              "      <th>var_295</th>\n",
              "      <th>var_296</th>\n",
              "      <th>var_297</th>\n",
              "      <th>var_298</th>\n",
              "      <th>var_299</th>\n",
              "      <th>var_300</th>\n",
              "      <th>target</th>\n",
              "    </tr>\n",
              "  </thead>\n",
              "  <tbody>\n",
              "    <tr>\n",
              "      <th>count</th>\n",
              "      <td>50000.000000</td>\n",
              "      <td>50000.000000</td>\n",
              "      <td>50000.000000</td>\n",
              "      <td>50000.000000</td>\n",
              "      <td>50000.000000</td>\n",
              "      <td>5.000000e+04</td>\n",
              "      <td>50000.000000</td>\n",
              "      <td>50000.000000</td>\n",
              "      <td>50000.000000</td>\n",
              "      <td>50000.00000</td>\n",
              "      <td>...</td>\n",
              "      <td>50000.000000</td>\n",
              "      <td>50000.000000</td>\n",
              "      <td>50000.0</td>\n",
              "      <td>50000.000000</td>\n",
              "      <td>50000.000000</td>\n",
              "      <td>50000.0</td>\n",
              "      <td>50000.000000</td>\n",
              "      <td>50000.000000</td>\n",
              "      <td>5.000000e+04</td>\n",
              "      <td>50000.000000</td>\n",
              "    </tr>\n",
              "    <tr>\n",
              "      <th>mean</th>\n",
              "      <td>0.002220</td>\n",
              "      <td>0.000060</td>\n",
              "      <td>15.593002</td>\n",
              "      <td>3.149633</td>\n",
              "      <td>608.681764</td>\n",
              "      <td>4.000000e+03</td>\n",
              "      <td>0.000300</td>\n",
              "      <td>0.035040</td>\n",
              "      <td>0.000240</td>\n",
              "      <td>0.00018</td>\n",
              "      <td>...</td>\n",
              "      <td>0.085164</td>\n",
              "      <td>0.009900</td>\n",
              "      <td>0.0</td>\n",
              "      <td>0.127260</td>\n",
              "      <td>0.086880</td>\n",
              "      <td>0.0</td>\n",
              "      <td>0.003060</td>\n",
              "      <td>12.462960</td>\n",
              "      <td>5.683960e+03</td>\n",
              "      <td>0.039820</td>\n",
              "    </tr>\n",
              "    <tr>\n",
              "      <th>std</th>\n",
              "      <td>0.108145</td>\n",
              "      <td>0.007746</td>\n",
              "      <td>1280.571855</td>\n",
              "      <td>2.740114</td>\n",
              "      <td>10951.361737</td>\n",
              "      <td>6.324492e+05</td>\n",
              "      <td>0.029999</td>\n",
              "      <td>0.322884</td>\n",
              "      <td>0.026832</td>\n",
              "      <td>0.03000</td>\n",
              "      <td>...</td>\n",
              "      <td>1.148319</td>\n",
              "      <td>0.214016</td>\n",
              "      <td>0.0</td>\n",
              "      <td>0.607019</td>\n",
              "      <td>0.622398</td>\n",
              "      <td>0.0</td>\n",
              "      <td>0.078808</td>\n",
              "      <td>832.417622</td>\n",
              "      <td>4.736482e+04</td>\n",
              "      <td>0.195538</td>\n",
              "    </tr>\n",
              "    <tr>\n",
              "      <th>min</th>\n",
              "      <td>0.000000</td>\n",
              "      <td>0.000000</td>\n",
              "      <td>0.000000</td>\n",
              "      <td>0.000000</td>\n",
              "      <td>0.000000</td>\n",
              "      <td>0.000000e+00</td>\n",
              "      <td>0.000000</td>\n",
              "      <td>0.000000</td>\n",
              "      <td>0.000000</td>\n",
              "      <td>0.00000</td>\n",
              "      <td>...</td>\n",
              "      <td>0.000000</td>\n",
              "      <td>0.000000</td>\n",
              "      <td>0.0</td>\n",
              "      <td>0.000000</td>\n",
              "      <td>0.000000</td>\n",
              "      <td>0.0</td>\n",
              "      <td>0.000000</td>\n",
              "      <td>0.000000</td>\n",
              "      <td>0.000000e+00</td>\n",
              "      <td>0.000000</td>\n",
              "    </tr>\n",
              "    <tr>\n",
              "      <th>25%</th>\n",
              "      <td>0.000000</td>\n",
              "      <td>0.000000</td>\n",
              "      <td>0.000000</td>\n",
              "      <td>0.000000</td>\n",
              "      <td>0.000000</td>\n",
              "      <td>0.000000e+00</td>\n",
              "      <td>0.000000</td>\n",
              "      <td>0.000000</td>\n",
              "      <td>0.000000</td>\n",
              "      <td>0.00000</td>\n",
              "      <td>...</td>\n",
              "      <td>0.000000</td>\n",
              "      <td>0.000000</td>\n",
              "      <td>0.0</td>\n",
              "      <td>0.000000</td>\n",
              "      <td>0.000000</td>\n",
              "      <td>0.0</td>\n",
              "      <td>0.000000</td>\n",
              "      <td>0.000000</td>\n",
              "      <td>0.000000e+00</td>\n",
              "      <td>0.000000</td>\n",
              "    </tr>\n",
              "    <tr>\n",
              "      <th>50%</th>\n",
              "      <td>0.000000</td>\n",
              "      <td>0.000000</td>\n",
              "      <td>0.000000</td>\n",
              "      <td>2.850000</td>\n",
              "      <td>0.000000</td>\n",
              "      <td>0.000000e+00</td>\n",
              "      <td>0.000000</td>\n",
              "      <td>0.000000</td>\n",
              "      <td>0.000000</td>\n",
              "      <td>0.00000</td>\n",
              "      <td>...</td>\n",
              "      <td>0.000000</td>\n",
              "      <td>0.000000</td>\n",
              "      <td>0.0</td>\n",
              "      <td>0.000000</td>\n",
              "      <td>0.000000</td>\n",
              "      <td>0.0</td>\n",
              "      <td>0.000000</td>\n",
              "      <td>0.000000</td>\n",
              "      <td>0.000000e+00</td>\n",
              "      <td>0.000000</td>\n",
              "    </tr>\n",
              "    <tr>\n",
              "      <th>75%</th>\n",
              "      <td>0.000000</td>\n",
              "      <td>0.000000</td>\n",
              "      <td>0.000000</td>\n",
              "      <td>3.000000</td>\n",
              "      <td>0.000000</td>\n",
              "      <td>0.000000e+00</td>\n",
              "      <td>0.000000</td>\n",
              "      <td>0.000000</td>\n",
              "      <td>0.000000</td>\n",
              "      <td>0.00000</td>\n",
              "      <td>...</td>\n",
              "      <td>0.000000</td>\n",
              "      <td>0.000000</td>\n",
              "      <td>0.0</td>\n",
              "      <td>0.000000</td>\n",
              "      <td>0.000000</td>\n",
              "      <td>0.0</td>\n",
              "      <td>0.000000</td>\n",
              "      <td>0.000000</td>\n",
              "      <td>0.000000e+00</td>\n",
              "      <td>0.000000</td>\n",
              "    </tr>\n",
              "    <tr>\n",
              "      <th>max</th>\n",
              "      <td>9.000000</td>\n",
              "      <td>1.000000</td>\n",
              "      <td>207901.336500</td>\n",
              "      <td>35.280000</td>\n",
              "      <td>445500.000000</td>\n",
              "      <td>1.000000e+08</td>\n",
              "      <td>3.000000</td>\n",
              "      <td>6.000000</td>\n",
              "      <td>3.000000</td>\n",
              "      <td>6.00000</td>\n",
              "      <td>...</td>\n",
              "      <td>74.520000</td>\n",
              "      <td>12.000000</td>\n",
              "      <td>0.0</td>\n",
              "      <td>6.000000</td>\n",
              "      <td>33.000000</td>\n",
              "      <td>0.0</td>\n",
              "      <td>3.000000</td>\n",
              "      <td>134666.681100</td>\n",
              "      <td>2.857673e+06</td>\n",
              "      <td>1.000000</td>\n",
              "    </tr>\n",
              "  </tbody>\n",
              "</table>\n",
              "<p>8 rows × 301 columns</p>\n",
              "</div>\n",
              "      <button class=\"colab-df-convert\" onclick=\"convertToInteractive('df-3546bf60-e11b-41b5-882f-e7c0e6c39cb8')\"\n",
              "              title=\"Convert this dataframe to an interactive table.\"\n",
              "              style=\"display:none;\">\n",
              "        \n",
              "  <svg xmlns=\"http://www.w3.org/2000/svg\" height=\"24px\"viewBox=\"0 0 24 24\"\n",
              "       width=\"24px\">\n",
              "    <path d=\"M0 0h24v24H0V0z\" fill=\"none\"/>\n",
              "    <path d=\"M18.56 5.44l.94 2.06.94-2.06 2.06-.94-2.06-.94-.94-2.06-.94 2.06-2.06.94zm-11 1L8.5 8.5l.94-2.06 2.06-.94-2.06-.94L8.5 2.5l-.94 2.06-2.06.94zm10 10l.94 2.06.94-2.06 2.06-.94-2.06-.94-.94-2.06-.94 2.06-2.06.94z\"/><path d=\"M17.41 7.96l-1.37-1.37c-.4-.4-.92-.59-1.43-.59-.52 0-1.04.2-1.43.59L10.3 9.45l-7.72 7.72c-.78.78-.78 2.05 0 2.83L4 21.41c.39.39.9.59 1.41.59.51 0 1.02-.2 1.41-.59l7.78-7.78 2.81-2.81c.8-.78.8-2.07 0-2.86zM5.41 20L4 18.59l7.72-7.72 1.47 1.35L5.41 20z\"/>\n",
              "  </svg>\n",
              "      </button>\n",
              "      \n",
              "  <style>\n",
              "    .colab-df-container {\n",
              "      display:flex;\n",
              "      flex-wrap:wrap;\n",
              "      gap: 12px;\n",
              "    }\n",
              "\n",
              "    .colab-df-convert {\n",
              "      background-color: #E8F0FE;\n",
              "      border: none;\n",
              "      border-radius: 50%;\n",
              "      cursor: pointer;\n",
              "      display: none;\n",
              "      fill: #1967D2;\n",
              "      height: 32px;\n",
              "      padding: 0 0 0 0;\n",
              "      width: 32px;\n",
              "    }\n",
              "\n",
              "    .colab-df-convert:hover {\n",
              "      background-color: #E2EBFA;\n",
              "      box-shadow: 0px 1px 2px rgba(60, 64, 67, 0.3), 0px 1px 3px 1px rgba(60, 64, 67, 0.15);\n",
              "      fill: #174EA6;\n",
              "    }\n",
              "\n",
              "    [theme=dark] .colab-df-convert {\n",
              "      background-color: #3B4455;\n",
              "      fill: #D2E3FC;\n",
              "    }\n",
              "\n",
              "    [theme=dark] .colab-df-convert:hover {\n",
              "      background-color: #434B5C;\n",
              "      box-shadow: 0px 1px 3px 1px rgba(0, 0, 0, 0.15);\n",
              "      filter: drop-shadow(0px 1px 2px rgba(0, 0, 0, 0.3));\n",
              "      fill: #FFFFFF;\n",
              "    }\n",
              "  </style>\n",
              "\n",
              "      <script>\n",
              "        const buttonEl =\n",
              "          document.querySelector('#df-3546bf60-e11b-41b5-882f-e7c0e6c39cb8 button.colab-df-convert');\n",
              "        buttonEl.style.display =\n",
              "          google.colab.kernel.accessAllowed ? 'block' : 'none';\n",
              "\n",
              "        async function convertToInteractive(key) {\n",
              "          const element = document.querySelector('#df-3546bf60-e11b-41b5-882f-e7c0e6c39cb8');\n",
              "          const dataTable =\n",
              "            await google.colab.kernel.invokeFunction('convertToInteractive',\n",
              "                                                     [key], {});\n",
              "          if (!dataTable) return;\n",
              "\n",
              "          const docLinkHtml = 'Like what you see? Visit the ' +\n",
              "            '<a target=\"_blank\" href=https://colab.research.google.com/notebooks/data_table.ipynb>data table notebook</a>'\n",
              "            + ' to learn more about interactive tables.';\n",
              "          element.innerHTML = '';\n",
              "          dataTable['output_type'] = 'display_data';\n",
              "          await google.colab.output.renderOutput(dataTable, element);\n",
              "          const docLink = document.createElement('div');\n",
              "          docLink.innerHTML = docLinkHtml;\n",
              "          element.appendChild(docLink);\n",
              "        }\n",
              "      </script>\n",
              "    </div>\n",
              "  </div>\n",
              "  "
            ]
          },
          "metadata": {},
          "execution_count": 71
        }
      ],
      "source": [
        "df.describe()"
      ]
    },
    {
      "cell_type": "markdown",
      "source": [
        "**OBS IMPORTANTE:** En todos los procedimientos de selección de features, es una buena práctica seleccionar los features examinando solo el conjunto de entrenamiento. Esto es para evitar el over-fiting."
      ],
      "metadata": {
        "id": "2_ZCN9GJeU0H"
      }
    },
    {
      "cell_type": "code",
      "source": [
        "X_train, X_test, y_train, y_test = train_test_split(\n",
        "    df.drop(labels=['target'], axis=1),\n",
        "    df['target'],\n",
        "    test_size=0.3,\n",
        "    random_state=0)"
      ],
      "metadata": {
        "id": "2xJOO9wVeTow"
      },
      "execution_count": null,
      "outputs": []
    },
    {
      "cell_type": "code",
      "source": [
        "X_train_describe = X_train.describe()"
      ],
      "metadata": {
        "id": "d_X6fncffm0b"
      },
      "execution_count": null,
      "outputs": []
    },
    {
      "cell_type": "code",
      "execution_count": null,
      "metadata": {
        "id": "GdCWLaEIv5cg"
      },
      "outputs": [],
      "source": [
        "# mis columnas constantes candidatas las obtendre verificando que la std sea 0 y que la media sea igual al maximo (deberia ser igual al minimo y a los percentiles tmb)\n",
        "# loc me sirve para indexar a las filas por indice\n",
        "const_col_candidates = [col for col in X_train_describe.columns \n",
        "                        if ((X_train_describe[[col]].loc[\"mean\"][0] == X_train_describe[[col]].loc[\"max\"][0]) \n",
        "                            & (X_train_describe[[col]].loc[\"std\"][0]==0))]"
      ]
    },
    {
      "cell_type": "code",
      "execution_count": null,
      "metadata": {
        "id": "l6fBmRVjzboR",
        "colab": {
          "base_uri": "https://localhost:8080/"
        },
        "outputId": "e04614e2-0259-4ef6-d478-29dfd4ef222c"
      },
      "outputs": [
        {
          "output_type": "execute_result",
          "data": {
            "text/plain": [
              "34"
            ]
          },
          "metadata": {},
          "execution_count": 98
        }
      ],
      "source": [
        "len(const_col_candidates)"
      ]
    },
    {
      "cell_type": "markdown",
      "metadata": {
        "id": "LsqLl1mFA0D3"
      },
      "source": [
        "**Usando la función nunique de pandas**\n",
        "\n",
        "**OBS:** \n",
        "* nunique devuelve el número de valores únicos de una particular columna.\n",
        "* unique devuelve un listado de los valores únicos de una particular columna.\n",
        "* => df[col].nunique == len(df[col].unique)"
      ]
    },
    {
      "cell_type": "code",
      "execution_count": null,
      "metadata": {
        "id": "JxrxLoy80Bo-"
      },
      "outputs": [],
      "source": [
        "const_col_candidates = [col for col in X_train.columns if X_train[col].nunique() == 1]"
      ]
    },
    {
      "cell_type": "code",
      "execution_count": null,
      "metadata": {
        "id": "FP-a22zu15aK",
        "colab": {
          "base_uri": "https://localhost:8080/"
        },
        "outputId": "4a5575d5-bc60-4e9f-de13-31aa051aeaa5"
      },
      "outputs": [
        {
          "output_type": "execute_result",
          "data": {
            "text/plain": [
              "34"
            ]
          },
          "metadata": {},
          "execution_count": 100
        }
      ],
      "source": [
        "len(const_col_candidates)"
      ]
    },
    {
      "cell_type": "code",
      "execution_count": null,
      "metadata": {
        "id": "KNJxyLrD_gqQ"
      },
      "outputs": [],
      "source": [
        "# eliminamos los features constantes\n",
        "X_train = X_train.drop(const_col_candidates, axis=1)\n",
        "X_test = X_test.drop(const_col_candidates, axis=1)"
      ]
    },
    {
      "cell_type": "markdown",
      "metadata": {
        "id": "PxauX6zemv-A"
      },
      "source": [
        "### Quasi-constant features\n",
        "\n",
        "Los features casi-constantes son los que muestran un mismo valor en el 95/99% de las observaciones."
      ]
    },
    {
      "cell_type": "code",
      "source": [
        "from sklearn.model_selection import train_test_split"
      ],
      "metadata": {
        "id": "a5y7RDUYm9jT"
      },
      "execution_count": null,
      "outputs": []
    },
    {
      "cell_type": "code",
      "source": [
        "df = pd.read_csv(\"dataset_1.csv\")"
      ],
      "metadata": {
        "id": "1h_E1t5AjImb"
      },
      "execution_count": null,
      "outputs": []
    },
    {
      "cell_type": "markdown",
      "source": [
        "**OBS IMPORTANTE:** En todos los procedimientos de selección de features, es una buena práctica seleccionar los features examinando solo el conjunto de entrenamiento. Esto es para evitar el over-fiting."
      ],
      "metadata": {
        "id": "-xWqzPImjSbM"
      }
    },
    {
      "cell_type": "code",
      "source": [
        "X_train, X_test, y_train, y_test = train_test_split(\n",
        "    df.drop(labels=['target'], axis=1),\n",
        "    df['target'],\n",
        "    test_size=0.3,\n",
        "    random_state=0)"
      ],
      "metadata": {
        "id": "vSz1qGEtjPFz"
      },
      "execution_count": null,
      "outputs": []
    },
    {
      "cell_type": "markdown",
      "source": [
        "Dropeamos los valores constantes"
      ],
      "metadata": {
        "id": "4J0Agyrpkd-G"
      }
    },
    {
      "cell_type": "code",
      "source": [
        "X_train.shape, X_test.shape"
      ],
      "metadata": {
        "colab": {
          "base_uri": "https://localhost:8080/"
        },
        "id": "iKUxQmOutmn0",
        "outputId": "ad3e10ce-f906-482b-fca3-4f603ac4fcbc"
      },
      "execution_count": null,
      "outputs": [
        {
          "output_type": "execute_result",
          "data": {
            "text/plain": [
              "((35000, 300), (15000, 300))"
            ]
          },
          "metadata": {},
          "execution_count": 227
        }
      ]
    },
    {
      "cell_type": "code",
      "source": [
        "const_feat = [col for col in X_train.columns if X_train[col].nunique() == 1]\n",
        "\n",
        "X_train.drop(const_feat, axis=1,inplace=True)\n",
        "X_test.drop(const_feat, axis=1,inplace=True)\n"
      ],
      "metadata": {
        "id": "eDjW9mV4kdH-"
      },
      "execution_count": null,
      "outputs": []
    },
    {
      "cell_type": "code",
      "source": [
        "X_train.shape, X_test.shape"
      ],
      "metadata": {
        "colab": {
          "base_uri": "https://localhost:8080/"
        },
        "id": "CeaQvZUFtpZj",
        "outputId": "f2fc77d0-e495-4f67-dc40-c027a695cd1d"
      },
      "execution_count": null,
      "outputs": [
        {
          "output_type": "execute_result",
          "data": {
            "text/plain": [
              "((35000, 266), (15000, 266))"
            ]
          },
          "metadata": {},
          "execution_count": 229
        }
      ]
    },
    {
      "cell_type": "code",
      "source": [
        "X_train[\"var_1\"].value_counts()"
      ],
      "metadata": {
        "colab": {
          "base_uri": "https://localhost:8080/"
        },
        "id": "Z6lLbbCSX81P",
        "outputId": "35273f6d-6c15-4da6-f6e1-679db085179f"
      },
      "execution_count": null,
      "outputs": [
        {
          "output_type": "execute_result",
          "data": {
            "text/plain": [
              "0    34987\n",
              "3        7\n",
              "6        5\n",
              "9        1\n",
              "Name: var_1, dtype: int64"
            ]
          },
          "metadata": {},
          "execution_count": 230
        }
      ]
    },
    {
      "cell_type": "code",
      "source": [
        "# con el parametro normalize=True podemos calcular la frecuencia de los valores unicos\n",
        "X_train[\"var_1\"].value_counts(normalize=True)"
      ],
      "metadata": {
        "colab": {
          "base_uri": "https://localhost:8080/"
        },
        "id": "RYO0YtxSXSJX",
        "outputId": "dba6b024-adf8-4b04-aa1e-721cc34bfa48"
      },
      "execution_count": null,
      "outputs": [
        {
          "output_type": "execute_result",
          "data": {
            "text/plain": [
              "0    0.999629\n",
              "3    0.000200\n",
              "6    0.000143\n",
              "9    0.000029\n",
              "Name: var_1, dtype: float64"
            ]
          },
          "metadata": {},
          "execution_count": 231
        }
      ]
    },
    {
      "cell_type": "code",
      "execution_count": null,
      "metadata": {
        "id": "8j4h2Rsrm3ts"
      },
      "outputs": [],
      "source": [
        "def qsy_const_feat(df):\n",
        "  \n",
        "  quasi_const_feat = []\n",
        "\n",
        "  for feature in df.columns:\n",
        "\n",
        "    # calculamos la frecuencia de los valores unicos y luego ordenamos de forma descendente\n",
        "    predominant = df[feature].value_counts(normalize=True).sort_values(ascending=False).values[0]\n",
        "\n",
        "    # si dicho valor se repite en la mayoria de las filas de dicha columna => \n",
        "    # puede que dicha columna sea candidata a ser un quasi const feature\n",
        "    if predominant > 0.998:\n",
        "      quasi_const_feat.append(feature)\n",
        "\n",
        "  return quasi_const_feat"
      ]
    },
    {
      "cell_type": "code",
      "source": [
        "X_train.shape, X_test.shape"
      ],
      "metadata": {
        "colab": {
          "base_uri": "https://localhost:8080/"
        },
        "id": "CSMfHPgdsZLD",
        "outputId": "82bd0249-5da4-4320-df90-e2205ac194b2"
      },
      "execution_count": null,
      "outputs": [
        {
          "output_type": "execute_result",
          "data": {
            "text/plain": [
              "((35000, 266), (15000, 266))"
            ]
          },
          "metadata": {},
          "execution_count": 233
        }
      ]
    },
    {
      "cell_type": "code",
      "execution_count": null,
      "metadata": {
        "id": "02QxHVl3DT-X"
      },
      "outputs": [],
      "source": [
        "qsy_const_features = qsy_const_feat(X_train)\n",
        "\n",
        "len(qsy_const_features)\n",
        "\n",
        "# eliminamos los features casi constantes\n",
        "X_test.drop(qsy_const_features, axis=1, inplace=True)\n",
        "X_train.drop(qsy_const_features, axis=1, inplace=True)"
      ]
    },
    {
      "cell_type": "code",
      "source": [
        "X_train.shape, X_test.shape"
      ],
      "metadata": {
        "colab": {
          "base_uri": "https://localhost:8080/"
        },
        "id": "ZspeQrGdsdRO",
        "outputId": "ccfce7cf-55c4-418f-f265-0d581bcbc437"
      },
      "execution_count": null,
      "outputs": [
        {
          "output_type": "execute_result",
          "data": {
            "text/plain": [
              "((35000, 158), (15000, 158))"
            ]
          },
          "metadata": {},
          "execution_count": 235
        }
      ]
    },
    {
      "cell_type": "markdown",
      "metadata": {
        "id": "7H_jvi_emynV"
      },
      "source": [
        "### Duplicated features\n",
        "\n",
        "Es trivial.\n"
      ]
    },
    {
      "cell_type": "code",
      "source": [
        "from sklearn.model_selection import train_test_split"
      ],
      "metadata": {
        "id": "2xtPKQB3pijw"
      },
      "execution_count": null,
      "outputs": []
    },
    {
      "cell_type": "code",
      "source": [
        "df = pd.read_csv(\"dataset_1.csv\")"
      ],
      "metadata": {
        "id": "NKSwlaBRpggd"
      },
      "execution_count": null,
      "outputs": []
    },
    {
      "cell_type": "code",
      "source": [
        "df.head()"
      ],
      "metadata": {
        "colab": {
          "base_uri": "https://localhost:8080/",
          "height": 236
        },
        "id": "rEV01f45pmYk",
        "outputId": "03cadff2-66e4-485d-a937-d2bc4541b1a0"
      },
      "execution_count": null,
      "outputs": [
        {
          "output_type": "execute_result",
          "data": {
            "text/plain": [
              "   var_1  var_2  var_3  var_4  var_5  var_6  var_7  var_8  var_9  var_10  ...  \\\n",
              "0      0      0    0.0   0.00    0.0      0      0      0      0       0  ...   \n",
              "1      0      0    0.0   3.00    0.0      0      0      0      0       0  ...   \n",
              "2      0      0    0.0   5.88    0.0      0      0      0      0       0  ...   \n",
              "3      0      0    0.0  14.10    0.0      0      0      0      0       0  ...   \n",
              "4      0      0    0.0   5.76    0.0      0      0      0      0       0  ...   \n",
              "\n",
              "   var_292  var_293  var_294  var_295  var_296  var_297  var_298  var_299  \\\n",
              "0      0.0        0        0        0        0        0        0      0.0   \n",
              "1      0.0        0        0        0        0        0        0      0.0   \n",
              "2      0.0        0        0        3        0        0        0      0.0   \n",
              "3      0.0        0        0        0        0        0        0      0.0   \n",
              "4      0.0        0        0        0        0        0        0      0.0   \n",
              "\n",
              "      var_300  target  \n",
              "0      0.0000       0  \n",
              "1      0.0000       0  \n",
              "2  67772.7216       0  \n",
              "3      0.0000       0  \n",
              "4      0.0000       0  \n",
              "\n",
              "[5 rows x 301 columns]"
            ],
            "text/html": [
              "\n",
              "  <div id=\"df-c13cf9fc-b1ad-4eff-a551-e4ed48d0734c\">\n",
              "    <div class=\"colab-df-container\">\n",
              "      <div>\n",
              "<style scoped>\n",
              "    .dataframe tbody tr th:only-of-type {\n",
              "        vertical-align: middle;\n",
              "    }\n",
              "\n",
              "    .dataframe tbody tr th {\n",
              "        vertical-align: top;\n",
              "    }\n",
              "\n",
              "    .dataframe thead th {\n",
              "        text-align: right;\n",
              "    }\n",
              "</style>\n",
              "<table border=\"1\" class=\"dataframe\">\n",
              "  <thead>\n",
              "    <tr style=\"text-align: right;\">\n",
              "      <th></th>\n",
              "      <th>var_1</th>\n",
              "      <th>var_2</th>\n",
              "      <th>var_3</th>\n",
              "      <th>var_4</th>\n",
              "      <th>var_5</th>\n",
              "      <th>var_6</th>\n",
              "      <th>var_7</th>\n",
              "      <th>var_8</th>\n",
              "      <th>var_9</th>\n",
              "      <th>var_10</th>\n",
              "      <th>...</th>\n",
              "      <th>var_292</th>\n",
              "      <th>var_293</th>\n",
              "      <th>var_294</th>\n",
              "      <th>var_295</th>\n",
              "      <th>var_296</th>\n",
              "      <th>var_297</th>\n",
              "      <th>var_298</th>\n",
              "      <th>var_299</th>\n",
              "      <th>var_300</th>\n",
              "      <th>target</th>\n",
              "    </tr>\n",
              "  </thead>\n",
              "  <tbody>\n",
              "    <tr>\n",
              "      <th>0</th>\n",
              "      <td>0</td>\n",
              "      <td>0</td>\n",
              "      <td>0.0</td>\n",
              "      <td>0.00</td>\n",
              "      <td>0.0</td>\n",
              "      <td>0</td>\n",
              "      <td>0</td>\n",
              "      <td>0</td>\n",
              "      <td>0</td>\n",
              "      <td>0</td>\n",
              "      <td>...</td>\n",
              "      <td>0.0</td>\n",
              "      <td>0</td>\n",
              "      <td>0</td>\n",
              "      <td>0</td>\n",
              "      <td>0</td>\n",
              "      <td>0</td>\n",
              "      <td>0</td>\n",
              "      <td>0.0</td>\n",
              "      <td>0.0000</td>\n",
              "      <td>0</td>\n",
              "    </tr>\n",
              "    <tr>\n",
              "      <th>1</th>\n",
              "      <td>0</td>\n",
              "      <td>0</td>\n",
              "      <td>0.0</td>\n",
              "      <td>3.00</td>\n",
              "      <td>0.0</td>\n",
              "      <td>0</td>\n",
              "      <td>0</td>\n",
              "      <td>0</td>\n",
              "      <td>0</td>\n",
              "      <td>0</td>\n",
              "      <td>...</td>\n",
              "      <td>0.0</td>\n",
              "      <td>0</td>\n",
              "      <td>0</td>\n",
              "      <td>0</td>\n",
              "      <td>0</td>\n",
              "      <td>0</td>\n",
              "      <td>0</td>\n",
              "      <td>0.0</td>\n",
              "      <td>0.0000</td>\n",
              "      <td>0</td>\n",
              "    </tr>\n",
              "    <tr>\n",
              "      <th>2</th>\n",
              "      <td>0</td>\n",
              "      <td>0</td>\n",
              "      <td>0.0</td>\n",
              "      <td>5.88</td>\n",
              "      <td>0.0</td>\n",
              "      <td>0</td>\n",
              "      <td>0</td>\n",
              "      <td>0</td>\n",
              "      <td>0</td>\n",
              "      <td>0</td>\n",
              "      <td>...</td>\n",
              "      <td>0.0</td>\n",
              "      <td>0</td>\n",
              "      <td>0</td>\n",
              "      <td>3</td>\n",
              "      <td>0</td>\n",
              "      <td>0</td>\n",
              "      <td>0</td>\n",
              "      <td>0.0</td>\n",
              "      <td>67772.7216</td>\n",
              "      <td>0</td>\n",
              "    </tr>\n",
              "    <tr>\n",
              "      <th>3</th>\n",
              "      <td>0</td>\n",
              "      <td>0</td>\n",
              "      <td>0.0</td>\n",
              "      <td>14.10</td>\n",
              "      <td>0.0</td>\n",
              "      <td>0</td>\n",
              "      <td>0</td>\n",
              "      <td>0</td>\n",
              "      <td>0</td>\n",
              "      <td>0</td>\n",
              "      <td>...</td>\n",
              "      <td>0.0</td>\n",
              "      <td>0</td>\n",
              "      <td>0</td>\n",
              "      <td>0</td>\n",
              "      <td>0</td>\n",
              "      <td>0</td>\n",
              "      <td>0</td>\n",
              "      <td>0.0</td>\n",
              "      <td>0.0000</td>\n",
              "      <td>0</td>\n",
              "    </tr>\n",
              "    <tr>\n",
              "      <th>4</th>\n",
              "      <td>0</td>\n",
              "      <td>0</td>\n",
              "      <td>0.0</td>\n",
              "      <td>5.76</td>\n",
              "      <td>0.0</td>\n",
              "      <td>0</td>\n",
              "      <td>0</td>\n",
              "      <td>0</td>\n",
              "      <td>0</td>\n",
              "      <td>0</td>\n",
              "      <td>...</td>\n",
              "      <td>0.0</td>\n",
              "      <td>0</td>\n",
              "      <td>0</td>\n",
              "      <td>0</td>\n",
              "      <td>0</td>\n",
              "      <td>0</td>\n",
              "      <td>0</td>\n",
              "      <td>0.0</td>\n",
              "      <td>0.0000</td>\n",
              "      <td>0</td>\n",
              "    </tr>\n",
              "  </tbody>\n",
              "</table>\n",
              "<p>5 rows × 301 columns</p>\n",
              "</div>\n",
              "      <button class=\"colab-df-convert\" onclick=\"convertToInteractive('df-c13cf9fc-b1ad-4eff-a551-e4ed48d0734c')\"\n",
              "              title=\"Convert this dataframe to an interactive table.\"\n",
              "              style=\"display:none;\">\n",
              "        \n",
              "  <svg xmlns=\"http://www.w3.org/2000/svg\" height=\"24px\"viewBox=\"0 0 24 24\"\n",
              "       width=\"24px\">\n",
              "    <path d=\"M0 0h24v24H0V0z\" fill=\"none\"/>\n",
              "    <path d=\"M18.56 5.44l.94 2.06.94-2.06 2.06-.94-2.06-.94-.94-2.06-.94 2.06-2.06.94zm-11 1L8.5 8.5l.94-2.06 2.06-.94-2.06-.94L8.5 2.5l-.94 2.06-2.06.94zm10 10l.94 2.06.94-2.06 2.06-.94-2.06-.94-.94-2.06-.94 2.06-2.06.94z\"/><path d=\"M17.41 7.96l-1.37-1.37c-.4-.4-.92-.59-1.43-.59-.52 0-1.04.2-1.43.59L10.3 9.45l-7.72 7.72c-.78.78-.78 2.05 0 2.83L4 21.41c.39.39.9.59 1.41.59.51 0 1.02-.2 1.41-.59l7.78-7.78 2.81-2.81c.8-.78.8-2.07 0-2.86zM5.41 20L4 18.59l7.72-7.72 1.47 1.35L5.41 20z\"/>\n",
              "  </svg>\n",
              "      </button>\n",
              "      \n",
              "  <style>\n",
              "    .colab-df-container {\n",
              "      display:flex;\n",
              "      flex-wrap:wrap;\n",
              "      gap: 12px;\n",
              "    }\n",
              "\n",
              "    .colab-df-convert {\n",
              "      background-color: #E8F0FE;\n",
              "      border: none;\n",
              "      border-radius: 50%;\n",
              "      cursor: pointer;\n",
              "      display: none;\n",
              "      fill: #1967D2;\n",
              "      height: 32px;\n",
              "      padding: 0 0 0 0;\n",
              "      width: 32px;\n",
              "    }\n",
              "\n",
              "    .colab-df-convert:hover {\n",
              "      background-color: #E2EBFA;\n",
              "      box-shadow: 0px 1px 2px rgba(60, 64, 67, 0.3), 0px 1px 3px 1px rgba(60, 64, 67, 0.15);\n",
              "      fill: #174EA6;\n",
              "    }\n",
              "\n",
              "    [theme=dark] .colab-df-convert {\n",
              "      background-color: #3B4455;\n",
              "      fill: #D2E3FC;\n",
              "    }\n",
              "\n",
              "    [theme=dark] .colab-df-convert:hover {\n",
              "      background-color: #434B5C;\n",
              "      box-shadow: 0px 1px 3px 1px rgba(0, 0, 0, 0.15);\n",
              "      filter: drop-shadow(0px 1px 2px rgba(0, 0, 0, 0.3));\n",
              "      fill: #FFFFFF;\n",
              "    }\n",
              "  </style>\n",
              "\n",
              "      <script>\n",
              "        const buttonEl =\n",
              "          document.querySelector('#df-c13cf9fc-b1ad-4eff-a551-e4ed48d0734c button.colab-df-convert');\n",
              "        buttonEl.style.display =\n",
              "          google.colab.kernel.accessAllowed ? 'block' : 'none';\n",
              "\n",
              "        async function convertToInteractive(key) {\n",
              "          const element = document.querySelector('#df-c13cf9fc-b1ad-4eff-a551-e4ed48d0734c');\n",
              "          const dataTable =\n",
              "            await google.colab.kernel.invokeFunction('convertToInteractive',\n",
              "                                                     [key], {});\n",
              "          if (!dataTable) return;\n",
              "\n",
              "          const docLinkHtml = 'Like what you see? Visit the ' +\n",
              "            '<a target=\"_blank\" href=https://colab.research.google.com/notebooks/data_table.ipynb>data table notebook</a>'\n",
              "            + ' to learn more about interactive tables.';\n",
              "          element.innerHTML = '';\n",
              "          dataTable['output_type'] = 'display_data';\n",
              "          await google.colab.output.renderOutput(dataTable, element);\n",
              "          const docLink = document.createElement('div');\n",
              "          docLink.innerHTML = docLinkHtml;\n",
              "          element.appendChild(docLink);\n",
              "        }\n",
              "      </script>\n",
              "    </div>\n",
              "  </div>\n",
              "  "
            ]
          },
          "metadata": {},
          "execution_count": 196
        }
      ]
    },
    {
      "cell_type": "markdown",
      "source": [
        "**OBS IMPORTANTE:** En todos los procedimientos de selección de features, es una buena práctica seleccionar los features examinando solo el conjunto de entrenamiento. Esto es para evitar el over-fiting."
      ],
      "metadata": {
        "id": "qxw_uz1XprAr"
      }
    },
    {
      "cell_type": "code",
      "source": [
        "X_train, X_test, y_train, y_test = train_test_split(\n",
        "    df.drop(labels=['target'], axis=1),\n",
        "    df['target'],\n",
        "    test_size=0.3,\n",
        "    random_state=0)"
      ],
      "metadata": {
        "id": "JWE7esp1poYb"
      },
      "execution_count": null,
      "outputs": []
    },
    {
      "cell_type": "code",
      "source": [
        "X_train.shape, X_test.shape"
      ],
      "metadata": {
        "colab": {
          "base_uri": "https://localhost:8080/"
        },
        "id": "Ow2wXOC1qw30",
        "outputId": "5e4226b2-3509-4faa-989e-0e92cec05786"
      },
      "execution_count": null,
      "outputs": [
        {
          "output_type": "execute_result",
          "data": {
            "text/plain": [
              "((35000, 300), (15000, 300))"
            ]
          },
          "metadata": {},
          "execution_count": 198
        }
      ]
    },
    {
      "cell_type": "markdown",
      "source": [
        "Pasamos a remover features constantes y casi constantes"
      ],
      "metadata": {
        "id": "kM2evrJlp0zu"
      }
    },
    {
      "cell_type": "code",
      "source": [
        "const_feat = [col for col in X_train.columns if (X_train[col].nunique() == 1)]\n",
        "\n",
        "# dropeamos features constantes\n",
        "X_train.drop(const_feat, axis=1, inplace=True)\n",
        "X_test.drop(const_feat, axis=1, inplace=True)\n",
        "\n",
        "qsy_const_feat = qsy_const_feat(X_train)\n",
        "\n",
        "# dropeamos features casi constantes\n",
        "X_train.drop(qsy_const_feat, axis=1, inplace=True)\n",
        "X_test.drop(qsy_const_feat, axis=1, inplace=True)"
      ],
      "metadata": {
        "id": "B3fQKhIRp3p1"
      },
      "execution_count": null,
      "outputs": []
    },
    {
      "cell_type": "code",
      "source": [
        "X_train.shape, X_test.shape"
      ],
      "metadata": {
        "colab": {
          "base_uri": "https://localhost:8080/"
        },
        "id": "hOUiEr-1qDRb",
        "outputId": "584c9070-7b7e-44c9-e6af-398bca1e9641"
      },
      "execution_count": null,
      "outputs": [
        {
          "output_type": "execute_result",
          "data": {
            "text/plain": [
              "((35000, 158), (15000, 158))"
            ]
          },
          "metadata": {},
          "execution_count": 200
        }
      ]
    },
    {
      "cell_type": "markdown",
      "source": [
        "Definimos una función  para encontrar features duplicados"
      ],
      "metadata": {
        "id": "IFmS7Dnhq8Eg"
      }
    },
    {
      "cell_type": "code",
      "execution_count": null,
      "metadata": {
        "id": "PZvZRMqum2WP"
      },
      "outputs": [],
      "source": [
        "def duplicated_feat(df):\n",
        "\n",
        "  duplicated_feat_pairs = {}\n",
        "\n",
        "  duplicated_feat = []\n",
        "\n",
        "  for i in range(len(df.columns)):\n",
        "    \n",
        "    # agarro el primer feature\n",
        "    actual_feature = df.columns[i]\n",
        "\n",
        "    if actual_feature not in duplicated_feat:\n",
        "\n",
        "      # actualizo el diccionario para dicho feature indicando que todavia no tiene duplicados\n",
        "      duplicated_feat_pairs[actual_feature] = []\n",
        "\n",
        "      # recorro los demas features\n",
        "      for feat_2 in df.columns[i+1:]:\n",
        "\n",
        "        # checkeo columna a columna con el fueature actual para saber si son duplicados\n",
        "        if df[actual_feature].equals(df[feat_2]):\n",
        "\n",
        "          # actualizo el diccionario en el feature correspondiente indicando cual es su duplicado\n",
        "          duplicated_feat_pairs[actual_feature].append(feat_2)\n",
        "\n",
        "          # actualizo la lista de features duplicados\n",
        "          duplicated_feat.append(feat_2)\n",
        "\n",
        "  return (duplicated_feat, duplicated_feat_pairs)"
      ]
    },
    {
      "cell_type": "markdown",
      "source": [
        "Encontramos un total de 6 features duplicados"
      ],
      "metadata": {
        "id": "Zc0Yo1lorIw9"
      }
    },
    {
      "cell_type": "code",
      "execution_count": null,
      "metadata": {
        "id": "MACU57fZDnRg",
        "colab": {
          "base_uri": "https://localhost:8080/"
        },
        "outputId": "b5565d9e-76bd-4052-e7a8-774630a19f26"
      },
      "outputs": [
        {
          "output_type": "execute_result",
          "data": {
            "text/plain": [
              "6"
            ]
          },
          "metadata": {},
          "execution_count": 202
        }
      ],
      "source": [
        "duplicated_features = duplicated_feat(X_train)\n",
        "\n",
        "len(duplicated_features[0])"
      ]
    },
    {
      "cell_type": "code",
      "execution_count": null,
      "metadata": {
        "id": "8nnKoqAJKyRZ",
        "colab": {
          "base_uri": "https://localhost:8080/"
        },
        "outputId": "b3a8ae78-3a10-44ab-9049-17fdf5281e93"
      },
      "outputs": [
        {
          "output_type": "stream",
          "name": "stdout",
          "text": [
            "var_37 ['var_148']\n",
            "\n",
            "var_84 ['var_199']\n",
            "\n",
            "var_143 ['var_296']\n",
            "\n",
            "var_177 ['var_250']\n",
            "\n",
            "var_226 ['var_232']\n",
            "\n",
            "var_229 ['var_269']\n",
            "\n"
          ]
        }
      ],
      "source": [
        "# iterar en el diccionario de duplicados:\n",
        "for feat in duplicated_features[1].keys():\n",
        "    \n",
        "    # si tiene duplicado entonces tiene mas de un elemento\n",
        "    if len(duplicated_features[1][feat]) > 0:\n",
        "\n",
        "        print(feat, duplicated_features[1][feat])\n",
        "        print()"
      ]
    },
    {
      "cell_type": "markdown",
      "source": [
        "Procedemos a eliminar  los features duplicados"
      ],
      "metadata": {
        "id": "CwjykHZjrMld"
      }
    },
    {
      "cell_type": "code",
      "source": [
        "X_train.shape, X_test.shape"
      ],
      "metadata": {
        "colab": {
          "base_uri": "https://localhost:8080/"
        },
        "id": "R43b0U4Hso5F",
        "outputId": "08076dc3-88aa-426c-ceb2-a959949db612"
      },
      "execution_count": null,
      "outputs": [
        {
          "output_type": "execute_result",
          "data": {
            "text/plain": [
              "((35000, 158), (15000, 158))"
            ]
          },
          "metadata": {},
          "execution_count": 204
        }
      ]
    },
    {
      "cell_type": "code",
      "source": [
        "X_train.drop(duplicated_features[0], axis=1, inplace=True)\n",
        "X_test.drop(duplicated_features[0], axis=1, inplace=True)"
      ],
      "metadata": {
        "id": "AJuVGlB-rIWa"
      },
      "execution_count": null,
      "outputs": []
    },
    {
      "cell_type": "code",
      "source": [
        "X_train.shape, X_test.shape"
      ],
      "metadata": {
        "colab": {
          "base_uri": "https://localhost:8080/"
        },
        "id": "Xx3VWO5osqH4",
        "outputId": "9f2d2eb4-fef0-4f87-82e5-8b0a72a8f9a7"
      },
      "execution_count": null,
      "outputs": [
        {
          "output_type": "execute_result",
          "data": {
            "text/plain": [
              "((35000, 152), (15000, 152))"
            ]
          },
          "metadata": {},
          "execution_count": 206
        }
      ]
    },
    {
      "cell_type": "markdown",
      "metadata": {
        "id": "RVVREVb4NhLd"
      },
      "source": [
        "### Tratar constant features, quasi-constant features y duplicated features con Feature-engine library"
      ]
    },
    {
      "cell_type": "code",
      "execution_count": null,
      "metadata": {
        "id": "vtQN565HN4MT",
        "colab": {
          "base_uri": "https://localhost:8080/"
        },
        "outputId": "c0de958a-d928-4a13-c456-da860d90b09f"
      },
      "outputs": [
        {
          "output_type": "stream",
          "name": "stdout",
          "text": [
            "Looking in indexes: https://pypi.org/simple, https://us-python.pkg.dev/colab-wheels/public/simple/\n",
            "Collecting feature_engine\n",
            "  Downloading feature_engine-1.4.0-py2.py3-none-any.whl (276 kB)\n",
            "\u001b[K     |████████████████████████████████| 276 kB 4.1 MB/s \n",
            "\u001b[?25hRequirement already satisfied: statsmodels>=0.11.1 in /usr/local/lib/python3.7/dist-packages (from feature_engine) (0.12.2)\n",
            "Requirement already satisfied: pandas>=1.0.3 in /usr/local/lib/python3.7/dist-packages (from feature_engine) (1.3.5)\n",
            "Requirement already satisfied: numpy>=1.18.2 in /usr/local/lib/python3.7/dist-packages (from feature_engine) (1.21.6)\n",
            "Requirement already satisfied: scikit-learn>=1.0.0 in /usr/local/lib/python3.7/dist-packages (from feature_engine) (1.0.2)\n",
            "Requirement already satisfied: scipy>=1.4.1 in /usr/local/lib/python3.7/dist-packages (from feature_engine) (1.7.3)\n",
            "Requirement already satisfied: python-dateutil>=2.7.3 in /usr/local/lib/python3.7/dist-packages (from pandas>=1.0.3->feature_engine) (2.8.2)\n",
            "Requirement already satisfied: pytz>=2017.3 in /usr/local/lib/python3.7/dist-packages (from pandas>=1.0.3->feature_engine) (2022.2.1)\n",
            "Requirement already satisfied: six>=1.5 in /usr/local/lib/python3.7/dist-packages (from python-dateutil>=2.7.3->pandas>=1.0.3->feature_engine) (1.15.0)\n",
            "Requirement already satisfied: threadpoolctl>=2.0.0 in /usr/local/lib/python3.7/dist-packages (from scikit-learn>=1.0.0->feature_engine) (3.1.0)\n",
            "Requirement already satisfied: joblib>=0.11 in /usr/local/lib/python3.7/dist-packages (from scikit-learn>=1.0.0->feature_engine) (1.1.0)\n",
            "Requirement already satisfied: patsy>=0.5 in /usr/local/lib/python3.7/dist-packages (from statsmodels>=0.11.1->feature_engine) (0.5.2)\n",
            "Installing collected packages: feature-engine\n",
            "Successfully installed feature-engine-1.4.0\n"
          ]
        }
      ],
      "source": [
        "!pip install feature_engine"
      ]
    },
    {
      "cell_type": "markdown",
      "metadata": {
        "id": "wwn3avrHPkKs"
      },
      "source": [
        "#### Constant features y Quasi-constant features"
      ]
    },
    {
      "cell_type": "code",
      "execution_count": null,
      "metadata": {
        "id": "x7aTNovsNxhk"
      },
      "outputs": [],
      "source": [
        "from feature_engine.selection import DropConstantFeatures\n",
        "\n",
        "from sklearn.model_selection import train_test_split"
      ]
    },
    {
      "cell_type": "code",
      "execution_count": null,
      "metadata": {
        "id": "9W7poExxNqw1"
      },
      "outputs": [],
      "source": [
        "df = pd.read_csv(\"dataset_1.csv\")"
      ]
    },
    {
      "cell_type": "code",
      "source": [
        "df.head()"
      ],
      "metadata": {
        "colab": {
          "base_uri": "https://localhost:8080/",
          "height": 236
        },
        "id": "pHD3Qa3gs9WD",
        "outputId": "8b1ffd00-4fa6-4b11-e861-0e304c50f53a"
      },
      "execution_count": null,
      "outputs": [
        {
          "output_type": "execute_result",
          "data": {
            "text/plain": [
              "   var_1  var_2  var_3  var_4  var_5  var_6  var_7  var_8  var_9  var_10  ...  \\\n",
              "0      0      0    0.0   0.00    0.0      0      0      0      0       0  ...   \n",
              "1      0      0    0.0   3.00    0.0      0      0      0      0       0  ...   \n",
              "2      0      0    0.0   5.88    0.0      0      0      0      0       0  ...   \n",
              "3      0      0    0.0  14.10    0.0      0      0      0      0       0  ...   \n",
              "4      0      0    0.0   5.76    0.0      0      0      0      0       0  ...   \n",
              "\n",
              "   var_292  var_293  var_294  var_295  var_296  var_297  var_298  var_299  \\\n",
              "0      0.0        0        0        0        0        0        0      0.0   \n",
              "1      0.0        0        0        0        0        0        0      0.0   \n",
              "2      0.0        0        0        3        0        0        0      0.0   \n",
              "3      0.0        0        0        0        0        0        0      0.0   \n",
              "4      0.0        0        0        0        0        0        0      0.0   \n",
              "\n",
              "      var_300  target  \n",
              "0      0.0000       0  \n",
              "1      0.0000       0  \n",
              "2  67772.7216       0  \n",
              "3      0.0000       0  \n",
              "4      0.0000       0  \n",
              "\n",
              "[5 rows x 301 columns]"
            ],
            "text/html": [
              "\n",
              "  <div id=\"df-bdef4bbc-7f43-40f5-9a7e-efe273419da4\">\n",
              "    <div class=\"colab-df-container\">\n",
              "      <div>\n",
              "<style scoped>\n",
              "    .dataframe tbody tr th:only-of-type {\n",
              "        vertical-align: middle;\n",
              "    }\n",
              "\n",
              "    .dataframe tbody tr th {\n",
              "        vertical-align: top;\n",
              "    }\n",
              "\n",
              "    .dataframe thead th {\n",
              "        text-align: right;\n",
              "    }\n",
              "</style>\n",
              "<table border=\"1\" class=\"dataframe\">\n",
              "  <thead>\n",
              "    <tr style=\"text-align: right;\">\n",
              "      <th></th>\n",
              "      <th>var_1</th>\n",
              "      <th>var_2</th>\n",
              "      <th>var_3</th>\n",
              "      <th>var_4</th>\n",
              "      <th>var_5</th>\n",
              "      <th>var_6</th>\n",
              "      <th>var_7</th>\n",
              "      <th>var_8</th>\n",
              "      <th>var_9</th>\n",
              "      <th>var_10</th>\n",
              "      <th>...</th>\n",
              "      <th>var_292</th>\n",
              "      <th>var_293</th>\n",
              "      <th>var_294</th>\n",
              "      <th>var_295</th>\n",
              "      <th>var_296</th>\n",
              "      <th>var_297</th>\n",
              "      <th>var_298</th>\n",
              "      <th>var_299</th>\n",
              "      <th>var_300</th>\n",
              "      <th>target</th>\n",
              "    </tr>\n",
              "  </thead>\n",
              "  <tbody>\n",
              "    <tr>\n",
              "      <th>0</th>\n",
              "      <td>0</td>\n",
              "      <td>0</td>\n",
              "      <td>0.0</td>\n",
              "      <td>0.00</td>\n",
              "      <td>0.0</td>\n",
              "      <td>0</td>\n",
              "      <td>0</td>\n",
              "      <td>0</td>\n",
              "      <td>0</td>\n",
              "      <td>0</td>\n",
              "      <td>...</td>\n",
              "      <td>0.0</td>\n",
              "      <td>0</td>\n",
              "      <td>0</td>\n",
              "      <td>0</td>\n",
              "      <td>0</td>\n",
              "      <td>0</td>\n",
              "      <td>0</td>\n",
              "      <td>0.0</td>\n",
              "      <td>0.0000</td>\n",
              "      <td>0</td>\n",
              "    </tr>\n",
              "    <tr>\n",
              "      <th>1</th>\n",
              "      <td>0</td>\n",
              "      <td>0</td>\n",
              "      <td>0.0</td>\n",
              "      <td>3.00</td>\n",
              "      <td>0.0</td>\n",
              "      <td>0</td>\n",
              "      <td>0</td>\n",
              "      <td>0</td>\n",
              "      <td>0</td>\n",
              "      <td>0</td>\n",
              "      <td>...</td>\n",
              "      <td>0.0</td>\n",
              "      <td>0</td>\n",
              "      <td>0</td>\n",
              "      <td>0</td>\n",
              "      <td>0</td>\n",
              "      <td>0</td>\n",
              "      <td>0</td>\n",
              "      <td>0.0</td>\n",
              "      <td>0.0000</td>\n",
              "      <td>0</td>\n",
              "    </tr>\n",
              "    <tr>\n",
              "      <th>2</th>\n",
              "      <td>0</td>\n",
              "      <td>0</td>\n",
              "      <td>0.0</td>\n",
              "      <td>5.88</td>\n",
              "      <td>0.0</td>\n",
              "      <td>0</td>\n",
              "      <td>0</td>\n",
              "      <td>0</td>\n",
              "      <td>0</td>\n",
              "      <td>0</td>\n",
              "      <td>...</td>\n",
              "      <td>0.0</td>\n",
              "      <td>0</td>\n",
              "      <td>0</td>\n",
              "      <td>3</td>\n",
              "      <td>0</td>\n",
              "      <td>0</td>\n",
              "      <td>0</td>\n",
              "      <td>0.0</td>\n",
              "      <td>67772.7216</td>\n",
              "      <td>0</td>\n",
              "    </tr>\n",
              "    <tr>\n",
              "      <th>3</th>\n",
              "      <td>0</td>\n",
              "      <td>0</td>\n",
              "      <td>0.0</td>\n",
              "      <td>14.10</td>\n",
              "      <td>0.0</td>\n",
              "      <td>0</td>\n",
              "      <td>0</td>\n",
              "      <td>0</td>\n",
              "      <td>0</td>\n",
              "      <td>0</td>\n",
              "      <td>...</td>\n",
              "      <td>0.0</td>\n",
              "      <td>0</td>\n",
              "      <td>0</td>\n",
              "      <td>0</td>\n",
              "      <td>0</td>\n",
              "      <td>0</td>\n",
              "      <td>0</td>\n",
              "      <td>0.0</td>\n",
              "      <td>0.0000</td>\n",
              "      <td>0</td>\n",
              "    </tr>\n",
              "    <tr>\n",
              "      <th>4</th>\n",
              "      <td>0</td>\n",
              "      <td>0</td>\n",
              "      <td>0.0</td>\n",
              "      <td>5.76</td>\n",
              "      <td>0.0</td>\n",
              "      <td>0</td>\n",
              "      <td>0</td>\n",
              "      <td>0</td>\n",
              "      <td>0</td>\n",
              "      <td>0</td>\n",
              "      <td>...</td>\n",
              "      <td>0.0</td>\n",
              "      <td>0</td>\n",
              "      <td>0</td>\n",
              "      <td>0</td>\n",
              "      <td>0</td>\n",
              "      <td>0</td>\n",
              "      <td>0</td>\n",
              "      <td>0.0</td>\n",
              "      <td>0.0000</td>\n",
              "      <td>0</td>\n",
              "    </tr>\n",
              "  </tbody>\n",
              "</table>\n",
              "<p>5 rows × 301 columns</p>\n",
              "</div>\n",
              "      <button class=\"colab-df-convert\" onclick=\"convertToInteractive('df-bdef4bbc-7f43-40f5-9a7e-efe273419da4')\"\n",
              "              title=\"Convert this dataframe to an interactive table.\"\n",
              "              style=\"display:none;\">\n",
              "        \n",
              "  <svg xmlns=\"http://www.w3.org/2000/svg\" height=\"24px\"viewBox=\"0 0 24 24\"\n",
              "       width=\"24px\">\n",
              "    <path d=\"M0 0h24v24H0V0z\" fill=\"none\"/>\n",
              "    <path d=\"M18.56 5.44l.94 2.06.94-2.06 2.06-.94-2.06-.94-.94-2.06-.94 2.06-2.06.94zm-11 1L8.5 8.5l.94-2.06 2.06-.94-2.06-.94L8.5 2.5l-.94 2.06-2.06.94zm10 10l.94 2.06.94-2.06 2.06-.94-2.06-.94-.94-2.06-.94 2.06-2.06.94z\"/><path d=\"M17.41 7.96l-1.37-1.37c-.4-.4-.92-.59-1.43-.59-.52 0-1.04.2-1.43.59L10.3 9.45l-7.72 7.72c-.78.78-.78 2.05 0 2.83L4 21.41c.39.39.9.59 1.41.59.51 0 1.02-.2 1.41-.59l7.78-7.78 2.81-2.81c.8-.78.8-2.07 0-2.86zM5.41 20L4 18.59l7.72-7.72 1.47 1.35L5.41 20z\"/>\n",
              "  </svg>\n",
              "      </button>\n",
              "      \n",
              "  <style>\n",
              "    .colab-df-container {\n",
              "      display:flex;\n",
              "      flex-wrap:wrap;\n",
              "      gap: 12px;\n",
              "    }\n",
              "\n",
              "    .colab-df-convert {\n",
              "      background-color: #E8F0FE;\n",
              "      border: none;\n",
              "      border-radius: 50%;\n",
              "      cursor: pointer;\n",
              "      display: none;\n",
              "      fill: #1967D2;\n",
              "      height: 32px;\n",
              "      padding: 0 0 0 0;\n",
              "      width: 32px;\n",
              "    }\n",
              "\n",
              "    .colab-df-convert:hover {\n",
              "      background-color: #E2EBFA;\n",
              "      box-shadow: 0px 1px 2px rgba(60, 64, 67, 0.3), 0px 1px 3px 1px rgba(60, 64, 67, 0.15);\n",
              "      fill: #174EA6;\n",
              "    }\n",
              "\n",
              "    [theme=dark] .colab-df-convert {\n",
              "      background-color: #3B4455;\n",
              "      fill: #D2E3FC;\n",
              "    }\n",
              "\n",
              "    [theme=dark] .colab-df-convert:hover {\n",
              "      background-color: #434B5C;\n",
              "      box-shadow: 0px 1px 3px 1px rgba(0, 0, 0, 0.15);\n",
              "      filter: drop-shadow(0px 1px 2px rgba(0, 0, 0, 0.3));\n",
              "      fill: #FFFFFF;\n",
              "    }\n",
              "  </style>\n",
              "\n",
              "      <script>\n",
              "        const buttonEl =\n",
              "          document.querySelector('#df-bdef4bbc-7f43-40f5-9a7e-efe273419da4 button.colab-df-convert');\n",
              "        buttonEl.style.display =\n",
              "          google.colab.kernel.accessAllowed ? 'block' : 'none';\n",
              "\n",
              "        async function convertToInteractive(key) {\n",
              "          const element = document.querySelector('#df-bdef4bbc-7f43-40f5-9a7e-efe273419da4');\n",
              "          const dataTable =\n",
              "            await google.colab.kernel.invokeFunction('convertToInteractive',\n",
              "                                                     [key], {});\n",
              "          if (!dataTable) return;\n",
              "\n",
              "          const docLinkHtml = 'Like what you see? Visit the ' +\n",
              "            '<a target=\"_blank\" href=https://colab.research.google.com/notebooks/data_table.ipynb>data table notebook</a>'\n",
              "            + ' to learn more about interactive tables.';\n",
              "          element.innerHTML = '';\n",
              "          dataTable['output_type'] = 'display_data';\n",
              "          await google.colab.output.renderOutput(dataTable, element);\n",
              "          const docLink = document.createElement('div');\n",
              "          docLink.innerHTML = docLinkHtml;\n",
              "          element.appendChild(docLink);\n",
              "        }\n",
              "      </script>\n",
              "    </div>\n",
              "  </div>\n",
              "  "
            ]
          },
          "metadata": {},
          "execution_count": 275
        }
      ]
    },
    {
      "cell_type": "markdown",
      "source": [
        "**OBS IMPORTANTE:** En todos los procedimientos de selección de features, es una buena práctica seleccionar los features examinando solo el conjunto de entrenamiento. Esto es para evitar el over-fiting."
      ],
      "metadata": {
        "id": "uJk-lVCStDnh"
      }
    },
    {
      "cell_type": "code",
      "source": [
        "X_train, X_test, y_train, y_test = train_test_split(\n",
        "    df.drop(labels=['target'], axis=1),\n",
        "    df['target'],\n",
        "    test_size=0.3,\n",
        "    random_state=0)"
      ],
      "metadata": {
        "id": "h6OT4Ldms10Z"
      },
      "execution_count": null,
      "outputs": []
    },
    {
      "cell_type": "markdown",
      "metadata": {
        "id": "onkJVbSHOXZd"
      },
      "source": [
        "DropConstantFeatures elimina features constantes y casi constantes de un conjunto de datos. Podemos eliminar features constantes configurando el parámetro tol en 1, o cuasi-constante con valores más pequeños para dicho parámetro."
      ]
    },
    {
      "cell_type": "code",
      "source": [
        "X_train.shape, X_test.shape"
      ],
      "metadata": {
        "colab": {
          "base_uri": "https://localhost:8080/"
        },
        "id": "OeNd6LRStSky",
        "outputId": "e3e00c06-4148-40c6-9a4d-046037719413"
      },
      "execution_count": null,
      "outputs": [
        {
          "output_type": "execute_result",
          "data": {
            "text/plain": [
              "((35000, 300), (15000, 300))"
            ]
          },
          "metadata": {},
          "execution_count": 277
        }
      ]
    },
    {
      "cell_type": "code",
      "execution_count": null,
      "metadata": {
        "id": "PC6fY73xNw5K"
      },
      "outputs": [],
      "source": [
        "# constant Features\n",
        "rcf = DropConstantFeatures(tol=1, variables=None, missing_values='raise')\n",
        "\n",
        "rcf.fit(X_train)\n",
        "\n",
        "# obtenemos el listado de los constant features\n",
        "constant_features = rcf.features_to_drop_\n",
        "\n",
        "# dropeamos las columnas\n",
        "X_train = rcf.transform(X_train)\n",
        "X_test = rcf.transform(X_test)"
      ]
    },
    {
      "cell_type": "code",
      "source": [
        "X_train.shape, X_test.shape"
      ],
      "metadata": {
        "colab": {
          "base_uri": "https://localhost:8080/"
        },
        "id": "TWXPmodytV2i",
        "outputId": "ea971463-d61c-4e1e-d863-3f46db3922d4"
      },
      "execution_count": null,
      "outputs": [
        {
          "output_type": "execute_result",
          "data": {
            "text/plain": [
              "((35000, 266), (15000, 266))"
            ]
          },
          "metadata": {},
          "execution_count": 279
        }
      ]
    },
    {
      "cell_type": "code",
      "execution_count": null,
      "metadata": {
        "id": "0DxB9b6OPBYy"
      },
      "outputs": [],
      "source": [
        "# quasi-constant Features\n",
        "rqcf = DropConstantFeatures(tol=0.998, variables=None, missing_values='raise')\n",
        "\n",
        "rqcf.fit(X_train)\n",
        "\n",
        "X_train = rqcf.transform(X_train)\n",
        "X_test = rqcf.transform(X_test)"
      ]
    },
    {
      "cell_type": "code",
      "source": [
        "X_train.shape, X_test.shape"
      ],
      "metadata": {
        "colab": {
          "base_uri": "https://localhost:8080/"
        },
        "id": "KIv1BJCRtXGc",
        "outputId": "7b672ffa-41b5-4499-efbe-1ada2522776e"
      },
      "execution_count": null,
      "outputs": [
        {
          "output_type": "execute_result",
          "data": {
            "text/plain": [
              "((35000, 158), (15000, 158))"
            ]
          },
          "metadata": {},
          "execution_count": 281
        }
      ]
    },
    {
      "cell_type": "markdown",
      "metadata": {
        "id": "rhX-YM1qPtb-"
      },
      "source": [
        "#### Duplicated features"
      ]
    },
    {
      "cell_type": "code",
      "execution_count": null,
      "metadata": {
        "id": "kxEx6jvqPyOr"
      },
      "outputs": [],
      "source": [
        "from feature_engine.selection import DropDuplicateFeatures\n",
        "\n",
        "from sklearn.model_selection import train_test_split"
      ]
    },
    {
      "cell_type": "code",
      "execution_count": null,
      "metadata": {
        "id": "doiDvACkPv4A"
      },
      "outputs": [],
      "source": [
        "df = pd.read_csv(\"dataset_1.csv\")"
      ]
    },
    {
      "cell_type": "markdown",
      "source": [
        "**OBS IMPORTANTE:** En todos los procedimientos de selección de features, es una buena práctica seleccionar los features examinando solo el conjunto de entrenamiento. Esto es para evitar el over-fiting."
      ],
      "metadata": {
        "id": "8FQRKbaXvUB5"
      }
    },
    {
      "cell_type": "code",
      "source": [
        "X_train, X_test, y_train, y_test = train_test_split(\n",
        "    df.drop(labels=['target'], axis=1),\n",
        "    df['target'],\n",
        "    test_size=0.3,\n",
        "    random_state=0)"
      ],
      "metadata": {
        "id": "eYDmeBg2vS4n"
      },
      "execution_count": null,
      "outputs": []
    },
    {
      "cell_type": "markdown",
      "source": [
        "Dropeamos features constantes y casi constantes"
      ],
      "metadata": {
        "id": "Z6o8F8jSvgTU"
      }
    },
    {
      "cell_type": "code",
      "source": [
        "X_train.shape, X_test.shape"
      ],
      "metadata": {
        "colab": {
          "base_uri": "https://localhost:8080/"
        },
        "id": "yibUqwaewYVk",
        "outputId": "b319e937-de24-4200-c70d-13e61d677c51"
      },
      "execution_count": null,
      "outputs": [
        {
          "output_type": "execute_result",
          "data": {
            "text/plain": [
              "((35000, 300), (15000, 300))"
            ]
          },
          "metadata": {},
          "execution_count": 298
        }
      ]
    },
    {
      "cell_type": "code",
      "source": [
        "rqcf = DropConstantFeatures(tol=0.998, variables=None, missing_values='raise')\n",
        "\n",
        "rqcf.fit(X_train)\n",
        "\n",
        "X_train = rqcf.transform(X_train)\n",
        "X_test = rqcf.transform(X_test)"
      ],
      "metadata": {
        "id": "vnXdbjPTvkhW"
      },
      "execution_count": null,
      "outputs": []
    },
    {
      "cell_type": "code",
      "source": [
        "X_train.shape, X_test.shape"
      ],
      "metadata": {
        "colab": {
          "base_uri": "https://localhost:8080/"
        },
        "id": "FpWVFe1_wcN7",
        "outputId": "c497c0eb-7f5e-4d8f-a302-c9c33039a1bd"
      },
      "execution_count": null,
      "outputs": [
        {
          "output_type": "execute_result",
          "data": {
            "text/plain": [
              "((35000, 158), (15000, 158))"
            ]
          },
          "metadata": {},
          "execution_count": 300
        }
      ]
    },
    {
      "cell_type": "code",
      "execution_count": null,
      "metadata": {
        "id": "VNZEq1LRP6sV",
        "colab": {
          "base_uri": "https://localhost:8080/"
        },
        "outputId": "120f5b42-fec2-43b4-9b0b-6748d707c79f"
      },
      "outputs": [
        {
          "output_type": "execute_result",
          "data": {
            "text/plain": [
              "{'var_148', 'var_199', 'var_232', 'var_250', 'var_269', 'var_296'}"
            ]
          },
          "metadata": {},
          "execution_count": 301
        }
      ],
      "source": [
        "# seteamos el selector\n",
        "rdf = DropDuplicateFeatures(variables=None, missing_values='raise')\n",
        "\n",
        "rdf.fit(X_train)\n",
        "\n",
        "rdf.features_to_drop_"
      ]
    },
    {
      "cell_type": "markdown",
      "source": [
        "Dropeamos los features duplicados"
      ],
      "metadata": {
        "id": "Tk_d33CWw5nm"
      }
    },
    {
      "cell_type": "code",
      "source": [
        "X_train.shape , X_test.shape"
      ],
      "metadata": {
        "colab": {
          "base_uri": "https://localhost:8080/"
        },
        "id": "7nLJiVCow7LM",
        "outputId": "23b909ab-a7c5-4429-bfae-287b1fe049f4"
      },
      "execution_count": null,
      "outputs": [
        {
          "output_type": "execute_result",
          "data": {
            "text/plain": [
              "((35000, 158), (15000, 158))"
            ]
          },
          "metadata": {},
          "execution_count": 302
        }
      ]
    },
    {
      "cell_type": "code",
      "source": [
        "X_train = rdf.transform(X_train)\n",
        "X_test =rdf.transform(X_test)"
      ],
      "metadata": {
        "id": "O-I4xyghw2Br"
      },
      "execution_count": null,
      "outputs": []
    },
    {
      "cell_type": "code",
      "source": [
        "X_train.shape , X_test.shape"
      ],
      "metadata": {
        "colab": {
          "base_uri": "https://localhost:8080/"
        },
        "id": "GiNLwX_KxHV6",
        "outputId": "bf9c09f1-d19f-444c-cbf3-f66a55e44bb2"
      },
      "execution_count": null,
      "outputs": [
        {
          "output_type": "execute_result",
          "data": {
            "text/plain": [
              "((35000, 152), (15000, 152))"
            ]
          },
          "metadata": {},
          "execution_count": 304
        }
      ]
    },
    {
      "cell_type": "markdown",
      "metadata": {
        "id": "ISwCMdQcVuLV"
      },
      "source": [
        "## Correlation\n",
        "\n",
        "La correlación es una medida de la relación LINEAL entre dos o más variables.\n",
        "\n",
        "* Atrevés de la correlación podemos predecir una variable a partir de otra/s (\"buenas\" variables están altamente correlacionadas con el target)\n",
        "\n",
        "* Las variables deberían estar correlacionadas con el target, pero no-correlacionadas entre ellas, pues si lo estuviesen estaríamos teniendo información redundante. Ejm: tenemos una variable \"fecha-nacimiento\" y otra \"edad\".\n",
        "\n",
        "**Los óptimos conjuntos de features están altamente relacionados con el target y no relacionados entre ellos.**"
      ]
    },
    {
      "cell_type": "markdown",
      "metadata": {
        "id": "rWZKSlaDeAj3"
      },
      "source": [
        "En la práctica, la selección de features debe realizarse después del data cleaning (por lo que no trataremos con variables categoricas o nans, por lo menos en estos ejemplos)."
      ]
    },
    {
      "cell_type": "code",
      "source": [
        "from sklearn.model_selection import train_test_split"
      ],
      "metadata": {
        "id": "G7g3eGOUxrbR"
      },
      "execution_count": null,
      "outputs": []
    },
    {
      "cell_type": "code",
      "execution_count": null,
      "metadata": {
        "id": "uQmnMUZgdpKS"
      },
      "outputs": [],
      "source": [
        "df = pd.read_csv(\"dataset_2.csv\", nrows=50000)"
      ]
    },
    {
      "cell_type": "code",
      "execution_count": null,
      "metadata": {
        "id": "JlYjn9hQdumw"
      },
      "outputs": [],
      "source": [
        "X_train, X_test, y_train, y_test = train_test_split(\n",
        "    df.drop(labels=['target'], axis=1),\n",
        "    df['target'],\n",
        "    test_size=0.3,\n",
        "    random_state=0)"
      ]
    },
    {
      "cell_type": "markdown",
      "metadata": {
        "id": "4IpMJ92ofAo6"
      },
      "source": [
        "**Correlation heatmap:**"
      ]
    },
    {
      "cell_type": "code",
      "execution_count": null,
      "metadata": {
        "id": "LRVI-RoSepNB",
        "colab": {
          "base_uri": "https://localhost:8080/",
          "height": 1000
        },
        "outputId": "c96924c8-4025-4f87-938e-925a828dbb92"
      },
      "outputs": [
        {
          "output_type": "execute_result",
          "data": {
            "text/plain": [
              "<matplotlib.axes._subplots.AxesSubplot at 0x7f4ee83c98d0>"
            ]
          },
          "metadata": {},
          "execution_count": 311
        },
        {
          "output_type": "display_data",
          "data": {
            "text/plain": [
              "<Figure size 1440x1440 with 2 Axes>"
            ],
            "image/png": "[encoded data removed]"
          },
          "metadata": {
            "needs_background": "light"
          }
        }
      ],
      "source": [
        "corr = X_train.corr(method='pearson')\n",
        "\n",
        "cmap = sns.diverging_palette(220, 20, as_cmap=True)\n",
        "\n",
        "f,ax = plt.subplots(figsize=(20,20))\n",
        "sns.heatmap(corr, annot=False, cmap=cmap)"
      ]
    },
    {
      "cell_type": "markdown",
      "metadata": {
        "id": "Db8z871wfsbo"
      },
      "source": [
        "**Correlation scatterplots:**"
      ]
    },
    {
      "cell_type": "code",
      "execution_count": null,
      "metadata": {
        "id": "A1s6tgIpfsF2",
        "colab": {
          "base_uri": "https://localhost:8080/"
        },
        "outputId": "49c79aae-c3db-4bbf-9cd8-6c0771b031cf"
      },
      "outputs": [
        {
          "output_type": "execute_result",
          "data": {
            "text/plain": [
              "['var_5', 'var_28', 'var_75']"
            ]
          },
          "metadata": {},
          "execution_count": 312
        }
      ],
      "source": [
        "high_correlated = []\n",
        "\n",
        "# recorro todas las variables y me fijo su correlacion con la variable_5\n",
        "for var in corr[\"var_5\"].index.tolist():\n",
        "\n",
        "  # altamente correlacionada con la variable 5\n",
        "  if corr[\"var_5\"].loc[[var]][0] >0.8:\n",
        "    high_correlated.append(var)\n",
        "\n",
        "high_correlated"
      ]
    },
    {
      "cell_type": "markdown",
      "metadata": {
        "id": "hSNbNeO3EY6n"
      },
      "source": [
        "Podemos apreciar como features con alta correlación presentan un \"gráfico lineal\""
      ]
    },
    {
      "cell_type": "code",
      "execution_count": null,
      "metadata": {
        "id": "f71HIxjLig6R",
        "colab": {
          "base_uri": "https://localhost:8080/",
          "height": 622
        },
        "outputId": "cb2bb156-172c-4385-9fd4-7a3fde72f29a"
      },
      "outputs": [
        {
          "output_type": "display_data",
          "data": {
            "text/plain": [
              "<Figure size 720x720 with 2 Axes>"
            ],
            "image/png": "[encoded data removed]"
          },
          "metadata": {
            "needs_background": "light"
          }
        }
      ],
      "source": [
        "fig, axs = plt.subplots(2,1,figsize=(10,10))\n",
        "\n",
        "axs[0].set_title(\"Correlation scatterplot_1\")\n",
        "axs[1].set_title(\"Correlation scatterplot_2\")\n",
        "\n",
        "sns.scatterplot(x=X_train['var_5'], y=X_train['var_28'], ax=axs[0])\n",
        "sns.scatterplot(x=X_train['var_5'], y=X_train['var_75'], ax=axs[1])\n",
        "plt.show()"
      ]
    },
    {
      "cell_type": "markdown",
      "metadata": {
        "id": "Kbb5ajgoaFDW"
      },
      "source": [
        "### Method_1 (Removing correlated features)\n",
        "\n",
        "Lo que plantea el metodo 1 es:\n",
        "1. Seleccionamos un feature: \"a\".  \n",
        "2. Calculamos las correlaciones de \"a\" con los demás features.\n",
        "3. Si existen features correlacionados con \"a\" = los eliminamos, quedándonos con \"a\".\n",
        "4. Repetimos _1) con otro feature.\n",
        "\n",
        "**OBS:** Al eliminar un feature podríamos estar perdiendo poder de predicción del target."
      ]
    },
    {
      "cell_type": "code",
      "source": [
        "from sklearn.model_selection import train_test_split"
      ],
      "metadata": {
        "id": "qnr8oVe6zURf"
      },
      "execution_count": null,
      "outputs": []
    },
    {
      "cell_type": "code",
      "source": [
        "df = pd.read_csv(\"dataset_2.csv\")"
      ],
      "metadata": {
        "id": "T4i17n8XzS9b"
      },
      "execution_count": null,
      "outputs": []
    },
    {
      "cell_type": "code",
      "execution_count": null,
      "metadata": {
        "id": "BN6MbeFHS28I"
      },
      "outputs": [],
      "source": [
        "X_train, X_test, y_train, y_test = train_test_split(\n",
        "    df.drop(labels=['target'], axis=1),\n",
        "    df['target'],\n",
        "    test_size=0.3,\n",
        "    random_state=0)"
      ]
    },
    {
      "cell_type": "code",
      "execution_count": null,
      "metadata": {
        "id": "ZJuwYIxaTDi8"
      },
      "outputs": [],
      "source": [
        "def method_1(df, limit):\n",
        "\n",
        "  # guardaremos los nombres de las columnas correlacionadas\n",
        "  col_corr = []\n",
        "\n",
        "  corr = df.corr(method='pearson')\n",
        "\n",
        "  for i in range(len(corr.index)):\n",
        "    \n",
        "    col_1 = corr[corr.columns[i]].index[i]\n",
        "\n",
        "    # este limite nos asegura recorrer solo la matriz triangular inferior\n",
        "    # ya que si considerariamos toda la matriz estariamos considerando valores ya comparados.\n",
        "    for j in range(i):\n",
        "\n",
        "      col_2 = corr[corr.columns[j]].index[j]\n",
        "      corr_value = abs(corr[col_1].loc[[col_2]][0])\n",
        "\n",
        "      if corr_value > limit:\n",
        "\n",
        "        # no consideramos la correlacion de un feature consigo mismo\n",
        "        if col_2 != col_1:\n",
        "\n",
        "          # guardamos en nuesta variable de columnas de correlaciones una 3-upla\n",
        "          # el valor de la correlacion y las columnas involucradas\n",
        "          col_corr.append((corr_value, col_1, col_2))\n",
        "\n",
        "  return col_corr"
      ]
    },
    {
      "cell_type": "code",
      "execution_count": null,
      "metadata": {
        "id": "rowu0sE_T_G8",
        "colab": {
          "base_uri": "https://localhost:8080/"
        },
        "outputId": "0fa065b6-77e9-485f-8c22-35e48b5953c4"
      },
      "outputs": [
        {
          "output_type": "execute_result",
          "data": {
            "text/plain": [
              "[(0.8632980418993791, 'var_17', 'var_13'),\n",
              " (0.9813409653986921, 'var_24', 'var_22'),\n",
              " (0.9536721652384935, 'var_28', 'var_5'),\n",
              " (0.8341792843814466, 'var_29', 'var_19'),\n",
              " (0.990430734999363, 'var_32', 'var_22'),\n",
              " (0.9804113632495293, 'var_32', 'var_24'),\n",
              " (0.9443605986205844, 'var_33', 'var_11'),\n",
              " (0.9744609333741678, 'var_39', 'var_22'),\n",
              " (0.9431153866790611, 'var_39', 'var_24'),\n",
              " (0.9748779191363224, 'var_39', 'var_32'),\n",
              " (0.91910579117498, 'var_42', 'var_22'),\n",
              " (0.9672922649953389, 'var_42', 'var_24'),\n",
              " (0.9199183443060952, 'var_42', 'var_32'),\n",
              " (0.8567453370818933, 'var_42', 'var_39'),\n",
              " (0.9654741987814475, 'var_43', 'var_18'),\n",
              " (0.8358214281472581, 'var_44', 'var_29'),\n",
              " (0.8150241475398633, 'var_54', 'var_24'),\n",
              " (0.8287090109274785, 'var_54', 'var_42'),\n",
              " (0.837404481636077, 'var_57', 'var_15'),\n",
              " (0.8318090759398273, 'var_57', 'var_26'),\n",
              " (0.8207993837973238, 'var_57', 'var_37'),\n",
              " (0.8440857367712562, 'var_57', 'var_56'),\n",
              " (0.8131947525226287, 'var_59', 'var_26'),\n",
              " (0.8306144274586774, 'var_59', 'var_37'),\n",
              " (0.9757443944210573, 'var_59', 'var_56'),\n",
              " (0.9223172758595293, 'var_59', 'var_57'),\n",
              " (0.9244600573582408, 'var_64', 'var_63'),\n",
              " (0.8925221926487203, 'var_66', 'var_52'),\n",
              " (0.895397163737887, 'var_70', 'var_21'),\n",
              " (0.9702627369945973, 'var_72', 'var_50'),\n",
              " (0.8831191655903585, 'var_74', 'var_40'),\n",
              " (0.8616179292025201, 'var_75', 'var_5'),\n",
              " (0.9044132378219414, 'var_75', 'var_28'),\n",
              " (0.9319113670252244, 'var_76', 'var_22'),\n",
              " (0.9638478619724008, 'var_76', 'var_24'),\n",
              " (0.9317176285795014, 'var_76', 'var_32'),\n",
              " (0.8784901678462331, 'var_76', 'var_39'),\n",
              " (0.9548816934982393, 'var_76', 'var_42'),\n",
              " (0.9949233674877688, 'var_80', 'var_3'),\n",
              " (0.959138004504806, 'var_84', 'var_63'),\n",
              " (0.8988967009471305, 'var_84', 'var_64'),\n",
              " (0.8340503905506552, 'var_85', 'var_40'),\n",
              " (0.9263326179868797, 'var_85', 'var_74'),\n",
              " (0.8174556016431926, 'var_87', 'var_35'),\n",
              " (0.8943929785046758, 'var_88', 'var_21'),\n",
              " (0.9489465365954278, 'var_88', 'var_70'),\n",
              " (0.967894593929465, 'var_94', 'var_46'),\n",
              " (0.9256781174818735, 'var_95', 'var_90'),\n",
              " (0.9401844891006294, 'var_97', 'var_63'),\n",
              " (0.899924679175426, 'var_97', 'var_84'),\n",
              " (0.9386294358332122, 'var_100', 'var_98'),\n",
              " (0.8846845198617836, 'var_101', 'var_40'),\n",
              " (0.8692520747111965, 'var_101', 'var_74'),\n",
              " (0.9165004542879451, 'var_101', 'var_85'),\n",
              " (0.8524708998226349, 'var_101', 'var_89'),\n",
              " (0.9147225559783524, 'var_102', 'var_23'),\n",
              " (0.8294949944599774, 'var_104', 'var_60'),\n",
              " (0.8045991330267654, 'var_104', 'var_103'),\n",
              " (0.8691044024208836, 'var_105', 'var_40'),\n",
              " (0.8907312412181567, 'var_105', 'var_74'),\n",
              " (0.8512454542647947, 'var_105', 'var_85'),\n",
              " (0.8373021595141544, 'var_105', 'var_101'),\n",
              " (0.9071460024082904, 'var_106', 'var_77'),\n",
              " (0.8898468328419876, 'var_108', 'var_30'),\n",
              " (0.9877770388061411, 'var_109', 'var_56'),\n",
              " (0.9448417564125773, 'var_109', 'var_59')]"
            ]
          },
          "metadata": {},
          "execution_count": 525
        }
      ],
      "source": [
        "corr_features = method_1(X_train, 0.8)\n",
        "corr_features"
      ]
    },
    {
      "cell_type": "code",
      "source": [
        "len(corr_features)"
      ],
      "metadata": {
        "colab": {
          "base_uri": "https://localhost:8080/"
        },
        "id": "612pyipw0bJr",
        "outputId": "f7e93915-b390-474c-de99-2fe1e2424e32"
      },
      "execution_count": null,
      "outputs": [
        {
          "output_type": "execute_result",
          "data": {
            "text/plain": [
              "66"
            ]
          },
          "metadata": {},
          "execution_count": 526
        }
      ]
    },
    {
      "cell_type": "markdown",
      "source": [
        "Vemos que en la lista de 3-uplas, el segundo elemento se repite procedemos a eliminar los duplicados."
      ],
      "metadata": {
        "id": "TRVmCoVc0umi"
      }
    },
    {
      "cell_type": "code",
      "execution_count": null,
      "metadata": {
        "id": "p4jIOBpOWHaU"
      },
      "outputs": [],
      "source": [
        "# eliminamos los duplicados creando un conjunto\n",
        "# puesto que los conjuntos en python no admiten duplicados\n",
        "var_to_delete = {var[2] for var in corr_features}"
      ]
    },
    {
      "cell_type": "markdown",
      "metadata": {
        "id": "gDgNoja3FhK3"
      },
      "source": [
        "=> Obtenemos 40 features altamente correlacionados con otros."
      ]
    },
    {
      "cell_type": "code",
      "execution_count": null,
      "metadata": {
        "id": "UiR3LSva5jHc",
        "colab": {
          "base_uri": "https://localhost:8080/"
        },
        "outputId": "1d9629b8-9965-4999-ddb0-ec7746b4232e"
      },
      "outputs": [
        {
          "output_type": "execute_result",
          "data": {
            "text/plain": [
              "40"
            ]
          },
          "metadata": {},
          "execution_count": 528
        }
      ],
      "source": [
        "len(var_to_delete)"
      ]
    },
    {
      "cell_type": "markdown",
      "metadata": {
        "id": "4GCrWAxElKlP"
      },
      "source": [
        "Una vez detectado cuales son los features altamente correlacionados procedemos a dropearlos del DataFrame"
      ]
    },
    {
      "cell_type": "code",
      "source": [
        "X_train.shape, X_test.shape"
      ],
      "metadata": {
        "colab": {
          "base_uri": "https://localhost:8080/"
        },
        "id": "c22mz1So1Lgi",
        "outputId": "e9172542-24d3-498b-d499-8781f41123ac"
      },
      "execution_count": null,
      "outputs": [
        {
          "output_type": "execute_result",
          "data": {
            "text/plain": [
              "((35000, 108), (15000, 108))"
            ]
          },
          "metadata": {},
          "execution_count": 529
        }
      ]
    },
    {
      "cell_type": "code",
      "execution_count": null,
      "metadata": {
        "id": "XPaeuDUClCrB",
        "colab": {
          "base_uri": "https://localhost:8080/"
        },
        "outputId": "273e1d35-94b4-44f5-8f1e-c448097e83f6"
      },
      "outputs": [
        {
          "output_type": "execute_result",
          "data": {
            "text/plain": [
              "((35000, 68), (15000, 68))"
            ]
          },
          "metadata": {},
          "execution_count": 530
        }
      ],
      "source": [
        "X_train.drop(labels=var_to_delete, axis=1, inplace=True)\n",
        "X_test.drop(labels=var_to_delete, axis=1, inplace=True)\n",
        "\n",
        "X_train.shape, X_test.shape"
      ]
    },
    {
      "cell_type": "markdown",
      "metadata": {
        "id": "BvgSDkDg43OQ"
      },
      "source": [
        "**Method_1 with feature-engine**"
      ]
    },
    {
      "cell_type": "markdown",
      "metadata": {
        "id": "cOh-q5BFFtA5"
      },
      "source": [
        "Podemos realizar el mismo metodo con la libreria feature-engine, veamos si llegamos al mismo resultado ie a dropear 40 features."
      ]
    },
    {
      "cell_type": "code",
      "execution_count": null,
      "metadata": {
        "id": "1uM-S4Y948IT",
        "colab": {
          "base_uri": "https://localhost:8080/"
        },
        "outputId": "e80dbec8-0b38-4ad2-e7f4-4a119c6c106e"
      },
      "outputs": [
        {
          "output_type": "stream",
          "name": "stdout",
          "text": [
            "Looking in indexes: https://pypi.org/simple, https://us-python.pkg.dev/colab-wheels/public/simple/\n",
            "Requirement already satisfied: feature_engine in /usr/local/lib/python3.7/dist-packages (1.4.0)\n",
            "Requirement already satisfied: scipy>=1.4.1 in /usr/local/lib/python3.7/dist-packages (from feature_engine) (1.7.3)\n",
            "Requirement already satisfied: scikit-learn>=1.0.0 in /usr/local/lib/python3.7/dist-packages (from feature_engine) (1.0.2)\n",
            "Requirement already satisfied: numpy>=1.18.2 in /usr/local/lib/python3.7/dist-packages (from feature_engine) (1.21.6)\n",
            "Requirement already satisfied: pandas>=1.0.3 in /usr/local/lib/python3.7/dist-packages (from feature_engine) (1.3.5)\n",
            "Requirement already satisfied: statsmodels>=0.11.1 in /usr/local/lib/python3.7/dist-packages (from feature_engine) (0.12.2)\n",
            "Requirement already satisfied: pytz>=2017.3 in /usr/local/lib/python3.7/dist-packages (from pandas>=1.0.3->feature_engine) (2022.2.1)\n",
            "Requirement already satisfied: python-dateutil>=2.7.3 in /usr/local/lib/python3.7/dist-packages (from pandas>=1.0.3->feature_engine) (2.8.2)\n",
            "Requirement already satisfied: six>=1.5 in /usr/local/lib/python3.7/dist-packages (from python-dateutil>=2.7.3->pandas>=1.0.3->feature_engine) (1.15.0)\n",
            "Requirement already satisfied: joblib>=0.11 in /usr/local/lib/python3.7/dist-packages (from scikit-learn>=1.0.0->feature_engine) (1.1.0)\n",
            "Requirement already satisfied: threadpoolctl>=2.0.0 in /usr/local/lib/python3.7/dist-packages (from scikit-learn>=1.0.0->feature_engine) (3.1.0)\n",
            "Requirement already satisfied: patsy>=0.5 in /usr/local/lib/python3.7/dist-packages (from statsmodels>=0.11.1->feature_engine) (0.5.2)\n"
          ]
        }
      ],
      "source": [
        "!pip install feature_engine"
      ]
    },
    {
      "cell_type": "code",
      "execution_count": null,
      "metadata": {
        "id": "khXX2LtS42BE"
      },
      "outputs": [],
      "source": [
        "from feature_engine.selection import DropCorrelatedFeatures"
      ]
    },
    {
      "cell_type": "code",
      "source": [
        "df = pd.read_csv(\"dataset_2.csv\", nrows=50000)"
      ],
      "metadata": {
        "id": "vPlDhD2N11wr"
      },
      "execution_count": null,
      "outputs": []
    },
    {
      "cell_type": "code",
      "execution_count": null,
      "metadata": {
        "id": "kWu05rXG5LVT"
      },
      "outputs": [],
      "source": [
        "X_train, X_test, y_train, y_test = train_test_split(\n",
        "    df.drop(labels=['target'], axis=1),\n",
        "    df['target'],\n",
        "    test_size=0.3,\n",
        "    random_state=0)"
      ]
    },
    {
      "cell_type": "code",
      "execution_count": null,
      "metadata": {
        "id": "kMSUKPfL49sc",
        "colab": {
          "base_uri": "https://localhost:8080/"
        },
        "outputId": "02c45d29-065a-4dbe-c8d8-8f69e380b665"
      },
      "outputs": [
        {
          "output_type": "execute_result",
          "data": {
            "text/plain": [
              "DropCorrelatedFeatures()"
            ]
          },
          "metadata": {},
          "execution_count": 535
        }
      ],
      "source": [
        "# seteamos el selector\n",
        "sel = DropCorrelatedFeatures(\n",
        "    threshold=0.8,\n",
        "    method='pearson',\n",
        "    missing_values='ignore'\n",
        ")\n",
        "\n",
        "sel.fit(X_train)"
      ]
    },
    {
      "cell_type": "code",
      "execution_count": null,
      "metadata": {
        "id": "3gUP_Kng5PCk",
        "colab": {
          "base_uri": "https://localhost:8080/"
        },
        "outputId": "7e64383e-76d8-4627-8eb4-8819287a1b75"
      },
      "outputs": [
        {
          "output_type": "execute_result",
          "data": {
            "text/plain": [
              "[{'var_3', 'var_80'},\n",
              " {'var_28', 'var_5', 'var_75'},\n",
              " {'var_11', 'var_33'},\n",
              " {'var_13', 'var_17'},\n",
              " {'var_15', 'var_57'},\n",
              " {'var_18', 'var_43'},\n",
              " {'var_19', 'var_29'},\n",
              " {'var_21', 'var_70', 'var_88'},\n",
              " {'var_22', 'var_24', 'var_32', 'var_39', 'var_42', 'var_76'},\n",
              " {'var_102', 'var_23'},\n",
              " {'var_26', 'var_59'},\n",
              " {'var_108', 'var_30'},\n",
              " {'var_35', 'var_87'},\n",
              " {'var_101', 'var_105', 'var_40', 'var_74', 'var_85'},\n",
              " {'var_46', 'var_94'},\n",
              " {'var_50', 'var_72'},\n",
              " {'var_52', 'var_66'},\n",
              " {'var_109', 'var_56'},\n",
              " {'var_104', 'var_60'},\n",
              " {'var_63', 'var_64', 'var_84', 'var_97'},\n",
              " {'var_106', 'var_77'},\n",
              " {'var_90', 'var_95'},\n",
              " {'var_100', 'var_98'}]"
            ]
          },
          "metadata": {},
          "execution_count": 536
        }
      ],
      "source": [
        "# grupos de features cuya corr es > 0.8\n",
        "sel.correlated_feature_sets_"
      ]
    },
    {
      "cell_type": "markdown",
      "metadata": {
        "id": "IKFXEVs7GbUg"
      },
      "source": [
        "Podemos ver que usando el metodo_1 de la libreria feature-engine estaremos eliminando 6 features menos que al hacerlo \"manual\"."
      ]
    },
    {
      "cell_type": "code",
      "execution_count": null,
      "metadata": {
        "id": "uAVv4zr65S5D",
        "colab": {
          "base_uri": "https://localhost:8080/"
        },
        "outputId": "64d20dfd-cced-4ad6-fdf1-a564eef5a3b2"
      },
      "outputs": [
        {
          "output_type": "execute_result",
          "data": {
            "text/plain": [
              "34"
            ]
          },
          "metadata": {},
          "execution_count": 537
        }
      ],
      "source": [
        "# el metodo transform seleccionara 1 feature de cada grupo y\n",
        "# procedera a remover el resto de features de dicho grupo.\n",
        "len(sel.features_to_drop_)"
      ]
    },
    {
      "cell_type": "code",
      "source": [
        "X_train.shape, X_test.shape"
      ],
      "metadata": {
        "colab": {
          "base_uri": "https://localhost:8080/"
        },
        "id": "GRCFStXq2HUW",
        "outputId": "9f645b73-2ee1-4f1e-e439-0f66d1c90d0f"
      },
      "execution_count": null,
      "outputs": [
        {
          "output_type": "execute_result",
          "data": {
            "text/plain": [
              "((35000, 108), (15000, 108))"
            ]
          },
          "metadata": {},
          "execution_count": 538
        }
      ]
    },
    {
      "cell_type": "code",
      "execution_count": null,
      "metadata": {
        "id": "grsUsHYm6avF",
        "colab": {
          "base_uri": "https://localhost:8080/"
        },
        "outputId": "9749c6dc-895b-4251-be55-d7d37d793df4"
      },
      "outputs": [
        {
          "output_type": "execute_result",
          "data": {
            "text/plain": [
              "((35000, 74), (15000, 74))"
            ]
          },
          "metadata": {},
          "execution_count": 539
        }
      ],
      "source": [
        "# drop correlated features\n",
        "X_train = sel.transform(X_train)\n",
        "X_test = sel.transform(X_test)\n",
        "\n",
        "X_train.shape, X_test.shape"
      ]
    },
    {
      "cell_type": "markdown",
      "metadata": {
        "id": "V9p56D6PaJSt"
      },
      "source": [
        "### Method_2 (Removing correlated features)\n",
        "\n",
        "Lo que plantea el método 2 es:\n",
        "\n",
        "\n",
        "1. Identificamos grupos de features correlacionados entre sí.\n",
        "2. Seleccionamos el feature con mayor poder de predicción bajo algún criterio.\n",
        "  * Crear un modelo de ML que evalue los features de un mismo conjunto, quedándonos con el que posee mayor poder de predicción.\n",
        "  * Número de valores nulos (nos quedamos con el feature con menor número de valores nulos).\n",
        "3. Descartamos el resto de features."
      ]
    },
    {
      "cell_type": "code",
      "source": [
        "from sklearn.model_selection import train_test_split, cross_validate\n",
        "from sklearn.ensemble import RandomForestClassifier"
      ],
      "metadata": {
        "id": "LKGk_YmA1qZu"
      },
      "execution_count": null,
      "outputs": []
    },
    {
      "cell_type": "code",
      "source": [
        "df = pd.read_csv(\"dataset_2.csv\", nrows=50000)"
      ],
      "metadata": {
        "id": "xAED6k2o1mgs"
      },
      "execution_count": null,
      "outputs": []
    },
    {
      "cell_type": "code",
      "execution_count": null,
      "metadata": {
        "id": "XDNg6yXBdLQt"
      },
      "outputs": [],
      "source": [
        "X_train, X_test, y_train, y_test = train_test_split(\n",
        "    df.drop(labels=['target'], axis=1),\n",
        "    df['target'],\n",
        "    test_size=0.3,\n",
        "    random_state=0)"
      ]
    },
    {
      "cell_type": "code",
      "execution_count": null,
      "metadata": {
        "id": "Y8kagrkZvNKb",
        "colab": {
          "base_uri": "https://localhost:8080/",
          "height": 206
        },
        "outputId": "c9ebd09f-c430-4c79-c0e6-e4f8a017ca27"
      },
      "outputs": [
        {
          "output_type": "execute_result",
          "data": {
            "text/plain": [
              "  feature1 feature2      corr\n",
              "0   var_80    var_3  0.994923\n",
              "1    var_3   var_80  0.994923\n",
              "2   var_32   var_22  0.990431\n",
              "3   var_22   var_32  0.990431\n",
              "4   var_56  var_109  0.987777"
            ],
            "text/html": [
              "\n",
              "  <div id=\"df-023450fa-cd1f-4856-91c9-f29205ebc780\">\n",
              "    <div class=\"colab-df-container\">\n",
              "      <div>\n",
              "<style scoped>\n",
              "    .dataframe tbody tr th:only-of-type {\n",
              "        vertical-align: middle;\n",
              "    }\n",
              "\n",
              "    .dataframe tbody tr th {\n",
              "        vertical-align: top;\n",
              "    }\n",
              "\n",
              "    .dataframe thead th {\n",
              "        text-align: right;\n",
              "    }\n",
              "</style>\n",
              "<table border=\"1\" class=\"dataframe\">\n",
              "  <thead>\n",
              "    <tr style=\"text-align: right;\">\n",
              "      <th></th>\n",
              "      <th>feature1</th>\n",
              "      <th>feature2</th>\n",
              "      <th>corr</th>\n",
              "    </tr>\n",
              "  </thead>\n",
              "  <tbody>\n",
              "    <tr>\n",
              "      <th>0</th>\n",
              "      <td>var_80</td>\n",
              "      <td>var_3</td>\n",
              "      <td>0.994923</td>\n",
              "    </tr>\n",
              "    <tr>\n",
              "      <th>1</th>\n",
              "      <td>var_3</td>\n",
              "      <td>var_80</td>\n",
              "      <td>0.994923</td>\n",
              "    </tr>\n",
              "    <tr>\n",
              "      <th>2</th>\n",
              "      <td>var_32</td>\n",
              "      <td>var_22</td>\n",
              "      <td>0.990431</td>\n",
              "    </tr>\n",
              "    <tr>\n",
              "      <th>3</th>\n",
              "      <td>var_22</td>\n",
              "      <td>var_32</td>\n",
              "      <td>0.990431</td>\n",
              "    </tr>\n",
              "    <tr>\n",
              "      <th>4</th>\n",
              "      <td>var_56</td>\n",
              "      <td>var_109</td>\n",
              "      <td>0.987777</td>\n",
              "    </tr>\n",
              "  </tbody>\n",
              "</table>\n",
              "</div>\n",
              "      <button class=\"colab-df-convert\" onclick=\"convertToInteractive('df-023450fa-cd1f-4856-91c9-f29205ebc780')\"\n",
              "              title=\"Convert this dataframe to an interactive table.\"\n",
              "              style=\"display:none;\">\n",
              "        \n",
              "  <svg xmlns=\"http://www.w3.org/2000/svg\" height=\"24px\"viewBox=\"0 0 24 24\"\n",
              "       width=\"24px\">\n",
              "    <path d=\"M0 0h24v24H0V0z\" fill=\"none\"/>\n",
              "    <path d=\"M18.56 5.44l.94 2.06.94-2.06 2.06-.94-2.06-.94-.94-2.06-.94 2.06-2.06.94zm-11 1L8.5 8.5l.94-2.06 2.06-.94-2.06-.94L8.5 2.5l-.94 2.06-2.06.94zm10 10l.94 2.06.94-2.06 2.06-.94-2.06-.94-.94-2.06-.94 2.06-2.06.94z\"/><path d=\"M17.41 7.96l-1.37-1.37c-.4-.4-.92-.59-1.43-.59-.52 0-1.04.2-1.43.59L10.3 9.45l-7.72 7.72c-.78.78-.78 2.05 0 2.83L4 21.41c.39.39.9.59 1.41.59.51 0 1.02-.2 1.41-.59l7.78-7.78 2.81-2.81c.8-.78.8-2.07 0-2.86zM5.41 20L4 18.59l7.72-7.72 1.47 1.35L5.41 20z\"/>\n",
              "  </svg>\n",
              "      </button>\n",
              "      \n",
              "  <style>\n",
              "    .colab-df-container {\n",
              "      display:flex;\n",
              "      flex-wrap:wrap;\n",
              "      gap: 12px;\n",
              "    }\n",
              "\n",
              "    .colab-df-convert {\n",
              "      background-color: #E8F0FE;\n",
              "      border: none;\n",
              "      border-radius: 50%;\n",
              "      cursor: pointer;\n",
              "      display: none;\n",
              "      fill: #1967D2;\n",
              "      height: 32px;\n",
              "      padding: 0 0 0 0;\n",
              "      width: 32px;\n",
              "    }\n",
              "\n",
              "    .colab-df-convert:hover {\n",
              "      background-color: #E2EBFA;\n",
              "      box-shadow: 0px 1px 2px rgba(60, 64, 67, 0.3), 0px 1px 3px 1px rgba(60, 64, 67, 0.15);\n",
              "      fill: #174EA6;\n",
              "    }\n",
              "\n",
              "    [theme=dark] .colab-df-convert {\n",
              "      background-color: #3B4455;\n",
              "      fill: #D2E3FC;\n",
              "    }\n",
              "\n",
              "    [theme=dark] .colab-df-convert:hover {\n",
              "      background-color: #434B5C;\n",
              "      box-shadow: 0px 1px 3px 1px rgba(0, 0, 0, 0.15);\n",
              "      filter: drop-shadow(0px 1px 2px rgba(0, 0, 0, 0.3));\n",
              "      fill: #FFFFFF;\n",
              "    }\n",
              "  </style>\n",
              "\n",
              "      <script>\n",
              "        const buttonEl =\n",
              "          document.querySelector('#df-023450fa-cd1f-4856-91c9-f29205ebc780 button.colab-df-convert');\n",
              "        buttonEl.style.display =\n",
              "          google.colab.kernel.accessAllowed ? 'block' : 'none';\n",
              "\n",
              "        async function convertToInteractive(key) {\n",
              "          const element = document.querySelector('#df-023450fa-cd1f-4856-91c9-f29205ebc780');\n",
              "          const dataTable =\n",
              "            await google.colab.kernel.invokeFunction('convertToInteractive',\n",
              "                                                     [key], {});\n",
              "          if (!dataTable) return;\n",
              "\n",
              "          const docLinkHtml = 'Like what you see? Visit the ' +\n",
              "            '<a target=\"_blank\" href=https://colab.research.google.com/notebooks/data_table.ipynb>data table notebook</a>'\n",
              "            + ' to learn more about interactive tables.';\n",
              "          element.innerHTML = '';\n",
              "          dataTable['output_type'] = 'display_data';\n",
              "          await google.colab.output.renderOutput(dataTable, element);\n",
              "          const docLink = document.createElement('div');\n",
              "          docLink.innerHTML = docLinkHtml;\n",
              "          element.appendChild(docLink);\n",
              "        }\n",
              "      </script>\n",
              "    </div>\n",
              "  </div>\n",
              "  "
            ]
          },
          "metadata": {},
          "execution_count": 365
        }
      ],
      "source": [
        "corr = X_train.corr()\n",
        "\n",
        "# calculamos los valores abs\n",
        "corr = corr.abs().unstack()\n",
        "corr = corr.sort_values(ascending=False)\n",
        "\n",
        "corr = corr[corr >= 0.8]\n",
        "corr = corr[corr < 1]\n",
        "corr = pd.DataFrame(corr).reset_index()\n",
        "corr.columns = ['feature1', 'feature2', 'corr']\n",
        "corr.head()"
      ]
    },
    {
      "cell_type": "markdown",
      "metadata": {
        "id": "alH4Cpk2U090"
      },
      "source": [
        "Procedemos a buscar los grupos de correlaciones"
      ]
    },
    {
      "cell_type": "code",
      "execution_count": null,
      "metadata": {
        "id": "Z8jEjisMvfAj"
      },
      "outputs": [],
      "source": [
        "def method_2(df):\n",
        "  grouped_feature_ls = []\n",
        "\n",
        "  # guardaremos los grupos de correlaciones\n",
        "  corr_groups = []\n",
        "\n",
        "  for feature in corr.feature1:\n",
        "\n",
        "    # si el feature no fue contemplado previamente => pasamos a buscar su bloque de corr\n",
        "    if feature not in grouped_feature_ls:\n",
        "\n",
        "      corr_block = corr[corr[\"feature1\"] == feature][[\"feature2\", \"corr\"]].values\n",
        "      grouped_feature_ls = grouped_feature_ls + [feature[0] for feature in corr_block] + [feature]\n",
        "\n",
        "      corr_groups.append((feature ,[feature[0] for feature in corr_block ],[corr[1] for corr in corr_block ]))\n",
        "  \n",
        "  return corr_groups"
      ]
    },
    {
      "cell_type": "code",
      "execution_count": null,
      "metadata": {
        "id": "4z-3uDfdxFz9"
      },
      "outputs": [],
      "source": [
        "corr_groups = method_2(X_train)\n",
        "corr_groups_df = pd.DataFrame(corr_groups, columns=[\"group_name_feature\", \"corr_features_group\", \"corr\"])"
      ]
    },
    {
      "cell_type": "code",
      "execution_count": null,
      "metadata": {
        "id": "wiy6Up4_x4R8",
        "colab": {
          "base_uri": "https://localhost:8080/",
          "height": 896
        },
        "outputId": "efcb41f3-c2d8-4020-8571-711127e61a0a"
      },
      "outputs": [
        {
          "output_type": "execute_result",
          "data": {
            "text/plain": [
              "   group_name_feature                       corr_features_group  \\\n",
              "0              var_80                                   [var_3]   \n",
              "1              var_32  [var_22, var_24, var_39, var_76, var_42]   \n",
              "2              var_56                 [var_109, var_59, var_57]   \n",
              "3              var_72                                  [var_50]   \n",
              "4              var_94                                  [var_46]   \n",
              "5              var_43                                  [var_18]   \n",
              "6              var_63                  [var_84, var_97, var_64]   \n",
              "7              var_28                           [var_5, var_75]   \n",
              "8              var_88                          [var_70, var_21]   \n",
              "9              var_11                                  [var_33]   \n",
              "10             var_98                                 [var_100]   \n",
              "11             var_85        [var_74, var_101, var_105, var_40]   \n",
              "12             var_95                                  [var_90]   \n",
              "13            var_102                                  [var_23]   \n",
              "14            var_106                                  [var_77]   \n",
              "15             var_52                                  [var_66]   \n",
              "16             var_30                                 [var_108]   \n",
              "17             var_17                                  [var_13]   \n",
              "18             var_89                                 [var_101]   \n",
              "19             var_15                                  [var_57]   \n",
              "20             var_29                          [var_44, var_19]   \n",
              "21             var_26                          [var_57, var_59]   \n",
              "22             var_37                          [var_59, var_57]   \n",
              "23             var_60                                 [var_104]   \n",
              "24             var_54                          [var_42, var_24]   \n",
              "25             var_35                                  [var_87]   \n",
              "26            var_103                                 [var_104]   \n",
              "\n",
              "                                                 corr  \n",
              "0                                [0.9949233674877688]  \n",
              "1   [0.990430734999363, 0.9804113632495293, 0.9748...  \n",
              "2   [0.9877770388061411, 0.9757443944210573, 0.844...  \n",
              "3                                [0.9702627369945973]  \n",
              "4                                 [0.967894593929465]  \n",
              "5                                [0.9654741987814475]  \n",
              "6   [0.959138004504806, 0.9401844891006294, 0.9244...  \n",
              "7            [0.9536721652384935, 0.9044132378219414]  \n",
              "8            [0.9489465365954278, 0.8943929785046758]  \n",
              "9                                [0.9443605986205844]  \n",
              "10                               [0.9386294358332122]  \n",
              "11  [0.9263326179868797, 0.9165004542879451, 0.851...  \n",
              "12                               [0.9256781174818735]  \n",
              "13                               [0.9147225559783524]  \n",
              "14                               [0.9071460024082904]  \n",
              "15                               [0.8925221926487203]  \n",
              "16                               [0.8898468328419876]  \n",
              "17                               [0.8632980418993791]  \n",
              "18                               [0.8524708998226349]  \n",
              "19                                [0.837404481636077]  \n",
              "20           [0.8358214281472581, 0.8341792843814466]  \n",
              "21           [0.8318090759398273, 0.8131947525226287]  \n",
              "22           [0.8306144274586774, 0.8207993837973238]  \n",
              "23                               [0.8294949944599774]  \n",
              "24           [0.8287090109274785, 0.8150241475398633]  \n",
              "25                               [0.8174556016431926]  \n",
              "26                               [0.8045991330267654]  "
            ],
            "text/html": [
              "\n",
              "  <div id=\"df-7851b2c1-bcb8-4917-956d-3164fad15903\">\n",
              "    <div class=\"colab-df-container\">\n",
              "      <div>\n",
              "<style scoped>\n",
              "    .dataframe tbody tr th:only-of-type {\n",
              "        vertical-align: middle;\n",
              "    }\n",
              "\n",
              "    .dataframe tbody tr th {\n",
              "        vertical-align: top;\n",
              "    }\n",
              "\n",
              "    .dataframe thead th {\n",
              "        text-align: right;\n",
              "    }\n",
              "</style>\n",
              "<table border=\"1\" class=\"dataframe\">\n",
              "  <thead>\n",
              "    <tr style=\"text-align: right;\">\n",
              "      <th></th>\n",
              "      <th>group_name_feature</th>\n",
              "      <th>corr_features_group</th>\n",
              "      <th>corr</th>\n",
              "    </tr>\n",
              "  </thead>\n",
              "  <tbody>\n",
              "    <tr>\n",
              "      <th>0</th>\n",
              "      <td>var_80</td>\n",
              "      <td>[var_3]</td>\n",
              "      <td>[0.9949233674877688]</td>\n",
              "    </tr>\n",
              "    <tr>\n",
              "      <th>1</th>\n",
              "      <td>var_32</td>\n",
              "      <td>[var_22, var_24, var_39, var_76, var_42]</td>\n",
              "      <td>[0.990430734999363, 0.9804113632495293, 0.9748...</td>\n",
              "    </tr>\n",
              "    <tr>\n",
              "      <th>2</th>\n",
              "      <td>var_56</td>\n",
              "      <td>[var_109, var_59, var_57]</td>\n",
              "      <td>[0.9877770388061411, 0.9757443944210573, 0.844...</td>\n",
              "    </tr>\n",
              "    <tr>\n",
              "      <th>3</th>\n",
              "      <td>var_72</td>\n",
              "      <td>[var_50]</td>\n",
              "      <td>[0.9702627369945973]</td>\n",
              "    </tr>\n",
              "    <tr>\n",
              "      <th>4</th>\n",
              "      <td>var_94</td>\n",
              "      <td>[var_46]</td>\n",
              "      <td>[0.967894593929465]</td>\n",
              "    </tr>\n",
              "    <tr>\n",
              "      <th>5</th>\n",
              "      <td>var_43</td>\n",
              "      <td>[var_18]</td>\n",
              "      <td>[0.9654741987814475]</td>\n",
              "    </tr>\n",
              "    <tr>\n",
              "      <th>6</th>\n",
              "      <td>var_63</td>\n",
              "      <td>[var_84, var_97, var_64]</td>\n",
              "      <td>[0.959138004504806, 0.9401844891006294, 0.9244...</td>\n",
              "    </tr>\n",
              "    <tr>\n",
              "      <th>7</th>\n",
              "      <td>var_28</td>\n",
              "      <td>[var_5, var_75]</td>\n",
              "      <td>[0.9536721652384935, 0.9044132378219414]</td>\n",
              "    </tr>\n",
              "    <tr>\n",
              "      <th>8</th>\n",
              "      <td>var_88</td>\n",
              "      <td>[var_70, var_21]</td>\n",
              "      <td>[0.9489465365954278, 0.8943929785046758]</td>\n",
              "    </tr>\n",
              "    <tr>\n",
              "      <th>9</th>\n",
              "      <td>var_11</td>\n",
              "      <td>[var_33]</td>\n",
              "      <td>[0.9443605986205844]</td>\n",
              "    </tr>\n",
              "    <tr>\n",
              "      <th>10</th>\n",
              "      <td>var_98</td>\n",
              "      <td>[var_100]</td>\n",
              "      <td>[0.9386294358332122]</td>\n",
              "    </tr>\n",
              "    <tr>\n",
              "      <th>11</th>\n",
              "      <td>var_85</td>\n",
              "      <td>[var_74, var_101, var_105, var_40]</td>\n",
              "      <td>[0.9263326179868797, 0.9165004542879451, 0.851...</td>\n",
              "    </tr>\n",
              "    <tr>\n",
              "      <th>12</th>\n",
              "      <td>var_95</td>\n",
              "      <td>[var_90]</td>\n",
              "      <td>[0.9256781174818735]</td>\n",
              "    </tr>\n",
              "    <tr>\n",
              "      <th>13</th>\n",
              "      <td>var_102</td>\n",
              "      <td>[var_23]</td>\n",
              "      <td>[0.9147225559783524]</td>\n",
              "    </tr>\n",
              "    <tr>\n",
              "      <th>14</th>\n",
              "      <td>var_106</td>\n",
              "      <td>[var_77]</td>\n",
              "      <td>[0.9071460024082904]</td>\n",
              "    </tr>\n",
              "    <tr>\n",
              "      <th>15</th>\n",
              "      <td>var_52</td>\n",
              "      <td>[var_66]</td>\n",
              "      <td>[0.8925221926487203]</td>\n",
              "    </tr>\n",
              "    <tr>\n",
              "      <th>16</th>\n",
              "      <td>var_30</td>\n",
              "      <td>[var_108]</td>\n",
              "      <td>[0.8898468328419876]</td>\n",
              "    </tr>\n",
              "    <tr>\n",
              "      <th>17</th>\n",
              "      <td>var_17</td>\n",
              "      <td>[var_13]</td>\n",
              "      <td>[0.8632980418993791]</td>\n",
              "    </tr>\n",
              "    <tr>\n",
              "      <th>18</th>\n",
              "      <td>var_89</td>\n",
              "      <td>[var_101]</td>\n",
              "      <td>[0.8524708998226349]</td>\n",
              "    </tr>\n",
              "    <tr>\n",
              "      <th>19</th>\n",
              "      <td>var_15</td>\n",
              "      <td>[var_57]</td>\n",
              "      <td>[0.837404481636077]</td>\n",
              "    </tr>\n",
              "    <tr>\n",
              "      <th>20</th>\n",
              "      <td>var_29</td>\n",
              "      <td>[var_44, var_19]</td>\n",
              "      <td>[0.8358214281472581, 0.8341792843814466]</td>\n",
              "    </tr>\n",
              "    <tr>\n",
              "      <th>21</th>\n",
              "      <td>var_26</td>\n",
              "      <td>[var_57, var_59]</td>\n",
              "      <td>[0.8318090759398273, 0.8131947525226287]</td>\n",
              "    </tr>\n",
              "    <tr>\n",
              "      <th>22</th>\n",
              "      <td>var_37</td>\n",
              "      <td>[var_59, var_57]</td>\n",
              "      <td>[0.8306144274586774, 0.8207993837973238]</td>\n",
              "    </tr>\n",
              "    <tr>\n",
              "      <th>23</th>\n",
              "      <td>var_60</td>\n",
              "      <td>[var_104]</td>\n",
              "      <td>[0.8294949944599774]</td>\n",
              "    </tr>\n",
              "    <tr>\n",
              "      <th>24</th>\n",
              "      <td>var_54</td>\n",
              "      <td>[var_42, var_24]</td>\n",
              "      <td>[0.8287090109274785, 0.8150241475398633]</td>\n",
              "    </tr>\n",
              "    <tr>\n",
              "      <th>25</th>\n",
              "      <td>var_35</td>\n",
              "      <td>[var_87]</td>\n",
              "      <td>[0.8174556016431926]</td>\n",
              "    </tr>\n",
              "    <tr>\n",
              "      <th>26</th>\n",
              "      <td>var_103</td>\n",
              "      <td>[var_104]</td>\n",
              "      <td>[0.8045991330267654]</td>\n",
              "    </tr>\n",
              "  </tbody>\n",
              "</table>\n",
              "</div>\n",
              "      <button class=\"colab-df-convert\" onclick=\"convertToInteractive('df-7851b2c1-bcb8-4917-956d-3164fad15903')\"\n",
              "              title=\"Convert this dataframe to an interactive table.\"\n",
              "              style=\"display:none;\">\n",
              "        \n",
              "  <svg xmlns=\"http://www.w3.org/2000/svg\" height=\"24px\"viewBox=\"0 0 24 24\"\n",
              "       width=\"24px\">\n",
              "    <path d=\"M0 0h24v24H0V0z\" fill=\"none\"/>\n",
              "    <path d=\"M18.56 5.44l.94 2.06.94-2.06 2.06-.94-2.06-.94-.94-2.06-.94 2.06-2.06.94zm-11 1L8.5 8.5l.94-2.06 2.06-.94-2.06-.94L8.5 2.5l-.94 2.06-2.06.94zm10 10l.94 2.06.94-2.06 2.06-.94-2.06-.94-.94-2.06-.94 2.06-2.06.94z\"/><path d=\"M17.41 7.96l-1.37-1.37c-.4-.4-.92-.59-1.43-.59-.52 0-1.04.2-1.43.59L10.3 9.45l-7.72 7.72c-.78.78-.78 2.05 0 2.83L4 21.41c.39.39.9.59 1.41.59.51 0 1.02-.2 1.41-.59l7.78-7.78 2.81-2.81c.8-.78.8-2.07 0-2.86zM5.41 20L4 18.59l7.72-7.72 1.47 1.35L5.41 20z\"/>\n",
              "  </svg>\n",
              "      </button>\n",
              "      \n",
              "  <style>\n",
              "    .colab-df-container {\n",
              "      display:flex;\n",
              "      flex-wrap:wrap;\n",
              "      gap: 12px;\n",
              "    }\n",
              "\n",
              "    .colab-df-convert {\n",
              "      background-color: #E8F0FE;\n",
              "      border: none;\n",
              "      border-radius: 50%;\n",
              "      cursor: pointer;\n",
              "      display: none;\n",
              "      fill: #1967D2;\n",
              "      height: 32px;\n",
              "      padding: 0 0 0 0;\n",
              "      width: 32px;\n",
              "    }\n",
              "\n",
              "    .colab-df-convert:hover {\n",
              "      background-color: #E2EBFA;\n",
              "      box-shadow: 0px 1px 2px rgba(60, 64, 67, 0.3), 0px 1px 3px 1px rgba(60, 64, 67, 0.15);\n",
              "      fill: #174EA6;\n",
              "    }\n",
              "\n",
              "    [theme=dark] .colab-df-convert {\n",
              "      background-color: #3B4455;\n",
              "      fill: #D2E3FC;\n",
              "    }\n",
              "\n",
              "    [theme=dark] .colab-df-convert:hover {\n",
              "      background-color: #434B5C;\n",
              "      box-shadow: 0px 1px 3px 1px rgba(0, 0, 0, 0.15);\n",
              "      filter: drop-shadow(0px 1px 2px rgba(0, 0, 0, 0.3));\n",
              "      fill: #FFFFFF;\n",
              "    }\n",
              "  </style>\n",
              "\n",
              "      <script>\n",
              "        const buttonEl =\n",
              "          document.querySelector('#df-7851b2c1-bcb8-4917-956d-3164fad15903 button.colab-df-convert');\n",
              "        buttonEl.style.display =\n",
              "          google.colab.kernel.accessAllowed ? 'block' : 'none';\n",
              "\n",
              "        async function convertToInteractive(key) {\n",
              "          const element = document.querySelector('#df-7851b2c1-bcb8-4917-956d-3164fad15903');\n",
              "          const dataTable =\n",
              "            await google.colab.kernel.invokeFunction('convertToInteractive',\n",
              "                                                     [key], {});\n",
              "          if (!dataTable) return;\n",
              "\n",
              "          const docLinkHtml = 'Like what you see? Visit the ' +\n",
              "            '<a target=\"_blank\" href=https://colab.research.google.com/notebooks/data_table.ipynb>data table notebook</a>'\n",
              "            + ' to learn more about interactive tables.';\n",
              "          element.innerHTML = '';\n",
              "          dataTable['output_type'] = 'display_data';\n",
              "          await google.colab.output.renderOutput(dataTable, element);\n",
              "          const docLink = document.createElement('div');\n",
              "          docLink.innerHTML = docLinkHtml;\n",
              "          element.appendChild(docLink);\n",
              "        }\n",
              "      </script>\n",
              "    </div>\n",
              "  </div>\n",
              "  "
            ]
          },
          "metadata": {},
          "execution_count": 368
        }
      ],
      "source": [
        "corr_groups_df"
      ]
    },
    {
      "cell_type": "code",
      "execution_count": null,
      "metadata": {
        "id": "UmRJHM1yNu6R",
        "colab": {
          "base_uri": "https://localhost:8080/",
          "height": 81
        },
        "outputId": "e37f7f30-563b-4c4f-e7d6-950a022d5fee"
      },
      "outputs": [
        {
          "output_type": "execute_result",
          "data": {
            "text/plain": [
              "  group_name_feature                       corr_features_group  \\\n",
              "1             var_32  [var_22, var_24, var_39, var_76, var_42]   \n",
              "\n",
              "                                                corr  \n",
              "1  [0.990430734999363, 0.9804113632495293, 0.9748...  "
            ],
            "text/html": [
              "\n",
              "  <div id=\"df-8d1d739b-267a-497a-85cd-5c02d7f82858\">\n",
              "    <div class=\"colab-df-container\">\n",
              "      <div>\n",
              "<style scoped>\n",
              "    .dataframe tbody tr th:only-of-type {\n",
              "        vertical-align: middle;\n",
              "    }\n",
              "\n",
              "    .dataframe tbody tr th {\n",
              "        vertical-align: top;\n",
              "    }\n",
              "\n",
              "    .dataframe thead th {\n",
              "        text-align: right;\n",
              "    }\n",
              "</style>\n",
              "<table border=\"1\" class=\"dataframe\">\n",
              "  <thead>\n",
              "    <tr style=\"text-align: right;\">\n",
              "      <th></th>\n",
              "      <th>group_name_feature</th>\n",
              "      <th>corr_features_group</th>\n",
              "      <th>corr</th>\n",
              "    </tr>\n",
              "  </thead>\n",
              "  <tbody>\n",
              "    <tr>\n",
              "      <th>1</th>\n",
              "      <td>var_32</td>\n",
              "      <td>[var_22, var_24, var_39, var_76, var_42]</td>\n",
              "      <td>[0.990430734999363, 0.9804113632495293, 0.9748...</td>\n",
              "    </tr>\n",
              "  </tbody>\n",
              "</table>\n",
              "</div>\n",
              "      <button class=\"colab-df-convert\" onclick=\"convertToInteractive('df-8d1d739b-267a-497a-85cd-5c02d7f82858')\"\n",
              "              title=\"Convert this dataframe to an interactive table.\"\n",
              "              style=\"display:none;\">\n",
              "        \n",
              "  <svg xmlns=\"http://www.w3.org/2000/svg\" height=\"24px\"viewBox=\"0 0 24 24\"\n",
              "       width=\"24px\">\n",
              "    <path d=\"M0 0h24v24H0V0z\" fill=\"none\"/>\n",
              "    <path d=\"M18.56 5.44l.94 2.06.94-2.06 2.06-.94-2.06-.94-.94-2.06-.94 2.06-2.06.94zm-11 1L8.5 8.5l.94-2.06 2.06-.94-2.06-.94L8.5 2.5l-.94 2.06-2.06.94zm10 10l.94 2.06.94-2.06 2.06-.94-2.06-.94-.94-2.06-.94 2.06-2.06.94z\"/><path d=\"M17.41 7.96l-1.37-1.37c-.4-.4-.92-.59-1.43-.59-.52 0-1.04.2-1.43.59L10.3 9.45l-7.72 7.72c-.78.78-.78 2.05 0 2.83L4 21.41c.39.39.9.59 1.41.59.51 0 1.02-.2 1.41-.59l7.78-7.78 2.81-2.81c.8-.78.8-2.07 0-2.86zM5.41 20L4 18.59l7.72-7.72 1.47 1.35L5.41 20z\"/>\n",
              "  </svg>\n",
              "      </button>\n",
              "      \n",
              "  <style>\n",
              "    .colab-df-container {\n",
              "      display:flex;\n",
              "      flex-wrap:wrap;\n",
              "      gap: 12px;\n",
              "    }\n",
              "\n",
              "    .colab-df-convert {\n",
              "      background-color: #E8F0FE;\n",
              "      border: none;\n",
              "      border-radius: 50%;\n",
              "      cursor: pointer;\n",
              "      display: none;\n",
              "      fill: #1967D2;\n",
              "      height: 32px;\n",
              "      padding: 0 0 0 0;\n",
              "      width: 32px;\n",
              "    }\n",
              "\n",
              "    .colab-df-convert:hover {\n",
              "      background-color: #E2EBFA;\n",
              "      box-shadow: 0px 1px 2px rgba(60, 64, 67, 0.3), 0px 1px 3px 1px rgba(60, 64, 67, 0.15);\n",
              "      fill: #174EA6;\n",
              "    }\n",
              "\n",
              "    [theme=dark] .colab-df-convert {\n",
              "      background-color: #3B4455;\n",
              "      fill: #D2E3FC;\n",
              "    }\n",
              "\n",
              "    [theme=dark] .colab-df-convert:hover {\n",
              "      background-color: #434B5C;\n",
              "      box-shadow: 0px 1px 3px 1px rgba(0, 0, 0, 0.15);\n",
              "      filter: drop-shadow(0px 1px 2px rgba(0, 0, 0, 0.3));\n",
              "      fill: #FFFFFF;\n",
              "    }\n",
              "  </style>\n",
              "\n",
              "      <script>\n",
              "        const buttonEl =\n",
              "          document.querySelector('#df-8d1d739b-267a-497a-85cd-5c02d7f82858 button.colab-df-convert');\n",
              "        buttonEl.style.display =\n",
              "          google.colab.kernel.accessAllowed ? 'block' : 'none';\n",
              "\n",
              "        async function convertToInteractive(key) {\n",
              "          const element = document.querySelector('#df-8d1d739b-267a-497a-85cd-5c02d7f82858');\n",
              "          const dataTable =\n",
              "            await google.colab.kernel.invokeFunction('convertToInteractive',\n",
              "                                                     [key], {});\n",
              "          if (!dataTable) return;\n",
              "\n",
              "          const docLinkHtml = 'Like what you see? Visit the ' +\n",
              "            '<a target=\"_blank\" href=https://colab.research.google.com/notebooks/data_table.ipynb>data table notebook</a>'\n",
              "            + ' to learn more about interactive tables.';\n",
              "          element.innerHTML = '';\n",
              "          dataTable['output_type'] = 'display_data';\n",
              "          await google.colab.output.renderOutput(dataTable, element);\n",
              "          const docLink = document.createElement('div');\n",
              "          docLink.innerHTML = docLinkHtml;\n",
              "          element.appendChild(docLink);\n",
              "        }\n",
              "      </script>\n",
              "    </div>\n",
              "  </div>\n",
              "  "
            ]
          },
          "metadata": {},
          "execution_count": 369
        }
      ],
      "source": [
        "corr_groups_df[corr_groups_df[\"group_name_feature\"]== \"var_32\"]"
      ]
    },
    {
      "cell_type": "markdown",
      "metadata": {
        "id": "XBzPVZhENd3B"
      },
      "source": [
        "Ahora veremos como crear un modelo de ML que evalúe los features de un mismo conjunto, quedándonos con el que posee mayor poder de predicción.\n",
        "\n",
        "* por ejm analicemos el grupo de la var_32."
      ]
    },
    {
      "cell_type": "code",
      "execution_count": null,
      "metadata": {
        "id": "eEq7HIEx1Yeh",
        "colab": {
          "base_uri": "https://localhost:8080/"
        },
        "outputId": "30f17ba3-7ada-4701-d7e4-cdf447004b17"
      },
      "outputs": [
        {
          "output_type": "execute_result",
          "data": {
            "text/plain": [
              "['var_22', 'var_24', 'var_39', 'var_76', 'var_42', 'var_32']"
            ]
          },
          "metadata": {},
          "execution_count": 371
        }
      ],
      "source": [
        "# agregamos var_32 puesto que no figura en el grupo\n",
        "group_var_32 = corr_groups_df[corr_groups_df[\"group_name_feature\"] == \"var_32\"][\"corr_features_group\"].values[0] + [\"var_32\"]\n",
        "group_var_32"
      ]
    },
    {
      "cell_type": "code",
      "execution_count": null,
      "metadata": {
        "id": "C56CZEn_3L11",
        "colab": {
          "base_uri": "https://localhost:8080/"
        },
        "outputId": "404fe6f7-b2fa-4fce-cf2d-a42ea1ef4ccb"
      },
      "outputs": [
        {
          "output_type": "execute_result",
          "data": {
            "text/plain": [
              "RandomForestClassifier(max_depth=4, n_estimators=200, random_state=39)"
            ]
          },
          "metadata": {},
          "execution_count": 374
        }
      ],
      "source": [
        "# declaramos un modelo de RandomForestClassifier\n",
        "rf = RandomForestClassifier(n_estimators=200, random_state=39, max_depth=4)\n",
        "rf.fit(X_train[group_var_32].fillna(0), y_train)"
      ]
    },
    {
      "cell_type": "markdown",
      "metadata": {
        "id": "cjh746vVXDRt"
      },
      "source": [
        "Podemos apreciar que el feature con mayor importancia resulta ser el feature: var_39, por lo que procederíamos  a eliminar el resto."
      ]
    },
    {
      "cell_type": "code",
      "execution_count": null,
      "metadata": {
        "id": "H3K1luMi3Zoe",
        "colab": {
          "base_uri": "https://localhost:8080/",
          "height": 238
        },
        "outputId": "deb8d096-87fc-46f5-8ec6-d58f06446eeb"
      },
      "outputs": [
        {
          "output_type": "execute_result",
          "data": {
            "text/plain": [
              "  feature  importance\n",
              "2  var_39    0.194210\n",
              "3  var_76    0.187360\n",
              "0  var_22    0.167467\n",
              "1  var_24    0.167054\n",
              "4  var_42    0.147102\n",
              "5  var_32    0.136807"
            ],
            "text/html": [
              "\n",
              "  <div id=\"df-41f2015d-b079-4043-b9a8-4a80f6db2d42\">\n",
              "    <div class=\"colab-df-container\">\n",
              "      <div>\n",
              "<style scoped>\n",
              "    .dataframe tbody tr th:only-of-type {\n",
              "        vertical-align: middle;\n",
              "    }\n",
              "\n",
              "    .dataframe tbody tr th {\n",
              "        vertical-align: top;\n",
              "    }\n",
              "\n",
              "    .dataframe thead th {\n",
              "        text-align: right;\n",
              "    }\n",
              "</style>\n",
              "<table border=\"1\" class=\"dataframe\">\n",
              "  <thead>\n",
              "    <tr style=\"text-align: right;\">\n",
              "      <th></th>\n",
              "      <th>feature</th>\n",
              "      <th>importance</th>\n",
              "    </tr>\n",
              "  </thead>\n",
              "  <tbody>\n",
              "    <tr>\n",
              "      <th>2</th>\n",
              "      <td>var_39</td>\n",
              "      <td>0.194210</td>\n",
              "    </tr>\n",
              "    <tr>\n",
              "      <th>3</th>\n",
              "      <td>var_76</td>\n",
              "      <td>0.187360</td>\n",
              "    </tr>\n",
              "    <tr>\n",
              "      <th>0</th>\n",
              "      <td>var_22</td>\n",
              "      <td>0.167467</td>\n",
              "    </tr>\n",
              "    <tr>\n",
              "      <th>1</th>\n",
              "      <td>var_24</td>\n",
              "      <td>0.167054</td>\n",
              "    </tr>\n",
              "    <tr>\n",
              "      <th>4</th>\n",
              "      <td>var_42</td>\n",
              "      <td>0.147102</td>\n",
              "    </tr>\n",
              "    <tr>\n",
              "      <th>5</th>\n",
              "      <td>var_32</td>\n",
              "      <td>0.136807</td>\n",
              "    </tr>\n",
              "  </tbody>\n",
              "</table>\n",
              "</div>\n",
              "      <button class=\"colab-df-convert\" onclick=\"convertToInteractive('df-41f2015d-b079-4043-b9a8-4a80f6db2d42')\"\n",
              "              title=\"Convert this dataframe to an interactive table.\"\n",
              "              style=\"display:none;\">\n",
              "        \n",
              "  <svg xmlns=\"http://www.w3.org/2000/svg\" height=\"24px\"viewBox=\"0 0 24 24\"\n",
              "       width=\"24px\">\n",
              "    <path d=\"M0 0h24v24H0V0z\" fill=\"none\"/>\n",
              "    <path d=\"M18.56 5.44l.94 2.06.94-2.06 2.06-.94-2.06-.94-.94-2.06-.94 2.06-2.06.94zm-11 1L8.5 8.5l.94-2.06 2.06-.94-2.06-.94L8.5 2.5l-.94 2.06-2.06.94zm10 10l.94 2.06.94-2.06 2.06-.94-2.06-.94-.94-2.06-.94 2.06-2.06.94z\"/><path d=\"M17.41 7.96l-1.37-1.37c-.4-.4-.92-.59-1.43-.59-.52 0-1.04.2-1.43.59L10.3 9.45l-7.72 7.72c-.78.78-.78 2.05 0 2.83L4 21.41c.39.39.9.59 1.41.59.51 0 1.02-.2 1.41-.59l7.78-7.78 2.81-2.81c.8-.78.8-2.07 0-2.86zM5.41 20L4 18.59l7.72-7.72 1.47 1.35L5.41 20z\"/>\n",
              "  </svg>\n",
              "      </button>\n",
              "      \n",
              "  <style>\n",
              "    .colab-df-container {\n",
              "      display:flex;\n",
              "      flex-wrap:wrap;\n",
              "      gap: 12px;\n",
              "    }\n",
              "\n",
              "    .colab-df-convert {\n",
              "      background-color: #E8F0FE;\n",
              "      border: none;\n",
              "      border-radius: 50%;\n",
              "      cursor: pointer;\n",
              "      display: none;\n",
              "      fill: #1967D2;\n",
              "      height: 32px;\n",
              "      padding: 0 0 0 0;\n",
              "      width: 32px;\n",
              "    }\n",
              "\n",
              "    .colab-df-convert:hover {\n",
              "      background-color: #E2EBFA;\n",
              "      box-shadow: 0px 1px 2px rgba(60, 64, 67, 0.3), 0px 1px 3px 1px rgba(60, 64, 67, 0.15);\n",
              "      fill: #174EA6;\n",
              "    }\n",
              "\n",
              "    [theme=dark] .colab-df-convert {\n",
              "      background-color: #3B4455;\n",
              "      fill: #D2E3FC;\n",
              "    }\n",
              "\n",
              "    [theme=dark] .colab-df-convert:hover {\n",
              "      background-color: #434B5C;\n",
              "      box-shadow: 0px 1px 3px 1px rgba(0, 0, 0, 0.15);\n",
              "      filter: drop-shadow(0px 1px 2px rgba(0, 0, 0, 0.3));\n",
              "      fill: #FFFFFF;\n",
              "    }\n",
              "  </style>\n",
              "\n",
              "      <script>\n",
              "        const buttonEl =\n",
              "          document.querySelector('#df-41f2015d-b079-4043-b9a8-4a80f6db2d42 button.colab-df-convert');\n",
              "        buttonEl.style.display =\n",
              "          google.colab.kernel.accessAllowed ? 'block' : 'none';\n",
              "\n",
              "        async function convertToInteractive(key) {\n",
              "          const element = document.querySelector('#df-41f2015d-b079-4043-b9a8-4a80f6db2d42');\n",
              "          const dataTable =\n",
              "            await google.colab.kernel.invokeFunction('convertToInteractive',\n",
              "                                                     [key], {});\n",
              "          if (!dataTable) return;\n",
              "\n",
              "          const docLinkHtml = 'Like what you see? Visit the ' +\n",
              "            '<a target=\"_blank\" href=https://colab.research.google.com/notebooks/data_table.ipynb>data table notebook</a>'\n",
              "            + ' to learn more about interactive tables.';\n",
              "          element.innerHTML = '';\n",
              "          dataTable['output_type'] = 'display_data';\n",
              "          await google.colab.output.renderOutput(dataTable, element);\n",
              "          const docLink = document.createElement('div');\n",
              "          docLink.innerHTML = docLinkHtml;\n",
              "          element.appendChild(docLink);\n",
              "        }\n",
              "      </script>\n",
              "    </div>\n",
              "  </div>\n",
              "  "
            ]
          },
          "metadata": {},
          "execution_count": 375
        }
      ],
      "source": [
        "# obtenemos la importancia de cada feature del grupo\n",
        "importance = pd.concat(\n",
        "    [pd.Series(group_var_32),\n",
        "     pd.Series(rf.feature_importances_)], axis=1)\n",
        "\n",
        "importance.columns = ['feature', 'importance']\n",
        "\n",
        "# ordenamos\n",
        "importance.sort_values(by='importance', ascending=False)"
      ]
    },
    {
      "cell_type": "markdown",
      "metadata": {
        "id": "AR27PegB6sO_"
      },
      "source": [
        "**Method_2 with feature-engine**"
      ]
    },
    {
      "cell_type": "code",
      "execution_count": null,
      "metadata": {
        "id": "J-b65oya6r1o",
        "colab": {
          "base_uri": "https://localhost:8080/"
        },
        "outputId": "ec7adab1-2d0b-48d7-8444-2fcbb4b15f41"
      },
      "outputs": [
        {
          "output_type": "stream",
          "name": "stdout",
          "text": [
            "Looking in indexes: https://pypi.org/simple, https://us-python.pkg.dev/colab-wheels/public/simple/\n",
            "Requirement already satisfied: feature_engine in /usr/local/lib/python3.7/dist-packages (1.4.0)\n",
            "Requirement already satisfied: scikit-learn>=1.0.0 in /usr/local/lib/python3.7/dist-packages (from feature_engine) (1.0.2)\n",
            "Requirement already satisfied: numpy>=1.18.2 in /usr/local/lib/python3.7/dist-packages (from feature_engine) (1.21.6)\n",
            "Requirement already satisfied: pandas>=1.0.3 in /usr/local/lib/python3.7/dist-packages (from feature_engine) (1.3.5)\n",
            "Requirement already satisfied: statsmodels>=0.11.1 in /usr/local/lib/python3.7/dist-packages (from feature_engine) (0.12.2)\n",
            "Requirement already satisfied: scipy>=1.4.1 in /usr/local/lib/python3.7/dist-packages (from feature_engine) (1.7.3)\n",
            "Requirement already satisfied: pytz>=2017.3 in /usr/local/lib/python3.7/dist-packages (from pandas>=1.0.3->feature_engine) (2022.2.1)\n",
            "Requirement already satisfied: python-dateutil>=2.7.3 in /usr/local/lib/python3.7/dist-packages (from pandas>=1.0.3->feature_engine) (2.8.2)\n",
            "Requirement already satisfied: six>=1.5 in /usr/local/lib/python3.7/dist-packages (from python-dateutil>=2.7.3->pandas>=1.0.3->feature_engine) (1.15.0)\n",
            "Requirement already satisfied: threadpoolctl>=2.0.0 in /usr/local/lib/python3.7/dist-packages (from scikit-learn>=1.0.0->feature_engine) (3.1.0)\n",
            "Requirement already satisfied: joblib>=0.11 in /usr/local/lib/python3.7/dist-packages (from scikit-learn>=1.0.0->feature_engine) (1.1.0)\n",
            "Requirement already satisfied: patsy>=0.5 in /usr/local/lib/python3.7/dist-packages (from statsmodels>=0.11.1->feature_engine) (0.5.2)\n"
          ]
        }
      ],
      "source": [
        "!pip install feature_engine"
      ]
    },
    {
      "cell_type": "code",
      "execution_count": null,
      "metadata": {
        "id": "NYgx0CNu6myS"
      },
      "outputs": [],
      "source": [
        "from feature_engine.selection import SmartCorrelatedSelection"
      ]
    },
    {
      "cell_type": "code",
      "source": [
        "df = pd.read_csv(\"dataset_2.csv\", nrows=50000)"
      ],
      "metadata": {
        "id": "1hBjJvnd6uVq"
      },
      "execution_count": null,
      "outputs": []
    },
    {
      "cell_type": "code",
      "execution_count": null,
      "metadata": {
        "id": "Lg1FQtDs6y9s"
      },
      "outputs": [],
      "source": [
        "X_train, X_test, y_train, y_test = train_test_split(\n",
        "    df.drop(labels=['target'], axis=1),\n",
        "    df['target'],\n",
        "    test_size=0.3,\n",
        "    random_state=0)"
      ]
    },
    {
      "cell_type": "code",
      "execution_count": null,
      "metadata": {
        "id": "B-9KxFHj66Hc",
        "colab": {
          "base_uri": "https://localhost:8080/"
        },
        "outputId": "e99a0a14-25bc-4f3e-c65e-6407f31c9444"
      },
      "outputs": [
        {
          "output_type": "execute_result",
          "data": {
            "text/plain": [
              "SmartCorrelatedSelection(estimator=RandomForestClassifier(n_estimators=10,\n",
              "                                                          n_jobs=4,\n",
              "                                                          random_state=20),\n",
              "                         missing_values='raise',\n",
              "                         selection_method='model_performance')"
            ]
          },
          "metadata": {},
          "execution_count": 380
        }
      ],
      "source": [
        "# declaramos el modelo\n",
        "rf = RandomForestClassifier(\n",
        "    n_estimators=10,\n",
        "    random_state=20,\n",
        "    n_jobs=4,\n",
        ")\n",
        "\n",
        "# declaramos el selector\n",
        "sel = SmartCorrelatedSelection(\n",
        "    variables=None,\n",
        "    method=\"pearson\",\n",
        "    threshold=0.8,\n",
        "    missing_values=\"raise\",\n",
        "    selection_method=\"model_performance\",\n",
        "    estimator=rf,\n",
        "    scoring=\"roc_auc\",\n",
        "    cv=3,\n",
        ")\n",
        "\n",
        "# pasamos a entgrenar un rf por grupo de corr\n",
        "# por lo que puede demorar un tiempo\n",
        "\n",
        "sel.fit(X_train, y_train)"
      ]
    },
    {
      "cell_type": "code",
      "execution_count": null,
      "metadata": {
        "id": "Xo8wu02q69bd",
        "colab": {
          "base_uri": "https://localhost:8080/"
        },
        "outputId": "fa7b0d0f-9fd0-4daf-e221-8d2147c1b599"
      },
      "outputs": [
        {
          "output_type": "execute_result",
          "data": {
            "text/plain": [
              "[{'var_3', 'var_80'},\n",
              " {'var_28', 'var_5', 'var_75'},\n",
              " {'var_11', 'var_33'},\n",
              " {'var_13', 'var_17'},\n",
              " {'var_15', 'var_57'},\n",
              " {'var_18', 'var_43'},\n",
              " {'var_19', 'var_29'},\n",
              " {'var_21', 'var_70', 'var_88'},\n",
              " {'var_22', 'var_24', 'var_32', 'var_39', 'var_42', 'var_76'},\n",
              " {'var_102', 'var_23'},\n",
              " {'var_26', 'var_59'},\n",
              " {'var_108', 'var_30'},\n",
              " {'var_35', 'var_87'},\n",
              " {'var_101', 'var_105', 'var_40', 'var_74', 'var_85'},\n",
              " {'var_46', 'var_94'},\n",
              " {'var_50', 'var_72'},\n",
              " {'var_52', 'var_66'},\n",
              " {'var_109', 'var_56'},\n",
              " {'var_104', 'var_60'},\n",
              " {'var_63', 'var_64', 'var_84', 'var_97'},\n",
              " {'var_106', 'var_77'},\n",
              " {'var_90', 'var_95'},\n",
              " {'var_100', 'var_98'}]"
            ]
          },
          "metadata": {},
          "execution_count": 381
        }
      ],
      "source": [
        "# obtenemos el grupo de los features corr\n",
        "\n",
        "sel.correlated_feature_sets_"
      ]
    },
    {
      "cell_type": "markdown",
      "metadata": {
        "id": "2WzQphbsbXE3"
      },
      "source": [
        "**OBS**: Podemos ver que efectivamente hay correlaciones entre features que el metodo de feature-engine no estaría encontrando por ejm la corr entre los features: \"var_103\" y \"var_104\""
      ]
    },
    {
      "cell_type": "code",
      "execution_count": null,
      "metadata": {
        "id": "CdJulNx8aVpu"
      },
      "outputs": [],
      "source": [
        "corr = X_train.corr()\n",
        "corr = corr.abs().unstack()\n",
        "corr = corr.sort_values(ascending=False)\n",
        "\n",
        "corr = corr[corr >= 0.8]\n",
        "corr = corr[corr < 1]\n",
        "corr = pd.DataFrame(corr).reset_index()\n",
        "corr.columns = ['feature1', 'feature2', 'corr']"
      ]
    },
    {
      "cell_type": "code",
      "execution_count": null,
      "metadata": {
        "id": "s8A6CT1Waxg6",
        "colab": {
          "base_uri": "https://localhost:8080/",
          "height": 81
        },
        "outputId": "9c16c072-3fab-466d-aaa0-6ca7f9e83c69"
      },
      "outputs": [
        {
          "output_type": "execute_result",
          "data": {
            "text/plain": [
              "    feature1 feature2      corr\n",
              "131  var_103  var_104  0.804599"
            ],
            "text/html": [
              "\n",
              "  <div id=\"df-081cce6a-2bd4-43c1-ad97-d0e81309aa1c\">\n",
              "    <div class=\"colab-df-container\">\n",
              "      <div>\n",
              "<style scoped>\n",
              "    .dataframe tbody tr th:only-of-type {\n",
              "        vertical-align: middle;\n",
              "    }\n",
              "\n",
              "    .dataframe tbody tr th {\n",
              "        vertical-align: top;\n",
              "    }\n",
              "\n",
              "    .dataframe thead th {\n",
              "        text-align: right;\n",
              "    }\n",
              "</style>\n",
              "<table border=\"1\" class=\"dataframe\">\n",
              "  <thead>\n",
              "    <tr style=\"text-align: right;\">\n",
              "      <th></th>\n",
              "      <th>feature1</th>\n",
              "      <th>feature2</th>\n",
              "      <th>corr</th>\n",
              "    </tr>\n",
              "  </thead>\n",
              "  <tbody>\n",
              "    <tr>\n",
              "      <th>131</th>\n",
              "      <td>var_103</td>\n",
              "      <td>var_104</td>\n",
              "      <td>0.804599</td>\n",
              "    </tr>\n",
              "  </tbody>\n",
              "</table>\n",
              "</div>\n",
              "      <button class=\"colab-df-convert\" onclick=\"convertToInteractive('df-081cce6a-2bd4-43c1-ad97-d0e81309aa1c')\"\n",
              "              title=\"Convert this dataframe to an interactive table.\"\n",
              "              style=\"display:none;\">\n",
              "        \n",
              "  <svg xmlns=\"http://www.w3.org/2000/svg\" height=\"24px\"viewBox=\"0 0 24 24\"\n",
              "       width=\"24px\">\n",
              "    <path d=\"M0 0h24v24H0V0z\" fill=\"none\"/>\n",
              "    <path d=\"M18.56 5.44l.94 2.06.94-2.06 2.06-.94-2.06-.94-.94-2.06-.94 2.06-2.06.94zm-11 1L8.5 8.5l.94-2.06 2.06-.94-2.06-.94L8.5 2.5l-.94 2.06-2.06.94zm10 10l.94 2.06.94-2.06 2.06-.94-2.06-.94-.94-2.06-.94 2.06-2.06.94z\"/><path d=\"M17.41 7.96l-1.37-1.37c-.4-.4-.92-.59-1.43-.59-.52 0-1.04.2-1.43.59L10.3 9.45l-7.72 7.72c-.78.78-.78 2.05 0 2.83L4 21.41c.39.39.9.59 1.41.59.51 0 1.02-.2 1.41-.59l7.78-7.78 2.81-2.81c.8-.78.8-2.07 0-2.86zM5.41 20L4 18.59l7.72-7.72 1.47 1.35L5.41 20z\"/>\n",
              "  </svg>\n",
              "      </button>\n",
              "      \n",
              "  <style>\n",
              "    .colab-df-container {\n",
              "      display:flex;\n",
              "      flex-wrap:wrap;\n",
              "      gap: 12px;\n",
              "    }\n",
              "\n",
              "    .colab-df-convert {\n",
              "      background-color: #E8F0FE;\n",
              "      border: none;\n",
              "      border-radius: 50%;\n",
              "      cursor: pointer;\n",
              "      display: none;\n",
              "      fill: #1967D2;\n",
              "      height: 32px;\n",
              "      padding: 0 0 0 0;\n",
              "      width: 32px;\n",
              "    }\n",
              "\n",
              "    .colab-df-convert:hover {\n",
              "      background-color: #E2EBFA;\n",
              "      box-shadow: 0px 1px 2px rgba(60, 64, 67, 0.3), 0px 1px 3px 1px rgba(60, 64, 67, 0.15);\n",
              "      fill: #174EA6;\n",
              "    }\n",
              "\n",
              "    [theme=dark] .colab-df-convert {\n",
              "      background-color: #3B4455;\n",
              "      fill: #D2E3FC;\n",
              "    }\n",
              "\n",
              "    [theme=dark] .colab-df-convert:hover {\n",
              "      background-color: #434B5C;\n",
              "      box-shadow: 0px 1px 3px 1px rgba(0, 0, 0, 0.15);\n",
              "      filter: drop-shadow(0px 1px 2px rgba(0, 0, 0, 0.3));\n",
              "      fill: #FFFFFF;\n",
              "    }\n",
              "  </style>\n",
              "\n",
              "      <script>\n",
              "        const buttonEl =\n",
              "          document.querySelector('#df-081cce6a-2bd4-43c1-ad97-d0e81309aa1c button.colab-df-convert');\n",
              "        buttonEl.style.display =\n",
              "          google.colab.kernel.accessAllowed ? 'block' : 'none';\n",
              "\n",
              "        async function convertToInteractive(key) {\n",
              "          const element = document.querySelector('#df-081cce6a-2bd4-43c1-ad97-d0e81309aa1c');\n",
              "          const dataTable =\n",
              "            await google.colab.kernel.invokeFunction('convertToInteractive',\n",
              "                                                     [key], {});\n",
              "          if (!dataTable) return;\n",
              "\n",
              "          const docLinkHtml = 'Like what you see? Visit the ' +\n",
              "            '<a target=\"_blank\" href=https://colab.research.google.com/notebooks/data_table.ipynb>data table notebook</a>'\n",
              "            + ' to learn more about interactive tables.';\n",
              "          element.innerHTML = '';\n",
              "          dataTable['output_type'] = 'display_data';\n",
              "          await google.colab.output.renderOutput(dataTable, element);\n",
              "          const docLink = document.createElement('div');\n",
              "          docLink.innerHTML = docLinkHtml;\n",
              "          element.appendChild(docLink);\n",
              "        }\n",
              "      </script>\n",
              "    </div>\n",
              "  </div>\n",
              "  "
            ]
          },
          "metadata": {},
          "execution_count": 383
        }
      ],
      "source": [
        "corr[corr[\"feature1\"]==\"var_103\"]"
      ]
    },
    {
      "cell_type": "markdown",
      "metadata": {
        "id": "JvwSNipBbzPT"
      },
      "source": [
        "Ahora pasemos a examinar la performance de rf basado en los features del noveno grupo"
      ]
    },
    {
      "cell_type": "code",
      "execution_count": null,
      "metadata": {
        "id": "843uKbqS7ykM",
        "colab": {
          "base_uri": "https://localhost:8080/"
        },
        "outputId": "0058ef44-6c90-4d7f-a0de-e38d501df92f"
      },
      "outputs": [
        {
          "output_type": "execute_result",
          "data": {
            "text/plain": [
              "{'var_22', 'var_24', 'var_32', 'var_39', 'var_42', 'var_76'}"
            ]
          },
          "metadata": {},
          "execution_count": 384
        }
      ],
      "source": [
        "group = sel.correlated_feature_sets_[8]\n",
        "group"
      ]
    },
    {
      "cell_type": "markdown",
      "metadata": {
        "id": "YNMfpvDA8rBI"
      },
      "source": [
        "=> El feature con mejor performance es var_76 por lo tanto es el que deberíamos  conservar."
      ]
    },
    {
      "cell_type": "code",
      "execution_count": null,
      "metadata": {
        "id": "nZKcLCht7uJW",
        "colab": {
          "base_uri": "https://localhost:8080/"
        },
        "outputId": "c830db53-d0f1-42fb-c0ac-dcc95e0a2870"
      },
      "outputs": [
        {
          "output_type": "stream",
          "name": "stdout",
          "text": [
            "var_24 0.4995271209227386\n",
            "var_32 0.4932865386897871\n",
            "var_76 0.504476568736881\n",
            "var_39 0.4953910489136056\n",
            "var_22 0.5027991993862401\n",
            "var_42 0.4964444310729199\n"
          ]
        }
      ],
      "source": [
        "for f in group:\n",
        "    \n",
        "    model = cross_validate(\n",
        "        rf,\n",
        "        X_train[f].to_frame(),\n",
        "        y_train,\n",
        "        cv=3,\n",
        "        return_estimator=False,\n",
        "        scoring='roc_auc',\n",
        "    )\n",
        "\n",
        "    print(f, model[\"test_score\"].mean())"
      ]
    },
    {
      "cell_type": "markdown",
      "metadata": {
        "id": "Mr8k9rndcD2X"
      },
      "source": [
        "Podemos checkearlo haciendo:"
      ]
    },
    {
      "cell_type": "code",
      "execution_count": null,
      "metadata": {
        "id": "BqUSPlFy8pzW",
        "colab": {
          "base_uri": "https://localhost:8080/"
        },
        "outputId": "3feface2-a35a-4bf0-8974-f04c34a23562"
      },
      "outputs": [
        {
          "output_type": "stream",
          "name": "stdout",
          "text": [
            "El feature: var_24 sera eliminado : True\n",
            "El feature: var_32 sera eliminado : True\n",
            "El feature: var_76 sera eliminado : False\n",
            "El feature: var_39 sera eliminado : True\n",
            "El feature: var_22 sera eliminado : True\n",
            "El feature: var_42 sera eliminado : True\n"
          ]
        }
      ],
      "source": [
        "for feature in group:\n",
        "  print(f\"El feature: {feature} sera eliminado : {feature in sel.features_to_drop_}\")"
      ]
    },
    {
      "cell_type": "code",
      "execution_count": null,
      "metadata": {
        "id": "nRLigf6s9I-l",
        "colab": {
          "base_uri": "https://localhost:8080/"
        },
        "outputId": "e117c01f-6482-4be2-bef3-6f075986775a"
      },
      "outputs": [
        {
          "output_type": "execute_result",
          "data": {
            "text/plain": [
              "((35000, 74), (15000, 74))"
            ]
          },
          "metadata": {},
          "execution_count": 387
        }
      ],
      "source": [
        "# dropeamos\n",
        "X_train = sel.transform(X_train)\n",
        "X_test = sel.transform(X_test)\n",
        "\n",
        "X_train.shape, X_test.shape"
      ]
    },
    {
      "cell_type": "markdown",
      "metadata": {
        "id": "x0rIyTiT9tmk"
      },
      "source": [
        "Cdo declaramos SmartCorrelatedSelection podemos seleccionar en selection_method distintos métodos de selección.\n",
        "\n",
        "Por ejm podríamos querer seleccionar los features con más o menor varianza de cada grupo, o podríamos querer seleccionar por cardinalidad ie seleccionar los features con más valores únicos."
      ]
    },
    {
      "cell_type": "markdown",
      "metadata": {
        "id": "Hzn7FklbXIqa"
      },
      "source": [
        "## Statistical measures\n",
        "\n",
        "Estos métodos evalúan las características individualmente, se trata de métodos estadísticos."
      ]
    },
    {
      "cell_type": "markdown",
      "metadata": {
        "id": "UfboCE3rYQW6"
      },
      "source": [
        "### Mutual information\n",
        "\n",
        "Información mutua es la medida de la dependencia mutua de 2 variables.\n",
        "ie que el metodo estadistico mutual information cuantifica la cantidad de informacion ganada de una variable observando otra variable.\n",
        "\n",
        "**Los valores de información mutua más altos indican poca incertidumbre sobre la variable Y dado X.**\n",
        "\n",
        "No se limita a variables en números reales ni a relaciones lineales, por lo que la información mutua es más general que el coeficiente de consecuencias de Pearson."
      ]
    },
    {
      "cell_type": "code",
      "execution_count": null,
      "metadata": {
        "id": "7C6VxXA-bbnM"
      },
      "outputs": [],
      "source": [
        "from sklearn.model_selection import train_test_split\n",
        "\n",
        "# to obtain the mutual information values\n",
        "from sklearn.feature_selection import mutual_info_classif, mutual_info_regression\n",
        "\n",
        "# to select the features\n",
        "from sklearn.feature_selection import SelectKBest, SelectPercentile\n"
      ]
    },
    {
      "cell_type": "code",
      "execution_count": null,
      "metadata": {
        "id": "FOAyF9N1Xjuw"
      },
      "outputs": [],
      "source": [
        "df = pd.read_csv(\"dataset_2.csv\")"
      ]
    },
    {
      "cell_type": "code",
      "execution_count": null,
      "metadata": {
        "id": "uIyHMcj2a7fK",
        "colab": {
          "base_uri": "https://localhost:8080/"
        },
        "outputId": "b5f0c2e1-742f-42de-b172-3d1a5b0dd6b7"
      },
      "outputs": [
        {
          "output_type": "execute_result",
          "data": {
            "text/plain": [
              "((35000, 108), (15000, 108))"
            ]
          },
          "metadata": {},
          "execution_count": 391
        }
      ],
      "source": [
        "X_train, X_test, y_train, y_test = train_test_split(\n",
        "    df.drop(labels=['target'], axis=1),\n",
        "    df['target'],\n",
        "    test_size=0.3,\n",
        "    random_state=0)\n",
        "\n",
        "X_train.shape, X_test.shape"
      ]
    },
    {
      "cell_type": "markdown",
      "metadata": {
        "id": "fIybWsX6blu3"
      },
      "source": [
        "**Determine Mutual Information**\n",
        "\n",
        "Procedemos a calcular la mi entre los features y el target.\n",
        "\n",
        "* A menor valor de mi => menos información podemos inferior del target a partir de los features."
      ]
    },
    {
      "cell_type": "code",
      "execution_count": null,
      "metadata": {
        "id": "4F13TmXzbiVZ",
        "colab": {
          "base_uri": "https://localhost:8080/"
        },
        "outputId": "cad6fbf5-c7cc-4373-b7d6-645b25946b61"
      },
      "outputs": [
        {
          "output_type": "execute_result",
          "data": {
            "text/plain": [
              "array([0.00000000e+00, 3.54873138e-03, 0.00000000e+00, 9.75386122e-04,\n",
              "       2.49682570e-04, 5.39899613e-03, 4.92935787e-03, 3.20749966e-03,\n",
              "       0.00000000e+00, 2.33452430e-04, 9.86401031e-04, 8.02071889e-04,\n",
              "       8.16054208e-04, 5.13065790e-03, 0.00000000e+00, 1.50282268e-02,\n",
              "       0.00000000e+00, 0.00000000e+00, 8.38981654e-05, 0.00000000e+00,\n",
              "       3.97314147e-03, 0.00000000e+00, 0.00000000e+00, 0.00000000e+00,\n",
              "       1.45624471e-04, 0.00000000e+00, 0.00000000e+00, 0.00000000e+00,\n",
              "       1.46632282e-03, 1.51287470e-03, 0.00000000e+00, 0.00000000e+00,\n",
              "       4.82214591e-03, 1.68946749e-02, 0.00000000e+00, 2.11699174e-03,\n",
              "       8.66933244e-05, 1.84376251e-03, 6.05061439e-04, 0.00000000e+00,\n",
              "       0.00000000e+00, 0.00000000e+00, 0.00000000e+00, 3.08886783e-03,\n",
              "       2.14456722e-03, 1.88606145e-03, 0.00000000e+00, 3.96746537e-03,\n",
              "       0.00000000e+00, 3.48825499e-04, 0.00000000e+00, 2.72288663e-03,\n",
              "       0.00000000e+00, 3.68467017e-03, 4.07341824e-02, 1.41486431e-03,\n",
              "       3.74048510e-03, 0.00000000e+00, 1.63184790e-04, 2.54451390e-03,\n",
              "       0.00000000e+00, 0.00000000e+00, 1.03107475e-03, 0.00000000e+00,\n",
              "       3.65491640e-03, 0.00000000e+00, 0.00000000e+00, 1.23891910e-02,\n",
              "       0.00000000e+00, 0.00000000e+00, 1.30681923e-04, 4.26804911e-03,\n",
              "       2.75596019e-03, 7.20901816e-04, 1.27998797e-03, 3.05430333e-04,\n",
              "       4.06746339e-03, 0.00000000e+00, 3.43488060e-03, 2.71172388e-03,\n",
              "       1.29877128e-03, 3.19556359e-05, 0.00000000e+00, 0.00000000e+00,\n",
              "       3.86651071e-03, 0.00000000e+00, 0.00000000e+00, 0.00000000e+00,\n",
              "       3.37180116e-03, 1.45420045e-03, 2.58441630e-03, 0.00000000e+00,\n",
              "       1.14814628e-03, 1.09578089e-03, 7.35338447e-03, 2.78583869e-03,\n",
              "       3.40118303e-03, 7.60281290e-04, 4.16241226e-03, 2.50742841e-03,\n",
              "       2.95035952e-03, 2.73392572e-03, 3.45125063e-04, 0.00000000e+00,\n",
              "       1.80953345e-03, 0.00000000e+00, 1.89370574e-02, 0.00000000e+00])"
            ]
          },
          "metadata": {},
          "execution_count": 392
        }
      ],
      "source": [
        "mi = mutual_info_classif(X_train, y_train)\n",
        "mi"
      ]
    },
    {
      "cell_type": "markdown",
      "metadata": {
        "id": "obSuEQ3wccKh"
      },
      "source": [
        "Podemos observar que tenemos variables con un valor MI alto (izq) y variables con un MI casi nulo (der).\n",
        "Una vez que calculamos los valores de MI, para seleccionar los features necesitamos establecer un límite para poder seleccionar los features.\n",
        "\n",
        "El límite se puede establecer de varias formas:\n",
        "\n",
        "* Seleccionar los i primeros features.\n",
        "* Seleccionar el n top de los percentiles."
      ]
    },
    {
      "cell_type": "code",
      "execution_count": null,
      "metadata": {
        "id": "rhcy4QazcHKq",
        "colab": {
          "base_uri": "https://localhost:8080/",
          "height": 421
        },
        "outputId": "078cde8e-0f6f-4424-dc4a-021c8e5cb06e"
      },
      "outputs": [
        {
          "output_type": "execute_result",
          "data": {
            "text/plain": [
              "Text(0, 0.5, 'Mutual Information')"
            ]
          },
          "metadata": {},
          "execution_count": 393
        },
        {
          "output_type": "display_data",
          "data": {
            "text/plain": [
              "<Figure size 1440x432 with 1 Axes>"
            ],
            "image/png": "[encoded data removed]"
          },
          "metadata": {
            "needs_background": "light"
          }
        }
      ],
      "source": [
        "mi = pd.Series(mi)\n",
        "mi.index = X_train.columns\n",
        "mi.sort_values(ascending=False).plot.bar(figsize=(20, 6))\n",
        "plt.ylabel('Mutual Information')"
      ]
    },
    {
      "cell_type": "markdown",
      "metadata": {
        "id": "nPVHe-fbdVZK"
      },
      "source": [
        "**Select top k features based on MI**"
      ]
    },
    {
      "cell_type": "code",
      "execution_count": null,
      "metadata": {
        "id": "8SRTOxuFdTT6",
        "colab": {
          "base_uri": "https://localhost:8080/"
        },
        "outputId": "c7a25249-3c09-49c1-c249-1a9d9d5d8fae"
      },
      "outputs": [
        {
          "output_type": "execute_result",
          "data": {
            "text/plain": [
              "Index(['var_6', 'var_7', 'var_14', 'var_16', 'var_34', 'var_55', 'var_69',\n",
              "       'var_91', 'var_96', 'var_108'],\n",
              "      dtype='object')"
            ]
          },
          "metadata": {},
          "execution_count": 394
        }
      ],
      "source": [
        "# seleccionamos los 10 primeros features con mayor valor MI\n",
        "sel_ = SelectKBest(mutual_info_classif, k=10).fit(X_train, y_train)\n",
        "X_train.columns[sel_.get_support()]"
      ]
    },
    {
      "cell_type": "code",
      "execution_count": null,
      "metadata": {
        "id": "R6qw6ztFdviq"
      },
      "outputs": [],
      "source": [
        "# eliminamos el resto de los features\n",
        "X_train = sel_.transform(X_train)\n",
        "X_test = sel_.transform(X_test)"
      ]
    },
    {
      "cell_type": "markdown",
      "metadata": {
        "id": "ZQNaiSBVfbEp"
      },
      "source": [
        "### ji-square test\n",
        "\n",
        "Este test nos ayudará a evaluar variables **categóricas si el target tmb es categórico** (el target tmb podría tratarse de una variable discreta si es que no contase con muchos valores distintos).\n",
        "\n",
        "La distribución ji cuadrado tiene dos usos principales:\n",
        "* Prueba de bondad: Queremos ver si la muestra observada se corresponde con una distribución esperada.\n",
        "* Checkear independencia de dos variables: La prueba de independencia, contrasta la hipótesis de que las variables son independientes, frente a la hipótesis alternativa de que una variable se distribuye de modo diferente para diversos niveles de la otra.\n",
        "\n",
        "Para la selección de features nos servira más la aplicación de la ji cuadrado para checkear independencia de dos variables."
      ]
    },
    {
      "cell_type": "markdown",
      "metadata": {
        "id": "nhPsWt0A6WDu"
      },
      "source": [
        "Como usamos la distribucion ji-cuadrado para seleccionar features? \n",
        "=> \n",
        "* 1) Creamos una tabla de contingencia entre la variable categorica y el target.\n",
        "* 2) Encontramos la distribucion esperada (a partir de los datos observados).\n",
        "* 3) Calculamos el estadistico ji-cuadrado.\n",
        "* 4) Obtenemos el p-valor.\n",
        "* 5) A partir del p-valor determinamos si dicha variable tiene poder predictivo hacia el target."
      ]
    },
    {
      "cell_type": "code",
      "execution_count": null,
      "metadata": {
        "id": "cppvLY9ZjTQZ"
      },
      "outputs": [],
      "source": [
        "from scipy.stats import chi2_contingency\n",
        "from sklearn.model_selection import train_test_split"
      ]
    },
    {
      "cell_type": "code",
      "execution_count": null,
      "metadata": {
        "id": "i9p58W3tfd4m"
      },
      "outputs": [],
      "source": [
        "df = pd.read_csv('https://www.openml.org/data/get_csv/16826755/phpMYEkMl')"
      ]
    },
    {
      "cell_type": "code",
      "execution_count": null,
      "metadata": {
        "id": "RBEo_q_Jjazr"
      },
      "outputs": [],
      "source": [
        "vars = [\"pclass\", \"survived\", \"sex\", \"sibsp\", \"parch\", \"embarked\"]"
      ]
    },
    {
      "cell_type": "code",
      "execution_count": null,
      "metadata": {
        "id": "55coeQMIkDhh"
      },
      "outputs": [],
      "source": [
        "df = df[vars]"
      ]
    },
    {
      "cell_type": "code",
      "execution_count": null,
      "metadata": {
        "id": "4k7sXb0ylO_i",
        "colab": {
          "base_uri": "https://localhost:8080/"
        },
        "outputId": "7cd847b8-e159-4354-88aa-9c029cac699e"
      },
      "outputs": [
        {
          "output_type": "execute_result",
          "data": {
            "text/plain": [
              "((916, 5), (393, 5))"
            ]
          },
          "metadata": {},
          "execution_count": 400
        }
      ],
      "source": [
        "X_train, X_test, y_train, y_test = train_test_split(\n",
        "    df.drop(\"survived\", axis=1),\n",
        "    df['survived'],\n",
        "    test_size=0.3,\n",
        "    random_state=0,\n",
        ")\n",
        "\n",
        "X_train.shape, X_test.shape"
      ]
    },
    {
      "cell_type": "markdown",
      "metadata": {
        "id": "A5qsOxEb7SXA"
      },
      "source": [
        "* 1) Calculamos la tabla de contingencia."
      ]
    },
    {
      "cell_type": "code",
      "execution_count": null,
      "metadata": {
        "id": "rxwdbxEglduT",
        "colab": {
          "base_uri": "https://localhost:8080/",
          "height": 143
        },
        "outputId": "4389fd1b-0f2e-4036-ec21-297bad10e85b"
      },
      "outputs": [
        {
          "output_type": "execute_result",
          "data": {
            "text/plain": [
              "sex       female  male\n",
              "survived              \n",
              "0             91   472\n",
              "1            244   109"
            ],
            "text/html": [
              "\n",
              "  <div id=\"df-b9deae2e-d5a7-4fce-8c0e-8bb834995fe8\">\n",
              "    <div class=\"colab-df-container\">\n",
              "      <div>\n",
              "<style scoped>\n",
              "    .dataframe tbody tr th:only-of-type {\n",
              "        vertical-align: middle;\n",
              "    }\n",
              "\n",
              "    .dataframe tbody tr th {\n",
              "        vertical-align: top;\n",
              "    }\n",
              "\n",
              "    .dataframe thead th {\n",
              "        text-align: right;\n",
              "    }\n",
              "</style>\n",
              "<table border=\"1\" class=\"dataframe\">\n",
              "  <thead>\n",
              "    <tr style=\"text-align: right;\">\n",
              "      <th>sex</th>\n",
              "      <th>female</th>\n",
              "      <th>male</th>\n",
              "    </tr>\n",
              "    <tr>\n",
              "      <th>survived</th>\n",
              "      <th></th>\n",
              "      <th></th>\n",
              "    </tr>\n",
              "  </thead>\n",
              "  <tbody>\n",
              "    <tr>\n",
              "      <th>0</th>\n",
              "      <td>91</td>\n",
              "      <td>472</td>\n",
              "    </tr>\n",
              "    <tr>\n",
              "      <th>1</th>\n",
              "      <td>244</td>\n",
              "      <td>109</td>\n",
              "    </tr>\n",
              "  </tbody>\n",
              "</table>\n",
              "</div>\n",
              "      <button class=\"colab-df-convert\" onclick=\"convertToInteractive('df-b9deae2e-d5a7-4fce-8c0e-8bb834995fe8')\"\n",
              "              title=\"Convert this dataframe to an interactive table.\"\n",
              "              style=\"display:none;\">\n",
              "        \n",
              "  <svg xmlns=\"http://www.w3.org/2000/svg\" height=\"24px\"viewBox=\"0 0 24 24\"\n",
              "       width=\"24px\">\n",
              "    <path d=\"M0 0h24v24H0V0z\" fill=\"none\"/>\n",
              "    <path d=\"M18.56 5.44l.94 2.06.94-2.06 2.06-.94-2.06-.94-.94-2.06-.94 2.06-2.06.94zm-11 1L8.5 8.5l.94-2.06 2.06-.94-2.06-.94L8.5 2.5l-.94 2.06-2.06.94zm10 10l.94 2.06.94-2.06 2.06-.94-2.06-.94-.94-2.06-.94 2.06-2.06.94z\"/><path d=\"M17.41 7.96l-1.37-1.37c-.4-.4-.92-.59-1.43-.59-.52 0-1.04.2-1.43.59L10.3 9.45l-7.72 7.72c-.78.78-.78 2.05 0 2.83L4 21.41c.39.39.9.59 1.41.59.51 0 1.02-.2 1.41-.59l7.78-7.78 2.81-2.81c.8-.78.8-2.07 0-2.86zM5.41 20L4 18.59l7.72-7.72 1.47 1.35L5.41 20z\"/>\n",
              "  </svg>\n",
              "      </button>\n",
              "      \n",
              "  <style>\n",
              "    .colab-df-container {\n",
              "      display:flex;\n",
              "      flex-wrap:wrap;\n",
              "      gap: 12px;\n",
              "    }\n",
              "\n",
              "    .colab-df-convert {\n",
              "      background-color: #E8F0FE;\n",
              "      border: none;\n",
              "      border-radius: 50%;\n",
              "      cursor: pointer;\n",
              "      display: none;\n",
              "      fill: #1967D2;\n",
              "      height: 32px;\n",
              "      padding: 0 0 0 0;\n",
              "      width: 32px;\n",
              "    }\n",
              "\n",
              "    .colab-df-convert:hover {\n",
              "      background-color: #E2EBFA;\n",
              "      box-shadow: 0px 1px 2px rgba(60, 64, 67, 0.3), 0px 1px 3px 1px rgba(60, 64, 67, 0.15);\n",
              "      fill: #174EA6;\n",
              "    }\n",
              "\n",
              "    [theme=dark] .colab-df-convert {\n",
              "      background-color: #3B4455;\n",
              "      fill: #D2E3FC;\n",
              "    }\n",
              "\n",
              "    [theme=dark] .colab-df-convert:hover {\n",
              "      background-color: #434B5C;\n",
              "      box-shadow: 0px 1px 3px 1px rgba(0, 0, 0, 0.15);\n",
              "      filter: drop-shadow(0px 1px 2px rgba(0, 0, 0, 0.3));\n",
              "      fill: #FFFFFF;\n",
              "    }\n",
              "  </style>\n",
              "\n",
              "      <script>\n",
              "        const buttonEl =\n",
              "          document.querySelector('#df-b9deae2e-d5a7-4fce-8c0e-8bb834995fe8 button.colab-df-convert');\n",
              "        buttonEl.style.display =\n",
              "          google.colab.kernel.accessAllowed ? 'block' : 'none';\n",
              "\n",
              "        async function convertToInteractive(key) {\n",
              "          const element = document.querySelector('#df-b9deae2e-d5a7-4fce-8c0e-8bb834995fe8');\n",
              "          const dataTable =\n",
              "            await google.colab.kernel.invokeFunction('convertToInteractive',\n",
              "                                                     [key], {});\n",
              "          if (!dataTable) return;\n",
              "\n",
              "          const docLinkHtml = 'Like what you see? Visit the ' +\n",
              "            '<a target=\"_blank\" href=https://colab.research.google.com/notebooks/data_table.ipynb>data table notebook</a>'\n",
              "            + ' to learn more about interactive tables.';\n",
              "          element.innerHTML = '';\n",
              "          dataTable['output_type'] = 'display_data';\n",
              "          await google.colab.output.renderOutput(dataTable, element);\n",
              "          const docLink = document.createElement('div');\n",
              "          docLink.innerHTML = docLinkHtml;\n",
              "          element.appendChild(docLink);\n",
              "        }\n",
              "      </script>\n",
              "    </div>\n",
              "  </div>\n",
              "  "
            ]
          },
          "metadata": {},
          "execution_count": 401
        }
      ],
      "source": [
        "# contingency table for gender\n",
        "c = pd.crosstab(y_train, X_train['sex'])\n",
        "\n",
        "c"
      ]
    },
    {
      "cell_type": "markdown",
      "metadata": {
        "id": "nq_b5eXT7kFX"
      },
      "source": [
        "* 2) Calculamos la distribucion esperada.\n",
        "* 3) Calculamos el estadistico ji-cuadrado.\n",
        "* 4) Calculamos el p-valor."
      ]
    },
    {
      "cell_type": "code",
      "execution_count": null,
      "metadata": {
        "id": "_uS0mMy_mZRA",
        "colab": {
          "base_uri": "https://localhost:8080/"
        },
        "outputId": "72aae39c-85d6-4266-c112-c61a62a12a79"
      },
      "outputs": [
        {
          "output_type": "execute_result",
          "data": {
            "text/plain": [
              "(260.0395486295738,\n",
              " 1.682269173902727e-58,\n",
              " 1,\n",
              " array([[205.90065502, 357.09934498],\n",
              "        [129.09934498, 223.90065502]]))"
            ]
          },
          "metadata": {},
          "execution_count": 402
        }
      ],
      "source": [
        "chi2_contingency(c)"
      ]
    },
    {
      "cell_type": "markdown",
      "metadata": {
        "id": "le637-cd8B1K"
      },
      "source": [
        "Aplicamos los 4 pasos a todos los features categóricos."
      ]
    },
    {
      "cell_type": "code",
      "execution_count": null,
      "metadata": {
        "id": "ck9c4nfjmzIi"
      },
      "outputs": [],
      "source": [
        "# To rank all features\n",
        "chi_ls = []\n",
        "\n",
        "for feature in X_train.columns:\n",
        "    \n",
        "    # create contingency table\n",
        "    c = pd.crosstab(y_train, X_train[feature])\n",
        "    \n",
        "    # chi_test\n",
        "    p_value = chi2_contingency(c)[1]\n",
        "    chi_ls.append(p_value)"
      ]
    },
    {
      "cell_type": "markdown",
      "metadata": {
        "id": "kEw2_4mu8J1v"
      },
      "source": [
        "Por último ploteamos el resultado del p-valor de acuerdo a cada variable categórica."
      ]
    },
    {
      "cell_type": "code",
      "execution_count": null,
      "metadata": {
        "id": "dS_NG0Yo8uDR",
        "colab": {
          "base_uri": "https://localhost:8080/"
        },
        "outputId": "3369050a-5ae3-48b9-b5c8-24d5048c5090"
      },
      "outputs": [
        {
          "output_type": "execute_result",
          "data": {
            "text/plain": [
              "True"
            ]
          },
          "metadata": {},
          "execution_count": 404
        }
      ],
      "source": [
        "len(X_train.columns) == len(chi_ls)"
      ]
    },
    {
      "cell_type": "code",
      "execution_count": null,
      "metadata": {
        "id": "IHK8J9lT8ZsC",
        "colab": {
          "base_uri": "https://localhost:8080/",
          "height": 293
        },
        "outputId": "5c979c26-f064-4827-b455-329211f8d2f8"
      },
      "outputs": [
        {
          "output_type": "execute_result",
          "data": {
            "text/plain": [
              "<matplotlib.axes._subplots.AxesSubplot at 0x7f4ee605bb90>"
            ]
          },
          "metadata": {},
          "execution_count": 405
        },
        {
          "output_type": "display_data",
          "data": {
            "text/plain": [
              "<Figure size 432x288 with 1 Axes>"
            ],
            "image/png": "[encoded data removed]"
          },
          "metadata": {
            "needs_background": "light"
          }
        }
      ],
      "source": [
        "# Creamos una serie para poder ordenar las variables segun el p-valor obtenido\n",
        "sorted_series = pd.Series(chi_ls, index=X_train.columns).sort_values(ascending=True)\n",
        "\n",
        "sns.barplot(x = sorted_series.index,y = sorted_series.values, color=\"b\")"
      ]
    },
    {
      "cell_type": "code",
      "execution_count": null,
      "metadata": {
        "id": "9kCoNM5H97tk",
        "colab": {
          "base_uri": "https://localhost:8080/"
        },
        "outputId": "e91afd42-5325-4097-d04e-5d514b42e4be"
      },
      "outputs": [
        {
          "output_type": "execute_result",
          "data": {
            "text/plain": [
              "Index(['sex', 'pclass', 'embarked'], dtype='object')"
            ]
          },
          "metadata": {},
          "execution_count": 406
        }
      ],
      "source": [
        "sorted_series.index[:3]"
      ]
    },
    {
      "cell_type": "code",
      "execution_count": null,
      "metadata": {
        "id": "E8QWxQrwnnFC",
        "colab": {
          "base_uri": "https://localhost:8080/"
        },
        "outputId": "035c12c4-64a0-47a9-e552-34c58b11b418"
      },
      "outputs": [
        {
          "output_type": "execute_result",
          "data": {
            "text/plain": [
              "Index(['sex', 'pclass', 'embarked'], dtype='object')"
            ]
          },
          "metadata": {},
          "execution_count": 407
        }
      ],
      "source": [
        "# seleccionamos el top 3\n",
        "selected = sorted_series.index[:3]\n",
        "selected"
      ]
    },
    {
      "cell_type": "code",
      "execution_count": null,
      "metadata": {
        "id": "oV5aLNbHnpBy",
        "colab": {
          "base_uri": "https://localhost:8080/",
          "height": 206
        },
        "outputId": "da92367f-ea5f-4626-8302-b6e25386c355"
      },
      "outputs": [
        {
          "output_type": "execute_result",
          "data": {
            "text/plain": [
              "         sex  pclass embarked\n",
              "501   female       2        S\n",
              "588   female       2        S\n",
              "402   female       2        C\n",
              "1193    male       3        Q\n",
              "686   female       3        Q"
            ],
            "text/html": [
              "\n",
              "  <div id=\"df-0609c696-13c8-4670-bbea-529cdd98f625\">\n",
              "    <div class=\"colab-df-container\">\n",
              "      <div>\n",
              "<style scoped>\n",
              "    .dataframe tbody tr th:only-of-type {\n",
              "        vertical-align: middle;\n",
              "    }\n",
              "\n",
              "    .dataframe tbody tr th {\n",
              "        vertical-align: top;\n",
              "    }\n",
              "\n",
              "    .dataframe thead th {\n",
              "        text-align: right;\n",
              "    }\n",
              "</style>\n",
              "<table border=\"1\" class=\"dataframe\">\n",
              "  <thead>\n",
              "    <tr style=\"text-align: right;\">\n",
              "      <th></th>\n",
              "      <th>sex</th>\n",
              "      <th>pclass</th>\n",
              "      <th>embarked</th>\n",
              "    </tr>\n",
              "  </thead>\n",
              "  <tbody>\n",
              "    <tr>\n",
              "      <th>501</th>\n",
              "      <td>female</td>\n",
              "      <td>2</td>\n",
              "      <td>S</td>\n",
              "    </tr>\n",
              "    <tr>\n",
              "      <th>588</th>\n",
              "      <td>female</td>\n",
              "      <td>2</td>\n",
              "      <td>S</td>\n",
              "    </tr>\n",
              "    <tr>\n",
              "      <th>402</th>\n",
              "      <td>female</td>\n",
              "      <td>2</td>\n",
              "      <td>C</td>\n",
              "    </tr>\n",
              "    <tr>\n",
              "      <th>1193</th>\n",
              "      <td>male</td>\n",
              "      <td>3</td>\n",
              "      <td>Q</td>\n",
              "    </tr>\n",
              "    <tr>\n",
              "      <th>686</th>\n",
              "      <td>female</td>\n",
              "      <td>3</td>\n",
              "      <td>Q</td>\n",
              "    </tr>\n",
              "  </tbody>\n",
              "</table>\n",
              "</div>\n",
              "      <button class=\"colab-df-convert\" onclick=\"convertToInteractive('df-0609c696-13c8-4670-bbea-529cdd98f625')\"\n",
              "              title=\"Convert this dataframe to an interactive table.\"\n",
              "              style=\"display:none;\">\n",
              "        \n",
              "  <svg xmlns=\"http://www.w3.org/2000/svg\" height=\"24px\"viewBox=\"0 0 24 24\"\n",
              "       width=\"24px\">\n",
              "    <path d=\"M0 0h24v24H0V0z\" fill=\"none\"/>\n",
              "    <path d=\"M18.56 5.44l.94 2.06.94-2.06 2.06-.94-2.06-.94-.94-2.06-.94 2.06-2.06.94zm-11 1L8.5 8.5l.94-2.06 2.06-.94-2.06-.94L8.5 2.5l-.94 2.06-2.06.94zm10 10l.94 2.06.94-2.06 2.06-.94-2.06-.94-.94-2.06-.94 2.06-2.06.94z\"/><path d=\"M17.41 7.96l-1.37-1.37c-.4-.4-.92-.59-1.43-.59-.52 0-1.04.2-1.43.59L10.3 9.45l-7.72 7.72c-.78.78-.78 2.05 0 2.83L4 21.41c.39.39.9.59 1.41.59.51 0 1.02-.2 1.41-.59l7.78-7.78 2.81-2.81c.8-.78.8-2.07 0-2.86zM5.41 20L4 18.59l7.72-7.72 1.47 1.35L5.41 20z\"/>\n",
              "  </svg>\n",
              "      </button>\n",
              "      \n",
              "  <style>\n",
              "    .colab-df-container {\n",
              "      display:flex;\n",
              "      flex-wrap:wrap;\n",
              "      gap: 12px;\n",
              "    }\n",
              "\n",
              "    .colab-df-convert {\n",
              "      background-color: #E8F0FE;\n",
              "      border: none;\n",
              "      border-radius: 50%;\n",
              "      cursor: pointer;\n",
              "      display: none;\n",
              "      fill: #1967D2;\n",
              "      height: 32px;\n",
              "      padding: 0 0 0 0;\n",
              "      width: 32px;\n",
              "    }\n",
              "\n",
              "    .colab-df-convert:hover {\n",
              "      background-color: #E2EBFA;\n",
              "      box-shadow: 0px 1px 2px rgba(60, 64, 67, 0.3), 0px 1px 3px 1px rgba(60, 64, 67, 0.15);\n",
              "      fill: #174EA6;\n",
              "    }\n",
              "\n",
              "    [theme=dark] .colab-df-convert {\n",
              "      background-color: #3B4455;\n",
              "      fill: #D2E3FC;\n",
              "    }\n",
              "\n",
              "    [theme=dark] .colab-df-convert:hover {\n",
              "      background-color: #434B5C;\n",
              "      box-shadow: 0px 1px 3px 1px rgba(0, 0, 0, 0.15);\n",
              "      filter: drop-shadow(0px 1px 2px rgba(0, 0, 0, 0.3));\n",
              "      fill: #FFFFFF;\n",
              "    }\n",
              "  </style>\n",
              "\n",
              "      <script>\n",
              "        const buttonEl =\n",
              "          document.querySelector('#df-0609c696-13c8-4670-bbea-529cdd98f625 button.colab-df-convert');\n",
              "        buttonEl.style.display =\n",
              "          google.colab.kernel.accessAllowed ? 'block' : 'none';\n",
              "\n",
              "        async function convertToInteractive(key) {\n",
              "          const element = document.querySelector('#df-0609c696-13c8-4670-bbea-529cdd98f625');\n",
              "          const dataTable =\n",
              "            await google.colab.kernel.invokeFunction('convertToInteractive',\n",
              "                                                     [key], {});\n",
              "          if (!dataTable) return;\n",
              "\n",
              "          const docLinkHtml = 'Like what you see? Visit the ' +\n",
              "            '<a target=\"_blank\" href=https://colab.research.google.com/notebooks/data_table.ipynb>data table notebook</a>'\n",
              "            + ' to learn more about interactive tables.';\n",
              "          element.innerHTML = '';\n",
              "          dataTable['output_type'] = 'display_data';\n",
              "          await google.colab.output.renderOutput(dataTable, element);\n",
              "          const docLink = document.createElement('div');\n",
              "          docLink.innerHTML = docLinkHtml;\n",
              "          element.appendChild(docLink);\n",
              "        }\n",
              "      </script>\n",
              "    </div>\n",
              "  </div>\n",
              "  "
            ]
          },
          "metadata": {},
          "execution_count": 408
        }
      ],
      "source": [
        "X_train = X_train[selected]\n",
        "X_test = X_test[selected]\n",
        "\n",
        "X_train.head()"
      ]
    },
    {
      "cell_type": "markdown",
      "metadata": {
        "id": "0_81M5yeL5FZ"
      },
      "source": [
        "## Other Methods and metrics"
      ]
    },
    {
      "cell_type": "markdown",
      "metadata": {
        "id": "u5W7r4LHOR9u"
      },
      "source": [
        "### Unvariate model performance\n",
        "\n",
        "La idea de este tipo de procedimientos es el sig:\n",
        "* 1) Construimos un modelo de ML POR feature, para predecir el target.\n",
        "* 2) Hacemos las predicciones utilizando nuestro modelo y el feature seleccionado.\n",
        "* 3) Medimos la performance de nuestra predicción (podemos utilizar cualquier métrica p ejm: roc-auc o mse)\n",
        "* 4) Rankeamos los features de acuerdo a la métrica.\n",
        "* 5) Seleccionamos los top-features.\n"
      ]
    },
    {
      "cell_type": "code",
      "execution_count": null,
      "metadata": {
        "id": "R1BstpAJTeYz"
      },
      "outputs": [],
      "source": [
        "from sklearn.tree import DecisionTreeClassifier, DecisionTreeRegressor\n",
        "from sklearn.model_selection import train_test_split\n",
        "from sklearn.metrics import roc_auc_score, mean_squared_error"
      ]
    },
    {
      "cell_type": "markdown",
      "metadata": {
        "id": "7QQ7BsznurP2"
      },
      "source": [
        "**Classification scenario**"
      ]
    },
    {
      "cell_type": "code",
      "execution_count": null,
      "metadata": {
        "id": "VBNg9xjAMC6H",
        "colab": {
          "base_uri": "https://localhost:8080/"
        },
        "outputId": "0c096666-dc98-4d61-ec7a-5abc907d027a"
      },
      "outputs": [
        {
          "output_type": "execute_result",
          "data": {
            "text/plain": [
              "(50000, 109)"
            ]
          },
          "metadata": {},
          "execution_count": 410
        }
      ],
      "source": [
        "df = pd.read_csv('dataset_2.csv')\n",
        "df.shape"
      ]
    },
    {
      "cell_type": "code",
      "execution_count": null,
      "metadata": {
        "id": "oZVZnVkMTU_q",
        "colab": {
          "base_uri": "https://localhost:8080/"
        },
        "outputId": "89c1d21b-12b7-4d09-bde6-be5fcd814439"
      },
      "outputs": [
        {
          "output_type": "execute_result",
          "data": {
            "text/plain": [
              "((35000, 108), (15000, 108))"
            ]
          },
          "metadata": {},
          "execution_count": 411
        }
      ],
      "source": [
        "X_train, X_test, y_train, y_test = train_test_split(\n",
        "    df.drop(labels=['target'], axis=1),\n",
        "    df['target'],\n",
        "    test_size=0.3,\n",
        "    random_state=0)\n",
        "\n",
        "X_train.shape, X_test.shape"
      ]
    },
    {
      "cell_type": "markdown",
      "metadata": {
        "id": "c1c_mf0TTyE2"
      },
      "source": [
        "Determinamos el roc-auc para cada feature."
      ]
    },
    {
      "cell_type": "code",
      "execution_count": null,
      "metadata": {
        "id": "J2kftNN_TYvI",
        "colab": {
          "base_uri": "https://localhost:8080/"
        },
        "outputId": "21f0fdc2-382e-483b-eecc-c52737fac117"
      },
      "outputs": [
        {
          "output_type": "execute_result",
          "data": {
            "text/plain": [
              "[0.5069248231292061,\n",
              " 0.5006908738145861,\n",
              " 0.4931445654646017,\n",
              " 0.5039101753068067,\n",
              " 0.5014351366034588,\n",
              " 0.5028347252717772,\n",
              " 0.5095234564543892,\n",
              " 0.5062626193645395,\n",
              " 0.4913455716601861,\n",
              " 0.5066196352647712]"
            ]
          },
          "metadata": {},
          "execution_count": 412
        }
      ],
      "source": [
        "roc_values = []\n",
        "\n",
        "for feature in X_train.columns:\n",
        "\n",
        "    # declaramos y entrenamos el modelo\n",
        "    clf = DecisionTreeClassifier(random_state=0)\n",
        "    clf.fit(X_train[feature].fillna(0).to_frame(), y_train)\n",
        "\n",
        "    # obtenemos las predicciones\n",
        "    y_scored = clf.predict_proba(X_test[feature].to_frame())\n",
        "\n",
        "    # calculamos y guardamos el roc-auc\n",
        "    roc_values.append(roc_auc_score(y_test, y_scored[:, 1]))\n",
        "    \n",
        "roc_values[0:10]"
      ]
    },
    {
      "cell_type": "markdown",
      "metadata": {
        "id": "m61RJWV-vE88"
      },
      "source": [
        "Un roc-auc de 0.5 demuestra decisiones al azar, por lo que podríamos tomar los features que presentan un valor mayor al 0.5"
      ]
    },
    {
      "cell_type": "code",
      "execution_count": null,
      "metadata": {
        "id": "itzmxgFzuzM9",
        "colab": {
          "base_uri": "https://localhost:8080/",
          "height": 367
        },
        "outputId": "59c8a99b-8ccd-499b-c020-80a02296418f"
      },
      "outputs": [
        {
          "output_type": "execute_result",
          "data": {
            "text/plain": [
              "Text(0, 0.5, 'roc-auc')"
            ]
          },
          "metadata": {},
          "execution_count": 413
        },
        {
          "output_type": "display_data",
          "data": {
            "text/plain": [
              "<Figure size 1440x360 with 1 Axes>"
            ],
            "image/png": "[encoded data removed]"
          },
          "metadata": {
            "needs_background": "light"
          }
        }
      ],
      "source": [
        "roc_values = pd.Series(roc_values)\n",
        "roc_values.index = X_train.columns\n",
        "roc_values.sort_values(ascending=False).plot.bar(figsize=(20, 5))\n",
        "plt.ylabel('roc-auc')"
      ]
    },
    {
      "cell_type": "markdown",
      "metadata": {
        "id": "YBagFa6yu1_z"
      },
      "source": [
        "Seleccionamos los features con un roc-auc > 0.5"
      ]
    },
    {
      "cell_type": "code",
      "execution_count": null,
      "metadata": {
        "id": "uIolkcfZu1gM",
        "colab": {
          "base_uri": "https://localhost:8080/"
        },
        "outputId": "1220d0ee-a90b-48f6-8b88-558da9a5a65a"
      },
      "outputs": [
        {
          "output_type": "execute_result",
          "data": {
            "text/plain": [
              "Index(['var_1', 'var_2', 'var_4', 'var_5', 'var_6', 'var_7', 'var_8', 'var_10',\n",
              "       'var_11', 'var_12', 'var_13', 'var_14', 'var_15', 'var_16', 'var_18',\n",
              "       'var_21', 'var_22', 'var_23', 'var_25', 'var_26', 'var_27', 'var_28',\n",
              "       'var_29', 'var_30', 'var_33', 'var_34', 'var_35', 'var_38', 'var_39',\n",
              "       'var_43', 'var_44', 'var_46', 'var_47', 'var_48', 'var_50', 'var_51',\n",
              "       'var_52', 'var_53', 'var_54', 'var_55', 'var_57', 'var_59', 'var_65',\n",
              "       'var_67', 'var_69', 'var_70', 'var_71', 'var_72', 'var_74', 'var_75',\n",
              "       'var_78', 'var_80', 'var_82', 'var_83', 'var_84', 'var_85', 'var_88',\n",
              "       'var_91', 'var_94', 'var_96', 'var_97', 'var_98', 'var_100', 'var_101',\n",
              "       'var_105', 'var_106', 'var_108'],\n",
              "      dtype='object')"
            ]
          },
          "metadata": {},
          "execution_count": 414
        }
      ],
      "source": [
        "selected_features = roc_values[roc_values > 0.5].index\n",
        "\n",
        "selected_features"
      ]
    },
    {
      "cell_type": "code",
      "source": [
        "X_train.shape, X_test.shape"
      ],
      "metadata": {
        "colab": {
          "base_uri": "https://localhost:8080/"
        },
        "id": "Sh-d8t9CC3QU",
        "outputId": "179c805f-5f1b-4a19-d455-88cbefde3d91"
      },
      "execution_count": null,
      "outputs": [
        {
          "output_type": "execute_result",
          "data": {
            "text/plain": [
              "((35000, 108), (15000, 108))"
            ]
          },
          "metadata": {},
          "execution_count": 415
        }
      ]
    },
    {
      "cell_type": "code",
      "execution_count": null,
      "metadata": {
        "id": "42mWZwe7vS3Y",
        "colab": {
          "base_uri": "https://localhost:8080/"
        },
        "outputId": "759eaf9c-ec7b-459d-a8a4-9df37b0f8589"
      },
      "outputs": [
        {
          "output_type": "execute_result",
          "data": {
            "text/plain": [
              "((35000, 67), (15000, 67))"
            ]
          },
          "metadata": {},
          "execution_count": 416
        }
      ],
      "source": [
        "X_train = X_train[selected_features]\n",
        "X_test = X_test[selected_features]\n",
        "\n",
        "X_train.shape, X_test.shape"
      ]
    },
    {
      "cell_type": "markdown",
      "metadata": {
        "id": "VsYluSyTutdy"
      },
      "source": [
        "**Regression scenario**"
      ]
    },
    {
      "cell_type": "code",
      "execution_count": null,
      "metadata": {
        "id": "Tk_XS2A-v0q6",
        "colab": {
          "base_uri": "https://localhost:8080/",
          "height": 236
        },
        "outputId": "936e112a-d12a-497d-b028-f3db0cfee1ef"
      },
      "outputs": [
        {
          "output_type": "execute_result",
          "data": {
            "text/plain": [
              "   Id  MSSubClass MSZoning  LotFrontage  LotArea Street Alley LotShape  \\\n",
              "0   1          60       RL         65.0     8450   Pave   NaN      Reg   \n",
              "1   2          20       RL         80.0     9600   Pave   NaN      Reg   \n",
              "2   3          60       RL         68.0    11250   Pave   NaN      IR1   \n",
              "3   4          70       RL         60.0     9550   Pave   NaN      IR1   \n",
              "4   5          60       RL         84.0    14260   Pave   NaN      IR1   \n",
              "\n",
              "  LandContour Utilities  ... PoolArea PoolQC Fence MiscFeature MiscVal MoSold  \\\n",
              "0         Lvl    AllPub  ...        0    NaN   NaN         NaN       0      2   \n",
              "1         Lvl    AllPub  ...        0    NaN   NaN         NaN       0      5   \n",
              "2         Lvl    AllPub  ...        0    NaN   NaN         NaN       0      9   \n",
              "3         Lvl    AllPub  ...        0    NaN   NaN         NaN       0      2   \n",
              "4         Lvl    AllPub  ...        0    NaN   NaN         NaN       0     12   \n",
              "\n",
              "  YrSold  SaleType  SaleCondition  SalePrice  \n",
              "0   2008        WD         Normal     208500  \n",
              "1   2007        WD         Normal     181500  \n",
              "2   2008        WD         Normal     223500  \n",
              "3   2006        WD        Abnorml     140000  \n",
              "4   2008        WD         Normal     250000  \n",
              "\n",
              "[5 rows x 81 columns]"
            ],
            "text/html": [
              "\n",
              "  <div id=\"df-aad3e349-b3a0-43a4-8fec-a49187ad7485\">\n",
              "    <div class=\"colab-df-container\">\n",
              "      <div>\n",
              "<style scoped>\n",
              "    .dataframe tbody tr th:only-of-type {\n",
              "        vertical-align: middle;\n",
              "    }\n",
              "\n",
              "    .dataframe tbody tr th {\n",
              "        vertical-align: top;\n",
              "    }\n",
              "\n",
              "    .dataframe thead th {\n",
              "        text-align: right;\n",
              "    }\n",
              "</style>\n",
              "<table border=\"1\" class=\"dataframe\">\n",
              "  <thead>\n",
              "    <tr style=\"text-align: right;\">\n",
              "      <th></th>\n",
              "      <th>Id</th>\n",
              "      <th>MSSubClass</th>\n",
              "      <th>MSZoning</th>\n",
              "      <th>LotFrontage</th>\n",
              "      <th>LotArea</th>\n",
              "      <th>Street</th>\n",
              "      <th>Alley</th>\n",
              "      <th>LotShape</th>\n",
              "      <th>LandContour</th>\n",
              "      <th>Utilities</th>\n",
              "      <th>...</th>\n",
              "      <th>PoolArea</th>\n",
              "      <th>PoolQC</th>\n",
              "      <th>Fence</th>\n",
              "      <th>MiscFeature</th>\n",
              "      <th>MiscVal</th>\n",
              "      <th>MoSold</th>\n",
              "      <th>YrSold</th>\n",
              "      <th>SaleType</th>\n",
              "      <th>SaleCondition</th>\n",
              "      <th>SalePrice</th>\n",
              "    </tr>\n",
              "  </thead>\n",
              "  <tbody>\n",
              "    <tr>\n",
              "      <th>0</th>\n",
              "      <td>1</td>\n",
              "      <td>60</td>\n",
              "      <td>RL</td>\n",
              "      <td>65.0</td>\n",
              "      <td>8450</td>\n",
              "      <td>Pave</td>\n",
              "      <td>NaN</td>\n",
              "      <td>Reg</td>\n",
              "      <td>Lvl</td>\n",
              "      <td>AllPub</td>\n",
              "      <td>...</td>\n",
              "      <td>0</td>\n",
              "      <td>NaN</td>\n",
              "      <td>NaN</td>\n",
              "      <td>NaN</td>\n",
              "      <td>0</td>\n",
              "      <td>2</td>\n",
              "      <td>2008</td>\n",
              "      <td>WD</td>\n",
              "      <td>Normal</td>\n",
              "      <td>208500</td>\n",
              "    </tr>\n",
              "    <tr>\n",
              "      <th>1</th>\n",
              "      <td>2</td>\n",
              "      <td>20</td>\n",
              "      <td>RL</td>\n",
              "      <td>80.0</td>\n",
              "      <td>9600</td>\n",
              "      <td>Pave</td>\n",
              "      <td>NaN</td>\n",
              "      <td>Reg</td>\n",
              "      <td>Lvl</td>\n",
              "      <td>AllPub</td>\n",
              "      <td>...</td>\n",
              "      <td>0</td>\n",
              "      <td>NaN</td>\n",
              "      <td>NaN</td>\n",
              "      <td>NaN</td>\n",
              "      <td>0</td>\n",
              "      <td>5</td>\n",
              "      <td>2007</td>\n",
              "      <td>WD</td>\n",
              "      <td>Normal</td>\n",
              "      <td>181500</td>\n",
              "    </tr>\n",
              "    <tr>\n",
              "      <th>2</th>\n",
              "      <td>3</td>\n",
              "      <td>60</td>\n",
              "      <td>RL</td>\n",
              "      <td>68.0</td>\n",
              "      <td>11250</td>\n",
              "      <td>Pave</td>\n",
              "      <td>NaN</td>\n",
              "      <td>IR1</td>\n",
              "      <td>Lvl</td>\n",
              "      <td>AllPub</td>\n",
              "      <td>...</td>\n",
              "      <td>0</td>\n",
              "      <td>NaN</td>\n",
              "      <td>NaN</td>\n",
              "      <td>NaN</td>\n",
              "      <td>0</td>\n",
              "      <td>9</td>\n",
              "      <td>2008</td>\n",
              "      <td>WD</td>\n",
              "      <td>Normal</td>\n",
              "      <td>223500</td>\n",
              "    </tr>\n",
              "    <tr>\n",
              "      <th>3</th>\n",
              "      <td>4</td>\n",
              "      <td>70</td>\n",
              "      <td>RL</td>\n",
              "      <td>60.0</td>\n",
              "      <td>9550</td>\n",
              "      <td>Pave</td>\n",
              "      <td>NaN</td>\n",
              "      <td>IR1</td>\n",
              "      <td>Lvl</td>\n",
              "      <td>AllPub</td>\n",
              "      <td>...</td>\n",
              "      <td>0</td>\n",
              "      <td>NaN</td>\n",
              "      <td>NaN</td>\n",
              "      <td>NaN</td>\n",
              "      <td>0</td>\n",
              "      <td>2</td>\n",
              "      <td>2006</td>\n",
              "      <td>WD</td>\n",
              "      <td>Abnorml</td>\n",
              "      <td>140000</td>\n",
              "    </tr>\n",
              "    <tr>\n",
              "      <th>4</th>\n",
              "      <td>5</td>\n",
              "      <td>60</td>\n",
              "      <td>RL</td>\n",
              "      <td>84.0</td>\n",
              "      <td>14260</td>\n",
              "      <td>Pave</td>\n",
              "      <td>NaN</td>\n",
              "      <td>IR1</td>\n",
              "      <td>Lvl</td>\n",
              "      <td>AllPub</td>\n",
              "      <td>...</td>\n",
              "      <td>0</td>\n",
              "      <td>NaN</td>\n",
              "      <td>NaN</td>\n",
              "      <td>NaN</td>\n",
              "      <td>0</td>\n",
              "      <td>12</td>\n",
              "      <td>2008</td>\n",
              "      <td>WD</td>\n",
              "      <td>Normal</td>\n",
              "      <td>250000</td>\n",
              "    </tr>\n",
              "  </tbody>\n",
              "</table>\n",
              "<p>5 rows × 81 columns</p>\n",
              "</div>\n",
              "      <button class=\"colab-df-convert\" onclick=\"convertToInteractive('df-aad3e349-b3a0-43a4-8fec-a49187ad7485')\"\n",
              "              title=\"Convert this dataframe to an interactive table.\"\n",
              "              style=\"display:none;\">\n",
              "        \n",
              "  <svg xmlns=\"http://www.w3.org/2000/svg\" height=\"24px\"viewBox=\"0 0 24 24\"\n",
              "       width=\"24px\">\n",
              "    <path d=\"M0 0h24v24H0V0z\" fill=\"none\"/>\n",
              "    <path d=\"M18.56 5.44l.94 2.06.94-2.06 2.06-.94-2.06-.94-.94-2.06-.94 2.06-2.06.94zm-11 1L8.5 8.5l.94-2.06 2.06-.94-2.06-.94L8.5 2.5l-.94 2.06-2.06.94zm10 10l.94 2.06.94-2.06 2.06-.94-2.06-.94-.94-2.06-.94 2.06-2.06.94z\"/><path d=\"M17.41 7.96l-1.37-1.37c-.4-.4-.92-.59-1.43-.59-.52 0-1.04.2-1.43.59L10.3 9.45l-7.72 7.72c-.78.78-.78 2.05 0 2.83L4 21.41c.39.39.9.59 1.41.59.51 0 1.02-.2 1.41-.59l7.78-7.78 2.81-2.81c.8-.78.8-2.07 0-2.86zM5.41 20L4 18.59l7.72-7.72 1.47 1.35L5.41 20z\"/>\n",
              "  </svg>\n",
              "      </button>\n",
              "      \n",
              "  <style>\n",
              "    .colab-df-container {\n",
              "      display:flex;\n",
              "      flex-wrap:wrap;\n",
              "      gap: 12px;\n",
              "    }\n",
              "\n",
              "    .colab-df-convert {\n",
              "      background-color: #E8F0FE;\n",
              "      border: none;\n",
              "      border-radius: 50%;\n",
              "      cursor: pointer;\n",
              "      display: none;\n",
              "      fill: #1967D2;\n",
              "      height: 32px;\n",
              "      padding: 0 0 0 0;\n",
              "      width: 32px;\n",
              "    }\n",
              "\n",
              "    .colab-df-convert:hover {\n",
              "      background-color: #E2EBFA;\n",
              "      box-shadow: 0px 1px 2px rgba(60, 64, 67, 0.3), 0px 1px 3px 1px rgba(60, 64, 67, 0.15);\n",
              "      fill: #174EA6;\n",
              "    }\n",
              "\n",
              "    [theme=dark] .colab-df-convert {\n",
              "      background-color: #3B4455;\n",
              "      fill: #D2E3FC;\n",
              "    }\n",
              "\n",
              "    [theme=dark] .colab-df-convert:hover {\n",
              "      background-color: #434B5C;\n",
              "      box-shadow: 0px 1px 3px 1px rgba(0, 0, 0, 0.15);\n",
              "      filter: drop-shadow(0px 1px 2px rgba(0, 0, 0, 0.3));\n",
              "      fill: #FFFFFF;\n",
              "    }\n",
              "  </style>\n",
              "\n",
              "      <script>\n",
              "        const buttonEl =\n",
              "          document.querySelector('#df-aad3e349-b3a0-43a4-8fec-a49187ad7485 button.colab-df-convert');\n",
              "        buttonEl.style.display =\n",
              "          google.colab.kernel.accessAllowed ? 'block' : 'none';\n",
              "\n",
              "        async function convertToInteractive(key) {\n",
              "          const element = document.querySelector('#df-aad3e349-b3a0-43a4-8fec-a49187ad7485');\n",
              "          const dataTable =\n",
              "            await google.colab.kernel.invokeFunction('convertToInteractive',\n",
              "                                                     [key], {});\n",
              "          if (!dataTable) return;\n",
              "\n",
              "          const docLinkHtml = 'Like what you see? Visit the ' +\n",
              "            '<a target=\"_blank\" href=https://colab.research.google.com/notebooks/data_table.ipynb>data table notebook</a>'\n",
              "            + ' to learn more about interactive tables.';\n",
              "          element.innerHTML = '';\n",
              "          dataTable['output_type'] = 'display_data';\n",
              "          await google.colab.output.renderOutput(dataTable, element);\n",
              "          const docLink = document.createElement('div');\n",
              "          docLink.innerHTML = docLinkHtml;\n",
              "          element.appendChild(docLink);\n",
              "        }\n",
              "      </script>\n",
              "    </div>\n",
              "  </div>\n",
              "  "
            ]
          },
          "metadata": {},
          "execution_count": 420
        }
      ],
      "source": [
        "df = pd.read_csv(\"train.csv\")\n",
        "df.head()"
      ]
    },
    {
      "cell_type": "code",
      "execution_count": null,
      "metadata": {
        "id": "73Y8T_TfxkUP",
        "colab": {
          "base_uri": "https://localhost:8080/"
        },
        "outputId": "e49c7e10-7a6b-49d8-aaae-cd7d500e2364"
      },
      "outputs": [
        {
          "output_type": "execute_result",
          "data": {
            "text/plain": [
              "(1460, 38)"
            ]
          },
          "metadata": {},
          "execution_count": 423
        }
      ],
      "source": [
        "# usamos solo variables numericas por simplicidad\n",
        "numerics = ['int16', 'int32', 'int64', 'float16', 'float32', 'float64']\n",
        "numerical_vars = list(df.select_dtypes(include=numerics).columns)\n",
        "df = df[numerical_vars]\n",
        "df.shape"
      ]
    },
    {
      "cell_type": "code",
      "execution_count": null,
      "metadata": {
        "id": "zqmJcWVYxn-U",
        "colab": {
          "base_uri": "https://localhost:8080/"
        },
        "outputId": "c6b66631-5da0-4d4f-fdd9-0aca727a1a3a"
      },
      "outputs": [
        {
          "output_type": "execute_result",
          "data": {
            "text/plain": [
              "((1022, 37), (438, 37))"
            ]
          },
          "metadata": {},
          "execution_count": 424
        }
      ],
      "source": [
        "X_train, X_test, y_train, y_test = train_test_split(\n",
        "    df.drop(labels=['SalePrice'], axis=1),\n",
        "    df['SalePrice'],\n",
        "    test_size=0.3,\n",
        "    random_state=0)\n",
        "\n",
        "X_train.shape, X_test.shape"
      ]
    },
    {
      "cell_type": "markdown",
      "metadata": {
        "id": "SPH5QM2KxvFT"
      },
      "source": [
        "Determinamos el mse para cada feature"
      ]
    },
    {
      "cell_type": "code",
      "execution_count": null,
      "metadata": {
        "id": "nL7eseFixrcj",
        "colab": {
          "base_uri": "https://localhost:8080/"
        },
        "outputId": "6cd6ea13-55c2-47a4-9ed4-d7281c4ba334"
      },
      "outputs": [
        {
          "output_type": "execute_result",
          "data": {
            "text/plain": [
              "[13268032828.324202,\n",
              " 5258423546.061133,\n",
              " 6827291221.813821,\n",
              " 8379936849.301367,\n",
              " 2097026635.6820993,\n",
              " 6026309350.815287,\n",
              " 4776574901.81357,\n",
              " 5138584000.327346,\n",
              " 7867108586.811187,\n",
              " 7696158357.724333]"
            ]
          },
          "metadata": {},
          "execution_count": 425
        }
      ],
      "source": [
        "mse_values = []\n",
        "\n",
        "for feature in X_train.columns:\n",
        "    \n",
        "    # declaramos el arbol de decision de regresion\n",
        "    clf = DecisionTreeRegressor(random_state=0)\n",
        "    clf.fit(X_train[feature].fillna(0).to_frame(), y_train)\n",
        "    \n",
        "    # hacemos las predicciones\n",
        "    y_scored = clf.predict(X_test[feature].fillna(0).to_frame())\n",
        "    \n",
        "    # determinamos el mse\n",
        "    mse_values.append(mean_squared_error(y_test, y_scored))\n",
        "    \n",
        "mse_values[0:10]"
      ]
    },
    {
      "cell_type": "code",
      "execution_count": null,
      "metadata": {
        "id": "N4MGviVPx-OD",
        "colab": {
          "base_uri": "https://localhost:8080/",
          "height": 577
        },
        "outputId": "220254c2-f728-4079-b988-697f96cca438"
      },
      "outputs": [
        {
          "output_type": "execute_result",
          "data": {
            "text/plain": [
              "<matplotlib.axes._subplots.AxesSubplot at 0x7f4ee5fdd3d0>"
            ]
          },
          "metadata": {},
          "execution_count": 426
        },
        {
          "output_type": "display_data",
          "data": {
            "text/plain": [
              "<Figure size 1440x576 with 1 Axes>"
            ],
            "image/png": "[encoded data removed]"
          },
          "metadata": {
            "needs_background": "light"
          }
        }
      ],
      "source": [
        "mse_values = pd.Series(mse_values)\n",
        "mse_values.index = X_train.columns\n",
        "mse_values.sort_values(ascending=False).plot.bar(figsize=(20,8))"
      ]
    },
    {
      "cell_type": "markdown",
      "metadata": {
        "id": "ecoRDWpNyB8m"
      },
      "source": [
        "Nos quedamos con los features que presenten un menor mse."
      ]
    },
    {
      "cell_type": "code",
      "execution_count": null,
      "metadata": {
        "id": "2tgR8w6cyGoI",
        "colab": {
          "base_uri": "https://localhost:8080/"
        },
        "outputId": "46b6592e-afdf-4d9a-f929-1bd49ab3fba8"
      },
      "outputs": [
        {
          "output_type": "execute_result",
          "data": {
            "text/plain": [
              "Index(['MSSubClass', 'OverallQual', 'OverallCond', 'YearBuilt', 'YearRemodAdd',\n",
              "       'TotalBsmtSF', '2ndFlrSF', 'GrLivArea', 'FullBath', 'HalfBath',\n",
              "       'TotRmsAbvGrd', 'Fireplaces', 'GarageYrBlt', 'GarageCars',\n",
              "       'GarageArea'],\n",
              "      dtype='object')"
            ]
          },
          "metadata": {},
          "execution_count": 427
        }
      ],
      "source": [
        "selected_features = mse_values[mse_values < np.mean(mse_values)].index\n",
        "\n",
        "selected_features"
      ]
    },
    {
      "cell_type": "code",
      "execution_count": null,
      "metadata": {
        "id": "_StoCL-GyICL",
        "colab": {
          "base_uri": "https://localhost:8080/"
        },
        "outputId": "c8a3ab4c-701e-4f6e-dcf5-ab936b28f77b"
      },
      "outputs": [
        {
          "output_type": "execute_result",
          "data": {
            "text/plain": [
              "((1022, 15), (438, 15))"
            ]
          },
          "metadata": {},
          "execution_count": 428
        }
      ],
      "source": [
        "X_train = X_train[selected_features]\n",
        "X_test = X_test[selected_features]\n",
        "\n",
        "X_train.shape, X_test.shape"
      ]
    },
    {
      "cell_type": "markdown",
      "metadata": {
        "id": "-xI5DSsEyrKF"
      },
      "source": [
        "### KDD 2009: Select features by target mean encoding\n",
        "\n",
        "Para este metodo primero dividiremos nuestro dataframe en train_df y test_df.\n",
        "\n",
        "En nuestro train_df determinaremos la media del target POR variable categorica.\n",
        "\n",
        "En nuestro test_df reemplazaremos nuestras variables categorias por la media del target utilizando el encoding aprendido con el train_df"
      ]
    },
    {
      "cell_type": "code",
      "source": [
        "from sklearn.model_selection import train_test_split\n",
        "from sklearn.metrics import roc_auc_score"
      ],
      "metadata": {
        "id": "SGNzXw9wDvhq"
      },
      "execution_count": null,
      "outputs": []
    },
    {
      "cell_type": "code",
      "execution_count": null,
      "metadata": {
        "id": "DLutagx_yw2o"
      },
      "outputs": [],
      "source": [
        "df = pd.read_csv('https://www.openml.org/data/get_csv/16826755/phpMYEkMl')"
      ]
    },
    {
      "cell_type": "code",
      "execution_count": null,
      "metadata": {
        "id": "Fi4enai-HBFr",
        "colab": {
          "base_uri": "https://localhost:8080/"
        },
        "outputId": "df1e1847-f539-46e4-f187-4e8ebb816016"
      },
      "outputs": [
        {
          "output_type": "stream",
          "name": "stdout",
          "text": [
            "<class 'pandas.core.frame.DataFrame'>\n",
            "RangeIndex: 1309 entries, 0 to 1308\n",
            "Data columns (total 14 columns):\n",
            " #   Column     Non-Null Count  Dtype \n",
            "---  ------     --------------  ----- \n",
            " 0   pclass     1309 non-null   int64 \n",
            " 1   survived   1309 non-null   int64 \n",
            " 2   name       1309 non-null   object\n",
            " 3   sex        1309 non-null   object\n",
            " 4   age        1309 non-null   object\n",
            " 5   sibsp      1309 non-null   int64 \n",
            " 6   parch      1309 non-null   int64 \n",
            " 7   ticket     1309 non-null   object\n",
            " 8   fare       1309 non-null   object\n",
            " 9   cabin      1309 non-null   object\n",
            " 10  embarked   1309 non-null   object\n",
            " 11  boat       1309 non-null   object\n",
            " 12  body       1309 non-null   object\n",
            " 13  home.dest  1309 non-null   object\n",
            "dtypes: int64(4), object(10)\n",
            "memory usage: 143.3+ KB\n"
          ]
        }
      ],
      "source": [
        "df.info()"
      ]
    },
    {
      "cell_type": "code",
      "execution_count": null,
      "metadata": {
        "id": "Th2HBPxZ0u6k",
        "colab": {
          "base_uri": "https://localhost:8080/",
          "height": 206
        },
        "outputId": "7f8ae31e-c5c4-4c4e-fb3d-f364dfafd9b4"
      },
      "outputs": [
        {
          "output_type": "execute_result",
          "data": {
            "text/plain": [
              "   pclass  survived                                             name     sex  \\\n",
              "0       1         1                    Allen, Miss. Elisabeth Walton  female   \n",
              "1       1         1                   Allison, Master. Hudson Trevor    male   \n",
              "2       1         0                     Allison, Miss. Helen Loraine  female   \n",
              "3       1         0             Allison, Mr. Hudson Joshua Creighton    male   \n",
              "4       1         0  Allison, Mrs. Hudson J C (Bessie Waldo Daniels)  female   \n",
              "\n",
              "      age  sibsp  parch  ticket      fare    cabin embarked boat body  \\\n",
              "0      29      0      0   24160  211.3375       B5        S    2    ?   \n",
              "1  0.9167      1      2  113781    151.55  C22 C26        S   11    ?   \n",
              "2       2      1      2  113781    151.55  C22 C26        S    ?    ?   \n",
              "3      30      1      2  113781    151.55  C22 C26        S    ?  135   \n",
              "4      25      1      2  113781    151.55  C22 C26        S    ?    ?   \n",
              "\n",
              "                         home.dest  \n",
              "0                     St Louis, MO  \n",
              "1  Montreal, PQ / Chesterville, ON  \n",
              "2  Montreal, PQ / Chesterville, ON  \n",
              "3  Montreal, PQ / Chesterville, ON  \n",
              "4  Montreal, PQ / Chesterville, ON  "
            ],
            "text/html": [
              "\n",
              "  <div id=\"df-4c67e635-05cd-4419-969c-2e2471779922\">\n",
              "    <div class=\"colab-df-container\">\n",
              "      <div>\n",
              "<style scoped>\n",
              "    .dataframe tbody tr th:only-of-type {\n",
              "        vertical-align: middle;\n",
              "    }\n",
              "\n",
              "    .dataframe tbody tr th {\n",
              "        vertical-align: top;\n",
              "    }\n",
              "\n",
              "    .dataframe thead th {\n",
              "        text-align: right;\n",
              "    }\n",
              "</style>\n",
              "<table border=\"1\" class=\"dataframe\">\n",
              "  <thead>\n",
              "    <tr style=\"text-align: right;\">\n",
              "      <th></th>\n",
              "      <th>pclass</th>\n",
              "      <th>survived</th>\n",
              "      <th>name</th>\n",
              "      <th>sex</th>\n",
              "      <th>age</th>\n",
              "      <th>sibsp</th>\n",
              "      <th>parch</th>\n",
              "      <th>ticket</th>\n",
              "      <th>fare</th>\n",
              "      <th>cabin</th>\n",
              "      <th>embarked</th>\n",
              "      <th>boat</th>\n",
              "      <th>body</th>\n",
              "      <th>home.dest</th>\n",
              "    </tr>\n",
              "  </thead>\n",
              "  <tbody>\n",
              "    <tr>\n",
              "      <th>0</th>\n",
              "      <td>1</td>\n",
              "      <td>1</td>\n",
              "      <td>Allen, Miss. Elisabeth Walton</td>\n",
              "      <td>female</td>\n",
              "      <td>29</td>\n",
              "      <td>0</td>\n",
              "      <td>0</td>\n",
              "      <td>24160</td>\n",
              "      <td>211.3375</td>\n",
              "      <td>B5</td>\n",
              "      <td>S</td>\n",
              "      <td>2</td>\n",
              "      <td>?</td>\n",
              "      <td>St Louis, MO</td>\n",
              "    </tr>\n",
              "    <tr>\n",
              "      <th>1</th>\n",
              "      <td>1</td>\n",
              "      <td>1</td>\n",
              "      <td>Allison, Master. Hudson Trevor</td>\n",
              "      <td>male</td>\n",
              "      <td>0.9167</td>\n",
              "      <td>1</td>\n",
              "      <td>2</td>\n",
              "      <td>113781</td>\n",
              "      <td>151.55</td>\n",
              "      <td>C22 C26</td>\n",
              "      <td>S</td>\n",
              "      <td>11</td>\n",
              "      <td>?</td>\n",
              "      <td>Montreal, PQ / Chesterville, ON</td>\n",
              "    </tr>\n",
              "    <tr>\n",
              "      <th>2</th>\n",
              "      <td>1</td>\n",
              "      <td>0</td>\n",
              "      <td>Allison, Miss. Helen Loraine</td>\n",
              "      <td>female</td>\n",
              "      <td>2</td>\n",
              "      <td>1</td>\n",
              "      <td>2</td>\n",
              "      <td>113781</td>\n",
              "      <td>151.55</td>\n",
              "      <td>C22 C26</td>\n",
              "      <td>S</td>\n",
              "      <td>?</td>\n",
              "      <td>?</td>\n",
              "      <td>Montreal, PQ / Chesterville, ON</td>\n",
              "    </tr>\n",
              "    <tr>\n",
              "      <th>3</th>\n",
              "      <td>1</td>\n",
              "      <td>0</td>\n",
              "      <td>Allison, Mr. Hudson Joshua Creighton</td>\n",
              "      <td>male</td>\n",
              "      <td>30</td>\n",
              "      <td>1</td>\n",
              "      <td>2</td>\n",
              "      <td>113781</td>\n",
              "      <td>151.55</td>\n",
              "      <td>C22 C26</td>\n",
              "      <td>S</td>\n",
              "      <td>?</td>\n",
              "      <td>135</td>\n",
              "      <td>Montreal, PQ / Chesterville, ON</td>\n",
              "    </tr>\n",
              "    <tr>\n",
              "      <th>4</th>\n",
              "      <td>1</td>\n",
              "      <td>0</td>\n",
              "      <td>Allison, Mrs. Hudson J C (Bessie Waldo Daniels)</td>\n",
              "      <td>female</td>\n",
              "      <td>25</td>\n",
              "      <td>1</td>\n",
              "      <td>2</td>\n",
              "      <td>113781</td>\n",
              "      <td>151.55</td>\n",
              "      <td>C22 C26</td>\n",
              "      <td>S</td>\n",
              "      <td>?</td>\n",
              "      <td>?</td>\n",
              "      <td>Montreal, PQ / Chesterville, ON</td>\n",
              "    </tr>\n",
              "  </tbody>\n",
              "</table>\n",
              "</div>\n",
              "      <button class=\"colab-df-convert\" onclick=\"convertToInteractive('df-4c67e635-05cd-4419-969c-2e2471779922')\"\n",
              "              title=\"Convert this dataframe to an interactive table.\"\n",
              "              style=\"display:none;\">\n",
              "        \n",
              "  <svg xmlns=\"http://www.w3.org/2000/svg\" height=\"24px\"viewBox=\"0 0 24 24\"\n",
              "       width=\"24px\">\n",
              "    <path d=\"M0 0h24v24H0V0z\" fill=\"none\"/>\n",
              "    <path d=\"M18.56 5.44l.94 2.06.94-2.06 2.06-.94-2.06-.94-.94-2.06-.94 2.06-2.06.94zm-11 1L8.5 8.5l.94-2.06 2.06-.94-2.06-.94L8.5 2.5l-.94 2.06-2.06.94zm10 10l.94 2.06.94-2.06 2.06-.94-2.06-.94-.94-2.06-.94 2.06-2.06.94z\"/><path d=\"M17.41 7.96l-1.37-1.37c-.4-.4-.92-.59-1.43-.59-.52 0-1.04.2-1.43.59L10.3 9.45l-7.72 7.72c-.78.78-.78 2.05 0 2.83L4 21.41c.39.39.9.59 1.41.59.51 0 1.02-.2 1.41-.59l7.78-7.78 2.81-2.81c.8-.78.8-2.07 0-2.86zM5.41 20L4 18.59l7.72-7.72 1.47 1.35L5.41 20z\"/>\n",
              "  </svg>\n",
              "      </button>\n",
              "      \n",
              "  <style>\n",
              "    .colab-df-container {\n",
              "      display:flex;\n",
              "      flex-wrap:wrap;\n",
              "      gap: 12px;\n",
              "    }\n",
              "\n",
              "    .colab-df-convert {\n",
              "      background-color: #E8F0FE;\n",
              "      border: none;\n",
              "      border-radius: 50%;\n",
              "      cursor: pointer;\n",
              "      display: none;\n",
              "      fill: #1967D2;\n",
              "      height: 32px;\n",
              "      padding: 0 0 0 0;\n",
              "      width: 32px;\n",
              "    }\n",
              "\n",
              "    .colab-df-convert:hover {\n",
              "      background-color: #E2EBFA;\n",
              "      box-shadow: 0px 1px 2px rgba(60, 64, 67, 0.3), 0px 1px 3px 1px rgba(60, 64, 67, 0.15);\n",
              "      fill: #174EA6;\n",
              "    }\n",
              "\n",
              "    [theme=dark] .colab-df-convert {\n",
              "      background-color: #3B4455;\n",
              "      fill: #D2E3FC;\n",
              "    }\n",
              "\n",
              "    [theme=dark] .colab-df-convert:hover {\n",
              "      background-color: #434B5C;\n",
              "      box-shadow: 0px 1px 3px 1px rgba(0, 0, 0, 0.15);\n",
              "      filter: drop-shadow(0px 1px 2px rgba(0, 0, 0, 0.3));\n",
              "      fill: #FFFFFF;\n",
              "    }\n",
              "  </style>\n",
              "\n",
              "      <script>\n",
              "        const buttonEl =\n",
              "          document.querySelector('#df-4c67e635-05cd-4419-969c-2e2471779922 button.colab-df-convert');\n",
              "        buttonEl.style.display =\n",
              "          google.colab.kernel.accessAllowed ? 'block' : 'none';\n",
              "\n",
              "        async function convertToInteractive(key) {\n",
              "          const element = document.querySelector('#df-4c67e635-05cd-4419-969c-2e2471779922');\n",
              "          const dataTable =\n",
              "            await google.colab.kernel.invokeFunction('convertToInteractive',\n",
              "                                                     [key], {});\n",
              "          if (!dataTable) return;\n",
              "\n",
              "          const docLinkHtml = 'Like what you see? Visit the ' +\n",
              "            '<a target=\"_blank\" href=https://colab.research.google.com/notebooks/data_table.ipynb>data table notebook</a>'\n",
              "            + ' to learn more about interactive tables.';\n",
              "          element.innerHTML = '';\n",
              "          dataTable['output_type'] = 'display_data';\n",
              "          await google.colab.output.renderOutput(dataTable, element);\n",
              "          const docLink = document.createElement('div');\n",
              "          docLink.innerHTML = docLinkHtml;\n",
              "          element.appendChild(docLink);\n",
              "        }\n",
              "      </script>\n",
              "    </div>\n",
              "  </div>\n",
              "  "
            ]
          },
          "metadata": {},
          "execution_count": 432
        }
      ],
      "source": [
        "df.head()"
      ]
    },
    {
      "cell_type": "code",
      "execution_count": null,
      "metadata": {
        "id": "UeteoBZM1d57",
        "colab": {
          "base_uri": "https://localhost:8080/"
        },
        "outputId": "343e5e8f-e0a2-43d6-bc56-413a0fe1c996"
      },
      "outputs": [
        {
          "output_type": "execute_result",
          "data": {
            "text/plain": [
              "array(['B', 'C', 'E', 'D', 'A', '?', 'T', 'F', 'G'], dtype=object)"
            ]
          },
          "metadata": {},
          "execution_count": 454
        }
      ],
      "source": [
        "# captures first letter of string (the letter of the cabin)\n",
        "df['cabin'] = df['cabin'].str[0]\n",
        "df['cabin'].unique()"
      ]
    },
    {
      "cell_type": "markdown",
      "metadata": {
        "id": "r7-zJNJy4c_n"
      },
      "source": [
        "**Aplicaremos el metodo a algunas variables categoricas.**\n",
        "\n",
        "**OBS:** Cabe destacar que en nuestro x_train y x_test conservamos nuestro target ya que lo necesitaremos para hacer el encoding."
      ]
    },
    {
      "cell_type": "code",
      "execution_count": null,
      "metadata": {
        "id": "yxFa7d7M0yr0",
        "colab": {
          "base_uri": "https://localhost:8080/"
        },
        "outputId": "6e266186-0be1-43ce-de27-9a02caf99fbb"
      },
      "outputs": [
        {
          "output_type": "execute_result",
          "data": {
            "text/plain": [
              "((916, 5), (393, 5))"
            ]
          },
          "metadata": {},
          "execution_count": 455
        }
      ],
      "source": [
        "X_train, X_test, y_train, y_test = train_test_split(\n",
        "    df[['pclass', 'sex', 'embarked', 'cabin', 'survived']],\n",
        "    df['survived'],\n",
        "    test_size=0.3,\n",
        "    random_state=0)\n",
        "\n",
        "X_train.shape, X_test.shape"
      ]
    },
    {
      "cell_type": "code",
      "execution_count": null,
      "metadata": {
        "id": "kLLJ97Wn1SZj",
        "colab": {
          "base_uri": "https://localhost:8080/",
          "height": 206
        },
        "outputId": "b8a35042-cb06-4705-fba4-17d83f7f5796"
      },
      "outputs": [
        {
          "output_type": "execute_result",
          "data": {
            "text/plain": [
              "      pclass     sex embarked cabin  survived\n",
              "501        2  female        S     ?         1\n",
              "588        2  female        S     ?         1\n",
              "402        2  female        C     ?         1\n",
              "1193       3    male        Q     ?         0\n",
              "686        3  female        Q     ?         1"
            ],
            "text/html": [
              "\n",
              "  <div id=\"df-229b9b7a-0a85-43c4-9bd3-bbc7e314824e\">\n",
              "    <div class=\"colab-df-container\">\n",
              "      <div>\n",
              "<style scoped>\n",
              "    .dataframe tbody tr th:only-of-type {\n",
              "        vertical-align: middle;\n",
              "    }\n",
              "\n",
              "    .dataframe tbody tr th {\n",
              "        vertical-align: top;\n",
              "    }\n",
              "\n",
              "    .dataframe thead th {\n",
              "        text-align: right;\n",
              "    }\n",
              "</style>\n",
              "<table border=\"1\" class=\"dataframe\">\n",
              "  <thead>\n",
              "    <tr style=\"text-align: right;\">\n",
              "      <th></th>\n",
              "      <th>pclass</th>\n",
              "      <th>sex</th>\n",
              "      <th>embarked</th>\n",
              "      <th>cabin</th>\n",
              "      <th>survived</th>\n",
              "    </tr>\n",
              "  </thead>\n",
              "  <tbody>\n",
              "    <tr>\n",
              "      <th>501</th>\n",
              "      <td>2</td>\n",
              "      <td>female</td>\n",
              "      <td>S</td>\n",
              "      <td>?</td>\n",
              "      <td>1</td>\n",
              "    </tr>\n",
              "    <tr>\n",
              "      <th>588</th>\n",
              "      <td>2</td>\n",
              "      <td>female</td>\n",
              "      <td>S</td>\n",
              "      <td>?</td>\n",
              "      <td>1</td>\n",
              "    </tr>\n",
              "    <tr>\n",
              "      <th>402</th>\n",
              "      <td>2</td>\n",
              "      <td>female</td>\n",
              "      <td>C</td>\n",
              "      <td>?</td>\n",
              "      <td>1</td>\n",
              "    </tr>\n",
              "    <tr>\n",
              "      <th>1193</th>\n",
              "      <td>3</td>\n",
              "      <td>male</td>\n",
              "      <td>Q</td>\n",
              "      <td>?</td>\n",
              "      <td>0</td>\n",
              "    </tr>\n",
              "    <tr>\n",
              "      <th>686</th>\n",
              "      <td>3</td>\n",
              "      <td>female</td>\n",
              "      <td>Q</td>\n",
              "      <td>?</td>\n",
              "      <td>1</td>\n",
              "    </tr>\n",
              "  </tbody>\n",
              "</table>\n",
              "</div>\n",
              "      <button class=\"colab-df-convert\" onclick=\"convertToInteractive('df-229b9b7a-0a85-43c4-9bd3-bbc7e314824e')\"\n",
              "              title=\"Convert this dataframe to an interactive table.\"\n",
              "              style=\"display:none;\">\n",
              "        \n",
              "  <svg xmlns=\"http://www.w3.org/2000/svg\" height=\"24px\"viewBox=\"0 0 24 24\"\n",
              "       width=\"24px\">\n",
              "    <path d=\"M0 0h24v24H0V0z\" fill=\"none\"/>\n",
              "    <path d=\"M18.56 5.44l.94 2.06.94-2.06 2.06-.94-2.06-.94-.94-2.06-.94 2.06-2.06.94zm-11 1L8.5 8.5l.94-2.06 2.06-.94-2.06-.94L8.5 2.5l-.94 2.06-2.06.94zm10 10l.94 2.06.94-2.06 2.06-.94-2.06-.94-.94-2.06-.94 2.06-2.06.94z\"/><path d=\"M17.41 7.96l-1.37-1.37c-.4-.4-.92-.59-1.43-.59-.52 0-1.04.2-1.43.59L10.3 9.45l-7.72 7.72c-.78.78-.78 2.05 0 2.83L4 21.41c.39.39.9.59 1.41.59.51 0 1.02-.2 1.41-.59l7.78-7.78 2.81-2.81c.8-.78.8-2.07 0-2.86zM5.41 20L4 18.59l7.72-7.72 1.47 1.35L5.41 20z\"/>\n",
              "  </svg>\n",
              "      </button>\n",
              "      \n",
              "  <style>\n",
              "    .colab-df-container {\n",
              "      display:flex;\n",
              "      flex-wrap:wrap;\n",
              "      gap: 12px;\n",
              "    }\n",
              "\n",
              "    .colab-df-convert {\n",
              "      background-color: #E8F0FE;\n",
              "      border: none;\n",
              "      border-radius: 50%;\n",
              "      cursor: pointer;\n",
              "      display: none;\n",
              "      fill: #1967D2;\n",
              "      height: 32px;\n",
              "      padding: 0 0 0 0;\n",
              "      width: 32px;\n",
              "    }\n",
              "\n",
              "    .colab-df-convert:hover {\n",
              "      background-color: #E2EBFA;\n",
              "      box-shadow: 0px 1px 2px rgba(60, 64, 67, 0.3), 0px 1px 3px 1px rgba(60, 64, 67, 0.15);\n",
              "      fill: #174EA6;\n",
              "    }\n",
              "\n",
              "    [theme=dark] .colab-df-convert {\n",
              "      background-color: #3B4455;\n",
              "      fill: #D2E3FC;\n",
              "    }\n",
              "\n",
              "    [theme=dark] .colab-df-convert:hover {\n",
              "      background-color: #434B5C;\n",
              "      box-shadow: 0px 1px 3px 1px rgba(0, 0, 0, 0.15);\n",
              "      filter: drop-shadow(0px 1px 2px rgba(0, 0, 0, 0.3));\n",
              "      fill: #FFFFFF;\n",
              "    }\n",
              "  </style>\n",
              "\n",
              "      <script>\n",
              "        const buttonEl =\n",
              "          document.querySelector('#df-229b9b7a-0a85-43c4-9bd3-bbc7e314824e button.colab-df-convert');\n",
              "        buttonEl.style.display =\n",
              "          google.colab.kernel.accessAllowed ? 'block' : 'none';\n",
              "\n",
              "        async function convertToInteractive(key) {\n",
              "          const element = document.querySelector('#df-229b9b7a-0a85-43c4-9bd3-bbc7e314824e');\n",
              "          const dataTable =\n",
              "            await google.colab.kernel.invokeFunction('convertToInteractive',\n",
              "                                                     [key], {});\n",
              "          if (!dataTable) return;\n",
              "\n",
              "          const docLinkHtml = 'Like what you see? Visit the ' +\n",
              "            '<a target=\"_blank\" href=https://colab.research.google.com/notebooks/data_table.ipynb>data table notebook</a>'\n",
              "            + ' to learn more about interactive tables.';\n",
              "          element.innerHTML = '';\n",
              "          dataTable['output_type'] = 'display_data';\n",
              "          await google.colab.output.renderOutput(dataTable, element);\n",
              "          const docLink = document.createElement('div');\n",
              "          docLink.innerHTML = docLinkHtml;\n",
              "          element.appendChild(docLink);\n",
              "        }\n",
              "      </script>\n",
              "    </div>\n",
              "  </div>\n",
              "  "
            ]
          },
          "metadata": {},
          "execution_count": 435
        }
      ],
      "source": [
        "X_train.head()"
      ]
    },
    {
      "cell_type": "markdown",
      "metadata": {
        "id": "ssH20aXf3zS8"
      },
      "source": [
        "Creamos la función que nos ayudara a codificar nuestras variables categóricas."
      ]
    },
    {
      "cell_type": "code",
      "execution_count": null,
      "metadata": {
        "id": "ReSp7Ax81Bu0"
      },
      "outputs": [],
      "source": [
        "def mean_encoding(df_train, df_test, categorical_vars):\n",
        "    \n",
        "    df_train_temp = df_train.copy()\n",
        "    df_test_temp = df_test.copy()\n",
        "    \n",
        "    for col in categorical_vars:\n",
        "        \n",
        "        # creamos un diccionario agrupando por variable y \n",
        "        # calculando la media del target\n",
        "        target_mean_dict = df_train.groupby([col])['survived'].mean().to_dict()\n",
        "        \n",
        "        # reemplazamos las variables categoricas por el valor de la media del target\n",
        "        df_train_temp[col] = df_train[col].map(target_mean_dict)\n",
        "        df_test_temp[col] = df_test[col].map(target_mean_dict)\n",
        "    \n",
        "    # dropeamos el target de nuestro train_set y test_set\n",
        "    df_train_temp.drop(['survived'], axis=1, inplace=True)\n",
        "    df_test_temp.drop(['survived'], axis=1, inplace=True)\n",
        "    \n",
        "    return df_train_temp, df_test_temp"
      ]
    },
    {
      "cell_type": "code",
      "execution_count": null,
      "metadata": {
        "id": "dXTx_Z4p2MYU",
        "colab": {
          "base_uri": "https://localhost:8080/",
          "height": 206
        },
        "outputId": "a30f4685-e246-43e7-b0c7-cabc4945ebe1"
      },
      "outputs": [
        {
          "output_type": "execute_result",
          "data": {
            "text/plain": [
              "        pclass       sex  embarked     cabin\n",
              "501   0.436170  0.728358  0.338957  0.304843\n",
              "588   0.436170  0.728358  0.338957  0.304843\n",
              "402   0.436170  0.728358  0.553073  0.304843\n",
              "1193  0.259036  0.187608  0.373494  0.304843\n",
              "686   0.259036  0.728358  0.373494  0.304843"
            ],
            "text/html": [
              "\n",
              "  <div id=\"df-46316996-07df-431d-8abc-eb34c95bf575\">\n",
              "    <div class=\"colab-df-container\">\n",
              "      <div>\n",
              "<style scoped>\n",
              "    .dataframe tbody tr th:only-of-type {\n",
              "        vertical-align: middle;\n",
              "    }\n",
              "\n",
              "    .dataframe tbody tr th {\n",
              "        vertical-align: top;\n",
              "    }\n",
              "\n",
              "    .dataframe thead th {\n",
              "        text-align: right;\n",
              "    }\n",
              "</style>\n",
              "<table border=\"1\" class=\"dataframe\">\n",
              "  <thead>\n",
              "    <tr style=\"text-align: right;\">\n",
              "      <th></th>\n",
              "      <th>pclass</th>\n",
              "      <th>sex</th>\n",
              "      <th>embarked</th>\n",
              "      <th>cabin</th>\n",
              "    </tr>\n",
              "  </thead>\n",
              "  <tbody>\n",
              "    <tr>\n",
              "      <th>501</th>\n",
              "      <td>0.436170</td>\n",
              "      <td>0.728358</td>\n",
              "      <td>0.338957</td>\n",
              "      <td>0.304843</td>\n",
              "    </tr>\n",
              "    <tr>\n",
              "      <th>588</th>\n",
              "      <td>0.436170</td>\n",
              "      <td>0.728358</td>\n",
              "      <td>0.338957</td>\n",
              "      <td>0.304843</td>\n",
              "    </tr>\n",
              "    <tr>\n",
              "      <th>402</th>\n",
              "      <td>0.436170</td>\n",
              "      <td>0.728358</td>\n",
              "      <td>0.553073</td>\n",
              "      <td>0.304843</td>\n",
              "    </tr>\n",
              "    <tr>\n",
              "      <th>1193</th>\n",
              "      <td>0.259036</td>\n",
              "      <td>0.187608</td>\n",
              "      <td>0.373494</td>\n",
              "      <td>0.304843</td>\n",
              "    </tr>\n",
              "    <tr>\n",
              "      <th>686</th>\n",
              "      <td>0.259036</td>\n",
              "      <td>0.728358</td>\n",
              "      <td>0.373494</td>\n",
              "      <td>0.304843</td>\n",
              "    </tr>\n",
              "  </tbody>\n",
              "</table>\n",
              "</div>\n",
              "      <button class=\"colab-df-convert\" onclick=\"convertToInteractive('df-46316996-07df-431d-8abc-eb34c95bf575')\"\n",
              "              title=\"Convert this dataframe to an interactive table.\"\n",
              "              style=\"display:none;\">\n",
              "        \n",
              "  <svg xmlns=\"http://www.w3.org/2000/svg\" height=\"24px\"viewBox=\"0 0 24 24\"\n",
              "       width=\"24px\">\n",
              "    <path d=\"M0 0h24v24H0V0z\" fill=\"none\"/>\n",
              "    <path d=\"M18.56 5.44l.94 2.06.94-2.06 2.06-.94-2.06-.94-.94-2.06-.94 2.06-2.06.94zm-11 1L8.5 8.5l.94-2.06 2.06-.94-2.06-.94L8.5 2.5l-.94 2.06-2.06.94zm10 10l.94 2.06.94-2.06 2.06-.94-2.06-.94-.94-2.06-.94 2.06-2.06.94z\"/><path d=\"M17.41 7.96l-1.37-1.37c-.4-.4-.92-.59-1.43-.59-.52 0-1.04.2-1.43.59L10.3 9.45l-7.72 7.72c-.78.78-.78 2.05 0 2.83L4 21.41c.39.39.9.59 1.41.59.51 0 1.02-.2 1.41-.59l7.78-7.78 2.81-2.81c.8-.78.8-2.07 0-2.86zM5.41 20L4 18.59l7.72-7.72 1.47 1.35L5.41 20z\"/>\n",
              "  </svg>\n",
              "      </button>\n",
              "      \n",
              "  <style>\n",
              "    .colab-df-container {\n",
              "      display:flex;\n",
              "      flex-wrap:wrap;\n",
              "      gap: 12px;\n",
              "    }\n",
              "\n",
              "    .colab-df-convert {\n",
              "      background-color: #E8F0FE;\n",
              "      border: none;\n",
              "      border-radius: 50%;\n",
              "      cursor: pointer;\n",
              "      display: none;\n",
              "      fill: #1967D2;\n",
              "      height: 32px;\n",
              "      padding: 0 0 0 0;\n",
              "      width: 32px;\n",
              "    }\n",
              "\n",
              "    .colab-df-convert:hover {\n",
              "      background-color: #E2EBFA;\n",
              "      box-shadow: 0px 1px 2px rgba(60, 64, 67, 0.3), 0px 1px 3px 1px rgba(60, 64, 67, 0.15);\n",
              "      fill: #174EA6;\n",
              "    }\n",
              "\n",
              "    [theme=dark] .colab-df-convert {\n",
              "      background-color: #3B4455;\n",
              "      fill: #D2E3FC;\n",
              "    }\n",
              "\n",
              "    [theme=dark] .colab-df-convert:hover {\n",
              "      background-color: #434B5C;\n",
              "      box-shadow: 0px 1px 3px 1px rgba(0, 0, 0, 0.15);\n",
              "      filter: drop-shadow(0px 1px 2px rgba(0, 0, 0, 0.3));\n",
              "      fill: #FFFFFF;\n",
              "    }\n",
              "  </style>\n",
              "\n",
              "      <script>\n",
              "        const buttonEl =\n",
              "          document.querySelector('#df-46316996-07df-431d-8abc-eb34c95bf575 button.colab-df-convert');\n",
              "        buttonEl.style.display =\n",
              "          google.colab.kernel.accessAllowed ? 'block' : 'none';\n",
              "\n",
              "        async function convertToInteractive(key) {\n",
              "          const element = document.querySelector('#df-46316996-07df-431d-8abc-eb34c95bf575');\n",
              "          const dataTable =\n",
              "            await google.colab.kernel.invokeFunction('convertToInteractive',\n",
              "                                                     [key], {});\n",
              "          if (!dataTable) return;\n",
              "\n",
              "          const docLinkHtml = 'Like what you see? Visit the ' +\n",
              "            '<a target=\"_blank\" href=https://colab.research.google.com/notebooks/data_table.ipynb>data table notebook</a>'\n",
              "            + ' to learn more about interactive tables.';\n",
              "          element.innerHTML = '';\n",
              "          dataTable['output_type'] = 'display_data';\n",
              "          await google.colab.output.renderOutput(dataTable, element);\n",
              "          const docLink = document.createElement('div');\n",
              "          docLink.innerHTML = docLinkHtml;\n",
              "          element.appendChild(docLink);\n",
              "        }\n",
              "      </script>\n",
              "    </div>\n",
              "  </div>\n",
              "  "
            ]
          },
          "metadata": {},
          "execution_count": 457
        }
      ],
      "source": [
        "categorical_vars = ['pclass', 'sex', 'embarked', 'cabin']\n",
        "\n",
        "X_train_enc, X_test_enc = mean_encoding(X_train, X_test, categorical_vars)\n",
        "\n",
        "X_train_enc.head()"
      ]
    },
    {
      "cell_type": "code",
      "execution_count": null,
      "metadata": {
        "id": "HQYk7YA-20AA",
        "colab": {
          "base_uri": "https://localhost:8080/",
          "height": 206
        },
        "outputId": "a7c5575d-b7d4-4fdb-ce08-49cb1d2ca7f9"
      },
      "outputs": [
        {
          "output_type": "execute_result",
          "data": {
            "text/plain": [
              "        pclass       sex  embarked     cabin\n",
              "1139  0.259036  0.187608  0.338957  0.304843\n",
              "533   0.436170  0.728358  0.338957  0.304843\n",
              "459   0.436170  0.187608  0.338957  0.304843\n",
              "1150  0.259036  0.187608  0.338957  0.304843\n",
              "393   0.436170  0.187608  0.338957  0.304843"
            ],
            "text/html": [
              "\n",
              "  <div id=\"df-df940564-a781-4665-a428-1eda39e9a2a3\">\n",
              "    <div class=\"colab-df-container\">\n",
              "      <div>\n",
              "<style scoped>\n",
              "    .dataframe tbody tr th:only-of-type {\n",
              "        vertical-align: middle;\n",
              "    }\n",
              "\n",
              "    .dataframe tbody tr th {\n",
              "        vertical-align: top;\n",
              "    }\n",
              "\n",
              "    .dataframe thead th {\n",
              "        text-align: right;\n",
              "    }\n",
              "</style>\n",
              "<table border=\"1\" class=\"dataframe\">\n",
              "  <thead>\n",
              "    <tr style=\"text-align: right;\">\n",
              "      <th></th>\n",
              "      <th>pclass</th>\n",
              "      <th>sex</th>\n",
              "      <th>embarked</th>\n",
              "      <th>cabin</th>\n",
              "    </tr>\n",
              "  </thead>\n",
              "  <tbody>\n",
              "    <tr>\n",
              "      <th>1139</th>\n",
              "      <td>0.259036</td>\n",
              "      <td>0.187608</td>\n",
              "      <td>0.338957</td>\n",
              "      <td>0.304843</td>\n",
              "    </tr>\n",
              "    <tr>\n",
              "      <th>533</th>\n",
              "      <td>0.436170</td>\n",
              "      <td>0.728358</td>\n",
              "      <td>0.338957</td>\n",
              "      <td>0.304843</td>\n",
              "    </tr>\n",
              "    <tr>\n",
              "      <th>459</th>\n",
              "      <td>0.436170</td>\n",
              "      <td>0.187608</td>\n",
              "      <td>0.338957</td>\n",
              "      <td>0.304843</td>\n",
              "    </tr>\n",
              "    <tr>\n",
              "      <th>1150</th>\n",
              "      <td>0.259036</td>\n",
              "      <td>0.187608</td>\n",
              "      <td>0.338957</td>\n",
              "      <td>0.304843</td>\n",
              "    </tr>\n",
              "    <tr>\n",
              "      <th>393</th>\n",
              "      <td>0.436170</td>\n",
              "      <td>0.187608</td>\n",
              "      <td>0.338957</td>\n",
              "      <td>0.304843</td>\n",
              "    </tr>\n",
              "  </tbody>\n",
              "</table>\n",
              "</div>\n",
              "      <button class=\"colab-df-convert\" onclick=\"convertToInteractive('df-df940564-a781-4665-a428-1eda39e9a2a3')\"\n",
              "              title=\"Convert this dataframe to an interactive table.\"\n",
              "              style=\"display:none;\">\n",
              "        \n",
              "  <svg xmlns=\"http://www.w3.org/2000/svg\" height=\"24px\"viewBox=\"0 0 24 24\"\n",
              "       width=\"24px\">\n",
              "    <path d=\"M0 0h24v24H0V0z\" fill=\"none\"/>\n",
              "    <path d=\"M18.56 5.44l.94 2.06.94-2.06 2.06-.94-2.06-.94-.94-2.06-.94 2.06-2.06.94zm-11 1L8.5 8.5l.94-2.06 2.06-.94-2.06-.94L8.5 2.5l-.94 2.06-2.06.94zm10 10l.94 2.06.94-2.06 2.06-.94-2.06-.94-.94-2.06-.94 2.06-2.06.94z\"/><path d=\"M17.41 7.96l-1.37-1.37c-.4-.4-.92-.59-1.43-.59-.52 0-1.04.2-1.43.59L10.3 9.45l-7.72 7.72c-.78.78-.78 2.05 0 2.83L4 21.41c.39.39.9.59 1.41.59.51 0 1.02-.2 1.41-.59l7.78-7.78 2.81-2.81c.8-.78.8-2.07 0-2.86zM5.41 20L4 18.59l7.72-7.72 1.47 1.35L5.41 20z\"/>\n",
              "  </svg>\n",
              "      </button>\n",
              "      \n",
              "  <style>\n",
              "    .colab-df-container {\n",
              "      display:flex;\n",
              "      flex-wrap:wrap;\n",
              "      gap: 12px;\n",
              "    }\n",
              "\n",
              "    .colab-df-convert {\n",
              "      background-color: #E8F0FE;\n",
              "      border: none;\n",
              "      border-radius: 50%;\n",
              "      cursor: pointer;\n",
              "      display: none;\n",
              "      fill: #1967D2;\n",
              "      height: 32px;\n",
              "      padding: 0 0 0 0;\n",
              "      width: 32px;\n",
              "    }\n",
              "\n",
              "    .colab-df-convert:hover {\n",
              "      background-color: #E2EBFA;\n",
              "      box-shadow: 0px 1px 2px rgba(60, 64, 67, 0.3), 0px 1px 3px 1px rgba(60, 64, 67, 0.15);\n",
              "      fill: #174EA6;\n",
              "    }\n",
              "\n",
              "    [theme=dark] .colab-df-convert {\n",
              "      background-color: #3B4455;\n",
              "      fill: #D2E3FC;\n",
              "    }\n",
              "\n",
              "    [theme=dark] .colab-df-convert:hover {\n",
              "      background-color: #434B5C;\n",
              "      box-shadow: 0px 1px 3px 1px rgba(0, 0, 0, 0.15);\n",
              "      filter: drop-shadow(0px 1px 2px rgba(0, 0, 0, 0.3));\n",
              "      fill: #FFFFFF;\n",
              "    }\n",
              "  </style>\n",
              "\n",
              "      <script>\n",
              "        const buttonEl =\n",
              "          document.querySelector('#df-df940564-a781-4665-a428-1eda39e9a2a3 button.colab-df-convert');\n",
              "        buttonEl.style.display =\n",
              "          google.colab.kernel.accessAllowed ? 'block' : 'none';\n",
              "\n",
              "        async function convertToInteractive(key) {\n",
              "          const element = document.querySelector('#df-df940564-a781-4665-a428-1eda39e9a2a3');\n",
              "          const dataTable =\n",
              "            await google.colab.kernel.invokeFunction('convertToInteractive',\n",
              "                                                     [key], {});\n",
              "          if (!dataTable) return;\n",
              "\n",
              "          const docLinkHtml = 'Like what you see? Visit the ' +\n",
              "            '<a target=\"_blank\" href=https://colab.research.google.com/notebooks/data_table.ipynb>data table notebook</a>'\n",
              "            + ' to learn more about interactive tables.';\n",
              "          element.innerHTML = '';\n",
              "          dataTable['output_type'] = 'display_data';\n",
              "          await google.colab.output.renderOutput(dataTable, element);\n",
              "          const docLink = document.createElement('div');\n",
              "          docLink.innerHTML = docLinkHtml;\n",
              "          element.appendChild(docLink);\n",
              "        }\n",
              "      </script>\n",
              "    </div>\n",
              "  </div>\n",
              "  "
            ]
          },
          "metadata": {},
          "execution_count": 458
        }
      ],
      "source": [
        "X_test_enc.head()"
      ]
    },
    {
      "cell_type": "markdown",
      "metadata": {
        "id": "_wo6b79523Vm"
      },
      "source": [
        "Determinamos el valor de roc-auc para las variables.\n",
        "\n"
      ]
    },
    {
      "cell_type": "code",
      "execution_count": null,
      "metadata": {
        "id": "_42FMsi_234N"
      },
      "outputs": [],
      "source": [
        "roc_values = []\n",
        "\n",
        "for feature in categorical_vars:\n",
        "    \n",
        "    roc_values.append(roc_auc_score(y_test, X_test_enc[feature]))"
      ]
    },
    {
      "cell_type": "markdown",
      "metadata": {
        "id": "NoBkgjfa3gZi"
      },
      "source": [
        "Podemos ver que todos los features presentan un valor de roc-auc mayor a 0.5 por lo que a priori parecen ser todos importantes para predecir el target."
      ]
    },
    {
      "cell_type": "code",
      "execution_count": null,
      "metadata": {
        "id": "22VLiC1k27U8",
        "colab": {
          "base_uri": "https://localhost:8080/"
        },
        "outputId": "5fdffb0f-52db-437e-9e77-c0e912b6e32f"
      },
      "outputs": [
        {
          "output_type": "execute_result",
          "data": {
            "text/plain": [
              "sex         0.749959\n",
              "pclass      0.670096\n",
              "cabin       0.628809\n",
              "embarked    0.593358\n",
              "dtype: float64"
            ]
          },
          "metadata": {},
          "execution_count": 460
        }
      ],
      "source": [
        "m1 = pd.Series(roc_values)\n",
        "m1.index = categorical_vars\n",
        "m1.sort_values(ascending=False)"
      ]
    },
    {
      "cell_type": "markdown",
      "metadata": {
        "id": "nKtJwOX79heN"
      },
      "source": [
        "**Ahora aplicaremos el método a algunas variables numéricas.**\n",
        "\n",
        "Lo único distinto es reemplazar nuestras variables numéricas por contenedores."
      ]
    },
    {
      "cell_type": "code",
      "execution_count": null,
      "metadata": {
        "id": "jbDLAzyyF4my"
      },
      "outputs": [],
      "source": [
        "# puesto que nuestros datos son de tipo string numerico ie \"10\" o \"20\"\n",
        "# los convertiremos a numericos\n",
        "age_series = df[\"age\"]\n",
        "fare_series = df[\"fare\"]\n",
        "\n",
        "# reemplazamos los \"?\" por 0\n",
        "df[\"age\"] = age_series.map(lambda x: 0 if x == \"?\" else x)\n",
        "df[\"fare\"] = fare_series.map(lambda x: 0 if x == \"?\" else x)\n",
        "\n",
        "# convertimos nuestras variables a numericas\n",
        "age_series = pd.to_numeric(age_series)\n",
        "fare_series = pd.to_numeric(fare_series)\n",
        "\n",
        "df[\"age\"] = age_series\n",
        "df[\"fare\"] = fare_series"
      ]
    },
    {
      "cell_type": "code",
      "execution_count": null,
      "metadata": {
        "id": "7kAmzm839kYI",
        "colab": {
          "base_uri": "https://localhost:8080/"
        },
        "outputId": "faa20838-ccce-40ba-a019-48ac04141e18"
      },
      "outputs": [
        {
          "output_type": "execute_result",
          "data": {
            "text/plain": [
              "((916, 3), (393, 3))"
            ]
          },
          "metadata": {},
          "execution_count": 462
        }
      ],
      "source": [
        "X_train, X_test, y_train, y_test = train_test_split(\n",
        "    df[['age', 'fare', 'survived']],\n",
        "    df['survived'],\n",
        "    test_size=0.3,\n",
        "    random_state=0)\n",
        "\n",
        "X_train.shape, X_test.shape"
      ]
    },
    {
      "cell_type": "markdown",
      "metadata": {
        "id": "ppeG5f9DJQp4"
      },
      "source": [
        "Vamos a crear intervalos que contienen la misma cantidad de observaciones."
      ]
    },
    {
      "cell_type": "code",
      "execution_count": null,
      "metadata": {
        "id": "1E33CXdc-Cyr",
        "colab": {
          "base_uri": "https://localhost:8080/",
          "height": 206
        },
        "outputId": "a613444f-b301-425d-ff36-04e9c8d84de0"
      },
      "outputs": [
        {
          "output_type": "execute_result",
          "data": {
            "text/plain": [
              "      age_binned   age\n",
              "501            1  13.0\n",
              "588            1   4.0\n",
              "402            3  30.0\n",
              "1193           0   0.0\n",
              "686            1  22.0"
            ],
            "text/html": [
              "\n",
              "  <div id=\"df-e9e69e6c-105f-4c20-8e29-c87bbaf65a07\">\n",
              "    <div class=\"colab-df-container\">\n",
              "      <div>\n",
              "<style scoped>\n",
              "    .dataframe tbody tr th:only-of-type {\n",
              "        vertical-align: middle;\n",
              "    }\n",
              "\n",
              "    .dataframe tbody tr th {\n",
              "        vertical-align: top;\n",
              "    }\n",
              "\n",
              "    .dataframe thead th {\n",
              "        text-align: right;\n",
              "    }\n",
              "</style>\n",
              "<table border=\"1\" class=\"dataframe\">\n",
              "  <thead>\n",
              "    <tr style=\"text-align: right;\">\n",
              "      <th></th>\n",
              "      <th>age_binned</th>\n",
              "      <th>age</th>\n",
              "    </tr>\n",
              "  </thead>\n",
              "  <tbody>\n",
              "    <tr>\n",
              "      <th>501</th>\n",
              "      <td>1</td>\n",
              "      <td>13.0</td>\n",
              "    </tr>\n",
              "    <tr>\n",
              "      <th>588</th>\n",
              "      <td>1</td>\n",
              "      <td>4.0</td>\n",
              "    </tr>\n",
              "    <tr>\n",
              "      <th>402</th>\n",
              "      <td>3</td>\n",
              "      <td>30.0</td>\n",
              "    </tr>\n",
              "    <tr>\n",
              "      <th>1193</th>\n",
              "      <td>0</td>\n",
              "      <td>0.0</td>\n",
              "    </tr>\n",
              "    <tr>\n",
              "      <th>686</th>\n",
              "      <td>1</td>\n",
              "      <td>22.0</td>\n",
              "    </tr>\n",
              "  </tbody>\n",
              "</table>\n",
              "</div>\n",
              "      <button class=\"colab-df-convert\" onclick=\"convertToInteractive('df-e9e69e6c-105f-4c20-8e29-c87bbaf65a07')\"\n",
              "              title=\"Convert this dataframe to an interactive table.\"\n",
              "              style=\"display:none;\">\n",
              "        \n",
              "  <svg xmlns=\"http://www.w3.org/2000/svg\" height=\"24px\"viewBox=\"0 0 24 24\"\n",
              "       width=\"24px\">\n",
              "    <path d=\"M0 0h24v24H0V0z\" fill=\"none\"/>\n",
              "    <path d=\"M18.56 5.44l.94 2.06.94-2.06 2.06-.94-2.06-.94-.94-2.06-.94 2.06-2.06.94zm-11 1L8.5 8.5l.94-2.06 2.06-.94-2.06-.94L8.5 2.5l-.94 2.06-2.06.94zm10 10l.94 2.06.94-2.06 2.06-.94-2.06-.94-.94-2.06-.94 2.06-2.06.94z\"/><path d=\"M17.41 7.96l-1.37-1.37c-.4-.4-.92-.59-1.43-.59-.52 0-1.04.2-1.43.59L10.3 9.45l-7.72 7.72c-.78.78-.78 2.05 0 2.83L4 21.41c.39.39.9.59 1.41.59.51 0 1.02-.2 1.41-.59l7.78-7.78 2.81-2.81c.8-.78.8-2.07 0-2.86zM5.41 20L4 18.59l7.72-7.72 1.47 1.35L5.41 20z\"/>\n",
              "  </svg>\n",
              "      </button>\n",
              "      \n",
              "  <style>\n",
              "    .colab-df-container {\n",
              "      display:flex;\n",
              "      flex-wrap:wrap;\n",
              "      gap: 12px;\n",
              "    }\n",
              "\n",
              "    .colab-df-convert {\n",
              "      background-color: #E8F0FE;\n",
              "      border: none;\n",
              "      border-radius: 50%;\n",
              "      cursor: pointer;\n",
              "      display: none;\n",
              "      fill: #1967D2;\n",
              "      height: 32px;\n",
              "      padding: 0 0 0 0;\n",
              "      width: 32px;\n",
              "    }\n",
              "\n",
              "    .colab-df-convert:hover {\n",
              "      background-color: #E2EBFA;\n",
              "      box-shadow: 0px 1px 2px rgba(60, 64, 67, 0.3), 0px 1px 3px 1px rgba(60, 64, 67, 0.15);\n",
              "      fill: #174EA6;\n",
              "    }\n",
              "\n",
              "    [theme=dark] .colab-df-convert {\n",
              "      background-color: #3B4455;\n",
              "      fill: #D2E3FC;\n",
              "    }\n",
              "\n",
              "    [theme=dark] .colab-df-convert:hover {\n",
              "      background-color: #434B5C;\n",
              "      box-shadow: 0px 1px 3px 1px rgba(0, 0, 0, 0.15);\n",
              "      filter: drop-shadow(0px 1px 2px rgba(0, 0, 0, 0.3));\n",
              "      fill: #FFFFFF;\n",
              "    }\n",
              "  </style>\n",
              "\n",
              "      <script>\n",
              "        const buttonEl =\n",
              "          document.querySelector('#df-e9e69e6c-105f-4c20-8e29-c87bbaf65a07 button.colab-df-convert');\n",
              "        buttonEl.style.display =\n",
              "          google.colab.kernel.accessAllowed ? 'block' : 'none';\n",
              "\n",
              "        async function convertToInteractive(key) {\n",
              "          const element = document.querySelector('#df-e9e69e6c-105f-4c20-8e29-c87bbaf65a07');\n",
              "          const dataTable =\n",
              "            await google.colab.kernel.invokeFunction('convertToInteractive',\n",
              "                                                     [key], {});\n",
              "          if (!dataTable) return;\n",
              "\n",
              "          const docLinkHtml = 'Like what you see? Visit the ' +\n",
              "            '<a target=\"_blank\" href=https://colab.research.google.com/notebooks/data_table.ipynb>data table notebook</a>'\n",
              "            + ' to learn more about interactive tables.';\n",
              "          element.innerHTML = '';\n",
              "          dataTable['output_type'] = 'display_data';\n",
              "          await google.colab.output.renderOutput(dataTable, element);\n",
              "          const docLink = document.createElement('div');\n",
              "          docLink.innerHTML = docLinkHtml;\n",
              "          element.appendChild(docLink);\n",
              "        }\n",
              "      </script>\n",
              "    </div>\n",
              "  </div>\n",
              "  "
            ]
          },
          "metadata": {},
          "execution_count": 463
        }
      ],
      "source": [
        "# queremos crear 5 intervalos a partir de la variable \"age\"\n",
        "X_train['age_binned'], intervals = pd.qcut(\n",
        "    X_train['age'],\n",
        "    q = 5,\n",
        "    labels=False,\n",
        "    retbins=True,\n",
        "    precision=3,\n",
        "    duplicates='drop',\n",
        ")\n",
        "\n",
        "X_train[['age_binned', 'age']].head()"
      ]
    },
    {
      "cell_type": "code",
      "execution_count": null,
      "metadata": {
        "id": "M4dqga_QHfMS",
        "colab": {
          "base_uri": "https://localhost:8080/",
          "height": 206
        },
        "outputId": "5574d867-8e2c-4f9f-cf40-4832ae08c0e5"
      },
      "outputs": [
        {
          "output_type": "execute_result",
          "data": {
            "text/plain": [
              "      age_binned   age\n",
              "1139         3.0  38.0\n",
              "533          1.0  21.0\n",
              "459          4.0  42.0\n",
              "1150         NaN   0.0\n",
              "393          2.0  25.0"
            ],
            "text/html": [
              "\n",
              "  <div id=\"df-448b7a3d-26de-46cf-8693-2e3d90d642ba\">\n",
              "    <div class=\"colab-df-container\">\n",
              "      <div>\n",
              "<style scoped>\n",
              "    .dataframe tbody tr th:only-of-type {\n",
              "        vertical-align: middle;\n",
              "    }\n",
              "\n",
              "    .dataframe tbody tr th {\n",
              "        vertical-align: top;\n",
              "    }\n",
              "\n",
              "    .dataframe thead th {\n",
              "        text-align: right;\n",
              "    }\n",
              "</style>\n",
              "<table border=\"1\" class=\"dataframe\">\n",
              "  <thead>\n",
              "    <tr style=\"text-align: right;\">\n",
              "      <th></th>\n",
              "      <th>age_binned</th>\n",
              "      <th>age</th>\n",
              "    </tr>\n",
              "  </thead>\n",
              "  <tbody>\n",
              "    <tr>\n",
              "      <th>1139</th>\n",
              "      <td>3.0</td>\n",
              "      <td>38.0</td>\n",
              "    </tr>\n",
              "    <tr>\n",
              "      <th>533</th>\n",
              "      <td>1.0</td>\n",
              "      <td>21.0</td>\n",
              "    </tr>\n",
              "    <tr>\n",
              "      <th>459</th>\n",
              "      <td>4.0</td>\n",
              "      <td>42.0</td>\n",
              "    </tr>\n",
              "    <tr>\n",
              "      <th>1150</th>\n",
              "      <td>NaN</td>\n",
              "      <td>0.0</td>\n",
              "    </tr>\n",
              "    <tr>\n",
              "      <th>393</th>\n",
              "      <td>2.0</td>\n",
              "      <td>25.0</td>\n",
              "    </tr>\n",
              "  </tbody>\n",
              "</table>\n",
              "</div>\n",
              "      <button class=\"colab-df-convert\" onclick=\"convertToInteractive('df-448b7a3d-26de-46cf-8693-2e3d90d642ba')\"\n",
              "              title=\"Convert this dataframe to an interactive table.\"\n",
              "              style=\"display:none;\">\n",
              "        \n",
              "  <svg xmlns=\"http://www.w3.org/2000/svg\" height=\"24px\"viewBox=\"0 0 24 24\"\n",
              "       width=\"24px\">\n",
              "    <path d=\"M0 0h24v24H0V0z\" fill=\"none\"/>\n",
              "    <path d=\"M18.56 5.44l.94 2.06.94-2.06 2.06-.94-2.06-.94-.94-2.06-.94 2.06-2.06.94zm-11 1L8.5 8.5l.94-2.06 2.06-.94-2.06-.94L8.5 2.5l-.94 2.06-2.06.94zm10 10l.94 2.06.94-2.06 2.06-.94-2.06-.94-.94-2.06-.94 2.06-2.06.94z\"/><path d=\"M17.41 7.96l-1.37-1.37c-.4-.4-.92-.59-1.43-.59-.52 0-1.04.2-1.43.59L10.3 9.45l-7.72 7.72c-.78.78-.78 2.05 0 2.83L4 21.41c.39.39.9.59 1.41.59.51 0 1.02-.2 1.41-.59l7.78-7.78 2.81-2.81c.8-.78.8-2.07 0-2.86zM5.41 20L4 18.59l7.72-7.72 1.47 1.35L5.41 20z\"/>\n",
              "  </svg>\n",
              "      </button>\n",
              "      \n",
              "  <style>\n",
              "    .colab-df-container {\n",
              "      display:flex;\n",
              "      flex-wrap:wrap;\n",
              "      gap: 12px;\n",
              "    }\n",
              "\n",
              "    .colab-df-convert {\n",
              "      background-color: #E8F0FE;\n",
              "      border: none;\n",
              "      border-radius: 50%;\n",
              "      cursor: pointer;\n",
              "      display: none;\n",
              "      fill: #1967D2;\n",
              "      height: 32px;\n",
              "      padding: 0 0 0 0;\n",
              "      width: 32px;\n",
              "    }\n",
              "\n",
              "    .colab-df-convert:hover {\n",
              "      background-color: #E2EBFA;\n",
              "      box-shadow: 0px 1px 2px rgba(60, 64, 67, 0.3), 0px 1px 3px 1px rgba(60, 64, 67, 0.15);\n",
              "      fill: #174EA6;\n",
              "    }\n",
              "\n",
              "    [theme=dark] .colab-df-convert {\n",
              "      background-color: #3B4455;\n",
              "      fill: #D2E3FC;\n",
              "    }\n",
              "\n",
              "    [theme=dark] .colab-df-convert:hover {\n",
              "      background-color: #434B5C;\n",
              "      box-shadow: 0px 1px 3px 1px rgba(0, 0, 0, 0.15);\n",
              "      filter: drop-shadow(0px 1px 2px rgba(0, 0, 0, 0.3));\n",
              "      fill: #FFFFFF;\n",
              "    }\n",
              "  </style>\n",
              "\n",
              "      <script>\n",
              "        const buttonEl =\n",
              "          document.querySelector('#df-448b7a3d-26de-46cf-8693-2e3d90d642ba button.colab-df-convert');\n",
              "        buttonEl.style.display =\n",
              "          google.colab.kernel.accessAllowed ? 'block' : 'none';\n",
              "\n",
              "        async function convertToInteractive(key) {\n",
              "          const element = document.querySelector('#df-448b7a3d-26de-46cf-8693-2e3d90d642ba');\n",
              "          const dataTable =\n",
              "            await google.colab.kernel.invokeFunction('convertToInteractive',\n",
              "                                                     [key], {});\n",
              "          if (!dataTable) return;\n",
              "\n",
              "          const docLinkHtml = 'Like what you see? Visit the ' +\n",
              "            '<a target=\"_blank\" href=https://colab.research.google.com/notebooks/data_table.ipynb>data table notebook</a>'\n",
              "            + ' to learn more about interactive tables.';\n",
              "          element.innerHTML = '';\n",
              "          dataTable['output_type'] = 'display_data';\n",
              "          await google.colab.output.renderOutput(dataTable, element);\n",
              "          const docLink = document.createElement('div');\n",
              "          docLink.innerHTML = docLinkHtml;\n",
              "          element.appendChild(docLink);\n",
              "        }\n",
              "      </script>\n",
              "    </div>\n",
              "  </div>\n",
              "  "
            ]
          },
          "metadata": {},
          "execution_count": 464
        }
      ],
      "source": [
        "# ahora usamos los limites de los intervalos previamente calculados\n",
        "X_test['age_binned'] = pd.cut(x = X_test['age'], bins=intervals, labels=False)\n",
        "\n",
        "X_test[['age_binned', 'age']].head()"
      ]
    },
    {
      "cell_type": "code",
      "execution_count": null,
      "metadata": {
        "id": "Sx2_I5SOIJGp"
      },
      "outputs": [],
      "source": [
        "# hacemos lo mismo para la variable fare\n",
        "X_train['fare_binned'], intervals = pd.qcut(\n",
        "    X_train['fare'],\n",
        "    q=5,\n",
        "    labels=False,\n",
        "    retbins=True,\n",
        "    precision=3,\n",
        "    duplicates='drop',\n",
        ")\n",
        "\n",
        "X_test['fare_binned'] = pd.cut(x = X_test['fare'], bins=intervals, labels=False)"
      ]
    },
    {
      "cell_type": "code",
      "execution_count": null,
      "metadata": {
        "id": "QT5UBlHcIMmq",
        "colab": {
          "base_uri": "https://localhost:8080/"
        },
        "outputId": "5a73f963-f614-4d2e-b66d-d746be881db0"
      },
      "outputs": [
        {
          "output_type": "execute_result",
          "data": {
            "text/plain": [
              "age             0\n",
              "fare            0\n",
              "survived        0\n",
              "age_binned     90\n",
              "fare_binned     4\n",
              "dtype: int64"
            ]
          },
          "metadata": {},
          "execution_count": 466
        }
      ],
      "source": [
        "X_test.isnull().sum()"
      ]
    },
    {
      "cell_type": "code",
      "execution_count": null,
      "metadata": {
        "id": "EVSVCud2IQgj"
      },
      "outputs": [],
      "source": [
        "X_train = X_train.fillna(0)\n",
        "X_test = X_test.fillna(0)"
      ]
    },
    {
      "cell_type": "markdown",
      "metadata": {
        "id": "9jRx56NdK9F7"
      },
      "source": [
        "Usamos nuestra función previamente definida para encodear las variables."
      ]
    },
    {
      "cell_type": "code",
      "execution_count": null,
      "metadata": {
        "id": "pSbhaPasITsi",
        "colab": {
          "base_uri": "https://localhost:8080/",
          "height": 206
        },
        "outputId": "1c384abb-d951-4fbb-b24f-9a7c172d94ce"
      },
      "outputs": [
        {
          "output_type": "execute_result",
          "data": {
            "text/plain": [
              "      age_binned  fare_binned\n",
              "501     0.394231     0.371585\n",
              "588     0.394231     0.434066\n",
              "402     0.440415     0.371585\n",
              "1193    0.290323     0.293478\n",
              "686     0.394231     0.293478"
            ],
            "text/html": [
              "\n",
              "  <div id=\"df-8014b4ce-0801-4199-ba8c-ab6112cdbb19\">\n",
              "    <div class=\"colab-df-container\">\n",
              "      <div>\n",
              "<style scoped>\n",
              "    .dataframe tbody tr th:only-of-type {\n",
              "        vertical-align: middle;\n",
              "    }\n",
              "\n",
              "    .dataframe tbody tr th {\n",
              "        vertical-align: top;\n",
              "    }\n",
              "\n",
              "    .dataframe thead th {\n",
              "        text-align: right;\n",
              "    }\n",
              "</style>\n",
              "<table border=\"1\" class=\"dataframe\">\n",
              "  <thead>\n",
              "    <tr style=\"text-align: right;\">\n",
              "      <th></th>\n",
              "      <th>age_binned</th>\n",
              "      <th>fare_binned</th>\n",
              "    </tr>\n",
              "  </thead>\n",
              "  <tbody>\n",
              "    <tr>\n",
              "      <th>501</th>\n",
              "      <td>0.394231</td>\n",
              "      <td>0.371585</td>\n",
              "    </tr>\n",
              "    <tr>\n",
              "      <th>588</th>\n",
              "      <td>0.394231</td>\n",
              "      <td>0.434066</td>\n",
              "    </tr>\n",
              "    <tr>\n",
              "      <th>402</th>\n",
              "      <td>0.440415</td>\n",
              "      <td>0.371585</td>\n",
              "    </tr>\n",
              "    <tr>\n",
              "      <th>1193</th>\n",
              "      <td>0.290323</td>\n",
              "      <td>0.293478</td>\n",
              "    </tr>\n",
              "    <tr>\n",
              "      <th>686</th>\n",
              "      <td>0.394231</td>\n",
              "      <td>0.293478</td>\n",
              "    </tr>\n",
              "  </tbody>\n",
              "</table>\n",
              "</div>\n",
              "      <button class=\"colab-df-convert\" onclick=\"convertToInteractive('df-8014b4ce-0801-4199-ba8c-ab6112cdbb19')\"\n",
              "              title=\"Convert this dataframe to an interactive table.\"\n",
              "              style=\"display:none;\">\n",
              "        \n",
              "  <svg xmlns=\"http://www.w3.org/2000/svg\" height=\"24px\"viewBox=\"0 0 24 24\"\n",
              "       width=\"24px\">\n",
              "    <path d=\"M0 0h24v24H0V0z\" fill=\"none\"/>\n",
              "    <path d=\"M18.56 5.44l.94 2.06.94-2.06 2.06-.94-2.06-.94-.94-2.06-.94 2.06-2.06.94zm-11 1L8.5 8.5l.94-2.06 2.06-.94-2.06-.94L8.5 2.5l-.94 2.06-2.06.94zm10 10l.94 2.06.94-2.06 2.06-.94-2.06-.94-.94-2.06-.94 2.06-2.06.94z\"/><path d=\"M17.41 7.96l-1.37-1.37c-.4-.4-.92-.59-1.43-.59-.52 0-1.04.2-1.43.59L10.3 9.45l-7.72 7.72c-.78.78-.78 2.05 0 2.83L4 21.41c.39.39.9.59 1.41.59.51 0 1.02-.2 1.41-.59l7.78-7.78 2.81-2.81c.8-.78.8-2.07 0-2.86zM5.41 20L4 18.59l7.72-7.72 1.47 1.35L5.41 20z\"/>\n",
              "  </svg>\n",
              "      </button>\n",
              "      \n",
              "  <style>\n",
              "    .colab-df-container {\n",
              "      display:flex;\n",
              "      flex-wrap:wrap;\n",
              "      gap: 12px;\n",
              "    }\n",
              "\n",
              "    .colab-df-convert {\n",
              "      background-color: #E8F0FE;\n",
              "      border: none;\n",
              "      border-radius: 50%;\n",
              "      cursor: pointer;\n",
              "      display: none;\n",
              "      fill: #1967D2;\n",
              "      height: 32px;\n",
              "      padding: 0 0 0 0;\n",
              "      width: 32px;\n",
              "    }\n",
              "\n",
              "    .colab-df-convert:hover {\n",
              "      background-color: #E2EBFA;\n",
              "      box-shadow: 0px 1px 2px rgba(60, 64, 67, 0.3), 0px 1px 3px 1px rgba(60, 64, 67, 0.15);\n",
              "      fill: #174EA6;\n",
              "    }\n",
              "\n",
              "    [theme=dark] .colab-df-convert {\n",
              "      background-color: #3B4455;\n",
              "      fill: #D2E3FC;\n",
              "    }\n",
              "\n",
              "    [theme=dark] .colab-df-convert:hover {\n",
              "      background-color: #434B5C;\n",
              "      box-shadow: 0px 1px 3px 1px rgba(0, 0, 0, 0.15);\n",
              "      filter: drop-shadow(0px 1px 2px rgba(0, 0, 0, 0.3));\n",
              "      fill: #FFFFFF;\n",
              "    }\n",
              "  </style>\n",
              "\n",
              "      <script>\n",
              "        const buttonEl =\n",
              "          document.querySelector('#df-8014b4ce-0801-4199-ba8c-ab6112cdbb19 button.colab-df-convert');\n",
              "        buttonEl.style.display =\n",
              "          google.colab.kernel.accessAllowed ? 'block' : 'none';\n",
              "\n",
              "        async function convertToInteractive(key) {\n",
              "          const element = document.querySelector('#df-8014b4ce-0801-4199-ba8c-ab6112cdbb19');\n",
              "          const dataTable =\n",
              "            await google.colab.kernel.invokeFunction('convertToInteractive',\n",
              "                                                     [key], {});\n",
              "          if (!dataTable) return;\n",
              "\n",
              "          const docLinkHtml = 'Like what you see? Visit the ' +\n",
              "            '<a target=\"_blank\" href=https://colab.research.google.com/notebooks/data_table.ipynb>data table notebook</a>'\n",
              "            + ' to learn more about interactive tables.';\n",
              "          element.innerHTML = '';\n",
              "          dataTable['output_type'] = 'display_data';\n",
              "          await google.colab.output.renderOutput(dataTable, element);\n",
              "          const docLink = document.createElement('div');\n",
              "          docLink.innerHTML = docLinkHtml;\n",
              "          element.appendChild(docLink);\n",
              "        }\n",
              "      </script>\n",
              "    </div>\n",
              "  </div>\n",
              "  "
            ]
          },
          "metadata": {},
          "execution_count": 468
        }
      ],
      "source": [
        "binned_vars = ['age_binned', 'fare_binned']\n",
        "\n",
        "X_train_enc, X_test_enc = mean_encoding(\n",
        "    X_train[binned_vars+['survived']], X_test[binned_vars+['survived']], binned_vars)\n",
        "\n",
        "X_train_enc.head()"
      ]
    },
    {
      "cell_type": "markdown",
      "metadata": {
        "id": "d-UftYBPK-tz"
      },
      "source": [
        "Y por ultimo calculamos los valores roc-auc."
      ]
    },
    {
      "cell_type": "code",
      "execution_count": null,
      "metadata": {
        "id": "7CZgVWW-IVoj"
      },
      "outputs": [],
      "source": [
        "roc_values = []\n",
        "\n",
        "for feature in binned_vars:\n",
        "    \n",
        "    roc_values.append(roc_auc_score(y_test, X_test_enc[feature])) "
      ]
    },
    {
      "cell_type": "code",
      "execution_count": null,
      "metadata": {
        "id": "b3kqJ6m_IXeK",
        "colab": {
          "base_uri": "https://localhost:8080/"
        },
        "outputId": "998d2fd6-6c91-4abf-be3b-c7665052c687"
      },
      "outputs": [
        {
          "output_type": "execute_result",
          "data": {
            "text/plain": [
              "fare_binned    0.704496\n",
              "age_binned     0.500442\n",
              "dtype: float64"
            ]
          },
          "metadata": {},
          "execution_count": 470
        }
      ],
      "source": [
        "m1 = pd.Series(roc_values)\n",
        "m1.index = binned_vars\n",
        "m1.sort_values(ascending=False)"
      ]
    },
    {
      "cell_type": "markdown",
      "source": [
        "### Unvariate model && Target mean encoding method with feature-engine"
      ],
      "metadata": {
        "id": "LvIKsjaePbce"
      }
    },
    {
      "cell_type": "markdown",
      "source": [
        "**Unvariate model:**"
      ],
      "metadata": {
        "id": "3u3SsoW7PzcG"
      }
    },
    {
      "cell_type": "code",
      "source": [
        "!pip install feature_engine"
      ],
      "metadata": {
        "id": "UvW7rLZPQdQt",
        "colab": {
          "base_uri": "https://localhost:8080/"
        },
        "outputId": "78902623-ba71-434a-a530-bbc62aecd172"
      },
      "execution_count": null,
      "outputs": [
        {
          "output_type": "stream",
          "name": "stdout",
          "text": [
            "Looking in indexes: https://pypi.org/simple, https://us-python.pkg.dev/colab-wheels/public/simple/\n",
            "Requirement already satisfied: feature_engine in /usr/local/lib/python3.7/dist-packages (1.4.0)\n",
            "Requirement already satisfied: scipy>=1.4.1 in /usr/local/lib/python3.7/dist-packages (from feature_engine) (1.7.3)\n",
            "Requirement already satisfied: pandas>=1.0.3 in /usr/local/lib/python3.7/dist-packages (from feature_engine) (1.3.5)\n",
            "Requirement already satisfied: numpy>=1.18.2 in /usr/local/lib/python3.7/dist-packages (from feature_engine) (1.21.6)\n",
            "Requirement already satisfied: statsmodels>=0.11.1 in /usr/local/lib/python3.7/dist-packages (from feature_engine) (0.12.2)\n",
            "Requirement already satisfied: scikit-learn>=1.0.0 in /usr/local/lib/python3.7/dist-packages (from feature_engine) (1.0.2)\n",
            "Requirement already satisfied: python-dateutil>=2.7.3 in /usr/local/lib/python3.7/dist-packages (from pandas>=1.0.3->feature_engine) (2.8.2)\n",
            "Requirement already satisfied: pytz>=2017.3 in /usr/local/lib/python3.7/dist-packages (from pandas>=1.0.3->feature_engine) (2022.2.1)\n",
            "Requirement already satisfied: six>=1.5 in /usr/local/lib/python3.7/dist-packages (from python-dateutil>=2.7.3->pandas>=1.0.3->feature_engine) (1.15.0)\n",
            "Requirement already satisfied: threadpoolctl>=2.0.0 in /usr/local/lib/python3.7/dist-packages (from scikit-learn>=1.0.0->feature_engine) (3.1.0)\n",
            "Requirement already satisfied: joblib>=0.11 in /usr/local/lib/python3.7/dist-packages (from scikit-learn>=1.0.0->feature_engine) (1.1.0)\n",
            "Requirement already satisfied: patsy>=0.5 in /usr/local/lib/python3.7/dist-packages (from statsmodels>=0.11.1->feature_engine) (0.5.2)\n"
          ]
        }
      ]
    },
    {
      "cell_type": "code",
      "source": [
        "from sklearn.model_selection import train_test_split\n",
        "from sklearn.ensemble import RandomForestClassifier, RandomForestRegressor\n",
        "from sklearn.metrics import roc_auc_score, mean_squared_error\n",
        "\n",
        "from feature_engine.selection import SelectBySingleFeaturePerformance"
      ],
      "metadata": {
        "id": "0Q176MtDPmq_"
      },
      "execution_count": null,
      "outputs": []
    },
    {
      "cell_type": "code",
      "source": [
        "df = pd.read_csv('dataset_2.csv')\n",
        "df.head()"
      ],
      "metadata": {
        "id": "BmwIpxAwQaQ6",
        "colab": {
          "base_uri": "https://localhost:8080/",
          "height": 236
        },
        "outputId": "7962a564-1573-4455-9978-4cded8af1d56"
      },
      "execution_count": null,
      "outputs": [
        {
          "output_type": "execute_result",
          "data": {
            "text/plain": [
              "      var_1      var_2      var_3     var_4     var_5     var_6     var_7  \\\n",
              "0  4.532710   3.280834  17.982476  4.404259  2.349910  0.603264  2.784655   \n",
              "1  5.821374  12.098722  13.309151  4.125599  1.045386  1.832035  1.833494   \n",
              "2  1.938776   7.952752   0.972671  3.459267  1.935782  0.621463  2.338139   \n",
              "3  6.020690   9.900544  17.869637  4.366715  1.973693  2.026012  2.853025   \n",
              "4  3.909506  10.576516   0.934191  3.419572  1.871438  3.340811  1.868282   \n",
              "\n",
              "      var_8      var_9     var_10  ...   var_100   var_101   var_102  \\\n",
              "0  0.323146  12.009691   0.139346  ...  2.079066  6.748819  2.941445   \n",
              "1  0.709090   8.652883   0.102757  ...  2.479789  7.795290  3.557890   \n",
              "2  0.344948   9.937850  11.691283  ...  1.861487  6.130886  3.401064   \n",
              "3  0.674847  11.816859   0.011151  ...  1.340944  7.240058  2.417235   \n",
              "4  0.439865  13.585620   1.153366  ...  2.738095  6.565509  4.341414   \n",
              "\n",
              "     var_103    var_104   var_105   var_106   var_107   var_108   var_109  \n",
              "0  18.360496  17.726613  7.774031  1.473441  1.973832  0.976806  2.541417  \n",
              "1  17.383378  15.193423  8.263673  1.878108  0.567939  1.018818  1.416433  \n",
              "2  15.850471  14.620599  6.849776  1.098210  1.959183  1.575493  1.857893  \n",
              "3  15.194609  13.553772  7.229971  0.835158  2.234482  0.946170  2.700606  \n",
              "4  15.893832  11.929787  6.954033  1.853364  0.511027  2.599562  0.811364  \n",
              "\n",
              "[5 rows x 109 columns]"
            ],
            "text/html": [
              "\n",
              "  <div id=\"df-384d4263-4564-4e93-947b-499fd26300da\">\n",
              "    <div class=\"colab-df-container\">\n",
              "      <div>\n",
              "<style scoped>\n",
              "    .dataframe tbody tr th:only-of-type {\n",
              "        vertical-align: middle;\n",
              "    }\n",
              "\n",
              "    .dataframe tbody tr th {\n",
              "        vertical-align: top;\n",
              "    }\n",
              "\n",
              "    .dataframe thead th {\n",
              "        text-align: right;\n",
              "    }\n",
              "</style>\n",
              "<table border=\"1\" class=\"dataframe\">\n",
              "  <thead>\n",
              "    <tr style=\"text-align: right;\">\n",
              "      <th></th>\n",
              "      <th>var_1</th>\n",
              "      <th>var_2</th>\n",
              "      <th>var_3</th>\n",
              "      <th>var_4</th>\n",
              "      <th>var_5</th>\n",
              "      <th>var_6</th>\n",
              "      <th>var_7</th>\n",
              "      <th>var_8</th>\n",
              "      <th>var_9</th>\n",
              "      <th>var_10</th>\n",
              "      <th>...</th>\n",
              "      <th>var_100</th>\n",
              "      <th>var_101</th>\n",
              "      <th>var_102</th>\n",
              "      <th>var_103</th>\n",
              "      <th>var_104</th>\n",
              "      <th>var_105</th>\n",
              "      <th>var_106</th>\n",
              "      <th>var_107</th>\n",
              "      <th>var_108</th>\n",
              "      <th>var_109</th>\n",
              "    </tr>\n",
              "  </thead>\n",
              "  <tbody>\n",
              "    <tr>\n",
              "      <th>0</th>\n",
              "      <td>4.532710</td>\n",
              "      <td>3.280834</td>\n",
              "      <td>17.982476</td>\n",
              "      <td>4.404259</td>\n",
              "      <td>2.349910</td>\n",
              "      <td>0.603264</td>\n",
              "      <td>2.784655</td>\n",
              "      <td>0.323146</td>\n",
              "      <td>12.009691</td>\n",
              "      <td>0.139346</td>\n",
              "      <td>...</td>\n",
              "      <td>2.079066</td>\n",
              "      <td>6.748819</td>\n",
              "      <td>2.941445</td>\n",
              "      <td>18.360496</td>\n",
              "      <td>17.726613</td>\n",
              "      <td>7.774031</td>\n",
              "      <td>1.473441</td>\n",
              "      <td>1.973832</td>\n",
              "      <td>0.976806</td>\n",
              "      <td>2.541417</td>\n",
              "    </tr>\n",
              "    <tr>\n",
              "      <th>1</th>\n",
              "      <td>5.821374</td>\n",
              "      <td>12.098722</td>\n",
              "      <td>13.309151</td>\n",
              "      <td>4.125599</td>\n",
              "      <td>1.045386</td>\n",
              "      <td>1.832035</td>\n",
              "      <td>1.833494</td>\n",
              "      <td>0.709090</td>\n",
              "      <td>8.652883</td>\n",
              "      <td>0.102757</td>\n",
              "      <td>...</td>\n",
              "      <td>2.479789</td>\n",
              "      <td>7.795290</td>\n",
              "      <td>3.557890</td>\n",
              "      <td>17.383378</td>\n",
              "      <td>15.193423</td>\n",
              "      <td>8.263673</td>\n",
              "      <td>1.878108</td>\n",
              "      <td>0.567939</td>\n",
              "      <td>1.018818</td>\n",
              "      <td>1.416433</td>\n",
              "    </tr>\n",
              "    <tr>\n",
              "      <th>2</th>\n",
              "      <td>1.938776</td>\n",
              "      <td>7.952752</td>\n",
              "      <td>0.972671</td>\n",
              "      <td>3.459267</td>\n",
              "      <td>1.935782</td>\n",
              "      <td>0.621463</td>\n",
              "      <td>2.338139</td>\n",
              "      <td>0.344948</td>\n",
              "      <td>9.937850</td>\n",
              "      <td>11.691283</td>\n",
              "      <td>...</td>\n",
              "      <td>1.861487</td>\n",
              "      <td>6.130886</td>\n",
              "      <td>3.401064</td>\n",
              "      <td>15.850471</td>\n",
              "      <td>14.620599</td>\n",
              "      <td>6.849776</td>\n",
              "      <td>1.098210</td>\n",
              "      <td>1.959183</td>\n",
              "      <td>1.575493</td>\n",
              "      <td>1.857893</td>\n",
              "    </tr>\n",
              "    <tr>\n",
              "      <th>3</th>\n",
              "      <td>6.020690</td>\n",
              "      <td>9.900544</td>\n",
              "      <td>17.869637</td>\n",
              "      <td>4.366715</td>\n",
              "      <td>1.973693</td>\n",
              "      <td>2.026012</td>\n",
              "      <td>2.853025</td>\n",
              "      <td>0.674847</td>\n",
              "      <td>11.816859</td>\n",
              "      <td>0.011151</td>\n",
              "      <td>...</td>\n",
              "      <td>1.340944</td>\n",
              "      <td>7.240058</td>\n",
              "      <td>2.417235</td>\n",
              "      <td>15.194609</td>\n",
              "      <td>13.553772</td>\n",
              "      <td>7.229971</td>\n",
              "      <td>0.835158</td>\n",
              "      <td>2.234482</td>\n",
              "      <td>0.946170</td>\n",
              "      <td>2.700606</td>\n",
              "    </tr>\n",
              "    <tr>\n",
              "      <th>4</th>\n",
              "      <td>3.909506</td>\n",
              "      <td>10.576516</td>\n",
              "      <td>0.934191</td>\n",
              "      <td>3.419572</td>\n",
              "      <td>1.871438</td>\n",
              "      <td>3.340811</td>\n",
              "      <td>1.868282</td>\n",
              "      <td>0.439865</td>\n",
              "      <td>13.585620</td>\n",
              "      <td>1.153366</td>\n",
              "      <td>...</td>\n",
              "      <td>2.738095</td>\n",
              "      <td>6.565509</td>\n",
              "      <td>4.341414</td>\n",
              "      <td>15.893832</td>\n",
              "      <td>11.929787</td>\n",
              "      <td>6.954033</td>\n",
              "      <td>1.853364</td>\n",
              "      <td>0.511027</td>\n",
              "      <td>2.599562</td>\n",
              "      <td>0.811364</td>\n",
              "    </tr>\n",
              "  </tbody>\n",
              "</table>\n",
              "<p>5 rows × 109 columns</p>\n",
              "</div>\n",
              "      <button class=\"colab-df-convert\" onclick=\"convertToInteractive('df-384d4263-4564-4e93-947b-499fd26300da')\"\n",
              "              title=\"Convert this dataframe to an interactive table.\"\n",
              "              style=\"display:none;\">\n",
              "        \n",
              "  <svg xmlns=\"http://www.w3.org/2000/svg\" height=\"24px\"viewBox=\"0 0 24 24\"\n",
              "       width=\"24px\">\n",
              "    <path d=\"M0 0h24v24H0V0z\" fill=\"none\"/>\n",
              "    <path d=\"M18.56 5.44l.94 2.06.94-2.06 2.06-.94-2.06-.94-.94-2.06-.94 2.06-2.06.94zm-11 1L8.5 8.5l.94-2.06 2.06-.94-2.06-.94L8.5 2.5l-.94 2.06-2.06.94zm10 10l.94 2.06.94-2.06 2.06-.94-2.06-.94-.94-2.06-.94 2.06-2.06.94z\"/><path d=\"M17.41 7.96l-1.37-1.37c-.4-.4-.92-.59-1.43-.59-.52 0-1.04.2-1.43.59L10.3 9.45l-7.72 7.72c-.78.78-.78 2.05 0 2.83L4 21.41c.39.39.9.59 1.41.59.51 0 1.02-.2 1.41-.59l7.78-7.78 2.81-2.81c.8-.78.8-2.07 0-2.86zM5.41 20L4 18.59l7.72-7.72 1.47 1.35L5.41 20z\"/>\n",
              "  </svg>\n",
              "      </button>\n",
              "      \n",
              "  <style>\n",
              "    .colab-df-container {\n",
              "      display:flex;\n",
              "      flex-wrap:wrap;\n",
              "      gap: 12px;\n",
              "    }\n",
              "\n",
              "    .colab-df-convert {\n",
              "      background-color: #E8F0FE;\n",
              "      border: none;\n",
              "      border-radius: 50%;\n",
              "      cursor: pointer;\n",
              "      display: none;\n",
              "      fill: #1967D2;\n",
              "      height: 32px;\n",
              "      padding: 0 0 0 0;\n",
              "      width: 32px;\n",
              "    }\n",
              "\n",
              "    .colab-df-convert:hover {\n",
              "      background-color: #E2EBFA;\n",
              "      box-shadow: 0px 1px 2px rgba(60, 64, 67, 0.3), 0px 1px 3px 1px rgba(60, 64, 67, 0.15);\n",
              "      fill: #174EA6;\n",
              "    }\n",
              "\n",
              "    [theme=dark] .colab-df-convert {\n",
              "      background-color: #3B4455;\n",
              "      fill: #D2E3FC;\n",
              "    }\n",
              "\n",
              "    [theme=dark] .colab-df-convert:hover {\n",
              "      background-color: #434B5C;\n",
              "      box-shadow: 0px 1px 3px 1px rgba(0, 0, 0, 0.15);\n",
              "      filter: drop-shadow(0px 1px 2px rgba(0, 0, 0, 0.3));\n",
              "      fill: #FFFFFF;\n",
              "    }\n",
              "  </style>\n",
              "\n",
              "      <script>\n",
              "        const buttonEl =\n",
              "          document.querySelector('#df-384d4263-4564-4e93-947b-499fd26300da button.colab-df-convert');\n",
              "        buttonEl.style.display =\n",
              "          google.colab.kernel.accessAllowed ? 'block' : 'none';\n",
              "\n",
              "        async function convertToInteractive(key) {\n",
              "          const element = document.querySelector('#df-384d4263-4564-4e93-947b-499fd26300da');\n",
              "          const dataTable =\n",
              "            await google.colab.kernel.invokeFunction('convertToInteractive',\n",
              "                                                     [key], {});\n",
              "          if (!dataTable) return;\n",
              "\n",
              "          const docLinkHtml = 'Like what you see? Visit the ' +\n",
              "            '<a target=\"_blank\" href=https://colab.research.google.com/notebooks/data_table.ipynb>data table notebook</a>'\n",
              "            + ' to learn more about interactive tables.';\n",
              "          element.innerHTML = '';\n",
              "          dataTable['output_type'] = 'display_data';\n",
              "          await google.colab.output.renderOutput(dataTable, element);\n",
              "          const docLink = document.createElement('div');\n",
              "          docLink.innerHTML = docLinkHtml;\n",
              "          element.appendChild(docLink);\n",
              "        }\n",
              "      </script>\n",
              "    </div>\n",
              "  </div>\n",
              "  "
            ]
          },
          "metadata": {},
          "execution_count": 474
        }
      ]
    },
    {
      "cell_type": "code",
      "source": [
        "X_train, X_test, y_train, y_test = train_test_split(\n",
        "    df.drop(labels=['target'], axis=1),\n",
        "    df['target'],\n",
        "    test_size=0.3,\n",
        "    random_state=0)\n",
        "\n",
        "X_train.shape, X_test.shape"
      ],
      "metadata": {
        "id": "49m4FkUZQlqR",
        "colab": {
          "base_uri": "https://localhost:8080/"
        },
        "outputId": "57d7d8cd-27db-4cbc-ff21-a79fec1b1842"
      },
      "execution_count": null,
      "outputs": [
        {
          "output_type": "execute_result",
          "data": {
            "text/plain": [
              "((35000, 108), (15000, 108))"
            ]
          },
          "metadata": {},
          "execution_count": 475
        }
      ]
    },
    {
      "cell_type": "code",
      "source": [
        "# declaramos nuestro modelo de ML\n",
        "rf = RandomForestClassifier(\n",
        "    n_estimators=10, random_state=1, n_jobs=4)\n",
        "\n",
        "# seteamos el selector\n",
        "sel = SelectBySingleFeaturePerformance(\n",
        "    variables=None,\n",
        "    estimator=rf,\n",
        "    scoring=\"roc_auc\",\n",
        "    cv=3,\n",
        "    threshold=0.5,\n",
        ")\n",
        "\n",
        "sel.fit(X_train, y_train)"
      ],
      "metadata": {
        "id": "2QVD0bqqQpWx",
        "colab": {
          "base_uri": "https://localhost:8080/"
        },
        "outputId": "a05caa9d-335c-429c-8463-c1abc841fbd2"
      },
      "execution_count": null,
      "outputs": [
        {
          "output_type": "execute_result",
          "data": {
            "text/plain": [
              "SelectBySingleFeaturePerformance(estimator=RandomForestClassifier(n_estimators=10,\n",
              "                                                                  n_jobs=4,\n",
              "                                                                  random_state=1),\n",
              "                                 threshold=0.5)"
            ]
          },
          "metadata": {},
          "execution_count": 476
        }
      ]
    },
    {
      "cell_type": "markdown",
      "source": [
        "El selector guarda un diccionario de {feature: metric} en este caso la métrica  elegida es roc-auc."
      ],
      "metadata": {
        "id": "YEEjv2UbQ4b-"
      }
    },
    {
      "cell_type": "code",
      "source": [
        "sel.feature_performance_"
      ],
      "metadata": {
        "id": "v5JTh2QYQ1r_",
        "colab": {
          "base_uri": "https://localhost:8080/"
        },
        "outputId": "add43888-118a-479b-9d5d-ae7b4d437179"
      },
      "execution_count": null,
      "outputs": [
        {
          "output_type": "execute_result",
          "data": {
            "text/plain": [
              "{'var_1': 0.4875938834188305,\n",
              " 'var_2': 0.5058483405278383,\n",
              " 'var_3': 0.49058058657865716,\n",
              " 'var_4': 0.5012805934684074,\n",
              " 'var_5': 0.5015491345272,\n",
              " 'var_6': 0.5002435207544554,\n",
              " 'var_7': 0.5053983517611355,\n",
              " 'var_8': 0.5087118335520864,\n",
              " 'var_9': 0.4986491009349452,\n",
              " 'var_10': 0.5039430822845475,\n",
              " 'var_11': 0.5045137356867333,\n",
              " 'var_12': 0.5033237155159064,\n",
              " 'var_13': 0.5012484355911511,\n",
              " 'var_14': 0.5095484859036,\n",
              " 'var_15': 0.5066966650073083,\n",
              " 'var_16': 0.5770565890399896,\n",
              " 'var_17': 0.4963279782124716,\n",
              " 'var_18': 0.502378067648706,\n",
              " 'var_19': 0.5014540898770624,\n",
              " 'var_20': 0.49518900701995694,\n",
              " 'var_21': 0.5018214387922665,\n",
              " 'var_22': 0.5030784425065514,\n",
              " 'var_23': 0.5031343862299139,\n",
              " 'var_24': 0.4987183238443074,\n",
              " 'var_25': 0.49717676403172434,\n",
              " 'var_26': 0.49633575915302125,\n",
              " 'var_27': 0.4976970194658073,\n",
              " 'var_28': 0.506624930105751,\n",
              " 'var_29': 0.503310578051897,\n",
              " 'var_30': 0.5063009115535363,\n",
              " 'var_31': 0.4980767700910498,\n",
              " 'var_32': 0.4956905017784372,\n",
              " 'var_33': 0.5096593182737622,\n",
              " 'var_34': 0.5544736105938364,\n",
              " 'var_35': 0.49828081506810945,\n",
              " 'var_36': 0.5037208064270455,\n",
              " 'var_37': 0.5032990774733129,\n",
              " 'var_38': 0.5034506381918092,\n",
              " 'var_39': 0.49672299754915517,\n",
              " 'var_40': 0.4928543055764247,\n",
              " 'var_41': 0.4956208098578763,\n",
              " 'var_42': 0.4991227058310526,\n",
              " 'var_43': 0.5035033883576293,\n",
              " 'var_44': 0.5012525829821449,\n",
              " 'var_45': 0.5041889753027585,\n",
              " 'var_46': 0.5040334148389974,\n",
              " 'var_47': 0.5019680313427722,\n",
              " 'var_48': 0.5485944230917331,\n",
              " 'var_49': 0.5012017876500283,\n",
              " 'var_50': 0.49694281718684735,\n",
              " 'var_51': 0.49887060444728704,\n",
              " 'var_52': 0.5047740582967443,\n",
              " 'var_53': 0.500987628374406,\n",
              " 'var_54': 0.5031323462555602,\n",
              " 'var_55': 0.5735059317595104,\n",
              " 'var_56': 0.5012000179138018,\n",
              " 'var_57': 0.5031303284166827,\n",
              " 'var_58': 0.49768921214466316,\n",
              " 'var_59': 0.5018863557622217,\n",
              " 'var_60': 0.4988418869621523,\n",
              " 'var_62': 0.5006868676579989,\n",
              " 'var_63': 0.49186778037499707,\n",
              " 'var_64': 0.5053939704507692,\n",
              " 'var_65': 0.49141983062874856,\n",
              " 'var_66': 0.5034149786892186,\n",
              " 'var_67': 0.5012425791917359,\n",
              " 'var_68': 0.5007872150284788,\n",
              " 'var_69': 0.5751905335213189,\n",
              " 'var_70': 0.5007033279575924,\n",
              " 'var_71': 0.4985458121657334,\n",
              " 'var_72': 0.49752545002059945,\n",
              " 'var_73': 0.5019203261585133,\n",
              " 'var_74': 0.506988850158344,\n",
              " 'var_75': 0.499340465386615,\n",
              " 'var_76': 0.5016655865589624,\n",
              " 'var_77': 0.4970392472534124,\n",
              " 'var_78': 0.5017157622358565,\n",
              " 'var_79': 0.49188924871284706,\n",
              " 'var_80': 0.5054474908171831,\n",
              " 'var_81': 0.5026934069868211,\n",
              " 'var_82': 0.5051025568579456,\n",
              " 'var_83': 0.4948142023900439,\n",
              " 'var_84': 0.493699131757446,\n",
              " 'var_85': 0.4984812119313822,\n",
              " 'var_86': 0.5064375398947696,\n",
              " 'var_87': 0.5014303942294744,\n",
              " 'var_88': 0.49929360642501946,\n",
              " 'var_89': 0.4842979974009903,\n",
              " 'var_90': 0.5069439934681687,\n",
              " 'var_91': 0.5160478157993403,\n",
              " 'var_92': 0.5037089217115499,\n",
              " 'var_93': 0.5068843952208452,\n",
              " 'var_94': 0.4999923257231691,\n",
              " 'var_95': 0.5035256323030209,\n",
              " 'var_96': 0.5178642264554396,\n",
              " 'var_97': 0.5056950433192061,\n",
              " 'var_98': 0.5017928099879102,\n",
              " 'var_99': 0.49661125008433227,\n",
              " 'var_100': 0.502992646059028,\n",
              " 'var_101': 0.5014695200752608,\n",
              " 'var_102': 0.5037090246234157,\n",
              " 'var_103': 0.4996179004591525,\n",
              " 'var_104': 0.5038670932296246,\n",
              " 'var_105': 0.49381880029877107,\n",
              " 'var_106': 0.5042584156571862,\n",
              " 'var_107': 0.5030874253619552,\n",
              " 'var_108': 0.585768234917477,\n",
              " 'var_109': 0.500665883869209}"
            ]
          },
          "metadata": {},
          "execution_count": 477
        }
      ]
    },
    {
      "cell_type": "markdown",
      "source": [
        "Nuevamente llamando al método del selector \"features_to_drop\" podemos ver los features a eliminar (puesto que ya en la declaración del selector indicamos el límite permitido)."
      ],
      "metadata": {
        "id": "K-B9zf4zRPxy"
      }
    },
    {
      "cell_type": "code",
      "source": [
        "len(sel.features_to_drop_)"
      ],
      "metadata": {
        "id": "Z0EbsebTRJQq",
        "colab": {
          "base_uri": "https://localhost:8080/"
        },
        "outputId": "a5a30457-761b-4bdf-aa0c-714acd1f284d"
      },
      "execution_count": null,
      "outputs": [
        {
          "output_type": "execute_result",
          "data": {
            "text/plain": [
              "36"
            ]
          },
          "metadata": {},
          "execution_count": 478
        }
      ]
    },
    {
      "cell_type": "code",
      "source": [
        "X_train = sel.transform(X_train)\n",
        "X_test = sel.transform(X_test)\n",
        "\n",
        "X_train.shape, X_test.shape"
      ],
      "metadata": {
        "id": "1q2609izRbSy",
        "colab": {
          "base_uri": "https://localhost:8080/"
        },
        "outputId": "410756b9-2aaf-4f10-f706-8a5410217370"
      },
      "execution_count": null,
      "outputs": [
        {
          "output_type": "execute_result",
          "data": {
            "text/plain": [
              "((35000, 72), (15000, 72))"
            ]
          },
          "metadata": {},
          "execution_count": 479
        }
      ]
    },
    {
      "cell_type": "markdown",
      "source": [
        "**Target mean encoding:**"
      ],
      "metadata": {
        "id": "0osUNGMqRhws"
      }
    },
    {
      "cell_type": "code",
      "source": [
        "from feature_engine.selection import SelectByTargetMeanPerformance"
      ],
      "metadata": {
        "id": "aQ7nwj3zRlVx"
      },
      "execution_count": null,
      "outputs": []
    },
    {
      "cell_type": "code",
      "source": [
        "df = pd.read_csv('https://www.openml.org/data/get_csv/16826755/phpMYEkMl')"
      ],
      "metadata": {
        "id": "IRjxpDlJRwlh"
      },
      "execution_count": null,
      "outputs": []
    },
    {
      "cell_type": "code",
      "source": [
        "df = df[[\"pclass\", \"survived\", \"sex\", \"age\", \"sibsp\",\"parch\",\"fare\",\"cabin\",\"embarked\"]]"
      ],
      "metadata": {
        "id": "jJakC6-MbFzq"
      },
      "execution_count": null,
      "outputs": []
    },
    {
      "cell_type": "code",
      "source": [
        "df.head()"
      ],
      "metadata": {
        "id": "dkEMnK_xdGeW",
        "colab": {
          "base_uri": "https://localhost:8080/",
          "height": 206
        },
        "outputId": "79fe0acc-f46d-44c4-be1f-a678bf94c495"
      },
      "execution_count": null,
      "outputs": [
        {
          "output_type": "execute_result",
          "data": {
            "text/plain": [
              "   pclass  survived     sex     age  sibsp  parch      fare    cabin embarked\n",
              "0       1         1  female      29      0      0  211.3375       B5        S\n",
              "1       1         1    male  0.9167      1      2    151.55  C22 C26        S\n",
              "2       1         0  female       2      1      2    151.55  C22 C26        S\n",
              "3       1         0    male      30      1      2    151.55  C22 C26        S\n",
              "4       1         0  female      25      1      2    151.55  C22 C26        S"
            ],
            "text/html": [
              "\n",
              "  <div id=\"df-70ee4506-0b8b-4610-b053-b62508a0c9d5\">\n",
              "    <div class=\"colab-df-container\">\n",
              "      <div>\n",
              "<style scoped>\n",
              "    .dataframe tbody tr th:only-of-type {\n",
              "        vertical-align: middle;\n",
              "    }\n",
              "\n",
              "    .dataframe tbody tr th {\n",
              "        vertical-align: top;\n",
              "    }\n",
              "\n",
              "    .dataframe thead th {\n",
              "        text-align: right;\n",
              "    }\n",
              "</style>\n",
              "<table border=\"1\" class=\"dataframe\">\n",
              "  <thead>\n",
              "    <tr style=\"text-align: right;\">\n",
              "      <th></th>\n",
              "      <th>pclass</th>\n",
              "      <th>survived</th>\n",
              "      <th>sex</th>\n",
              "      <th>age</th>\n",
              "      <th>sibsp</th>\n",
              "      <th>parch</th>\n",
              "      <th>fare</th>\n",
              "      <th>cabin</th>\n",
              "      <th>embarked</th>\n",
              "    </tr>\n",
              "  </thead>\n",
              "  <tbody>\n",
              "    <tr>\n",
              "      <th>0</th>\n",
              "      <td>1</td>\n",
              "      <td>1</td>\n",
              "      <td>female</td>\n",
              "      <td>29</td>\n",
              "      <td>0</td>\n",
              "      <td>0</td>\n",
              "      <td>211.3375</td>\n",
              "      <td>B5</td>\n",
              "      <td>S</td>\n",
              "    </tr>\n",
              "    <tr>\n",
              "      <th>1</th>\n",
              "      <td>1</td>\n",
              "      <td>1</td>\n",
              "      <td>male</td>\n",
              "      <td>0.9167</td>\n",
              "      <td>1</td>\n",
              "      <td>2</td>\n",
              "      <td>151.55</td>\n",
              "      <td>C22 C26</td>\n",
              "      <td>S</td>\n",
              "    </tr>\n",
              "    <tr>\n",
              "      <th>2</th>\n",
              "      <td>1</td>\n",
              "      <td>0</td>\n",
              "      <td>female</td>\n",
              "      <td>2</td>\n",
              "      <td>1</td>\n",
              "      <td>2</td>\n",
              "      <td>151.55</td>\n",
              "      <td>C22 C26</td>\n",
              "      <td>S</td>\n",
              "    </tr>\n",
              "    <tr>\n",
              "      <th>3</th>\n",
              "      <td>1</td>\n",
              "      <td>0</td>\n",
              "      <td>male</td>\n",
              "      <td>30</td>\n",
              "      <td>1</td>\n",
              "      <td>2</td>\n",
              "      <td>151.55</td>\n",
              "      <td>C22 C26</td>\n",
              "      <td>S</td>\n",
              "    </tr>\n",
              "    <tr>\n",
              "      <th>4</th>\n",
              "      <td>1</td>\n",
              "      <td>0</td>\n",
              "      <td>female</td>\n",
              "      <td>25</td>\n",
              "      <td>1</td>\n",
              "      <td>2</td>\n",
              "      <td>151.55</td>\n",
              "      <td>C22 C26</td>\n",
              "      <td>S</td>\n",
              "    </tr>\n",
              "  </tbody>\n",
              "</table>\n",
              "</div>\n",
              "      <button class=\"colab-df-convert\" onclick=\"convertToInteractive('df-70ee4506-0b8b-4610-b053-b62508a0c9d5')\"\n",
              "              title=\"Convert this dataframe to an interactive table.\"\n",
              "              style=\"display:none;\">\n",
              "        \n",
              "  <svg xmlns=\"http://www.w3.org/2000/svg\" height=\"24px\"viewBox=\"0 0 24 24\"\n",
              "       width=\"24px\">\n",
              "    <path d=\"M0 0h24v24H0V0z\" fill=\"none\"/>\n",
              "    <path d=\"M18.56 5.44l.94 2.06.94-2.06 2.06-.94-2.06-.94-.94-2.06-.94 2.06-2.06.94zm-11 1L8.5 8.5l.94-2.06 2.06-.94-2.06-.94L8.5 2.5l-.94 2.06-2.06.94zm10 10l.94 2.06.94-2.06 2.06-.94-2.06-.94-.94-2.06-.94 2.06-2.06.94z\"/><path d=\"M17.41 7.96l-1.37-1.37c-.4-.4-.92-.59-1.43-.59-.52 0-1.04.2-1.43.59L10.3 9.45l-7.72 7.72c-.78.78-.78 2.05 0 2.83L4 21.41c.39.39.9.59 1.41.59.51 0 1.02-.2 1.41-.59l7.78-7.78 2.81-2.81c.8-.78.8-2.07 0-2.86zM5.41 20L4 18.59l7.72-7.72 1.47 1.35L5.41 20z\"/>\n",
              "  </svg>\n",
              "      </button>\n",
              "      \n",
              "  <style>\n",
              "    .colab-df-container {\n",
              "      display:flex;\n",
              "      flex-wrap:wrap;\n",
              "      gap: 12px;\n",
              "    }\n",
              "\n",
              "    .colab-df-convert {\n",
              "      background-color: #E8F0FE;\n",
              "      border: none;\n",
              "      border-radius: 50%;\n",
              "      cursor: pointer;\n",
              "      display: none;\n",
              "      fill: #1967D2;\n",
              "      height: 32px;\n",
              "      padding: 0 0 0 0;\n",
              "      width: 32px;\n",
              "    }\n",
              "\n",
              "    .colab-df-convert:hover {\n",
              "      background-color: #E2EBFA;\n",
              "      box-shadow: 0px 1px 2px rgba(60, 64, 67, 0.3), 0px 1px 3px 1px rgba(60, 64, 67, 0.15);\n",
              "      fill: #174EA6;\n",
              "    }\n",
              "\n",
              "    [theme=dark] .colab-df-convert {\n",
              "      background-color: #3B4455;\n",
              "      fill: #D2E3FC;\n",
              "    }\n",
              "\n",
              "    [theme=dark] .colab-df-convert:hover {\n",
              "      background-color: #434B5C;\n",
              "      box-shadow: 0px 1px 3px 1px rgba(0, 0, 0, 0.15);\n",
              "      filter: drop-shadow(0px 1px 2px rgba(0, 0, 0, 0.3));\n",
              "      fill: #FFFFFF;\n",
              "    }\n",
              "  </style>\n",
              "\n",
              "      <script>\n",
              "        const buttonEl =\n",
              "          document.querySelector('#df-70ee4506-0b8b-4610-b053-b62508a0c9d5 button.colab-df-convert');\n",
              "        buttonEl.style.display =\n",
              "          google.colab.kernel.accessAllowed ? 'block' : 'none';\n",
              "\n",
              "        async function convertToInteractive(key) {\n",
              "          const element = document.querySelector('#df-70ee4506-0b8b-4610-b053-b62508a0c9d5');\n",
              "          const dataTable =\n",
              "            await google.colab.kernel.invokeFunction('convertToInteractive',\n",
              "                                                     [key], {});\n",
              "          if (!dataTable) return;\n",
              "\n",
              "          const docLinkHtml = 'Like what you see? Visit the ' +\n",
              "            '<a target=\"_blank\" href=https://colab.research.google.com/notebooks/data_table.ipynb>data table notebook</a>'\n",
              "            + ' to learn more about interactive tables.';\n",
              "          element.innerHTML = '';\n",
              "          dataTable['output_type'] = 'display_data';\n",
              "          await google.colab.output.renderOutput(dataTable, element);\n",
              "          const docLink = document.createElement('div');\n",
              "          docLink.innerHTML = docLinkHtml;\n",
              "          element.appendChild(docLink);\n",
              "        }\n",
              "      </script>\n",
              "    </div>\n",
              "  </div>\n",
              "  "
            ]
          },
          "metadata": {},
          "execution_count": 483
        }
      ]
    },
    {
      "cell_type": "code",
      "source": [
        "df['cabin'] = df['cabin'].str[0]\n",
        "\n",
        "df['cabin'] = np.where(df['cabin'].isin(['T', 'G', \"?\"]), 'N', df['cabin'])\n",
        "\n",
        "df['cabin'].unique()"
      ],
      "metadata": {
        "id": "pzTWKZxybHha",
        "colab": {
          "base_uri": "https://localhost:8080/"
        },
        "outputId": "47ec5bc8-f4f3-4aed-e14a-1777022e74a6"
      },
      "execution_count": null,
      "outputs": [
        {
          "output_type": "execute_result",
          "data": {
            "text/plain": [
              "array(['B', 'C', 'E', 'D', 'A', 'N', 'F'], dtype=object)"
            ]
          },
          "metadata": {},
          "execution_count": 484
        }
      ]
    },
    {
      "cell_type": "code",
      "source": [
        "df['cabin'].value_counts()"
      ],
      "metadata": {
        "id": "E84USze6bRz6",
        "colab": {
          "base_uri": "https://localhost:8080/"
        },
        "outputId": "d87a4f3e-cf5a-4b42-e2a7-8e1607dea0d8"
      },
      "execution_count": null,
      "outputs": [
        {
          "output_type": "execute_result",
          "data": {
            "text/plain": [
              "N    1020\n",
              "C      94\n",
              "B      65\n",
              "D      46\n",
              "E      41\n",
              "A      22\n",
              "F      21\n",
              "Name: cabin, dtype: int64"
            ]
          },
          "metadata": {},
          "execution_count": 485
        }
      ]
    },
    {
      "cell_type": "code",
      "source": [
        "df = df.drop( df[(df[\"age\"] == \"?\") | (df[\"fare\"] == \"?\") | (df[\"embarked\"] == \"?\")].index, axis=0)"
      ],
      "metadata": {
        "id": "UpQVJumInGmL"
      },
      "execution_count": null,
      "outputs": []
    },
    {
      "cell_type": "code",
      "source": [
        "# number of passengers per value\n",
        "df['parch'].value_counts()"
      ],
      "metadata": {
        "id": "zXdjoJ48bS_i",
        "colab": {
          "base_uri": "https://localhost:8080/"
        },
        "outputId": "c1dc45d2-d433-4864-b415-77b19967f7b7"
      },
      "execution_count": null,
      "outputs": [
        {
          "output_type": "execute_result",
          "data": {
            "text/plain": [
              "0    765\n",
              "1    160\n",
              "2     97\n",
              "3      8\n",
              "5      6\n",
              "4      5\n",
              "6      2\n",
              "Name: parch, dtype: int64"
            ]
          },
          "metadata": {},
          "execution_count": 487
        }
      ]
    },
    {
      "cell_type": "code",
      "source": [
        "# reemplazamos las ocurrencias del valor 4,5 y 6 por 3\n",
        "df['parch'] = np.where(df['parch']>3,3,df['parch'])"
      ],
      "metadata": {
        "id": "OuY06m3Mbm9T"
      },
      "execution_count": null,
      "outputs": []
    },
    {
      "cell_type": "code",
      "source": [
        "df['sibsp'].value_counts()"
      ],
      "metadata": {
        "id": "ONVm7ACXbtYb",
        "colab": {
          "base_uri": "https://localhost:8080/"
        },
        "outputId": "217ba7a0-b19f-4290-f4a4-87d3fc8df6b8"
      },
      "execution_count": null,
      "outputs": [
        {
          "output_type": "execute_result",
          "data": {
            "text/plain": [
              "0    682\n",
              "1    280\n",
              "2     36\n",
              "4     22\n",
              "3     16\n",
              "5      6\n",
              "8      1\n",
              "Name: sibsp, dtype: int64"
            ]
          },
          "metadata": {},
          "execution_count": 489
        }
      ]
    },
    {
      "cell_type": "code",
      "source": [
        "# reemplazamos las ocurrencias de los valores 4, 5 y 8 por 3\n",
        "df['sibsp'] = np.where(df['sibsp']>3,3,df['sibsp'])"
      ],
      "metadata": {
        "id": "mblmfH7Nbz8L"
      },
      "execution_count": null,
      "outputs": []
    },
    {
      "cell_type": "code",
      "source": [
        "# casteamos las variables discretas a variables categoricas \n",
        "df[['pclass','sibsp','parch']] = df[['pclass','sibsp','parch']].astype(np.object_)"
      ],
      "metadata": {
        "id": "2eRrKvE7b3uC"
      },
      "execution_count": null,
      "outputs": []
    },
    {
      "cell_type": "code",
      "source": [
        "# como son variables tipo object las convierto a float\n",
        "df[['age','fare']] = df[['age','fare']].astype(np.float64)"
      ],
      "metadata": {
        "id": "iBLSWKx8pQVs"
      },
      "execution_count": null,
      "outputs": []
    },
    {
      "cell_type": "code",
      "source": [
        "df.isnull().sum()"
      ],
      "metadata": {
        "id": "Ktg_drvOi5K0",
        "colab": {
          "base_uri": "https://localhost:8080/"
        },
        "outputId": "e511461c-240c-4dab-b3e3-3653a39a4ffb"
      },
      "execution_count": null,
      "outputs": [
        {
          "output_type": "execute_result",
          "data": {
            "text/plain": [
              "pclass      0\n",
              "survived    0\n",
              "sex         0\n",
              "age         0\n",
              "sibsp       0\n",
              "parch       0\n",
              "fare        0\n",
              "cabin       0\n",
              "embarked    0\n",
              "dtype: int64"
            ]
          },
          "metadata": {},
          "execution_count": 493
        }
      ]
    },
    {
      "cell_type": "code",
      "source": [
        "X_train, X_test, y_train, y_test = train_test_split(\n",
        "    df.drop(['survived'], axis=1),\n",
        "    df['survived'],\n",
        "    test_size=0.3,\n",
        "    random_state=0)\n",
        "\n",
        "X_train.shape, X_test.shape"
      ],
      "metadata": {
        "id": "PlOgqALQb_la",
        "colab": {
          "base_uri": "https://localhost:8080/"
        },
        "outputId": "9400f84f-7238-4aa6-bed7-f57b757d09a6"
      },
      "execution_count": null,
      "outputs": [
        {
          "output_type": "execute_result",
          "data": {
            "text/plain": [
              "((730, 8), (313, 8))"
            ]
          },
          "metadata": {},
          "execution_count": 494
        }
      ]
    },
    {
      "cell_type": "code",
      "source": [
        "# feautre engine automates the selection for both\n",
        "# categorical and numerical variables\n",
        "\n",
        "sel = SelectByTargetMeanPerformance(\n",
        "    variables=None, # automatically finds categorical and numerical variables\n",
        "    scoring=\"roc_auc\", # the metric to evaluate performance\n",
        "    threshold=0.6, # the threshold for feature selection, \n",
        "    bins=3, # the number of intervals to discretise the numerical variables\n",
        "    strategy=\"equal_frequency\", # whether the intervals should be of equal size or equal number of observations\n",
        "    cv=2,# cross validation\n",
        "    regression=False, # whether this is regression or classification\n",
        ")\n",
        "\n",
        "sel.fit(X_train, y_train)"
      ],
      "metadata": {
        "id": "SgGK3MEtcP1L",
        "colab": {
          "base_uri": "https://localhost:8080/"
        },
        "outputId": "98112ad4-f374-43c0-dc24-b1889cf586c3"
      },
      "execution_count": null,
      "outputs": [
        {
          "output_type": "execute_result",
          "data": {
            "text/plain": [
              "SelectByTargetMeanPerformance(bins=3, cv=2, strategy='equal_frequency',\n",
              "                              threshold=0.6)"
            ]
          },
          "metadata": {},
          "execution_count": 495
        }
      ]
    },
    {
      "cell_type": "code",
      "source": [
        "sel.feature_performance_"
      ],
      "metadata": {
        "id": "d9xZfwu0cj0e",
        "colab": {
          "base_uri": "https://localhost:8080/"
        },
        "outputId": "4e538e33-364f-4945-a3a3-6a9403b4dae4"
      },
      "execution_count": null,
      "outputs": [
        {
          "output_type": "execute_result",
          "data": {
            "text/plain": [
              "{'pclass': 0.672873166790952,\n",
              " 'sex': 0.7589485458612975,\n",
              " 'age': 0.5203517275664926,\n",
              " 'sibsp': 0.5590743847874721,\n",
              " 'parch': 0.5754645165299528,\n",
              " 'fare': 0.6585259756400695,\n",
              " 'cabin': 0.6502143922445937,\n",
              " 'embarked': 0.6137055679840915}"
            ]
          },
          "metadata": {},
          "execution_count": 496
        }
      ]
    },
    {
      "cell_type": "markdown",
      "source": [
        "# Wrapper methods"
      ],
      "metadata": {
        "id": "WhgTzUYIJ0LT"
      }
    },
    {
      "cell_type": "markdown",
      "source": [
        "Los métodos wrapper son conocidos como algoritmos de búsqueda tipo Greedy ie que este tipo de métodos buscan la mejor combinación posible de **todos** los features con el obj de obtener la mejor performance en nuestro modelo de ML.\n",
        "\n",
        "* Tienen la ventaja de obtener el grupo de features que mejor ajustan al modelo.\n",
        "* Por otro lado tienen la desventaja de ser computacionalmente costosos.\n",
        "\n",
        "**OBS:** si se decide cambiar el modelo de ML, el conjunto de features que eran óptimos para UN modelo en particular dejaran de serlo para un modelo distinto."
      ],
      "metadata": {
        "id": "tDTBydI8J643"
      }
    },
    {
      "cell_type": "markdown",
      "source": [
        "## Step Forward Feature Selection\n",
        "\n",
        "* 1) Evalúa todos los subconjuntos de 1 feature.\n",
        "* 2) Elige el feature que mejor performance da al modelo de ML.\n",
        "* 3) Evalúa todos los subconjuntos de 2 features (anclando al que previamente eligió).\n",
        "* 4) Elige el feature que mejor performance da al modelo de ML.\n",
        "\n",
        "Dicho procedimiento se repite hasta que la performance del modelo deje de ser la óptima o hasta que dicha performance no muestre una mejoría significante.\n"
      ],
      "metadata": {
        "id": "O3cZb7UTOgnS"
      }
    },
    {
      "cell_type": "code",
      "source": [
        "from sklearn.model_selection import train_test_split\n",
        "from sklearn.ensemble import  RandomForestClassifier\n",
        "from sklearn.metrics import roc_auc_score\n",
        "from sklearn.feature_selection import SequentialFeatureSelector as SFS"
      ],
      "metadata": {
        "id": "ejZxg8gbPhYF"
      },
      "execution_count": 3,
      "outputs": []
    },
    {
      "cell_type": "code",
      "source": [
        "df = pd.read_csv('dataset_2.csv')"
      ],
      "metadata": {
        "id": "jl_f6s2aTJhP"
      },
      "execution_count": 4,
      "outputs": []
    },
    {
      "cell_type": "code",
      "source": [
        "X_train, X_test, y_train, y_test = train_test_split(\n",
        "    df.drop(labels=['target'], axis=1),\n",
        "    df['target'],\n",
        "    test_size=0.3,\n",
        "    random_state=0)\n",
        "\n",
        "X_train.shape, X_test.shape"
      ],
      "metadata": {
        "id": "Ggc-ziHrUdq3",
        "colab": {
          "base_uri": "https://localhost:8080/"
        },
        "outputId": "4d152118-4603-4d0b-e505-834d8cc9c916"
      },
      "execution_count": 5,
      "outputs": [
        {
          "output_type": "execute_result",
          "data": {
            "text/plain": [
              "((35000, 108), (15000, 108))"
            ]
          },
          "metadata": {},
          "execution_count": 5
        }
      ]
    },
    {
      "cell_type": "markdown",
      "source": [
        "Ya que los métodos wrapper toman un tiempo considerable, vamos a reducir el feature-space removiendo los features altamente correlacionados."
      ],
      "metadata": {
        "id": "Y8z58cdXUl7V"
      }
    },
    {
      "cell_type": "code",
      "source": [
        "# metodo 1 (fuerza bruta)\n",
        "def correlation(dataset, threshold):\n",
        "    col_corr = set()  # Set of all the names of correlated columns\n",
        "    corr_matrix = dataset.corr()\n",
        "    for i in range(len(corr_matrix.columns)):\n",
        "        for j in range(i):\n",
        "            if abs(corr_matrix.iloc[i, j]) > threshold: # we are interested in absolute coeff value\n",
        "                colname = corr_matrix.columns[j]  # getting the name of column\n",
        "                col_corr.add(colname)\n",
        "    return col_corr\n",
        "\n",
        "corr_features = correlation(X_train, 0.8)\n",
        "print('correlated features: ', len(set(corr_features)) )"
      ],
      "metadata": {
        "id": "-50hHYCaUwGc",
        "colab": {
          "base_uri": "https://localhost:8080/"
        },
        "outputId": "284bbdaf-21e2-4fc1-f385-2e3ebd1a31a4"
      },
      "execution_count": 6,
      "outputs": [
        {
          "output_type": "stream",
          "name": "stdout",
          "text": [
            "correlated features:  40\n"
          ]
        }
      ]
    },
    {
      "cell_type": "code",
      "source": [
        "X_train.drop(labels=corr_features, axis=1, inplace=True)\n",
        "X_test.drop(labels=corr_features, axis=1, inplace=True)\n",
        "\n",
        "X_train.shape, X_test.shape"
      ],
      "metadata": {
        "id": "q-t2GYQLVCm_",
        "colab": {
          "base_uri": "https://localhost:8080/"
        },
        "outputId": "68af4975-430f-4608-d417-79c9b2d87040"
      },
      "execution_count": 7,
      "outputs": [
        {
          "output_type": "execute_result",
          "data": {
            "text/plain": [
              "((35000, 68), (15000, 68))"
            ]
          },
          "metadata": {},
          "execution_count": 7
        }
      ]
    },
    {
      "cell_type": "code",
      "source": [
        "sfs = SFS(\n",
        "  estimator=RandomForestClassifier(\n",
        "    n_estimators=10, n_jobs=4, random_state=0),\n",
        "    n_features_to_select=10,  # the number of features to retain\n",
        "    direction='forward',  # the direction of the selection procedure\n",
        "    scoring='roc_auc',  # the metric to evaluate\n",
        "    cv=2,  # the cross-validation fold\n",
        "    n_jobs=4,  # for parallelization\n",
        "  )\n",
        "\n",
        "sfs = sfs.fit(X_train, y_train)"
      ],
      "metadata": {
        "id": "PzZdZZkMejUP"
      },
      "execution_count": null,
      "outputs": []
    },
    {
      "cell_type": "markdown",
      "source": [
        "Obtenemos el subconjunto de features que proporciona el método fordware."
      ],
      "metadata": {
        "id": "QbhlVrj5k_h_"
      }
    },
    {
      "cell_type": "code",
      "source": [
        "selected_feat = sfs.get_feature_names_out()\n",
        "\n",
        "selected_feat"
      ],
      "metadata": {
        "colab": {
          "base_uri": "https://localhost:8080/"
        },
        "id": "-WKyovELeqE-",
        "outputId": "00b72702-20c7-40aa-e1b8-b0791694535b"
      },
      "execution_count": null,
      "outputs": [
        {
          "output_type": "execute_result",
          "data": {
            "text/plain": [
              "array(['var_16', 'var_44', 'var_45', 'var_55', 'var_67', 'var_69',\n",
              "       'var_73', 'var_88', 'var_91', 'var_108'], dtype=object)"
            ]
          },
          "metadata": {},
          "execution_count": 548
        }
      ]
    },
    {
      "cell_type": "markdown",
      "source": [
        "Comparemos la performance del subconjunto de features."
      ],
      "metadata": {
        "id": "7Vzwf1N0lGDJ"
      }
    },
    {
      "cell_type": "code",
      "source": [
        "def run_randomForests(X_train, X_test, y_train, y_test):\n",
        "    \n",
        "    rf = RandomForestClassifier(n_estimators=200, random_state=39, max_depth=4)\n",
        "    rf.fit(X_train, y_train)\n",
        "\n",
        "    print('Train set')\n",
        "    pred = rf.predict_proba(X_train)\n",
        "    print('Random Forests roc-auc: {}'.format(roc_auc_score(y_train, pred[:,1])))\n",
        "    \n",
        "    print('Test set')\n",
        "    pred = rf.predict_proba(X_test)\n",
        "    print('Random Forests roc-auc: {}'.format(roc_auc_score(y_test, pred[:,1])))"
      ],
      "metadata": {
        "id": "bBdFCFC4jX2o"
      },
      "execution_count": null,
      "outputs": []
    },
    {
      "cell_type": "code",
      "source": [
        "run_randomForests(X_train[selected_feat],\n",
        "                  X_test[selected_feat],\n",
        "                  y_train, y_test)"
      ],
      "metadata": {
        "colab": {
          "base_uri": "https://localhost:8080/"
        },
        "id": "Gf6KkYzbjbyn",
        "outputId": "7d7a1c95-3413-40f3-b979-2cc124f97400"
      },
      "execution_count": null,
      "outputs": [
        {
          "output_type": "stream",
          "name": "stdout",
          "text": [
            "Train set\n",
            "Random Forests roc-auc: 0.71220986912995\n",
            "Test set\n",
            "Random Forests roc-auc: 0.7032738123910467\n"
          ]
        }
      ]
    },
    {
      "cell_type": "markdown",
      "source": [
        "## Step Backward Feature Selection\n",
        "\n",
        "* 1) Evaluamos 1 conjunto con todos los n features.\n",
        "* 2) Evaluamos los todos los subconjuntos posibles de n-1 features.\n",
        "* 3) Elegimos el subconjunto de n-1 features que mejor performance da al modelo de ML.\n",
        "* 4) Repetimos 2 pero con n-2 features.\n",
        "\n",
        "Dicho procedimiento se repite hasta que la performance del modelo deje de ser la óptima o hasta que dicha performance no muestre una mejoría significante.\n",
        "\n",
        "**OBS:** cdo eliminamos 1 feature este NO se vuelve a contemplar."
      ],
      "metadata": {
        "id": "suAzn_PBWKBQ"
      }
    },
    {
      "cell_type": "code",
      "source": [
        "from sklearn.model_selection import train_test_split\n",
        "from sklearn.ensemble import RandomForestClassifier\n",
        "from sklearn.metrics import roc_auc_score\n",
        "from sklearn.feature_selection import SequentialFeatureSelector as SFS"
      ],
      "metadata": {
        "id": "hgFqX5U5WJdx"
      },
      "execution_count": null,
      "outputs": []
    },
    {
      "cell_type": "code",
      "source": [
        "df = pd.read_csv('dataset_2.csv')"
      ],
      "metadata": {
        "id": "t7gckg0cZmG8"
      },
      "execution_count": null,
      "outputs": []
    },
    {
      "cell_type": "code",
      "source": [
        "X_train, X_test, y_train, y_test = train_test_split(\n",
        "    df.drop(labels=['target'], axis=1),\n",
        "    df['target'],\n",
        "    test_size=0.3,\n",
        "    random_state=0)\n",
        "\n",
        "X_train.shape, X_test.shape"
      ],
      "metadata": {
        "colab": {
          "base_uri": "https://localhost:8080/"
        },
        "id": "fLZSmpnkZo4T",
        "outputId": "39826066-997e-42c9-a37c-77f415ca7ed2"
      },
      "execution_count": null,
      "outputs": [
        {
          "output_type": "execute_result",
          "data": {
            "text/plain": [
              "((35000, 108), (15000, 108))"
            ]
          },
          "metadata": {},
          "execution_count": 553
        }
      ]
    },
    {
      "cell_type": "markdown",
      "source": [
        "Ya que los métodos wrapper toman un tiempo considerable, vamos a reducir el feature-space removiendo los features altamente correlacionados."
      ],
      "metadata": {
        "id": "em2gVvJ7ZwSH"
      }
    },
    {
      "cell_type": "code",
      "source": [
        "def correlation(dataset, threshold):\n",
        "    col_corr = set()  # Set of all the names of correlated columns\n",
        "    corr_matrix = dataset.corr()\n",
        "    for i in range(len(corr_matrix.columns)):\n",
        "        for j in range(i):\n",
        "            if abs(corr_matrix.iloc[i, j]) > threshold: # we are interested in absolute coeff value\n",
        "                colname = corr_matrix.columns[j]  # getting the name of column\n",
        "                col_corr.add(colname)\n",
        "    return col_corr\n",
        "\n",
        "corr_features = correlation(X_train, 0.8)\n",
        "print('correlated features: ', len(set(corr_features)) )"
      ],
      "metadata": {
        "colab": {
          "base_uri": "https://localhost:8080/"
        },
        "id": "bMbyKKtGZqSr",
        "outputId": "f0223ace-2672-47a8-9e32-42139c519de0"
      },
      "execution_count": null,
      "outputs": [
        {
          "output_type": "stream",
          "name": "stdout",
          "text": [
            "correlated features:  40\n"
          ]
        }
      ]
    },
    {
      "cell_type": "code",
      "source": [
        "X_train.drop(labels=corr_features, axis=1, inplace=True)\n",
        "X_test.drop(labels=corr_features, axis=1, inplace=True)\n",
        "\n",
        "X_train.shape, X_test.shape"
      ],
      "metadata": {
        "colab": {
          "base_uri": "https://localhost:8080/"
        },
        "id": "2JnGoNUCZ1nL",
        "outputId": "6a63eded-9225-4e78-b2f7-c72612c4c47f"
      },
      "execution_count": null,
      "outputs": [
        {
          "output_type": "execute_result",
          "data": {
            "text/plain": [
              "((35000, 68), (15000, 68))"
            ]
          },
          "metadata": {},
          "execution_count": 556
        }
      ]
    },
    {
      "cell_type": "code",
      "source": [
        "sfs = SFS(\n",
        "    estimator=RandomForestClassifier(\n",
        "      n_estimators=10, n_jobs=4, random_state=0),\n",
        "      n_features_to_select=65,  # the number of features to retain\n",
        "      direction='backward',  # the direction of the selection procedure\n",
        "      scoring='roc_auc',  # the metric to evaluate\n",
        "      cv=2,  # the cross-validation fold\n",
        "      n_jobs=4,  # for parallelization\n",
        "    )\n",
        "\n",
        "sfs = sfs.fit(X_train, y_train)"
      ],
      "metadata": {
        "id": "ojSZWKNYZ3OL"
      },
      "execution_count": null,
      "outputs": []
    },
    {
      "cell_type": "markdown",
      "source": [
        "Comparemos la performance del subconjunto de features."
      ],
      "metadata": {
        "id": "2kkWmqLBkYYt"
      }
    },
    {
      "cell_type": "code",
      "source": [
        "def run_randomForests(X_train, X_test, y_train, y_test):\n",
        "    rf = RandomForestClassifier(n_estimators=200, random_state=39, max_depth=4)\n",
        "    rf.fit(X_train, y_train)\n",
        "\n",
        "    print('Train set')\n",
        "    pred = rf.predict_proba(X_train)\n",
        "    print('Random Forests roc-auc: {}'.format(roc_auc_score(y_train, pred[:,1])))\n",
        "    \n",
        "    print('Test set')\n",
        "    pred = rf.predict_proba(X_test)\n",
        "    print('Random Forests roc-auc: {}'.format(roc_auc_score(y_test, pred[:,1])))"
      ],
      "metadata": {
        "id": "hz4EehzZclvb"
      },
      "execution_count": null,
      "outputs": []
    },
    {
      "cell_type": "code",
      "source": [
        "selected_feat= sfs.get_feature_names_out()\n",
        "\n",
        "selected_feat"
      ],
      "metadata": {
        "colab": {
          "base_uri": "https://localhost:8080/"
        },
        "id": "7FoR5rDfjtWA",
        "outputId": "67034d75-009d-4d56-a83b-1c05c74c8429"
      },
      "execution_count": null,
      "outputs": [
        {
          "output_type": "execute_result",
          "data": {
            "text/plain": [
              "array(['var_1', 'var_2', 'var_4', 'var_6', 'var_7', 'var_8', 'var_9',\n",
              "       'var_10', 'var_12', 'var_14', 'var_16', 'var_17', 'var_20',\n",
              "       'var_25', 'var_27', 'var_31', 'var_33', 'var_34', 'var_36',\n",
              "       'var_38', 'var_41', 'var_43', 'var_44', 'var_45', 'var_47',\n",
              "       'var_48', 'var_49', 'var_51', 'var_53', 'var_54', 'var_55',\n",
              "       'var_58', 'var_62', 'var_65', 'var_66', 'var_67', 'var_68',\n",
              "       'var_69', 'var_71', 'var_72', 'var_75', 'var_76', 'var_78',\n",
              "       'var_79', 'var_80', 'var_81', 'var_82', 'var_86', 'var_87',\n",
              "       'var_88', 'var_91', 'var_92', 'var_93', 'var_94', 'var_95',\n",
              "       'var_97', 'var_99', 'var_100', 'var_102', 'var_104', 'var_105',\n",
              "       'var_106', 'var_107', 'var_108', 'var_109'], dtype=object)"
            ]
          },
          "metadata": {},
          "execution_count": 559
        }
      ]
    },
    {
      "cell_type": "markdown",
      "source": [
        "Evaluamos el modelo usando el subconjunto de features seleccionados."
      ],
      "metadata": {
        "id": "2bvdk0Btkrlq"
      }
    },
    {
      "cell_type": "code",
      "source": [
        "run_randomForests(X_train[selected_feat],\n",
        "                  X_test[selected_feat],\n",
        "                  y_train, y_test)"
      ],
      "metadata": {
        "colab": {
          "base_uri": "https://localhost:8080/"
        },
        "id": "YuB-3LANjvff",
        "outputId": "f0010fe7-e032-4caf-fb57-44b4dd93e594"
      },
      "execution_count": null,
      "outputs": [
        {
          "output_type": "stream",
          "name": "stdout",
          "text": [
            "Train set\n",
            "Random Forests roc-auc: 0.7113295437282123\n",
            "Test set\n",
            "Random Forests roc-auc: 0.6971347144793507\n"
          ]
        }
      ]
    },
    {
      "cell_type": "markdown",
      "source": [
        "Vemos que no hay mejoría significante al comparar el conjunto completo de features vs el subconjunto seleccionado por el método backward."
      ],
      "metadata": {
        "id": "BGxrltbwkvHX"
      }
    },
    {
      "cell_type": "code",
      "source": [
        "run_randomForests(X_train,\n",
        "                  X_test,\n",
        "                  y_train, y_test)"
      ],
      "metadata": {
        "colab": {
          "base_uri": "https://localhost:8080/"
        },
        "id": "i0Qzcr8Qj43P",
        "outputId": "5365b018-85cd-459d-dc66-5bc9629d3952"
      },
      "execution_count": null,
      "outputs": [
        {
          "output_type": "stream",
          "name": "stdout",
          "text": [
            "Train set\n",
            "Random Forests roc-auc: 0.7108693335415764\n",
            "Test set\n",
            "Random Forests roc-auc: 0.6970739598265651\n"
          ]
        }
      ]
    },
    {
      "cell_type": "markdown",
      "source": [
        "## Recursive Feature Elimination\n",
        "\n",
        "* 1) Clasifique los features según su importancia a partir de algun modelo de ML: puede ser una importancia de árbol o coeficientes derivados de modelos lineales.\n",
        "\n",
        "* 2) Eliminar un feature, el menos importante, y crear un modelo de ML utilizando los features restantes.\n",
        "\n",
        "* 3) Calcule una métrica de rendimiento por ejm: roc-auc, mse, rmse, precisión, etc.\n",
        "\n",
        "* 4) Si la métrica disminuye más de un umbral establecido arbitrariamente, entonces ese feature es importante y debe mantenerse. De lo contrario, podemos eliminar dicho feature.\n",
        "\n",
        "* 5) Repita los pasos 2 a 4 hasta que se hayan evaluado todos los features."
      ],
      "metadata": {
        "id": "Gm5sPqjBc3tO"
      }
    },
    {
      "cell_type": "code",
      "source": [
        "from sklearn.ensemble import GradientBoostingClassifier, GradientBoostingRegressor\n",
        "from sklearn.metrics import roc_auc_score, r2_score\n",
        "from sklearn.model_selection import train_test_split"
      ],
      "metadata": {
        "id": "Uzqry-Ytc5ud"
      },
      "execution_count": null,
      "outputs": []
    },
    {
      "cell_type": "code",
      "source": [
        "df = pd.read_csv('dataset_1.csv')"
      ],
      "metadata": {
        "id": "dWTJje3HdrC-"
      },
      "execution_count": null,
      "outputs": []
    },
    {
      "cell_type": "code",
      "source": [
        "df.head()"
      ],
      "metadata": {
        "colab": {
          "base_uri": "https://localhost:8080/",
          "height": 236
        },
        "id": "mJomIggQds39",
        "outputId": "6273bff1-cc93-440b-e23c-74c549ac02e5"
      },
      "execution_count": null,
      "outputs": [
        {
          "output_type": "execute_result",
          "data": {
            "text/plain": [
              "   var_1  var_2  var_3  var_4  var_5  var_6  var_7  var_8  var_9  var_10  ...  \\\n",
              "0      0      0    0.0   0.00    0.0      0      0      0      0       0  ...   \n",
              "1      0      0    0.0   3.00    0.0      0      0      0      0       0  ...   \n",
              "2      0      0    0.0   5.88    0.0      0      0      0      0       0  ...   \n",
              "3      0      0    0.0  14.10    0.0      0      0      0      0       0  ...   \n",
              "4      0      0    0.0   5.76    0.0      0      0      0      0       0  ...   \n",
              "\n",
              "   var_292  var_293  var_294  var_295  var_296  var_297  var_298  var_299  \\\n",
              "0      0.0        0        0        0        0        0        0      0.0   \n",
              "1      0.0        0        0        0        0        0        0      0.0   \n",
              "2      0.0        0        0        3        0        0        0      0.0   \n",
              "3      0.0        0        0        0        0        0        0      0.0   \n",
              "4      0.0        0        0        0        0        0        0      0.0   \n",
              "\n",
              "      var_300  target  \n",
              "0      0.0000       0  \n",
              "1      0.0000       0  \n",
              "2  67772.7216       0  \n",
              "3      0.0000       0  \n",
              "4      0.0000       0  \n",
              "\n",
              "[5 rows x 301 columns]"
            ],
            "text/html": [
              "\n",
              "  <div id=\"df-d09de908-9e1a-4872-bcaf-7b8b805ac4f5\">\n",
              "    <div class=\"colab-df-container\">\n",
              "      <div>\n",
              "<style scoped>\n",
              "    .dataframe tbody tr th:only-of-type {\n",
              "        vertical-align: middle;\n",
              "    }\n",
              "\n",
              "    .dataframe tbody tr th {\n",
              "        vertical-align: top;\n",
              "    }\n",
              "\n",
              "    .dataframe thead th {\n",
              "        text-align: right;\n",
              "    }\n",
              "</style>\n",
              "<table border=\"1\" class=\"dataframe\">\n",
              "  <thead>\n",
              "    <tr style=\"text-align: right;\">\n",
              "      <th></th>\n",
              "      <th>var_1</th>\n",
              "      <th>var_2</th>\n",
              "      <th>var_3</th>\n",
              "      <th>var_4</th>\n",
              "      <th>var_5</th>\n",
              "      <th>var_6</th>\n",
              "      <th>var_7</th>\n",
              "      <th>var_8</th>\n",
              "      <th>var_9</th>\n",
              "      <th>var_10</th>\n",
              "      <th>...</th>\n",
              "      <th>var_292</th>\n",
              "      <th>var_293</th>\n",
              "      <th>var_294</th>\n",
              "      <th>var_295</th>\n",
              "      <th>var_296</th>\n",
              "      <th>var_297</th>\n",
              "      <th>var_298</th>\n",
              "      <th>var_299</th>\n",
              "      <th>var_300</th>\n",
              "      <th>target</th>\n",
              "    </tr>\n",
              "  </thead>\n",
              "  <tbody>\n",
              "    <tr>\n",
              "      <th>0</th>\n",
              "      <td>0</td>\n",
              "      <td>0</td>\n",
              "      <td>0.0</td>\n",
              "      <td>0.00</td>\n",
              "      <td>0.0</td>\n",
              "      <td>0</td>\n",
              "      <td>0</td>\n",
              "      <td>0</td>\n",
              "      <td>0</td>\n",
              "      <td>0</td>\n",
              "      <td>...</td>\n",
              "      <td>0.0</td>\n",
              "      <td>0</td>\n",
              "      <td>0</td>\n",
              "      <td>0</td>\n",
              "      <td>0</td>\n",
              "      <td>0</td>\n",
              "      <td>0</td>\n",
              "      <td>0.0</td>\n",
              "      <td>0.0000</td>\n",
              "      <td>0</td>\n",
              "    </tr>\n",
              "    <tr>\n",
              "      <th>1</th>\n",
              "      <td>0</td>\n",
              "      <td>0</td>\n",
              "      <td>0.0</td>\n",
              "      <td>3.00</td>\n",
              "      <td>0.0</td>\n",
              "      <td>0</td>\n",
              "      <td>0</td>\n",
              "      <td>0</td>\n",
              "      <td>0</td>\n",
              "      <td>0</td>\n",
              "      <td>...</td>\n",
              "      <td>0.0</td>\n",
              "      <td>0</td>\n",
              "      <td>0</td>\n",
              "      <td>0</td>\n",
              "      <td>0</td>\n",
              "      <td>0</td>\n",
              "      <td>0</td>\n",
              "      <td>0.0</td>\n",
              "      <td>0.0000</td>\n",
              "      <td>0</td>\n",
              "    </tr>\n",
              "    <tr>\n",
              "      <th>2</th>\n",
              "      <td>0</td>\n",
              "      <td>0</td>\n",
              "      <td>0.0</td>\n",
              "      <td>5.88</td>\n",
              "      <td>0.0</td>\n",
              "      <td>0</td>\n",
              "      <td>0</td>\n",
              "      <td>0</td>\n",
              "      <td>0</td>\n",
              "      <td>0</td>\n",
              "      <td>...</td>\n",
              "      <td>0.0</td>\n",
              "      <td>0</td>\n",
              "      <td>0</td>\n",
              "      <td>3</td>\n",
              "      <td>0</td>\n",
              "      <td>0</td>\n",
              "      <td>0</td>\n",
              "      <td>0.0</td>\n",
              "      <td>67772.7216</td>\n",
              "      <td>0</td>\n",
              "    </tr>\n",
              "    <tr>\n",
              "      <th>3</th>\n",
              "      <td>0</td>\n",
              "      <td>0</td>\n",
              "      <td>0.0</td>\n",
              "      <td>14.10</td>\n",
              "      <td>0.0</td>\n",
              "      <td>0</td>\n",
              "      <td>0</td>\n",
              "      <td>0</td>\n",
              "      <td>0</td>\n",
              "      <td>0</td>\n",
              "      <td>...</td>\n",
              "      <td>0.0</td>\n",
              "      <td>0</td>\n",
              "      <td>0</td>\n",
              "      <td>0</td>\n",
              "      <td>0</td>\n",
              "      <td>0</td>\n",
              "      <td>0</td>\n",
              "      <td>0.0</td>\n",
              "      <td>0.0000</td>\n",
              "      <td>0</td>\n",
              "    </tr>\n",
              "    <tr>\n",
              "      <th>4</th>\n",
              "      <td>0</td>\n",
              "      <td>0</td>\n",
              "      <td>0.0</td>\n",
              "      <td>5.76</td>\n",
              "      <td>0.0</td>\n",
              "      <td>0</td>\n",
              "      <td>0</td>\n",
              "      <td>0</td>\n",
              "      <td>0</td>\n",
              "      <td>0</td>\n",
              "      <td>...</td>\n",
              "      <td>0.0</td>\n",
              "      <td>0</td>\n",
              "      <td>0</td>\n",
              "      <td>0</td>\n",
              "      <td>0</td>\n",
              "      <td>0</td>\n",
              "      <td>0</td>\n",
              "      <td>0.0</td>\n",
              "      <td>0.0000</td>\n",
              "      <td>0</td>\n",
              "    </tr>\n",
              "  </tbody>\n",
              "</table>\n",
              "<p>5 rows × 301 columns</p>\n",
              "</div>\n",
              "      <button class=\"colab-df-convert\" onclick=\"convertToInteractive('df-d09de908-9e1a-4872-bcaf-7b8b805ac4f5')\"\n",
              "              title=\"Convert this dataframe to an interactive table.\"\n",
              "              style=\"display:none;\">\n",
              "        \n",
              "  <svg xmlns=\"http://www.w3.org/2000/svg\" height=\"24px\"viewBox=\"0 0 24 24\"\n",
              "       width=\"24px\">\n",
              "    <path d=\"M0 0h24v24H0V0z\" fill=\"none\"/>\n",
              "    <path d=\"M18.56 5.44l.94 2.06.94-2.06 2.06-.94-2.06-.94-.94-2.06-.94 2.06-2.06.94zm-11 1L8.5 8.5l.94-2.06 2.06-.94-2.06-.94L8.5 2.5l-.94 2.06-2.06.94zm10 10l.94 2.06.94-2.06 2.06-.94-2.06-.94-.94-2.06-.94 2.06-2.06.94z\"/><path d=\"M17.41 7.96l-1.37-1.37c-.4-.4-.92-.59-1.43-.59-.52 0-1.04.2-1.43.59L10.3 9.45l-7.72 7.72c-.78.78-.78 2.05 0 2.83L4 21.41c.39.39.9.59 1.41.59.51 0 1.02-.2 1.41-.59l7.78-7.78 2.81-2.81c.8-.78.8-2.07 0-2.86zM5.41 20L4 18.59l7.72-7.72 1.47 1.35L5.41 20z\"/>\n",
              "  </svg>\n",
              "      </button>\n",
              "      \n",
              "  <style>\n",
              "    .colab-df-container {\n",
              "      display:flex;\n",
              "      flex-wrap:wrap;\n",
              "      gap: 12px;\n",
              "    }\n",
              "\n",
              "    .colab-df-convert {\n",
              "      background-color: #E8F0FE;\n",
              "      border: none;\n",
              "      border-radius: 50%;\n",
              "      cursor: pointer;\n",
              "      display: none;\n",
              "      fill: #1967D2;\n",
              "      height: 32px;\n",
              "      padding: 0 0 0 0;\n",
              "      width: 32px;\n",
              "    }\n",
              "\n",
              "    .colab-df-convert:hover {\n",
              "      background-color: #E2EBFA;\n",
              "      box-shadow: 0px 1px 2px rgba(60, 64, 67, 0.3), 0px 1px 3px 1px rgba(60, 64, 67, 0.15);\n",
              "      fill: #174EA6;\n",
              "    }\n",
              "\n",
              "    [theme=dark] .colab-df-convert {\n",
              "      background-color: #3B4455;\n",
              "      fill: #D2E3FC;\n",
              "    }\n",
              "\n",
              "    [theme=dark] .colab-df-convert:hover {\n",
              "      background-color: #434B5C;\n",
              "      box-shadow: 0px 1px 3px 1px rgba(0, 0, 0, 0.15);\n",
              "      filter: drop-shadow(0px 1px 2px rgba(0, 0, 0, 0.3));\n",
              "      fill: #FFFFFF;\n",
              "    }\n",
              "  </style>\n",
              "\n",
              "      <script>\n",
              "        const buttonEl =\n",
              "          document.querySelector('#df-d09de908-9e1a-4872-bcaf-7b8b805ac4f5 button.colab-df-convert');\n",
              "        buttonEl.style.display =\n",
              "          google.colab.kernel.accessAllowed ? 'block' : 'none';\n",
              "\n",
              "        async function convertToInteractive(key) {\n",
              "          const element = document.querySelector('#df-d09de908-9e1a-4872-bcaf-7b8b805ac4f5');\n",
              "          const dataTable =\n",
              "            await google.colab.kernel.invokeFunction('convertToInteractive',\n",
              "                                                     [key], {});\n",
              "          if (!dataTable) return;\n",
              "\n",
              "          const docLinkHtml = 'Like what you see? Visit the ' +\n",
              "            '<a target=\"_blank\" href=https://colab.research.google.com/notebooks/data_table.ipynb>data table notebook</a>'\n",
              "            + ' to learn more about interactive tables.';\n",
              "          element.innerHTML = '';\n",
              "          dataTable['output_type'] = 'display_data';\n",
              "          await google.colab.output.renderOutput(dataTable, element);\n",
              "          const docLink = document.createElement('div');\n",
              "          docLink.innerHTML = docLinkHtml;\n",
              "          element.appendChild(docLink);\n",
              "        }\n",
              "      </script>\n",
              "    </div>\n",
              "  </div>\n",
              "  "
            ]
          },
          "metadata": {},
          "execution_count": 7
        }
      ]
    },
    {
      "cell_type": "code",
      "source": [
        "X_train, X_test, y_train, y_test = train_test_split(\n",
        "    df.drop(labels=['target'], axis=1),\n",
        "    df['target'],\n",
        "    test_size=0.3,\n",
        "    random_state=0)\n",
        "\n",
        "X_train.shape, X_test.shape"
      ],
      "metadata": {
        "colab": {
          "base_uri": "https://localhost:8080/"
        },
        "id": "me4FptVndtyF",
        "outputId": "11709d7d-822f-4eaa-a29b-d6fa3a28e1b3"
      },
      "execution_count": null,
      "outputs": [
        {
          "output_type": "execute_result",
          "data": {
            "text/plain": [
              "((35000, 300), (15000, 300))"
            ]
          },
          "metadata": {},
          "execution_count": 9
        }
      ]
    },
    {
      "cell_type": "code",
      "source": [
        "# construimos un modelo de ML con todos los features\n",
        "model_full = GradientBoostingClassifier(n_estimators=10, max_depth=4, random_state=10)\n",
        "\n",
        "model_full.fit(X_train, y_train)\n",
        "\n",
        "# calculamos la metrica roc-auc\n",
        "y_pred_test = model_full.predict_proba(X_test)[:, 1]\n",
        "roc_full = roc_auc_score(y_test, y_pred_test)\n",
        "\n",
        "print('Test ROC AUC=%f' % (roc_full))"
      ],
      "metadata": {
        "colab": {
          "base_uri": "https://localhost:8080/"
        },
        "id": "hW0KlBBWdvKl",
        "outputId": "3af034b4-69e6-47bf-9ee7-99323b85062a"
      },
      "execution_count": null,
      "outputs": [
        {
          "output_type": "stream",
          "name": "stdout",
          "text": [
            "Test ROC AUC=0.827507\n"
          ]
        }
      ]
    },
    {
      "cell_type": "markdown",
      "source": [
        "Rankeamos los features por su importancia"
      ],
      "metadata": {
        "id": "CEPmGxa4d7Zk"
      }
    },
    {
      "cell_type": "code",
      "source": [
        "features = pd.Series(model_full.feature_importances_)\n",
        "features.index = X_train.columns\n",
        "\n",
        "features.sort_values(ascending=True, inplace=True)\n",
        "\n",
        "# plot\n",
        "features.plot.bar(figsize=(20,6))\n",
        "plt.xlabel('Features')\n",
        "plt.ylabel('Importance')\n",
        "plt.show()"
      ],
      "metadata": {
        "colab": {
          "base_uri": "https://localhost:8080/",
          "height": 418
        },
        "id": "GPuCo4T4d5XF",
        "outputId": "014de8fb-be8e-469f-82ad-e5f420b46ab8"
      },
      "execution_count": null,
      "outputs": [
        {
          "output_type": "display_data",
          "data": {
            "text/plain": [
              "<Figure size 1440x432 with 1 Axes>"
            ],
            "image/png": "[encoded data removed]"
          },
          "metadata": {
            "needs_background": "light"
          }
        }
      ]
    },
    {
      "cell_type": "code",
      "source": [
        "features = list(features.index)\n",
        "features"
      ],
      "metadata": {
        "colab": {
          "base_uri": "https://localhost:8080/"
        },
        "id": "nI7NGgACd_Md",
        "outputId": "9f935229-6879-4335-e4dc-326d288ab48e"
      },
      "execution_count": null,
      "outputs": [
        {
          "output_type": "execute_result",
          "data": {
            "text/plain": [
              "['var_1',\n",
              " 'var_187',\n",
              " 'var_188',\n",
              " 'var_189',\n",
              " 'var_191',\n",
              " 'var_192',\n",
              " 'var_193',\n",
              " 'var_194',\n",
              " 'var_195',\n",
              " 'var_196',\n",
              " 'var_197',\n",
              " 'var_198',\n",
              " 'var_199',\n",
              " 'var_200',\n",
              " 'var_201',\n",
              " 'var_202',\n",
              " 'var_203',\n",
              " 'var_204',\n",
              " 'var_220',\n",
              " 'var_219',\n",
              " 'var_218',\n",
              " 'var_217',\n",
              " 'var_215',\n",
              " 'var_214',\n",
              " 'var_184',\n",
              " 'var_213',\n",
              " 'var_211',\n",
              " 'var_210',\n",
              " 'var_209',\n",
              " 'var_207',\n",
              " 'var_206',\n",
              " 'var_205',\n",
              " 'var_212',\n",
              " 'var_183',\n",
              " 'var_182',\n",
              " 'var_181',\n",
              " 'var_160',\n",
              " 'var_159',\n",
              " 'var_158',\n",
              " 'var_156',\n",
              " 'var_155',\n",
              " 'var_154',\n",
              " 'var_161',\n",
              " 'var_153',\n",
              " 'var_151',\n",
              " 'var_299',\n",
              " 'var_149',\n",
              " 'var_148',\n",
              " 'var_147',\n",
              " 'var_146',\n",
              " 'var_152',\n",
              " 'var_221',\n",
              " 'var_162',\n",
              " 'var_164',\n",
              " 'var_180',\n",
              " 'var_179',\n",
              " 'var_178',\n",
              " 'var_177',\n",
              " 'var_176',\n",
              " 'var_175',\n",
              " 'var_163',\n",
              " 'var_174',\n",
              " 'var_171',\n",
              " 'var_170',\n",
              " 'var_169',\n",
              " 'var_168',\n",
              " 'var_167',\n",
              " 'var_165',\n",
              " 'var_172',\n",
              " 'var_144',\n",
              " 'var_223',\n",
              " 'var_225',\n",
              " 'var_266',\n",
              " 'var_267',\n",
              " 'var_268',\n",
              " 'var_269',\n",
              " 'var_270',\n",
              " 'var_272',\n",
              " 'var_273',\n",
              " 'var_274',\n",
              " 'var_275',\n",
              " 'var_276',\n",
              " 'var_277',\n",
              " 'var_278',\n",
              " 'var_279',\n",
              " 'var_280',\n",
              " 'var_281',\n",
              " 'var_282',\n",
              " 'var_283',\n",
              " 'var_298',\n",
              " 'var_297',\n",
              " 'var_295',\n",
              " 'var_294',\n",
              " 'var_293',\n",
              " 'var_292',\n",
              " 'var_265',\n",
              " 'var_291',\n",
              " 'var_289',\n",
              " 'var_288',\n",
              " 'var_287',\n",
              " 'var_286',\n",
              " 'var_285',\n",
              " 'var_284',\n",
              " 'var_290',\n",
              " 'var_264',\n",
              " 'var_263',\n",
              " 'var_261',\n",
              " 'var_240',\n",
              " 'var_239',\n",
              " 'var_238',\n",
              " 'var_237',\n",
              " 'var_236',\n",
              " 'var_235',\n",
              " 'var_241',\n",
              " 'var_234',\n",
              " 'var_232',\n",
              " 'var_230',\n",
              " 'var_229',\n",
              " 'var_228',\n",
              " 'var_227',\n",
              " 'var_226',\n",
              " 'var_233',\n",
              " 'var_224',\n",
              " 'var_242',\n",
              " 'var_245',\n",
              " 'var_260',\n",
              " 'var_259',\n",
              " 'var_258',\n",
              " 'var_257',\n",
              " 'var_256',\n",
              " 'var_255',\n",
              " 'var_243',\n",
              " 'var_254',\n",
              " 'var_252',\n",
              " 'var_251',\n",
              " 'var_250',\n",
              " 'var_249',\n",
              " 'var_248',\n",
              " 'var_247',\n",
              " 'var_253',\n",
              " 'var_143',\n",
              " 'var_150',\n",
              " 'var_141',\n",
              " 'var_43',\n",
              " 'var_44',\n",
              " 'var_45',\n",
              " 'var_47',\n",
              " 'var_48',\n",
              " 'var_51',\n",
              " 'var_52',\n",
              " 'var_53',\n",
              " 'var_54',\n",
              " 'var_55',\n",
              " 'var_56',\n",
              " 'var_57',\n",
              " 'var_58',\n",
              " 'var_59',\n",
              " 'var_60',\n",
              " 'var_61',\n",
              " 'var_62',\n",
              " 'var_77',\n",
              " 'var_76',\n",
              " 'var_74',\n",
              " 'var_73',\n",
              " 'var_142',\n",
              " 'var_71',\n",
              " 'var_42',\n",
              " 'var_70',\n",
              " 'var_68',\n",
              " 'var_67',\n",
              " 'var_66',\n",
              " 'var_65',\n",
              " 'var_64',\n",
              " 'var_63',\n",
              " 'var_69',\n",
              " 'var_78',\n",
              " 'var_41',\n",
              " 'var_39',\n",
              " 'var_2',\n",
              " 'var_3',\n",
              " 'var_5',\n",
              " 'var_6',\n",
              " 'var_7',\n",
              " 'var_9',\n",
              " 'var_10',\n",
              " 'var_11',\n",
              " 'var_12',\n",
              " 'var_13',\n",
              " 'var_14',\n",
              " 'var_15',\n",
              " 'var_16',\n",
              " 'var_19',\n",
              " 'var_20',\n",
              " 'var_22',\n",
              " 'var_23',\n",
              " 'var_38',\n",
              " 'var_37',\n",
              " 'var_36',\n",
              " 'var_34',\n",
              " 'var_33',\n",
              " 'var_32',\n",
              " 'var_40',\n",
              " 'var_31',\n",
              " 'var_29',\n",
              " 'var_28',\n",
              " 'var_27',\n",
              " 'var_26',\n",
              " 'var_25',\n",
              " 'var_24',\n",
              " 'var_30',\n",
              " 'var_79',\n",
              " 'var_72',\n",
              " 'var_81',\n",
              " 'var_108',\n",
              " 'var_109',\n",
              " 'var_80',\n",
              " 'var_112',\n",
              " 'var_113',\n",
              " 'var_114',\n",
              " 'var_115',\n",
              " 'var_116',\n",
              " 'var_117',\n",
              " 'var_118',\n",
              " 'var_119',\n",
              " 'var_120',\n",
              " 'var_122',\n",
              " 'var_123',\n",
              " 'var_124',\n",
              " 'var_125',\n",
              " 'var_127',\n",
              " 'var_128',\n",
              " 'var_129',\n",
              " 'var_130',\n",
              " 'var_131',\n",
              " 'var_133',\n",
              " 'var_134',\n",
              " 'var_135',\n",
              " 'var_136',\n",
              " 'var_137',\n",
              " 'var_138',\n",
              " 'var_139',\n",
              " 'var_140',\n",
              " 'var_106',\n",
              " 'var_104',\n",
              " 'var_111',\n",
              " 'var_93',\n",
              " 'var_96',\n",
              " 'var_95',\n",
              " 'var_94',\n",
              " 'var_92',\n",
              " 'var_91',\n",
              " 'var_90',\n",
              " 'var_97',\n",
              " 'var_89',\n",
              " 'var_87',\n",
              " 'var_86',\n",
              " 'var_85',\n",
              " 'var_84',\n",
              " 'var_83',\n",
              " 'var_82',\n",
              " 'var_88',\n",
              " 'var_98',\n",
              " 'var_300',\n",
              " 'var_99',\n",
              " 'var_100',\n",
              " 'var_103',\n",
              " 'var_102',\n",
              " 'var_145',\n",
              " 'var_231',\n",
              " 'var_216',\n",
              " 'var_208',\n",
              " 'var_121',\n",
              " 'var_17',\n",
              " 'var_271',\n",
              " 'var_244',\n",
              " 'var_101',\n",
              " 'var_166',\n",
              " 'var_296',\n",
              " 'var_75',\n",
              " 'var_126',\n",
              " 'var_262',\n",
              " 'var_8',\n",
              " 'var_50',\n",
              " 'var_246',\n",
              " 'var_21',\n",
              " 'var_157',\n",
              " 'var_105',\n",
              " 'var_186',\n",
              " 'var_222',\n",
              " 'var_4',\n",
              " 'var_18',\n",
              " 'var_107',\n",
              " 'var_190',\n",
              " 'var_185',\n",
              " 'var_173',\n",
              " 'var_49',\n",
              " 'var_132',\n",
              " 'var_46',\n",
              " 'var_35',\n",
              " 'var_110']"
            ]
          },
          "metadata": {},
          "execution_count": 12
        }
      ]
    },
    {
      "cell_type": "code",
      "source": [
        "# fijamos una tolerancia\n",
        "tol = 0.0005\n",
        "\n",
        "print('doing recursive feature elimination')\n",
        "\n",
        "# iniciamos una lista donde guardaremos los features a eliminar\n",
        "features_to_remove = []\n",
        "\n",
        "count = 1\n",
        "\n",
        "for feature in features:\n",
        "    \n",
        "    print()\n",
        "    print('testing feature: ', feature, count, ' out of ', len(features))\n",
        "    count = count + 1\n",
        "\n",
        "    # inicializamos el modelo\n",
        "    model_int = GradientBoostingClassifier(n_estimators=10, max_depth=4, random_state=10)\n",
        "\n",
        "    # entrenamos el modelo con todos los features menos el feature a evaluar\n",
        "    # tmb iremos dropeando los features que vayamos removiendo\n",
        "    model_int.fit(\n",
        "        X_train.drop(features_to_remove + [feature], axis=1), y_train)\n",
        "\n",
        "    y_pred_test = model_int.predict_proba(\n",
        "        X_test.drop(features_to_remove + [feature], axis=1))[:, 1]\n",
        "\n",
        "    # calculamos el roc-auc\n",
        "    roc_int = roc_auc_score(y_test, y_pred_test)\n",
        "    print('New Test ROC AUC={}'.format((roc_int)))\n",
        "\n",
        "    print('Full dataset ROC AUC={}'.format((roc_full)))\n",
        "\n",
        "    diff_roc = roc_full - roc_int\n",
        "\n",
        "    # compramos roc-auc con la tolerancia\n",
        "    if diff_roc >= tol:\n",
        "        print('Drop in ROC AUC={}'.format(diff_roc))\n",
        "        print('keep: ', feature)\n",
        "        print\n",
        "    else:\n",
        "        print('Drop in ROC AUC={}'.format(diff_roc))\n",
        "        print('remove: ', feature)\n",
        "        print\n",
        "\n",
        "        roc_full = roc_int\n",
        "        \n",
        "        features_to_remove.append(feature)\n",
        "\n",
        "print('DONE!!')\n",
        "print('total features to remove: ', len(features_to_remove))\n",
        "\n",
        "\n",
        "features_to_keep = [x for x in features if x not in features_to_remove]\n",
        "print('total features to keep: ', len(features_to_keep))\n",
        "\n"
      ],
      "metadata": {
        "colab": {
          "base_uri": "https://localhost:8080/"
        },
        "id": "5x0l0whFeFJd",
        "outputId": "4353eb36-d0be-441c-962f-6826cece41f5"
      },
      "execution_count": null,
      "outputs": [
        {
          "output_type": "stream",
          "name": "stdout",
          "text": [
            "doing recursive feature elimination\n",
            "\n",
            "testing feature:  var_1 1  out of  300\n",
            "New Test ROC AUC=0.827529410434876\n",
            "Full dataset ROC AUC=0.8275069163621772\n",
            "Drop in ROC AUC=-2.249407269883097e-05\n",
            "remove:  var_1\n",
            "\n",
            "testing feature:  var_187 2  out of  300\n",
            "New Test ROC AUC=0.8275681816255076\n",
            "Full dataset ROC AUC=0.827529410434876\n",
            "Drop in ROC AUC=-3.8771190631559094e-05\n",
            "remove:  var_187\n",
            "\n",
            "testing feature:  var_188 3  out of  300\n",
            "New Test ROC AUC=0.8274754924817237\n",
            "Full dataset ROC AUC=0.8275681816255076\n",
            "Drop in ROC AUC=9.268914378390836e-05\n",
            "remove:  var_188\n",
            "\n",
            "testing feature:  var_189 4  out of  300\n",
            "New Test ROC AUC=0.827531105967994\n",
            "Full dataset ROC AUC=0.8274754924817237\n",
            "Drop in ROC AUC=-5.5613486270256196e-05\n",
            "remove:  var_189\n",
            "\n",
            "testing feature:  var_191 5  out of  300\n",
            "New Test ROC AUC=0.8274839701473136\n",
            "Full dataset ROC AUC=0.827531105967994\n",
            "Drop in ROC AUC=4.713582068038846e-05\n",
            "remove:  var_191\n",
            "\n",
            "testing feature:  var_192 6  out of  300\n",
            "New Test ROC AUC=0.8275069163621772\n",
            "Full dataset ROC AUC=0.8274839701473136\n",
            "Drop in ROC AUC=-2.294621486365056e-05\n",
            "remove:  var_192\n",
            "\n",
            "testing feature:  var_193 7  out of  300\n",
            "New Test ROC AUC=0.8275183329518384\n",
            "Full dataset ROC AUC=0.8275069163621772\n",
            "Drop in ROC AUC=-1.1416589661195076e-05\n",
            "remove:  var_193\n",
            "\n",
            "testing feature:  var_194 8  out of  300\n",
            "New Test ROC AUC=0.8274776401570064\n",
            "Full dataset ROC AUC=0.8275183329518384\n",
            "Drop in ROC AUC=4.0692794831986845e-05\n",
            "remove:  var_194\n",
            "\n",
            "testing feature:  var_195 9  out of  300\n",
            "New Test ROC AUC=0.8275079336820479\n",
            "Full dataset ROC AUC=0.8274776401570064\n",
            "Drop in ROC AUC=-3.0293525041469316e-05\n",
            "remove:  var_195\n",
            "\n",
            "testing feature:  var_196 10  out of  300\n",
            "New Test ROC AUC=0.8275079336820479\n",
            "Full dataset ROC AUC=0.8275079336820479\n",
            "Drop in ROC AUC=0.0\n",
            "remove:  var_196\n",
            "\n",
            "testing feature:  var_197 11  out of  300\n",
            "New Test ROC AUC=0.8275395836335839\n",
            "Full dataset ROC AUC=0.8275079336820479\n",
            "Drop in ROC AUC=-3.164995153603911e-05\n",
            "remove:  var_197\n",
            "\n",
            "testing feature:  var_198 12  out of  300\n",
            "New Test ROC AUC=0.8275178808096736\n",
            "Full dataset ROC AUC=0.8275395836335839\n",
            "Drop in ROC AUC=2.1702823910341174e-05\n",
            "remove:  var_198\n",
            "\n",
            "testing feature:  var_199 13  out of  300\n",
            "New Test ROC AUC=0.8274908653153268\n",
            "Full dataset ROC AUC=0.8275178808096736\n",
            "Drop in ROC AUC=2.7015494346804836e-05\n",
            "remove:  var_199\n",
            "\n",
            "testing feature:  var_200 14  out of  300\n",
            "New Test ROC AUC=0.8275488525479626\n",
            "Full dataset ROC AUC=0.8274908653153268\n",
            "Drop in ROC AUC=-5.7987232635836605e-05\n",
            "remove:  var_200\n",
            "\n",
            "testing feature:  var_201 15  out of  300\n",
            "New Test ROC AUC=0.827445311992223\n",
            "Full dataset ROC AUC=0.8275488525479626\n",
            "Drop in ROC AUC=0.00010354055573957854\n",
            "remove:  var_201\n",
            "\n",
            "testing feature:  var_202 16  out of  300\n",
            "New Test ROC AUC=0.8275696510875432\n",
            "Full dataset ROC AUC=0.827445311992223\n",
            "Drop in ROC AUC=-0.0001243390953201695\n",
            "remove:  var_202\n",
            "\n",
            "testing feature:  var_203 17  out of  300\n",
            "New Test ROC AUC=0.8275394705980429\n",
            "Full dataset ROC AUC=0.8275696510875432\n",
            "Drop in ROC AUC=3.018048950031993e-05\n",
            "remove:  var_203\n",
            "\n",
            "testing feature:  var_204 18  out of  300\n",
            "New Test ROC AUC=0.8275146027789788\n",
            "Full dataset ROC AUC=0.8275394705980429\n",
            "Drop in ROC AUC=2.486781906407831e-05\n",
            "remove:  var_204\n",
            "\n",
            "testing feature:  var_220 19  out of  300\n",
            "New Test ROC AUC=0.827481370329866\n",
            "Full dataset ROC AUC=0.8275146027789788\n",
            "Drop in ROC AUC=3.323244911279666e-05\n",
            "remove:  var_220\n",
            "\n",
            "testing feature:  var_219 20  out of  300\n",
            "New Test ROC AUC=0.8274768489082179\n",
            "Full dataset ROC AUC=0.827481370329866\n",
            "Drop in ROC AUC=4.521421648084889e-06\n",
            "remove:  var_219\n",
            "\n",
            "testing feature:  var_218 21  out of  300\n",
            "New Test ROC AUC=0.8275088379663775\n",
            "Full dataset ROC AUC=0.8274768489082179\n",
            "Drop in ROC AUC=-3.1989058159598294e-05\n",
            "remove:  var_218\n",
            "\n",
            "testing feature:  var_217 22  out of  300\n",
            "New Test ROC AUC=0.8275079336820479\n",
            "Full dataset ROC AUC=0.8275088379663775\n",
            "Drop in ROC AUC=9.042843296391823e-07\n",
            "remove:  var_217\n",
            "\n",
            "testing feature:  var_215 23  out of  300\n",
            "New Test ROC AUC=0.8275520175431159\n",
            "Full dataset ROC AUC=0.8275079336820479\n",
            "Drop in ROC AUC=-4.4083861068022756e-05\n",
            "remove:  var_215\n",
            "\n",
            "testing feature:  var_214 24  out of  300\n",
            "New Test ROC AUC=0.8275753028646032\n",
            "Full dataset ROC AUC=0.8275520175431159\n",
            "Drop in ROC AUC=-2.3285321487320765e-05\n",
            "remove:  var_214\n",
            "\n",
            "testing feature:  var_184 25  out of  300\n",
            "New Test ROC AUC=0.82753732292276\n",
            "Full dataset ROC AUC=0.8275753028646032\n",
            "Drop in ROC AUC=3.797994184318032e-05\n",
            "remove:  var_184\n",
            "\n",
            "testing feature:  var_213 26  out of  300\n",
            "New Test ROC AUC=0.8275288452571702\n",
            "Full dataset ROC AUC=0.82753732292276\n",
            "Drop in ROC AUC=8.477665589867733e-06\n",
            "remove:  var_213\n",
            "\n",
            "testing feature:  var_211 27  out of  300\n",
            "New Test ROC AUC=0.8275112117127428\n",
            "Full dataset ROC AUC=0.8275288452571702\n",
            "Drop in ROC AUC=1.7633544427408943e-05\n",
            "remove:  var_211\n",
            "\n",
            "testing feature:  var_210 28  out of  300\n",
            "New Test ROC AUC=0.8275783548242156\n",
            "Full dataset ROC AUC=0.8275112117127428\n",
            "Drop in ROC AUC=-6.71431114728227e-05\n",
            "remove:  var_210\n",
            "\n",
            "testing feature:  var_209 29  out of  300\n",
            "New Test ROC AUC=0.8275122290326137\n",
            "Full dataset ROC AUC=0.8275783548242156\n",
            "Drop in ROC AUC=6.612579160192311e-05\n",
            "remove:  var_209\n",
            "\n",
            "testing feature:  var_207 30  out of  300\n",
            "New Test ROC AUC=0.8275122290326137\n",
            "Full dataset ROC AUC=0.8275122290326137\n",
            "Drop in ROC AUC=0.0\n",
            "remove:  var_207\n",
            "\n",
            "testing feature:  var_206 31  out of  300\n",
            "New Test ROC AUC=0.8275465918371384\n",
            "Full dataset ROC AUC=0.8275122290326137\n",
            "Drop in ROC AUC=-3.4362804524734614e-05\n",
            "remove:  var_206\n",
            "\n",
            "testing feature:  var_205 32  out of  300\n",
            "New Test ROC AUC=0.827444633778976\n",
            "Full dataset ROC AUC=0.8275465918371384\n",
            "Drop in ROC AUC=0.00010195805816237691\n",
            "remove:  var_205\n",
            "\n",
            "testing feature:  var_212 33  out of  300\n",
            "New Test ROC AUC=0.8275410530956195\n",
            "Full dataset ROC AUC=0.827444633778976\n",
            "Drop in ROC AUC=-9.641931664350345e-05\n",
            "remove:  var_212\n",
            "\n",
            "testing feature:  var_183 34  out of  300\n",
            "New Test ROC AUC=0.8275178808096736\n",
            "Full dataset ROC AUC=0.8275410530956195\n",
            "Drop in ROC AUC=2.3172285945949334e-05\n",
            "remove:  var_183\n",
            "\n",
            "testing feature:  var_182 35  out of  300\n",
            "New Test ROC AUC=0.8275125681392371\n",
            "Full dataset ROC AUC=0.8275178808096736\n",
            "Drop in ROC AUC=5.312670436463662e-06\n",
            "remove:  var_182\n",
            "\n",
            "testing feature:  var_181 36  out of  300\n",
            "New Test ROC AUC=0.8275226283024042\n",
            "Full dataset ROC AUC=0.8275125681392371\n",
            "Drop in ROC AUC=-1.006016316706937e-05\n",
            "remove:  var_181\n",
            "\n",
            "testing feature:  var_160 37  out of  300\n",
            "New Test ROC AUC=0.8274996820875404\n",
            "Full dataset ROC AUC=0.8275226283024042\n",
            "Drop in ROC AUC=2.2946214863761583e-05\n",
            "remove:  var_160\n",
            "\n",
            "testing feature:  var_159 38  out of  300\n",
            "New Test ROC AUC=0.8274773010503828\n",
            "Full dataset ROC AUC=0.8274996820875404\n",
            "Drop in ROC AUC=2.2381037157681583e-05\n",
            "remove:  var_159\n",
            "\n",
            "testing feature:  var_158 39  out of  300\n",
            "New Test ROC AUC=0.8274545809066015\n",
            "Full dataset ROC AUC=0.8274773010503828\n",
            "Drop in ROC AUC=2.2720143781240765e-05\n",
            "remove:  var_158\n",
            "\n",
            "testing feature:  var_156 40  out of  300\n",
            "New Test ROC AUC=0.8275686337676724\n",
            "Full dataset ROC AUC=0.8274545809066015\n",
            "Drop in ROC AUC=-0.00011405286107091239\n",
            "remove:  var_156\n",
            "\n",
            "testing feature:  var_155 41  out of  300\n",
            "New Test ROC AUC=0.8275069163621772\n",
            "Full dataset ROC AUC=0.8275686337676724\n",
            "Drop in ROC AUC=6.171740549520965e-05\n",
            "remove:  var_155\n",
            "\n",
            "testing feature:  var_154 42  out of  300\n",
            "New Test ROC AUC=0.8275288452571702\n",
            "Full dataset ROC AUC=0.8275069163621772\n",
            "Drop in ROC AUC=-2.1928894992973014e-05\n",
            "remove:  var_154\n",
            "\n",
            "testing feature:  var_161 43  out of  300\n",
            "New Test ROC AUC=0.8274968561990106\n",
            "Full dataset ROC AUC=0.8275288452571702\n",
            "Drop in ROC AUC=3.1989058159598294e-05\n",
            "remove:  var_161\n",
            "\n",
            "testing feature:  var_153 44  out of  300\n",
            "New Test ROC AUC=0.8275315581101588\n",
            "Full dataset ROC AUC=0.8274968561990106\n",
            "Drop in ROC AUC=-3.4701911148182774e-05\n",
            "remove:  var_153\n",
            "\n",
            "testing feature:  var_151 45  out of  300\n",
            "New Test ROC AUC=0.827531105967994\n",
            "Full dataset ROC AUC=0.8275315581101588\n",
            "Drop in ROC AUC=4.5214216481959113e-07\n",
            "remove:  var_151\n",
            "\n",
            "testing feature:  var_299 46  out of  300\n",
            "New Test ROC AUC=0.8275188981295444\n",
            "Full dataset ROC AUC=0.827531105967994\n",
            "Drop in ROC AUC=1.2207838449573849e-05\n",
            "remove:  var_299\n",
            "\n",
            "testing feature:  var_149 47  out of  300\n",
            "New Test ROC AUC=0.8275404879179136\n",
            "Full dataset ROC AUC=0.8275188981295444\n",
            "Drop in ROC AUC=-2.1589788369191787e-05\n",
            "remove:  var_149\n",
            "\n",
            "testing feature:  var_148 48  out of  300\n",
            "New Test ROC AUC=0.8275410530956195\n",
            "Full dataset ROC AUC=0.8275404879179136\n",
            "Drop in ROC AUC=-5.651777059689778e-07\n",
            "remove:  var_148\n",
            "\n",
            "testing feature:  var_147 49  out of  300\n",
            "New Test ROC AUC=0.8275363056028894\n",
            "Full dataset ROC AUC=0.8275410530956195\n",
            "Drop in ROC AUC=4.747492730161618e-06\n",
            "remove:  var_147\n",
            "\n",
            "testing feature:  var_146 50  out of  300\n",
            "New Test ROC AUC=0.8275945189066073\n",
            "Full dataset ROC AUC=0.8275363056028894\n",
            "Drop in ROC AUC=-5.8213303717913334e-05\n",
            "remove:  var_146\n",
            "\n",
            "testing feature:  var_152 51  out of  300\n",
            "New Test ROC AUC=0.8274662235673451\n",
            "Full dataset ROC AUC=0.8275945189066073\n",
            "Drop in ROC AUC=0.0001282953392621744\n",
            "remove:  var_152\n",
            "\n",
            "testing feature:  var_221 52  out of  300\n",
            "New Test ROC AUC=0.8275066902910948\n",
            "Full dataset ROC AUC=0.8274662235673451\n",
            "Drop in ROC AUC=-4.046672374968807e-05\n",
            "remove:  var_221\n",
            "\n",
            "testing feature:  var_162 53  out of  300\n",
            "New Test ROC AUC=0.8274766228371355\n",
            "Full dataset ROC AUC=0.8275066902910948\n",
            "Drop in ROC AUC=3.0067453959281565e-05\n",
            "remove:  var_162\n",
            "\n",
            "testing feature:  var_164 54  out of  300\n",
            "New Test ROC AUC=0.8275165243831792\n",
            "Full dataset ROC AUC=0.8274766228371355\n",
            "Drop in ROC AUC=-3.9901546043719094e-05\n",
            "remove:  var_164\n",
            "\n",
            "testing feature:  var_180 55  out of  300\n",
            "New Test ROC AUC=0.8275244368710633\n",
            "Full dataset ROC AUC=0.8275165243831792\n",
            "Drop in ROC AUC=-7.912487884009778e-06\n",
            "remove:  var_180\n",
            "\n",
            "testing feature:  var_179 56  out of  300\n",
            "New Test ROC AUC=0.8274982126255048\n",
            "Full dataset ROC AUC=0.8275244368710633\n",
            "Drop in ROC AUC=2.6224245558426063e-05\n",
            "remove:  var_179\n",
            "\n",
            "testing feature:  var_178 57  out of  300\n",
            "New Test ROC AUC=0.8275982490794668\n",
            "Full dataset ROC AUC=0.8274982126255048\n",
            "Drop in ROC AUC=-0.00010003645396194916\n",
            "remove:  var_178\n",
            "\n",
            "testing feature:  var_177 58  out of  300\n",
            "New Test ROC AUC=0.8275505480810805\n",
            "Full dataset ROC AUC=0.8275982490794668\n",
            "Drop in ROC AUC=4.770099838624642e-05\n",
            "remove:  var_177\n",
            "\n",
            "testing feature:  var_176 59  out of  300\n",
            "New Test ROC AUC=0.8275419573799494\n",
            "Full dataset ROC AUC=0.8275505480810805\n",
            "Drop in ROC AUC=8.590701131128142e-06\n",
            "remove:  var_176\n",
            "\n",
            "testing feature:  var_175 60  out of  300\n",
            "New Test ROC AUC=0.827510194392872\n",
            "Full dataset ROC AUC=0.8275419573799494\n",
            "Drop in ROC AUC=3.176298707741054e-05\n",
            "remove:  var_175\n",
            "\n",
            "testing feature:  var_163 61  out of  300\n",
            "New Test ROC AUC=0.8274558242975547\n",
            "Full dataset ROC AUC=0.827510194392872\n",
            "Drop in ROC AUC=5.4370095317279876e-05\n",
            "remove:  var_163\n",
            "\n",
            "testing feature:  var_174 62  out of  300\n",
            "New Test ROC AUC=0.8275430877353611\n",
            "Full dataset ROC AUC=0.8274558242975547\n",
            "Drop in ROC AUC=-8.726343780640633e-05\n",
            "remove:  var_174\n",
            "\n",
            "testing feature:  var_171 63  out of  300\n",
            "New Test ROC AUC=0.827505107793518\n",
            "Full dataset ROC AUC=0.8275430877353611\n",
            "Drop in ROC AUC=3.79799418430693e-05\n",
            "remove:  var_171\n",
            "\n",
            "testing feature:  var_170 64  out of  300\n",
            "New Test ROC AUC=0.8274944824526451\n",
            "Full dataset ROC AUC=0.827505107793518\n",
            "Drop in ROC AUC=1.0625340872927325e-05\n",
            "remove:  var_170\n",
            "\n",
            "testing feature:  var_169 65  out of  300\n",
            "New Test ROC AUC=0.8275408270245374\n",
            "Full dataset ROC AUC=0.8274944824526451\n",
            "Drop in ROC AUC=-4.6344571892231734e-05\n",
            "remove:  var_169\n",
            "\n",
            "testing feature:  var_168 66  out of  300\n",
            "New Test ROC AUC=0.8275415052377845\n",
            "Full dataset ROC AUC=0.8275408270245374\n",
            "Drop in ROC AUC=-6.782132471183644e-07\n",
            "remove:  var_168\n",
            "\n",
            "testing feature:  var_167 67  out of  300\n",
            "New Test ROC AUC=0.827498325661046\n",
            "Full dataset ROC AUC=0.8275415052377845\n",
            "Drop in ROC AUC=4.3179576738494596e-05\n",
            "remove:  var_167\n",
            "\n",
            "testing feature:  var_165 68  out of  300\n",
            "New Test ROC AUC=0.8275309929324527\n",
            "Full dataset ROC AUC=0.827498325661046\n",
            "Drop in ROC AUC=-3.266727140671666e-05\n",
            "remove:  var_165\n",
            "\n",
            "testing feature:  var_172 69  out of  300\n",
            "New Test ROC AUC=0.8274901871020796\n",
            "Full dataset ROC AUC=0.8275309929324527\n",
            "Drop in ROC AUC=4.080583037313623e-05\n",
            "remove:  var_172\n",
            "\n",
            "testing feature:  var_144 70  out of  300\n",
            "New Test ROC AUC=0.8275504350455392\n",
            "Full dataset ROC AUC=0.8274901871020796\n",
            "Drop in ROC AUC=-6.0247943459601494e-05\n",
            "remove:  var_144\n",
            "\n",
            "testing feature:  var_223 71  out of  300\n",
            "New Test ROC AUC=0.8275332536432768\n",
            "Full dataset ROC AUC=0.8275504350455392\n",
            "Drop in ROC AUC=1.7181402262367307e-05\n",
            "remove:  var_223\n",
            "\n",
            "testing feature:  var_225 72  out of  300\n",
            "New Test ROC AUC=0.8274973083411752\n",
            "Full dataset ROC AUC=0.8275332536432768\n",
            "Drop in ROC AUC=3.594530210160318e-05\n",
            "remove:  var_225\n",
            "\n",
            "testing feature:  var_266 73  out of  300\n",
            "New Test ROC AUC=0.8275571041424701\n",
            "Full dataset ROC AUC=0.8274973083411752\n",
            "Drop in ROC AUC=-5.9795801294892925e-05\n",
            "remove:  var_266\n",
            "\n",
            "testing feature:  var_267 74  out of  300\n",
            "New Test ROC AUC=0.8275001342297053\n",
            "Full dataset ROC AUC=0.8275571041424701\n",
            "Drop in ROC AUC=5.696991276482599e-05\n",
            "remove:  var_267\n",
            "\n",
            "testing feature:  var_268 75  out of  300\n",
            "New Test ROC AUC=0.8275395836335839\n",
            "Full dataset ROC AUC=0.8275001342297053\n",
            "Drop in ROC AUC=-3.944940387867746e-05\n",
            "remove:  var_268\n",
            "\n",
            "testing feature:  var_269 76  out of  300\n",
            "New Test ROC AUC=0.8274119665075693\n",
            "Full dataset ROC AUC=0.8275395836335839\n",
            "Drop in ROC AUC=0.00012761712601461195\n",
            "remove:  var_269\n",
            "\n",
            "testing feature:  var_270 77  out of  300\n",
            "New Test ROC AUC=0.8274945954881865\n",
            "Full dataset ROC AUC=0.8274119665075693\n",
            "Drop in ROC AUC=-8.262898061717205e-05\n",
            "remove:  var_270\n",
            "\n",
            "testing feature:  var_272 78  out of  300\n",
            "New Test ROC AUC=0.8275188981295444\n",
            "Full dataset ROC AUC=0.8274945954881865\n",
            "Drop in ROC AUC=-2.430264135788729e-05\n",
            "remove:  var_272\n",
            "\n",
            "testing feature:  var_273 79  out of  300\n",
            "New Test ROC AUC=0.8274562764397195\n",
            "Full dataset ROC AUC=0.8275188981295444\n",
            "Drop in ROC AUC=6.262168982484884e-05\n",
            "remove:  var_273\n",
            "\n",
            "testing feature:  var_274 80  out of  300\n",
            "New Test ROC AUC=0.8275392445269605\n",
            "Full dataset ROC AUC=0.8274562764397195\n",
            "Drop in ROC AUC=-8.296808724095328e-05\n",
            "remove:  var_274\n",
            "\n",
            "testing feature:  var_275 81  out of  300\n",
            "New Test ROC AUC=0.8275079336820479\n",
            "Full dataset ROC AUC=0.8275392445269605\n",
            "Drop in ROC AUC=3.131084491259095e-05\n",
            "remove:  var_275\n",
            "\n",
            "testing feature:  var_276 82  out of  300\n",
            "New Test ROC AUC=0.8274760576594297\n",
            "Full dataset ROC AUC=0.8275079336820479\n",
            "Drop in ROC AUC=3.187602261822686e-05\n",
            "remove:  var_276\n",
            "\n",
            "testing feature:  var_277 83  out of  300\n",
            "New Test ROC AUC=0.8275595909243765\n",
            "Full dataset ROC AUC=0.8274760576594297\n",
            "Drop in ROC AUC=-8.353326494681124e-05\n",
            "remove:  var_277\n",
            "\n",
            "testing feature:  var_278 84  out of  300\n",
            "New Test ROC AUC=0.8275416182733257\n",
            "Full dataset ROC AUC=0.8275595909243765\n",
            "Drop in ROC AUC=1.797265105074608e-05\n",
            "remove:  var_278\n",
            "\n",
            "testing feature:  var_279 85  out of  300\n",
            "New Test ROC AUC=0.827532688465571\n",
            "Full dataset ROC AUC=0.8275416182733257\n",
            "Drop in ROC AUC=8.929807754687324e-06\n",
            "remove:  var_279\n",
            "\n",
            "testing feature:  var_280 86  out of  300\n",
            "New Test ROC AUC=0.8275420704154904\n",
            "Full dataset ROC AUC=0.827532688465571\n",
            "Drop in ROC AUC=-9.381949919395893e-06\n",
            "remove:  var_280\n",
            "\n",
            "testing feature:  var_281 87  out of  300\n",
            "New Test ROC AUC=0.8275332536432768\n",
            "Full dataset ROC AUC=0.8275420704154904\n",
            "Drop in ROC AUC=8.81677221364896e-06\n",
            "remove:  var_281\n",
            "\n",
            "testing feature:  var_282 88  out of  300\n",
            "New Test ROC AUC=0.8275460266594324\n",
            "Full dataset ROC AUC=0.8275332536432768\n",
            "Drop in ROC AUC=-1.2773016155653849e-05\n",
            "remove:  var_282\n",
            "\n",
            "testing feature:  var_283 89  out of  300\n",
            "New Test ROC AUC=0.8275511132587864\n",
            "Full dataset ROC AUC=0.8275460266594324\n",
            "Drop in ROC AUC=-5.0865993539428445e-06\n",
            "remove:  var_283\n",
            "\n",
            "testing feature:  var_298 90  out of  300\n",
            "New Test ROC AUC=0.8275188981295444\n",
            "Full dataset ROC AUC=0.8275511132587864\n",
            "Drop in ROC AUC=3.221512924200809e-05\n",
            "remove:  var_298\n",
            "\n",
            "testing feature:  var_297 91  out of  300\n",
            "New Test ROC AUC=0.8274852135382669\n",
            "Full dataset ROC AUC=0.8275188981295444\n",
            "Drop in ROC AUC=3.368459127750523e-05\n",
            "remove:  var_297\n",
            "\n",
            "testing feature:  var_295 92  out of  300\n",
            "New Test ROC AUC=0.8274954997725161\n",
            "Full dataset ROC AUC=0.8274852135382669\n",
            "Drop in ROC AUC=-1.028623424925712e-05\n",
            "remove:  var_295\n",
            "\n",
            "testing feature:  var_294 93  out of  300\n",
            "New Test ROC AUC=0.8274663366028863\n",
            "Full dataset ROC AUC=0.8274954997725161\n",
            "Drop in ROC AUC=2.9163169629864427e-05\n",
            "remove:  var_294\n",
            "\n",
            "testing feature:  var_293 94  out of  300\n",
            "New Test ROC AUC=0.8275526957563634\n",
            "Full dataset ROC AUC=0.8274663366028863\n",
            "Drop in ROC AUC=-8.635915347710021e-05\n",
            "remove:  var_293\n",
            "\n",
            "testing feature:  var_292 95  out of  300\n",
            "New Test ROC AUC=0.8275156200988496\n",
            "Full dataset ROC AUC=0.8275526957563634\n",
            "Drop in ROC AUC=3.707565751376318e-05\n",
            "remove:  var_292\n",
            "\n",
            "testing feature:  var_265 96  out of  300\n",
            "New Test ROC AUC=0.8274685973137104\n",
            "Full dataset ROC AUC=0.8275156200988496\n",
            "Drop in ROC AUC=4.7022785139239076e-05\n",
            "remove:  var_265\n",
            "\n",
            "testing feature:  var_291 97  out of  300\n",
            "New Test ROC AUC=0.8275193502717092\n",
            "Full dataset ROC AUC=0.8274685973137104\n",
            "Drop in ROC AUC=-5.075295799883417e-05\n",
            "remove:  var_291\n",
            "\n",
            "testing feature:  var_289 98  out of  300\n",
            "New Test ROC AUC=0.8274653192830156\n",
            "Full dataset ROC AUC=0.8275193502717092\n",
            "Drop in ROC AUC=5.403098869360967e-05\n",
            "remove:  var_289\n",
            "\n",
            "testing feature:  var_288 99  out of  300\n",
            "New Test ROC AUC=0.8275213849114508\n",
            "Full dataset ROC AUC=0.8274653192830156\n",
            "Drop in ROC AUC=-5.606562843518681e-05\n",
            "remove:  var_288\n",
            "\n",
            "testing feature:  var_287 100  out of  300\n",
            "New Test ROC AUC=0.8275493046901274\n",
            "Full dataset ROC AUC=0.8275213849114508\n",
            "Drop in ROC AUC=-2.7919778676666063e-05\n",
            "remove:  var_287\n",
            "\n",
            "testing feature:  var_286 101  out of  300\n",
            "New Test ROC AUC=0.8275263584752637\n",
            "Full dataset ROC AUC=0.8275493046901274\n",
            "Drop in ROC AUC=2.2946214863761583e-05\n",
            "remove:  var_286\n",
            "\n",
            "testing feature:  var_285 102  out of  300\n",
            "New Test ROC AUC=0.8275563128936816\n",
            "Full dataset ROC AUC=0.8275263584752637\n",
            "Drop in ROC AUC=-2.9954418417910134e-05\n",
            "remove:  var_285\n",
            "\n",
            "testing feature:  var_284 103  out of  300\n",
            "New Test ROC AUC=0.827555295573811\n",
            "Full dataset ROC AUC=0.8275563128936816\n",
            "Drop in ROC AUC=1.0173198705665243e-06\n",
            "remove:  var_284\n",
            "\n",
            "testing feature:  var_290 104  out of  300\n",
            "New Test ROC AUC=0.8274978735188812\n",
            "Full dataset ROC AUC=0.827555295573811\n",
            "Drop in ROC AUC=5.742205492986763e-05\n",
            "remove:  var_290\n",
            "\n",
            "testing feature:  var_264 105  out of  300\n",
            "New Test ROC AUC=0.827550887187704\n",
            "Full dataset ROC AUC=0.8274978735188812\n",
            "Drop in ROC AUC=-5.30136688228211e-05\n",
            "remove:  var_264\n",
            "\n",
            "testing feature:  var_263 106  out of  300\n",
            "New Test ROC AUC=0.8275272627595932\n",
            "Full dataset ROC AUC=0.827550887187704\n",
            "Drop in ROC AUC=2.3624428110768925e-05\n",
            "remove:  var_263\n",
            "\n",
            "testing feature:  var_261 107  out of  300\n",
            "New Test ROC AUC=0.8274553721553899\n",
            "Full dataset ROC AUC=0.8275272627595932\n",
            "Drop in ROC AUC=7.189060420331739e-05\n",
            "remove:  var_261\n",
            "\n",
            "testing feature:  var_240 108  out of  300\n",
            "New Test ROC AUC=0.827454806977684\n",
            "Full dataset ROC AUC=0.8274553721553899\n",
            "Drop in ROC AUC=5.651777058579555e-07\n",
            "remove:  var_240\n",
            "\n",
            "testing feature:  var_239 109  out of  300\n",
            "New Test ROC AUC=0.8275442180907733\n",
            "Full dataset ROC AUC=0.827454806977684\n",
            "Drop in ROC AUC=-8.941111308924388e-05\n",
            "remove:  var_239\n",
            "\n",
            "testing feature:  var_238 110  out of  300\n",
            "New Test ROC AUC=0.8275435398775259\n",
            "Full dataset ROC AUC=0.8275442180907733\n",
            "Drop in ROC AUC=6.78213247340409e-07\n",
            "remove:  var_238\n",
            "\n",
            "testing feature:  var_237 111  out of  300\n",
            "New Test ROC AUC=0.8274588762571673\n",
            "Full dataset ROC AUC=0.8275435398775259\n",
            "Drop in ROC AUC=8.466362035863817e-05\n",
            "remove:  var_237\n",
            "\n",
            "testing feature:  var_236 112  out of  300\n",
            "New Test ROC AUC=0.8275082727886716\n",
            "Full dataset ROC AUC=0.8274588762571673\n",
            "Drop in ROC AUC=-4.9396531504264374e-05\n",
            "remove:  var_236\n",
            "\n",
            "testing feature:  var_235 113  out of  300\n",
            "New Test ROC AUC=0.8275595909243764\n",
            "Full dataset ROC AUC=0.8275082727886716\n",
            "Drop in ROC AUC=-5.131813570480315e-05\n",
            "remove:  var_235\n",
            "\n",
            "testing feature:  var_241 114  out of  300\n",
            "New Test ROC AUC=0.8274499464494125\n",
            "Full dataset ROC AUC=0.8275595909243764\n",
            "Drop in ROC AUC=0.00010964447496386587\n",
            "remove:  var_241\n",
            "\n",
            "testing feature:  var_234 115  out of  300\n",
            "New Test ROC AUC=0.8275558607515168\n",
            "Full dataset ROC AUC=0.8274499464494125\n",
            "Drop in ROC AUC=-0.00010591430210427077\n",
            "remove:  var_234\n",
            "\n",
            "testing feature:  var_232 116  out of  300\n",
            "New Test ROC AUC=0.8275415052377844\n",
            "Full dataset ROC AUC=0.8275558607515168\n",
            "Drop in ROC AUC=1.4355513732411396e-05\n",
            "remove:  var_232\n",
            "\n",
            "testing feature:  var_230 117  out of  300\n",
            "New Test ROC AUC=0.8275302016836644\n",
            "Full dataset ROC AUC=0.8275415052377844\n",
            "Drop in ROC AUC=1.1303554119934667e-05\n",
            "remove:  var_230\n",
            "\n",
            "testing feature:  var_229 118  out of  300\n",
            "New Test ROC AUC=0.8275415052377844\n",
            "Full dataset ROC AUC=0.8275302016836644\n",
            "Drop in ROC AUC=-1.1303554119934667e-05\n",
            "remove:  var_229\n",
            "\n",
            "testing feature:  var_228 119  out of  300\n",
            "New Test ROC AUC=0.8275079336820479\n",
            "Full dataset ROC AUC=0.8275415052377844\n",
            "Drop in ROC AUC=3.357155573646686e-05\n",
            "remove:  var_228\n",
            "\n",
            "testing feature:  var_227 120  out of  300\n",
            "New Test ROC AUC=0.8275597039599177\n",
            "Full dataset ROC AUC=0.8275079336820479\n",
            "Drop in ROC AUC=-5.177027786984478e-05\n",
            "remove:  var_227\n",
            "\n",
            "testing feature:  var_226 121  out of  300\n",
            "New Test ROC AUC=0.827533931856524\n",
            "Full dataset ROC AUC=0.8275597039599177\n",
            "Drop in ROC AUC=2.5772103393717494e-05\n",
            "remove:  var_226\n",
            "\n",
            "testing feature:  var_233 122  out of  300\n",
            "New Test ROC AUC=0.8274588762571673\n",
            "Full dataset ROC AUC=0.827533931856524\n",
            "Drop in ROC AUC=7.505559935672146e-05\n",
            "remove:  var_233\n",
            "\n",
            "testing feature:  var_224 123  out of  300\n",
            "New Test ROC AUC=0.8274799008678304\n",
            "Full dataset ROC AUC=0.8274588762571673\n",
            "Drop in ROC AUC=-2.1024610663111787e-05\n",
            "remove:  var_224\n",
            "\n",
            "testing feature:  var_242 124  out of  300\n",
            "New Test ROC AUC=0.8275618516352004\n",
            "Full dataset ROC AUC=0.8274799008678304\n",
            "Drop in ROC AUC=-8.195076736994267e-05\n",
            "remove:  var_242\n",
            "\n",
            "testing feature:  var_245 125  out of  300\n",
            "New Test ROC AUC=0.8275187850940033\n",
            "Full dataset ROC AUC=0.8275618516352004\n",
            "Drop in ROC AUC=4.306654119701214e-05\n",
            "remove:  var_245\n",
            "\n",
            "testing feature:  var_260 126  out of  300\n",
            "New Test ROC AUC=0.8275092901085424\n",
            "Full dataset ROC AUC=0.8275187850940033\n",
            "Drop in ROC AUC=9.494985460989369e-06\n",
            "remove:  var_260\n",
            "\n",
            "testing feature:  var_259 127  out of  300\n",
            "New Test ROC AUC=0.8274732317708996\n",
            "Full dataset ROC AUC=0.8275092901085424\n",
            "Drop in ROC AUC=3.605833764275257e-05\n",
            "remove:  var_259\n",
            "\n",
            "testing feature:  var_258 128  out of  300\n",
            "New Test ROC AUC=0.8274655453540979\n",
            "Full dataset ROC AUC=0.8274732317708996\n",
            "Drop in ROC AUC=7.686416801711005e-06\n",
            "remove:  var_258\n",
            "\n",
            "testing feature:  var_257 129  out of  300\n",
            "New Test ROC AUC=0.8275365316739716\n",
            "Full dataset ROC AUC=0.8274655453540979\n",
            "Drop in ROC AUC=-7.09863198736782e-05\n",
            "remove:  var_257\n",
            "\n",
            "testing feature:  var_256 130  out of  300\n",
            "New Test ROC AUC=0.8275175417030501\n",
            "Full dataset ROC AUC=0.8275365316739716\n",
            "Drop in ROC AUC=1.8989970921423627e-05\n",
            "remove:  var_256\n",
            "\n",
            "testing feature:  var_255 131  out of  300\n",
            "New Test ROC AUC=0.8274976474477989\n",
            "Full dataset ROC AUC=0.8275175417030501\n",
            "Drop in ROC AUC=1.9894255251284854e-05\n",
            "remove:  var_255\n",
            "\n",
            "testing feature:  var_243 132  out of  300\n",
            "New Test ROC AUC=0.8275520175431159\n",
            "Full dataset ROC AUC=0.8274976474477989\n",
            "Drop in ROC AUC=-5.437009531705783e-05\n",
            "remove:  var_243\n",
            "\n",
            "testing feature:  var_254 133  out of  300\n",
            "New Test ROC AUC=0.8275108726061192\n",
            "Full dataset ROC AUC=0.8275520175431159\n",
            "Drop in ROC AUC=4.1144936996695414e-05\n",
            "remove:  var_254\n",
            "\n",
            "testing feature:  var_252 134  out of  300\n",
            "New Test ROC AUC=0.8275116638549076\n",
            "Full dataset ROC AUC=0.8275108726061192\n",
            "Drop in ROC AUC=-7.912487883787733e-07\n",
            "remove:  var_252\n",
            "\n",
            "testing feature:  var_251 135  out of  300\n",
            "New Test ROC AUC=0.827530540790288\n",
            "Full dataset ROC AUC=0.8275116638549076\n",
            "Drop in ROC AUC=-1.8876935380385262e-05\n",
            "remove:  var_251\n",
            "\n",
            "testing feature:  var_250 136  out of  300\n",
            "New Test ROC AUC=0.827596101404184\n",
            "Full dataset ROC AUC=0.827530540790288\n",
            "Drop in ROC AUC=-6.556061389606516e-05\n",
            "remove:  var_250\n",
            "\n",
            "testing feature:  var_249 137  out of  300\n",
            "New Test ROC AUC=0.8275426355931965\n",
            "Full dataset ROC AUC=0.827596101404184\n",
            "Drop in ROC AUC=5.346581098752967e-05\n",
            "remove:  var_249\n",
            "\n",
            "testing feature:  var_248 138  out of  300\n",
            "New Test ROC AUC=0.8275581214623409\n",
            "Full dataset ROC AUC=0.8275426355931965\n",
            "Drop in ROC AUC=-1.548586914434935e-05\n",
            "remove:  var_248\n",
            "\n",
            "testing feature:  var_247 139  out of  300\n",
            "New Test ROC AUC=0.8274968561990104\n",
            "Full dataset ROC AUC=0.8275581214623409\n",
            "Drop in ROC AUC=6.126526333050109e-05\n",
            "remove:  var_247\n",
            "\n",
            "testing feature:  var_253 140  out of  300\n",
            "New Test ROC AUC=0.8274854396093493\n",
            "Full dataset ROC AUC=0.8274968561990104\n",
            "Drop in ROC AUC=1.1416589661084053e-05\n",
            "remove:  var_253\n",
            "\n",
            "testing feature:  var_143 141  out of  300\n",
            "New Test ROC AUC=0.8274872481780084\n",
            "Full dataset ROC AUC=0.8274854396093493\n",
            "Drop in ROC AUC=-1.8085686591673422e-06\n",
            "remove:  var_143\n",
            "\n",
            "testing feature:  var_150 142  out of  300\n",
            "New Test ROC AUC=0.8274659974962628\n",
            "Full dataset ROC AUC=0.8274872481780084\n",
            "Drop in ROC AUC=2.1250681745632605e-05\n",
            "remove:  var_150\n",
            "\n",
            "testing feature:  var_141 143  out of  300\n",
            "New Test ROC AUC=0.827490978350868\n",
            "Full dataset ROC AUC=0.8274659974962628\n",
            "Drop in ROC AUC=-2.4980854605227698e-05\n",
            "remove:  var_141\n",
            "\n",
            "testing feature:  var_43 144  out of  300\n",
            "New Test ROC AUC=0.8275610603864121\n",
            "Full dataset ROC AUC=0.827490978350868\n",
            "Drop in ROC AUC=-7.008203554403902e-05\n",
            "remove:  var_43\n",
            "\n",
            "testing feature:  var_44 145  out of  300\n",
            "New Test ROC AUC=0.8274522071602364\n",
            "Full dataset ROC AUC=0.8275610603864121\n",
            "Drop in ROC AUC=0.00010885322617570914\n",
            "remove:  var_44\n",
            "\n",
            "testing feature:  var_45 146  out of  300\n",
            "New Test ROC AUC=0.8275056729712241\n",
            "Full dataset ROC AUC=0.8274522071602364\n",
            "Drop in ROC AUC=-5.3465810987751716e-05\n",
            "remove:  var_45\n",
            "\n",
            "testing feature:  var_47 147  out of  300\n",
            "New Test ROC AUC=0.8274872481780084\n",
            "Full dataset ROC AUC=0.8275056729712241\n",
            "Drop in ROC AUC=1.8424793215676694e-05\n",
            "remove:  var_47\n",
            "\n",
            "testing feature:  var_48 148  out of  300\n",
            "New Test ROC AUC=0.8274376255754217\n",
            "Full dataset ROC AUC=0.8274872481780084\n",
            "Drop in ROC AUC=4.962260258678519e-05\n",
            "remove:  var_48\n",
            "\n",
            "testing feature:  var_51 149  out of  300\n",
            "New Test ROC AUC=0.827464980176392\n",
            "Full dataset ROC AUC=0.8274376255754217\n",
            "Drop in ROC AUC=-2.7354600970364018e-05\n",
            "remove:  var_51\n",
            "\n",
            "testing feature:  var_52 150  out of  300\n",
            "New Test ROC AUC=0.8274889437111265\n",
            "Full dataset ROC AUC=0.827464980176392\n",
            "Drop in ROC AUC=-2.396353473443913e-05\n",
            "remove:  var_52\n",
            "\n",
            "testing feature:  var_53 151  out of  300\n",
            "New Test ROC AUC=0.8274336693314795\n",
            "Full dataset ROC AUC=0.8274889437111265\n",
            "Drop in ROC AUC=5.527437964691906e-05\n",
            "remove:  var_53\n",
            "\n",
            "testing feature:  var_54 152  out of  300\n",
            "New Test ROC AUC=0.8275801633928749\n",
            "Full dataset ROC AUC=0.8274336693314795\n",
            "Drop in ROC AUC=-0.00014649406139533028\n",
            "remove:  var_54\n",
            "\n",
            "testing feature:  var_55 153  out of  300\n",
            "New Test ROC AUC=0.8274543548355191\n",
            "Full dataset ROC AUC=0.8275801633928749\n",
            "Drop in ROC AUC=0.00012580855735577767\n",
            "remove:  var_55\n",
            "\n",
            "testing feature:  var_56 154  out of  300\n",
            "New Test ROC AUC=0.827530540790288\n",
            "Full dataset ROC AUC=0.8274543548355191\n",
            "Drop in ROC AUC=-7.618595476888146e-05\n",
            "remove:  var_56\n",
            "\n",
            "testing feature:  var_57 155  out of  300\n",
            "New Test ROC AUC=0.8275071424332595\n",
            "Full dataset ROC AUC=0.827530540790288\n",
            "Drop in ROC AUC=2.339835702847015e-05\n",
            "remove:  var_57\n",
            "\n",
            "testing feature:  var_58 156  out of  300\n",
            "New Test ROC AUC=0.8274629455366502\n",
            "Full dataset ROC AUC=0.8275071424332595\n",
            "Drop in ROC AUC=4.4196896609283165e-05\n",
            "remove:  var_58\n",
            "\n",
            "testing feature:  var_59 157  out of  300\n",
            "New Test ROC AUC=0.8274533375156485\n",
            "Full dataset ROC AUC=0.8274629455366502\n",
            "Drop in ROC AUC=9.608021001694667e-06\n",
            "remove:  var_59\n",
            "\n",
            "testing feature:  var_60 158  out of  300\n",
            "New Test ROC AUC=0.8275126811747784\n",
            "Full dataset ROC AUC=0.8274533375156485\n",
            "Drop in ROC AUC=-5.934365912985129e-05\n",
            "remove:  var_60\n",
            "\n",
            "testing feature:  var_61 159  out of  300\n",
            "New Test ROC AUC=0.8274947085237276\n",
            "Full dataset ROC AUC=0.8275126811747784\n",
            "Drop in ROC AUC=1.797265105074608e-05\n",
            "remove:  var_61\n",
            "\n",
            "testing feature:  var_62 160  out of  300\n",
            "New Test ROC AUC=0.8274907522797856\n",
            "Full dataset ROC AUC=0.8274947085237276\n",
            "Drop in ROC AUC=3.956243942004889e-06\n",
            "remove:  var_62\n",
            "\n",
            "testing feature:  var_77 161  out of  300\n",
            "New Test ROC AUC=0.8275069163621772\n",
            "Full dataset ROC AUC=0.8274907522797856\n",
            "Drop in ROC AUC=-1.6164082391578738e-05\n",
            "remove:  var_77\n",
            "\n",
            "testing feature:  var_76 162  out of  300\n",
            "New Test ROC AUC=0.8275448963040204\n",
            "Full dataset ROC AUC=0.8275069163621772\n",
            "Drop in ROC AUC=-3.797994184318032e-05\n",
            "remove:  var_76\n",
            "\n",
            "testing feature:  var_74 163  out of  300\n",
            "New Test ROC AUC=0.8275281670439228\n",
            "Full dataset ROC AUC=0.8275448963040204\n",
            "Drop in ROC AUC=1.6729260097547716e-05\n",
            "remove:  var_74\n",
            "\n",
            "testing feature:  var_73 164  out of  300\n",
            "New Test ROC AUC=0.8275320102523237\n",
            "Full dataset ROC AUC=0.8275281670439228\n",
            "Drop in ROC AUC=-3.843208400855502e-06\n",
            "remove:  var_73\n",
            "\n",
            "testing feature:  var_142 165  out of  300\n",
            "New Test ROC AUC=0.8274583110794611\n",
            "Full dataset ROC AUC=0.8275320102523237\n",
            "Drop in ROC AUC=7.369917286259575e-05\n",
            "remove:  var_142\n",
            "\n",
            "testing feature:  var_71 166  out of  300\n",
            "New Test ROC AUC=0.827581971961534\n",
            "Full dataset ROC AUC=0.8274583110794611\n",
            "Drop in ROC AUC=-0.00012366088207294013\n",
            "remove:  var_71\n",
            "\n",
            "testing feature:  var_42 167  out of  300\n",
            "New Test ROC AUC=0.8273944459986832\n",
            "Full dataset ROC AUC=0.827581971961534\n",
            "Drop in ROC AUC=0.0001875259628508763\n",
            "remove:  var_42\n",
            "\n",
            "testing feature:  var_70 168  out of  300\n",
            "New Test ROC AUC=0.8274988908387522\n",
            "Full dataset ROC AUC=0.8273944459986832\n",
            "Drop in ROC AUC=-0.00010444484006899568\n",
            "remove:  var_70\n",
            "\n",
            "testing feature:  var_68 169  out of  300\n",
            "New Test ROC AUC=0.8275193502717092\n",
            "Full dataset ROC AUC=0.8274988908387522\n",
            "Drop in ROC AUC=-2.0459432957031787e-05\n",
            "remove:  var_68\n",
            "\n",
            "testing feature:  var_67 170  out of  300\n",
            "New Test ROC AUC=0.8275526957563634\n",
            "Full dataset ROC AUC=0.8275193502717092\n",
            "Drop in ROC AUC=-3.334548465416809e-05\n",
            "remove:  var_67\n",
            "\n",
            "testing feature:  var_66 171  out of  300\n",
            "New Test ROC AUC=0.8275348361408537\n",
            "Full dataset ROC AUC=0.8275526957563634\n",
            "Drop in ROC AUC=1.7859615509707716e-05\n",
            "remove:  var_66\n",
            "\n",
            "testing feature:  var_65 172  out of  300\n",
            "New Test ROC AUC=0.8275112117127429\n",
            "Full dataset ROC AUC=0.8275348361408537\n",
            "Drop in ROC AUC=2.3624428110768925e-05\n",
            "remove:  var_65\n",
            "\n",
            "testing feature:  var_64 173  out of  300\n",
            "New Test ROC AUC=0.8274866830003025\n",
            "Full dataset ROC AUC=0.8275112117127429\n",
            "Drop in ROC AUC=2.4528712440408107e-05\n",
            "remove:  var_64\n",
            "\n",
            "testing feature:  var_63 174  out of  300\n",
            "New Test ROC AUC=0.827583102316946\n",
            "Full dataset ROC AUC=0.8274866830003025\n",
            "Drop in ROC AUC=-9.641931664350345e-05\n",
            "remove:  var_63\n",
            "\n",
            "testing feature:  var_69 175  out of  300\n",
            "New Test ROC AUC=0.8275179938452147\n",
            "Full dataset ROC AUC=0.827583102316946\n",
            "Drop in ROC AUC=6.510847173124557e-05\n",
            "remove:  var_69\n",
            "\n",
            "testing feature:  var_78 176  out of  300\n",
            "New Test ROC AUC=0.8275332536432768\n",
            "Full dataset ROC AUC=0.8275179938452147\n",
            "Drop in ROC AUC=-1.5259798062050578e-05\n",
            "remove:  var_78\n",
            "\n",
            "testing feature:  var_41 177  out of  300\n",
            "New Test ROC AUC=0.8275940667644424\n",
            "Full dataset ROC AUC=0.8275332536432768\n",
            "Drop in ROC AUC=-6.081312116557047e-05\n",
            "remove:  var_41\n",
            "\n",
            "testing feature:  var_39 178  out of  300\n",
            "New Test ROC AUC=0.827435025757974\n",
            "Full dataset ROC AUC=0.8275940667644424\n",
            "Drop in ROC AUC=0.00015904100646835229\n",
            "remove:  var_39\n",
            "\n",
            "testing feature:  var_2 179  out of  300\n",
            "New Test ROC AUC=0.8274886046045028\n",
            "Full dataset ROC AUC=0.827435025757974\n",
            "Drop in ROC AUC=-5.357884652879008e-05\n",
            "remove:  var_2\n",
            "\n",
            "testing feature:  var_3 180  out of  300\n",
            "New Test ROC AUC=0.8275166374187206\n",
            "Full dataset ROC AUC=0.8274886046045028\n",
            "Drop in ROC AUC=-2.803281421781545e-05\n",
            "remove:  var_3\n",
            "\n",
            "testing feature:  var_5 181  out of  300\n",
            "New Test ROC AUC=0.8274925608484448\n",
            "Full dataset ROC AUC=0.8275166374187206\n",
            "Drop in ROC AUC=2.407657027581056e-05\n",
            "remove:  var_5\n",
            "\n",
            "testing feature:  var_6 182  out of  300\n",
            "New Test ROC AUC=0.8274747012329353\n",
            "Full dataset ROC AUC=0.8274925608484448\n",
            "Drop in ROC AUC=1.785961550948567e-05\n",
            "remove:  var_6\n",
            "\n",
            "testing feature:  var_7 183  out of  300\n",
            "New Test ROC AUC=0.8274636237498977\n",
            "Full dataset ROC AUC=0.8274747012329353\n",
            "Drop in ROC AUC=1.1077483037635893e-05\n",
            "remove:  var_7\n",
            "\n",
            "testing feature:  var_9 184  out of  300\n",
            "New Test ROC AUC=0.8274336693314795\n",
            "Full dataset ROC AUC=0.8274636237498977\n",
            "Drop in ROC AUC=2.9954418418132178e-05\n",
            "remove:  var_9\n",
            "\n",
            "testing feature:  var_10 185  out of  300\n",
            "New Test ROC AUC=0.8274583110794611\n",
            "Full dataset ROC AUC=0.8274336693314795\n",
            "Drop in ROC AUC=-2.4641747981557494e-05\n",
            "remove:  var_10\n",
            "\n",
            "testing feature:  var_11 186  out of  300\n",
            "New Test ROC AUC=0.8274673539227573\n",
            "Full dataset ROC AUC=0.8274583110794611\n",
            "Drop in ROC AUC=-9.042843296169778e-06\n",
            "remove:  var_11\n",
            "\n",
            "testing feature:  var_12 187  out of  300\n",
            "New Test ROC AUC=0.8274557112620137\n",
            "Full dataset ROC AUC=0.8274673539227573\n",
            "Drop in ROC AUC=1.1642660743604871e-05\n",
            "remove:  var_12\n",
            "\n",
            "testing feature:  var_13 188  out of  300\n",
            "New Test ROC AUC=0.8274804660455364\n",
            "Full dataset ROC AUC=0.8274557112620137\n",
            "Drop in ROC AUC=-2.475478352270688e-05\n",
            "remove:  var_13\n",
            "\n",
            "testing feature:  var_14 189  out of  300\n",
            "New Test ROC AUC=0.827526584546346\n",
            "Full dataset ROC AUC=0.8274804660455364\n",
            "Drop in ROC AUC=-4.6118500809599894e-05\n",
            "remove:  var_14\n",
            "\n",
            "testing feature:  var_15 190  out of  300\n",
            "New Test ROC AUC=0.8275167504542615\n",
            "Full dataset ROC AUC=0.827526584546346\n",
            "Drop in ROC AUC=9.834092084437529e-06\n",
            "remove:  var_15\n",
            "\n",
            "testing feature:  var_16 191  out of  300\n",
            "New Test ROC AUC=0.8275094031440837\n",
            "Full dataset ROC AUC=0.8275167504542615\n",
            "Drop in ROC AUC=7.3473101778187555e-06\n",
            "remove:  var_16\n",
            "\n",
            "testing feature:  var_19 192  out of  300\n",
            "New Test ROC AUC=0.827529410434876\n",
            "Full dataset ROC AUC=0.8275094031440837\n",
            "Drop in ROC AUC=-2.0007290792323218e-05\n",
            "remove:  var_19\n",
            "\n",
            "testing feature:  var_20 193  out of  300\n",
            "New Test ROC AUC=0.8275738334025677\n",
            "Full dataset ROC AUC=0.827529410434876\n",
            "Drop in ROC AUC=-4.442296769169296e-05\n",
            "remove:  var_20\n",
            "\n",
            "testing feature:  var_22 194  out of  300\n",
            "New Test ROC AUC=0.8275226283024041\n",
            "Full dataset ROC AUC=0.8275738334025677\n",
            "Drop in ROC AUC=5.120510016365376e-05\n",
            "remove:  var_22\n",
            "\n",
            "testing feature:  var_23 195  out of  300\n",
            "New Test ROC AUC=0.8274794487256656\n",
            "Full dataset ROC AUC=0.8275226283024041\n",
            "Drop in ROC AUC=4.3179576738494596e-05\n",
            "remove:  var_23\n",
            "\n",
            "testing feature:  var_38 196  out of  300\n",
            "New Test ROC AUC=0.8274318607628204\n",
            "Full dataset ROC AUC=0.8274794487256656\n",
            "Drop in ROC AUC=4.7587962845208054e-05\n",
            "remove:  var_38\n",
            "\n",
            "testing feature:  var_37 197  out of  300\n",
            "New Test ROC AUC=0.8274831788985253\n",
            "Full dataset ROC AUC=0.8274318607628204\n",
            "Drop in ROC AUC=-5.131813570491417e-05\n",
            "remove:  var_37\n",
            "\n",
            "testing feature:  var_36 198  out of  300\n",
            "New Test ROC AUC=0.8274698407046637\n",
            "Full dataset ROC AUC=0.8274831788985253\n",
            "Drop in ROC AUC=1.3338193861622827e-05\n",
            "remove:  var_36\n",
            "\n",
            "testing feature:  var_34 199  out of  300\n",
            "New Test ROC AUC=0.8274954997725161\n",
            "Full dataset ROC AUC=0.8274698407046637\n",
            "Drop in ROC AUC=-2.5659067852457085e-05\n",
            "remove:  var_34\n",
            "\n",
            "testing feature:  var_33 200  out of  300\n",
            "New Test ROC AUC=0.8275001342297053\n",
            "Full dataset ROC AUC=0.8274954997725161\n",
            "Drop in ROC AUC=-4.634457189123253e-06\n",
            "remove:  var_33\n",
            "\n",
            "testing feature:  var_32 201  out of  300\n",
            "New Test ROC AUC=0.8274019063444025\n",
            "Full dataset ROC AUC=0.8275001342297053\n",
            "Drop in ROC AUC=9.822788530278181e-05\n",
            "remove:  var_32\n",
            "\n",
            "testing feature:  var_40 202  out of  300\n",
            "New Test ROC AUC=0.827481935507572\n",
            "Full dataset ROC AUC=0.8274019063444025\n",
            "Drop in ROC AUC=-8.002916316951492e-05\n",
            "remove:  var_40\n",
            "\n",
            "testing feature:  var_31 203  out of  300\n",
            "New Test ROC AUC=0.827501151549576\n",
            "Full dataset ROC AUC=0.827481935507572\n",
            "Drop in ROC AUC=-1.9216042004055467e-05\n",
            "remove:  var_31\n",
            "\n",
            "testing feature:  var_29 204  out of  300\n",
            "New Test ROC AUC=0.8275408270245375\n",
            "Full dataset ROC AUC=0.827501151549576\n",
            "Drop in ROC AUC=-3.967547496142032e-05\n",
            "remove:  var_29\n",
            "\n",
            "testing feature:  var_28 205  out of  300\n",
            "New Test ROC AUC=0.8275659209146835\n",
            "Full dataset ROC AUC=0.8275408270245375\n",
            "Drop in ROC AUC=-2.5093890146044018e-05\n",
            "remove:  var_28\n",
            "\n",
            "testing feature:  var_27 206  out of  300\n",
            "New Test ROC AUC=0.8275221761602394\n",
            "Full dataset ROC AUC=0.8275659209146835\n",
            "Drop in ROC AUC=4.374475444413051e-05\n",
            "remove:  var_27\n",
            "\n",
            "testing feature:  var_26 207  out of  300\n",
            "New Test ROC AUC=0.8274366082555508\n",
            "Full dataset ROC AUC=0.8275221761602394\n",
            "Drop in ROC AUC=8.556790468861042e-05\n",
            "remove:  var_26\n",
            "\n",
            "testing feature:  var_25 208  out of  300\n",
            "New Test ROC AUC=0.8275027340471528\n",
            "Full dataset ROC AUC=0.8274366082555508\n",
            "Drop in ROC AUC=-6.612579160203413e-05\n",
            "remove:  var_25\n",
            "\n",
            "testing feature:  var_24 209  out of  300\n",
            "New Test ROC AUC=0.8274995690519993\n",
            "Full dataset ROC AUC=0.8275027340471528\n",
            "Drop in ROC AUC=3.1649951535150933e-06\n",
            "remove:  var_24\n",
            "\n",
            "testing feature:  var_30 210  out of  300\n",
            "New Test ROC AUC=0.827539018455878\n",
            "Full dataset ROC AUC=0.8274995690519993\n",
            "Drop in ROC AUC=-3.944940387867746e-05\n",
            "remove:  var_30\n",
            "\n",
            "testing feature:  var_79 211  out of  300\n",
            "New Test ROC AUC=0.8275196893783329\n",
            "Full dataset ROC AUC=0.827539018455878\n",
            "Drop in ROC AUC=1.932907754509383e-05\n",
            "remove:  var_79\n",
            "\n",
            "testing feature:  var_72 212  out of  300\n",
            "New Test ROC AUC=0.8274289218387492\n",
            "Full dataset ROC AUC=0.8275196893783329\n",
            "Drop in ROC AUC=9.076753958370265e-05\n",
            "remove:  var_72\n",
            "\n",
            "testing feature:  var_81 213  out of  300\n",
            "New Test ROC AUC=0.8274986647676695\n",
            "Full dataset ROC AUC=0.8274289218387492\n",
            "Drop in ROC AUC=-6.974292892036882e-05\n",
            "remove:  var_81\n",
            "\n",
            "testing feature:  var_108 214  out of  300\n",
            "New Test ROC AUC=0.8275356273896421\n",
            "Full dataset ROC AUC=0.8274986647676695\n",
            "Drop in ROC AUC=-3.6962621972613796e-05\n",
            "remove:  var_108\n",
            "\n",
            "testing feature:  var_109 215  out of  300\n",
            "New Test ROC AUC=0.8275554086093521\n",
            "Full dataset ROC AUC=0.8275356273896421\n",
            "Drop in ROC AUC=-1.9781219709913422e-05\n",
            "remove:  var_109\n",
            "\n",
            "testing feature:  var_80 216  out of  300\n",
            "New Test ROC AUC=0.8274596675059556\n",
            "Full dataset ROC AUC=0.8275554086093521\n",
            "Drop in ROC AUC=9.574110339649611e-05\n",
            "remove:  var_80\n",
            "\n",
            "testing feature:  var_112 217  out of  300\n",
            "New Test ROC AUC=0.8274019063444025\n",
            "Full dataset ROC AUC=0.8274596675059556\n",
            "Drop in ROC AUC=5.776116155309374e-05\n",
            "remove:  var_112\n",
            "\n",
            "testing feature:  var_113 218  out of  300\n",
            "New Test ROC AUC=0.8275080467175893\n",
            "Full dataset ROC AUC=0.8274019063444025\n",
            "Drop in ROC AUC=-0.00010614037318679159\n",
            "remove:  var_113\n",
            "\n",
            "testing feature:  var_114 219  out of  300\n",
            "New Test ROC AUC=0.8274917695996564\n",
            "Full dataset ROC AUC=0.8275080467175893\n",
            "Drop in ROC AUC=1.6277117932839147e-05\n",
            "remove:  var_114\n",
            "\n",
            "testing feature:  var_115 220  out of  300\n",
            "New Test ROC AUC=0.8275193502717092\n",
            "Full dataset ROC AUC=0.8274917695996564\n",
            "Drop in ROC AUC=-2.7580672052773814e-05\n",
            "remove:  var_115\n",
            "\n",
            "testing feature:  var_116 221  out of  300\n",
            "New Test ROC AUC=0.8274984386965873\n",
            "Full dataset ROC AUC=0.8275193502717092\n",
            "Drop in ROC AUC=2.0911575121851378e-05\n",
            "remove:  var_116\n",
            "\n",
            "testing feature:  var_117 222  out of  300\n",
            "New Test ROC AUC=0.8275329145366532\n",
            "Full dataset ROC AUC=0.8274984386965873\n",
            "Drop in ROC AUC=-3.4475840065884e-05\n",
            "remove:  var_117\n",
            "\n",
            "testing feature:  var_118 223  out of  300\n",
            "New Test ROC AUC=0.827501151549576\n",
            "Full dataset ROC AUC=0.8275329145366532\n",
            "Drop in ROC AUC=3.17629870771885e-05\n",
            "remove:  var_118\n",
            "\n",
            "testing feature:  var_119 224  out of  300\n",
            "New Test ROC AUC=0.827457067688508\n",
            "Full dataset ROC AUC=0.827501151549576\n",
            "Drop in ROC AUC=4.4083861068022756e-05\n",
            "remove:  var_119\n",
            "\n",
            "testing feature:  var_120 225  out of  300\n",
            "New Test ROC AUC=0.8274890567466676\n",
            "Full dataset ROC AUC=0.827457067688508\n",
            "Drop in ROC AUC=-3.1989058159598294e-05\n",
            "remove:  var_120\n",
            "\n",
            "testing feature:  var_122 226  out of  300\n",
            "New Test ROC AUC=0.8274413557482813\n",
            "Full dataset ROC AUC=0.8274890567466676\n",
            "Drop in ROC AUC=4.770099838635744e-05\n",
            "remove:  var_122\n",
            "\n",
            "testing feature:  var_123 227  out of  300\n",
            "New Test ROC AUC=0.8275298625770408\n",
            "Full dataset ROC AUC=0.8274413557482813\n",
            "Drop in ROC AUC=-8.850682875949367e-05\n",
            "remove:  var_123\n",
            "\n",
            "testing feature:  var_124 228  out of  300\n",
            "New Test ROC AUC=0.8275403748823724\n",
            "Full dataset ROC AUC=0.8275298625770408\n",
            "Drop in ROC AUC=-1.0512305331666916e-05\n",
            "remove:  var_124\n",
            "\n",
            "testing feature:  var_125 229  out of  300\n",
            "New Test ROC AUC=0.8275178808096736\n",
            "Full dataset ROC AUC=0.8275403748823724\n",
            "Drop in ROC AUC=2.249407269883097e-05\n",
            "remove:  var_125\n",
            "\n",
            "testing feature:  var_127 230  out of  300\n",
            "New Test ROC AUC=0.8275298625770408\n",
            "Full dataset ROC AUC=0.8275178808096736\n",
            "Drop in ROC AUC=-1.1981767367164053e-05\n",
            "remove:  var_127\n",
            "\n",
            "testing feature:  var_128 231  out of  300\n",
            "New Test ROC AUC=0.8275125681392371\n",
            "Full dataset ROC AUC=0.8275298625770408\n",
            "Drop in ROC AUC=1.7294437803627716e-05\n",
            "remove:  var_128\n",
            "\n",
            "testing feature:  var_129 232  out of  300\n",
            "New Test ROC AUC=0.8274378516465041\n",
            "Full dataset ROC AUC=0.8275125681392371\n",
            "Drop in ROC AUC=7.471649273305125e-05\n",
            "remove:  var_129\n",
            "\n",
            "testing feature:  var_130 233  out of  300\n",
            "New Test ROC AUC=0.8274904131731621\n",
            "Full dataset ROC AUC=0.8274378516465041\n",
            "Drop in ROC AUC=-5.256152665800151e-05\n",
            "remove:  var_130\n",
            "\n",
            "testing feature:  var_131 234  out of  300\n",
            "New Test ROC AUC=0.8274993429809169\n",
            "Full dataset ROC AUC=0.8274904131731621\n",
            "Drop in ROC AUC=-8.929807754798347e-06\n",
            "remove:  var_131\n",
            "\n",
            "testing feature:  var_133 235  out of  300\n",
            "New Test ROC AUC=0.8275271497240521\n",
            "Full dataset ROC AUC=0.8274993429809169\n",
            "Drop in ROC AUC=-2.780674313518361e-05\n",
            "remove:  var_133\n",
            "\n",
            "testing feature:  var_134 236  out of  300\n",
            "New Test ROC AUC=0.8275165243831792\n",
            "Full dataset ROC AUC=0.8275271497240521\n",
            "Drop in ROC AUC=1.0625340872816302e-05\n",
            "remove:  var_134\n",
            "\n",
            "testing feature:  var_135 237  out of  300\n",
            "New Test ROC AUC=0.827487022106926\n",
            "Full dataset ROC AUC=0.8275165243831792\n",
            "Drop in ROC AUC=2.9502276253201565e-05\n",
            "remove:  var_135\n",
            "\n",
            "testing feature:  var_136 238  out of  300\n",
            "New Test ROC AUC=0.8275437659486085\n",
            "Full dataset ROC AUC=0.827487022106926\n",
            "Drop in ROC AUC=-5.6743841682416196e-05\n",
            "remove:  var_136\n",
            "\n",
            "testing feature:  var_137 239  out of  300\n",
            "New Test ROC AUC=0.8274761706949708\n",
            "Full dataset ROC AUC=0.8275437659486085\n",
            "Drop in ROC AUC=6.75952536376423e-05\n",
            "remove:  var_137\n",
            "\n",
            "testing feature:  var_138 240  out of  300\n",
            "New Test ROC AUC=0.8274394341440808\n",
            "Full dataset ROC AUC=0.8274761706949708\n",
            "Drop in ROC AUC=3.6736550889981956e-05\n",
            "remove:  var_138\n",
            "\n",
            "testing feature:  var_139 241  out of  300\n",
            "New Test ROC AUC=0.8275079336820479\n",
            "Full dataset ROC AUC=0.8274394341440808\n",
            "Drop in ROC AUC=-6.849953796705943e-05\n",
            "remove:  var_139\n",
            "\n",
            "testing feature:  var_140 242  out of  300\n",
            "New Test ROC AUC=0.8274693885624989\n",
            "Full dataset ROC AUC=0.8275079336820479\n",
            "Drop in ROC AUC=3.8545119549038276e-05\n",
            "remove:  var_140\n",
            "\n",
            "testing feature:  var_106 243  out of  300\n",
            "New Test ROC AUC=0.8274760576594297\n",
            "Full dataset ROC AUC=0.8274693885624989\n",
            "Drop in ROC AUC=-6.669096930811413e-06\n",
            "remove:  var_106\n",
            "\n",
            "testing feature:  var_104 244  out of  300\n",
            "New Test ROC AUC=0.8274973083411754\n",
            "Full dataset ROC AUC=0.8274760576594297\n",
            "Drop in ROC AUC=-2.1250681745743627e-05\n",
            "remove:  var_104\n",
            "\n",
            "testing feature:  var_111 245  out of  300\n",
            "New Test ROC AUC=0.8275156200988496\n",
            "Full dataset ROC AUC=0.8274973083411754\n",
            "Drop in ROC AUC=-1.831175767419424e-05\n",
            "remove:  var_111\n",
            "\n",
            "testing feature:  var_93 246  out of  300\n",
            "New Test ROC AUC=0.8275108726061191\n",
            "Full dataset ROC AUC=0.8275156200988496\n",
            "Drop in ROC AUC=4.7474927304946846e-06\n",
            "remove:  var_93\n",
            "\n",
            "testing feature:  var_96 247  out of  300\n",
            "New Test ROC AUC=0.827493239061692\n",
            "Full dataset ROC AUC=0.8275108726061191\n",
            "Drop in ROC AUC=1.7633544427075876e-05\n",
            "remove:  var_96\n",
            "\n",
            "testing feature:  var_95 248  out of  300\n",
            "New Test ROC AUC=0.8275792591085451\n",
            "Full dataset ROC AUC=0.827493239061692\n",
            "Drop in ROC AUC=-8.602004685309694e-05\n",
            "remove:  var_95\n",
            "\n",
            "testing feature:  var_94 249  out of  300\n",
            "New Test ROC AUC=0.8274782053347125\n",
            "Full dataset ROC AUC=0.8275792591085451\n",
            "Drop in ROC AUC=0.0001010537738326267\n",
            "remove:  var_94\n",
            "\n",
            "testing feature:  var_92 250  out of  300\n",
            "New Test ROC AUC=0.8275493046901274\n",
            "Full dataset ROC AUC=0.8274782053347125\n",
            "Drop in ROC AUC=-7.109935541493861e-05\n",
            "remove:  var_92\n",
            "\n",
            "testing feature:  var_91 251  out of  300\n",
            "New Test ROC AUC=0.8275079336820479\n",
            "Full dataset ROC AUC=0.8275493046901274\n",
            "Drop in ROC AUC=4.13710080795493e-05\n",
            "remove:  var_91\n",
            "\n",
            "testing feature:  var_90 252  out of  300\n",
            "New Test ROC AUC=0.8274993429809169\n",
            "Full dataset ROC AUC=0.8275079336820479\n",
            "Drop in ROC AUC=8.59070113101712e-06\n",
            "remove:  var_90\n",
            "\n",
            "testing feature:  var_97 253  out of  300\n",
            "New Test ROC AUC=0.8274560503686372\n",
            "Full dataset ROC AUC=0.8274993429809169\n",
            "Drop in ROC AUC=4.329261227964398e-05\n",
            "remove:  var_97\n",
            "\n",
            "testing feature:  var_89 254  out of  300\n",
            "New Test ROC AUC=0.8275337057854416\n",
            "Full dataset ROC AUC=0.8274560503686372\n",
            "Drop in ROC AUC=-7.76554168043786e-05\n",
            "remove:  var_89\n",
            "\n",
            "testing feature:  var_87 255  out of  300\n",
            "New Test ROC AUC=0.8274852135382669\n",
            "Full dataset ROC AUC=0.8275337057854416\n",
            "Drop in ROC AUC=4.8492247174736214e-05\n",
            "remove:  var_87\n",
            "\n",
            "testing feature:  var_86 256  out of  300\n",
            "New Test ROC AUC=0.8274360430778449\n",
            "Full dataset ROC AUC=0.8274852135382669\n",
            "Drop in ROC AUC=4.91704604219656e-05\n",
            "remove:  var_86\n",
            "\n",
            "testing feature:  var_85 257  out of  300\n",
            "New Test ROC AUC=0.8274970822700929\n",
            "Full dataset ROC AUC=0.8274360430778449\n",
            "Drop in ROC AUC=-6.103919224798027e-05\n",
            "remove:  var_85\n",
            "\n",
            "testing feature:  var_84 258  out of  300\n",
            "New Test ROC AUC=0.8275295234704172\n",
            "Full dataset ROC AUC=0.8274970822700929\n",
            "Drop in ROC AUC=-3.244120032430686e-05\n",
            "remove:  var_84\n",
            "\n",
            "testing feature:  var_83 259  out of  300\n",
            "New Test ROC AUC=0.8274566155463432\n",
            "Full dataset ROC AUC=0.8275295234704172\n",
            "Drop in ROC AUC=7.290792407399493e-05\n",
            "remove:  var_83\n",
            "\n",
            "testing feature:  var_82 260  out of  300\n",
            "New Test ROC AUC=0.8275368707805952\n",
            "Full dataset ROC AUC=0.8274566155463432\n",
            "Drop in ROC AUC=-8.025523425203573e-05\n",
            "remove:  var_82\n",
            "\n",
            "testing feature:  var_88 261  out of  300\n",
            "New Test ROC AUC=0.8275295234704172\n",
            "Full dataset ROC AUC=0.8275368707805952\n",
            "Drop in ROC AUC=7.3473101780408e-06\n",
            "remove:  var_88\n",
            "\n",
            "testing feature:  var_98 262  out of  300\n",
            "New Test ROC AUC=0.827484761396102\n",
            "Full dataset ROC AUC=0.8275295234704172\n",
            "Drop in ROC AUC=4.476207431514112e-05\n",
            "remove:  var_98\n",
            "\n",
            "testing feature:  var_300 263  out of  300\n",
            "New Test ROC AUC=0.8274947085237276\n",
            "Full dataset ROC AUC=0.827484761396102\n",
            "Drop in ROC AUC=-9.947127625586916e-06\n",
            "remove:  var_300\n",
            "\n",
            "testing feature:  var_99 264  out of  300\n",
            "New Test ROC AUC=0.8275918060536186\n",
            "Full dataset ROC AUC=0.8274947085237276\n",
            "Drop in ROC AUC=-9.709752989095488e-05\n",
            "remove:  var_99\n",
            "\n",
            "testing feature:  var_100 265  out of  300\n",
            "New Test ROC AUC=0.8274976474477989\n",
            "Full dataset ROC AUC=0.8275918060536186\n",
            "Drop in ROC AUC=9.415860581973856e-05\n",
            "remove:  var_100\n",
            "\n",
            "testing feature:  var_103 266  out of  300\n",
            "New Test ROC AUC=0.8275079336820479\n",
            "Full dataset ROC AUC=0.8274976474477989\n",
            "Drop in ROC AUC=-1.0286234249035076e-05\n",
            "remove:  var_103\n",
            "\n",
            "testing feature:  var_102 267  out of  300\n",
            "New Test ROC AUC=0.82747232748657\n",
            "Full dataset ROC AUC=0.8275079336820479\n",
            "Drop in ROC AUC=3.560619547793298e-05\n",
            "remove:  var_102\n",
            "\n",
            "testing feature:  var_145 268  out of  300\n",
            "New Test ROC AUC=0.8274883785334203\n",
            "Full dataset ROC AUC=0.82747232748657\n",
            "Drop in ROC AUC=-1.605104685031833e-05\n",
            "remove:  var_145\n",
            "\n",
            "testing feature:  var_231 269  out of  300\n",
            "New Test ROC AUC=0.8267195672999483\n",
            "Full dataset ROC AUC=0.8274883785334203\n",
            "Drop in ROC AUC=0.0007688112334719444\n",
            "keep:  var_231\n",
            "\n",
            "testing feature:  var_216 270  out of  300\n",
            "New Test ROC AUC=0.8274852135382669\n",
            "Full dataset ROC AUC=0.8274883785334203\n",
            "Drop in ROC AUC=3.164995153404071e-06\n",
            "remove:  var_216\n",
            "\n",
            "testing feature:  var_208 271  out of  300\n",
            "New Test ROC AUC=0.8275314450746177\n",
            "Full dataset ROC AUC=0.8274852135382669\n",
            "Drop in ROC AUC=-4.62315363508603e-05\n",
            "remove:  var_208\n",
            "\n",
            "testing feature:  var_121 272  out of  300\n",
            "New Test ROC AUC=0.8275309929324527\n",
            "Full dataset ROC AUC=0.8275314450746177\n",
            "Drop in ROC AUC=4.5214216504163574e-07\n",
            "remove:  var_121\n",
            "\n",
            "testing feature:  var_17 273  out of  300\n",
            "New Test ROC AUC=0.8277718151529796\n",
            "Full dataset ROC AUC=0.8275309929324527\n",
            "Drop in ROC AUC=-0.00024082222052690394\n",
            "remove:  var_17\n",
            "\n",
            "testing feature:  var_271 274  out of  300\n",
            "New Test ROC AUC=0.8278304240810919\n",
            "Full dataset ROC AUC=0.8277718151529796\n",
            "Drop in ROC AUC=-5.8608928112269254e-05\n",
            "remove:  var_271\n",
            "\n",
            "testing feature:  var_244 275  out of  300\n",
            "New Test ROC AUC=0.8277362654752722\n",
            "Full dataset ROC AUC=0.8278304240810919\n",
            "Drop in ROC AUC=9.415860581962754e-05\n",
            "remove:  var_244\n",
            "\n",
            "testing feature:  var_101 276  out of  300\n",
            "New Test ROC AUC=0.8277366045818957\n",
            "Full dataset ROC AUC=0.8277362654752722\n",
            "Drop in ROC AUC=-3.391066234481599e-07\n",
            "remove:  var_101\n",
            "\n",
            "testing feature:  var_166 277  out of  300\n",
            "New Test ROC AUC=0.8272139282393867\n",
            "Full dataset ROC AUC=0.8277366045818957\n",
            "Drop in ROC AUC=0.0005226763425090208\n",
            "keep:  var_166\n",
            "\n",
            "testing feature:  var_296 278  out of  300\n",
            "New Test ROC AUC=0.8278110950035465\n",
            "Full dataset ROC AUC=0.8277366045818957\n",
            "Drop in ROC AUC=-7.44904216508635e-05\n",
            "remove:  var_296\n",
            "\n",
            "testing feature:  var_75 279  out of  300\n",
            "New Test ROC AUC=0.8272035289695963\n",
            "Full dataset ROC AUC=0.8278110950035465\n",
            "Drop in ROC AUC=0.0006075660339502909\n",
            "keep:  var_75\n",
            "\n",
            "testing feature:  var_126 280  out of  300\n",
            "New Test ROC AUC=0.8278026173379565\n",
            "Full dataset ROC AUC=0.8278110950035465\n",
            "Drop in ROC AUC=8.477665590089778e-06\n",
            "remove:  var_126\n",
            "\n",
            "testing feature:  var_262 281  out of  300\n",
            "New Test ROC AUC=0.8277722107773737\n",
            "Full dataset ROC AUC=0.8278026173379565\n",
            "Drop in ROC AUC=3.0406560582729725e-05\n",
            "remove:  var_262\n",
            "\n",
            "testing feature:  var_8 282  out of  300\n",
            "New Test ROC AUC=0.8276062180851215\n",
            "Full dataset ROC AUC=0.8277722107773737\n",
            "Drop in ROC AUC=0.0001659926922522592\n",
            "remove:  var_8\n",
            "\n",
            "testing feature:  var_50 283  out of  300\n",
            "New Test ROC AUC=0.8276727960188883\n",
            "Full dataset ROC AUC=0.8276062180851215\n",
            "Drop in ROC AUC=-6.657793376685373e-05\n",
            "remove:  var_50\n",
            "\n",
            "testing feature:  var_246 284  out of  300\n",
            "New Test ROC AUC=0.8277415781457084\n",
            "Full dataset ROC AUC=0.8276727960188883\n",
            "Drop in ROC AUC=-6.878212682004392e-05\n",
            "remove:  var_246\n",
            "\n",
            "testing feature:  var_21 285  out of  300\n",
            "New Test ROC AUC=0.8266959993896081\n",
            "Full dataset ROC AUC=0.8277415781457084\n",
            "Drop in ROC AUC=0.0010455787561002294\n",
            "keep:  var_21\n",
            "\n",
            "testing feature:  var_157 286  out of  300\n",
            "New Test ROC AUC=0.8258625318265694\n",
            "Full dataset ROC AUC=0.8277415781457084\n",
            "Drop in ROC AUC=0.0018790463191389328\n",
            "keep:  var_157\n",
            "\n",
            "testing feature:  var_105 287  out of  300\n",
            "New Test ROC AUC=0.8262670295107539\n",
            "Full dataset ROC AUC=0.8277415781457084\n",
            "Drop in ROC AUC=0.0014745486349544423\n",
            "keep:  var_105\n",
            "\n",
            "testing feature:  var_186 288  out of  300\n",
            "New Test ROC AUC=0.8277817057628345\n",
            "Full dataset ROC AUC=0.8277415781457084\n",
            "Drop in ROC AUC=-4.012761712612889e-05\n",
            "remove:  var_186\n",
            "\n",
            "testing feature:  var_222 289  out of  300\n",
            "New Test ROC AUC=0.8277817057628345\n",
            "Full dataset ROC AUC=0.8277817057628345\n",
            "Drop in ROC AUC=0.0\n",
            "remove:  var_222\n",
            "\n",
            "testing feature:  var_4 290  out of  300\n",
            "New Test ROC AUC=0.8278676127741464\n",
            "Full dataset ROC AUC=0.8277817057628345\n",
            "Drop in ROC AUC=-8.590701131194756e-05\n",
            "remove:  var_4\n",
            "\n",
            "testing feature:  var_18 291  out of  300\n",
            "New Test ROC AUC=0.8281919117418495\n",
            "Full dataset ROC AUC=0.8278676127741464\n",
            "Drop in ROC AUC=-0.00032429896770302946\n",
            "remove:  var_18\n",
            "\n",
            "testing feature:  var_107 292  out of  300\n",
            "New Test ROC AUC=0.8268639136860607\n",
            "Full dataset ROC AUC=0.8281919117418495\n",
            "Drop in ROC AUC=0.0013279980557887594\n",
            "keep:  var_107\n",
            "\n",
            "testing feature:  var_190 293  out of  300\n",
            "New Test ROC AUC=0.8292095142015028\n",
            "Full dataset ROC AUC=0.8281919117418495\n",
            "Drop in ROC AUC=-0.0010176024596533217\n",
            "remove:  var_190\n",
            "\n",
            "testing feature:  var_185 294  out of  300\n",
            "New Test ROC AUC=0.8278813465924024\n",
            "Full dataset ROC AUC=0.8292095142015028\n",
            "Drop in ROC AUC=0.0013281676091003725\n",
            "keep:  var_185\n",
            "\n",
            "testing feature:  var_173 295  out of  300\n",
            "New Test ROC AUC=0.8268259337442176\n",
            "Full dataset ROC AUC=0.8292095142015028\n",
            "Drop in ROC AUC=0.0023835804572851504\n",
            "keep:  var_173\n",
            "\n",
            "testing feature:  var_49 296  out of  300\n",
            "New Test ROC AUC=0.8290466299866335\n",
            "Full dataset ROC AUC=0.8292095142015028\n",
            "Drop in ROC AUC=0.0001628842148693188\n",
            "remove:  var_49\n",
            "\n",
            "testing feature:  var_132 297  out of  300\n",
            "New Test ROC AUC=0.8297178350302793\n",
            "Full dataset ROC AUC=0.8290466299866335\n",
            "Drop in ROC AUC=-0.0006712050436458172\n",
            "remove:  var_132\n",
            "\n",
            "testing feature:  var_46 298  out of  300\n",
            "New Test ROC AUC=0.8257214069533811\n",
            "Full dataset ROC AUC=0.8297178350302793\n",
            "Drop in ROC AUC=0.003996428076898151\n",
            "keep:  var_46\n",
            "\n",
            "testing feature:  var_35 299  out of  300\n",
            "New Test ROC AUC=0.812055862164461\n",
            "Full dataset ROC AUC=0.8297178350302793\n",
            "Drop in ROC AUC=0.017661972865818276\n",
            "keep:  var_35\n",
            "\n",
            "testing feature:  var_110 300  out of  300\n",
            "New Test ROC AUC=0.7557359602793108\n",
            "Full dataset ROC AUC=0.8297178350302793\n",
            "Drop in ROC AUC=0.07398187475096851\n",
            "keep:  var_110\n",
            "DONE!!\n",
            "total features to remove:  288\n",
            "total features to keep:  12\n"
          ]
        }
      ]
    },
    {
      "cell_type": "code",
      "source": [
        "model_final = GradientBoostingClassifier(n_estimators=10, max_depth=4, random_state=10)\n",
        "\n",
        "# fit the model with the selected features\n",
        "model_final.fit(X_train[features_to_keep], y_train)\n",
        "\n",
        "# make predictions\n",
        "y_pred_test = model_final.predict_proba(X_test[features_to_keep])[:, 1]\n",
        "\n",
        "# calculate roc-auc\n",
        "roc_final = roc_auc_score(y_test, y_pred_test)\n",
        "print('Test selected features ROC AUC=%f' % (roc_final))"
      ],
      "metadata": {
        "colab": {
          "base_uri": "https://localhost:8080/"
        },
        "id": "045sDciZe5kd",
        "outputId": "03045f66-91fd-433c-a71a-71f59f506384"
      },
      "execution_count": null,
      "outputs": [
        {
          "output_type": "stream",
          "name": "stdout",
          "text": [
            "Test selected features ROC AUC=0.829718\n"
          ]
        }
      ]
    }
  ],
  "metadata": {
    "colab": {
      "collapsed_sections": [
        "d06-kDgKl-T6",
        "H_bDTZ3LmBcF",
        "8gMp1l-Kmsbm",
        "PxauX6zemv-A",
        "7H_jvi_emynV",
        "RVVREVb4NhLd",
        "wwn3avrHPkKs",
        "rhX-YM1qPtb-",
        "ISwCMdQcVuLV",
        "Kbb5ajgoaFDW",
        "V9p56D6PaJSt",
        "Hzn7FklbXIqa",
        "UfboCE3rYQW6",
        "ZQNaiSBVfbEp",
        "u5W7r4LHOR9u",
        "-xI5DSsEyrKF",
        "LvIKsjaePbce",
        "WhgTzUYIJ0LT",
        "O3cZb7UTOgnS",
        "suAzn_PBWKBQ",
        "Gm5sPqjBc3tO"
      ],
      "provenance": []
    },
    "kernelspec": {
      "display_name": "Python 3",
      "name": "python3"
    },
    "language_info": {
      "name": "python"
    }
  },
  "nbformat": 4,
  "nbformat_minor": 0
}